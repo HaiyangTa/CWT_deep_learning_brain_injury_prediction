{
 "cells": [
  {
   "cell_type": "code",
   "execution_count": 35,
   "id": "76faf3da-90cd-4bc9-89b0-f614994c8e50",
   "metadata": {},
   "outputs": [],
   "source": [
    "import numpy as np \n",
    "import pandas as pd \n",
    "from pathlib import Path \n",
    "import ast \n",
    "import pandas as pd \n",
    "import matplotlib.pyplot as plt\n",
    "import pywt\n"
   ]
  },
  {
   "cell_type": "code",
   "execution_count": 37,
   "id": "ade78c63-1f30-4149-acd9-41c046d41a0f",
   "metadata": {},
   "outputs": [],
   "source": [
    "root = 'C:/Users/Haiya/Downloads/OneDrive_2025-09-19/patient_data_bigseconds/'\n",
    "csv = 'ID9-1_719_2.2.21.csv' \n",
    "csv_path = Path(root + csv)\n",
    "df = pd.read_csv(csv_path)"
   ]
  },
  {
   "cell_type": "code",
   "execution_count": 39,
   "id": "83caabd2-c670-42b1-9bae-ed3a10625060",
   "metadata": {},
   "outputs": [
    {
     "name": "stderr",
     "output_type": "stream",
     "text": [
      "C:\\Users\\Haiya\\AppData\\Local\\Temp\\ipykernel_4412\\2731162379.py:1: DtypeWarning: Columns (1,2,3,4,5,6,7,8,9,10,11,12,13,14,15,16,17,18,19,20,21,22,23,24,25,26,27,28,29,30,31,32,33,34,35,36,37,38,39,40,41,42,43,44,45,46,47,48,49,50,51,52,53,54,55,56,57,58,59,60,61) have mixed types. Specify dtype option on import or set low_memory=False.\n",
      "  df = pd.read_csv(csv_path)\n"
     ]
    }
   ],
   "source": []
  },
  {
   "cell_type": "code",
   "execution_count": 45,
   "id": "76035163-b9e8-4fc7-aea8-d4c573091380",
   "metadata": {},
   "outputs": [
    {
     "data": {
      "text/html": [
       "<div>\n",
       "<style scoped>\n",
       "    .dataframe tbody tr th:only-of-type {\n",
       "        vertical-align: middle;\n",
       "    }\n",
       "\n",
       "    .dataframe tbody tr th {\n",
       "        vertical-align: top;\n",
       "    }\n",
       "\n",
       "    .dataframe thead th {\n",
       "        text-align: right;\n",
       "    }\n",
       "</style>\n",
       "<table border=\"1\" class=\"dataframe\">\n",
       "  <thead>\n",
       "    <tr style=\"text-align: right;\">\n",
       "      <th></th>\n",
       "      <th>ClockDateTime</th>\n",
       "      <th>Time</th>\n",
       "      <th>ADR global, 8-13/1-4 Hz, All 1020 No FP</th>\n",
       "      <th>ADR left, 8-13/1-4 Hz, Left Hemi (No Fp)</th>\n",
       "      <th>ADR right, 8-13/1-4 Hz, Right Hemi (No Fp)</th>\n",
       "      <th>TDR global , 4-8/1-4 Hz, All 1020 No FP</th>\n",
       "      <th>TDR left, 4-8/1-4 Hz, Left Hemi (No Fp)</th>\n",
       "      <th>TDR left, 4-8/1-4 Hz, Right Hemi (No Fp)</th>\n",
       "      <th>ATDR global , 4-13/1-4 Hz, All 1020 No FP</th>\n",
       "      <th>ATDR left, 4-13/1-4 Hz, Left Hemi (No Fp)</th>\n",
       "      <th>...</th>\n",
       "      <th>Amplitude 5th%ile 1 hour, SumValuesMin, aEEG All 1020 No FP_avg, [aEEG All 1020 No FP_avg]</th>\n",
       "      <th>Amplitude 95%ile 1 hour, SumValuesMax, aEEG All 1020 No FP_avg, [aEEG All 1020 No FP_avg]</th>\n",
       "      <th>Rel alpha variability left, FFT PowerRatio, 6-14/1-20 Hz, Left Hemisphere</th>\n",
       "      <th>Rel alpha varibility right , FFT PowerRatio, 6-14/1-20 Hz, Right Hemisphere</th>\n",
       "      <th>Asymmetry, Absolute Index (EASI) , 0 - 20 Hz, Asym Hemi</th>\n",
       "      <th>Asymmetry, Relative Index (REASI) 0-5 hz, 0 - 5 Hz, Asym Hemi</th>\n",
       "      <th>Asymmetry, Relative Index (REASI) 6-14 hz, 6 - 14 Hz, Asym Hemi</th>\n",
       "      <th>Asymmetry, Relative Index (REASI) 0 -20hz, 0 - 20 Hz, Asym Hemi</th>\n",
       "      <th>Seizure probability</th>\n",
       "      <th>Comment</th>\n",
       "    </tr>\n",
       "  </thead>\n",
       "  <tbody>\n",
       "    <tr>\n",
       "      <th>0</th>\n",
       "      <td>NaN</td>\n",
       "      <td>Time</td>\n",
       "      <td>I1_1</td>\n",
       "      <td>I2_1</td>\n",
       "      <td>I3_1</td>\n",
       "      <td>I4_1</td>\n",
       "      <td>I5_1</td>\n",
       "      <td>I6_1</td>\n",
       "      <td>I7_1</td>\n",
       "      <td>I8_1</td>\n",
       "      <td>...</td>\n",
       "      <td>I39_1</td>\n",
       "      <td>I40_1</td>\n",
       "      <td>I41_1</td>\n",
       "      <td>I42_1</td>\n",
       "      <td>I43_1</td>\n",
       "      <td>I44_1</td>\n",
       "      <td>I45_1</td>\n",
       "      <td>I46_1</td>\n",
       "      <td>I47_1</td>\n",
       "      <td>I48_1</td>\n",
       "    </tr>\n",
       "    <tr>\n",
       "      <th>1</th>\n",
       "      <td>2740.000003</td>\n",
       "      <td>0</td>\n",
       "      <td>0</td>\n",
       "      <td>0</td>\n",
       "      <td>0</td>\n",
       "      <td>0</td>\n",
       "      <td>0</td>\n",
       "      <td>0</td>\n",
       "      <td>0</td>\n",
       "      <td>0</td>\n",
       "      <td>...</td>\n",
       "      <td>0</td>\n",
       "      <td>0</td>\n",
       "      <td>0</td>\n",
       "      <td>0</td>\n",
       "      <td>0</td>\n",
       "      <td>0</td>\n",
       "      <td>0</td>\n",
       "      <td>0</td>\n",
       "      <td>0</td>\n",
       "      <td>0</td>\n",
       "    </tr>\n",
       "    <tr>\n",
       "      <th>2</th>\n",
       "      <td>2740.999997</td>\n",
       "      <td>1</td>\n",
       "      <td>0</td>\n",
       "      <td>0</td>\n",
       "      <td>0</td>\n",
       "      <td>0</td>\n",
       "      <td>0</td>\n",
       "      <td>0</td>\n",
       "      <td>0</td>\n",
       "      <td>0</td>\n",
       "      <td>...</td>\n",
       "      <td>6.08765</td>\n",
       "      <td>14.2522</td>\n",
       "      <td>0</td>\n",
       "      <td>0</td>\n",
       "      <td>0</td>\n",
       "      <td>0</td>\n",
       "      <td>0</td>\n",
       "      <td>0</td>\n",
       "      <td>0</td>\n",
       "      <td>0</td>\n",
       "    </tr>\n",
       "    <tr>\n",
       "      <th>3</th>\n",
       "      <td>2741.999999</td>\n",
       "      <td>2</td>\n",
       "      <td>0</td>\n",
       "      <td>0</td>\n",
       "      <td>0</td>\n",
       "      <td>0</td>\n",
       "      <td>0</td>\n",
       "      <td>0</td>\n",
       "      <td>0</td>\n",
       "      <td>0</td>\n",
       "      <td>...</td>\n",
       "      <td>6.08765</td>\n",
       "      <td>14.2522</td>\n",
       "      <td>0</td>\n",
       "      <td>0</td>\n",
       "      <td>0</td>\n",
       "      <td>0</td>\n",
       "      <td>0</td>\n",
       "      <td>0</td>\n",
       "      <td>0</td>\n",
       "      <td>0</td>\n",
       "    </tr>\n",
       "    <tr>\n",
       "      <th>4</th>\n",
       "      <td>2743.000001</td>\n",
       "      <td>3</td>\n",
       "      <td>0</td>\n",
       "      <td>0</td>\n",
       "      <td>0</td>\n",
       "      <td>0</td>\n",
       "      <td>0</td>\n",
       "      <td>0</td>\n",
       "      <td>0</td>\n",
       "      <td>0</td>\n",
       "      <td>...</td>\n",
       "      <td>6.08765</td>\n",
       "      <td>15.2518</td>\n",
       "      <td>0</td>\n",
       "      <td>0</td>\n",
       "      <td>0</td>\n",
       "      <td>0</td>\n",
       "      <td>0</td>\n",
       "      <td>0</td>\n",
       "      <td>0</td>\n",
       "      <td>0</td>\n",
       "    </tr>\n",
       "  </tbody>\n",
       "</table>\n",
       "<p>5 rows × 62 columns</p>\n",
       "</div>"
      ],
      "text/plain": [
       "   ClockDateTime  Time ADR global, 8-13/1-4 Hz, All 1020 No FP  \\\n",
       "0            NaN  Time                                    I1_1   \n",
       "1    2740.000003     0                                       0   \n",
       "2    2740.999997     1                                       0   \n",
       "3    2741.999999     2                                       0   \n",
       "4    2743.000001     3                                       0   \n",
       "\n",
       "  ADR left, 8-13/1-4 Hz, Left Hemi (No Fp)  \\\n",
       "0                                     I2_1   \n",
       "1                                        0   \n",
       "2                                        0   \n",
       "3                                        0   \n",
       "4                                        0   \n",
       "\n",
       "  ADR right, 8-13/1-4 Hz, Right Hemi (No Fp)  \\\n",
       "0                                       I3_1   \n",
       "1                                          0   \n",
       "2                                          0   \n",
       "3                                          0   \n",
       "4                                          0   \n",
       "\n",
       "  TDR global , 4-8/1-4 Hz, All 1020 No FP  \\\n",
       "0                                    I4_1   \n",
       "1                                       0   \n",
       "2                                       0   \n",
       "3                                       0   \n",
       "4                                       0   \n",
       "\n",
       "  TDR left, 4-8/1-4 Hz, Left Hemi (No Fp)  \\\n",
       "0                                    I5_1   \n",
       "1                                       0   \n",
       "2                                       0   \n",
       "3                                       0   \n",
       "4                                       0   \n",
       "\n",
       "  TDR left, 4-8/1-4 Hz, Right Hemi (No Fp)  \\\n",
       "0                                     I6_1   \n",
       "1                                        0   \n",
       "2                                        0   \n",
       "3                                        0   \n",
       "4                                        0   \n",
       "\n",
       "  ATDR global , 4-13/1-4 Hz, All 1020 No FP  \\\n",
       "0                                      I7_1   \n",
       "1                                         0   \n",
       "2                                         0   \n",
       "3                                         0   \n",
       "4                                         0   \n",
       "\n",
       "  ATDR left, 4-13/1-4 Hz, Left Hemi (No Fp)  ...  \\\n",
       "0                                      I8_1  ...   \n",
       "1                                         0  ...   \n",
       "2                                         0  ...   \n",
       "3                                         0  ...   \n",
       "4                                         0  ...   \n",
       "\n",
       "  Amplitude 5th%ile 1 hour, SumValuesMin, aEEG All 1020 No FP_avg, [aEEG All 1020 No FP_avg]  \\\n",
       "0                                              I39_1                                           \n",
       "1                                                  0                                           \n",
       "2                                            6.08765                                           \n",
       "3                                            6.08765                                           \n",
       "4                                            6.08765                                           \n",
       "\n",
       "  Amplitude 95%ile 1 hour, SumValuesMax, aEEG All 1020 No FP_avg, [aEEG All 1020 No FP_avg]  \\\n",
       "0                                              I40_1                                          \n",
       "1                                                  0                                          \n",
       "2                                            14.2522                                          \n",
       "3                                            14.2522                                          \n",
       "4                                            15.2518                                          \n",
       "\n",
       "  Rel alpha variability left, FFT PowerRatio, 6-14/1-20 Hz, Left Hemisphere  \\\n",
       "0                                              I41_1                          \n",
       "1                                                  0                          \n",
       "2                                                  0                          \n",
       "3                                                  0                          \n",
       "4                                                  0                          \n",
       "\n",
       "  Rel alpha varibility right , FFT PowerRatio, 6-14/1-20 Hz, Right Hemisphere  \\\n",
       "0                                              I42_1                            \n",
       "1                                                  0                            \n",
       "2                                                  0                            \n",
       "3                                                  0                            \n",
       "4                                                  0                            \n",
       "\n",
       "  Asymmetry, Absolute Index (EASI) , 0 - 20 Hz, Asym Hemi  \\\n",
       "0                                              I43_1        \n",
       "1                                                  0        \n",
       "2                                                  0        \n",
       "3                                                  0        \n",
       "4                                                  0        \n",
       "\n",
       "  Asymmetry, Relative Index (REASI) 0-5 hz, 0 - 5 Hz, Asym Hemi  \\\n",
       "0                                              I44_1              \n",
       "1                                                  0              \n",
       "2                                                  0              \n",
       "3                                                  0              \n",
       "4                                                  0              \n",
       "\n",
       "  Asymmetry, Relative Index (REASI) 6-14 hz, 6 - 14 Hz, Asym Hemi  \\\n",
       "0                                              I45_1                \n",
       "1                                                  0                \n",
       "2                                                  0                \n",
       "3                                                  0                \n",
       "4                                                  0                \n",
       "\n",
       "  Asymmetry, Relative Index (REASI) 0 -20hz, 0 - 20 Hz, Asym Hemi  \\\n",
       "0                                              I46_1                \n",
       "1                                                  0                \n",
       "2                                                  0                \n",
       "3                                                  0                \n",
       "4                                                  0                \n",
       "\n",
       "  Seizure probability  Comment  \n",
       "0                I47_1   I48_1  \n",
       "1                    0       0  \n",
       "2                    0       0  \n",
       "3                    0       0  \n",
       "4                    0       0  \n",
       "\n",
       "[5 rows x 62 columns]"
      ]
     },
     "execution_count": 45,
     "metadata": {},
     "output_type": "execute_result"
    }
   ],
   "source": [
    "df.head()"
   ]
  },
  {
   "cell_type": "code",
   "execution_count": 47,
   "id": "4db588cb-3596-48b6-a9d5-994d64aaf1b6",
   "metadata": {},
   "outputs": [
    {
     "data": {
      "text/html": [
       "<div>\n",
       "<style scoped>\n",
       "    .dataframe tbody tr th:only-of-type {\n",
       "        vertical-align: middle;\n",
       "    }\n",
       "\n",
       "    .dataframe tbody tr th {\n",
       "        vertical-align: top;\n",
       "    }\n",
       "\n",
       "    .dataframe thead th {\n",
       "        text-align: right;\n",
       "    }\n",
       "</style>\n",
       "<table border=\"1\" class=\"dataframe\">\n",
       "  <thead>\n",
       "    <tr style=\"text-align: right;\">\n",
       "      <th></th>\n",
       "      <th>ClockDateTime</th>\n",
       "      <th>Time</th>\n",
       "      <th>ADR global, 8-13/1-4 Hz, All 1020 No FP</th>\n",
       "      <th>ADR left, 8-13/1-4 Hz, Left Hemi (No Fp)</th>\n",
       "      <th>ADR right, 8-13/1-4 Hz, Right Hemi (No Fp)</th>\n",
       "      <th>TDR global , 4-8/1-4 Hz, All 1020 No FP</th>\n",
       "      <th>TDR left, 4-8/1-4 Hz, Left Hemi (No Fp)</th>\n",
       "      <th>TDR left, 4-8/1-4 Hz, Right Hemi (No Fp)</th>\n",
       "      <th>ATDR global , 4-13/1-4 Hz, All 1020 No FP</th>\n",
       "      <th>ATDR left, 4-13/1-4 Hz, Left Hemi (No Fp)</th>\n",
       "      <th>...</th>\n",
       "      <th>Amplitude 5th%ile 1 hour, SumValuesMin, aEEG All 1020 No FP_avg, [aEEG All 1020 No FP_avg]</th>\n",
       "      <th>Amplitude 95%ile 1 hour, SumValuesMax, aEEG All 1020 No FP_avg, [aEEG All 1020 No FP_avg]</th>\n",
       "      <th>Rel alpha variability left, FFT PowerRatio, 6-14/1-20 Hz, Left Hemisphere</th>\n",
       "      <th>Rel alpha varibility right , FFT PowerRatio, 6-14/1-20 Hz, Right Hemisphere</th>\n",
       "      <th>Asymmetry, Absolute Index (EASI) , 0 - 20 Hz, Asym Hemi</th>\n",
       "      <th>Asymmetry, Relative Index (REASI) 0-5 hz, 0 - 5 Hz, Asym Hemi</th>\n",
       "      <th>Asymmetry, Relative Index (REASI) 6-14 hz, 6 - 14 Hz, Asym Hemi</th>\n",
       "      <th>Asymmetry, Relative Index (REASI) 0 -20hz, 0 - 20 Hz, Asym Hemi</th>\n",
       "      <th>Seizure probability</th>\n",
       "      <th>Comment</th>\n",
       "    </tr>\n",
       "  </thead>\n",
       "  <tbody>\n",
       "    <tr>\n",
       "      <th>1</th>\n",
       "      <td>2740.000003</td>\n",
       "      <td>0</td>\n",
       "      <td>0</td>\n",
       "      <td>0</td>\n",
       "      <td>0</td>\n",
       "      <td>0</td>\n",
       "      <td>0</td>\n",
       "      <td>0</td>\n",
       "      <td>0</td>\n",
       "      <td>0</td>\n",
       "      <td>...</td>\n",
       "      <td>0</td>\n",
       "      <td>0</td>\n",
       "      <td>0</td>\n",
       "      <td>0</td>\n",
       "      <td>0</td>\n",
       "      <td>0</td>\n",
       "      <td>0</td>\n",
       "      <td>0</td>\n",
       "      <td>0</td>\n",
       "      <td>0</td>\n",
       "    </tr>\n",
       "    <tr>\n",
       "      <th>2</th>\n",
       "      <td>2740.999997</td>\n",
       "      <td>1</td>\n",
       "      <td>0</td>\n",
       "      <td>0</td>\n",
       "      <td>0</td>\n",
       "      <td>0</td>\n",
       "      <td>0</td>\n",
       "      <td>0</td>\n",
       "      <td>0</td>\n",
       "      <td>0</td>\n",
       "      <td>...</td>\n",
       "      <td>6.08765</td>\n",
       "      <td>14.2522</td>\n",
       "      <td>0</td>\n",
       "      <td>0</td>\n",
       "      <td>0</td>\n",
       "      <td>0</td>\n",
       "      <td>0</td>\n",
       "      <td>0</td>\n",
       "      <td>0</td>\n",
       "      <td>0</td>\n",
       "    </tr>\n",
       "    <tr>\n",
       "      <th>3</th>\n",
       "      <td>2741.999999</td>\n",
       "      <td>2</td>\n",
       "      <td>0</td>\n",
       "      <td>0</td>\n",
       "      <td>0</td>\n",
       "      <td>0</td>\n",
       "      <td>0</td>\n",
       "      <td>0</td>\n",
       "      <td>0</td>\n",
       "      <td>0</td>\n",
       "      <td>...</td>\n",
       "      <td>6.08765</td>\n",
       "      <td>14.2522</td>\n",
       "      <td>0</td>\n",
       "      <td>0</td>\n",
       "      <td>0</td>\n",
       "      <td>0</td>\n",
       "      <td>0</td>\n",
       "      <td>0</td>\n",
       "      <td>0</td>\n",
       "      <td>0</td>\n",
       "    </tr>\n",
       "    <tr>\n",
       "      <th>4</th>\n",
       "      <td>2743.000001</td>\n",
       "      <td>3</td>\n",
       "      <td>0</td>\n",
       "      <td>0</td>\n",
       "      <td>0</td>\n",
       "      <td>0</td>\n",
       "      <td>0</td>\n",
       "      <td>0</td>\n",
       "      <td>0</td>\n",
       "      <td>0</td>\n",
       "      <td>...</td>\n",
       "      <td>6.08765</td>\n",
       "      <td>15.2518</td>\n",
       "      <td>0</td>\n",
       "      <td>0</td>\n",
       "      <td>0</td>\n",
       "      <td>0</td>\n",
       "      <td>0</td>\n",
       "      <td>0</td>\n",
       "      <td>0</td>\n",
       "      <td>0</td>\n",
       "    </tr>\n",
       "    <tr>\n",
       "      <th>5</th>\n",
       "      <td>2744.000003</td>\n",
       "      <td>4</td>\n",
       "      <td>0</td>\n",
       "      <td>0</td>\n",
       "      <td>0</td>\n",
       "      <td>0</td>\n",
       "      <td>0</td>\n",
       "      <td>0</td>\n",
       "      <td>0</td>\n",
       "      <td>0</td>\n",
       "      <td>...</td>\n",
       "      <td>6.08765</td>\n",
       "      <td>19.2516</td>\n",
       "      <td>0</td>\n",
       "      <td>0</td>\n",
       "      <td>0</td>\n",
       "      <td>0</td>\n",
       "      <td>0</td>\n",
       "      <td>0</td>\n",
       "      <td>0</td>\n",
       "      <td>0</td>\n",
       "    </tr>\n",
       "    <tr>\n",
       "      <th>...</th>\n",
       "      <td>...</td>\n",
       "      <td>...</td>\n",
       "      <td>...</td>\n",
       "      <td>...</td>\n",
       "      <td>...</td>\n",
       "      <td>...</td>\n",
       "      <td>...</td>\n",
       "      <td>...</td>\n",
       "      <td>...</td>\n",
       "      <td>...</td>\n",
       "      <td>...</td>\n",
       "      <td>...</td>\n",
       "      <td>...</td>\n",
       "      <td>...</td>\n",
       "      <td>...</td>\n",
       "      <td>...</td>\n",
       "      <td>...</td>\n",
       "      <td>...</td>\n",
       "      <td>...</td>\n",
       "      <td>...</td>\n",
       "      <td>...</td>\n",
       "    </tr>\n",
       "    <tr>\n",
       "      <th>80962</th>\n",
       "      <td>86409.999997</td>\n",
       "      <td>80961</td>\n",
       "      <td>0.0</td>\n",
       "      <td>0.0</td>\n",
       "      <td>0.0</td>\n",
       "      <td>0.0</td>\n",
       "      <td>0.0</td>\n",
       "      <td>0.0</td>\n",
       "      <td>0.0</td>\n",
       "      <td>0.0</td>\n",
       "      <td>...</td>\n",
       "      <td>0.0</td>\n",
       "      <td>0.0</td>\n",
       "      <td>0.0</td>\n",
       "      <td>0.0</td>\n",
       "      <td>0.0</td>\n",
       "      <td>0.0</td>\n",
       "      <td>0.0</td>\n",
       "      <td>0.0</td>\n",
       "      <td>0</td>\n",
       "      <td>0</td>\n",
       "    </tr>\n",
       "    <tr>\n",
       "      <th>80963</th>\n",
       "      <td>86410.999999</td>\n",
       "      <td>80962</td>\n",
       "      <td>0.0</td>\n",
       "      <td>0.0</td>\n",
       "      <td>0.0</td>\n",
       "      <td>0.0</td>\n",
       "      <td>0.0</td>\n",
       "      <td>0.0</td>\n",
       "      <td>0.0</td>\n",
       "      <td>0.0</td>\n",
       "      <td>...</td>\n",
       "      <td>0.0</td>\n",
       "      <td>0.0</td>\n",
       "      <td>0.0</td>\n",
       "      <td>0.0</td>\n",
       "      <td>0.0</td>\n",
       "      <td>0.0</td>\n",
       "      <td>0.0</td>\n",
       "      <td>0.0</td>\n",
       "      <td>0</td>\n",
       "      <td>0</td>\n",
       "    </tr>\n",
       "    <tr>\n",
       "      <th>80964</th>\n",
       "      <td>86412.000001</td>\n",
       "      <td>80963</td>\n",
       "      <td>0.0</td>\n",
       "      <td>0.0</td>\n",
       "      <td>0.0</td>\n",
       "      <td>0.0</td>\n",
       "      <td>0.0</td>\n",
       "      <td>0.0</td>\n",
       "      <td>0.0</td>\n",
       "      <td>0.0</td>\n",
       "      <td>...</td>\n",
       "      <td>0.0</td>\n",
       "      <td>0.0</td>\n",
       "      <td>0.0</td>\n",
       "      <td>0.0</td>\n",
       "      <td>0.0</td>\n",
       "      <td>0.0</td>\n",
       "      <td>0.0</td>\n",
       "      <td>0.0</td>\n",
       "      <td>0</td>\n",
       "      <td>0</td>\n",
       "    </tr>\n",
       "    <tr>\n",
       "      <th>80965</th>\n",
       "      <td>86413.000003</td>\n",
       "      <td>80964</td>\n",
       "      <td>0.0</td>\n",
       "      <td>0.0</td>\n",
       "      <td>0.0</td>\n",
       "      <td>0.0</td>\n",
       "      <td>0.0</td>\n",
       "      <td>0.0</td>\n",
       "      <td>0.0</td>\n",
       "      <td>0.0</td>\n",
       "      <td>...</td>\n",
       "      <td>0.0</td>\n",
       "      <td>0.0</td>\n",
       "      <td>0.0</td>\n",
       "      <td>0.0</td>\n",
       "      <td>0.0</td>\n",
       "      <td>0.0</td>\n",
       "      <td>0.0</td>\n",
       "      <td>0.0</td>\n",
       "      <td>0</td>\n",
       "      <td>0</td>\n",
       "    </tr>\n",
       "    <tr>\n",
       "      <th>80966</th>\n",
       "      <td>86413.999997</td>\n",
       "      <td>80965</td>\n",
       "      <td>0.0</td>\n",
       "      <td>0.0</td>\n",
       "      <td>0.0</td>\n",
       "      <td>0.0</td>\n",
       "      <td>0.0</td>\n",
       "      <td>0.0</td>\n",
       "      <td>0.0</td>\n",
       "      <td>0.0</td>\n",
       "      <td>...</td>\n",
       "      <td>0.0</td>\n",
       "      <td>0.0</td>\n",
       "      <td>0.0</td>\n",
       "      <td>0.0</td>\n",
       "      <td>0.0</td>\n",
       "      <td>0.0</td>\n",
       "      <td>0.0</td>\n",
       "      <td>0.0</td>\n",
       "      <td>0</td>\n",
       "      <td>0</td>\n",
       "    </tr>\n",
       "  </tbody>\n",
       "</table>\n",
       "<p>80966 rows × 62 columns</p>\n",
       "</div>"
      ],
      "text/plain": [
       "       ClockDateTime   Time ADR global, 8-13/1-4 Hz, All 1020 No FP  \\\n",
       "1        2740.000003      0                                       0   \n",
       "2        2740.999997      1                                       0   \n",
       "3        2741.999999      2                                       0   \n",
       "4        2743.000001      3                                       0   \n",
       "5        2744.000003      4                                       0   \n",
       "...              ...    ...                                     ...   \n",
       "80962   86409.999997  80961                                     0.0   \n",
       "80963   86410.999999  80962                                     0.0   \n",
       "80964   86412.000001  80963                                     0.0   \n",
       "80965   86413.000003  80964                                     0.0   \n",
       "80966   86413.999997  80965                                     0.0   \n",
       "\n",
       "      ADR left, 8-13/1-4 Hz, Left Hemi (No Fp)  \\\n",
       "1                                            0   \n",
       "2                                            0   \n",
       "3                                            0   \n",
       "4                                            0   \n",
       "5                                            0   \n",
       "...                                        ...   \n",
       "80962                                      0.0   \n",
       "80963                                      0.0   \n",
       "80964                                      0.0   \n",
       "80965                                      0.0   \n",
       "80966                                      0.0   \n",
       "\n",
       "      ADR right, 8-13/1-4 Hz, Right Hemi (No Fp)  \\\n",
       "1                                              0   \n",
       "2                                              0   \n",
       "3                                              0   \n",
       "4                                              0   \n",
       "5                                              0   \n",
       "...                                          ...   \n",
       "80962                                        0.0   \n",
       "80963                                        0.0   \n",
       "80964                                        0.0   \n",
       "80965                                        0.0   \n",
       "80966                                        0.0   \n",
       "\n",
       "      TDR global , 4-8/1-4 Hz, All 1020 No FP  \\\n",
       "1                                           0   \n",
       "2                                           0   \n",
       "3                                           0   \n",
       "4                                           0   \n",
       "5                                           0   \n",
       "...                                       ...   \n",
       "80962                                     0.0   \n",
       "80963                                     0.0   \n",
       "80964                                     0.0   \n",
       "80965                                     0.0   \n",
       "80966                                     0.0   \n",
       "\n",
       "      TDR left, 4-8/1-4 Hz, Left Hemi (No Fp)  \\\n",
       "1                                           0   \n",
       "2                                           0   \n",
       "3                                           0   \n",
       "4                                           0   \n",
       "5                                           0   \n",
       "...                                       ...   \n",
       "80962                                     0.0   \n",
       "80963                                     0.0   \n",
       "80964                                     0.0   \n",
       "80965                                     0.0   \n",
       "80966                                     0.0   \n",
       "\n",
       "      TDR left, 4-8/1-4 Hz, Right Hemi (No Fp)  \\\n",
       "1                                            0   \n",
       "2                                            0   \n",
       "3                                            0   \n",
       "4                                            0   \n",
       "5                                            0   \n",
       "...                                        ...   \n",
       "80962                                      0.0   \n",
       "80963                                      0.0   \n",
       "80964                                      0.0   \n",
       "80965                                      0.0   \n",
       "80966                                      0.0   \n",
       "\n",
       "      ATDR global , 4-13/1-4 Hz, All 1020 No FP  \\\n",
       "1                                             0   \n",
       "2                                             0   \n",
       "3                                             0   \n",
       "4                                             0   \n",
       "5                                             0   \n",
       "...                                         ...   \n",
       "80962                                       0.0   \n",
       "80963                                       0.0   \n",
       "80964                                       0.0   \n",
       "80965                                       0.0   \n",
       "80966                                       0.0   \n",
       "\n",
       "      ATDR left, 4-13/1-4 Hz, Left Hemi (No Fp)  ...  \\\n",
       "1                                             0  ...   \n",
       "2                                             0  ...   \n",
       "3                                             0  ...   \n",
       "4                                             0  ...   \n",
       "5                                             0  ...   \n",
       "...                                         ...  ...   \n",
       "80962                                       0.0  ...   \n",
       "80963                                       0.0  ...   \n",
       "80964                                       0.0  ...   \n",
       "80965                                       0.0  ...   \n",
       "80966                                       0.0  ...   \n",
       "\n",
       "      Amplitude 5th%ile 1 hour, SumValuesMin, aEEG All 1020 No FP_avg, [aEEG All 1020 No FP_avg]  \\\n",
       "1                                                      0                                           \n",
       "2                                                6.08765                                           \n",
       "3                                                6.08765                                           \n",
       "4                                                6.08765                                           \n",
       "5                                                6.08765                                           \n",
       "...                                                  ...                                           \n",
       "80962                                                0.0                                           \n",
       "80963                                                0.0                                           \n",
       "80964                                                0.0                                           \n",
       "80965                                                0.0                                           \n",
       "80966                                                0.0                                           \n",
       "\n",
       "      Amplitude 95%ile 1 hour, SumValuesMax, aEEG All 1020 No FP_avg, [aEEG All 1020 No FP_avg]  \\\n",
       "1                                                      0                                          \n",
       "2                                                14.2522                                          \n",
       "3                                                14.2522                                          \n",
       "4                                                15.2518                                          \n",
       "5                                                19.2516                                          \n",
       "...                                                  ...                                          \n",
       "80962                                                0.0                                          \n",
       "80963                                                0.0                                          \n",
       "80964                                                0.0                                          \n",
       "80965                                                0.0                                          \n",
       "80966                                                0.0                                          \n",
       "\n",
       "      Rel alpha variability left, FFT PowerRatio, 6-14/1-20 Hz, Left Hemisphere  \\\n",
       "1                                                      0                          \n",
       "2                                                      0                          \n",
       "3                                                      0                          \n",
       "4                                                      0                          \n",
       "5                                                      0                          \n",
       "...                                                  ...                          \n",
       "80962                                                0.0                          \n",
       "80963                                                0.0                          \n",
       "80964                                                0.0                          \n",
       "80965                                                0.0                          \n",
       "80966                                                0.0                          \n",
       "\n",
       "      Rel alpha varibility right , FFT PowerRatio, 6-14/1-20 Hz, Right Hemisphere  \\\n",
       "1                                                      0                            \n",
       "2                                                      0                            \n",
       "3                                                      0                            \n",
       "4                                                      0                            \n",
       "5                                                      0                            \n",
       "...                                                  ...                            \n",
       "80962                                                0.0                            \n",
       "80963                                                0.0                            \n",
       "80964                                                0.0                            \n",
       "80965                                                0.0                            \n",
       "80966                                                0.0                            \n",
       "\n",
       "      Asymmetry, Absolute Index (EASI) , 0 - 20 Hz, Asym Hemi  \\\n",
       "1                                                      0        \n",
       "2                                                      0        \n",
       "3                                                      0        \n",
       "4                                                      0        \n",
       "5                                                      0        \n",
       "...                                                  ...        \n",
       "80962                                                0.0        \n",
       "80963                                                0.0        \n",
       "80964                                                0.0        \n",
       "80965                                                0.0        \n",
       "80966                                                0.0        \n",
       "\n",
       "      Asymmetry, Relative Index (REASI) 0-5 hz, 0 - 5 Hz, Asym Hemi  \\\n",
       "1                                                      0              \n",
       "2                                                      0              \n",
       "3                                                      0              \n",
       "4                                                      0              \n",
       "5                                                      0              \n",
       "...                                                  ...              \n",
       "80962                                                0.0              \n",
       "80963                                                0.0              \n",
       "80964                                                0.0              \n",
       "80965                                                0.0              \n",
       "80966                                                0.0              \n",
       "\n",
       "      Asymmetry, Relative Index (REASI) 6-14 hz, 6 - 14 Hz, Asym Hemi  \\\n",
       "1                                                      0                \n",
       "2                                                      0                \n",
       "3                                                      0                \n",
       "4                                                      0                \n",
       "5                                                      0                \n",
       "...                                                  ...                \n",
       "80962                                                0.0                \n",
       "80963                                                0.0                \n",
       "80964                                                0.0                \n",
       "80965                                                0.0                \n",
       "80966                                                0.0                \n",
       "\n",
       "      Asymmetry, Relative Index (REASI) 0 -20hz, 0 - 20 Hz, Asym Hemi  \\\n",
       "1                                                      0                \n",
       "2                                                      0                \n",
       "3                                                      0                \n",
       "4                                                      0                \n",
       "5                                                      0                \n",
       "...                                                  ...                \n",
       "80962                                                0.0                \n",
       "80963                                                0.0                \n",
       "80964                                                0.0                \n",
       "80965                                                0.0                \n",
       "80966                                                0.0                \n",
       "\n",
       "      Seizure probability  Comment  \n",
       "1                        0       0  \n",
       "2                        0       0  \n",
       "3                        0       0  \n",
       "4                        0       0  \n",
       "5                        0       0  \n",
       "...                    ...     ...  \n",
       "80962                    0       0  \n",
       "80963                    0       0  \n",
       "80964                    0       0  \n",
       "80965                    0       0  \n",
       "80966                    0       0  \n",
       "\n",
       "[80966 rows x 62 columns]"
      ]
     },
     "execution_count": 47,
     "metadata": {},
     "output_type": "execute_result"
    }
   ],
   "source": [
    "df.drop(index=0)"
   ]
  },
  {
   "cell_type": "code",
   "execution_count": 43,
   "id": "8b5e4cf5-46c9-41c1-a9d5-1b23f962439a",
   "metadata": {},
   "outputs": [
    {
     "data": {
      "text/html": [
       "<div>\n",
       "<style scoped>\n",
       "    .dataframe tbody tr th:only-of-type {\n",
       "        vertical-align: middle;\n",
       "    }\n",
       "\n",
       "    .dataframe tbody tr th {\n",
       "        vertical-align: top;\n",
       "    }\n",
       "\n",
       "    .dataframe thead th {\n",
       "        text-align: right;\n",
       "    }\n",
       "</style>\n",
       "<table border=\"1\" class=\"dataframe\">\n",
       "  <thead>\n",
       "    <tr style=\"text-align: right;\">\n",
       "      <th></th>\n",
       "      <th>ClockDateTime</th>\n",
       "      <th>Time</th>\n",
       "      <th>ADR global, 8-13/1-4 Hz, All 1020 No FP</th>\n",
       "      <th>ADR left, 8-13/1-4 Hz, Left Hemi (No Fp)</th>\n",
       "      <th>ADR right, 8-13/1-4 Hz, Right Hemi (No Fp)</th>\n",
       "      <th>TDR global , 4-8/1-4 Hz, All 1020 No FP</th>\n",
       "      <th>TDR left, 4-8/1-4 Hz, Left Hemi (No Fp)</th>\n",
       "      <th>TDR left, 4-8/1-4 Hz, Right Hemi (No Fp)</th>\n",
       "      <th>ATDR global , 4-13/1-4 Hz, All 1020 No FP</th>\n",
       "      <th>ATDR left, 4-13/1-4 Hz, Left Hemi (No Fp)</th>\n",
       "      <th>...</th>\n",
       "      <th>Amplitude 5th%ile 1 hour, SumValuesMin, aEEG All 1020 No FP_avg, [aEEG All 1020 No FP_avg]</th>\n",
       "      <th>Amplitude 95%ile 1 hour, SumValuesMax, aEEG All 1020 No FP_avg, [aEEG All 1020 No FP_avg]</th>\n",
       "      <th>Rel alpha variability left, FFT PowerRatio, 6-14/1-20 Hz, Left Hemisphere</th>\n",
       "      <th>Rel alpha varibility right , FFT PowerRatio, 6-14/1-20 Hz, Right Hemisphere</th>\n",
       "      <th>Asymmetry, Absolute Index (EASI) , 0 - 20 Hz, Asym Hemi</th>\n",
       "      <th>Asymmetry, Relative Index (REASI) 0-5 hz, 0 - 5 Hz, Asym Hemi</th>\n",
       "      <th>Asymmetry, Relative Index (REASI) 6-14 hz, 6 - 14 Hz, Asym Hemi</th>\n",
       "      <th>Asymmetry, Relative Index (REASI) 0 -20hz, 0 - 20 Hz, Asym Hemi</th>\n",
       "      <th>Seizure probability</th>\n",
       "      <th>Comment</th>\n",
       "    </tr>\n",
       "  </thead>\n",
       "  <tbody>\n",
       "    <tr>\n",
       "      <th>80962</th>\n",
       "      <td>86409.999997</td>\n",
       "      <td>80961</td>\n",
       "      <td>0.0</td>\n",
       "      <td>0.0</td>\n",
       "      <td>0.0</td>\n",
       "      <td>0.0</td>\n",
       "      <td>0.0</td>\n",
       "      <td>0.0</td>\n",
       "      <td>0.0</td>\n",
       "      <td>0.0</td>\n",
       "      <td>...</td>\n",
       "      <td>0.0</td>\n",
       "      <td>0.0</td>\n",
       "      <td>0.0</td>\n",
       "      <td>0.0</td>\n",
       "      <td>0.0</td>\n",
       "      <td>0.0</td>\n",
       "      <td>0.0</td>\n",
       "      <td>0.0</td>\n",
       "      <td>0</td>\n",
       "      <td>0</td>\n",
       "    </tr>\n",
       "    <tr>\n",
       "      <th>80963</th>\n",
       "      <td>86410.999999</td>\n",
       "      <td>80962</td>\n",
       "      <td>0.0</td>\n",
       "      <td>0.0</td>\n",
       "      <td>0.0</td>\n",
       "      <td>0.0</td>\n",
       "      <td>0.0</td>\n",
       "      <td>0.0</td>\n",
       "      <td>0.0</td>\n",
       "      <td>0.0</td>\n",
       "      <td>...</td>\n",
       "      <td>0.0</td>\n",
       "      <td>0.0</td>\n",
       "      <td>0.0</td>\n",
       "      <td>0.0</td>\n",
       "      <td>0.0</td>\n",
       "      <td>0.0</td>\n",
       "      <td>0.0</td>\n",
       "      <td>0.0</td>\n",
       "      <td>0</td>\n",
       "      <td>0</td>\n",
       "    </tr>\n",
       "    <tr>\n",
       "      <th>80964</th>\n",
       "      <td>86412.000001</td>\n",
       "      <td>80963</td>\n",
       "      <td>0.0</td>\n",
       "      <td>0.0</td>\n",
       "      <td>0.0</td>\n",
       "      <td>0.0</td>\n",
       "      <td>0.0</td>\n",
       "      <td>0.0</td>\n",
       "      <td>0.0</td>\n",
       "      <td>0.0</td>\n",
       "      <td>...</td>\n",
       "      <td>0.0</td>\n",
       "      <td>0.0</td>\n",
       "      <td>0.0</td>\n",
       "      <td>0.0</td>\n",
       "      <td>0.0</td>\n",
       "      <td>0.0</td>\n",
       "      <td>0.0</td>\n",
       "      <td>0.0</td>\n",
       "      <td>0</td>\n",
       "      <td>0</td>\n",
       "    </tr>\n",
       "    <tr>\n",
       "      <th>80965</th>\n",
       "      <td>86413.000003</td>\n",
       "      <td>80964</td>\n",
       "      <td>0.0</td>\n",
       "      <td>0.0</td>\n",
       "      <td>0.0</td>\n",
       "      <td>0.0</td>\n",
       "      <td>0.0</td>\n",
       "      <td>0.0</td>\n",
       "      <td>0.0</td>\n",
       "      <td>0.0</td>\n",
       "      <td>...</td>\n",
       "      <td>0.0</td>\n",
       "      <td>0.0</td>\n",
       "      <td>0.0</td>\n",
       "      <td>0.0</td>\n",
       "      <td>0.0</td>\n",
       "      <td>0.0</td>\n",
       "      <td>0.0</td>\n",
       "      <td>0.0</td>\n",
       "      <td>0</td>\n",
       "      <td>0</td>\n",
       "    </tr>\n",
       "    <tr>\n",
       "      <th>80966</th>\n",
       "      <td>86413.999997</td>\n",
       "      <td>80965</td>\n",
       "      <td>0.0</td>\n",
       "      <td>0.0</td>\n",
       "      <td>0.0</td>\n",
       "      <td>0.0</td>\n",
       "      <td>0.0</td>\n",
       "      <td>0.0</td>\n",
       "      <td>0.0</td>\n",
       "      <td>0.0</td>\n",
       "      <td>...</td>\n",
       "      <td>0.0</td>\n",
       "      <td>0.0</td>\n",
       "      <td>0.0</td>\n",
       "      <td>0.0</td>\n",
       "      <td>0.0</td>\n",
       "      <td>0.0</td>\n",
       "      <td>0.0</td>\n",
       "      <td>0.0</td>\n",
       "      <td>0</td>\n",
       "      <td>0</td>\n",
       "    </tr>\n",
       "  </tbody>\n",
       "</table>\n",
       "<p>5 rows × 62 columns</p>\n",
       "</div>"
      ],
      "text/plain": [
       "       ClockDateTime   Time ADR global, 8-13/1-4 Hz, All 1020 No FP  \\\n",
       "80962   86409.999997  80961                                     0.0   \n",
       "80963   86410.999999  80962                                     0.0   \n",
       "80964   86412.000001  80963                                     0.0   \n",
       "80965   86413.000003  80964                                     0.0   \n",
       "80966   86413.999997  80965                                     0.0   \n",
       "\n",
       "      ADR left, 8-13/1-4 Hz, Left Hemi (No Fp)  \\\n",
       "80962                                      0.0   \n",
       "80963                                      0.0   \n",
       "80964                                      0.0   \n",
       "80965                                      0.0   \n",
       "80966                                      0.0   \n",
       "\n",
       "      ADR right, 8-13/1-4 Hz, Right Hemi (No Fp)  \\\n",
       "80962                                        0.0   \n",
       "80963                                        0.0   \n",
       "80964                                        0.0   \n",
       "80965                                        0.0   \n",
       "80966                                        0.0   \n",
       "\n",
       "      TDR global , 4-8/1-4 Hz, All 1020 No FP  \\\n",
       "80962                                     0.0   \n",
       "80963                                     0.0   \n",
       "80964                                     0.0   \n",
       "80965                                     0.0   \n",
       "80966                                     0.0   \n",
       "\n",
       "      TDR left, 4-8/1-4 Hz, Left Hemi (No Fp)  \\\n",
       "80962                                     0.0   \n",
       "80963                                     0.0   \n",
       "80964                                     0.0   \n",
       "80965                                     0.0   \n",
       "80966                                     0.0   \n",
       "\n",
       "      TDR left, 4-8/1-4 Hz, Right Hemi (No Fp)  \\\n",
       "80962                                      0.0   \n",
       "80963                                      0.0   \n",
       "80964                                      0.0   \n",
       "80965                                      0.0   \n",
       "80966                                      0.0   \n",
       "\n",
       "      ATDR global , 4-13/1-4 Hz, All 1020 No FP  \\\n",
       "80962                                       0.0   \n",
       "80963                                       0.0   \n",
       "80964                                       0.0   \n",
       "80965                                       0.0   \n",
       "80966                                       0.0   \n",
       "\n",
       "      ATDR left, 4-13/1-4 Hz, Left Hemi (No Fp)  ...  \\\n",
       "80962                                       0.0  ...   \n",
       "80963                                       0.0  ...   \n",
       "80964                                       0.0  ...   \n",
       "80965                                       0.0  ...   \n",
       "80966                                       0.0  ...   \n",
       "\n",
       "      Amplitude 5th%ile 1 hour, SumValuesMin, aEEG All 1020 No FP_avg, [aEEG All 1020 No FP_avg]  \\\n",
       "80962                                                0.0                                           \n",
       "80963                                                0.0                                           \n",
       "80964                                                0.0                                           \n",
       "80965                                                0.0                                           \n",
       "80966                                                0.0                                           \n",
       "\n",
       "      Amplitude 95%ile 1 hour, SumValuesMax, aEEG All 1020 No FP_avg, [aEEG All 1020 No FP_avg]  \\\n",
       "80962                                                0.0                                          \n",
       "80963                                                0.0                                          \n",
       "80964                                                0.0                                          \n",
       "80965                                                0.0                                          \n",
       "80966                                                0.0                                          \n",
       "\n",
       "      Rel alpha variability left, FFT PowerRatio, 6-14/1-20 Hz, Left Hemisphere  \\\n",
       "80962                                                0.0                          \n",
       "80963                                                0.0                          \n",
       "80964                                                0.0                          \n",
       "80965                                                0.0                          \n",
       "80966                                                0.0                          \n",
       "\n",
       "      Rel alpha varibility right , FFT PowerRatio, 6-14/1-20 Hz, Right Hemisphere  \\\n",
       "80962                                                0.0                            \n",
       "80963                                                0.0                            \n",
       "80964                                                0.0                            \n",
       "80965                                                0.0                            \n",
       "80966                                                0.0                            \n",
       "\n",
       "      Asymmetry, Absolute Index (EASI) , 0 - 20 Hz, Asym Hemi  \\\n",
       "80962                                                0.0        \n",
       "80963                                                0.0        \n",
       "80964                                                0.0        \n",
       "80965                                                0.0        \n",
       "80966                                                0.0        \n",
       "\n",
       "      Asymmetry, Relative Index (REASI) 0-5 hz, 0 - 5 Hz, Asym Hemi  \\\n",
       "80962                                                0.0              \n",
       "80963                                                0.0              \n",
       "80964                                                0.0              \n",
       "80965                                                0.0              \n",
       "80966                                                0.0              \n",
       "\n",
       "      Asymmetry, Relative Index (REASI) 6-14 hz, 6 - 14 Hz, Asym Hemi  \\\n",
       "80962                                                0.0                \n",
       "80963                                                0.0                \n",
       "80964                                                0.0                \n",
       "80965                                                0.0                \n",
       "80966                                                0.0                \n",
       "\n",
       "      Asymmetry, Relative Index (REASI) 0 -20hz, 0 - 20 Hz, Asym Hemi  \\\n",
       "80962                                                0.0                \n",
       "80963                                                0.0                \n",
       "80964                                                0.0                \n",
       "80965                                                0.0                \n",
       "80966                                                0.0                \n",
       "\n",
       "      Seizure probability  Comment  \n",
       "80962                    0       0  \n",
       "80963                    0       0  \n",
       "80964                    0       0  \n",
       "80965                    0       0  \n",
       "80966                    0       0  \n",
       "\n",
       "[5 rows x 62 columns]"
      ]
     },
     "execution_count": 43,
     "metadata": {},
     "output_type": "execute_result"
    }
   ],
   "source": [
    "df.tail()"
   ]
  },
  {
   "cell_type": "code",
   "execution_count": 64,
   "id": "45dbff13-a7a8-4967-ae1e-107401653e00",
   "metadata": {},
   "outputs": [
    {
     "data": {
      "text/plain": [
       "'2021-02-02 00:45:40.000003061'"
      ]
     },
     "execution_count": 64,
     "metadata": {},
     "output_type": "execute_result"
    }
   ],
   "source": [
    "df['time'][0]"
   ]
  },
  {
   "cell_type": "code",
   "execution_count": 66,
   "id": "df261579-3f3b-4ad0-bf67-a1e2d61e391b",
   "metadata": {},
   "outputs": [
    {
     "data": {
      "text/plain": [
       "29"
      ]
     },
     "execution_count": 66,
     "metadata": {},
     "output_type": "execute_result"
    }
   ],
   "source": [
    "len(df['time'][0])"
   ]
  },
  {
   "cell_type": "code",
   "execution_count": 68,
   "id": "beac75bb-bec8-43ad-bbcd-ae462f642497",
   "metadata": {},
   "outputs": [],
   "source": [
    "import re\n",
    "from decimal import Decimal, getcontext\n",
    "import math\n",
    "import pandas as pd\n",
    "\n",
    "# keep nanosecond precision\n",
    "getcontext().prec = 30\n",
    "\n",
    "# ISO 24h e.g. \"2021-02-02 00:45:40.000003061\"\n",
    "RX_ISO = re.compile(\n",
    "    r'^(\\d{4})-(\\d{2})-(\\d{2})\\s+'\n",
    "    r'(\\d{2}):(\\d{2}):(\\d{2})(?:\\.(\\d+))?$'\n",
    ")\n",
    "\n",
    "def frac_to_dec(frac: str) -> Decimal:\n",
    "    if not frac:\n",
    "        return Decimal(0)\n",
    "    return Decimal(frac) / (Decimal(10) ** len(frac))\n",
    "\n",
    "def big_seconds_from_string(s: str):\n",
    "    \"\"\"Return float big-seconds from ISO datetime string; NaN if it doesn't match.\"\"\"\n",
    "    if not isinstance(s, str):\n",
    "        s = str(s)\n",
    "    m = RX_ISO.match(s.strip())\n",
    "    if not m:\n",
    "        return math.nan\n",
    "    # groups: 1=YYYY 2=MM 3=DD 4=hh 5=mm 6=ss 7=frac\n",
    "    mo  = int(m.group(2))\n",
    "    dd  = int(m.group(3))\n",
    "    hh  = int(m.group(4))\n",
    "    mm  = int(m.group(5))\n",
    "    ss  = int(m.group(6))\n",
    "    frac = frac_to_dec(m.group(7))\n",
    "    total = (Decimal(dd - mo) * 86400) + (Decimal(hh) * 3600) + (Decimal(mm) * 60) + Decimal(ss) + frac\n",
    "    return float(total)\n",
    "\n",
    "df['time'] = df['time'].astype(str).apply(big_seconds_from_string)"
   ]
  },
  {
   "cell_type": "code",
   "execution_count": 70,
   "id": "0decab5c-a129-4f45-8523-7cc8d9c8078c",
   "metadata": {},
   "outputs": [
    {
     "data": {
      "text/html": [
       "<div>\n",
       "<style scoped>\n",
       "    .dataframe tbody tr th:only-of-type {\n",
       "        vertical-align: middle;\n",
       "    }\n",
       "\n",
       "    .dataframe tbody tr th {\n",
       "        vertical-align: top;\n",
       "    }\n",
       "\n",
       "    .dataframe thead th {\n",
       "        text-align: right;\n",
       "    }\n",
       "</style>\n",
       "<table border=\"1\" class=\"dataframe\">\n",
       "  <thead>\n",
       "    <tr style=\"text-align: right;\">\n",
       "      <th></th>\n",
       "      <th>time</th>\n",
       "      <th>aEEG_left</th>\n",
       "      <th>aEEG_right</th>\n",
       "    </tr>\n",
       "  </thead>\n",
       "  <tbody>\n",
       "    <tr>\n",
       "      <th>0</th>\n",
       "      <td>2740.000003</td>\n",
       "      <td>0.0000</td>\n",
       "      <td>0.00000</td>\n",
       "    </tr>\n",
       "    <tr>\n",
       "      <th>1</th>\n",
       "      <td>2740.999997</td>\n",
       "      <td>10.0158</td>\n",
       "      <td>2.31772</td>\n",
       "    </tr>\n",
       "    <tr>\n",
       "      <th>2</th>\n",
       "      <td>2741.999999</td>\n",
       "      <td>22.0382</td>\n",
       "      <td>5.74035</td>\n",
       "    </tr>\n",
       "    <tr>\n",
       "      <th>3</th>\n",
       "      <td>2743.000001</td>\n",
       "      <td>24.7059</td>\n",
       "      <td>8.87279</td>\n",
       "    </tr>\n",
       "    <tr>\n",
       "      <th>4</th>\n",
       "      <td>2744.000003</td>\n",
       "      <td>26.7819</td>\n",
       "      <td>9.13338</td>\n",
       "    </tr>\n",
       "  </tbody>\n",
       "</table>\n",
       "</div>"
      ],
      "text/plain": [
       "          time  aEEG_left  aEEG_right\n",
       "0  2740.000003     0.0000     0.00000\n",
       "1  2740.999997    10.0158     2.31772\n",
       "2  2741.999999    22.0382     5.74035\n",
       "3  2743.000001    24.7059     8.87279\n",
       "4  2744.000003    26.7819     9.13338"
      ]
     },
     "execution_count": 70,
     "metadata": {},
     "output_type": "execute_result"
    }
   ],
   "source": [
    "df.head()"
   ]
  },
  {
   "cell_type": "code",
   "execution_count": null,
   "id": "816dd2ca-c94e-4b48-8877-083dcc3b2def",
   "metadata": {},
   "outputs": [],
   "source": []
  },
  {
   "cell_type": "code",
   "execution_count": null,
   "id": "bba834a7-e636-43ae-b859-51d30d9d68f7",
   "metadata": {},
   "outputs": [],
   "source": []
  },
  {
   "cell_type": "code",
   "execution_count": null,
   "id": "7739e7f3-8610-4907-a616-9ba131d3143b",
   "metadata": {},
   "outputs": [],
   "source": []
  },
  {
   "cell_type": "markdown",
   "id": "38f2a363-5a6a-4cf4-ba3a-96f2f4f3d8d4",
   "metadata": {},
   "source": [
    "### Method of that "
   ]
  },
  {
   "cell_type": "code",
   "execution_count": null,
   "id": "a5df6fb4-cde2-4633-b163-3d188693687a",
   "metadata": {},
   "outputs": [],
   "source": []
  },
  {
   "cell_type": "code",
   "execution_count": null,
   "id": "c2805527-cd55-4bd0-9635-08dbfbbf4508",
   "metadata": {},
   "outputs": [],
   "source": []
  },
  {
   "cell_type": "code",
   "execution_count": 15,
   "id": "e23e3a50-8568-4895-acfe-2e5b3f1268b7",
   "metadata": {
    "scrolled": true
   },
   "outputs": [
    {
     "name": "stdout",
     "output_type": "stream",
     "text": [
      "Processing: ID1-1_822_6.5.19.csv\n",
      "  saved → ID1-1_822_6.5.19.csv\n",
      "Processing: ID1-2_792_10.11.19.csv\n",
      "  saved → ID1-2_792_10.11.19.csv\n",
      "Processing: ID1-3_822_10.12.19.csv\n",
      "  saved → ID1-3_822_10.12.19.csv\n",
      "Processing: ID10-1_582_5.13.21.csv\n",
      "  saved → ID10-1_582_5.13.21.csv\n",
      "Processing: ID10-2_582_5.15.21.csv\n",
      "  saved → ID10-2_582_5.15.21.csv\n",
      "Processing: ID10-2_795_5.14.21.csv\n",
      "  saved → ID10-2_795_5.14.21.csv\n",
      "Processing: ID11-1_706_6.3.21.csv\n",
      "  saved → ID11-1_706_6.3.21.csv\n",
      "Processing: ID11-2_793_6.4.21.csv\n",
      "  saved → ID11-2_793_6.4.21.csv\n",
      "Processing: ID11-4_706_6.6.21.csv\n",
      "  saved → ID11-4_706_6.6.21.csv\n",
      "Processing: ID11-5_706_6.7.21.csv\n",
      "  saved → ID11-5_706_6.7.21.csv\n",
      "Processing: ID12-1_848_6.6.21.csv\n",
      "  saved → ID12-1_848_6.6.21.csv\n",
      "Processing: ID12-3_800_6.8.21.csv\n",
      "  saved → ID12-3_800_6.8.21.csv\n",
      "Processing: ID12-4_848_6.9.21.csv\n",
      "  saved → ID12-4_848_6.9.21.csv\n",
      "Processing: ID13-1_444_6.9.21.csv\n",
      "  saved → ID13-1_444_6.9.21.csv\n",
      "Processing: ID13-2_792_6.10.21.csv\n",
      "  saved → ID13-2_792_6.10.21.csv\n",
      "Processing: ID14-1_511_6.30.21.csv\n",
      "  saved → ID14-1_511_6.30.21.csv\n",
      "Processing: ID14-2_787_7.1.21.csv\n",
      "  saved → ID14-2_787_7.1.21.csv\n",
      "Processing: ID14-3_511_7.2.21.csv\n",
      "  saved → ID14-3_511_7.2.21.csv\n",
      "Processing: ID15-1_718_7.2.21.csv\n",
      "  saved → ID15-1_718_7.2.21.csv\n",
      "Processing: ID15-2_608_7.3.21.csv\n",
      "  saved → ID15-2_608_7.3.21.csv\n",
      "Processing: ID16-1_590_7.15.21.csv\n",
      "  saved → ID16-1_590_7.15.21.csv\n",
      "Processing: ID16-2_794_7.17.21.csv\n",
      "  saved → ID16-2_794_7.17.21.csv\n",
      "Processing: ID16-3_590_7.18.21.csv\n",
      "  saved → ID16-3_590_7.18.21.csv\n",
      "Processing: ID16-4_590_7.19.21.csv\n",
      "  saved → ID16-4_590_7.19.21.csv\n",
      "Processing: ID18-11_583_7.28.21.csv\n",
      "  saved → ID18-11_583_7.28.21.csv\n",
      "Processing: ID18-1_796_7.28.21.csv\n",
      "  saved → ID18-1_796_7.28.21.csv\n",
      "Processing: ID18-2_583_7.29.24.csv\n",
      "  saved → ID18-2_583_7.29.24.csv\n",
      "Processing: ID18-3_583_7.30.21.csv\n",
      "  saved → ID18-3_583_7.30.21.csv\n",
      "Processing: ID19-1_724_7.30.21.csv\n",
      "  saved → ID19-1_724_7.30.21.csv\n",
      "Processing: ID19-2_793_7.31.21.csv\n",
      "  saved → ID19-2_793_7.31.21.csv\n",
      "Processing: ID2-1_496_6.4.20.csv\n",
      "  saved → ID2-1_496_6.4.20.csv\n",
      "Processing: ID2-2_496_6.5.20.csv\n",
      "  saved → ID2-2_496_6.5.20.csv\n",
      "Processing: ID2-3_799_6.6.20.csv\n",
      "  saved → ID2-3_799_6.6.20.csv\n",
      "Processing: ID2-4_496_6.7.19.csv\n",
      "  saved → ID2-4_496_6.7.19.csv\n",
      "Processing: ID20-1_500_8.6.21.csv\n",
      "  saved → ID20-1_500_8.6.21.csv\n",
      "Processing: ID20-2_785_8.7.21.csv\n",
      "  saved → ID20-2_785_8.7.21.csv\n",
      "Processing: ID21-1_836_8.6.21.csv\n",
      "  saved → ID21-1_836_8.6.21.csv\n",
      "Processing: ID21-2_792_8.7.21.csv\n",
      "  saved → ID21-2_792_8.7.21.csv\n",
      "Processing: ID22-1_488_8.11.21.csv\n",
      "  saved → ID22-1_488_8.11.21.csv\n",
      "Processing: ID22-2_800_8.12.22.csv\n",
      "  saved → ID22-2_800_8.12.22.csv\n",
      "Processing: ID23-1_1594_8.14.21.csv\n",
      "  saved → ID23-1_1594_8.14.21.csv\n",
      "Processing: ID24-1_618_8.22.21.csv\n",
      "  saved → ID24-1_618_8.22.21.csv\n",
      "Processing: ID24-2_732_8.23.21.csv\n",
      "  saved → ID24-2_732_8.23.21.csv\n",
      "Processing: ID25-1_694_9.9.21.csv\n",
      "  saved → ID25-1_694_9.9.21.csv\n",
      "Processing: ID25-2_694_9.10.21.csv\n",
      "  saved → ID25-2_694_9.10.21.csv\n",
      "Processing: ID25-3_799_9.11.21.csv\n",
      "  saved → ID25-3_799_9.11.21.csv\n",
      "Processing: ID25-4_694_9.12.21.csv\n",
      "  saved → ID25-4_694_9.12.21.csv\n",
      "Processing: ID26-1_393_9.28.21.csv\n",
      "  saved → ID26-1_393_9.28.21.csv\n",
      "Processing: ID26-2_795_9.29.21.csv\n",
      "  saved → ID26-2_795_9.29.21.csv\n",
      "Processing: ID26-3_393_9.30.21.csv\n",
      "  saved → ID26-3_393_9.30.21.csv\n",
      "Processing: ID27-1_834_9.29.21.csv\n",
      "  saved → ID27-1_834_9.29.21.csv\n",
      "Processing: ID27-2_795_9.30.21.csv\n",
      "  saved → ID27-2_795_9.30.21.csv\n",
      "Processing: ID27-3_834_10.1.21.csv\n",
      "  saved → ID27-3_834_10.1.21.csv\n",
      "Processing: ID27-4_834_10.2.21.csv\n",
      "  saved → ID27-4_834_10.2.21.csv\n",
      "Processing: ID28-1_386_10.09.21.csv\n",
      "  saved → ID28-1_386_10.09.21.csv\n",
      "Processing: ID3-1_492_9.2.20.csv\n",
      "  saved → ID3-1_492_9.2.20.csv\n",
      "Processing: ID3-2_492_9.3.20.csv\n",
      "  saved → ID3-2_492_9.3.20.csv\n",
      "Processing: ID3-2_795_9.4.20.csv\n",
      "  saved → ID3-2_795_9.4.20.csv\n",
      "Processing: ID31-1_1145_12.6.21.csv\n",
      "  saved → ID31-1_1145_12.6.21.csv\n",
      "Processing: ID31-2_839_12.7.22.csv\n",
      "  saved → ID31-2_839_12.7.22.csv\n",
      "Processing: ID33-1_750_12.9.21.csv\n",
      "  saved → ID33-1_750_12.9.21.csv\n",
      "Processing: ID33-2_840_12.10.21.csv\n",
      "  saved → ID33-2_840_12.10.21.csv\n",
      "Processing: ID34-1_400_12.15.21.csv\n",
      "  saved → ID34-1_400_12.15.21.csv\n",
      "Processing: ID34-2_789_12.16.22.csv\n",
      "  saved → ID34-2_789_12.16.22.csv\n",
      "Processing: ID35-1_1330_12.21.21.csv\n",
      "  saved → ID35-1_1330_12.21.21.csv\n",
      "Processing: ID36-1_406_1.7.22.csv\n",
      "  saved → ID36-1_406_1.7.22.csv\n",
      "Processing: ID36-2_790_1.8.22.csv\n",
      "  saved → ID36-2_790_1.8.22.csv\n",
      "Processing: ID36-3_406_1.9.22.csv\n",
      "  saved → ID36-3_406_1.9.22.csv\n",
      "Processing: ID36-4_406_1.10.22.csv\n",
      "  saved → ID36-4_406_1.10.22.csv\n",
      "Processing: ID36-5_406_1.11.22.csv\n",
      "  saved → ID36-5_406_1.11.22.csv\n",
      "Processing: ID37-1_486_1.11.22.csv\n",
      "  saved → ID37-1_486_1.11.22.csv\n",
      "Processing: ID37-2_798_1.12.22.csv\n",
      "  saved → ID37-2_798_1.12.22.csv\n",
      "Processing: ID37-3_486_1.13.22.csv\n",
      "  saved → ID37-3_486_1.13.22.csv\n",
      "Processing: ID38-1_523_1.24.22.csv\n",
      "  saved → ID38-1_523_1.24.22.csv\n",
      "Processing: ID38-2_793_1.25.22.csv\n",
      "  saved → ID38-2_793_1.25.22.csv\n",
      "Processing: ID38-3_715_1.26.22.csv\n",
      "  saved → ID38-3_715_1.26.22.csv\n",
      "Processing: ID38-4_715_1.27.22.csv\n",
      "  saved → ID38-4_715_1.27.22.csv\n",
      "Processing: ID39-1_600_1.26.22.csv\n",
      "  saved → ID39-1_600_1.26.22.csv\n",
      "Processing: ID39-2_600_1.28.22.csv\n",
      "  saved → ID39-2_600_1.28.22.csv\n",
      "Processing: ID39-2_786_1.27.22.csv\n",
      "  saved → ID39-2_786_1.27.22.csv\n",
      "Processing: ID4-11_598_2.3.22.csv\n",
      "  saved → ID4-11_598_2.3.22.csv\n",
      "Processing: ID4-1_794_10.1.20.csv\n",
      "  saved → ID4-1_794_10.1.20.csv\n",
      "Processing: ID4-2_800_10.2.20.csv\n",
      "  saved → ID4-2_800_10.2.20.csv\n",
      "Processing: ID4-3_826_10.3.20.csv\n",
      "  saved → ID4-3_826_10.3.20.csv\n",
      "Processing: ID40-1_712_2.3.22.csv\n",
      "  saved → ID40-1_712_2.3.22.csv\n",
      "Processing: ID43-1_601_4.16.22.csv\n",
      "  saved → ID43-1_601_4.16.22.csv\n",
      "Processing: ID43-2_787_4.17.22.csv\n",
      "  saved → ID43-2_787_4.17.22.csv\n",
      "Processing: ID43-3_601_4.18.22.csv\n",
      "  saved → ID43-3_601_4.18.22.csv\n",
      "Processing: ID44-1_955_4.23.33.csv\n",
      "  saved → ID44-1_955_4.23.33.csv\n",
      "Processing: ID44-2_799_4.24.22.csv\n",
      "  saved → ID44-2_799_4.24.22.csv\n",
      "Processing: ID44-3_955_4.25.22.csv\n",
      "  saved → ID44-3_955_4.25.22.csv\n",
      "Processing: ID44-4_955_4.26.22.csv\n",
      "  saved → ID44-4_955_4.26.22.csv\n",
      "Processing: ID45-1_513_5.19.22.csv\n",
      "  saved → ID45-1_513_5.19.22.csv\n",
      "Processing: ID47-1_697_7.18.22.csv\n",
      "  saved → ID47-1_697_7.18.22.csv\n",
      "Processing: ID47-2_802_7.19.22.csv\n",
      "  saved → ID47-2_802_7.19.22.csv\n",
      "Processing: ID49-1_845_9.6.22.csv\n",
      "  saved → ID49-1_845_9.6.22.csv\n",
      "Processing: ID49-2_797_9.7.22.csv\n",
      "  saved → ID49-2_797_9.7.22.csv\n",
      "Processing: ID5-1_609_10.5.20.csv\n",
      "  saved → ID5-1_609_10.5.20.csv\n",
      "Processing: ID5-2_500_10.18.21.csv\n",
      "  saved → ID5-2_500_10.18.21.csv\n",
      "Processing: ID5-2_795_10.6.20.csv\n",
      "  saved → ID5-2_795_10.6.20.csv\n",
      "Processing: ID50-1_842_9.11.22.csv\n",
      "  saved → ID50-1_842_9.11.22.csv\n",
      "Processing: ID50-2_794_9.12.22.csv\n",
      "  saved → ID50-2_794_9.12.22.csv\n",
      "Processing: ID51-1_298_9.27.22.csv\n",
      "  saved → ID51-1_298_9.27.22.csv\n",
      "Processing: ID51-2_799_9.29.22.csv\n",
      "  saved → ID51-2_799_9.29.22.csv\n",
      "Processing: ID53-1_452_10.27.22.csv\n",
      "  saved → ID53-1_452_10.27.22.csv\n",
      "Processing: ID54-1_1033_11.9.22.csv\n",
      "  saved → ID54-1_1033_11.9.22.csv\n",
      "Processing: ID54-2_835_11.10.22.csv\n",
      "  saved → ID54-2_835_11.10.22.csv\n",
      "Processing: ID54-3_1033_11.11.22.csv\n",
      "  saved → ID54-3_1033_11.11.22.csv\n",
      "Processing: ID55-1_619_11.12.22.csv\n",
      "  saved → ID55-1_619_11.12.22.csv\n",
      "Processing: ID55-2_796_11.13.22.csv\n",
      "  saved → ID55-2_796_11.13.22.csv\n",
      "Processing: ID55-3_619_11.14.22.csv\n",
      "  saved → ID55-3_619_11.14.22.csv\n",
      "Processing: ID56-1_764_11.13.22.csv\n",
      "  saved → ID56-1_764_11.13.22.csv\n",
      "Processing: ID56-2_797_11.14.22.csv\n",
      "  saved → ID56-2_797_11.14.22.csv\n",
      "Processing: ID58-1_725_11.22.22.csv\n",
      "  saved → ID58-1_725_11.22.22.csv\n",
      "Processing: ID58-2_611_11.23.22.csv\n",
      "  saved → ID58-2_611_11.23.22.csv\n",
      "Processing: ID59-1_750_11.25.22.csv\n",
      "  saved → ID59-1_750_11.25.22.csv\n",
      "Processing: ID59-2_730_11.26.22.csv\n",
      "  saved → ID59-2_730_11.26.22.csv\n",
      "Processing: ID6-1_657_10.18.20.csv\n",
      "  saved → ID6-1_657_10.18.20.csv\n",
      "Processing: ID6-3_611_10.20.20.csv\n",
      "  saved → ID6-3_611_10.20.20.csv\n",
      "Processing: ID6-4_788_10.21.20.csv\n",
      "  saved → ID6-4_788_10.21.20.csv\n",
      "Processing: ID6-5_611_10.22.20.csv\n",
      "  saved → ID6-5_611_10.22.20.csv\n",
      "Processing: ID60-1_735_11.27.22.csv\n",
      "  saved → ID60-1_735_11.27.22.csv\n",
      "Processing: ID61-1_827_12.4.22.csv\n",
      "  saved → ID61-1_827_12.4.22.csv\n",
      "Processing: ID61-2_797_12.5.22.csv\n",
      "  saved → ID61-2_797_12.5.22.csv\n",
      "Processing: ID61-4_935_12.7.22.csv\n",
      "  saved → ID61-4_935_12.7.22.csv\n",
      "Processing: ID62-1_400_12.15.22.csv\n",
      "  saved → ID62-1_400_12.15.22.csv\n",
      "Processing: ID63-1_499_12.21.22.csv\n",
      "  saved → ID63-1_499_12.21.22.csv\n",
      "Processing: ID63-2_802_12.22.22.csv\n",
      "  saved → ID63-2_802_12.22.22.csv\n",
      "Processing: ID63-3_499_12.23.22.csv\n",
      "  saved → ID63-3_499_12.23.22.csv\n",
      "Processing: ID64-1_960_12.27.22.csv\n",
      "  saved → ID64-1_960_12.27.22.csv\n",
      "Processing: ID64-2_795_12.28.22.csv\n",
      "  saved → ID64-2_795_12.28.22.csv\n",
      "Processing: ID64-3_960_12.29.22.csv\n",
      "  saved → ID64-3_960_12.29.22.csv\n",
      "Processing: ID65-1_934_2.25.23.csv\n",
      "  saved → ID65-1_934_2.25.23.csv\n",
      "Processing: ID65-2_796_2.26.23.csv\n",
      "  saved → ID65-2_796_2.26.23.csv\n",
      "Processing: ID67-1_688_3.8.23.csv\n",
      "  saved → ID67-1_688_3.8.23.csv\n",
      "Processing: ID67-2_802_3.9.23.csv\n",
      "  saved → ID67-2_802_3.9.23.csv\n",
      "Processing: ID68-1_512_3.16.23.csv\n",
      "  saved → ID68-1_512_3.16.23.csv\n",
      "Processing: ID68-2_788_3.17.23.csv\n",
      "  saved → ID68-2_788_3.17.23.csv\n",
      "Processing: ID7-1_608_1.26.21.csv\n",
      "  saved → ID7-1_608_1.26.21.csv\n",
      "Processing: ID7-2_794_1.27.21.csv\n",
      "  saved → ID7-2_794_1.27.21.csv\n",
      "Processing: ID7-3_608_1.28.21.csv\n",
      "  saved → ID7-3_608_1.28.21.csv\n",
      "Processing: ID71-1_613_3.30.23.csv\n",
      "  saved → ID71-1_613_3.30.23.csv\n",
      "Processing: ID72-1_949_3.31.23.csv\n",
      "  saved → ID72-1_949_3.31.23.csv\n",
      "Processing: ID72-2_802_4.1.23.csv\n",
      "  saved → ID72-2_802_4.1.23.csv\n",
      "Processing: ID72-3_949_4.2.23.csv\n",
      "  saved → ID72-3_949_4.2.23.csv\n",
      "Processing: ID76-1_384_5.28.23.csv\n",
      "  saved → ID76-1_384_5.28.23.csv\n",
      "Processing: ID76-2_795_5.29.23.csv\n",
      "  saved → ID76-2_795_5.29.23.csv\n",
      "Processing: ID76-3_384_5.30.23.csv\n",
      "  saved → ID76-3_384_5.30.23.csv\n",
      "Processing: ID78-1_623_6.27.23.csv\n",
      "  saved → ID78-1_623_6.27.23.csv\n",
      "Processing: ID78-2_791_6.28.23.csv\n",
      "  saved → ID78-2_791_6.28.23.csv\n",
      "Processing: ID78-3_623_6.29.23.csv\n",
      "  saved → ID78-3_623_6.29.23.csv\n",
      "Processing: ID78-4_623_6.30.23.csv\n",
      "  saved → ID78-4_623_6.30.23.csv\n",
      "Processing: ID8-1_680_1.29.21.csv\n",
      "  saved → ID8-1_680_1.29.21.csv\n",
      "Processing: ID9-1_719_2.2.21.csv\n",
      "  saved → ID9-1_719_2.2.21.csv\n",
      "Processing: ID9-2_797_2.3.21.csv\n",
      "  saved → ID9-2_797_2.3.21.csv\n",
      "Processing: ID9-3_719_2.4.21.csv\n",
      "  saved → ID9-3_719_2.4.21.csv\n",
      "Processing: ID9-5_719_2.5.21.csv\n",
      "  saved → ID9-5_719_2.5.21.csv\n"
     ]
    }
   ],
   "source": [
    "from pathlib import Path\n",
    "import re\n",
    "from decimal import Decimal, getcontext\n",
    "import math\n",
    "import pandas as pd\n",
    "\n",
    "def convert_folder_time_to_bigseconds(in_dir, out_dir, time_col=\"time\"):\n",
    "    \"\"\"\n",
    "    For each CSV in `in_dir`, replace/create column `time_col` with:\n",
    "      (day - month)*86400 + hour*3600 + minute*60 + seconds.frac\n",
    "    Saves to `out_dir` with the same filenames; keeps other columns unchanged.\n",
    "    Uses pure string parsing (no pandas datetime).\n",
    "    \"\"\"\n",
    "    in_dir  = Path(in_dir)\n",
    "    out_dir = Path(out_dir)\n",
    "    out_dir.mkdir(parents=True, exist_ok=True)\n",
    "\n",
    "    # keep nanosecond precision in Decimal ops\n",
    "    getcontext().prec = 30\n",
    "\n",
    "    # ISO 24h e.g. \"2021-02-02 00:45:40.000003061\"\n",
    "    RX_ISO = re.compile(\n",
    "        r'^(\\d{4})-(\\d{2})-(\\d{2})\\s+'\n",
    "        r'(\\d{2}):(\\d{2}):(\\d{2})(?:\\.(\\d+))?$'\n",
    "    )\n",
    "\n",
    "    def frac_to_dec(frac: str) -> Decimal:\n",
    "        if not frac:\n",
    "            return Decimal(0)\n",
    "        return Decimal(frac) / (Decimal(10) ** len(frac))\n",
    "\n",
    "    def big_seconds_from_string(s: str):\n",
    "        \"\"\"Return float big-seconds from ISO datetime string; NaN if it doesn't match.\"\"\"\n",
    "        if not isinstance(s, str):\n",
    "            s = str(s)\n",
    "        m = RX_ISO.match(s.strip())\n",
    "        if not m:\n",
    "            return math.nan\n",
    "        # groups: 1=YYYY 2=MM 3=DD 4=hh 5=mm 6=ss 7=frac\n",
    "        mo  = int(m.group(2))\n",
    "        dd  = int(m.group(3))\n",
    "        hh  = int(m.group(4))\n",
    "        mm  = int(m.group(5))\n",
    "        ss  = int(m.group(6))\n",
    "        frac = frac_to_dec(m.group(7))\n",
    "        total = (Decimal(dd - mo) * 86400) + (Decimal(hh) * 3600) + (Decimal(mm) * 60) + Decimal(ss) + frac\n",
    "        return float(total)\n",
    "\n",
    "    for f in in_dir.glob(\"*.csv\"):\n",
    "        print(f\"Processing: {f.name}\")\n",
    "        df = pd.read_csv(f, low_memory=False)\n",
    "        \n",
    "        if time_col not in df.columns:\n",
    "            src = df.columns[0]\n",
    "            df[time_col] = df[src].astype(str).apply(big_seconds_from_string)\n",
    "        else:\n",
    "            df[time_col] = df[time_col].astype(str).apply(big_seconds_from_string)\n",
    "        out_path = out_dir / f.name\n",
    "        df.to_csv(out_path, index=False, float_format=\"%.9f\")\n",
    "        print(f\"  saved → {out_path.name}\")\n",
    "\n",
    "\n",
    "convert_folder_time_to_bigseconds(\n",
    "     in_dir=r\"C:\\Users\\Haiya\\Downloads\\OneDrive_2025-09-19\\patient_data\",\n",
    "     out_dir=r\"C:\\Users\\Haiya\\Downloads\\OneDrive_2025-09-19\\patient_data_bigseconds\",\n",
    "     time_col=\"ClockDateTime\"\n",
    " )"
   ]
  },
  {
   "cell_type": "code",
   "execution_count": null,
   "id": "4e034ad6-b533-4864-8db7-7bd0f9ba44d7",
   "metadata": {},
   "outputs": [],
   "source": []
  },
  {
   "cell_type": "code",
   "execution_count": 49,
   "id": "ea9f8634-3df1-479d-9d50-82429b02687d",
   "metadata": {
    "scrolled": true
   },
   "outputs": [
    {
     "name": "stderr",
     "output_type": "stream",
     "text": [
      "C:\\Users\\Haiya\\AppData\\Local\\Temp\\ipykernel_4412\\1725828094.py:6: DtypeWarning: Columns (1,2,3,4,5,6,7,8,9,10,11,12,13,14,15,16,17,18,19,20,21,22,23,24,25,26,27,28,29,30,31,32,33,34,35,36,37,38,39,40,41,42,43,44,45,46,47,48,49,50,51,52,53,54,55,56,57,58,59,60,61) have mixed types. Specify dtype option on import or set low_memory=False.\n",
      "  df = pd.read_csv(csv_path)\n"
     ]
    },
    {
     "name": "stdout",
     "output_type": "stream",
     "text": [
      "Saved: C:\\Users\\Haiya\\Downloads\\OneDrive_2025-09-19\\patient_data_clean\\ID1-1_822_6.5.19.csv\n"
     ]
    },
    {
     "name": "stderr",
     "output_type": "stream",
     "text": [
      "C:\\Users\\Haiya\\AppData\\Local\\Temp\\ipykernel_4412\\1725828094.py:6: DtypeWarning: Columns (1,2,3,4,5,6,7,8,9,10,11,12,13,14,15,16,17,18,19,20,21,22,23,24,25,26,27,28,29,30,31,32,33,34,35,36,37,38,39,40,41,42,43,44,45,46,47,48,49,50,51,52,53,54,55,56,57,58,59,60,61) have mixed types. Specify dtype option on import or set low_memory=False.\n",
      "  df = pd.read_csv(csv_path)\n"
     ]
    },
    {
     "name": "stdout",
     "output_type": "stream",
     "text": [
      "Saved: C:\\Users\\Haiya\\Downloads\\OneDrive_2025-09-19\\patient_data_clean\\ID1-2_792_10.11.19.csv\n"
     ]
    },
    {
     "name": "stderr",
     "output_type": "stream",
     "text": [
      "C:\\Users\\Haiya\\AppData\\Local\\Temp\\ipykernel_4412\\1725828094.py:6: DtypeWarning: Columns (1,2,3,4,5,6,7,8,9,10,11,12,13,14,15,16,17,18,19,20,21,22,23,24,25,26,27,28,29,30,31,32,33,34,35,36,37,38,39,40,41,42,43,44,45,46,47,48,49,50,51,52,53,54,55,56,57,58,59,60,61) have mixed types. Specify dtype option on import or set low_memory=False.\n",
      "  df = pd.read_csv(csv_path)\n"
     ]
    },
    {
     "name": "stdout",
     "output_type": "stream",
     "text": [
      "Saved: C:\\Users\\Haiya\\Downloads\\OneDrive_2025-09-19\\patient_data_clean\\ID1-3_822_10.12.19.csv\n"
     ]
    },
    {
     "name": "stderr",
     "output_type": "stream",
     "text": [
      "C:\\Users\\Haiya\\AppData\\Local\\Temp\\ipykernel_4412\\1725828094.py:6: DtypeWarning: Columns (1,2,3,4,5,6,7,8,9,10,11,12,13,14,15,16,17,18,19,20,21,22,23,24,25,26,27,28,29,30,31,32,33,34,35,36,37,38,39,40,41,42,43,44,45,46,47,48,49,50,51,52,53,54,55,56,57,58,59,60,61) have mixed types. Specify dtype option on import or set low_memory=False.\n",
      "  df = pd.read_csv(csv_path)\n"
     ]
    },
    {
     "name": "stdout",
     "output_type": "stream",
     "text": [
      "Saved: C:\\Users\\Haiya\\Downloads\\OneDrive_2025-09-19\\patient_data_clean\\ID10-1_582_5.13.21.csv\n"
     ]
    },
    {
     "name": "stderr",
     "output_type": "stream",
     "text": [
      "C:\\Users\\Haiya\\AppData\\Local\\Temp\\ipykernel_4412\\1725828094.py:6: DtypeWarning: Columns (1,2,3,4,5,6,7,8,9,10,11,12,13,14,15,16,17,18,19,20,21,22,23,24,25,26,27,28,29,30,31,32,33,34,35,36,37,38,39,40,41,42,43,44,45,46,47,48,49,50,51,52,53,54,55,56,57,58,59,60,61) have mixed types. Specify dtype option on import or set low_memory=False.\n",
      "  df = pd.read_csv(csv_path)\n"
     ]
    },
    {
     "name": "stdout",
     "output_type": "stream",
     "text": [
      "Saved: C:\\Users\\Haiya\\Downloads\\OneDrive_2025-09-19\\patient_data_clean\\ID10-2_582_5.15.21.csv\n"
     ]
    },
    {
     "name": "stderr",
     "output_type": "stream",
     "text": [
      "C:\\Users\\Haiya\\AppData\\Local\\Temp\\ipykernel_4412\\1725828094.py:6: DtypeWarning: Columns (1,2,3,4,5,6,7,8,9,10,11,12,13,14,15,16,17,18,19,20,21,22,23,24,25,26,27,28,29,30,31,32,33,34,35,36,37,38,39,40,41,42,43,44,45,46,47,48,49,50,51,52,53,54,55,56,57,58,59,60,61) have mixed types. Specify dtype option on import or set low_memory=False.\n",
      "  df = pd.read_csv(csv_path)\n"
     ]
    },
    {
     "name": "stdout",
     "output_type": "stream",
     "text": [
      "Saved: C:\\Users\\Haiya\\Downloads\\OneDrive_2025-09-19\\patient_data_clean\\ID10-2_795_5.14.21.csv\n"
     ]
    },
    {
     "name": "stderr",
     "output_type": "stream",
     "text": [
      "C:\\Users\\Haiya\\AppData\\Local\\Temp\\ipykernel_4412\\1725828094.py:6: DtypeWarning: Columns (1,2,3,4,5,6,7,8,9,10,11,12,13,14,15,16,17,18,19,20,21,22,23,24,25,26,27,28,29,30,31,32,33,34,35,36,37,38,39,40,41,42,43,44,45,46,47,48,49,50,51,52,53,54,55,56,57,58,59,60,61) have mixed types. Specify dtype option on import or set low_memory=False.\n",
      "  df = pd.read_csv(csv_path)\n"
     ]
    },
    {
     "name": "stdout",
     "output_type": "stream",
     "text": [
      "Saved: C:\\Users\\Haiya\\Downloads\\OneDrive_2025-09-19\\patient_data_clean\\ID11-1_706_6.3.21.csv\n"
     ]
    },
    {
     "name": "stderr",
     "output_type": "stream",
     "text": [
      "C:\\Users\\Haiya\\AppData\\Local\\Temp\\ipykernel_4412\\1725828094.py:6: DtypeWarning: Columns (1,2,3,4,5,6,7,8,9,10,11,12,13,14,15,16,17,18,19,20,21,22,23,24,25,26,27,28,29,30,31,32,33,34,35,36,37,38,39,40,41,42,43,44,45,46,47,48,49,50,51,52,53,54,55,56,57,58,59,60,61) have mixed types. Specify dtype option on import or set low_memory=False.\n",
      "  df = pd.read_csv(csv_path)\n"
     ]
    },
    {
     "name": "stdout",
     "output_type": "stream",
     "text": [
      "Saved: C:\\Users\\Haiya\\Downloads\\OneDrive_2025-09-19\\patient_data_clean\\ID11-2_793_6.4.21.csv\n"
     ]
    },
    {
     "name": "stderr",
     "output_type": "stream",
     "text": [
      "C:\\Users\\Haiya\\AppData\\Local\\Temp\\ipykernel_4412\\1725828094.py:6: DtypeWarning: Columns (1,2,3,4,5,6,7,8,9,10,11,12,13,14,15,16,17,18,19,20,21,22,23,24,25,26,27,28,29,30,31,32,33,34,35,36,37,38,39,40,41,42,43,44,45,46,47,48,49,50,51,52,53,54,55,56,57,58,59,60,61) have mixed types. Specify dtype option on import or set low_memory=False.\n",
      "  df = pd.read_csv(csv_path)\n"
     ]
    },
    {
     "name": "stdout",
     "output_type": "stream",
     "text": [
      "Saved: C:\\Users\\Haiya\\Downloads\\OneDrive_2025-09-19\\patient_data_clean\\ID11-4_706_6.6.21.csv\n"
     ]
    },
    {
     "name": "stderr",
     "output_type": "stream",
     "text": [
      "C:\\Users\\Haiya\\AppData\\Local\\Temp\\ipykernel_4412\\1725828094.py:6: DtypeWarning: Columns (1,2,3,4,5,6,7,8,9,10,11,12,13,14,15,16,17,18,19,20,21,22,23,24,25,26,27,28,29,30,31,32,33,34,35,36,37,38,39,40,41,42,43,44,45,46,47,48,49,50,51,52,53,54,55,56,57,58,59,60,61) have mixed types. Specify dtype option on import or set low_memory=False.\n",
      "  df = pd.read_csv(csv_path)\n"
     ]
    },
    {
     "name": "stdout",
     "output_type": "stream",
     "text": [
      "Saved: C:\\Users\\Haiya\\Downloads\\OneDrive_2025-09-19\\patient_data_clean\\ID11-5_706_6.7.21.csv\n",
      "Saved: C:\\Users\\Haiya\\Downloads\\OneDrive_2025-09-19\\patient_data_clean\\ID12-1_848_6.6.21.csv\n"
     ]
    },
    {
     "name": "stderr",
     "output_type": "stream",
     "text": [
      "C:\\Users\\Haiya\\AppData\\Local\\Temp\\ipykernel_4412\\1725828094.py:6: DtypeWarning: Columns (1,2,3,4,5,6,7,8,9,10,11,12,13,14,15,16,17,18,19,20,21,22,23,24,25,26,27,28,29,30,31,32,33,34,35,36,37,38,39,40,41,42,43,44,45,46,47,48,49,50,51,52,53,54,55,56,57,58,59,60,61) have mixed types. Specify dtype option on import or set low_memory=False.\n",
      "  df = pd.read_csv(csv_path)\n"
     ]
    },
    {
     "name": "stdout",
     "output_type": "stream",
     "text": [
      "Saved: C:\\Users\\Haiya\\Downloads\\OneDrive_2025-09-19\\patient_data_clean\\ID12-3_800_6.8.21.csv\n"
     ]
    },
    {
     "name": "stderr",
     "output_type": "stream",
     "text": [
      "C:\\Users\\Haiya\\AppData\\Local\\Temp\\ipykernel_4412\\1725828094.py:6: DtypeWarning: Columns (1,2,3,4,5,6,7,8,9,10,11,12,13,14,15,16,17,18,19,20,21,22,23,24,25,26,27,28,29,30,31,32,33,34,35,36,37,38,39,40,41,42,43,44,45,46,47,48,49,50,51,52,53,54,55,56,57,58,59,60,61) have mixed types. Specify dtype option on import or set low_memory=False.\n",
      "  df = pd.read_csv(csv_path)\n"
     ]
    },
    {
     "name": "stdout",
     "output_type": "stream",
     "text": [
      "Saved: C:\\Users\\Haiya\\Downloads\\OneDrive_2025-09-19\\patient_data_clean\\ID12-4_848_6.9.21.csv\n"
     ]
    },
    {
     "name": "stderr",
     "output_type": "stream",
     "text": [
      "C:\\Users\\Haiya\\AppData\\Local\\Temp\\ipykernel_4412\\1725828094.py:6: DtypeWarning: Columns (1,3,4,5,6,7,8,9,10,11,12,13,14,15,16,17,18,19,20,21,22,23,24,25,26,27,28,29,30,31,32,33,34,35,36,37,38,39,40,41,42,43,44,45,46,47,48,49,50,51,52,53,54,55,56,57,58,59,60,61,62,63) have mixed types. Specify dtype option on import or set low_memory=False.\n",
      "  df = pd.read_csv(csv_path)\n"
     ]
    },
    {
     "name": "stdout",
     "output_type": "stream",
     "text": [
      "Saved: C:\\Users\\Haiya\\Downloads\\OneDrive_2025-09-19\\patient_data_clean\\ID13-1_444_6.9.21.csv\n"
     ]
    },
    {
     "name": "stderr",
     "output_type": "stream",
     "text": [
      "C:\\Users\\Haiya\\AppData\\Local\\Temp\\ipykernel_4412\\1725828094.py:6: DtypeWarning: Columns (1,2,3,4,5,6,7,8,9,10,11,12,13,14,15,16,17,18,19,20,21,22,23,24,25,26,27,28,29,30,31,32,33,34,35,36,37,38,39,40,41,42,43,44,45,46,47,48,49,50,51,52,53,54,55,56,57,58,59,60,61) have mixed types. Specify dtype option on import or set low_memory=False.\n",
      "  df = pd.read_csv(csv_path)\n"
     ]
    },
    {
     "name": "stdout",
     "output_type": "stream",
     "text": [
      "Saved: C:\\Users\\Haiya\\Downloads\\OneDrive_2025-09-19\\patient_data_clean\\ID13-2_792_6.10.21.csv\n"
     ]
    },
    {
     "name": "stderr",
     "output_type": "stream",
     "text": [
      "C:\\Users\\Haiya\\AppData\\Local\\Temp\\ipykernel_4412\\1725828094.py:6: DtypeWarning: Columns (1,2,3,4,5,6,7,8,9,10,11,12,13,14,15,16,17,18,19,20,21,22,23,24,25,26,27,28,29,30,31,32,33,34,35,36,37,38,39,40,41,42,43,44,45,46,47,48,49,50,51,52,53,54,55,56,57,58,59,60,61) have mixed types. Specify dtype option on import or set low_memory=False.\n",
      "  df = pd.read_csv(csv_path)\n"
     ]
    },
    {
     "name": "stdout",
     "output_type": "stream",
     "text": [
      "Saved: C:\\Users\\Haiya\\Downloads\\OneDrive_2025-09-19\\patient_data_clean\\ID14-1_511_6.30.21.csv\n"
     ]
    },
    {
     "name": "stderr",
     "output_type": "stream",
     "text": [
      "C:\\Users\\Haiya\\AppData\\Local\\Temp\\ipykernel_4412\\1725828094.py:6: DtypeWarning: Columns (1,2,3,4,5,6,7,8,9,10,11,12,13,14,15,16,17,18,19,20,21,22,23,24,25,26,27,28,29,30,31,32,33,34,35,36,37,38,39,40,41,42,43,44,45,46,47,48,49,50,51,52,53,54,55,56,57,58,59,60,61) have mixed types. Specify dtype option on import or set low_memory=False.\n",
      "  df = pd.read_csv(csv_path)\n"
     ]
    },
    {
     "name": "stdout",
     "output_type": "stream",
     "text": [
      "Saved: C:\\Users\\Haiya\\Downloads\\OneDrive_2025-09-19\\patient_data_clean\\ID14-2_787_7.1.21.csv\n"
     ]
    },
    {
     "name": "stderr",
     "output_type": "stream",
     "text": [
      "C:\\Users\\Haiya\\AppData\\Local\\Temp\\ipykernel_4412\\1725828094.py:6: DtypeWarning: Columns (1,2,3,4,5,6,7,8,9,10,11,12,13,14,15,16,17,18,19,20,21,22,23,24,25,26,27,28,29,30,31,32,33,34,35,36,37,38,39,40,41,42,43,44,45,46,47,48,49,50,51,52,53,54,55,56,57,58,59,60,61) have mixed types. Specify dtype option on import or set low_memory=False.\n",
      "  df = pd.read_csv(csv_path)\n"
     ]
    },
    {
     "name": "stdout",
     "output_type": "stream",
     "text": [
      "Saved: C:\\Users\\Haiya\\Downloads\\OneDrive_2025-09-19\\patient_data_clean\\ID14-3_511_7.2.21.csv\n"
     ]
    },
    {
     "name": "stderr",
     "output_type": "stream",
     "text": [
      "C:\\Users\\Haiya\\AppData\\Local\\Temp\\ipykernel_4412\\1725828094.py:6: DtypeWarning: Columns (1,2,3,4,5,6,7,8,9,10,11,12,13,14,15,16,17,18,19,20,21,22,23,24,25,26,27,28,29,30,31,32,33,34,35,36,37,38,39,40,41,42,43,44,45,46,47,48,49,50,51,52,53,54,55,56,57,58,59,60,61) have mixed types. Specify dtype option on import or set low_memory=False.\n",
      "  df = pd.read_csv(csv_path)\n"
     ]
    },
    {
     "name": "stdout",
     "output_type": "stream",
     "text": [
      "Saved: C:\\Users\\Haiya\\Downloads\\OneDrive_2025-09-19\\patient_data_clean\\ID15-1_718_7.2.21.csv\n"
     ]
    },
    {
     "name": "stderr",
     "output_type": "stream",
     "text": [
      "C:\\Users\\Haiya\\AppData\\Local\\Temp\\ipykernel_4412\\1725828094.py:6: DtypeWarning: Columns (1,2,3,4,5,6,7,8,9,10,11,12,13,14,15,16,17,18,19,20,21,22,23,24,25,26,27,28,29,30,31,32,33,34,35,36,37,38,39,40,41,42,43,44,45,46,47,48,49,50,51,52,53,54,55,56,57,58,59,60,61) have mixed types. Specify dtype option on import or set low_memory=False.\n",
      "  df = pd.read_csv(csv_path)\n"
     ]
    },
    {
     "name": "stdout",
     "output_type": "stream",
     "text": [
      "Saved: C:\\Users\\Haiya\\Downloads\\OneDrive_2025-09-19\\patient_data_clean\\ID15-2_608_7.3.21.csv\n"
     ]
    },
    {
     "name": "stderr",
     "output_type": "stream",
     "text": [
      "C:\\Users\\Haiya\\AppData\\Local\\Temp\\ipykernel_4412\\1725828094.py:6: DtypeWarning: Columns (1,2,3,4,5,6,7,8,9,10,11,12,13,14,15,16,17,18,19,20,21,22,23,24,25,26,27,28,29,30,31,32,33,34,35,36,37,38,39,40,41,42,43,44,45,46,47,48,49,50,51,52,53,54,55,56,57,58,59,60,61) have mixed types. Specify dtype option on import or set low_memory=False.\n",
      "  df = pd.read_csv(csv_path)\n"
     ]
    },
    {
     "name": "stdout",
     "output_type": "stream",
     "text": [
      "Saved: C:\\Users\\Haiya\\Downloads\\OneDrive_2025-09-19\\patient_data_clean\\ID16-1_590_7.15.21.csv\n"
     ]
    },
    {
     "name": "stderr",
     "output_type": "stream",
     "text": [
      "C:\\Users\\Haiya\\AppData\\Local\\Temp\\ipykernel_4412\\1725828094.py:6: DtypeWarning: Columns (1,2,3,4,5,6,7,8,9,10,11,12,13,14,15,16,17,18,19,20,21,22,23,24,25,26,27,28,29,30,31,32,33,34,35,36,37,38,39,40,41,42,43,44,45,46,47,48,49,50,51,52,53,54,55,56,57,58,59,60,61) have mixed types. Specify dtype option on import or set low_memory=False.\n",
      "  df = pd.read_csv(csv_path)\n"
     ]
    },
    {
     "name": "stdout",
     "output_type": "stream",
     "text": [
      "Saved: C:\\Users\\Haiya\\Downloads\\OneDrive_2025-09-19\\patient_data_clean\\ID16-2_794_7.17.21.csv\n"
     ]
    },
    {
     "name": "stderr",
     "output_type": "stream",
     "text": [
      "C:\\Users\\Haiya\\AppData\\Local\\Temp\\ipykernel_4412\\1725828094.py:6: DtypeWarning: Columns (1,2,3,4,5,6,7,8,9,10,11,12,13,14,15,16,17,18,19,20,21,22,23,24,25,26,27,28,29,30,31,32,33,34,35,36,37,38,39,40,41,42,43,44,45,46,47,48,49,50,51,52,53,54,55,56,57,58,59,60,61) have mixed types. Specify dtype option on import or set low_memory=False.\n",
      "  df = pd.read_csv(csv_path)\n"
     ]
    },
    {
     "name": "stdout",
     "output_type": "stream",
     "text": [
      "Saved: C:\\Users\\Haiya\\Downloads\\OneDrive_2025-09-19\\patient_data_clean\\ID16-3_590_7.18.21.csv\n"
     ]
    },
    {
     "name": "stderr",
     "output_type": "stream",
     "text": [
      "C:\\Users\\Haiya\\AppData\\Local\\Temp\\ipykernel_4412\\1725828094.py:6: DtypeWarning: Columns (1,2,3,4,5,6,7,8,9,10,11,12,13,14,15,16,17,18,19,20,21,22,23,24,25,26,27,28,29,30,31,32,33,34,35,36,37,38,39,40,41,42,43,44,45,46,47,48,49,50,51,52,53,54,55,56,57,58,59,60,61) have mixed types. Specify dtype option on import or set low_memory=False.\n",
      "  df = pd.read_csv(csv_path)\n"
     ]
    },
    {
     "name": "stdout",
     "output_type": "stream",
     "text": [
      "Saved: C:\\Users\\Haiya\\Downloads\\OneDrive_2025-09-19\\patient_data_clean\\ID16-4_590_7.19.21.csv\n"
     ]
    },
    {
     "name": "stderr",
     "output_type": "stream",
     "text": [
      "C:\\Users\\Haiya\\AppData\\Local\\Temp\\ipykernel_4412\\1725828094.py:6: DtypeWarning: Columns (1,2,3,4,5,6,7,8,9,10,11,12,13,14,15,16,17,18,19,20,21,22,23,24,25,26,27,28,29,30,31,32,33,34,35,36,37,38,39,40,41,42,43,44,45,46,47,48,49,50,51,52,53,54,55,56,57,58,59,60,61,62) have mixed types. Specify dtype option on import or set low_memory=False.\n",
      "  df = pd.read_csv(csv_path)\n"
     ]
    },
    {
     "name": "stdout",
     "output_type": "stream",
     "text": [
      "Saved: C:\\Users\\Haiya\\Downloads\\OneDrive_2025-09-19\\patient_data_clean\\ID18-11_583_7.28.21.csv\n"
     ]
    },
    {
     "name": "stderr",
     "output_type": "stream",
     "text": [
      "C:\\Users\\Haiya\\AppData\\Local\\Temp\\ipykernel_4412\\1725828094.py:6: DtypeWarning: Columns (1,2,3,4,5,6,7,8,9,10,11,12,13,14,15,16,17,18,19,20,21,22,23,24,25,26,27,28,29,30,31,32,33,34,35,36,37,38,39,40,41,42,43,44,45,46,47,48,49,50,51,52,53,54,55,56,57,58,59,60,61) have mixed types. Specify dtype option on import or set low_memory=False.\n",
      "  df = pd.read_csv(csv_path)\n"
     ]
    },
    {
     "name": "stdout",
     "output_type": "stream",
     "text": [
      "Saved: C:\\Users\\Haiya\\Downloads\\OneDrive_2025-09-19\\patient_data_clean\\ID18-1_796_7.28.21.csv\n"
     ]
    },
    {
     "name": "stderr",
     "output_type": "stream",
     "text": [
      "C:\\Users\\Haiya\\AppData\\Local\\Temp\\ipykernel_4412\\1725828094.py:6: DtypeWarning: Columns (1,2,3,4,5,6,7,8,9,10,11,12,13,14,15,16,17,18,19,20,21,22,23,24,25,26,27,28,29,30,31,32,33,34,35,36,37,38,39,40,41,42,43,44,45,46,47,48,49,50,51,52,53,54,55,56,57,58,59,60,61) have mixed types. Specify dtype option on import or set low_memory=False.\n",
      "  df = pd.read_csv(csv_path)\n"
     ]
    },
    {
     "name": "stdout",
     "output_type": "stream",
     "text": [
      "Saved: C:\\Users\\Haiya\\Downloads\\OneDrive_2025-09-19\\patient_data_clean\\ID18-2_583_7.29.24.csv\n"
     ]
    },
    {
     "name": "stderr",
     "output_type": "stream",
     "text": [
      "C:\\Users\\Haiya\\AppData\\Local\\Temp\\ipykernel_4412\\1725828094.py:6: DtypeWarning: Columns (1,2,3,4,5,6,7,8,9,10,11,12,13,14,15,16,17,18,19,20,21,22,23,24,25,26,27,28,29,30,31,32,33,34,35,36,37,38,39,40,41,42,43,44,45,46,47,48,49,50,51,52,53,54,55,56,57,58,59,60,61) have mixed types. Specify dtype option on import or set low_memory=False.\n",
      "  df = pd.read_csv(csv_path)\n"
     ]
    },
    {
     "name": "stdout",
     "output_type": "stream",
     "text": [
      "Saved: C:\\Users\\Haiya\\Downloads\\OneDrive_2025-09-19\\patient_data_clean\\ID18-3_583_7.30.21.csv\n"
     ]
    },
    {
     "name": "stderr",
     "output_type": "stream",
     "text": [
      "C:\\Users\\Haiya\\AppData\\Local\\Temp\\ipykernel_4412\\1725828094.py:6: DtypeWarning: Columns (1,2,3,4,5,6,7,8,9,10,11,12,13,14,15,16,17,18,19,20,21,22,23,24,25,26,27,28,29,30,31,32,33,34,35,36,37,38,39,40,41,42,43,44,45,46,47,48,49,50,51,52,53,54,55,56,57,58,59,60,61) have mixed types. Specify dtype option on import or set low_memory=False.\n",
      "  df = pd.read_csv(csv_path)\n"
     ]
    },
    {
     "name": "stdout",
     "output_type": "stream",
     "text": [
      "Saved: C:\\Users\\Haiya\\Downloads\\OneDrive_2025-09-19\\patient_data_clean\\ID19-1_724_7.30.21.csv\n"
     ]
    },
    {
     "name": "stderr",
     "output_type": "stream",
     "text": [
      "C:\\Users\\Haiya\\AppData\\Local\\Temp\\ipykernel_4412\\1725828094.py:6: DtypeWarning: Columns (1,2,3,4,5,6,7,8,9,10,11,12,13,14,15,16,17,18,19,20,21,22,23,24,25,26,27,28,29,30,31,32,33,34,35,36,37,38,39,40,41,42,43,44,45,46,47,48,49,50,51,52,53,54,55,56,57,58,59,60,61) have mixed types. Specify dtype option on import or set low_memory=False.\n",
      "  df = pd.read_csv(csv_path)\n"
     ]
    },
    {
     "name": "stdout",
     "output_type": "stream",
     "text": [
      "Saved: C:\\Users\\Haiya\\Downloads\\OneDrive_2025-09-19\\patient_data_clean\\ID19-2_793_7.31.21.csv\n"
     ]
    },
    {
     "name": "stderr",
     "output_type": "stream",
     "text": [
      "C:\\Users\\Haiya\\AppData\\Local\\Temp\\ipykernel_4412\\1725828094.py:6: DtypeWarning: Columns (1,2,3,4,5,6,7,8,9,10,11,12,13,14,15,16,17,18,19,20,21,22,23,24,25,26,27,28,29,30,31,32,33,34,35,36,37,38,39,40,41,42,43,44,45,46,47,48,49,50,51,52,53,54,55,56,57,58,59,60,61) have mixed types. Specify dtype option on import or set low_memory=False.\n",
      "  df = pd.read_csv(csv_path)\n"
     ]
    },
    {
     "name": "stdout",
     "output_type": "stream",
     "text": [
      "Saved: C:\\Users\\Haiya\\Downloads\\OneDrive_2025-09-19\\patient_data_clean\\ID2-1_496_6.4.20.csv\n"
     ]
    },
    {
     "name": "stderr",
     "output_type": "stream",
     "text": [
      "C:\\Users\\Haiya\\AppData\\Local\\Temp\\ipykernel_4412\\1725828094.py:6: DtypeWarning: Columns (1,2,3,4,5,6,7,8,9,10,11,12,13,14,15,16,17,18,19,20,21,22,23,24,25,26,27,28,29,30,31,32,33,34,35,36,37,38,39,40,41,42,43,44,45,46,47,48,49,50,51,52,53,54,55,56,57,58,59,60,61) have mixed types. Specify dtype option on import or set low_memory=False.\n",
      "  df = pd.read_csv(csv_path)\n"
     ]
    },
    {
     "name": "stdout",
     "output_type": "stream",
     "text": [
      "Saved: C:\\Users\\Haiya\\Downloads\\OneDrive_2025-09-19\\patient_data_clean\\ID2-2_496_6.5.20.csv\n"
     ]
    },
    {
     "name": "stderr",
     "output_type": "stream",
     "text": [
      "C:\\Users\\Haiya\\AppData\\Local\\Temp\\ipykernel_4412\\1725828094.py:6: DtypeWarning: Columns (1,2,3,4,5,6,7,8,9,10,11,12,13,14,15,16,17,18,19,20,21,22,23,24,25,26,27,28,29,30,31,32,33,34,35,36,37,38,39,40,41,42,43,44,45,46,47,48,49,50,51,52,53,54,55,56,57,58,59,60,61) have mixed types. Specify dtype option on import or set low_memory=False.\n",
      "  df = pd.read_csv(csv_path)\n"
     ]
    },
    {
     "name": "stdout",
     "output_type": "stream",
     "text": [
      "Saved: C:\\Users\\Haiya\\Downloads\\OneDrive_2025-09-19\\patient_data_clean\\ID2-3_799_6.6.20.csv\n"
     ]
    },
    {
     "name": "stderr",
     "output_type": "stream",
     "text": [
      "C:\\Users\\Haiya\\AppData\\Local\\Temp\\ipykernel_4412\\1725828094.py:6: DtypeWarning: Columns (1,2,3,4,5,6,7,8,9,10,11,12,13,14,15,16,17,18,19,20,21,22,23,24,25,26,27,28,29,30,31,32,33,34,35,36,37,38,39,40,41,42,43,44,45,46,47,48,49,50,51,52,53,54,55,56,57,58,59,60,61) have mixed types. Specify dtype option on import or set low_memory=False.\n",
      "  df = pd.read_csv(csv_path)\n"
     ]
    },
    {
     "name": "stdout",
     "output_type": "stream",
     "text": [
      "Saved: C:\\Users\\Haiya\\Downloads\\OneDrive_2025-09-19\\patient_data_clean\\ID2-4_496_6.7.19.csv\n"
     ]
    },
    {
     "name": "stderr",
     "output_type": "stream",
     "text": [
      "C:\\Users\\Haiya\\AppData\\Local\\Temp\\ipykernel_4412\\1725828094.py:6: DtypeWarning: Columns (1,2,3,4,5,6,7,8,9,10,11,12,13,14,15,16,17,18,19,20,21,22,23,24,25,26,27,28,29,30,31,32,33,34,35,36,37,38,39,40,41,42,43,44,45,46,47,48,49,50,51,52,53,54,55,56,57,58,59,60,61) have mixed types. Specify dtype option on import or set low_memory=False.\n",
      "  df = pd.read_csv(csv_path)\n"
     ]
    },
    {
     "name": "stdout",
     "output_type": "stream",
     "text": [
      "Saved: C:\\Users\\Haiya\\Downloads\\OneDrive_2025-09-19\\patient_data_clean\\ID20-1_500_8.6.21.csv\n"
     ]
    },
    {
     "name": "stderr",
     "output_type": "stream",
     "text": [
      "C:\\Users\\Haiya\\AppData\\Local\\Temp\\ipykernel_4412\\1725828094.py:6: DtypeWarning: Columns (1,2,3,4,5,6,7,8,9,10,11,12,13,14,15,16,17,18,19,20,21,22,23,24,25,26,27,28,29,30,31,32,33,34,35,36,37,38,39,40,41,42,43,44,45,46,47,48,49,50,51,52,53,54,55,56,57,58,59,60,61) have mixed types. Specify dtype option on import or set low_memory=False.\n",
      "  df = pd.read_csv(csv_path)\n"
     ]
    },
    {
     "name": "stdout",
     "output_type": "stream",
     "text": [
      "Saved: C:\\Users\\Haiya\\Downloads\\OneDrive_2025-09-19\\patient_data_clean\\ID20-2_785_8.7.21.csv\n"
     ]
    },
    {
     "name": "stderr",
     "output_type": "stream",
     "text": [
      "C:\\Users\\Haiya\\AppData\\Local\\Temp\\ipykernel_4412\\1725828094.py:6: DtypeWarning: Columns (1,2,3,4,5,6,7,8,9,10,11,12,13,14,15,16,17,18,19,20,21,22,23,24,25,26,27,28,29,30,31,32,33,34,35,36,37,38,39,40,41,42,43,44,45,46,47,48,49,50,51,52,53,54,55,56,57,58,59,60,61,62) have mixed types. Specify dtype option on import or set low_memory=False.\n",
      "  df = pd.read_csv(csv_path)\n"
     ]
    },
    {
     "name": "stdout",
     "output_type": "stream",
     "text": [
      "Saved: C:\\Users\\Haiya\\Downloads\\OneDrive_2025-09-19\\patient_data_clean\\ID21-1_836_8.6.21.csv\n"
     ]
    },
    {
     "name": "stderr",
     "output_type": "stream",
     "text": [
      "C:\\Users\\Haiya\\AppData\\Local\\Temp\\ipykernel_4412\\1725828094.py:6: DtypeWarning: Columns (1,2,3,4,5,6,7,8,9,10,11,12,13,14,15,16,17,18,19,20,21,22,23,24,25,26,27,28,29,30,31,32,33,34,35,36,37,38,39,40,41,42,43,44,45,46,47,48,49,50,51,52,53,54,55,56,57,58,59,60,61) have mixed types. Specify dtype option on import or set low_memory=False.\n",
      "  df = pd.read_csv(csv_path)\n"
     ]
    },
    {
     "name": "stdout",
     "output_type": "stream",
     "text": [
      "Saved: C:\\Users\\Haiya\\Downloads\\OneDrive_2025-09-19\\patient_data_clean\\ID21-2_792_8.7.21.csv\n"
     ]
    },
    {
     "name": "stderr",
     "output_type": "stream",
     "text": [
      "C:\\Users\\Haiya\\AppData\\Local\\Temp\\ipykernel_4412\\1725828094.py:6: DtypeWarning: Columns (1,2,3,4,5,6,7,8,9,10,11,12,13,14,15,16,17,18,19,20,21,22,23,24,25,26,27,28,29,30,31,32,33,34,35,36,37,38,39,40,41,42,43,44,45,46,47,48,49,50,51,52,53,54,55,56,57,58,59,60,61) have mixed types. Specify dtype option on import or set low_memory=False.\n",
      "  df = pd.read_csv(csv_path)\n"
     ]
    },
    {
     "name": "stdout",
     "output_type": "stream",
     "text": [
      "Saved: C:\\Users\\Haiya\\Downloads\\OneDrive_2025-09-19\\patient_data_clean\\ID22-1_488_8.11.21.csv\n"
     ]
    },
    {
     "name": "stderr",
     "output_type": "stream",
     "text": [
      "C:\\Users\\Haiya\\AppData\\Local\\Temp\\ipykernel_4412\\1725828094.py:6: DtypeWarning: Columns (1,2,3,4,5,6,7,8,9,10,11,12,13,14,15,16,17,18,19,20,21,22,23,24,25,26,27,28,29,30,31,32,33,34,35,36,37,38,39,40,41,42,43,44,45,46,47,48,49,50,51,52,53,54,55,56,57,58,59,60,61) have mixed types. Specify dtype option on import or set low_memory=False.\n",
      "  df = pd.read_csv(csv_path)\n"
     ]
    },
    {
     "name": "stdout",
     "output_type": "stream",
     "text": [
      "Saved: C:\\Users\\Haiya\\Downloads\\OneDrive_2025-09-19\\patient_data_clean\\ID22-2_800_8.12.22.csv\n"
     ]
    },
    {
     "name": "stderr",
     "output_type": "stream",
     "text": [
      "C:\\Users\\Haiya\\AppData\\Local\\Temp\\ipykernel_4412\\1725828094.py:6: DtypeWarning: Columns (1,2,3,4,5,6,7,8,9,10,11,12,13,14,15,16,17,18,19,20,21,22,23,24,25,26,27,28,29,30,31,32,33,34,35,36,37,38,39,40,41,42,43,44,45,46,47,48,49,50,51,52,53,54,55,56,57,58,59,60,61) have mixed types. Specify dtype option on import or set low_memory=False.\n",
      "  df = pd.read_csv(csv_path)\n"
     ]
    },
    {
     "name": "stdout",
     "output_type": "stream",
     "text": [
      "Saved: C:\\Users\\Haiya\\Downloads\\OneDrive_2025-09-19\\patient_data_clean\\ID23-1_1594_8.14.21.csv\n"
     ]
    },
    {
     "name": "stderr",
     "output_type": "stream",
     "text": [
      "C:\\Users\\Haiya\\AppData\\Local\\Temp\\ipykernel_4412\\1725828094.py:6: DtypeWarning: Columns (1,2,3,4,5,6,7,8,9,10,11,12,13,14,15,16,17,18,19,20,21,22,23,24,25,26,27,28,29,30,31,32,33,34,35,36,37,38,39,40,41,42,43,44,45,46,47,48,49,50,51,52,53,54,55,56,57,58,59,60,61) have mixed types. Specify dtype option on import or set low_memory=False.\n",
      "  df = pd.read_csv(csv_path)\n"
     ]
    },
    {
     "name": "stdout",
     "output_type": "stream",
     "text": [
      "Saved: C:\\Users\\Haiya\\Downloads\\OneDrive_2025-09-19\\patient_data_clean\\ID24-1_618_8.22.21.csv\n"
     ]
    },
    {
     "name": "stderr",
     "output_type": "stream",
     "text": [
      "C:\\Users\\Haiya\\AppData\\Local\\Temp\\ipykernel_4412\\1725828094.py:6: DtypeWarning: Columns (1,2,3,4,5,6,7,8,9,10,11,12,13,14,15,16,17,18,19,20,21,22,23,24,25,26,27,28,29,30,31,32,33,34,35,36,37,38,39,40,41,42,43,44,45,46,47,48,49,50,51,52,53,54,55,56,57,58,59,60,61) have mixed types. Specify dtype option on import or set low_memory=False.\n",
      "  df = pd.read_csv(csv_path)\n"
     ]
    },
    {
     "name": "stdout",
     "output_type": "stream",
     "text": [
      "Saved: C:\\Users\\Haiya\\Downloads\\OneDrive_2025-09-19\\patient_data_clean\\ID24-2_732_8.23.21.csv\n"
     ]
    },
    {
     "name": "stderr",
     "output_type": "stream",
     "text": [
      "C:\\Users\\Haiya\\AppData\\Local\\Temp\\ipykernel_4412\\1725828094.py:6: DtypeWarning: Columns (1,2,3,4,5,6,7,8,9,10,11,12,13,14,15,16,17,18,19,20,21,22,23,24,25,26,27,28,29,30,31,32,33,34,35,36,37,38,39,40,41,42,43,44,45,46,47,48,49,50,51,52,53,54,55,56,57,58,59,60,61) have mixed types. Specify dtype option on import or set low_memory=False.\n",
      "  df = pd.read_csv(csv_path)\n"
     ]
    },
    {
     "name": "stdout",
     "output_type": "stream",
     "text": [
      "Saved: C:\\Users\\Haiya\\Downloads\\OneDrive_2025-09-19\\patient_data_clean\\ID25-1_694_9.9.21.csv\n"
     ]
    },
    {
     "name": "stderr",
     "output_type": "stream",
     "text": [
      "C:\\Users\\Haiya\\AppData\\Local\\Temp\\ipykernel_4412\\1725828094.py:6: DtypeWarning: Columns (1,2,3,4,5,6,7,8,9,10,11,12,13,14,15,16,17,18,19,20,21,22,23,24,25,26,27,28,29,30,31,32,33,34,35,36,37,38,39,40,41,42,43,44,45,46,47,48,49,50,51,52,53,54,55,56,57,58,59,60,61) have mixed types. Specify dtype option on import or set low_memory=False.\n",
      "  df = pd.read_csv(csv_path)\n"
     ]
    },
    {
     "name": "stdout",
     "output_type": "stream",
     "text": [
      "Saved: C:\\Users\\Haiya\\Downloads\\OneDrive_2025-09-19\\patient_data_clean\\ID25-2_694_9.10.21.csv\n"
     ]
    },
    {
     "name": "stderr",
     "output_type": "stream",
     "text": [
      "C:\\Users\\Haiya\\AppData\\Local\\Temp\\ipykernel_4412\\1725828094.py:6: DtypeWarning: Columns (1,2,3,4,5,6,7,8,9,10,11,12,13,14,15,16,17,18,19,20,21,22,23,24,25,26,27,28,29,30,31,32,33,34,35,36,37,38,39,40,41,42,43,44,45,46,47,48,49,50,51,52,53,54,55,56,57,58,59,60,61) have mixed types. Specify dtype option on import or set low_memory=False.\n",
      "  df = pd.read_csv(csv_path)\n"
     ]
    },
    {
     "name": "stdout",
     "output_type": "stream",
     "text": [
      "Saved: C:\\Users\\Haiya\\Downloads\\OneDrive_2025-09-19\\patient_data_clean\\ID25-3_799_9.11.21.csv\n"
     ]
    },
    {
     "name": "stderr",
     "output_type": "stream",
     "text": [
      "C:\\Users\\Haiya\\AppData\\Local\\Temp\\ipykernel_4412\\1725828094.py:6: DtypeWarning: Columns (1,2,3,4,5,6,7,8,9,10,11,12,13,14,15,16,17,18,19,20,21,22,23,24,25,26,27,28,29,30,31,32,33,34,35,36,37,38,39,40,41,42,43,44,45,46,47,48,49,50,51,52,53,54,55,56,57,58,59,60,61) have mixed types. Specify dtype option on import or set low_memory=False.\n",
      "  df = pd.read_csv(csv_path)\n"
     ]
    },
    {
     "name": "stdout",
     "output_type": "stream",
     "text": [
      "Saved: C:\\Users\\Haiya\\Downloads\\OneDrive_2025-09-19\\patient_data_clean\\ID25-4_694_9.12.21.csv\n"
     ]
    },
    {
     "name": "stderr",
     "output_type": "stream",
     "text": [
      "C:\\Users\\Haiya\\AppData\\Local\\Temp\\ipykernel_4412\\1725828094.py:6: DtypeWarning: Columns (1,2,3,4,5,6,7,8,9,10,11,12,13,14,15,16,17,18,19,20,21,22,23,24,25,26,27,28,29,30,31,32,33,34,35,36,37,38,39,40,41,42,43,44,45,46,47,48,49,50,51,52,53,54,55,56,57,58,59,60,61) have mixed types. Specify dtype option on import or set low_memory=False.\n",
      "  df = pd.read_csv(csv_path)\n"
     ]
    },
    {
     "name": "stdout",
     "output_type": "stream",
     "text": [
      "Saved: C:\\Users\\Haiya\\Downloads\\OneDrive_2025-09-19\\patient_data_clean\\ID26-1_393_9.28.21.csv\n"
     ]
    },
    {
     "name": "stderr",
     "output_type": "stream",
     "text": [
      "C:\\Users\\Haiya\\AppData\\Local\\Temp\\ipykernel_4412\\1725828094.py:6: DtypeWarning: Columns (1,2,3,4,5,6,7,8,9,10,11,12,13,14,15,16,17,18,19,20,21,22,23,24,25,26,27,28,29,30,31,32,33,34,35,36,37,38,39,40,41,42,43,44,45,46,47,48,49,50,51,52,53,54,55,56,57,58,59,60,61) have mixed types. Specify dtype option on import or set low_memory=False.\n",
      "  df = pd.read_csv(csv_path)\n"
     ]
    },
    {
     "name": "stdout",
     "output_type": "stream",
     "text": [
      "Saved: C:\\Users\\Haiya\\Downloads\\OneDrive_2025-09-19\\patient_data_clean\\ID26-2_795_9.29.21.csv\n"
     ]
    },
    {
     "name": "stderr",
     "output_type": "stream",
     "text": [
      "C:\\Users\\Haiya\\AppData\\Local\\Temp\\ipykernel_4412\\1725828094.py:6: DtypeWarning: Columns (1,2,3,4,5,6,7,8,9,10,11,12,13,14,15,16,17,18,19,20,21,22,23,24,25,26,27,28,29,30,31,32,33,34,35,36,37,38,39,40,41,42,43,44,45,46,47,48,49,50,51,52,53,54,55,56,57,58,59,60,61) have mixed types. Specify dtype option on import or set low_memory=False.\n",
      "  df = pd.read_csv(csv_path)\n"
     ]
    },
    {
     "name": "stdout",
     "output_type": "stream",
     "text": [
      "Saved: C:\\Users\\Haiya\\Downloads\\OneDrive_2025-09-19\\patient_data_clean\\ID26-3_393_9.30.21.csv\n"
     ]
    },
    {
     "name": "stderr",
     "output_type": "stream",
     "text": [
      "C:\\Users\\Haiya\\AppData\\Local\\Temp\\ipykernel_4412\\1725828094.py:6: DtypeWarning: Columns (1,2,3,4,5,6,7,8,9,10,11,12,13,14,15,16,17,18,19,20,21,22,23,24,25,26,27,28,29,30,31,32,33,34,35,36,37,38,39,40,41,42,43,44,45,46,47,48,49,50,51,52,53,54,55,56,57,58,59,60,61) have mixed types. Specify dtype option on import or set low_memory=False.\n",
      "  df = pd.read_csv(csv_path)\n"
     ]
    },
    {
     "name": "stdout",
     "output_type": "stream",
     "text": [
      "Saved: C:\\Users\\Haiya\\Downloads\\OneDrive_2025-09-19\\patient_data_clean\\ID27-1_834_9.29.21.csv\n"
     ]
    },
    {
     "name": "stderr",
     "output_type": "stream",
     "text": [
      "C:\\Users\\Haiya\\AppData\\Local\\Temp\\ipykernel_4412\\1725828094.py:6: DtypeWarning: Columns (1,2,3,4,5,6,7,8,9,10,11,12,13,14,15,16,17,18,19,20,21,22,23,24,25,26,27,28,29,30,31,32,33,34,35,36,37,38,39,40,41,42,43,44,45,46,47,48,49,50,51,52,53,54,55,56,57,58,59,60,61) have mixed types. Specify dtype option on import or set low_memory=False.\n",
      "  df = pd.read_csv(csv_path)\n"
     ]
    },
    {
     "name": "stdout",
     "output_type": "stream",
     "text": [
      "Saved: C:\\Users\\Haiya\\Downloads\\OneDrive_2025-09-19\\patient_data_clean\\ID27-2_795_9.30.21.csv\n"
     ]
    },
    {
     "name": "stderr",
     "output_type": "stream",
     "text": [
      "C:\\Users\\Haiya\\AppData\\Local\\Temp\\ipykernel_4412\\1725828094.py:6: DtypeWarning: Columns (1,2,3,4,5,6,7,8,9,10,11,12,13,14,15,16,17,18,19,20,21,22,23,24,25,26,27,28,29,30,31,32,33,34,35,36,37,38,39,40,41,42,43,44,45,46,47,48,49,50,51,52,53,54,55,56,57,58,59,60,61) have mixed types. Specify dtype option on import or set low_memory=False.\n",
      "  df = pd.read_csv(csv_path)\n"
     ]
    },
    {
     "name": "stdout",
     "output_type": "stream",
     "text": [
      "Saved: C:\\Users\\Haiya\\Downloads\\OneDrive_2025-09-19\\patient_data_clean\\ID27-3_834_10.1.21.csv\n"
     ]
    },
    {
     "name": "stderr",
     "output_type": "stream",
     "text": [
      "C:\\Users\\Haiya\\AppData\\Local\\Temp\\ipykernel_4412\\1725828094.py:6: DtypeWarning: Columns (1,2,3,4,5,6,7,8,9,10,11,12,13,14,15,16,17,18,19,20,21,22,23,24,25,26,27,28,29,30,31,32,33,34,35,36,37,38,39,40,41,42,43,44,45,46,47,48,49,50,51,52,53,54,55,56,57,58,59,60,61) have mixed types. Specify dtype option on import or set low_memory=False.\n",
      "  df = pd.read_csv(csv_path)\n"
     ]
    },
    {
     "name": "stdout",
     "output_type": "stream",
     "text": [
      "Saved: C:\\Users\\Haiya\\Downloads\\OneDrive_2025-09-19\\patient_data_clean\\ID27-4_834_10.2.21.csv\n"
     ]
    },
    {
     "name": "stderr",
     "output_type": "stream",
     "text": [
      "C:\\Users\\Haiya\\AppData\\Local\\Temp\\ipykernel_4412\\1725828094.py:6: DtypeWarning: Columns (1,2,3,4,5,6,7,8,9,10,11,12,13,14,15,16,17,18,19,20,21,22,23,24,25,26,27,28,29,30,31,32,33,34,35,36,37,38,39,40,41,42,43,44,45,46,47,48,49,50,51,52,53,54,55,56,57,58,59,60,61) have mixed types. Specify dtype option on import or set low_memory=False.\n",
      "  df = pd.read_csv(csv_path)\n"
     ]
    },
    {
     "name": "stdout",
     "output_type": "stream",
     "text": [
      "Saved: C:\\Users\\Haiya\\Downloads\\OneDrive_2025-09-19\\patient_data_clean\\ID28-1_386_10.09.21.csv\n",
      "Saved: C:\\Users\\Haiya\\Downloads\\OneDrive_2025-09-19\\patient_data_clean\\ID3-1_492_9.2.20.csv\n"
     ]
    },
    {
     "name": "stderr",
     "output_type": "stream",
     "text": [
      "C:\\Users\\Haiya\\AppData\\Local\\Temp\\ipykernel_4412\\1725828094.py:6: DtypeWarning: Columns (1,2,3,4,5,6,7,8,9,10,11,12,13,14,15,16,17,18,19,20,21,22,23,24,25,26,27,28,29,30,31,32,33,34,35,36,37,38,39,40,41,42,43,44,45,46,47,48,49,50,51,52,53,54,55,56,57,58,59,60,61) have mixed types. Specify dtype option on import or set low_memory=False.\n",
      "  df = pd.read_csv(csv_path)\n"
     ]
    },
    {
     "name": "stdout",
     "output_type": "stream",
     "text": [
      "Saved: C:\\Users\\Haiya\\Downloads\\OneDrive_2025-09-19\\patient_data_clean\\ID3-2_492_9.3.20.csv\n"
     ]
    },
    {
     "name": "stderr",
     "output_type": "stream",
     "text": [
      "C:\\Users\\Haiya\\AppData\\Local\\Temp\\ipykernel_4412\\1725828094.py:6: DtypeWarning: Columns (1,2,3,4,5,6,7,8,9,10,11,12,13,14,15,16,17,18,19,20,21,22,23,24,25,26,27,28,29,30,31,32,33,34,35,36,37,38,39,40,41,42,43,44,45,46,47,48,49,50,51,52,53,54,55,56,57,58,59,60,61) have mixed types. Specify dtype option on import or set low_memory=False.\n",
      "  df = pd.read_csv(csv_path)\n"
     ]
    },
    {
     "name": "stdout",
     "output_type": "stream",
     "text": [
      "Saved: C:\\Users\\Haiya\\Downloads\\OneDrive_2025-09-19\\patient_data_clean\\ID3-2_795_9.4.20.csv\n"
     ]
    },
    {
     "name": "stderr",
     "output_type": "stream",
     "text": [
      "C:\\Users\\Haiya\\AppData\\Local\\Temp\\ipykernel_4412\\1725828094.py:6: DtypeWarning: Columns (1,2,3,4,5,6,7,8,9,10,11,12,13,14,15,16,17,18,19,20,21,22,23,24,25,26,27,28,29,30,31,32,33,34,35,36,37,38,39,40,41,42,43,44,45,46,47,48,49,50,51,52,53,54,55,56,57,58,59,60,61) have mixed types. Specify dtype option on import or set low_memory=False.\n",
      "  df = pd.read_csv(csv_path)\n"
     ]
    },
    {
     "name": "stdout",
     "output_type": "stream",
     "text": [
      "Saved: C:\\Users\\Haiya\\Downloads\\OneDrive_2025-09-19\\patient_data_clean\\ID31-1_1145_12.6.21.csv\n"
     ]
    },
    {
     "name": "stderr",
     "output_type": "stream",
     "text": [
      "C:\\Users\\Haiya\\AppData\\Local\\Temp\\ipykernel_4412\\1725828094.py:6: DtypeWarning: Columns (1,2,3,4,5,6,7,8,9,10,11,12,13,14,15,16,17,18,19,20,21,22,23,24,25,26,27,28,29,30,31,32,33,34,35,36,37,38,39,40,41,42,43,44,45,46,47,48,49,50,51,52,53,54,55,56,57,58,59,60,61) have mixed types. Specify dtype option on import or set low_memory=False.\n",
      "  df = pd.read_csv(csv_path)\n"
     ]
    },
    {
     "name": "stdout",
     "output_type": "stream",
     "text": [
      "Saved: C:\\Users\\Haiya\\Downloads\\OneDrive_2025-09-19\\patient_data_clean\\ID31-2_839_12.7.22.csv\n"
     ]
    },
    {
     "name": "stderr",
     "output_type": "stream",
     "text": [
      "C:\\Users\\Haiya\\AppData\\Local\\Temp\\ipykernel_4412\\1725828094.py:6: DtypeWarning: Columns (1,2,3,4,5,6,7,8,9,10,11,12,13,14,15,16,17,18,19,20,21,22,23,24,25,26,27,28,29,30,31,32,33,34,35,36,37,38,39,40,41,42,43,44,45,46,47,48,49,50,51,52,53,54,55,56,57,58,59,60,61) have mixed types. Specify dtype option on import or set low_memory=False.\n",
      "  df = pd.read_csv(csv_path)\n"
     ]
    },
    {
     "name": "stdout",
     "output_type": "stream",
     "text": [
      "Saved: C:\\Users\\Haiya\\Downloads\\OneDrive_2025-09-19\\patient_data_clean\\ID33-1_750_12.9.21.csv\n"
     ]
    },
    {
     "name": "stderr",
     "output_type": "stream",
     "text": [
      "C:\\Users\\Haiya\\AppData\\Local\\Temp\\ipykernel_4412\\1725828094.py:6: DtypeWarning: Columns (1,2,3,4,5,6,7,8,9,10,11,12,13,14,15,16,17,18,19,20,21,22,23,24,25,26,27,28,29,30,31,32,33,34,35,36,37,38,39,40,41,42,43,44,45,46,47,48,49,50,51,52,53,54,55,56,57,58,59,60,61) have mixed types. Specify dtype option on import or set low_memory=False.\n",
      "  df = pd.read_csv(csv_path)\n"
     ]
    },
    {
     "name": "stdout",
     "output_type": "stream",
     "text": [
      "Saved: C:\\Users\\Haiya\\Downloads\\OneDrive_2025-09-19\\patient_data_clean\\ID33-2_840_12.10.21.csv\n"
     ]
    },
    {
     "name": "stderr",
     "output_type": "stream",
     "text": [
      "C:\\Users\\Haiya\\AppData\\Local\\Temp\\ipykernel_4412\\1725828094.py:6: DtypeWarning: Columns (1,2,3,4,5,6,7,8,9,10,11,12,13,14,15,16,17,18,19,20,21,22,23,24,25,26,27,28,29,30,31,32,33,34,35,36,37,38,39,40,41,42,43,44,45,46,47,48,49,50,51,52,53,54,55,56,57,58,59,60,61) have mixed types. Specify dtype option on import or set low_memory=False.\n",
      "  df = pd.read_csv(csv_path)\n"
     ]
    },
    {
     "name": "stdout",
     "output_type": "stream",
     "text": [
      "Saved: C:\\Users\\Haiya\\Downloads\\OneDrive_2025-09-19\\patient_data_clean\\ID34-1_400_12.15.21.csv\n"
     ]
    },
    {
     "name": "stderr",
     "output_type": "stream",
     "text": [
      "C:\\Users\\Haiya\\AppData\\Local\\Temp\\ipykernel_4412\\1725828094.py:6: DtypeWarning: Columns (1,2,3,4,5,6,7,8,9,10,11,12,13,14,15,16,17,18,19,20,21,22,23,24,25,26,27,28,29,30,31,32,33,34,35,36,37,38,39,40,41,42,43,44,45,46,47,48,49,50,51,52,53,54,55,56,57,58,59,60,61) have mixed types. Specify dtype option on import or set low_memory=False.\n",
      "  df = pd.read_csv(csv_path)\n"
     ]
    },
    {
     "name": "stdout",
     "output_type": "stream",
     "text": [
      "Saved: C:\\Users\\Haiya\\Downloads\\OneDrive_2025-09-19\\patient_data_clean\\ID34-2_789_12.16.22.csv\n"
     ]
    },
    {
     "name": "stderr",
     "output_type": "stream",
     "text": [
      "C:\\Users\\Haiya\\AppData\\Local\\Temp\\ipykernel_4412\\1725828094.py:6: DtypeWarning: Columns (1,2,3,4,5,6,7,8,9,10,11,12,13,14,15,16,17,18,19,20,21,22,23,24,25,26,27,28,29,30,31,32,33,34,35,36,37,38,39,40,41,42,43,44,45,46,47,48,49,50,51,52,53,54,55,56,57,58,59,60,61) have mixed types. Specify dtype option on import or set low_memory=False.\n",
      "  df = pd.read_csv(csv_path)\n"
     ]
    },
    {
     "name": "stdout",
     "output_type": "stream",
     "text": [
      "Saved: C:\\Users\\Haiya\\Downloads\\OneDrive_2025-09-19\\patient_data_clean\\ID35-1_1330_12.21.21.csv\n"
     ]
    },
    {
     "name": "stderr",
     "output_type": "stream",
     "text": [
      "C:\\Users\\Haiya\\AppData\\Local\\Temp\\ipykernel_4412\\1725828094.py:6: DtypeWarning: Columns (1,2,3,4,5,6,7,8,9,10,11,12,13,14,15,16,17,18,19,20,21,22,23,24,25,26,27,28,29,30,31,32,33,34,35,36,37,38,39,40,41,42,43,44,45,46,47,48,49,50,51,52,53,54,55,56,57,58,59,60,61,62) have mixed types. Specify dtype option on import or set low_memory=False.\n",
      "  df = pd.read_csv(csv_path)\n"
     ]
    },
    {
     "name": "stdout",
     "output_type": "stream",
     "text": [
      "Saved: C:\\Users\\Haiya\\Downloads\\OneDrive_2025-09-19\\patient_data_clean\\ID36-1_406_1.7.22.csv\n"
     ]
    },
    {
     "name": "stderr",
     "output_type": "stream",
     "text": [
      "C:\\Users\\Haiya\\AppData\\Local\\Temp\\ipykernel_4412\\1725828094.py:6: DtypeWarning: Columns (1,2,3,4,5,6,7,8,9,10,11,12,13,14,15,16,17,18,19,20,21,22,23,24,25,26,27,28,29,30,31,32,33,34,35,36,37,38,39,40,41,42,43,44,45,46,47,48,49,50,51,52,53,54,55,56,57,58,59,60,61) have mixed types. Specify dtype option on import or set low_memory=False.\n",
      "  df = pd.read_csv(csv_path)\n"
     ]
    },
    {
     "name": "stdout",
     "output_type": "stream",
     "text": [
      "Saved: C:\\Users\\Haiya\\Downloads\\OneDrive_2025-09-19\\patient_data_clean\\ID36-2_790_1.8.22.csv\n"
     ]
    },
    {
     "name": "stderr",
     "output_type": "stream",
     "text": [
      "C:\\Users\\Haiya\\AppData\\Local\\Temp\\ipykernel_4412\\1725828094.py:6: DtypeWarning: Columns (1,2,3,4,5,6,7,8,9,10,11,12,13,14,15,16,17,18,19,20,21,22,23,24,25,26,27,28,29,30,31,32,33,34,35,36,37,38,39,40,41,42,43,44,45,46,47,48,49,50,51,52,53,54,55,56,57,58,59,60,61) have mixed types. Specify dtype option on import or set low_memory=False.\n",
      "  df = pd.read_csv(csv_path)\n"
     ]
    },
    {
     "name": "stdout",
     "output_type": "stream",
     "text": [
      "Saved: C:\\Users\\Haiya\\Downloads\\OneDrive_2025-09-19\\patient_data_clean\\ID36-3_406_1.9.22.csv\n"
     ]
    },
    {
     "name": "stderr",
     "output_type": "stream",
     "text": [
      "C:\\Users\\Haiya\\AppData\\Local\\Temp\\ipykernel_4412\\1725828094.py:6: DtypeWarning: Columns (1,2,3,4,5,6,7,8,9,10,11,12,13,14,15,16,17,18,19,20,21,22,23,24,25,26,27,28,29,30,31,32,33,34,35,36,37,38,39,40,41,42,43,44,45,46,47,48,49,50,51,52,53,54,55,56,57,58,59,60,61) have mixed types. Specify dtype option on import or set low_memory=False.\n",
      "  df = pd.read_csv(csv_path)\n"
     ]
    },
    {
     "name": "stdout",
     "output_type": "stream",
     "text": [
      "Saved: C:\\Users\\Haiya\\Downloads\\OneDrive_2025-09-19\\patient_data_clean\\ID36-4_406_1.10.22.csv\n"
     ]
    },
    {
     "name": "stderr",
     "output_type": "stream",
     "text": [
      "C:\\Users\\Haiya\\AppData\\Local\\Temp\\ipykernel_4412\\1725828094.py:6: DtypeWarning: Columns (1,2,3,4,5,6,7,8,9,10,11,12,13,14,15,16,17,18,19,20,21,22,23,24,25,26,27,28,29,30,31,32,33,34,35,36,37,38,39,40,41,42,43,44,45,46,47,48,49,50,51,52,53,54,55,56,57,58,59,60,61) have mixed types. Specify dtype option on import or set low_memory=False.\n",
      "  df = pd.read_csv(csv_path)\n"
     ]
    },
    {
     "name": "stdout",
     "output_type": "stream",
     "text": [
      "Saved: C:\\Users\\Haiya\\Downloads\\OneDrive_2025-09-19\\patient_data_clean\\ID36-5_406_1.11.22.csv\n"
     ]
    },
    {
     "name": "stderr",
     "output_type": "stream",
     "text": [
      "C:\\Users\\Haiya\\AppData\\Local\\Temp\\ipykernel_4412\\1725828094.py:6: DtypeWarning: Columns (1,2,3,4,5,6,7,8,9,10,11,12,13,14,15,16,17,18,19,20,21,22,23,24,25,26,27,28,29,30,31,32,33,34,35,36,37,38,39,40,41,42,43,44,45,46,47,48,49,50,51,52,53,54,55,56,57,58,59,60,61) have mixed types. Specify dtype option on import or set low_memory=False.\n",
      "  df = pd.read_csv(csv_path)\n"
     ]
    },
    {
     "name": "stdout",
     "output_type": "stream",
     "text": [
      "Saved: C:\\Users\\Haiya\\Downloads\\OneDrive_2025-09-19\\patient_data_clean\\ID37-1_486_1.11.22.csv\n"
     ]
    },
    {
     "name": "stderr",
     "output_type": "stream",
     "text": [
      "C:\\Users\\Haiya\\AppData\\Local\\Temp\\ipykernel_4412\\1725828094.py:6: DtypeWarning: Columns (1,2,3,4,5,6,7,8,9,10,11,12,13,14,15,16,17,18,19,20,21,22,23,24,25,26,27,28,29,30,31,32,33,34,35,36,37,38,39,40,41,42,43,44,45,46,47,48,49,50,51,52,53,54,55,56,57,58,59,60,61) have mixed types. Specify dtype option on import or set low_memory=False.\n",
      "  df = pd.read_csv(csv_path)\n"
     ]
    },
    {
     "name": "stdout",
     "output_type": "stream",
     "text": [
      "Saved: C:\\Users\\Haiya\\Downloads\\OneDrive_2025-09-19\\patient_data_clean\\ID37-2_798_1.12.22.csv\n"
     ]
    },
    {
     "name": "stderr",
     "output_type": "stream",
     "text": [
      "C:\\Users\\Haiya\\AppData\\Local\\Temp\\ipykernel_4412\\1725828094.py:6: DtypeWarning: Columns (1,2,3,4,5,6,7,8,9,10,11,12,13,14,15,16,17,18,19,20,21,22,23,24,25,26,27,28,29,30,31,32,33,34,35,36,37,38,39,40,41,42,43,44,45,46,47,48,49,50,51,52,53,54,55,56,57,58,59,60,61) have mixed types. Specify dtype option on import or set low_memory=False.\n",
      "  df = pd.read_csv(csv_path)\n"
     ]
    },
    {
     "name": "stdout",
     "output_type": "stream",
     "text": [
      "Saved: C:\\Users\\Haiya\\Downloads\\OneDrive_2025-09-19\\patient_data_clean\\ID37-3_486_1.13.22.csv\n"
     ]
    },
    {
     "name": "stderr",
     "output_type": "stream",
     "text": [
      "C:\\Users\\Haiya\\AppData\\Local\\Temp\\ipykernel_4412\\1725828094.py:6: DtypeWarning: Columns (1,2,3,4,5,6,7,8,9,10,11,12,13,14,15,16,17,18,19,20,21,22,23,24,25,26,27,28,29,30,31,32,33,34,35,36,37,38,39,40,41,42,43,44,45,46,47,48,49,50,51,52,53,54,55,56,57,58,59,60,61) have mixed types. Specify dtype option on import or set low_memory=False.\n",
      "  df = pd.read_csv(csv_path)\n"
     ]
    },
    {
     "name": "stdout",
     "output_type": "stream",
     "text": [
      "Saved: C:\\Users\\Haiya\\Downloads\\OneDrive_2025-09-19\\patient_data_clean\\ID38-1_523_1.24.22.csv\n"
     ]
    },
    {
     "name": "stderr",
     "output_type": "stream",
     "text": [
      "C:\\Users\\Haiya\\AppData\\Local\\Temp\\ipykernel_4412\\1725828094.py:6: DtypeWarning: Columns (1,2,3,4,5,6,7,8,9,10,11,12,13,14,15,16,17,18,19,20,21,22,23,24,25,26,27,28,29,30,31,32,33,34,35,36,37,38,39,40,41,42,43,44,45,46,47,48,49,50,51,52,53,54,55,56,57,58,59,60,61) have mixed types. Specify dtype option on import or set low_memory=False.\n",
      "  df = pd.read_csv(csv_path)\n"
     ]
    },
    {
     "name": "stdout",
     "output_type": "stream",
     "text": [
      "Saved: C:\\Users\\Haiya\\Downloads\\OneDrive_2025-09-19\\patient_data_clean\\ID38-2_793_1.25.22.csv\n"
     ]
    },
    {
     "name": "stderr",
     "output_type": "stream",
     "text": [
      "C:\\Users\\Haiya\\AppData\\Local\\Temp\\ipykernel_4412\\1725828094.py:6: DtypeWarning: Columns (1,2,3,4,5,6,7,8,9,10,11,12,13,14,15,16,17,18,19,20,21,22,23,24,25,26,27,28,29,30,31,32,33,34,35,36,37,38,39,40,41,42,43,44,45,46,47,48,49,50,51,52,53,54,55,56,57,58,59,60,61) have mixed types. Specify dtype option on import or set low_memory=False.\n",
      "  df = pd.read_csv(csv_path)\n"
     ]
    },
    {
     "name": "stdout",
     "output_type": "stream",
     "text": [
      "Saved: C:\\Users\\Haiya\\Downloads\\OneDrive_2025-09-19\\patient_data_clean\\ID38-3_715_1.26.22.csv\n"
     ]
    },
    {
     "name": "stderr",
     "output_type": "stream",
     "text": [
      "C:\\Users\\Haiya\\AppData\\Local\\Temp\\ipykernel_4412\\1725828094.py:6: DtypeWarning: Columns (1,2,3,4,5,6,7,8,9,10,11,12,13,14,15,16,17,18,19,20,21,22,23,24,25,26,27,28,29,30,31,32,33,34,35,36,37,38,39,40,41,42,43,44,45,46,47,48,49,50,51,52,53,54,55,56,57,58,59,60,61) have mixed types. Specify dtype option on import or set low_memory=False.\n",
      "  df = pd.read_csv(csv_path)\n"
     ]
    },
    {
     "name": "stdout",
     "output_type": "stream",
     "text": [
      "Saved: C:\\Users\\Haiya\\Downloads\\OneDrive_2025-09-19\\patient_data_clean\\ID38-4_715_1.27.22.csv\n"
     ]
    },
    {
     "name": "stderr",
     "output_type": "stream",
     "text": [
      "C:\\Users\\Haiya\\AppData\\Local\\Temp\\ipykernel_4412\\1725828094.py:6: DtypeWarning: Columns (1,2,3,4,5,6,7,8,9,10,11,12,13,14,15,16,17,18,19,20,21,22,23,24,25,26,27,28,29,30,31,32,33,34,35,36,37,38,39,40,41,42,43,44,45,46,47,48,49,50,51,52,53,54,55,56,57,58,59,60,61) have mixed types. Specify dtype option on import or set low_memory=False.\n",
      "  df = pd.read_csv(csv_path)\n"
     ]
    },
    {
     "name": "stdout",
     "output_type": "stream",
     "text": [
      "Saved: C:\\Users\\Haiya\\Downloads\\OneDrive_2025-09-19\\patient_data_clean\\ID39-1_600_1.26.22.csv\n"
     ]
    },
    {
     "name": "stderr",
     "output_type": "stream",
     "text": [
      "C:\\Users\\Haiya\\AppData\\Local\\Temp\\ipykernel_4412\\1725828094.py:6: DtypeWarning: Columns (1,2,3,4,5,6,7,8,9,10,11,12,13,14,15,16,17,18,19,20,21,22,23,24,25,26,27,28,29,30,31,32,33,34,35,36,37,38,39,40,41,42,43,44,45,46,47,48,49,50,51,52,53,54,55,56,57,58,59,60,61) have mixed types. Specify dtype option on import or set low_memory=False.\n",
      "  df = pd.read_csv(csv_path)\n"
     ]
    },
    {
     "name": "stdout",
     "output_type": "stream",
     "text": [
      "Saved: C:\\Users\\Haiya\\Downloads\\OneDrive_2025-09-19\\patient_data_clean\\ID39-2_600_1.28.22.csv\n"
     ]
    },
    {
     "name": "stderr",
     "output_type": "stream",
     "text": [
      "C:\\Users\\Haiya\\AppData\\Local\\Temp\\ipykernel_4412\\1725828094.py:6: DtypeWarning: Columns (1,2,3,4,5,6,7,8,9,10,11,12,13,14,15,16,17,18,19,20,21,22,23,24,25,26,27,28,29,30,31,32,33,34,35,36,37,38,39,40,41,42,43,44,45,46,47,48,49,50,51,52,53,54,55,56,57,58,59,60,61) have mixed types. Specify dtype option on import or set low_memory=False.\n",
      "  df = pd.read_csv(csv_path)\n"
     ]
    },
    {
     "name": "stdout",
     "output_type": "stream",
     "text": [
      "Saved: C:\\Users\\Haiya\\Downloads\\OneDrive_2025-09-19\\patient_data_clean\\ID39-2_786_1.27.22.csv\n"
     ]
    },
    {
     "name": "stderr",
     "output_type": "stream",
     "text": [
      "C:\\Users\\Haiya\\AppData\\Local\\Temp\\ipykernel_4412\\1725828094.py:6: DtypeWarning: Columns (1,2,3,4,5,6,7,8,9,10,11,12,13,14,15,16,17,18,19,20,21,22,23,24,25,26,27,28,29,30,31,32,33,34,35,36,37,38,39,40,41,42,43,44,45,46,47,48,49,50,51,52,53,54,55,56,57,58,59,60,61) have mixed types. Specify dtype option on import or set low_memory=False.\n",
      "  df = pd.read_csv(csv_path)\n"
     ]
    },
    {
     "name": "stdout",
     "output_type": "stream",
     "text": [
      "Saved: C:\\Users\\Haiya\\Downloads\\OneDrive_2025-09-19\\patient_data_clean\\ID4-11_598_2.3.22.csv\n"
     ]
    },
    {
     "name": "stderr",
     "output_type": "stream",
     "text": [
      "C:\\Users\\Haiya\\AppData\\Local\\Temp\\ipykernel_4412\\1725828094.py:6: DtypeWarning: Columns (1,2,3,4,5,6,7,8,9,10,11,12,13,14,15,16,17,18,19,20,21,22,23,24,25,26,27,28,29,30,31,32,33,34,35,36,37,38,39,40,41,42,43,44,45,46,47,48,49,50,51,52,53,54,55,56,57,58,59,60,61) have mixed types. Specify dtype option on import or set low_memory=False.\n",
      "  df = pd.read_csv(csv_path)\n"
     ]
    },
    {
     "name": "stdout",
     "output_type": "stream",
     "text": [
      "Saved: C:\\Users\\Haiya\\Downloads\\OneDrive_2025-09-19\\patient_data_clean\\ID4-1_794_10.1.20.csv\n"
     ]
    },
    {
     "name": "stderr",
     "output_type": "stream",
     "text": [
      "C:\\Users\\Haiya\\AppData\\Local\\Temp\\ipykernel_4412\\1725828094.py:6: DtypeWarning: Columns (1,2,3,4,5,6,7,8,9,10,11,12,13,14,15,16,17,18,19,20,21,22,23,24,25,26,27,28,29,30,31,32,33,34,35,36,37,38,39,40,41,42,43,44,45,46,47,48,49,50,51,52,53,54,55,56,57,58,59,60,61) have mixed types. Specify dtype option on import or set low_memory=False.\n",
      "  df = pd.read_csv(csv_path)\n"
     ]
    },
    {
     "name": "stdout",
     "output_type": "stream",
     "text": [
      "Saved: C:\\Users\\Haiya\\Downloads\\OneDrive_2025-09-19\\patient_data_clean\\ID4-2_800_10.2.20.csv\n"
     ]
    },
    {
     "name": "stderr",
     "output_type": "stream",
     "text": [
      "C:\\Users\\Haiya\\AppData\\Local\\Temp\\ipykernel_4412\\1725828094.py:6: DtypeWarning: Columns (1,2,3,4,5,6,7,8,9,10,11,12,13,14,15,16,17,18,19,20,21,22,23,24,25,26,27,28,29,30,31,32,33,34,35,36,37,38,39,40,41,42,43,44,45,46,47,48,49,50,51,52,53,54,55,56,57,58,59,60,61) have mixed types. Specify dtype option on import or set low_memory=False.\n",
      "  df = pd.read_csv(csv_path)\n"
     ]
    },
    {
     "name": "stdout",
     "output_type": "stream",
     "text": [
      "Saved: C:\\Users\\Haiya\\Downloads\\OneDrive_2025-09-19\\patient_data_clean\\ID4-3_826_10.3.20.csv\n",
      "Saved: C:\\Users\\Haiya\\Downloads\\OneDrive_2025-09-19\\patient_data_clean\\ID40-1_712_2.3.22.csv\n"
     ]
    },
    {
     "name": "stderr",
     "output_type": "stream",
     "text": [
      "C:\\Users\\Haiya\\AppData\\Local\\Temp\\ipykernel_4412\\1725828094.py:6: DtypeWarning: Columns (1,2,3,4,5,6,7,8,9,10,11,12,13,14,15,16,17,18,19,20,21,22,23,24,25,26,27,28,29,30,31,32,33,34,35,36,37,38,39,40,41,42,43,44,45,46,47,48,49,50,51,52,53,54,55,56,57,58,59,60,61) have mixed types. Specify dtype option on import or set low_memory=False.\n",
      "  df = pd.read_csv(csv_path)\n"
     ]
    },
    {
     "name": "stdout",
     "output_type": "stream",
     "text": [
      "Saved: C:\\Users\\Haiya\\Downloads\\OneDrive_2025-09-19\\patient_data_clean\\ID43-1_601_4.16.22.csv\n"
     ]
    },
    {
     "name": "stderr",
     "output_type": "stream",
     "text": [
      "C:\\Users\\Haiya\\AppData\\Local\\Temp\\ipykernel_4412\\1725828094.py:6: DtypeWarning: Columns (1,2,3,4,5,6,7,8,9,10,11,12,13,14,15,16,17,18,19,20,21,22,23,24,25,26,27,28,29,30,31,32,33,34,35,36,37,38,39,40,41,42,43,44,45,46,47,48,49,50,51,52,53,54,55,56,57,58,59,60,61) have mixed types. Specify dtype option on import or set low_memory=False.\n",
      "  df = pd.read_csv(csv_path)\n"
     ]
    },
    {
     "name": "stdout",
     "output_type": "stream",
     "text": [
      "Saved: C:\\Users\\Haiya\\Downloads\\OneDrive_2025-09-19\\patient_data_clean\\ID43-2_787_4.17.22.csv\n"
     ]
    },
    {
     "name": "stderr",
     "output_type": "stream",
     "text": [
      "C:\\Users\\Haiya\\AppData\\Local\\Temp\\ipykernel_4412\\1725828094.py:6: DtypeWarning: Columns (1,2,3,4,5,6,7,8,9,10,11,12,13,14,15,16,17,18,19,20,21,22,23,24,25,26,27,28,29,30,31,32,33,34,35,36,37,38,39,40,41,42,43,44,45,46,47,48,49,50,51,52,53,54,55,56,57,58,59,60,61) have mixed types. Specify dtype option on import or set low_memory=False.\n",
      "  df = pd.read_csv(csv_path)\n"
     ]
    },
    {
     "name": "stdout",
     "output_type": "stream",
     "text": [
      "Saved: C:\\Users\\Haiya\\Downloads\\OneDrive_2025-09-19\\patient_data_clean\\ID43-3_601_4.18.22.csv\n"
     ]
    },
    {
     "name": "stderr",
     "output_type": "stream",
     "text": [
      "C:\\Users\\Haiya\\AppData\\Local\\Temp\\ipykernel_4412\\1725828094.py:6: DtypeWarning: Columns (1,2,3,4,5,6,7,8,9,10,11,12,13,14,15,16,17,18,19,20,21,22,23,24,25,26,27,28,29,30,31,32,33,34,35,36,37,38,39,40,41,42,43,44,45,46,47,48,49,50,51,52,53,54,55,56,57,58,59,60,61) have mixed types. Specify dtype option on import or set low_memory=False.\n",
      "  df = pd.read_csv(csv_path)\n"
     ]
    },
    {
     "name": "stdout",
     "output_type": "stream",
     "text": [
      "Saved: C:\\Users\\Haiya\\Downloads\\OneDrive_2025-09-19\\patient_data_clean\\ID44-1_955_4.23.33.csv\n",
      "Saved: C:\\Users\\Haiya\\Downloads\\OneDrive_2025-09-19\\patient_data_clean\\ID44-2_799_4.24.22.csv\n"
     ]
    },
    {
     "name": "stderr",
     "output_type": "stream",
     "text": [
      "C:\\Users\\Haiya\\AppData\\Local\\Temp\\ipykernel_4412\\1725828094.py:6: DtypeWarning: Columns (1,2,3,4,5,6,7,8,9,10,11,12,13,14,15,16,17,18,19,20,21,22,23,24,25,26,27,28,29,30,31,32,33,34,35,36,37,38,39,40,41,42,43,44,45,46,47,48,49,50,51,52,53,54,55,56,57,58,59,60,61) have mixed types. Specify dtype option on import or set low_memory=False.\n",
      "  df = pd.read_csv(csv_path)\n"
     ]
    },
    {
     "name": "stdout",
     "output_type": "stream",
     "text": [
      "Saved: C:\\Users\\Haiya\\Downloads\\OneDrive_2025-09-19\\patient_data_clean\\ID44-3_955_4.25.22.csv\n"
     ]
    },
    {
     "name": "stderr",
     "output_type": "stream",
     "text": [
      "C:\\Users\\Haiya\\AppData\\Local\\Temp\\ipykernel_4412\\1725828094.py:6: DtypeWarning: Columns (1,2,3,4,5,6,7,8,9,10,11,12,13,14,15,16,17,18,19,20,21,22,23,24,25,26,27,28,29,30,31,32,33,34,35,36,37,38,39,40,41,42,43,44,45,46,47,48,49,50,51,52,53,54,55,56,57,58,59,60,61) have mixed types. Specify dtype option on import or set low_memory=False.\n",
      "  df = pd.read_csv(csv_path)\n"
     ]
    },
    {
     "name": "stdout",
     "output_type": "stream",
     "text": [
      "Saved: C:\\Users\\Haiya\\Downloads\\OneDrive_2025-09-19\\patient_data_clean\\ID44-4_955_4.26.22.csv\n"
     ]
    },
    {
     "name": "stderr",
     "output_type": "stream",
     "text": [
      "C:\\Users\\Haiya\\AppData\\Local\\Temp\\ipykernel_4412\\1725828094.py:6: DtypeWarning: Columns (1,2,3,4,5,6,7,8,9,10,11,12,13,14,15,16,17,18,19,20,21,22,23,24,25,26,27,28,29,30,31,32,33,34,35,36,37,38,39,40,41,42,43,44,45,46,47,48,49,50,51,52,53,54,55,56,57,58,59,60,61) have mixed types. Specify dtype option on import or set low_memory=False.\n",
      "  df = pd.read_csv(csv_path)\n"
     ]
    },
    {
     "name": "stdout",
     "output_type": "stream",
     "text": [
      "Saved: C:\\Users\\Haiya\\Downloads\\OneDrive_2025-09-19\\patient_data_clean\\ID45-1_513_5.19.22.csv\n"
     ]
    },
    {
     "name": "stderr",
     "output_type": "stream",
     "text": [
      "C:\\Users\\Haiya\\AppData\\Local\\Temp\\ipykernel_4412\\1725828094.py:6: DtypeWarning: Columns (1,2,3,4,5,6,7,8,9,10,11,12,13,14,15,16,17,18,19,20,21,22,23,24,25,26,27,28,29,30,31,32,33,34,35,36,37,38,39,40,41,42,43,44,45,46,47,48,49,50,51,52,53,54,55,56,57,58,59,60,61) have mixed types. Specify dtype option on import or set low_memory=False.\n",
      "  df = pd.read_csv(csv_path)\n"
     ]
    },
    {
     "name": "stdout",
     "output_type": "stream",
     "text": [
      "Saved: C:\\Users\\Haiya\\Downloads\\OneDrive_2025-09-19\\patient_data_clean\\ID47-1_697_7.18.22.csv\n"
     ]
    },
    {
     "name": "stderr",
     "output_type": "stream",
     "text": [
      "C:\\Users\\Haiya\\AppData\\Local\\Temp\\ipykernel_4412\\1725828094.py:6: DtypeWarning: Columns (1,2,3,4,5,6,7,8,9,10,11,12,13,14,15,16,17,18,19,20,21,22,23,24,25,26,27,28,29,30,31,32,33,34,35,36,37,38,39,40,41,42,43,44,45,46,47,48,49,50,51,52,53,54,55,56,57,58,59,60,61) have mixed types. Specify dtype option on import or set low_memory=False.\n",
      "  df = pd.read_csv(csv_path)\n"
     ]
    },
    {
     "name": "stdout",
     "output_type": "stream",
     "text": [
      "Saved: C:\\Users\\Haiya\\Downloads\\OneDrive_2025-09-19\\patient_data_clean\\ID47-2_802_7.19.22.csv\n"
     ]
    },
    {
     "name": "stderr",
     "output_type": "stream",
     "text": [
      "C:\\Users\\Haiya\\AppData\\Local\\Temp\\ipykernel_4412\\1725828094.py:6: DtypeWarning: Columns (1,2,3,4,5,6,7,8,9,10,11,12,13,14,15,16,17,18,19,20,21,22,23,24,25,26,27,28,29,30,31,32,33,34,35,36,37,38,39,40,41,42,43,44,45,46,47,48,49,50,51,52,53,54,55,56,57,58,59,60,61) have mixed types. Specify dtype option on import or set low_memory=False.\n",
      "  df = pd.read_csv(csv_path)\n"
     ]
    },
    {
     "name": "stdout",
     "output_type": "stream",
     "text": [
      "Saved: C:\\Users\\Haiya\\Downloads\\OneDrive_2025-09-19\\patient_data_clean\\ID49-1_845_9.6.22.csv\n"
     ]
    },
    {
     "name": "stderr",
     "output_type": "stream",
     "text": [
      "C:\\Users\\Haiya\\AppData\\Local\\Temp\\ipykernel_4412\\1725828094.py:6: DtypeWarning: Columns (1,2,3,4,5,6,7,8,9,10,11,12,13,14,15,16,17,18,19,20,21,22,23,24,25,26,27,28,29,30,31,32,33,34,35,36,37,38,39,40,41,42,43,44,45,46,47,48,49,50,51,52,53,54,55,56,57,58,59,60,61) have mixed types. Specify dtype option on import or set low_memory=False.\n",
      "  df = pd.read_csv(csv_path)\n"
     ]
    },
    {
     "name": "stdout",
     "output_type": "stream",
     "text": [
      "Saved: C:\\Users\\Haiya\\Downloads\\OneDrive_2025-09-19\\patient_data_clean\\ID49-2_797_9.7.22.csv\n"
     ]
    },
    {
     "name": "stderr",
     "output_type": "stream",
     "text": [
      "C:\\Users\\Haiya\\AppData\\Local\\Temp\\ipykernel_4412\\1725828094.py:6: DtypeWarning: Columns (1,2,3,4,5,6,7,8,9,10,11,12,13,14,15,16,17,18,19,20,21,22,23,24,25,26,27,28,29,30,31,32,33,34,35,36,37,38,39,40,41,42,43,44,45,46,47,48,49,50,51,52,53,54,55,56,57,58,59,60,61) have mixed types. Specify dtype option on import or set low_memory=False.\n",
      "  df = pd.read_csv(csv_path)\n"
     ]
    },
    {
     "name": "stdout",
     "output_type": "stream",
     "text": [
      "Saved: C:\\Users\\Haiya\\Downloads\\OneDrive_2025-09-19\\patient_data_clean\\ID5-1_609_10.5.20.csv\n"
     ]
    },
    {
     "name": "stderr",
     "output_type": "stream",
     "text": [
      "C:\\Users\\Haiya\\AppData\\Local\\Temp\\ipykernel_4412\\1725828094.py:6: DtypeWarning: Columns (1,2,3,4,5,6,7,8,9,10,11,12,13,14,15,16,17,18,19,20,21,22,23,24,25,26,27,28,29,30,31,32,33,34,35,36,37,38,39,40,41,42,43,44,45,46,47,48,49,50,51,52,53,54,55,56,57,58,59,60,61) have mixed types. Specify dtype option on import or set low_memory=False.\n",
      "  df = pd.read_csv(csv_path)\n"
     ]
    },
    {
     "name": "stdout",
     "output_type": "stream",
     "text": [
      "Saved: C:\\Users\\Haiya\\Downloads\\OneDrive_2025-09-19\\patient_data_clean\\ID5-2_500_10.18.21.csv\n",
      "Saved: C:\\Users\\Haiya\\Downloads\\OneDrive_2025-09-19\\patient_data_clean\\ID5-2_795_10.6.20.csv\n"
     ]
    },
    {
     "name": "stderr",
     "output_type": "stream",
     "text": [
      "C:\\Users\\Haiya\\AppData\\Local\\Temp\\ipykernel_4412\\1725828094.py:6: DtypeWarning: Columns (1,2,3,4,5,6,7,8,9,10,11,12,13,14,15,16,17,18,19,20,21,22,23,24,25,26,27,28,29,30,31,32,33,34,35,36,37,38,39,40,41,42,43,44,45,46,47,48,49,50,51,52,53,54,55,56,57,58,59,60,61) have mixed types. Specify dtype option on import or set low_memory=False.\n",
      "  df = pd.read_csv(csv_path)\n"
     ]
    },
    {
     "name": "stdout",
     "output_type": "stream",
     "text": [
      "Saved: C:\\Users\\Haiya\\Downloads\\OneDrive_2025-09-19\\patient_data_clean\\ID50-1_842_9.11.22.csv\n"
     ]
    },
    {
     "name": "stderr",
     "output_type": "stream",
     "text": [
      "C:\\Users\\Haiya\\AppData\\Local\\Temp\\ipykernel_4412\\1725828094.py:6: DtypeWarning: Columns (1,2,3,4,5,6,7,8,9,10,11,12,13,14,15,16,17,18,19,20,21,22,23,24,25,26,27,28,29,30,31,32,33,34,35,36,37,38,39,40,41,42,43,44,45,46,47,48,49,50,51,52,53,54,55,56,57,58,59,60,61) have mixed types. Specify dtype option on import or set low_memory=False.\n",
      "  df = pd.read_csv(csv_path)\n"
     ]
    },
    {
     "name": "stdout",
     "output_type": "stream",
     "text": [
      "Saved: C:\\Users\\Haiya\\Downloads\\OneDrive_2025-09-19\\patient_data_clean\\ID50-2_794_9.12.22.csv\n"
     ]
    },
    {
     "name": "stderr",
     "output_type": "stream",
     "text": [
      "C:\\Users\\Haiya\\AppData\\Local\\Temp\\ipykernel_4412\\1725828094.py:6: DtypeWarning: Columns (1,2,3,4,5,6,7,8,9,10,11,12,13,14,15,16,17,18,19,20,21,22,23,24,25,26,27,28,29,30,31,32,33,34,35,36,37,38,39,40,41,42,43,44,45,46,47,48,49,50,51,52,53,54,55,56,57,58,59,60,61) have mixed types. Specify dtype option on import or set low_memory=False.\n",
      "  df = pd.read_csv(csv_path)\n"
     ]
    },
    {
     "name": "stdout",
     "output_type": "stream",
     "text": [
      "Saved: C:\\Users\\Haiya\\Downloads\\OneDrive_2025-09-19\\patient_data_clean\\ID51-1_298_9.27.22.csv\n"
     ]
    },
    {
     "name": "stderr",
     "output_type": "stream",
     "text": [
      "C:\\Users\\Haiya\\AppData\\Local\\Temp\\ipykernel_4412\\1725828094.py:6: DtypeWarning: Columns (1,2,3,4,5,6,7,8,9,10,11,12,13,14,15,16,17,18,19,20,21,22,23,24,25,26,27,28,29,30,31,32,33,34,35,36,37,38,39,40,41,42,43,44,45,46,47,48,49,50,51,52,53,54,55,56,57,58,59,60,61) have mixed types. Specify dtype option on import or set low_memory=False.\n",
      "  df = pd.read_csv(csv_path)\n"
     ]
    },
    {
     "name": "stdout",
     "output_type": "stream",
     "text": [
      "Saved: C:\\Users\\Haiya\\Downloads\\OneDrive_2025-09-19\\patient_data_clean\\ID51-2_799_9.29.22.csv\n"
     ]
    },
    {
     "name": "stderr",
     "output_type": "stream",
     "text": [
      "C:\\Users\\Haiya\\AppData\\Local\\Temp\\ipykernel_4412\\1725828094.py:6: DtypeWarning: Columns (1,2,3,4,5,6,7,8,9,10,11,12,13,14,15,16,17,18,19,20,21,22,23,24,25,26,27,28,29,30,31,32,33,34,35,36,37,38,39,40,41,42,43,44,45,46,47,48,49,50,51,52,53,54,55,56,57,58,59,60,61) have mixed types. Specify dtype option on import or set low_memory=False.\n",
      "  df = pd.read_csv(csv_path)\n"
     ]
    },
    {
     "name": "stdout",
     "output_type": "stream",
     "text": [
      "Saved: C:\\Users\\Haiya\\Downloads\\OneDrive_2025-09-19\\patient_data_clean\\ID53-1_452_10.27.22.csv\n"
     ]
    },
    {
     "name": "stderr",
     "output_type": "stream",
     "text": [
      "C:\\Users\\Haiya\\AppData\\Local\\Temp\\ipykernel_4412\\1725828094.py:6: DtypeWarning: Columns (1,2,3,4,5,6,7,8,9,10,11,12,13,14,15,16,17,18,19,20,21,22,23,24,25,26,27,28,29,30,31,32,33,34,35,36,37,38,39,40,41,42,43,44,45,46,47,48,49,50,51,52,53,54,55,56,57,58,59,60,61) have mixed types. Specify dtype option on import or set low_memory=False.\n",
      "  df = pd.read_csv(csv_path)\n"
     ]
    },
    {
     "name": "stdout",
     "output_type": "stream",
     "text": [
      "Saved: C:\\Users\\Haiya\\Downloads\\OneDrive_2025-09-19\\patient_data_clean\\ID54-1_1033_11.9.22.csv\n"
     ]
    },
    {
     "name": "stderr",
     "output_type": "stream",
     "text": [
      "C:\\Users\\Haiya\\AppData\\Local\\Temp\\ipykernel_4412\\1725828094.py:6: DtypeWarning: Columns (1,2,3,4,5,6,7,8,9,10,11,12,13,14,15,16,17,18,19,20,21,22,23,24,25,26,27,28,29,30,31,32,33,34,35,36,37,38,39,40,41,42,43,44,45,46,47,48,49,50,51,52,53,54,55,56,57,58,59,60,61) have mixed types. Specify dtype option on import or set low_memory=False.\n",
      "  df = pd.read_csv(csv_path)\n"
     ]
    },
    {
     "name": "stdout",
     "output_type": "stream",
     "text": [
      "Saved: C:\\Users\\Haiya\\Downloads\\OneDrive_2025-09-19\\patient_data_clean\\ID54-2_835_11.10.22.csv\n"
     ]
    },
    {
     "name": "stderr",
     "output_type": "stream",
     "text": [
      "C:\\Users\\Haiya\\AppData\\Local\\Temp\\ipykernel_4412\\1725828094.py:6: DtypeWarning: Columns (1,2,3,4,5,6,7,8,9,10,11,12,13,14,15,16,17,18,19,20,21,22,23,24,25,26,27,28,29,30,31,32,33,34,35,36,37,38,39,40,41,42,43,44,45,46,47,48,49,50,51,52,53,54,55,56,57,58,59,60,61) have mixed types. Specify dtype option on import or set low_memory=False.\n",
      "  df = pd.read_csv(csv_path)\n"
     ]
    },
    {
     "name": "stdout",
     "output_type": "stream",
     "text": [
      "Saved: C:\\Users\\Haiya\\Downloads\\OneDrive_2025-09-19\\patient_data_clean\\ID54-3_1033_11.11.22.csv\n"
     ]
    },
    {
     "name": "stderr",
     "output_type": "stream",
     "text": [
      "C:\\Users\\Haiya\\AppData\\Local\\Temp\\ipykernel_4412\\1725828094.py:6: DtypeWarning: Columns (1,2,3,4,5,6,7,8,9,10,11,12,13,14,15,16,17,18,19,20,21,22,23,24,25,26,27,28,29,30,31,32,33,34,35,36,37,38,39,40,41,42,43,44,45,46,47,48,49,50,51,52,53,54,55,56,57,58,59,60,61) have mixed types. Specify dtype option on import or set low_memory=False.\n",
      "  df = pd.read_csv(csv_path)\n"
     ]
    },
    {
     "name": "stdout",
     "output_type": "stream",
     "text": [
      "Saved: C:\\Users\\Haiya\\Downloads\\OneDrive_2025-09-19\\patient_data_clean\\ID55-1_619_11.12.22.csv\n"
     ]
    },
    {
     "name": "stderr",
     "output_type": "stream",
     "text": [
      "C:\\Users\\Haiya\\AppData\\Local\\Temp\\ipykernel_4412\\1725828094.py:6: DtypeWarning: Columns (1,2,3,4,5,6,7,8,9,10,11,12,13,14,15,16,17,18,19,20,21,22,23,24,25,26,27,28,29,30,31,32,33,34,35,36,37,38,39,40,41,42,43,44,45,46,47,48,49,50,51,52,53,54,55,56,57,58,59,60,61) have mixed types. Specify dtype option on import or set low_memory=False.\n",
      "  df = pd.read_csv(csv_path)\n"
     ]
    },
    {
     "name": "stdout",
     "output_type": "stream",
     "text": [
      "Saved: C:\\Users\\Haiya\\Downloads\\OneDrive_2025-09-19\\patient_data_clean\\ID55-2_796_11.13.22.csv\n"
     ]
    },
    {
     "name": "stderr",
     "output_type": "stream",
     "text": [
      "C:\\Users\\Haiya\\AppData\\Local\\Temp\\ipykernel_4412\\1725828094.py:6: DtypeWarning: Columns (1,2,3,4,5,6,7,8,9,10,11,12,13,14,15,16,17,18,19,20,21,22,23,24,25,26,27,28,29,30,31,32,33,34,35,36,37,38,39,40,41,42,43,44,45,46,47,48,49,50,51,52,53,54,55,56,57,58,59,60,61) have mixed types. Specify dtype option on import or set low_memory=False.\n",
      "  df = pd.read_csv(csv_path)\n"
     ]
    },
    {
     "name": "stdout",
     "output_type": "stream",
     "text": [
      "Saved: C:\\Users\\Haiya\\Downloads\\OneDrive_2025-09-19\\patient_data_clean\\ID55-3_619_11.14.22.csv\n"
     ]
    },
    {
     "name": "stderr",
     "output_type": "stream",
     "text": [
      "C:\\Users\\Haiya\\AppData\\Local\\Temp\\ipykernel_4412\\1725828094.py:6: DtypeWarning: Columns (1,2,3,4,5,6,7,8,9,10,11,12,13,14,15,16,17,18,19,20,21,22,23,24,25,26,27,28,29,30,31,32,33,34,35,36,37,38,39,40,41,42,43,44,45,46,47,48,49,50,51,52,53,54,55,56,57,58,59,60,61) have mixed types. Specify dtype option on import or set low_memory=False.\n",
      "  df = pd.read_csv(csv_path)\n"
     ]
    },
    {
     "name": "stdout",
     "output_type": "stream",
     "text": [
      "Saved: C:\\Users\\Haiya\\Downloads\\OneDrive_2025-09-19\\patient_data_clean\\ID56-1_764_11.13.22.csv\n"
     ]
    },
    {
     "name": "stderr",
     "output_type": "stream",
     "text": [
      "C:\\Users\\Haiya\\AppData\\Local\\Temp\\ipykernel_4412\\1725828094.py:6: DtypeWarning: Columns (1,2,3,4,5,6,7,8,9,10,11,12,13,14,15,16,17,18,19,20,21,22,23,24,25,26,27,28,29,30,31,32,33,34,35,36,37,38,39,40,41,42,43,44,45,46,47,48,49,50,51,52,53,54,55,56,57,58,59,60,61) have mixed types. Specify dtype option on import or set low_memory=False.\n",
      "  df = pd.read_csv(csv_path)\n"
     ]
    },
    {
     "name": "stdout",
     "output_type": "stream",
     "text": [
      "Saved: C:\\Users\\Haiya\\Downloads\\OneDrive_2025-09-19\\patient_data_clean\\ID56-2_797_11.14.22.csv\n"
     ]
    },
    {
     "name": "stderr",
     "output_type": "stream",
     "text": [
      "C:\\Users\\Haiya\\AppData\\Local\\Temp\\ipykernel_4412\\1725828094.py:6: DtypeWarning: Columns (1,2,3,4,5,6,7,8,9,10,11,12,13,14,15,16,17,18,19,20,21,22,23,24,25,26,27,28,29,30,31,32,33,34,35,36,37,38,39,40,41,42,43,44,45,46,47,48,49,50,51,52,53,54,55,56,57,58,59,60,61) have mixed types. Specify dtype option on import or set low_memory=False.\n",
      "  df = pd.read_csv(csv_path)\n"
     ]
    },
    {
     "name": "stdout",
     "output_type": "stream",
     "text": [
      "Saved: C:\\Users\\Haiya\\Downloads\\OneDrive_2025-09-19\\patient_data_clean\\ID58-1_725_11.22.22.csv\n"
     ]
    },
    {
     "name": "stderr",
     "output_type": "stream",
     "text": [
      "C:\\Users\\Haiya\\AppData\\Local\\Temp\\ipykernel_4412\\1725828094.py:6: DtypeWarning: Columns (1,2,3,4,5,6,7,8,9,10,11,12,13,14,15,16,17,18,19,20,21,22,23,24,25,26,27,28,29,30,31,32,33,34,35,36,37,38,39,40,41,42,43,44,45,46,47,48,49,50,51,52,53,54,55,56,57,58,59,60,61) have mixed types. Specify dtype option on import or set low_memory=False.\n",
      "  df = pd.read_csv(csv_path)\n"
     ]
    },
    {
     "name": "stdout",
     "output_type": "stream",
     "text": [
      "Saved: C:\\Users\\Haiya\\Downloads\\OneDrive_2025-09-19\\patient_data_clean\\ID58-2_611_11.23.22.csv\n"
     ]
    },
    {
     "name": "stderr",
     "output_type": "stream",
     "text": [
      "C:\\Users\\Haiya\\AppData\\Local\\Temp\\ipykernel_4412\\1725828094.py:6: DtypeWarning: Columns (1,2,3,4,5,6,7,8,9,10,11,12,13,14,15,16,17,18,19,20,21,22,23,24,25,26,27,28,29,30,31,32,33,34,35,36,37,38,39,40,41,42,43,44,45,46,47,48,49,50,51,52,53,54,55,56,57,58,59,60,61) have mixed types. Specify dtype option on import or set low_memory=False.\n",
      "  df = pd.read_csv(csv_path)\n"
     ]
    },
    {
     "name": "stdout",
     "output_type": "stream",
     "text": [
      "Saved: C:\\Users\\Haiya\\Downloads\\OneDrive_2025-09-19\\patient_data_clean\\ID59-1_750_11.25.22.csv\n"
     ]
    },
    {
     "name": "stderr",
     "output_type": "stream",
     "text": [
      "C:\\Users\\Haiya\\AppData\\Local\\Temp\\ipykernel_4412\\1725828094.py:6: DtypeWarning: Columns (1,2,3,4,5,6,7,8,9,10,11,12,13,14,15,16,17,18,19,20,21,22,23,24,25,26,27,28,29,30,31,32,33,34,35,36,37,38,39,40,41,42,43,44,45,46,47,48,49,50,51,52,53,54,55,56,57,58,59,60,61) have mixed types. Specify dtype option on import or set low_memory=False.\n",
      "  df = pd.read_csv(csv_path)\n"
     ]
    },
    {
     "name": "stdout",
     "output_type": "stream",
     "text": [
      "Saved: C:\\Users\\Haiya\\Downloads\\OneDrive_2025-09-19\\patient_data_clean\\ID59-2_730_11.26.22.csv\n"
     ]
    },
    {
     "name": "stderr",
     "output_type": "stream",
     "text": [
      "C:\\Users\\Haiya\\AppData\\Local\\Temp\\ipykernel_4412\\1725828094.py:6: DtypeWarning: Columns (1,2,3,4,5,6,7,8,9,10,11,12,13,14,15,16,17,18,19,20,21,22,23,24,25,26,27,28,29,30,31,32,33,34,35,36,37,38,39,40,41,42,43,44,45,46,47,48,49,50,51,52,53,54,55,56,57,58,59,60,61) have mixed types. Specify dtype option on import or set low_memory=False.\n",
      "  df = pd.read_csv(csv_path)\n"
     ]
    },
    {
     "name": "stdout",
     "output_type": "stream",
     "text": [
      "Saved: C:\\Users\\Haiya\\Downloads\\OneDrive_2025-09-19\\patient_data_clean\\ID6-1_657_10.18.20.csv\n"
     ]
    },
    {
     "name": "stderr",
     "output_type": "stream",
     "text": [
      "C:\\Users\\Haiya\\AppData\\Local\\Temp\\ipykernel_4412\\1725828094.py:6: DtypeWarning: Columns (1,2,3,4,5,6,7,8,9,10,11,12,13,14,15,16,17,18,19,20,21,22,23,24,25,26,27,28,29,30,31,32,33,34,35,36,37,38,39,40,41,42,43,44,45,46,47,48,49,50,51,52,53,54,55,56,57,58,59,60,61) have mixed types. Specify dtype option on import or set low_memory=False.\n",
      "  df = pd.read_csv(csv_path)\n"
     ]
    },
    {
     "name": "stdout",
     "output_type": "stream",
     "text": [
      "Saved: C:\\Users\\Haiya\\Downloads\\OneDrive_2025-09-19\\patient_data_clean\\ID6-3_611_10.20.20.csv\n"
     ]
    },
    {
     "name": "stderr",
     "output_type": "stream",
     "text": [
      "C:\\Users\\Haiya\\AppData\\Local\\Temp\\ipykernel_4412\\1725828094.py:6: DtypeWarning: Columns (1,2,3,4,5,6,7,8,9,10,11,12,13,14,15,16,17,18,19,20,21,22,23,24,25,26,27,28,29,30,31,32,33,34,35,36,37,38,39,40,41,42,43,44,45,46,47,48,49,50,51,52,53,54,55,56,57,58,59,60,61) have mixed types. Specify dtype option on import or set low_memory=False.\n",
      "  df = pd.read_csv(csv_path)\n"
     ]
    },
    {
     "name": "stdout",
     "output_type": "stream",
     "text": [
      "Saved: C:\\Users\\Haiya\\Downloads\\OneDrive_2025-09-19\\patient_data_clean\\ID6-4_788_10.21.20.csv\n"
     ]
    },
    {
     "name": "stderr",
     "output_type": "stream",
     "text": [
      "C:\\Users\\Haiya\\AppData\\Local\\Temp\\ipykernel_4412\\1725828094.py:6: DtypeWarning: Columns (1,2,3,4,5,6,7,8,9,10,11,12,13,14,15,16,17,18,19,20,21,22,23,24,25,26,27,28,29,30,31,32,33,34,35,36,37,38,39,40,41,42,43,44,45,46,47,48,49,50,51,52,53,54,55,56,57,58,59,60,61) have mixed types. Specify dtype option on import or set low_memory=False.\n",
      "  df = pd.read_csv(csv_path)\n"
     ]
    },
    {
     "name": "stdout",
     "output_type": "stream",
     "text": [
      "Saved: C:\\Users\\Haiya\\Downloads\\OneDrive_2025-09-19\\patient_data_clean\\ID6-5_611_10.22.20.csv\n"
     ]
    },
    {
     "name": "stderr",
     "output_type": "stream",
     "text": [
      "C:\\Users\\Haiya\\AppData\\Local\\Temp\\ipykernel_4412\\1725828094.py:6: DtypeWarning: Columns (1,2,3,4,5,6,7,8,9,10,11,12,13,14,15,16,17,18,19,20,21,22,23,24,25,26,27,28,29,30,31,32,33,34,35,36,37,38,39,40,41,42,43,44,45,46,47,48,49,50,51,52,53,54,55,56,57,58,59,60,61) have mixed types. Specify dtype option on import or set low_memory=False.\n",
      "  df = pd.read_csv(csv_path)\n"
     ]
    },
    {
     "name": "stdout",
     "output_type": "stream",
     "text": [
      "Saved: C:\\Users\\Haiya\\Downloads\\OneDrive_2025-09-19\\patient_data_clean\\ID60-1_735_11.27.22.csv\n"
     ]
    },
    {
     "name": "stderr",
     "output_type": "stream",
     "text": [
      "C:\\Users\\Haiya\\AppData\\Local\\Temp\\ipykernel_4412\\1725828094.py:6: DtypeWarning: Columns (1,2,3,4,5,6,7,8,9,10,11,12,13,14,15,16,17,18,19,20,21,22,23,24,25,26,27,28,29,30,31,32,33,34,35,36,37,38,39,40,41,42,43,44,45,46,47,48,49,50,51,52,53,54,55,56,57,58,59,60,61) have mixed types. Specify dtype option on import or set low_memory=False.\n",
      "  df = pd.read_csv(csv_path)\n"
     ]
    },
    {
     "name": "stdout",
     "output_type": "stream",
     "text": [
      "Saved: C:\\Users\\Haiya\\Downloads\\OneDrive_2025-09-19\\patient_data_clean\\ID61-1_827_12.4.22.csv\n"
     ]
    },
    {
     "name": "stderr",
     "output_type": "stream",
     "text": [
      "C:\\Users\\Haiya\\AppData\\Local\\Temp\\ipykernel_4412\\1725828094.py:6: DtypeWarning: Columns (1,2,3,4,5,6,7,8,9,10,11,12,13,14,15,16,17,18,19,20,21,22,23,24,25,26,27,28,29,30,31,32,33,34,35,36,37,38,39,40,41,42,43,44,45,46,47,48,49,50,51,52,53,54,55,56,57,58,59,60,61) have mixed types. Specify dtype option on import or set low_memory=False.\n",
      "  df = pd.read_csv(csv_path)\n"
     ]
    },
    {
     "name": "stdout",
     "output_type": "stream",
     "text": [
      "Saved: C:\\Users\\Haiya\\Downloads\\OneDrive_2025-09-19\\patient_data_clean\\ID61-2_797_12.5.22.csv\n"
     ]
    },
    {
     "name": "stderr",
     "output_type": "stream",
     "text": [
      "C:\\Users\\Haiya\\AppData\\Local\\Temp\\ipykernel_4412\\1725828094.py:6: DtypeWarning: Columns (1,2,3,4,5,6,7,8,9,10,11,12,13,14,15,16,17,18,19,20,21,22,23,24,25,26,27,28,29,30,31,32,33,34,35,36,37,38,39,40,41,42,43,44,45,46,47,48,49,50,51,52,53,54,55,56,57,58,59,60,61) have mixed types. Specify dtype option on import or set low_memory=False.\n",
      "  df = pd.read_csv(csv_path)\n"
     ]
    },
    {
     "name": "stdout",
     "output_type": "stream",
     "text": [
      "Saved: C:\\Users\\Haiya\\Downloads\\OneDrive_2025-09-19\\patient_data_clean\\ID61-4_935_12.7.22.csv\n"
     ]
    },
    {
     "name": "stderr",
     "output_type": "stream",
     "text": [
      "C:\\Users\\Haiya\\AppData\\Local\\Temp\\ipykernel_4412\\1725828094.py:6: DtypeWarning: Columns (1,2,3,4,5,6,7,8,9,10,11,12,13,14,15,16,17,18,19,20,21,22,23,24,25,26,27,28,29,30,31,32,33,34,35,36,37,38,39,40,41,42,43,44,45,46,47,48,49,50,51,52,53,54,55,56,57,58,59,60,61) have mixed types. Specify dtype option on import or set low_memory=False.\n",
      "  df = pd.read_csv(csv_path)\n"
     ]
    },
    {
     "name": "stdout",
     "output_type": "stream",
     "text": [
      "Saved: C:\\Users\\Haiya\\Downloads\\OneDrive_2025-09-19\\patient_data_clean\\ID62-1_400_12.15.22.csv\n"
     ]
    },
    {
     "name": "stderr",
     "output_type": "stream",
     "text": [
      "C:\\Users\\Haiya\\AppData\\Local\\Temp\\ipykernel_4412\\1725828094.py:6: DtypeWarning: Columns (1,2,3,4,5,6,7,8,9,10,11,12,13,14,15,16,17,18,19,20,21,22,23,24,25,26,27,28,29,30,31,32,33,34,35,36,37,38,39,40,41,42,43,44,45,46,47,48,49,50,51,52,53,54,55,56,57,58,59,60,61) have mixed types. Specify dtype option on import or set low_memory=False.\n",
      "  df = pd.read_csv(csv_path)\n"
     ]
    },
    {
     "name": "stdout",
     "output_type": "stream",
     "text": [
      "Saved: C:\\Users\\Haiya\\Downloads\\OneDrive_2025-09-19\\patient_data_clean\\ID63-1_499_12.21.22.csv\n"
     ]
    },
    {
     "name": "stderr",
     "output_type": "stream",
     "text": [
      "C:\\Users\\Haiya\\AppData\\Local\\Temp\\ipykernel_4412\\1725828094.py:6: DtypeWarning: Columns (1,2,3,4,5,6,7,8,9,10,11,12,13,14,15,16,17,18,19,20,21,22,23,24,25,26,27,28,29,30,31,32,33,34,35,36,37,38,39,40,41,42,43,44,45,46,47,48,49,50,51,52,53,54,55,56,57,58,59,60,61) have mixed types. Specify dtype option on import or set low_memory=False.\n",
      "  df = pd.read_csv(csv_path)\n"
     ]
    },
    {
     "name": "stdout",
     "output_type": "stream",
     "text": [
      "Saved: C:\\Users\\Haiya\\Downloads\\OneDrive_2025-09-19\\patient_data_clean\\ID63-2_802_12.22.22.csv\n"
     ]
    },
    {
     "name": "stderr",
     "output_type": "stream",
     "text": [
      "C:\\Users\\Haiya\\AppData\\Local\\Temp\\ipykernel_4412\\1725828094.py:6: DtypeWarning: Columns (1,2,3,4,5,6,7,8,9,10,11,12,13,14,15,16,17,18,19,20,21,22,23,24,25,26,27,28,29,30,31,32,33,34,35,36,37,38,39,40,41,42,43,44,45,46,47,48,49,50,51,52,53,54,55,56,57,58,59,60,61) have mixed types. Specify dtype option on import or set low_memory=False.\n",
      "  df = pd.read_csv(csv_path)\n"
     ]
    },
    {
     "name": "stdout",
     "output_type": "stream",
     "text": [
      "Saved: C:\\Users\\Haiya\\Downloads\\OneDrive_2025-09-19\\patient_data_clean\\ID63-3_499_12.23.22.csv\n"
     ]
    },
    {
     "name": "stderr",
     "output_type": "stream",
     "text": [
      "C:\\Users\\Haiya\\AppData\\Local\\Temp\\ipykernel_4412\\1725828094.py:6: DtypeWarning: Columns (1,2,3,4,5,6,7,8,9,10,11,12,13,14,15,16,17,18,19,20,21,22,23,24,25,26,27,28,29,30,31,32,33,34,35,36,37,38,39,40,41,42,43,44,45,46,47,48,49,50,51,52,53,54,55,56,57,58,59,60,61) have mixed types. Specify dtype option on import or set low_memory=False.\n",
      "  df = pd.read_csv(csv_path)\n"
     ]
    },
    {
     "name": "stdout",
     "output_type": "stream",
     "text": [
      "Saved: C:\\Users\\Haiya\\Downloads\\OneDrive_2025-09-19\\patient_data_clean\\ID64-1_960_12.27.22.csv\n"
     ]
    },
    {
     "name": "stderr",
     "output_type": "stream",
     "text": [
      "C:\\Users\\Haiya\\AppData\\Local\\Temp\\ipykernel_4412\\1725828094.py:6: DtypeWarning: Columns (1,2,3,4,5,6,7,8,9,10,11,12,13,14,15,16,17,18,19,20,21,22,23,24,25,26,27,28,29,30,31,32,33,34,35,36,37,38,39,40,41,42,43,44,45,46,47,48,49,50,51,52,53,54,55,56,57,58,59,60,61) have mixed types. Specify dtype option on import or set low_memory=False.\n",
      "  df = pd.read_csv(csv_path)\n"
     ]
    },
    {
     "name": "stdout",
     "output_type": "stream",
     "text": [
      "Saved: C:\\Users\\Haiya\\Downloads\\OneDrive_2025-09-19\\patient_data_clean\\ID64-2_795_12.28.22.csv\n"
     ]
    },
    {
     "name": "stderr",
     "output_type": "stream",
     "text": [
      "C:\\Users\\Haiya\\AppData\\Local\\Temp\\ipykernel_4412\\1725828094.py:6: DtypeWarning: Columns (1,2,3,4,5,6,7,8,9,10,11,12,13,14,15,16,17,18,19,20,21,22,23,24,25,26,27,28,29,30,31,32,33,34,35,36,37,38,39,40,41,42,43,44,45,46,47,48,49,50,51,52,53,54,55,56,57,58,59,60,61,62) have mixed types. Specify dtype option on import or set low_memory=False.\n",
      "  df = pd.read_csv(csv_path)\n"
     ]
    },
    {
     "name": "stdout",
     "output_type": "stream",
     "text": [
      "Saved: C:\\Users\\Haiya\\Downloads\\OneDrive_2025-09-19\\patient_data_clean\\ID64-3_960_12.29.22.csv\n"
     ]
    },
    {
     "name": "stderr",
     "output_type": "stream",
     "text": [
      "C:\\Users\\Haiya\\AppData\\Local\\Temp\\ipykernel_4412\\1725828094.py:6: DtypeWarning: Columns (1,2,3,4,5,6,7,8,9,10,11,12,13,14,15,16,17,18,19,20,21,22,23,24,25,26,27,28,29,30,31,32,33,34,35,36,37,38,39,40,41,42,43,44,45,46,47,48,49,50,51,52,53,54,55,56,57,58,59,60,61) have mixed types. Specify dtype option on import or set low_memory=False.\n",
      "  df = pd.read_csv(csv_path)\n"
     ]
    },
    {
     "name": "stdout",
     "output_type": "stream",
     "text": [
      "Saved: C:\\Users\\Haiya\\Downloads\\OneDrive_2025-09-19\\patient_data_clean\\ID65-1_934_2.25.23.csv\n"
     ]
    },
    {
     "name": "stderr",
     "output_type": "stream",
     "text": [
      "C:\\Users\\Haiya\\AppData\\Local\\Temp\\ipykernel_4412\\1725828094.py:6: DtypeWarning: Columns (1,2,3,4,5,6,7,8,9,10,11,12,13,14,15,16,17,18,19,20,21,22,23,24,25,26,27,28,29,30,31,32,33,34,35,36,37,38,39,40,41,42,43,44,45,46,47,48,49,50,51,52,53,54,55,56,57,58,59,60,61) have mixed types. Specify dtype option on import or set low_memory=False.\n",
      "  df = pd.read_csv(csv_path)\n"
     ]
    },
    {
     "name": "stdout",
     "output_type": "stream",
     "text": [
      "Saved: C:\\Users\\Haiya\\Downloads\\OneDrive_2025-09-19\\patient_data_clean\\ID65-2_796_2.26.23.csv\n"
     ]
    },
    {
     "name": "stderr",
     "output_type": "stream",
     "text": [
      "C:\\Users\\Haiya\\AppData\\Local\\Temp\\ipykernel_4412\\1725828094.py:6: DtypeWarning: Columns (1,2,3,4,5,6,7,8,9,10,11,12,13,14,15,16,17,18,19,20,21,22,23,24,25,26,27,28,29,30,31,32,33,34,35,36,37,38,39,40,41,42,43,44,45,46,47,48,49,50,51,52,53,54,55,56,57,58,59,60,61) have mixed types. Specify dtype option on import or set low_memory=False.\n",
      "  df = pd.read_csv(csv_path)\n"
     ]
    },
    {
     "name": "stdout",
     "output_type": "stream",
     "text": [
      "Saved: C:\\Users\\Haiya\\Downloads\\OneDrive_2025-09-19\\patient_data_clean\\ID67-1_688_3.8.23.csv\n"
     ]
    },
    {
     "name": "stderr",
     "output_type": "stream",
     "text": [
      "C:\\Users\\Haiya\\AppData\\Local\\Temp\\ipykernel_4412\\1725828094.py:6: DtypeWarning: Columns (1,2,3,4,5,6,7,8,9,10,11,12,13,14,15,16,17,18,19,20,21,22,23,24,25,26,27,28,29,30,31,32,33,34,35,36,37,38,39,40,41,42,43,44,45,46,47,48,49,50,51,52,53,54,55,56,57,58,59,60,61) have mixed types. Specify dtype option on import or set low_memory=False.\n",
      "  df = pd.read_csv(csv_path)\n"
     ]
    },
    {
     "name": "stdout",
     "output_type": "stream",
     "text": [
      "Saved: C:\\Users\\Haiya\\Downloads\\OneDrive_2025-09-19\\patient_data_clean\\ID67-2_802_3.9.23.csv\n"
     ]
    },
    {
     "name": "stderr",
     "output_type": "stream",
     "text": [
      "C:\\Users\\Haiya\\AppData\\Local\\Temp\\ipykernel_4412\\1725828094.py:6: DtypeWarning: Columns (1,2,3,4,5,6,7,8,9,10,11,12,13,14,15,16,17,18,19,20,21,22,23,24,25,26,27,28,29,30,31,32,33,34,35,36,37,38,39,40,41,42,43,44,45,46,47,48,49,50,51,52,53,54,55,56,57,58,59,60,61) have mixed types. Specify dtype option on import or set low_memory=False.\n",
      "  df = pd.read_csv(csv_path)\n"
     ]
    },
    {
     "name": "stdout",
     "output_type": "stream",
     "text": [
      "Saved: C:\\Users\\Haiya\\Downloads\\OneDrive_2025-09-19\\patient_data_clean\\ID68-1_512_3.16.23.csv\n"
     ]
    },
    {
     "name": "stderr",
     "output_type": "stream",
     "text": [
      "C:\\Users\\Haiya\\AppData\\Local\\Temp\\ipykernel_4412\\1725828094.py:6: DtypeWarning: Columns (1,2,3,4,5,6,7,8,9,10,11,12,13,14,15,16,17,18,19,20,21,22,23,24,25,26,27,28,29,30,31,32,33,34,35,36,37,38,39,40,41,42,43,44,45,46,47,48,49,50,51,52,53,54,55,56,57,58,59,60,61) have mixed types. Specify dtype option on import or set low_memory=False.\n",
      "  df = pd.read_csv(csv_path)\n"
     ]
    },
    {
     "name": "stdout",
     "output_type": "stream",
     "text": [
      "Saved: C:\\Users\\Haiya\\Downloads\\OneDrive_2025-09-19\\patient_data_clean\\ID68-2_788_3.17.23.csv\n"
     ]
    },
    {
     "name": "stderr",
     "output_type": "stream",
     "text": [
      "C:\\Users\\Haiya\\AppData\\Local\\Temp\\ipykernel_4412\\1725828094.py:6: DtypeWarning: Columns (1,2,3,4,5,6,7,8,9,10,11,12,13,14,15,16,17,18,19,20,21,22,23,24,25,26,27,28,29,30,31,32,33,34,35,36,37,38,39,40,41,42,43,44,45,46,47,48,49,50,51,52,53,54,55,56,57,58,59,60,61) have mixed types. Specify dtype option on import or set low_memory=False.\n",
      "  df = pd.read_csv(csv_path)\n"
     ]
    },
    {
     "name": "stdout",
     "output_type": "stream",
     "text": [
      "Saved: C:\\Users\\Haiya\\Downloads\\OneDrive_2025-09-19\\patient_data_clean\\ID7-1_608_1.26.21.csv\n"
     ]
    },
    {
     "name": "stderr",
     "output_type": "stream",
     "text": [
      "C:\\Users\\Haiya\\AppData\\Local\\Temp\\ipykernel_4412\\1725828094.py:6: DtypeWarning: Columns (1,2,3,4,5,6,7,8,9,10,11,12,13,14,15,16,17,18,19,20,21,22,23,24,25,26,27,28,29,30,31,32,33,34,35,36,37,38,39,40,41,42,43,44,45,46,47,48,49,50,51,52,53,54,55,56,57,58,59,60,61) have mixed types. Specify dtype option on import or set low_memory=False.\n",
      "  df = pd.read_csv(csv_path)\n"
     ]
    },
    {
     "name": "stdout",
     "output_type": "stream",
     "text": [
      "Saved: C:\\Users\\Haiya\\Downloads\\OneDrive_2025-09-19\\patient_data_clean\\ID7-2_794_1.27.21.csv\n"
     ]
    },
    {
     "name": "stderr",
     "output_type": "stream",
     "text": [
      "C:\\Users\\Haiya\\AppData\\Local\\Temp\\ipykernel_4412\\1725828094.py:6: DtypeWarning: Columns (1,2,3,4,5,6,7,8,9,10,11,12,13,14,15,16,17,18,19,20,21,22,23,24,25,26,27,28,29,30,31,32,33,34,35,36,37,38,39,40,41,42,43,44,45,46,47,48,49,50,51,52,53,54,55,56,57,58,59,60,61) have mixed types. Specify dtype option on import or set low_memory=False.\n",
      "  df = pd.read_csv(csv_path)\n"
     ]
    },
    {
     "name": "stdout",
     "output_type": "stream",
     "text": [
      "Saved: C:\\Users\\Haiya\\Downloads\\OneDrive_2025-09-19\\patient_data_clean\\ID7-3_608_1.28.21.csv\n"
     ]
    },
    {
     "name": "stderr",
     "output_type": "stream",
     "text": [
      "C:\\Users\\Haiya\\AppData\\Local\\Temp\\ipykernel_4412\\1725828094.py:6: DtypeWarning: Columns (1,2,3,4,5,6,7,8,9,10,11,12,13,14,15,16,17,18,19,20,21,22,23,24,25,26,27,28,29,30,31,32,33,34,35,36,37,38,39,40,41,42,43,44,45,46,47,48,49,50,51,52,53,54,55,56,57,58,59,60,61) have mixed types. Specify dtype option on import or set low_memory=False.\n",
      "  df = pd.read_csv(csv_path)\n"
     ]
    },
    {
     "name": "stdout",
     "output_type": "stream",
     "text": [
      "Saved: C:\\Users\\Haiya\\Downloads\\OneDrive_2025-09-19\\patient_data_clean\\ID71-1_613_3.30.23.csv\n"
     ]
    },
    {
     "name": "stderr",
     "output_type": "stream",
     "text": [
      "C:\\Users\\Haiya\\AppData\\Local\\Temp\\ipykernel_4412\\1725828094.py:6: DtypeWarning: Columns (1,2,3,4,5,6,7,8,9,10,11,12,13,14,15,16,17,18,19,20,21,22,23,24,25,26,27,28,29,30,31,32,33,34,35,36,37,38,39,40,41,42,43,44,45,46,47,48,49,50,51,52,53,54,55,56,57,58,59,60,61) have mixed types. Specify dtype option on import or set low_memory=False.\n",
      "  df = pd.read_csv(csv_path)\n"
     ]
    },
    {
     "name": "stdout",
     "output_type": "stream",
     "text": [
      "Saved: C:\\Users\\Haiya\\Downloads\\OneDrive_2025-09-19\\patient_data_clean\\ID72-1_949_3.31.23.csv\n"
     ]
    },
    {
     "name": "stderr",
     "output_type": "stream",
     "text": [
      "C:\\Users\\Haiya\\AppData\\Local\\Temp\\ipykernel_4412\\1725828094.py:6: DtypeWarning: Columns (1,2,3,4,5,6,7,8,9,10,11,12,13,14,15,16,17,18,19,20,21,22,23,24,25,26,27,28,29,30,31,32,33,34,35,36,37,38,39,40,41,42,43,44,45,46,47,48,49,50,51,52,53,54,55,56,57,58,59,60,61) have mixed types. Specify dtype option on import or set low_memory=False.\n",
      "  df = pd.read_csv(csv_path)\n"
     ]
    },
    {
     "name": "stdout",
     "output_type": "stream",
     "text": [
      "Saved: C:\\Users\\Haiya\\Downloads\\OneDrive_2025-09-19\\patient_data_clean\\ID72-2_802_4.1.23.csv\n"
     ]
    },
    {
     "name": "stderr",
     "output_type": "stream",
     "text": [
      "C:\\Users\\Haiya\\AppData\\Local\\Temp\\ipykernel_4412\\1725828094.py:6: DtypeWarning: Columns (1,2,3,4,5,6,7,8,9,10,11,12,13,14,15,16,17,18,19,20,21,22,23,24,25,26,27,28,29,30,31,32,33,34,35,36,37,38,39,40,41,42,43,44,45,46,47,48,49,50,51,52,53,54,55,56,57,58,59,60,61) have mixed types. Specify dtype option on import or set low_memory=False.\n",
      "  df = pd.read_csv(csv_path)\n"
     ]
    },
    {
     "name": "stdout",
     "output_type": "stream",
     "text": [
      "Saved: C:\\Users\\Haiya\\Downloads\\OneDrive_2025-09-19\\patient_data_clean\\ID72-3_949_4.2.23.csv\n"
     ]
    },
    {
     "name": "stderr",
     "output_type": "stream",
     "text": [
      "C:\\Users\\Haiya\\AppData\\Local\\Temp\\ipykernel_4412\\1725828094.py:6: DtypeWarning: Columns (1,2,3,4,5,6,7,8,9,10,11,12,13,14,15,16,17,18,19,20,21,22,23,24,25,26,27,28,29,30,31,32,33,34,35,36,37,38,39,40,41,42,43,44,45,46,47,48,49,50,51,52,53,54,55,56,57,58,59,60,61) have mixed types. Specify dtype option on import or set low_memory=False.\n",
      "  df = pd.read_csv(csv_path)\n"
     ]
    },
    {
     "name": "stdout",
     "output_type": "stream",
     "text": [
      "Saved: C:\\Users\\Haiya\\Downloads\\OneDrive_2025-09-19\\patient_data_clean\\ID76-1_384_5.28.23.csv\n"
     ]
    },
    {
     "name": "stderr",
     "output_type": "stream",
     "text": [
      "C:\\Users\\Haiya\\AppData\\Local\\Temp\\ipykernel_4412\\1725828094.py:6: DtypeWarning: Columns (1,2,3,4,5,6,7,8,9,10,11,12,13,14,15,16,17,18,19,20,21,22,23,24,25,26,27,28,29,30,31,32,33,34,35,36,37,38,39,40,41,42,43,44,45,46,47,48,49,50,51,52,53,54,55,56,57,58,59,60,61) have mixed types. Specify dtype option on import or set low_memory=False.\n",
      "  df = pd.read_csv(csv_path)\n"
     ]
    },
    {
     "name": "stdout",
     "output_type": "stream",
     "text": [
      "Saved: C:\\Users\\Haiya\\Downloads\\OneDrive_2025-09-19\\patient_data_clean\\ID76-2_795_5.29.23.csv\n"
     ]
    },
    {
     "name": "stderr",
     "output_type": "stream",
     "text": [
      "C:\\Users\\Haiya\\AppData\\Local\\Temp\\ipykernel_4412\\1725828094.py:6: DtypeWarning: Columns (1,2,3,4,5,6,7,8,9,10,11,12,13,14,15,16,17,18,19,20,21,22,23,24,25,26,27,28,29,30,31,32,33,34,35,36,37,38,39,40,41,42,43,44,45,46,47,48,49,50,51,52,53,54,55,56,57,58,59,60,61) have mixed types. Specify dtype option on import or set low_memory=False.\n",
      "  df = pd.read_csv(csv_path)\n"
     ]
    },
    {
     "name": "stdout",
     "output_type": "stream",
     "text": [
      "Saved: C:\\Users\\Haiya\\Downloads\\OneDrive_2025-09-19\\patient_data_clean\\ID76-3_384_5.30.23.csv\n"
     ]
    },
    {
     "name": "stderr",
     "output_type": "stream",
     "text": [
      "C:\\Users\\Haiya\\AppData\\Local\\Temp\\ipykernel_4412\\1725828094.py:6: DtypeWarning: Columns (1,2,3,4,5,6,7,8,9,10,11,12,13,14,15,16,17,18,19,20,21,22,23,24,25,26,27,28,29,30,31,32,33,34,35,36,37,38,39,40,41,42,43,44,45,46,47,48,49,50,51,52,53,54,55,56,57,58,59,60,61) have mixed types. Specify dtype option on import or set low_memory=False.\n",
      "  df = pd.read_csv(csv_path)\n"
     ]
    },
    {
     "name": "stdout",
     "output_type": "stream",
     "text": [
      "Saved: C:\\Users\\Haiya\\Downloads\\OneDrive_2025-09-19\\patient_data_clean\\ID78-1_623_6.27.23.csv\n"
     ]
    },
    {
     "name": "stderr",
     "output_type": "stream",
     "text": [
      "C:\\Users\\Haiya\\AppData\\Local\\Temp\\ipykernel_4412\\1725828094.py:6: DtypeWarning: Columns (1,2,3,4,5,6,7,8,9,10,11,12,13,14,15,16,17,18,19,20,21,22,23,24,25,26,27,28,29,30,31,32,33,34,35,36,37,38,39,40,41,42,43,44,45,46,47,48,49,50,51,52,53,54,55,56,57,58,59,60,61) have mixed types. Specify dtype option on import or set low_memory=False.\n",
      "  df = pd.read_csv(csv_path)\n"
     ]
    },
    {
     "name": "stdout",
     "output_type": "stream",
     "text": [
      "Saved: C:\\Users\\Haiya\\Downloads\\OneDrive_2025-09-19\\patient_data_clean\\ID78-2_791_6.28.23.csv\n"
     ]
    },
    {
     "name": "stderr",
     "output_type": "stream",
     "text": [
      "C:\\Users\\Haiya\\AppData\\Local\\Temp\\ipykernel_4412\\1725828094.py:6: DtypeWarning: Columns (1,2,3,4,5,6,7,8,9,10,11,12,13,14,15,16,17,18,19,20,21,22,23,24,25,26,27,28,29,30,31,32,33,34,35,36,37,38,39,40,41,42,43,44,45,46,47,48,49,50,51,52,53,54,55,56,57,58,59,60,61) have mixed types. Specify dtype option on import or set low_memory=False.\n",
      "  df = pd.read_csv(csv_path)\n"
     ]
    },
    {
     "name": "stdout",
     "output_type": "stream",
     "text": [
      "Saved: C:\\Users\\Haiya\\Downloads\\OneDrive_2025-09-19\\patient_data_clean\\ID78-3_623_6.29.23.csv\n"
     ]
    },
    {
     "name": "stderr",
     "output_type": "stream",
     "text": [
      "C:\\Users\\Haiya\\AppData\\Local\\Temp\\ipykernel_4412\\1725828094.py:6: DtypeWarning: Columns (1,2,3,4,5,6,7,8,9,10,11,12,13,14,15,16,17,18,19,20,21,22,23,24,25,26,27,28,29,30,31,32,33,34,35,36,37,38,39,40,41,42,43,44,45,46,47,48,49,50,51,52,53,54,55,56,57,58,59,60,61) have mixed types. Specify dtype option on import or set low_memory=False.\n",
      "  df = pd.read_csv(csv_path)\n"
     ]
    },
    {
     "name": "stdout",
     "output_type": "stream",
     "text": [
      "Saved: C:\\Users\\Haiya\\Downloads\\OneDrive_2025-09-19\\patient_data_clean\\ID78-4_623_6.30.23.csv\n"
     ]
    },
    {
     "name": "stderr",
     "output_type": "stream",
     "text": [
      "C:\\Users\\Haiya\\AppData\\Local\\Temp\\ipykernel_4412\\1725828094.py:6: DtypeWarning: Columns (1,2,3,4,5,6,7,8,9,10,11,12,13,14,15,16,17,18,19,20,21,22,23,24,25,26,27,28,29,30,31,32,33,34,35,36,37,38,39,40,41,42,43,44,45,46,47,48,49,50,51,52,53,54,55,56,57,58,59,60,61) have mixed types. Specify dtype option on import or set low_memory=False.\n",
      "  df = pd.read_csv(csv_path)\n"
     ]
    },
    {
     "name": "stdout",
     "output_type": "stream",
     "text": [
      "Saved: C:\\Users\\Haiya\\Downloads\\OneDrive_2025-09-19\\patient_data_clean\\ID8-1_680_1.29.21.csv\n"
     ]
    },
    {
     "name": "stderr",
     "output_type": "stream",
     "text": [
      "C:\\Users\\Haiya\\AppData\\Local\\Temp\\ipykernel_4412\\1725828094.py:6: DtypeWarning: Columns (1,2,3,4,5,6,7,8,9,10,11,12,13,14,15,16,17,18,19,20,21,22,23,24,25,26,27,28,29,30,31,32,33,34,35,36,37,38,39,40,41,42,43,44,45,46,47,48,49,50,51,52,53,54,55,56,57,58,59,60,61) have mixed types. Specify dtype option on import or set low_memory=False.\n",
      "  df = pd.read_csv(csv_path)\n"
     ]
    },
    {
     "name": "stdout",
     "output_type": "stream",
     "text": [
      "Saved: C:\\Users\\Haiya\\Downloads\\OneDrive_2025-09-19\\patient_data_clean\\ID9-1_719_2.2.21.csv\n"
     ]
    },
    {
     "name": "stderr",
     "output_type": "stream",
     "text": [
      "C:\\Users\\Haiya\\AppData\\Local\\Temp\\ipykernel_4412\\1725828094.py:6: DtypeWarning: Columns (1,2,3,4,5,6,7,8,9,10,11,12,13,14,15,16,17,18,19,20,21,22,23,24,25,26,27,28,29,30,31,32,33,34,35,36,37,38,39,40,41,42,43,44,45,46,47,48,49,50,51,52,53,54,55,56,57,58,59,60,61) have mixed types. Specify dtype option on import or set low_memory=False.\n",
      "  df = pd.read_csv(csv_path)\n"
     ]
    },
    {
     "name": "stdout",
     "output_type": "stream",
     "text": [
      "Saved: C:\\Users\\Haiya\\Downloads\\OneDrive_2025-09-19\\patient_data_clean\\ID9-2_797_2.3.21.csv\n"
     ]
    },
    {
     "name": "stderr",
     "output_type": "stream",
     "text": [
      "C:\\Users\\Haiya\\AppData\\Local\\Temp\\ipykernel_4412\\1725828094.py:6: DtypeWarning: Columns (1,2,3,4,5,6,7,8,9,10,11,12,13,14,15,16,17,18,19,20,21,22,23,24,25,26,27,28,29,30,31,32,33,34,35,36,37,38,39,40,41,42,43,44,45,46,47,48,49,50,51,52,53,54,55,56,57,58,59,60,61) have mixed types. Specify dtype option on import or set low_memory=False.\n",
      "  df = pd.read_csv(csv_path)\n"
     ]
    },
    {
     "name": "stdout",
     "output_type": "stream",
     "text": [
      "Saved: C:\\Users\\Haiya\\Downloads\\OneDrive_2025-09-19\\patient_data_clean\\ID9-3_719_2.4.21.csv\n"
     ]
    },
    {
     "name": "stderr",
     "output_type": "stream",
     "text": [
      "C:\\Users\\Haiya\\AppData\\Local\\Temp\\ipykernel_4412\\1725828094.py:6: DtypeWarning: Columns (1,2,3,4,5,6,7,8,9,10,11,12,13,14,15,16,17,18,19,20,21,22,23,24,25,26,27,28,29,30,31,32,33,34,35,36,37,38,39,40,41,42,43,44,45,46,47,48,49,50,51,52,53,54,55,56,57,58,59,60,61) have mixed types. Specify dtype option on import or set low_memory=False.\n",
      "  df = pd.read_csv(csv_path)\n"
     ]
    },
    {
     "name": "stdout",
     "output_type": "stream",
     "text": [
      "Saved: C:\\Users\\Haiya\\Downloads\\OneDrive_2025-09-19\\patient_data_clean\\ID9-5_719_2.5.21.csv\n"
     ]
    }
   ],
   "source": [
    "IN_DIR  = Path(r\"C:/Users/Haiya/Downloads/OneDrive_2025-09-19/patient_data_bigseconds\")\n",
    "OUT_DIR = Path(r\"C:/Users/Haiya/Downloads/OneDrive_2025-09-19/patient_data_clean\")\n",
    "OUT_DIR.mkdir(parents=True, exist_ok=True)\n",
    "\n",
    "for csv_path in IN_DIR.glob(\"*.csv\"):\n",
    "    df = pd.read_csv(csv_path)\n",
    "    df2 = df.iloc[1:].reset_index(drop=True)\n",
    "    out_path = OUT_DIR / csv_path.name\n",
    "    df2.to_csv(out_path, index=False)\n",
    "    print(f\"Saved: {out_path}\")"
   ]
  },
  {
   "cell_type": "code",
   "execution_count": null,
   "id": "fabf7123-4ebe-49b8-a12a-5a2a51caca91",
   "metadata": {},
   "outputs": [],
   "source": []
  },
  {
   "cell_type": "code",
   "execution_count": 53,
   "id": "ac434029-e81c-47e2-b86a-b6680326cf91",
   "metadata": {},
   "outputs": [
    {
     "data": {
      "text/html": [
       "<div>\n",
       "<style scoped>\n",
       "    .dataframe tbody tr th:only-of-type {\n",
       "        vertical-align: middle;\n",
       "    }\n",
       "\n",
       "    .dataframe tbody tr th {\n",
       "        vertical-align: top;\n",
       "    }\n",
       "\n",
       "    .dataframe thead th {\n",
       "        text-align: right;\n",
       "    }\n",
       "</style>\n",
       "<table border=\"1\" class=\"dataframe\">\n",
       "  <thead>\n",
       "    <tr style=\"text-align: right;\">\n",
       "      <th></th>\n",
       "      <th>ClockDateTime</th>\n",
       "      <th>Time</th>\n",
       "      <th>ADR global, 8-13/1-4 Hz, All 1020 No FP</th>\n",
       "      <th>ADR left, 8-13/1-4 Hz, Left Hemi (No Fp)</th>\n",
       "      <th>ADR right, 8-13/1-4 Hz, Right Hemi (No Fp)</th>\n",
       "      <th>TDR global , 4-8/1-4 Hz, All 1020 No FP</th>\n",
       "      <th>TDR left, 4-8/1-4 Hz, Left Hemi (No Fp)</th>\n",
       "      <th>TDR left, 4-8/1-4 Hz, Right Hemi (No Fp)</th>\n",
       "      <th>ATDR global , 4-13/1-4 Hz, All 1020 No FP</th>\n",
       "      <th>ATDR left, 4-13/1-4 Hz, Left Hemi (No Fp)</th>\n",
       "      <th>...</th>\n",
       "      <th>Amplitude 5th%ile 1 hour, SumValuesMin, aEEG All 1020 No FP_avg, [aEEG All 1020 No FP_avg]</th>\n",
       "      <th>Amplitude 95%ile 1 hour, SumValuesMax, aEEG All 1020 No FP_avg, [aEEG All 1020 No FP_avg]</th>\n",
       "      <th>Rel alpha variability left, FFT PowerRatio, 6-14/1-20 Hz, Left Hemisphere</th>\n",
       "      <th>Rel alpha varibility right , FFT PowerRatio, 6-14/1-20 Hz, Right Hemisphere</th>\n",
       "      <th>Asymmetry, Absolute Index (EASI) , 0 - 20 Hz, Asym Hemi</th>\n",
       "      <th>Asymmetry, Relative Index (REASI) 0-5 hz, 0 - 5 Hz, Asym Hemi</th>\n",
       "      <th>Asymmetry, Relative Index (REASI) 6-14 hz, 6 - 14 Hz, Asym Hemi</th>\n",
       "      <th>Asymmetry, Relative Index (REASI) 0 -20hz, 0 - 20 Hz, Asym Hemi</th>\n",
       "      <th>Seizure probability</th>\n",
       "      <th>Comment</th>\n",
       "    </tr>\n",
       "  </thead>\n",
       "  <tbody>\n",
       "    <tr>\n",
       "      <th>0</th>\n",
       "      <td>2740.000003</td>\n",
       "      <td>0</td>\n",
       "      <td>0.0</td>\n",
       "      <td>0.0</td>\n",
       "      <td>0.0</td>\n",
       "      <td>0.0</td>\n",
       "      <td>0.0</td>\n",
       "      <td>0.0</td>\n",
       "      <td>0.0</td>\n",
       "      <td>0.0</td>\n",
       "      <td>...</td>\n",
       "      <td>0.00000</td>\n",
       "      <td>0.0000</td>\n",
       "      <td>0.0</td>\n",
       "      <td>0.0</td>\n",
       "      <td>0.0</td>\n",
       "      <td>0.0</td>\n",
       "      <td>0.0</td>\n",
       "      <td>0.0</td>\n",
       "      <td>0</td>\n",
       "      <td>0</td>\n",
       "    </tr>\n",
       "    <tr>\n",
       "      <th>1</th>\n",
       "      <td>2740.999997</td>\n",
       "      <td>1</td>\n",
       "      <td>0.0</td>\n",
       "      <td>0.0</td>\n",
       "      <td>0.0</td>\n",
       "      <td>0.0</td>\n",
       "      <td>0.0</td>\n",
       "      <td>0.0</td>\n",
       "      <td>0.0</td>\n",
       "      <td>0.0</td>\n",
       "      <td>...</td>\n",
       "      <td>6.08765</td>\n",
       "      <td>14.2522</td>\n",
       "      <td>0.0</td>\n",
       "      <td>0.0</td>\n",
       "      <td>0.0</td>\n",
       "      <td>0.0</td>\n",
       "      <td>0.0</td>\n",
       "      <td>0.0</td>\n",
       "      <td>0</td>\n",
       "      <td>0</td>\n",
       "    </tr>\n",
       "    <tr>\n",
       "      <th>2</th>\n",
       "      <td>2741.999999</td>\n",
       "      <td>2</td>\n",
       "      <td>0.0</td>\n",
       "      <td>0.0</td>\n",
       "      <td>0.0</td>\n",
       "      <td>0.0</td>\n",
       "      <td>0.0</td>\n",
       "      <td>0.0</td>\n",
       "      <td>0.0</td>\n",
       "      <td>0.0</td>\n",
       "      <td>...</td>\n",
       "      <td>6.08765</td>\n",
       "      <td>14.2522</td>\n",
       "      <td>0.0</td>\n",
       "      <td>0.0</td>\n",
       "      <td>0.0</td>\n",
       "      <td>0.0</td>\n",
       "      <td>0.0</td>\n",
       "      <td>0.0</td>\n",
       "      <td>0</td>\n",
       "      <td>0</td>\n",
       "    </tr>\n",
       "    <tr>\n",
       "      <th>3</th>\n",
       "      <td>2743.000001</td>\n",
       "      <td>3</td>\n",
       "      <td>0.0</td>\n",
       "      <td>0.0</td>\n",
       "      <td>0.0</td>\n",
       "      <td>0.0</td>\n",
       "      <td>0.0</td>\n",
       "      <td>0.0</td>\n",
       "      <td>0.0</td>\n",
       "      <td>0.0</td>\n",
       "      <td>...</td>\n",
       "      <td>6.08765</td>\n",
       "      <td>15.2518</td>\n",
       "      <td>0.0</td>\n",
       "      <td>0.0</td>\n",
       "      <td>0.0</td>\n",
       "      <td>0.0</td>\n",
       "      <td>0.0</td>\n",
       "      <td>0.0</td>\n",
       "      <td>0</td>\n",
       "      <td>0</td>\n",
       "    </tr>\n",
       "    <tr>\n",
       "      <th>4</th>\n",
       "      <td>2744.000003</td>\n",
       "      <td>4</td>\n",
       "      <td>0.0</td>\n",
       "      <td>0.0</td>\n",
       "      <td>0.0</td>\n",
       "      <td>0.0</td>\n",
       "      <td>0.0</td>\n",
       "      <td>0.0</td>\n",
       "      <td>0.0</td>\n",
       "      <td>0.0</td>\n",
       "      <td>...</td>\n",
       "      <td>6.08765</td>\n",
       "      <td>19.2516</td>\n",
       "      <td>0.0</td>\n",
       "      <td>0.0</td>\n",
       "      <td>0.0</td>\n",
       "      <td>0.0</td>\n",
       "      <td>0.0</td>\n",
       "      <td>0.0</td>\n",
       "      <td>0</td>\n",
       "      <td>0</td>\n",
       "    </tr>\n",
       "  </tbody>\n",
       "</table>\n",
       "<p>5 rows × 62 columns</p>\n",
       "</div>"
      ],
      "text/plain": [
       "   ClockDateTime  Time  ADR global, 8-13/1-4 Hz, All 1020 No FP  \\\n",
       "0    2740.000003     0                                      0.0   \n",
       "1    2740.999997     1                                      0.0   \n",
       "2    2741.999999     2                                      0.0   \n",
       "3    2743.000001     3                                      0.0   \n",
       "4    2744.000003     4                                      0.0   \n",
       "\n",
       "   ADR left, 8-13/1-4 Hz, Left Hemi (No Fp)  \\\n",
       "0                                       0.0   \n",
       "1                                       0.0   \n",
       "2                                       0.0   \n",
       "3                                       0.0   \n",
       "4                                       0.0   \n",
       "\n",
       "   ADR right, 8-13/1-4 Hz, Right Hemi (No Fp)  \\\n",
       "0                                         0.0   \n",
       "1                                         0.0   \n",
       "2                                         0.0   \n",
       "3                                         0.0   \n",
       "4                                         0.0   \n",
       "\n",
       "   TDR global , 4-8/1-4 Hz, All 1020 No FP  \\\n",
       "0                                      0.0   \n",
       "1                                      0.0   \n",
       "2                                      0.0   \n",
       "3                                      0.0   \n",
       "4                                      0.0   \n",
       "\n",
       "   TDR left, 4-8/1-4 Hz, Left Hemi (No Fp)  \\\n",
       "0                                      0.0   \n",
       "1                                      0.0   \n",
       "2                                      0.0   \n",
       "3                                      0.0   \n",
       "4                                      0.0   \n",
       "\n",
       "   TDR left, 4-8/1-4 Hz, Right Hemi (No Fp)  \\\n",
       "0                                       0.0   \n",
       "1                                       0.0   \n",
       "2                                       0.0   \n",
       "3                                       0.0   \n",
       "4                                       0.0   \n",
       "\n",
       "   ATDR global , 4-13/1-4 Hz, All 1020 No FP  \\\n",
       "0                                        0.0   \n",
       "1                                        0.0   \n",
       "2                                        0.0   \n",
       "3                                        0.0   \n",
       "4                                        0.0   \n",
       "\n",
       "   ATDR left, 4-13/1-4 Hz, Left Hemi (No Fp)  ...  \\\n",
       "0                                        0.0  ...   \n",
       "1                                        0.0  ...   \n",
       "2                                        0.0  ...   \n",
       "3                                        0.0  ...   \n",
       "4                                        0.0  ...   \n",
       "\n",
       "   Amplitude 5th%ile 1 hour, SumValuesMin, aEEG All 1020 No FP_avg, [aEEG All 1020 No FP_avg]  \\\n",
       "0                                            0.00000                                            \n",
       "1                                            6.08765                                            \n",
       "2                                            6.08765                                            \n",
       "3                                            6.08765                                            \n",
       "4                                            6.08765                                            \n",
       "\n",
       "   Amplitude 95%ile 1 hour, SumValuesMax, aEEG All 1020 No FP_avg, [aEEG All 1020 No FP_avg]  \\\n",
       "0                                             0.0000                                           \n",
       "1                                            14.2522                                           \n",
       "2                                            14.2522                                           \n",
       "3                                            15.2518                                           \n",
       "4                                            19.2516                                           \n",
       "\n",
       "   Rel alpha variability left, FFT PowerRatio, 6-14/1-20 Hz, Left Hemisphere  \\\n",
       "0                                                0.0                           \n",
       "1                                                0.0                           \n",
       "2                                                0.0                           \n",
       "3                                                0.0                           \n",
       "4                                                0.0                           \n",
       "\n",
       "   Rel alpha varibility right , FFT PowerRatio, 6-14/1-20 Hz, Right Hemisphere  \\\n",
       "0                                                0.0                             \n",
       "1                                                0.0                             \n",
       "2                                                0.0                             \n",
       "3                                                0.0                             \n",
       "4                                                0.0                             \n",
       "\n",
       "   Asymmetry, Absolute Index (EASI) , 0 - 20 Hz, Asym Hemi  \\\n",
       "0                                                0.0         \n",
       "1                                                0.0         \n",
       "2                                                0.0         \n",
       "3                                                0.0         \n",
       "4                                                0.0         \n",
       "\n",
       "   Asymmetry, Relative Index (REASI) 0-5 hz, 0 - 5 Hz, Asym Hemi  \\\n",
       "0                                                0.0               \n",
       "1                                                0.0               \n",
       "2                                                0.0               \n",
       "3                                                0.0               \n",
       "4                                                0.0               \n",
       "\n",
       "   Asymmetry, Relative Index (REASI) 6-14 hz, 6 - 14 Hz, Asym Hemi  \\\n",
       "0                                                0.0                 \n",
       "1                                                0.0                 \n",
       "2                                                0.0                 \n",
       "3                                                0.0                 \n",
       "4                                                0.0                 \n",
       "\n",
       "   Asymmetry, Relative Index (REASI) 0 -20hz, 0 - 20 Hz, Asym Hemi  \\\n",
       "0                                                0.0                 \n",
       "1                                                0.0                 \n",
       "2                                                0.0                 \n",
       "3                                                0.0                 \n",
       "4                                                0.0                 \n",
       "\n",
       "   Seizure probability   Comment  \n",
       "0                     0        0  \n",
       "1                     0        0  \n",
       "2                     0        0  \n",
       "3                     0        0  \n",
       "4                     0        0  \n",
       "\n",
       "[5 rows x 62 columns]"
      ]
     },
     "execution_count": 53,
     "metadata": {},
     "output_type": "execute_result"
    }
   ],
   "source": [
    "root = 'C:/Users/Haiya/Downloads/OneDrive_2025-09-19/patient_data_clean/'\n",
    "csv = 'ID9-1_719_2.2.21.csv'\n",
    "csv_path = Path(root + csv)\n",
    "df = pd.read_csv(csv_path)\n",
    "df.head()"
   ]
  },
  {
   "cell_type": "code",
   "execution_count": null,
   "id": "dd6a64b9-b04b-4596-bca6-8df0da91fa45",
   "metadata": {},
   "outputs": [],
   "source": []
  },
  {
   "cell_type": "code",
   "execution_count": null,
   "id": "19d81f3b-10d1-4cd3-8725-8f5b1c32c501",
   "metadata": {},
   "outputs": [],
   "source": []
  },
  {
   "cell_type": "code",
   "execution_count": null,
   "id": "5f275b2a-838c-4c58-8833-adbc41cae819",
   "metadata": {},
   "outputs": [],
   "source": []
  },
  {
   "cell_type": "code",
   "execution_count": null,
   "id": "ef5dc0fe-c655-4d80-9e1c-ff6176787133",
   "metadata": {},
   "outputs": [],
   "source": []
  },
  {
   "cell_type": "code",
   "execution_count": null,
   "id": "860c763a-8f75-44cc-887d-bd9d9e42a331",
   "metadata": {},
   "outputs": [],
   "source": []
  },
  {
   "cell_type": "code",
   "execution_count": null,
   "id": "b3d706f5-8183-4065-b936-0bb5d6b85a7f",
   "metadata": {},
   "outputs": [],
   "source": []
  },
  {
   "cell_type": "code",
   "execution_count": null,
   "id": "ea74e85b-b214-4177-a3a5-7b354fffd15a",
   "metadata": {},
   "outputs": [],
   "source": []
  },
  {
   "cell_type": "code",
   "execution_count": null,
   "id": "4884b9c0-acdd-47f7-98ea-efc5ed9fd764",
   "metadata": {},
   "outputs": [],
   "source": []
  },
  {
   "cell_type": "code",
   "execution_count": null,
   "id": "29409c70-307a-47da-a7ac-a33354e995ee",
   "metadata": {},
   "outputs": [],
   "source": []
  },
  {
   "cell_type": "code",
   "execution_count": null,
   "id": "e8189c5b-142e-4f6f-bd20-ed94ba755db0",
   "metadata": {},
   "outputs": [],
   "source": []
  },
  {
   "cell_type": "code",
   "execution_count": null,
   "id": "35d91c0e-20b6-48ef-94be-d1b7cb057ec4",
   "metadata": {},
   "outputs": [],
   "source": []
  },
  {
   "cell_type": "code",
   "execution_count": null,
   "id": "02f7e707-9a4a-431d-be9e-7515ffcd9723",
   "metadata": {},
   "outputs": [],
   "source": []
  },
  {
   "cell_type": "code",
   "execution_count": null,
   "id": "241831c0-8424-4db8-9781-862dd685671a",
   "metadata": {},
   "outputs": [],
   "source": []
  },
  {
   "cell_type": "code",
   "execution_count": null,
   "id": "3cfb6cd7-0cfb-4f50-8c23-b47704cb3302",
   "metadata": {},
   "outputs": [],
   "source": []
  },
  {
   "cell_type": "code",
   "execution_count": null,
   "id": "0e4ed3f7-d6f9-465b-8855-14522c258ce6",
   "metadata": {},
   "outputs": [],
   "source": []
  },
  {
   "cell_type": "code",
   "execution_count": null,
   "id": "14efc222-4c40-4eec-8bce-937f506da585",
   "metadata": {},
   "outputs": [],
   "source": []
  },
  {
   "cell_type": "code",
   "execution_count": null,
   "id": "44d6a7b9-7f41-44fd-8266-215d43eb356a",
   "metadata": {},
   "outputs": [],
   "source": []
  },
  {
   "cell_type": "code",
   "execution_count": null,
   "id": "79d783ce-8ddb-4182-81f5-f2316f5da0da",
   "metadata": {},
   "outputs": [],
   "source": []
  },
  {
   "cell_type": "code",
   "execution_count": null,
   "id": "507ff765-bed2-48cd-a8c6-56680efe1a2a",
   "metadata": {},
   "outputs": [],
   "source": []
  },
  {
   "cell_type": "code",
   "execution_count": null,
   "id": "ab5c25cf-596c-4b2d-b9e9-ca7a1c20a86c",
   "metadata": {},
   "outputs": [],
   "source": []
  },
  {
   "cell_type": "code",
   "execution_count": null,
   "id": "b9beba69-845e-47d6-95a3-0870636a4004",
   "metadata": {},
   "outputs": [],
   "source": []
  },
  {
   "cell_type": "code",
   "execution_count": null,
   "id": "94c21e32-5499-4082-b29b-9d38bbbe0c5f",
   "metadata": {},
   "outputs": [],
   "source": []
  },
  {
   "cell_type": "code",
   "execution_count": null,
   "id": "887cd59c-afec-4860-8226-47b78ba3eca9",
   "metadata": {},
   "outputs": [],
   "source": []
  },
  {
   "cell_type": "code",
   "execution_count": null,
   "id": "5d36aada-0eb3-44d5-84fb-4bf289bef477",
   "metadata": {},
   "outputs": [],
   "source": []
  },
  {
   "cell_type": "code",
   "execution_count": null,
   "id": "b8f6c2b2-9d2b-4654-b249-bbbecef204ba",
   "metadata": {},
   "outputs": [],
   "source": []
  },
  {
   "cell_type": "code",
   "execution_count": null,
   "id": "7df57fb8-df6b-4650-9663-f0fd94690065",
   "metadata": {},
   "outputs": [],
   "source": []
  },
  {
   "cell_type": "code",
   "execution_count": null,
   "id": "aab29fc3-100b-4127-b8d9-11a3daca3028",
   "metadata": {},
   "outputs": [],
   "source": []
  },
  {
   "cell_type": "code",
   "execution_count": null,
   "id": "e5f51c12-58e8-4e64-aad8-bead69f6997a",
   "metadata": {},
   "outputs": [],
   "source": []
  }
 ],
 "metadata": {
  "kernelspec": {
   "display_name": "Python [conda env:base] *",
   "language": "python",
   "name": "conda-base-py"
  },
  "language_info": {
   "codemirror_mode": {
    "name": "ipython",
    "version": 3
   },
   "file_extension": ".py",
   "mimetype": "text/x-python",
   "name": "python",
   "nbconvert_exporter": "python",
   "pygments_lexer": "ipython3",
   "version": "3.12.3"
  }
 },
 "nbformat": 4,
 "nbformat_minor": 5
}
