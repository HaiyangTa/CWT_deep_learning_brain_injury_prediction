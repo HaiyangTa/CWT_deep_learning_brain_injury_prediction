{
 "cells": [
  {
   "cell_type": "code",
   "execution_count": 1,
   "id": "8f5a4f5b-bad9-49e3-8dd6-7304666df443",
   "metadata": {
    "id": "8f5a4f5b-bad9-49e3-8dd6-7304666df443"
   },
   "outputs": [],
   "source": [
    "import torch\n",
    "import torch.nn as nn\n",
    "import torch.optim as optim\n",
    "import torch.backends.cudnn as cudnn\n",
    "import torchvision\n",
    "import torchvision.transforms as transforms\n",
    "import os\n",
    "import argparse\n",
    "from pathlib import Path\n",
    "import re\n",
    "import random\n",
    "import math\n",
    "import numpy as np\n",
    "import pandas as pd\n",
    "from sklearn.model_selection import train_test_split\n",
    "from sklearn.metrics import accuracy_score, roc_auc_score, classification_report, confusion_matrix\n",
    "from torch.utils.data import Dataset, DataLoader\n",
    "import pandas as pd"
   ]
  },
  {
   "cell_type": "code",
   "execution_count": 2,
   "id": "dr2Fm7p5mAAN",
   "metadata": {
    "colab": {
     "base_uri": "https://localhost:8080/"
    },
    "id": "dr2Fm7p5mAAN",
    "outputId": "1fec828c-fd99-4ea2-c56c-f876849ecd2f"
   },
   "outputs": [
    {
     "name": "stdout",
     "output_type": "stream",
     "text": [
      "Mounted at /content/drive\n"
     ]
    }
   ],
   "source": [
    "from google.colab import drive\n",
    "drive.mount('/content/drive')"
   ]
  },
  {
   "cell_type": "code",
   "execution_count": 2,
   "id": "gUHWAH8qdC05",
   "metadata": {
    "id": "gUHWAH8qdC05"
   },
   "outputs": [],
   "source": []
  },
  {
   "cell_type": "code",
   "execution_count": 2,
   "id": "L2wH-XagdC3h",
   "metadata": {
    "id": "L2wH-XagdC3h"
   },
   "outputs": [],
   "source": []
  },
  {
   "cell_type": "markdown",
   "id": "51Qe0XC1X2Ju",
   "metadata": {
    "id": "51Qe0XC1X2Ju"
   },
   "source": [
    "### Reading the BF data"
   ]
  },
  {
   "cell_type": "code",
   "execution_count": 3,
   "id": "eI4st7P3X51D",
   "metadata": {
    "colab": {
     "base_uri": "https://localhost:8080/"
    },
    "id": "eI4st7P3X51D",
    "outputId": "abd5957d-f29e-4283-89e6-4a1480a1e365"
   },
   "outputs": [
    {
     "name": "stdout",
     "output_type": "stream",
     "text": [
      "   ID  age_days            Diagnosis    weight  study_height\n",
      "0   1  0.018213       Cardiac Arrest  0.042214      0.344538\n",
      "1   2  0.072852       Cardiac Arrest  0.070000      0.431373\n",
      "2   3  0.793776               Sepsis  0.403571      0.896359\n",
      "3   4  0.000287  Respiratory Failure  0.022786      0.268908\n",
      "4   5  0.000287  Respiratory Failure  0.023571      0.285714\n"
     ]
    }
   ],
   "source": [
    "bf_path = '/content/drive/MyDrive/ALL_CLEAN_DEIDEN_NAME AND ECMO DATA(Sheet1) (1) (version 2).csv'\n",
    "cols = ['ID', 'age_days', 'weight', 'study_height', 'Diagnosis']\n",
    "df = pd.read_csv(bf_path, usecols=cols)\n",
    "\n",
    "for col in ['weight', 'study_height', 'age_days']:\n",
    "    s = pd.to_numeric(df[col], errors='coerce')\n",
    "    mx = s.max(skipna=True)\n",
    "    if pd.notna(mx) and mx != 0:\n",
    "        df[col] = s / mx\n",
    "    else:\n",
    "        df[col] = s\n",
    "print(df.head())"
   ]
  },
  {
   "cell_type": "code",
   "execution_count": 4,
   "id": "6KRSpwpSX53j",
   "metadata": {
    "colab": {
     "base_uri": "https://localhost:8080/"
    },
    "id": "6KRSpwpSX53j",
    "outputId": "42e6cca4-9d86-4b6c-bcc0-fb8ed75223d9"
   },
   "outputs": [
    {
     "name": "stdout",
     "output_type": "stream",
     "text": [
      "Diagnosis mapping (category -> code): {'Cardiac Arrest': 0, 'Cardiogenic Shock': 1, 'Respiratory Failure': 2, 'Respiratory Failure, Cardiac Arrest': 3, 'Sepsis': 4, 'Septic shock': 5}\n",
      "   ID  age_days  Diagnosis    weight  study_height\n",
      "0   1  0.018213          0  0.042214      0.344538\n",
      "1   2  0.072852          0  0.070000      0.431373\n",
      "2   3  0.793776          4  0.403571      0.896359\n",
      "3   4  0.000287          2  0.022786      0.268908\n",
      "4   5  0.000287          2  0.023571      0.285714\n"
     ]
    }
   ],
   "source": [
    "diag_clean = (\n",
    "    df['Diagnosis']\n",
    "      .astype('string')\n",
    "      .str.strip()\n",
    "      .str.replace(r'\\s+', ' ', regex=True)\n",
    "      .fillna('Unknown')\n",
    ")\n",
    "\n",
    "codes, uniques = pd.factorize(diag_clean, sort=True)\n",
    "df['Diagnosis'] = codes.astype('int64')\n",
    "diagnosis_mapping = {cat: int(i) for i, cat in enumerate(uniques)}\n",
    "print(\"Diagnosis mapping (category -> code):\", diagnosis_mapping)\n",
    "# Peek\n",
    "print(df.head())"
   ]
  },
  {
   "cell_type": "code",
   "execution_count": 5,
   "id": "Z5Jnj3X_X5_P",
   "metadata": {
    "colab": {
     "base_uri": "https://localhost:8080/"
    },
    "id": "Z5Jnj3X_X5_P",
    "outputId": "3f47037c-1908-4eb8-e773-e4d482858db1"
   },
   "outputs": [
    {
     "data": {
      "text/plain": [
       "(73, 5)"
      ]
     },
     "execution_count": 5,
     "metadata": {},
     "output_type": "execute_result"
    }
   ],
   "source": [
    "df.shape"
   ]
  },
  {
   "cell_type": "code",
   "execution_count": 5,
   "id": "Z-Q3ZaH-X6EY",
   "metadata": {
    "id": "Z-Q3ZaH-X6EY"
   },
   "outputs": [],
   "source": []
  },
  {
   "cell_type": "code",
   "execution_count": 5,
   "id": "REn1fKi1pHMT",
   "metadata": {
    "id": "REn1fKi1pHMT"
   },
   "outputs": [],
   "source": []
  },
  {
   "cell_type": "markdown",
   "id": "vCi0eO54p2NW",
   "metadata": {
    "id": "vCi0eO54p2NW"
   },
   "source": [
    "### No normalization!"
   ]
  },
  {
   "cell_type": "code",
   "execution_count": 6,
   "id": "lD7pVdaPpHPi",
   "metadata": {
    "colab": {
     "base_uri": "https://localhost:8080/"
    },
    "id": "lD7pVdaPpHPi",
    "outputId": "b1a28397-8c83-48ce-9258-85d4ee744eaf"
   },
   "outputs": [
    {
     "name": "stdout",
     "output_type": "stream",
     "text": [
      "FEAT_DIM = 4\n",
      "Total valid IDs: 44 | Pos IDs: 14 | Neg IDs: 30\n",
      "\n",
      "--- Fold 1/10 ---\n",
      " train | ids:   35 | files:  904 | pos:  318 | neg:  586\n",
      "   val | ids:    4 | files:   42 | pos:    1 | neg:   41\n",
      "  test | ids:    5 | files:  254 | pos:   86 | neg:  168\n",
      "Epoch 1/100\n"
     ]
    },
    {
     "name": "stderr",
     "output_type": "stream",
     "text": [
      "/usr/local/lib/python3.12/dist-packages/keras/src/models/functional.py:241: UserWarning: The structure of `inputs` doesn't match the expected structure.\n",
      "Expected: tab_input\n",
      "Received: inputs=['Tensor(shape=(None, 4))']\n",
      "  warnings.warn(msg)\n"
     ]
    },
    {
     "name": "stdout",
     "output_type": "stream",
     "text": [
      "\u001b[1m288/302\u001b[0m \u001b[32m━━━━━━━━━━━━━━━━━━━\u001b[0m\u001b[37m━\u001b[0m \u001b[1m0s\u001b[0m 6ms/step - acc: 0.6052 - auc: 0.5564 - loss: 0.6613\n",
      "Epoch 1: val_loss improved from inf to 0.47449, saving model to best_tab_only_fold1.h5\n"
     ]
    },
    {
     "name": "stderr",
     "output_type": "stream",
     "text": [
      "WARNING:absl:You are saving your model as an HDF5 file via `model.save()` or `keras.saving.save_model(model)`. This file format is considered legacy. We recommend using instead the native Keras format, e.g. `model.save('my_model.keras')` or `keras.saving.save_model(model, 'my_model.keras')`. \n"
     ]
    },
    {
     "name": "stdout",
     "output_type": "stream",
     "text": [
      "\b\b\b\b\b\b\b\b\b\b\b\b\b\b\b\b\b\b\b\b\b\b\b\b\b\b\b\b\b\b\b\b\b\b\b\b\b\b\b\b\b\b\b\b\b\b\b\b\b\b\b\b\b\b\b\b\b\b\b\b\b\b\b\b\b\b\b\b\b\b\b\b\b\b\b\b\b\b\b\b\b\b\b\r",
      "\u001b[1m302/302\u001b[0m \u001b[32m━━━━━━━━━━━━━━━━━━━━\u001b[0m\u001b[37m\u001b[0m \u001b[1m5s\u001b[0m 9ms/step - acc: 0.6060 - auc: 0.5567 - loss: 0.6611 - val_acc: 0.9762 - val_auc: 1.0000 - val_loss: 0.4745\n",
      "Epoch 2/100\n",
      "\u001b[1m288/302\u001b[0m \u001b[32m━━━━━━━━━━━━━━━━━━━\u001b[0m\u001b[37m━\u001b[0m \u001b[1m0s\u001b[0m 2ms/step - acc: 0.6104 - auc: 0.5556 - loss: 0.6544\n",
      "Epoch 2: val_loss improved from 0.47449 to 0.43209, saving model to best_tab_only_fold1.h5\n"
     ]
    },
    {
     "name": "stderr",
     "output_type": "stream",
     "text": [
      "WARNING:absl:You are saving your model as an HDF5 file via `model.save()` or `keras.saving.save_model(model)`. This file format is considered legacy. We recommend using instead the native Keras format, e.g. `model.save('my_model.keras')` or `keras.saving.save_model(model, 'my_model.keras')`. \n"
     ]
    },
    {
     "name": "stdout",
     "output_type": "stream",
     "text": [
      "\b\b\b\b\b\b\b\b\b\b\b\b\b\b\b\b\b\b\b\b\b\b\b\b\b\b\b\b\b\b\b\b\b\b\b\b\b\b\b\b\b\b\b\b\b\b\b\b\b\b\b\b\b\b\b\b\b\b\b\b\b\b\b\b\b\b\b\b\b\b\b\b\b\b\b\b\b\b\b\b\b\b\b\r",
      "\u001b[1m302/302\u001b[0m \u001b[32m━━━━━━━━━━━━━━━━━━━━\u001b[0m\u001b[37m\u001b[0m \u001b[1m1s\u001b[0m 2ms/step - acc: 0.6114 - auc: 0.5577 - loss: 0.6538 - val_acc: 0.9762 - val_auc: 1.0000 - val_loss: 0.4321\n",
      "Epoch 3/100\n",
      "\u001b[1m288/302\u001b[0m \u001b[32m━━━━━━━━━━━━━━━━━━━\u001b[0m\u001b[37m━\u001b[0m \u001b[1m0s\u001b[0m 2ms/step - acc: 0.6393 - auc: 0.6164 - loss: 0.6307\n",
      "Epoch 3: val_loss improved from 0.43209 to 0.39838, saving model to best_tab_only_fold1.h5\n"
     ]
    },
    {
     "name": "stderr",
     "output_type": "stream",
     "text": [
      "WARNING:absl:You are saving your model as an HDF5 file via `model.save()` or `keras.saving.save_model(model)`. This file format is considered legacy. We recommend using instead the native Keras format, e.g. `model.save('my_model.keras')` or `keras.saving.save_model(model, 'my_model.keras')`. \n"
     ]
    },
    {
     "name": "stdout",
     "output_type": "stream",
     "text": [
      "\b\b\b\b\b\b\b\b\b\b\b\b\b\b\b\b\b\b\b\b\b\b\b\b\b\b\b\b\b\b\b\b\b\b\b\b\b\b\b\b\b\b\b\b\b\b\b\b\b\b\b\b\b\b\b\b\b\b\b\b\b\b\b\b\b\b\b\b\b\b\b\b\b\b\b\b\b\b\b\b\b\b\b\r",
      "\u001b[1m302/302\u001b[0m \u001b[32m━━━━━━━━━━━━━━━━━━━━\u001b[0m\u001b[37m\u001b[0m \u001b[1m1s\u001b[0m 2ms/step - acc: 0.6388 - auc: 0.6170 - loss: 0.6307 - val_acc: 0.9762 - val_auc: 1.0000 - val_loss: 0.3984\n",
      "Epoch 4/100\n",
      "\u001b[1m280/302\u001b[0m \u001b[32m━━━━━━━━━━━━━━━━━━\u001b[0m\u001b[37m━━\u001b[0m \u001b[1m0s\u001b[0m 2ms/step - acc: 0.6533 - auc: 0.6563 - loss: 0.6251\n",
      "Epoch 4: val_loss improved from 0.39838 to 0.37234, saving model to best_tab_only_fold1.h5\n"
     ]
    },
    {
     "name": "stderr",
     "output_type": "stream",
     "text": [
      "WARNING:absl:You are saving your model as an HDF5 file via `model.save()` or `keras.saving.save_model(model)`. This file format is considered legacy. We recommend using instead the native Keras format, e.g. `model.save('my_model.keras')` or `keras.saving.save_model(model, 'my_model.keras')`. \n"
     ]
    },
    {
     "name": "stdout",
     "output_type": "stream",
     "text": [
      "\b\b\b\b\b\b\b\b\b\b\b\b\b\b\b\b\b\b\b\b\b\b\b\b\b\b\b\b\b\b\b\b\b\b\b\b\b\b\b\b\b\b\b\b\b\b\b\b\b\b\b\b\b\b\b\b\b\b\b\b\b\b\b\b\b\b\b\b\b\b\b\b\b\b\b\b\b\b\b\b\b\b\b\r",
      "\u001b[1m302/302\u001b[0m \u001b[32m━━━━━━━━━━━━━━━━━━━━\u001b[0m\u001b[37m\u001b[0m \u001b[1m1s\u001b[0m 2ms/step - acc: 0.6525 - auc: 0.6583 - loss: 0.6246 - val_acc: 0.9762 - val_auc: 1.0000 - val_loss: 0.3723\n",
      "Epoch 5/100\n",
      "\u001b[1m285/302\u001b[0m \u001b[32m━━━━━━━━━━━━━━━━━━\u001b[0m\u001b[37m━━\u001b[0m \u001b[1m0s\u001b[0m 2ms/step - acc: 0.6555 - auc: 0.7480 - loss: 0.5988\n",
      "Epoch 5: val_loss improved from 0.37234 to 0.34894, saving model to best_tab_only_fold1.h5\n"
     ]
    },
    {
     "name": "stderr",
     "output_type": "stream",
     "text": [
      "WARNING:absl:You are saving your model as an HDF5 file via `model.save()` or `keras.saving.save_model(model)`. This file format is considered legacy. We recommend using instead the native Keras format, e.g. `model.save('my_model.keras')` or `keras.saving.save_model(model, 'my_model.keras')`. \n"
     ]
    },
    {
     "name": "stdout",
     "output_type": "stream",
     "text": [
      "\b\b\b\b\b\b\b\b\b\b\b\b\b\b\b\b\b\b\b\b\b\b\b\b\b\b\b\b\b\b\b\b\b\b\b\b\b\b\b\b\b\b\b\b\b\b\b\b\b\b\b\b\b\b\b\b\b\b\b\b\b\b\b\b\b\b\b\b\b\b\b\b\b\b\b\b\b\b\b\b\b\b\b\r",
      "\u001b[1m302/302\u001b[0m \u001b[32m━━━━━━━━━━━━━━━━━━━━\u001b[0m\u001b[37m\u001b[0m \u001b[1m1s\u001b[0m 2ms/step - acc: 0.6553 - auc: 0.7466 - loss: 0.5991 - val_acc: 0.9762 - val_auc: 1.0000 - val_loss: 0.3489\n",
      "Epoch 6/100\n",
      "\u001b[1m295/302\u001b[0m \u001b[32m━━━━━━━━━━━━━━━━━━━\u001b[0m\u001b[37m━\u001b[0m \u001b[1m0s\u001b[0m 2ms/step - acc: 0.6966 - auc: 0.8109 - loss: 0.5708\n",
      "Epoch 6: val_loss improved from 0.34894 to 0.32477, saving model to best_tab_only_fold1.h5\n"
     ]
    },
    {
     "name": "stderr",
     "output_type": "stream",
     "text": [
      "WARNING:absl:You are saving your model as an HDF5 file via `model.save()` or `keras.saving.save_model(model)`. This file format is considered legacy. We recommend using instead the native Keras format, e.g. `model.save('my_model.keras')` or `keras.saving.save_model(model, 'my_model.keras')`. \n"
     ]
    },
    {
     "name": "stdout",
     "output_type": "stream",
     "text": [
      "\b\b\b\b\b\b\b\b\b\b\b\b\b\b\b\b\b\b\b\b\b\b\b\b\b\b\b\b\b\b\b\b\b\b\b\b\b\b\b\b\b\b\b\b\b\b\b\b\b\b\b\b\b\b\b\b\b\b\b\b\b\b\b\b\b\b\b\b\b\b\b\b\b\b\b\b\b\b\b\b\b\b\b\r",
      "\u001b[1m302/302\u001b[0m \u001b[32m━━━━━━━━━━━━━━━━━━━━\u001b[0m\u001b[37m\u001b[0m \u001b[1m1s\u001b[0m 2ms/step - acc: 0.6959 - auc: 0.8102 - loss: 0.5712 - val_acc: 0.9762 - val_auc: 1.0000 - val_loss: 0.3248\n",
      "Epoch 7/100\n",
      "\u001b[1m294/302\u001b[0m \u001b[32m━━━━━━━━━━━━━━━━━━━\u001b[0m\u001b[37m━\u001b[0m \u001b[1m0s\u001b[0m 2ms/step - acc: 0.6400 - auc: 0.7226 - loss: 0.6095\n",
      "Epoch 7: val_loss improved from 0.32477 to 0.30728, saving model to best_tab_only_fold1.h5\n"
     ]
    },
    {
     "name": "stderr",
     "output_type": "stream",
     "text": [
      "WARNING:absl:You are saving your model as an HDF5 file via `model.save()` or `keras.saving.save_model(model)`. This file format is considered legacy. We recommend using instead the native Keras format, e.g. `model.save('my_model.keras')` or `keras.saving.save_model(model, 'my_model.keras')`. \n"
     ]
    },
    {
     "name": "stdout",
     "output_type": "stream",
     "text": [
      "\b\b\b\b\b\b\b\b\b\b\b\b\b\b\b\b\b\b\b\b\b\b\b\b\b\b\b\b\b\b\b\b\b\b\b\b\b\b\b\b\b\b\b\b\b\b\b\b\b\b\b\b\b\b\b\b\b\b\b\b\b\b\b\b\b\b\b\b\b\b\b\b\b\b\b\b\b\b\b\b\b\b\b\r",
      "\u001b[1m302/302\u001b[0m \u001b[32m━━━━━━━━━━━━━━━━━━━━\u001b[0m\u001b[37m\u001b[0m \u001b[1m1s\u001b[0m 2ms/step - acc: 0.6405 - auc: 0.7238 - loss: 0.6089 - val_acc: 0.9762 - val_auc: 1.0000 - val_loss: 0.3073\n",
      "Epoch 8/100\n",
      "\u001b[1m290/302\u001b[0m \u001b[32m━━━━━━━━━━━━━━━━━━━\u001b[0m\u001b[37m━\u001b[0m \u001b[1m0s\u001b[0m 2ms/step - acc: 0.6412 - auc: 0.7744 - loss: 0.5959\n",
      "Epoch 8: val_loss improved from 0.30728 to 0.29061, saving model to best_tab_only_fold1.h5\n"
     ]
    },
    {
     "name": "stderr",
     "output_type": "stream",
     "text": [
      "WARNING:absl:You are saving your model as an HDF5 file via `model.save()` or `keras.saving.save_model(model)`. This file format is considered legacy. We recommend using instead the native Keras format, e.g. `model.save('my_model.keras')` or `keras.saving.save_model(model, 'my_model.keras')`. \n"
     ]
    },
    {
     "name": "stdout",
     "output_type": "stream",
     "text": [
      "\b\b\b\b\b\b\b\b\b\b\b\b\b\b\b\b\b\b\b\b\b\b\b\b\b\b\b\b\b\b\b\b\b\b\b\b\b\b\b\b\b\b\b\b\b\b\b\b\b\b\b\b\b\b\b\b\b\b\b\b\b\b\b\b\b\b\b\b\b\b\b\b\b\b\b\b\b\b\b\b\b\b\b\r",
      "\u001b[1m302/302\u001b[0m \u001b[32m━━━━━━━━━━━━━━━━━━━━\u001b[0m\u001b[37m\u001b[0m \u001b[1m1s\u001b[0m 2ms/step - acc: 0.6423 - auc: 0.7754 - loss: 0.5950 - val_acc: 0.9762 - val_auc: 1.0000 - val_loss: 0.2906\n",
      "Epoch 9/100\n",
      "\u001b[1m288/302\u001b[0m \u001b[32m━━━━━━━━━━━━━━━━━━━\u001b[0m\u001b[37m━\u001b[0m \u001b[1m0s\u001b[0m 2ms/step - acc: 0.6732 - auc: 0.7841 - loss: 0.5728\n",
      "Epoch 9: val_loss improved from 0.29061 to 0.27531, saving model to best_tab_only_fold1.h5\n"
     ]
    },
    {
     "name": "stderr",
     "output_type": "stream",
     "text": [
      "WARNING:absl:You are saving your model as an HDF5 file via `model.save()` or `keras.saving.save_model(model)`. This file format is considered legacy. We recommend using instead the native Keras format, e.g. `model.save('my_model.keras')` or `keras.saving.save_model(model, 'my_model.keras')`. \n"
     ]
    },
    {
     "name": "stdout",
     "output_type": "stream",
     "text": [
      "\b\b\b\b\b\b\b\b\b\b\b\b\b\b\b\b\b\b\b\b\b\b\b\b\b\b\b\b\b\b\b\b\b\b\b\b\b\b\b\b\b\b\b\b\b\b\b\b\b\b\b\b\b\b\b\b\b\b\b\b\b\b\b\b\b\b\b\b\b\b\b\b\b\b\b\b\b\b\b\b\b\b\b\r",
      "\u001b[1m302/302\u001b[0m \u001b[32m━━━━━━━━━━━━━━━━━━━━\u001b[0m\u001b[37m\u001b[0m \u001b[1m1s\u001b[0m 2ms/step - acc: 0.6735 - auc: 0.7844 - loss: 0.5725 - val_acc: 0.9762 - val_auc: 1.0000 - val_loss: 0.2753\n",
      "Epoch 10/100\n",
      "\u001b[1m291/302\u001b[0m \u001b[32m━━━━━━━━━━━━━━━━━━━\u001b[0m\u001b[37m━\u001b[0m \u001b[1m0s\u001b[0m 2ms/step - acc: 0.6783 - auc: 0.7938 - loss: 0.5712\n",
      "Epoch 10: val_loss improved from 0.27531 to 0.26277, saving model to best_tab_only_fold1.h5\n"
     ]
    },
    {
     "name": "stderr",
     "output_type": "stream",
     "text": [
      "WARNING:absl:You are saving your model as an HDF5 file via `model.save()` or `keras.saving.save_model(model)`. This file format is considered legacy. We recommend using instead the native Keras format, e.g. `model.save('my_model.keras')` or `keras.saving.save_model(model, 'my_model.keras')`. \n"
     ]
    },
    {
     "name": "stdout",
     "output_type": "stream",
     "text": [
      "\b\b\b\b\b\b\b\b\b\b\b\b\b\b\b\b\b\b\b\b\b\b\b\b\b\b\b\b\b\b\b\b\b\b\b\b\b\b\b\b\b\b\b\b\b\b\b\b\b\b\b\b\b\b\b\b\b\b\b\b\b\b\b\b\b\b\b\b\b\b\b\b\b\b\b\b\b\b\b\b\b\b\b\r",
      "\u001b[1m302/302\u001b[0m \u001b[32m━━━━━━━━━━━━━━━━━━━━\u001b[0m\u001b[37m\u001b[0m \u001b[1m1s\u001b[0m 2ms/step - acc: 0.6796 - auc: 0.7940 - loss: 0.5707 - val_acc: 0.9762 - val_auc: 1.0000 - val_loss: 0.2628\n",
      "Epoch 11/100\n",
      "\u001b[1m297/302\u001b[0m \u001b[32m━━━━━━━━━━━━━━━━━━━\u001b[0m\u001b[37m━\u001b[0m \u001b[1m0s\u001b[0m 2ms/step - acc: 0.7306 - auc: 0.7950 - loss: 0.5706\n",
      "Epoch 11: val_loss improved from 0.26277 to 0.25475, saving model to best_tab_only_fold1.h5\n"
     ]
    },
    {
     "name": "stderr",
     "output_type": "stream",
     "text": [
      "WARNING:absl:You are saving your model as an HDF5 file via `model.save()` or `keras.saving.save_model(model)`. This file format is considered legacy. We recommend using instead the native Keras format, e.g. `model.save('my_model.keras')` or `keras.saving.save_model(model, 'my_model.keras')`. \n"
     ]
    },
    {
     "name": "stdout",
     "output_type": "stream",
     "text": [
      "\b\b\b\b\b\b\b\b\b\b\b\b\b\b\b\b\b\b\b\b\b\b\b\b\b\b\b\b\b\b\b\b\b\b\b\b\b\b\b\b\b\b\b\b\b\b\b\b\b\b\b\b\b\b\b\b\b\b\b\b\b\b\b\b\b\b\b\b\b\b\b\b\b\b\b\b\b\b\b\b\b\b\b\r",
      "\u001b[1m302/302\u001b[0m \u001b[32m━━━━━━━━━━━━━━━━━━━━\u001b[0m\u001b[37m\u001b[0m \u001b[1m1s\u001b[0m 2ms/step - acc: 0.7311 - auc: 0.7951 - loss: 0.5703 - val_acc: 0.9762 - val_auc: 1.0000 - val_loss: 0.2548\n",
      "Epoch 12/100\n",
      "\u001b[1m299/302\u001b[0m \u001b[32m━━━━━━━━━━━━━━━━━━━\u001b[0m\u001b[37m━\u001b[0m \u001b[1m0s\u001b[0m 2ms/step - acc: 0.7833 - auc: 0.8031 - loss: 0.5394\n",
      "Epoch 12: val_loss improved from 0.25475 to 0.24450, saving model to best_tab_only_fold1.h5\n"
     ]
    },
    {
     "name": "stderr",
     "output_type": "stream",
     "text": [
      "WARNING:absl:You are saving your model as an HDF5 file via `model.save()` or `keras.saving.save_model(model)`. This file format is considered legacy. We recommend using instead the native Keras format, e.g. `model.save('my_model.keras')` or `keras.saving.save_model(model, 'my_model.keras')`. \n"
     ]
    },
    {
     "name": "stdout",
     "output_type": "stream",
     "text": [
      "\b\b\b\b\b\b\b\b\b\b\b\b\b\b\b\b\b\b\b\b\b\b\b\b\b\b\b\b\b\b\b\b\b\b\b\b\b\b\b\b\b\b\b\b\b\b\b\b\b\b\b\b\b\b\b\b\b\b\b\b\b\b\b\b\b\b\b\b\b\b\b\b\b\b\b\b\b\b\b\b\b\b\b\r",
      "\u001b[1m302/302\u001b[0m \u001b[32m━━━━━━━━━━━━━━━━━━━━\u001b[0m\u001b[37m\u001b[0m \u001b[1m1s\u001b[0m 2ms/step - acc: 0.7834 - auc: 0.8032 - loss: 0.5394 - val_acc: 0.9762 - val_auc: 1.0000 - val_loss: 0.2445\n",
      "Epoch 13/100\n",
      "\u001b[1m293/302\u001b[0m \u001b[32m━━━━━━━━━━━━━━━━━━━\u001b[0m\u001b[37m━\u001b[0m \u001b[1m0s\u001b[0m 2ms/step - acc: 0.8024 - auc: 0.8442 - loss: 0.5252\n",
      "Epoch 13: val_loss improved from 0.24450 to 0.23692, saving model to best_tab_only_fold1.h5\n"
     ]
    },
    {
     "name": "stderr",
     "output_type": "stream",
     "text": [
      "WARNING:absl:You are saving your model as an HDF5 file via `model.save()` or `keras.saving.save_model(model)`. This file format is considered legacy. We recommend using instead the native Keras format, e.g. `model.save('my_model.keras')` or `keras.saving.save_model(model, 'my_model.keras')`. \n"
     ]
    },
    {
     "name": "stdout",
     "output_type": "stream",
     "text": [
      "\b\b\b\b\b\b\b\b\b\b\b\b\b\b\b\b\b\b\b\b\b\b\b\b\b\b\b\b\b\b\b\b\b\b\b\b\b\b\b\b\b\b\b\b\b\b\b\b\b\b\b\b\b\b\b\b\b\b\b\b\b\b\b\b\b\b\b\b\b\b\b\b\b\b\b\b\b\b\b\b\b\b\b\r",
      "\u001b[1m302/302\u001b[0m \u001b[32m━━━━━━━━━━━━━━━━━━━━\u001b[0m\u001b[37m\u001b[0m \u001b[1m1s\u001b[0m 2ms/step - acc: 0.8025 - auc: 0.8429 - loss: 0.5256 - val_acc: 0.9762 - val_auc: 1.0000 - val_loss: 0.2369\n",
      "Epoch 14/100\n",
      "\u001b[1m292/302\u001b[0m \u001b[32m━━━━━━━━━━━━━━━━━━━\u001b[0m\u001b[37m━\u001b[0m \u001b[1m0s\u001b[0m 2ms/step - acc: 0.8157 - auc: 0.8200 - loss: 0.5153\n",
      "Epoch 14: val_loss improved from 0.23692 to 0.22737, saving model to best_tab_only_fold1.h5\n"
     ]
    },
    {
     "name": "stderr",
     "output_type": "stream",
     "text": [
      "WARNING:absl:You are saving your model as an HDF5 file via `model.save()` or `keras.saving.save_model(model)`. This file format is considered legacy. We recommend using instead the native Keras format, e.g. `model.save('my_model.keras')` or `keras.saving.save_model(model, 'my_model.keras')`. \n"
     ]
    },
    {
     "name": "stdout",
     "output_type": "stream",
     "text": [
      "\b\b\b\b\b\b\b\b\b\b\b\b\b\b\b\b\b\b\b\b\b\b\b\b\b\b\b\b\b\b\b\b\b\b\b\b\b\b\b\b\b\b\b\b\b\b\b\b\b\b\b\b\b\b\b\b\b\b\b\b\b\b\b\b\b\b\b\b\b\b\b\b\b\b\b\b\b\b\b\b\b\b\b\r",
      "\u001b[1m302/302\u001b[0m \u001b[32m━━━━━━━━━━━━━━━━━━━━\u001b[0m\u001b[37m\u001b[0m \u001b[1m1s\u001b[0m 2ms/step - acc: 0.8158 - auc: 0.8200 - loss: 0.5155 - val_acc: 0.9762 - val_auc: 1.0000 - val_loss: 0.2274\n",
      "Epoch 15/100\n",
      "\u001b[1m292/302\u001b[0m \u001b[32m━━━━━━━━━━━━━━━━━━━\u001b[0m\u001b[37m━\u001b[0m \u001b[1m0s\u001b[0m 2ms/step - acc: 0.8454 - auc: 0.7881 - loss: 0.5251\n",
      "Epoch 15: val_loss improved from 0.22737 to 0.22332, saving model to best_tab_only_fold1.h5\n"
     ]
    },
    {
     "name": "stderr",
     "output_type": "stream",
     "text": [
      "WARNING:absl:You are saving your model as an HDF5 file via `model.save()` or `keras.saving.save_model(model)`. This file format is considered legacy. We recommend using instead the native Keras format, e.g. `model.save('my_model.keras')` or `keras.saving.save_model(model, 'my_model.keras')`. \n"
     ]
    },
    {
     "name": "stdout",
     "output_type": "stream",
     "text": [
      "\b\b\b\b\b\b\b\b\b\b\b\b\b\b\b\b\b\b\b\b\b\b\b\b\b\b\b\b\b\b\b\b\b\b\b\b\b\b\b\b\b\b\b\b\b\b\b\b\b\b\b\b\b\b\b\b\b\b\b\b\b\b\b\b\b\b\b\b\b\b\b\b\b\b\b\b\b\b\b\b\b\b\b\r",
      "\u001b[1m302/302\u001b[0m \u001b[32m━━━━━━━━━━━━━━━━━━━━\u001b[0m\u001b[37m\u001b[0m \u001b[1m1s\u001b[0m 2ms/step - acc: 0.8451 - auc: 0.7888 - loss: 0.5249 - val_acc: 0.9762 - val_auc: 1.0000 - val_loss: 0.2233\n",
      "Epoch 16/100\n",
      "\u001b[1m295/302\u001b[0m \u001b[32m━━━━━━━━━━━━━━━━━━━\u001b[0m\u001b[37m━\u001b[0m \u001b[1m0s\u001b[0m 2ms/step - acc: 0.8392 - auc: 0.7902 - loss: 0.5194\n",
      "Epoch 16: val_loss improved from 0.22332 to 0.21739, saving model to best_tab_only_fold1.h5\n"
     ]
    },
    {
     "name": "stderr",
     "output_type": "stream",
     "text": [
      "WARNING:absl:You are saving your model as an HDF5 file via `model.save()` or `keras.saving.save_model(model)`. This file format is considered legacy. We recommend using instead the native Keras format, e.g. `model.save('my_model.keras')` or `keras.saving.save_model(model, 'my_model.keras')`. \n"
     ]
    },
    {
     "name": "stdout",
     "output_type": "stream",
     "text": [
      "\b\b\b\b\b\b\b\b\b\b\b\b\b\b\b\b\b\b\b\b\b\b\b\b\b\b\b\b\b\b\b\b\b\b\b\b\b\b\b\b\b\b\b\b\b\b\b\b\b\b\b\b\b\b\b\b\b\b\b\b\b\b\b\b\b\b\b\b\b\b\b\b\b\b\b\b\b\b\b\b\b\b\b\r",
      "\u001b[1m302/302\u001b[0m \u001b[32m━━━━━━━━━━━━━━━━━━━━\u001b[0m\u001b[37m\u001b[0m \u001b[1m1s\u001b[0m 2ms/step - acc: 0.8392 - auc: 0.7908 - loss: 0.5192 - val_acc: 0.9762 - val_auc: 1.0000 - val_loss: 0.2174\n",
      "Epoch 17/100\n",
      "\u001b[1m293/302\u001b[0m \u001b[32m━━━━━━━━━━━━━━━━━━━\u001b[0m\u001b[37m━\u001b[0m \u001b[1m0s\u001b[0m 2ms/step - acc: 0.8249 - auc: 0.8135 - loss: 0.5283\n",
      "Epoch 17: val_loss improved from 0.21739 to 0.21102, saving model to best_tab_only_fold1.h5\n"
     ]
    },
    {
     "name": "stderr",
     "output_type": "stream",
     "text": [
      "WARNING:absl:You are saving your model as an HDF5 file via `model.save()` or `keras.saving.save_model(model)`. This file format is considered legacy. We recommend using instead the native Keras format, e.g. `model.save('my_model.keras')` or `keras.saving.save_model(model, 'my_model.keras')`. \n"
     ]
    },
    {
     "name": "stdout",
     "output_type": "stream",
     "text": [
      "\b\b\b\b\b\b\b\b\b\b\b\b\b\b\b\b\b\b\b\b\b\b\b\b\b\b\b\b\b\b\b\b\b\b\b\b\b\b\b\b\b\b\b\b\b\b\b\b\b\b\b\b\b\b\b\b\b\b\b\b\b\b\b\b\b\b\b\b\b\b\b\b\b\b\b\b\b\b\b\b\b\b\b\r",
      "\u001b[1m302/302\u001b[0m \u001b[32m━━━━━━━━━━━━━━━━━━━━\u001b[0m\u001b[37m\u001b[0m \u001b[1m1s\u001b[0m 2ms/step - acc: 0.8253 - auc: 0.8136 - loss: 0.5276 - val_acc: 0.9762 - val_auc: 1.0000 - val_loss: 0.2110\n",
      "Epoch 18/100\n",
      "\u001b[1m297/302\u001b[0m \u001b[32m━━━━━━━━━━━━━━━━━━━\u001b[0m\u001b[37m━\u001b[0m \u001b[1m0s\u001b[0m 2ms/step - acc: 0.8477 - auc: 0.8095 - loss: 0.5001\n",
      "Epoch 18: val_loss improved from 0.21102 to 0.20646, saving model to best_tab_only_fold1.h5\n"
     ]
    },
    {
     "name": "stderr",
     "output_type": "stream",
     "text": [
      "WARNING:absl:You are saving your model as an HDF5 file via `model.save()` or `keras.saving.save_model(model)`. This file format is considered legacy. We recommend using instead the native Keras format, e.g. `model.save('my_model.keras')` or `keras.saving.save_model(model, 'my_model.keras')`. \n"
     ]
    },
    {
     "name": "stdout",
     "output_type": "stream",
     "text": [
      "\b\b\b\b\b\b\b\b\b\b\b\b\b\b\b\b\b\b\b\b\b\b\b\b\b\b\b\b\b\b\b\b\b\b\b\b\b\b\b\b\b\b\b\b\b\b\b\b\b\b\b\b\b\b\b\b\b\b\b\b\b\b\b\b\b\b\b\b\b\b\b\b\b\b\b\b\b\b\b\b\b\b\b\r",
      "\u001b[1m302/302\u001b[0m \u001b[32m━━━━━━━━━━━━━━━━━━━━\u001b[0m\u001b[37m\u001b[0m \u001b[1m1s\u001b[0m 2ms/step - acc: 0.8476 - auc: 0.8093 - loss: 0.5003 - val_acc: 0.9762 - val_auc: 1.0000 - val_loss: 0.2065\n",
      "Epoch 19/100\n",
      "\u001b[1m293/302\u001b[0m \u001b[32m━━━━━━━━━━━━━━━━━━━\u001b[0m\u001b[37m━\u001b[0m \u001b[1m0s\u001b[0m 2ms/step - acc: 0.8470 - auc: 0.8074 - loss: 0.4843\n",
      "Epoch 19: val_loss improved from 0.20646 to 0.20435, saving model to best_tab_only_fold1.h5\n"
     ]
    },
    {
     "name": "stderr",
     "output_type": "stream",
     "text": [
      "WARNING:absl:You are saving your model as an HDF5 file via `model.save()` or `keras.saving.save_model(model)`. This file format is considered legacy. We recommend using instead the native Keras format, e.g. `model.save('my_model.keras')` or `keras.saving.save_model(model, 'my_model.keras')`. \n"
     ]
    },
    {
     "name": "stdout",
     "output_type": "stream",
     "text": [
      "\b\b\b\b\b\b\b\b\b\b\b\b\b\b\b\b\b\b\b\b\b\b\b\b\b\b\b\b\b\b\b\b\b\b\b\b\b\b\b\b\b\b\b\b\b\b\b\b\b\b\b\b\b\b\b\b\b\b\b\b\b\b\b\b\b\b\b\b\b\b\b\b\b\b\b\b\b\b\b\b\b\b\b\r",
      "\u001b[1m302/302\u001b[0m \u001b[32m━━━━━━━━━━━━━━━━━━━━\u001b[0m\u001b[37m\u001b[0m \u001b[1m1s\u001b[0m 2ms/step - acc: 0.8468 - auc: 0.8074 - loss: 0.4849 - val_acc: 0.9762 - val_auc: 1.0000 - val_loss: 0.2043\n",
      "Epoch 20/100\n",
      "\u001b[1m285/302\u001b[0m \u001b[32m━━━━━━━━━━━━━━━━━━\u001b[0m\u001b[37m━━\u001b[0m \u001b[1m0s\u001b[0m 2ms/step - acc: 0.8568 - auc: 0.8114 - loss: 0.4845\n",
      "Epoch 20: val_loss improved from 0.20435 to 0.19950, saving model to best_tab_only_fold1.h5\n"
     ]
    },
    {
     "name": "stderr",
     "output_type": "stream",
     "text": [
      "WARNING:absl:You are saving your model as an HDF5 file via `model.save()` or `keras.saving.save_model(model)`. This file format is considered legacy. We recommend using instead the native Keras format, e.g. `model.save('my_model.keras')` or `keras.saving.save_model(model, 'my_model.keras')`. \n"
     ]
    },
    {
     "name": "stdout",
     "output_type": "stream",
     "text": [
      "\b\b\b\b\b\b\b\b\b\b\b\b\b\b\b\b\b\b\b\b\b\b\b\b\b\b\b\b\b\b\b\b\b\b\b\b\b\b\b\b\b\b\b\b\b\b\b\b\b\b\b\b\b\b\b\b\b\b\b\b\b\b\b\b\b\b\b\b\b\b\b\b\b\b\b\b\b\b\b\b\b\b\b\r",
      "\u001b[1m302/302\u001b[0m \u001b[32m━━━━━━━━━━━━━━━━━━━━\u001b[0m\u001b[37m\u001b[0m \u001b[1m1s\u001b[0m 2ms/step - acc: 0.8563 - auc: 0.8109 - loss: 0.4852 - val_acc: 0.9762 - val_auc: 1.0000 - val_loss: 0.1995\n",
      "Epoch 21/100\n",
      "\u001b[1m292/302\u001b[0m \u001b[32m━━━━━━━━━━━━━━━━━━━\u001b[0m\u001b[37m━\u001b[0m \u001b[1m0s\u001b[0m 2ms/step - acc: 0.8218 - auc: 0.7584 - loss: 0.5204\n",
      "Epoch 21: val_loss improved from 0.19950 to 0.19566, saving model to best_tab_only_fold1.h5\n"
     ]
    },
    {
     "name": "stderr",
     "output_type": "stream",
     "text": [
      "WARNING:absl:You are saving your model as an HDF5 file via `model.save()` or `keras.saving.save_model(model)`. This file format is considered legacy. We recommend using instead the native Keras format, e.g. `model.save('my_model.keras')` or `keras.saving.save_model(model, 'my_model.keras')`. \n"
     ]
    },
    {
     "name": "stdout",
     "output_type": "stream",
     "text": [
      "\b\b\b\b\b\b\b\b\b\b\b\b\b\b\b\b\b\b\b\b\b\b\b\b\b\b\b\b\b\b\b\b\b\b\b\b\b\b\b\b\b\b\b\b\b\b\b\b\b\b\b\b\b\b\b\b\b\b\b\b\b\b\b\b\b\b\b\b\b\b\b\b\b\b\b\b\b\b\b\b\b\b\b\r",
      "\u001b[1m302/302\u001b[0m \u001b[32m━━━━━━━━━━━━━━━━━━━━\u001b[0m\u001b[37m\u001b[0m \u001b[1m1s\u001b[0m 2ms/step - acc: 0.8224 - auc: 0.7598 - loss: 0.5196 - val_acc: 0.9762 - val_auc: 1.0000 - val_loss: 0.1957\n",
      "Epoch 22/100\n",
      "\u001b[1m293/302\u001b[0m \u001b[32m━━━━━━━━━━━━━━━━━━━\u001b[0m\u001b[37m━\u001b[0m \u001b[1m0s\u001b[0m 2ms/step - acc: 0.8528 - auc: 0.8108 - loss: 0.4826\n",
      "Epoch 22: val_loss improved from 0.19566 to 0.19378, saving model to best_tab_only_fold1.h5\n"
     ]
    },
    {
     "name": "stderr",
     "output_type": "stream",
     "text": [
      "WARNING:absl:You are saving your model as an HDF5 file via `model.save()` or `keras.saving.save_model(model)`. This file format is considered legacy. We recommend using instead the native Keras format, e.g. `model.save('my_model.keras')` or `keras.saving.save_model(model, 'my_model.keras')`. \n"
     ]
    },
    {
     "name": "stdout",
     "output_type": "stream",
     "text": [
      "\b\b\b\b\b\b\b\b\b\b\b\b\b\b\b\b\b\b\b\b\b\b\b\b\b\b\b\b\b\b\b\b\b\b\b\b\b\b\b\b\b\b\b\b\b\b\b\b\b\b\b\b\b\b\b\b\b\b\b\b\b\b\b\b\b\b\b\b\b\b\b\b\b\b\b\b\b\b\b\b\b\b\b\r",
      "\u001b[1m302/302\u001b[0m \u001b[32m━━━━━━━━━━━━━━━━━━━━\u001b[0m\u001b[37m\u001b[0m \u001b[1m1s\u001b[0m 2ms/step - acc: 0.8524 - auc: 0.8104 - loss: 0.4830 - val_acc: 0.9762 - val_auc: 1.0000 - val_loss: 0.1938\n",
      "Epoch 23/100\n",
      "\u001b[1m294/302\u001b[0m \u001b[32m━━━━━━━━━━━━━━━━━━━\u001b[0m\u001b[37m━\u001b[0m \u001b[1m0s\u001b[0m 2ms/step - acc: 0.8404 - auc: 0.7859 - loss: 0.5001\n",
      "Epoch 23: val_loss improved from 0.19378 to 0.18728, saving model to best_tab_only_fold1.h5\n"
     ]
    },
    {
     "name": "stderr",
     "output_type": "stream",
     "text": [
      "WARNING:absl:You are saving your model as an HDF5 file via `model.save()` or `keras.saving.save_model(model)`. This file format is considered legacy. We recommend using instead the native Keras format, e.g. `model.save('my_model.keras')` or `keras.saving.save_model(model, 'my_model.keras')`. \n"
     ]
    },
    {
     "name": "stdout",
     "output_type": "stream",
     "text": [
      "\b\b\b\b\b\b\b\b\b\b\b\b\b\b\b\b\b\b\b\b\b\b\b\b\b\b\b\b\b\b\b\b\b\b\b\b\b\b\b\b\b\b\b\b\b\b\b\b\b\b\b\b\b\b\b\b\b\b\b\b\b\b\b\b\b\b\b\b\b\b\b\b\b\b\b\b\b\b\b\b\b\b\b\r",
      "\u001b[1m302/302\u001b[0m \u001b[32m━━━━━━━━━━━━━━━━━━━━\u001b[0m\u001b[37m\u001b[0m \u001b[1m1s\u001b[0m 2ms/step - acc: 0.8405 - auc: 0.7865 - loss: 0.4996 - val_acc: 0.9762 - val_auc: 1.0000 - val_loss: 0.1873\n",
      "Epoch 24/100\n",
      "\u001b[1m302/302\u001b[0m \u001b[32m━━━━━━━━━━━━━━━━━━━━\u001b[0m\u001b[37m\u001b[0m \u001b[1m0s\u001b[0m 2ms/step - acc: 0.8382 - auc: 0.8000 - loss: 0.4954\n",
      "Epoch 24: val_loss improved from 0.18728 to 0.18348, saving model to best_tab_only_fold1.h5\n"
     ]
    },
    {
     "name": "stderr",
     "output_type": "stream",
     "text": [
      "WARNING:absl:You are saving your model as an HDF5 file via `model.save()` or `keras.saving.save_model(model)`. This file format is considered legacy. We recommend using instead the native Keras format, e.g. `model.save('my_model.keras')` or `keras.saving.save_model(model, 'my_model.keras')`. \n"
     ]
    },
    {
     "name": "stdout",
     "output_type": "stream",
     "text": [
      "\b\b\b\b\b\b\b\b\b\b\b\b\b\b\b\b\b\b\b\b\b\b\b\b\b\b\b\b\b\b\b\b\b\b\b\b\b\b\b\b\b\b\b\b\b\b\b\b\b\b\b\b\b\b\b\b\b\b\b\b\b\b\b\b\b\b\b\b\b\b\b\b\b\b\b\b\b\b\b\b\b\b\b\r",
      "\u001b[1m302/302\u001b[0m \u001b[32m━━━━━━━━━━━━━━━━━━━━\u001b[0m\u001b[37m\u001b[0m \u001b[1m1s\u001b[0m 2ms/step - acc: 0.8382 - auc: 0.8000 - loss: 0.4953 - val_acc: 0.9762 - val_auc: 1.0000 - val_loss: 0.1835\n",
      "Epoch 25/100\n",
      "\u001b[1m286/302\u001b[0m \u001b[32m━━━━━━━━━━━━━━━━━━\u001b[0m\u001b[37m━━\u001b[0m \u001b[1m0s\u001b[0m 2ms/step - acc: 0.8528 - auc: 0.8029 - loss: 0.4671\n",
      "Epoch 25: val_loss improved from 0.18348 to 0.18067, saving model to best_tab_only_fold1.h5\n"
     ]
    },
    {
     "name": "stderr",
     "output_type": "stream",
     "text": [
      "WARNING:absl:You are saving your model as an HDF5 file via `model.save()` or `keras.saving.save_model(model)`. This file format is considered legacy. We recommend using instead the native Keras format, e.g. `model.save('my_model.keras')` or `keras.saving.save_model(model, 'my_model.keras')`. \n"
     ]
    },
    {
     "name": "stdout",
     "output_type": "stream",
     "text": [
      "\b\b\b\b\b\b\b\b\b\b\b\b\b\b\b\b\b\b\b\b\b\b\b\b\b\b\b\b\b\b\b\b\b\b\b\b\b\b\b\b\b\b\b\b\b\b\b\b\b\b\b\b\b\b\b\b\b\b\b\b\b\b\b\b\b\b\b\b\b\b\b\b\b\b\b\b\b\b\b\b\b\b\b\r",
      "\u001b[1m302/302\u001b[0m \u001b[32m━━━━━━━━━━━━━━━━━━━━\u001b[0m\u001b[37m\u001b[0m \u001b[1m1s\u001b[0m 2ms/step - acc: 0.8526 - auc: 0.8032 - loss: 0.4677 - val_acc: 0.9762 - val_auc: 1.0000 - val_loss: 0.1807\n",
      "Epoch 26/100\n",
      "\u001b[1m287/302\u001b[0m \u001b[32m━━━━━━━━━━━━━━━━━━━\u001b[0m\u001b[37m━\u001b[0m \u001b[1m0s\u001b[0m 2ms/step - acc: 0.8427 - auc: 0.8035 - loss: 0.4891\n",
      "Epoch 26: val_loss improved from 0.18067 to 0.17809, saving model to best_tab_only_fold1.h5\n"
     ]
    },
    {
     "name": "stderr",
     "output_type": "stream",
     "text": [
      "WARNING:absl:You are saving your model as an HDF5 file via `model.save()` or `keras.saving.save_model(model)`. This file format is considered legacy. We recommend using instead the native Keras format, e.g. `model.save('my_model.keras')` or `keras.saving.save_model(model, 'my_model.keras')`. \n"
     ]
    },
    {
     "name": "stdout",
     "output_type": "stream",
     "text": [
      "\b\b\b\b\b\b\b\b\b\b\b\b\b\b\b\b\b\b\b\b\b\b\b\b\b\b\b\b\b\b\b\b\b\b\b\b\b\b\b\b\b\b\b\b\b\b\b\b\b\b\b\b\b\b\b\b\b\b\b\b\b\b\b\b\b\b\b\b\b\b\b\b\b\b\b\b\b\b\b\b\b\b\b\r",
      "\u001b[1m302/302\u001b[0m \u001b[32m━━━━━━━━━━━━━━━━━━━━\u001b[0m\u001b[37m\u001b[0m \u001b[1m1s\u001b[0m 2ms/step - acc: 0.8429 - auc: 0.8035 - loss: 0.4884 - val_acc: 0.9762 - val_auc: 1.0000 - val_loss: 0.1781\n",
      "Epoch 27/100\n",
      "\u001b[1m289/302\u001b[0m \u001b[32m━━━━━━━━━━━━━━━━━━━\u001b[0m\u001b[37m━\u001b[0m \u001b[1m0s\u001b[0m 2ms/step - acc: 0.8506 - auc: 0.8428 - loss: 0.4497\n",
      "Epoch 27: val_loss improved from 0.17809 to 0.17471, saving model to best_tab_only_fold1.h5\n"
     ]
    },
    {
     "name": "stderr",
     "output_type": "stream",
     "text": [
      "WARNING:absl:You are saving your model as an HDF5 file via `model.save()` or `keras.saving.save_model(model)`. This file format is considered legacy. We recommend using instead the native Keras format, e.g. `model.save('my_model.keras')` or `keras.saving.save_model(model, 'my_model.keras')`. \n"
     ]
    },
    {
     "name": "stdout",
     "output_type": "stream",
     "text": [
      "\b\b\b\b\b\b\b\b\b\b\b\b\b\b\b\b\b\b\b\b\b\b\b\b\b\b\b\b\b\b\b\b\b\b\b\b\b\b\b\b\b\b\b\b\b\b\b\b\b\b\b\b\b\b\b\b\b\b\b\b\b\b\b\b\b\b\b\b\b\b\b\b\b\b\b\b\b\b\b\b\b\b\b\r",
      "\u001b[1m302/302\u001b[0m \u001b[32m━━━━━━━━━━━━━━━━━━━━\u001b[0m\u001b[37m\u001b[0m \u001b[1m1s\u001b[0m 2ms/step - acc: 0.8502 - auc: 0.8416 - loss: 0.4504 - val_acc: 0.9762 - val_auc: 1.0000 - val_loss: 0.1747\n",
      "Epoch 28/100\n",
      "\u001b[1m296/302\u001b[0m \u001b[32m━━━━━━━━━━━━━━━━━━━\u001b[0m\u001b[37m━\u001b[0m \u001b[1m0s\u001b[0m 2ms/step - acc: 0.8346 - auc: 0.8051 - loss: 0.4842\n",
      "Epoch 28: val_loss improved from 0.17471 to 0.17339, saving model to best_tab_only_fold1.h5\n"
     ]
    },
    {
     "name": "stderr",
     "output_type": "stream",
     "text": [
      "WARNING:absl:You are saving your model as an HDF5 file via `model.save()` or `keras.saving.save_model(model)`. This file format is considered legacy. We recommend using instead the native Keras format, e.g. `model.save('my_model.keras')` or `keras.saving.save_model(model, 'my_model.keras')`. \n"
     ]
    },
    {
     "name": "stdout",
     "output_type": "stream",
     "text": [
      "\b\b\b\b\b\b\b\b\b\b\b\b\b\b\b\b\b\b\b\b\b\b\b\b\b\b\b\b\b\b\b\b\b\b\b\b\b\b\b\b\b\b\b\b\b\b\b\b\b\b\b\b\b\b\b\b\b\b\b\b\b\b\b\b\b\b\b\b\b\b\b\b\b\b\b\b\b\b\b\b\b\b\b\r",
      "\u001b[1m302/302\u001b[0m \u001b[32m━━━━━━━━━━━━━━━━━━━━\u001b[0m\u001b[37m\u001b[0m \u001b[1m1s\u001b[0m 2ms/step - acc: 0.8349 - auc: 0.8053 - loss: 0.4839 - val_acc: 0.9762 - val_auc: 1.0000 - val_loss: 0.1734\n",
      "Epoch 29/100\n",
      "\u001b[1m289/302\u001b[0m \u001b[32m━━━━━━━━━━━━━━━━━━━\u001b[0m\u001b[37m━\u001b[0m \u001b[1m0s\u001b[0m 2ms/step - acc: 0.8545 - auc: 0.8118 - loss: 0.4551\n",
      "Epoch 29: val_loss improved from 0.17339 to 0.17014, saving model to best_tab_only_fold1.h5\n"
     ]
    },
    {
     "name": "stderr",
     "output_type": "stream",
     "text": [
      "WARNING:absl:You are saving your model as an HDF5 file via `model.save()` or `keras.saving.save_model(model)`. This file format is considered legacy. We recommend using instead the native Keras format, e.g. `model.save('my_model.keras')` or `keras.saving.save_model(model, 'my_model.keras')`. \n"
     ]
    },
    {
     "name": "stdout",
     "output_type": "stream",
     "text": [
      "\b\b\b\b\b\b\b\b\b\b\b\b\b\b\b\b\b\b\b\b\b\b\b\b\b\b\b\b\b\b\b\b\b\b\b\b\b\b\b\b\b\b\b\b\b\b\b\b\b\b\b\b\b\b\b\b\b\b\b\b\b\b\b\b\b\b\b\b\b\b\b\b\b\b\b\b\b\b\b\b\b\b\b\r",
      "\u001b[1m302/302\u001b[0m \u001b[32m━━━━━━━━━━━━━━━━━━━━\u001b[0m\u001b[37m\u001b[0m \u001b[1m1s\u001b[0m 2ms/step - acc: 0.8542 - auc: 0.8123 - loss: 0.4553 - val_acc: 0.9762 - val_auc: 1.0000 - val_loss: 0.1701\n",
      "Epoch 30/100\n",
      "\u001b[1m288/302\u001b[0m \u001b[32m━━━━━━━━━━━━━━━━━━━\u001b[0m\u001b[37m━\u001b[0m \u001b[1m0s\u001b[0m 2ms/step - acc: 0.8591 - auc: 0.8118 - loss: 0.4498\n",
      "Epoch 30: val_loss did not improve from 0.17014\n",
      "\u001b[1m302/302\u001b[0m \u001b[32m━━━━━━━━━━━━━━━━━━━━\u001b[0m\u001b[37m\u001b[0m \u001b[1m1s\u001b[0m 2ms/step - acc: 0.8589 - auc: 0.8117 - loss: 0.4508 - val_acc: 0.9762 - val_auc: 1.0000 - val_loss: 0.1711\n",
      "Epoch 31/100\n",
      "\u001b[1m293/302\u001b[0m \u001b[32m━━━━━━━━━━━━━━━━━━━\u001b[0m\u001b[37m━\u001b[0m \u001b[1m0s\u001b[0m 2ms/step - acc: 0.8527 - auc: 0.7960 - loss: 0.4739\n",
      "Epoch 31: val_loss improved from 0.17014 to 0.16866, saving model to best_tab_only_fold1.h5\n"
     ]
    },
    {
     "name": "stderr",
     "output_type": "stream",
     "text": [
      "WARNING:absl:You are saving your model as an HDF5 file via `model.save()` or `keras.saving.save_model(model)`. This file format is considered legacy. We recommend using instead the native Keras format, e.g. `model.save('my_model.keras')` or `keras.saving.save_model(model, 'my_model.keras')`. \n"
     ]
    },
    {
     "name": "stdout",
     "output_type": "stream",
     "text": [
      "\b\b\b\b\b\b\b\b\b\b\b\b\b\b\b\b\b\b\b\b\b\b\b\b\b\b\b\b\b\b\b\b\b\b\b\b\b\b\b\b\b\b\b\b\b\b\b\b\b\b\b\b\b\b\b\b\b\b\b\b\b\b\b\b\b\b\b\b\b\b\b\b\b\b\b\b\b\b\b\b\b\b\b\r",
      "\u001b[1m302/302\u001b[0m \u001b[32m━━━━━━━━━━━━━━━━━━━━\u001b[0m\u001b[37m\u001b[0m \u001b[1m1s\u001b[0m 2ms/step - acc: 0.8524 - auc: 0.7960 - loss: 0.4738 - val_acc: 0.9762 - val_auc: 1.0000 - val_loss: 0.1687\n",
      "Epoch 32/100\n",
      "\u001b[1m292/302\u001b[0m \u001b[32m━━━━━━━━━━━━━━━━━━━\u001b[0m\u001b[37m━\u001b[0m \u001b[1m0s\u001b[0m 2ms/step - acc: 0.8610 - auc: 0.8150 - loss: 0.4549\n",
      "Epoch 32: val_loss improved from 0.16866 to 0.16763, saving model to best_tab_only_fold1.h5\n"
     ]
    },
    {
     "name": "stderr",
     "output_type": "stream",
     "text": [
      "WARNING:absl:You are saving your model as an HDF5 file via `model.save()` or `keras.saving.save_model(model)`. This file format is considered legacy. We recommend using instead the native Keras format, e.g. `model.save('my_model.keras')` or `keras.saving.save_model(model, 'my_model.keras')`. \n"
     ]
    },
    {
     "name": "stdout",
     "output_type": "stream",
     "text": [
      "\b\b\b\b\b\b\b\b\b\b\b\b\b\b\b\b\b\b\b\b\b\b\b\b\b\b\b\b\b\b\b\b\b\b\b\b\b\b\b\b\b\b\b\b\b\b\b\b\b\b\b\b\b\b\b\b\b\b\b\b\b\b\b\b\b\b\b\b\b\b\b\b\b\b\b\b\b\b\b\b\b\b\b\r",
      "\u001b[1m302/302\u001b[0m \u001b[32m━━━━━━━━━━━━━━━━━━━━\u001b[0m\u001b[37m\u001b[0m \u001b[1m1s\u001b[0m 2ms/step - acc: 0.8606 - auc: 0.8155 - loss: 0.4549 - val_acc: 0.9762 - val_auc: 1.0000 - val_loss: 0.1676\n",
      "Epoch 33/100\n",
      "\u001b[1m289/302\u001b[0m \u001b[32m━━━━━━━━━━━━━━━━━━━\u001b[0m\u001b[37m━\u001b[0m \u001b[1m0s\u001b[0m 2ms/step - acc: 0.8567 - auc: 0.8251 - loss: 0.4445\n",
      "Epoch 33: val_loss improved from 0.16763 to 0.16609, saving model to best_tab_only_fold1.h5\n"
     ]
    },
    {
     "name": "stderr",
     "output_type": "stream",
     "text": [
      "WARNING:absl:You are saving your model as an HDF5 file via `model.save()` or `keras.saving.save_model(model)`. This file format is considered legacy. We recommend using instead the native Keras format, e.g. `model.save('my_model.keras')` or `keras.saving.save_model(model, 'my_model.keras')`. \n"
     ]
    },
    {
     "name": "stdout",
     "output_type": "stream",
     "text": [
      "\b\b\b\b\b\b\b\b\b\b\b\b\b\b\b\b\b\b\b\b\b\b\b\b\b\b\b\b\b\b\b\b\b\b\b\b\b\b\b\b\b\b\b\b\b\b\b\b\b\b\b\b\b\b\b\b\b\b\b\b\b\b\b\b\b\b\b\b\b\b\b\b\b\b\b\b\b\b\b\b\b\b\b\r",
      "\u001b[1m302/302\u001b[0m \u001b[32m━━━━━━━━━━━━━━━━━━━━\u001b[0m\u001b[37m\u001b[0m \u001b[1m1s\u001b[0m 2ms/step - acc: 0.8566 - auc: 0.8248 - loss: 0.4452 - val_acc: 0.9762 - val_auc: 1.0000 - val_loss: 0.1661\n",
      "Epoch 34/100\n",
      "\u001b[1m293/302\u001b[0m \u001b[32m━━━━━━━━━━━━━━━━━━━\u001b[0m\u001b[37m━\u001b[0m \u001b[1m0s\u001b[0m 2ms/step - acc: 0.8626 - auc: 0.8452 - loss: 0.4277\n",
      "Epoch 34: val_loss improved from 0.16609 to 0.16601, saving model to best_tab_only_fold1.h5\n"
     ]
    },
    {
     "name": "stderr",
     "output_type": "stream",
     "text": [
      "WARNING:absl:You are saving your model as an HDF5 file via `model.save()` or `keras.saving.save_model(model)`. This file format is considered legacy. We recommend using instead the native Keras format, e.g. `model.save('my_model.keras')` or `keras.saving.save_model(model, 'my_model.keras')`. \n"
     ]
    },
    {
     "name": "stdout",
     "output_type": "stream",
     "text": [
      "\b\b\b\b\b\b\b\b\b\b\b\b\b\b\b\b\b\b\b\b\b\b\b\b\b\b\b\b\b\b\b\b\b\b\b\b\b\b\b\b\b\b\b\b\b\b\b\b\b\b\b\b\b\b\b\b\b\b\b\b\b\b\b\b\b\b\b\b\b\b\b\b\b\b\b\b\b\b\b\b\b\b\b\r",
      "\u001b[1m302/302\u001b[0m \u001b[32m━━━━━━━━━━━━━━━━━━━━\u001b[0m\u001b[37m\u001b[0m \u001b[1m1s\u001b[0m 2ms/step - acc: 0.8622 - auc: 0.8446 - loss: 0.4285 - val_acc: 0.9762 - val_auc: 1.0000 - val_loss: 0.1660\n",
      "Epoch 35/100\n",
      "\u001b[1m287/302\u001b[0m \u001b[32m━━━━━━━━━━━━━━━━━━━\u001b[0m\u001b[37m━\u001b[0m \u001b[1m0s\u001b[0m 2ms/step - acc: 0.8375 - auc: 0.8097 - loss: 0.4695\n",
      "Epoch 35: val_loss improved from 0.16601 to 0.16455, saving model to best_tab_only_fold1.h5\n"
     ]
    },
    {
     "name": "stderr",
     "output_type": "stream",
     "text": [
      "WARNING:absl:You are saving your model as an HDF5 file via `model.save()` or `keras.saving.save_model(model)`. This file format is considered legacy. We recommend using instead the native Keras format, e.g. `model.save('my_model.keras')` or `keras.saving.save_model(model, 'my_model.keras')`. \n"
     ]
    },
    {
     "name": "stdout",
     "output_type": "stream",
     "text": [
      "\b\b\b\b\b\b\b\b\b\b\b\b\b\b\b\b\b\b\b\b\b\b\b\b\b\b\b\b\b\b\b\b\b\b\b\b\b\b\b\b\b\b\b\b\b\b\b\b\b\b\b\b\b\b\b\b\b\b\b\b\b\b\b\b\b\b\b\b\b\b\b\b\b\b\b\b\b\b\b\b\b\b\b\r",
      "\u001b[1m302/302\u001b[0m \u001b[32m━━━━━━━━━━━━━━━━━━━━\u001b[0m\u001b[37m\u001b[0m \u001b[1m1s\u001b[0m 2ms/step - acc: 0.8380 - auc: 0.8108 - loss: 0.4683 - val_acc: 0.9762 - val_auc: 1.0000 - val_loss: 0.1646\n",
      "Epoch 36/100\n",
      "\u001b[1m287/302\u001b[0m \u001b[32m━━━━━━━━━━━━━━━━━━━\u001b[0m\u001b[37m━\u001b[0m \u001b[1m0s\u001b[0m 2ms/step - acc: 0.8622 - auc: 0.8159 - loss: 0.4357\n",
      "Epoch 36: val_loss improved from 0.16455 to 0.16155, saving model to best_tab_only_fold1.h5\n"
     ]
    },
    {
     "name": "stderr",
     "output_type": "stream",
     "text": [
      "WARNING:absl:You are saving your model as an HDF5 file via `model.save()` or `keras.saving.save_model(model)`. This file format is considered legacy. We recommend using instead the native Keras format, e.g. `model.save('my_model.keras')` or `keras.saving.save_model(model, 'my_model.keras')`. \n"
     ]
    },
    {
     "name": "stdout",
     "output_type": "stream",
     "text": [
      "\b\b\b\b\b\b\b\b\b\b\b\b\b\b\b\b\b\b\b\b\b\b\b\b\b\b\b\b\b\b\b\b\b\b\b\b\b\b\b\b\b\b\b\b\b\b\b\b\b\b\b\b\b\b\b\b\b\b\b\b\b\b\b\b\b\b\b\b\b\b\b\b\b\b\b\b\b\b\b\b\b\b\b\r",
      "\u001b[1m302/302\u001b[0m \u001b[32m━━━━━━━━━━━━━━━━━━━━\u001b[0m\u001b[37m\u001b[0m \u001b[1m1s\u001b[0m 2ms/step - acc: 0.8615 - auc: 0.8165 - loss: 0.4359 - val_acc: 0.9762 - val_auc: 1.0000 - val_loss: 0.1615\n",
      "Epoch 37/100\n",
      "\u001b[1m283/302\u001b[0m \u001b[32m━━━━━━━━━━━━━━━━━━\u001b[0m\u001b[37m━━\u001b[0m \u001b[1m0s\u001b[0m 2ms/step - acc: 0.8143 - auc: 0.7939 - loss: 0.4983\n",
      "Epoch 37: val_loss did not improve from 0.16155\n",
      "\u001b[1m302/302\u001b[0m \u001b[32m━━━━━━━━━━━━━━━━━━━━\u001b[0m\u001b[37m\u001b[0m \u001b[1m1s\u001b[0m 2ms/step - acc: 0.8163 - auc: 0.7952 - loss: 0.4956 - val_acc: 0.9762 - val_auc: 1.0000 - val_loss: 0.1627\n",
      "Epoch 38/100\n",
      "\u001b[1m291/302\u001b[0m \u001b[32m━━━━━━━━━━━━━━━━━━━\u001b[0m\u001b[37m━\u001b[0m \u001b[1m0s\u001b[0m 2ms/step - acc: 0.8675 - auc: 0.8015 - loss: 0.4454\n",
      "Epoch 38: val_loss improved from 0.16155 to 0.16143, saving model to best_tab_only_fold1.h5\n"
     ]
    },
    {
     "name": "stderr",
     "output_type": "stream",
     "text": [
      "WARNING:absl:You are saving your model as an HDF5 file via `model.save()` or `keras.saving.save_model(model)`. This file format is considered legacy. We recommend using instead the native Keras format, e.g. `model.save('my_model.keras')` or `keras.saving.save_model(model, 'my_model.keras')`. \n"
     ]
    },
    {
     "name": "stdout",
     "output_type": "stream",
     "text": [
      "\b\b\b\b\b\b\b\b\b\b\b\b\b\b\b\b\b\b\b\b\b\b\b\b\b\b\b\b\b\b\b\b\b\b\b\b\b\b\b\b\b\b\b\b\b\b\b\b\b\b\b\b\b\b\b\b\b\b\b\b\b\b\b\b\b\b\b\b\b\b\b\b\b\b\b\b\b\b\b\b\b\b\b\r",
      "\u001b[1m302/302\u001b[0m \u001b[32m━━━━━━━━━━━━━━━━━━━━\u001b[0m\u001b[37m\u001b[0m \u001b[1m1s\u001b[0m 2ms/step - acc: 0.8671 - auc: 0.8025 - loss: 0.4450 - val_acc: 0.9762 - val_auc: 1.0000 - val_loss: 0.1614\n",
      "Epoch 39/100\n",
      "\u001b[1m281/302\u001b[0m \u001b[32m━━━━━━━━━━━━━━━━━━\u001b[0m\u001b[37m━━\u001b[0m \u001b[1m0s\u001b[0m 2ms/step - acc: 0.8411 - auc: 0.7976 - loss: 0.4513\n",
      "Epoch 39: val_loss improved from 0.16143 to 0.16126, saving model to best_tab_only_fold1.h5\n"
     ]
    },
    {
     "name": "stderr",
     "output_type": "stream",
     "text": [
      "WARNING:absl:You are saving your model as an HDF5 file via `model.save()` or `keras.saving.save_model(model)`. This file format is considered legacy. We recommend using instead the native Keras format, e.g. `model.save('my_model.keras')` or `keras.saving.save_model(model, 'my_model.keras')`. \n"
     ]
    },
    {
     "name": "stdout",
     "output_type": "stream",
     "text": [
      "\b\b\b\b\b\b\b\b\b\b\b\b\b\b\b\b\b\b\b\b\b\b\b\b\b\b\b\b\b\b\b\b\b\b\b\b\b\b\b\b\b\b\b\b\b\b\b\b\b\b\b\b\b\b\b\b\b\b\b\b\b\b\b\b\b\b\b\b\b\b\b\b\b\b\b\b\b\b\b\b\b\b\b\r",
      "\u001b[1m302/302\u001b[0m \u001b[32m━━━━━━━━━━━━━━━━━━━━\u001b[0m\u001b[37m\u001b[0m \u001b[1m1s\u001b[0m 2ms/step - acc: 0.8418 - auc: 0.7992 - loss: 0.4506 - val_acc: 0.9762 - val_auc: 1.0000 - val_loss: 0.1613\n",
      "Epoch 40/100\n",
      "\u001b[1m293/302\u001b[0m \u001b[32m━━━━━━━━━━━━━━━━━━━\u001b[0m\u001b[37m━\u001b[0m \u001b[1m0s\u001b[0m 2ms/step - acc: 0.8693 - auc: 0.8217 - loss: 0.4352\n",
      "Epoch 40: val_loss did not improve from 0.16126\n",
      "\u001b[1m302/302\u001b[0m \u001b[32m━━━━━━━━━━━━━━━━━━━━\u001b[0m\u001b[37m\u001b[0m \u001b[1m1s\u001b[0m 2ms/step - acc: 0.8689 - auc: 0.8215 - loss: 0.4355 - val_acc: 0.9762 - val_auc: 1.0000 - val_loss: 0.1629\n",
      "Epoch 41/100\n",
      "\u001b[1m300/302\u001b[0m \u001b[32m━━━━━━━━━━━━━━━━━━━\u001b[0m\u001b[37m━\u001b[0m \u001b[1m0s\u001b[0m 2ms/step - acc: 0.8702 - auc: 0.8310 - loss: 0.4219\n",
      "Epoch 41: val_loss did not improve from 0.16126\n",
      "\u001b[1m302/302\u001b[0m \u001b[32m━━━━━━━━━━━━━━━━━━━━\u001b[0m\u001b[37m\u001b[0m \u001b[1m1s\u001b[0m 2ms/step - acc: 0.8701 - auc: 0.8310 - loss: 0.4221 - val_acc: 0.9762 - val_auc: 1.0000 - val_loss: 0.1639\n",
      "Epoch 42/100\n",
      "\u001b[1m290/302\u001b[0m \u001b[32m━━━━━━━━━━━━━━━━━━━\u001b[0m\u001b[37m━\u001b[0m \u001b[1m0s\u001b[0m 2ms/step - acc: 0.8578 - auc: 0.8386 - loss: 0.4263\n",
      "Epoch 42: val_loss did not improve from 0.16126\n",
      "\u001b[1m302/302\u001b[0m \u001b[32m━━━━━━━━━━━━━━━━━━━━\u001b[0m\u001b[37m\u001b[0m \u001b[1m1s\u001b[0m 2ms/step - acc: 0.8576 - auc: 0.8382 - loss: 0.4267 - val_acc: 0.9762 - val_auc: 1.0000 - val_loss: 0.1635\n",
      "Epoch 43/100\n",
      "\u001b[1m295/302\u001b[0m \u001b[32m━━━━━━━━━━━━━━━━━━━\u001b[0m\u001b[37m━\u001b[0m \u001b[1m0s\u001b[0m 2ms/step - acc: 0.8506 - auc: 0.8202 - loss: 0.4441\n",
      "Epoch 43: val_loss did not improve from 0.16126\n",
      "\u001b[1m302/302\u001b[0m \u001b[32m━━━━━━━━━━━━━━━━━━━━\u001b[0m\u001b[37m\u001b[0m \u001b[1m1s\u001b[0m 2ms/step - acc: 0.8508 - auc: 0.8201 - loss: 0.4440 - val_acc: 0.9762 - val_auc: 1.0000 - val_loss: 0.1627\n",
      "Epoch 44/100\n",
      "\u001b[1m293/302\u001b[0m \u001b[32m━━━━━━━━━━━━━━━━━━━\u001b[0m\u001b[37m━\u001b[0m \u001b[1m0s\u001b[0m 2ms/step - acc: 0.8505 - auc: 0.8405 - loss: 0.4271\n",
      "Epoch 44: val_loss did not improve from 0.16126\n",
      "\u001b[1m302/302\u001b[0m \u001b[32m━━━━━━━━━━━━━━━━━━━━\u001b[0m\u001b[37m\u001b[0m \u001b[1m1s\u001b[0m 2ms/step - acc: 0.8507 - auc: 0.8400 - loss: 0.4273 - val_acc: 0.9762 - val_auc: 1.0000 - val_loss: 0.1623\n",
      "Epoch 45/100\n",
      "\u001b[1m293/302\u001b[0m \u001b[32m━━━━━━━━━━━━━━━━━━━\u001b[0m\u001b[37m━\u001b[0m \u001b[1m0s\u001b[0m 2ms/step - acc: 0.8551 - auc: 0.8313 - loss: 0.4322\n",
      "Epoch 45: val_loss improved from 0.16126 to 0.16069, saving model to best_tab_only_fold1.h5\n"
     ]
    },
    {
     "name": "stderr",
     "output_type": "stream",
     "text": [
      "WARNING:absl:You are saving your model as an HDF5 file via `model.save()` or `keras.saving.save_model(model)`. This file format is considered legacy. We recommend using instead the native Keras format, e.g. `model.save('my_model.keras')` or `keras.saving.save_model(model, 'my_model.keras')`. \n"
     ]
    },
    {
     "name": "stdout",
     "output_type": "stream",
     "text": [
      "\b\b\b\b\b\b\b\b\b\b\b\b\b\b\b\b\b\b\b\b\b\b\b\b\b\b\b\b\b\b\b\b\b\b\b\b\b\b\b\b\b\b\b\b\b\b\b\b\b\b\b\b\b\b\b\b\b\b\b\b\b\b\b\b\b\b\b\b\b\b\b\b\b\b\b\b\b\b\b\b\b\b\b\r",
      "\u001b[1m302/302\u001b[0m \u001b[32m━━━━━━━━━━━━━━━━━━━━\u001b[0m\u001b[37m\u001b[0m \u001b[1m1s\u001b[0m 2ms/step - acc: 0.8553 - auc: 0.8311 - loss: 0.4321 - val_acc: 0.9762 - val_auc: 1.0000 - val_loss: 0.1607\n",
      "Epoch 46/100\n",
      "\u001b[1m291/302\u001b[0m \u001b[32m━━━━━━━━━━━━━━━━━━━\u001b[0m\u001b[37m━\u001b[0m \u001b[1m0s\u001b[0m 2ms/step - acc: 0.8622 - auc: 0.8180 - loss: 0.4353\n",
      "Epoch 46: val_loss improved from 0.16069 to 0.15962, saving model to best_tab_only_fold1.h5\n"
     ]
    },
    {
     "name": "stderr",
     "output_type": "stream",
     "text": [
      "WARNING:absl:You are saving your model as an HDF5 file via `model.save()` or `keras.saving.save_model(model)`. This file format is considered legacy. We recommend using instead the native Keras format, e.g. `model.save('my_model.keras')` or `keras.saving.save_model(model, 'my_model.keras')`. \n"
     ]
    },
    {
     "name": "stdout",
     "output_type": "stream",
     "text": [
      "\b\b\b\b\b\b\b\b\b\b\b\b\b\b\b\b\b\b\b\b\b\b\b\b\b\b\b\b\b\b\b\b\b\b\b\b\b\b\b\b\b\b\b\b\b\b\b\b\b\b\b\b\b\b\b\b\b\b\b\b\b\b\b\b\b\b\b\b\b\b\b\b\b\b\b\b\b\b\b\b\b\b\b\r",
      "\u001b[1m302/302\u001b[0m \u001b[32m━━━━━━━━━━━━━━━━━━━━\u001b[0m\u001b[37m\u001b[0m \u001b[1m1s\u001b[0m 2ms/step - acc: 0.8622 - auc: 0.8184 - loss: 0.4349 - val_acc: 0.9762 - val_auc: 1.0000 - val_loss: 0.1596\n",
      "Epoch 47/100\n",
      "\u001b[1m297/302\u001b[0m \u001b[32m━━━━━━━━━━━━━━━━━━━\u001b[0m\u001b[37m━\u001b[0m \u001b[1m0s\u001b[0m 2ms/step - acc: 0.8521 - auc: 0.8331 - loss: 0.4305\n",
      "Epoch 47: val_loss improved from 0.15962 to 0.15842, saving model to best_tab_only_fold1.h5\n"
     ]
    },
    {
     "name": "stderr",
     "output_type": "stream",
     "text": [
      "WARNING:absl:You are saving your model as an HDF5 file via `model.save()` or `keras.saving.save_model(model)`. This file format is considered legacy. We recommend using instead the native Keras format, e.g. `model.save('my_model.keras')` or `keras.saving.save_model(model, 'my_model.keras')`. \n"
     ]
    },
    {
     "name": "stdout",
     "output_type": "stream",
     "text": [
      "\b\b\b\b\b\b\b\b\b\b\b\b\b\b\b\b\b\b\b\b\b\b\b\b\b\b\b\b\b\b\b\b\b\b\b\b\b\b\b\b\b\b\b\b\b\b\b\b\b\b\b\b\b\b\b\b\b\b\b\b\b\b\b\b\b\b\b\b\b\b\b\b\b\b\b\b\b\b\b\b\b\b\b\r",
      "\u001b[1m302/302\u001b[0m \u001b[32m━━━━━━━━━━━━━━━━━━━━\u001b[0m\u001b[37m\u001b[0m \u001b[1m1s\u001b[0m 2ms/step - acc: 0.8522 - auc: 0.8330 - loss: 0.4304 - val_acc: 0.9762 - val_auc: 1.0000 - val_loss: 0.1584\n",
      "Epoch 48/100\n",
      "\u001b[1m295/302\u001b[0m \u001b[32m━━━━━━━━━━━━━━━━━━━\u001b[0m\u001b[37m━\u001b[0m \u001b[1m0s\u001b[0m 2ms/step - acc: 0.8667 - auc: 0.8116 - loss: 0.4267\n",
      "Epoch 48: val_loss did not improve from 0.15842\n",
      "\u001b[1m302/302\u001b[0m \u001b[32m━━━━━━━━━━━━━━━━━━━━\u001b[0m\u001b[37m\u001b[0m \u001b[1m1s\u001b[0m 2ms/step - acc: 0.8665 - auc: 0.8118 - loss: 0.4268 - val_acc: 0.9762 - val_auc: 1.0000 - val_loss: 0.1585\n",
      "Epoch 49/100\n",
      "\u001b[1m295/302\u001b[0m \u001b[32m━━━━━━━━━━━━━━━━━━━\u001b[0m\u001b[37m━\u001b[0m \u001b[1m0s\u001b[0m 2ms/step - acc: 0.8577 - auc: 0.8295 - loss: 0.4246\n",
      "Epoch 49: val_loss improved from 0.15842 to 0.15689, saving model to best_tab_only_fold1.h5\n"
     ]
    },
    {
     "name": "stderr",
     "output_type": "stream",
     "text": [
      "WARNING:absl:You are saving your model as an HDF5 file via `model.save()` or `keras.saving.save_model(model)`. This file format is considered legacy. We recommend using instead the native Keras format, e.g. `model.save('my_model.keras')` or `keras.saving.save_model(model, 'my_model.keras')`. \n"
     ]
    },
    {
     "name": "stdout",
     "output_type": "stream",
     "text": [
      "\b\b\b\b\b\b\b\b\b\b\b\b\b\b\b\b\b\b\b\b\b\b\b\b\b\b\b\b\b\b\b\b\b\b\b\b\b\b\b\b\b\b\b\b\b\b\b\b\b\b\b\b\b\b\b\b\b\b\b\b\b\b\b\b\b\b\b\b\b\b\b\b\b\b\b\b\b\b\b\b\b\b\b\r",
      "\u001b[1m302/302\u001b[0m \u001b[32m━━━━━━━━━━━━━━━━━━━━\u001b[0m\u001b[37m\u001b[0m \u001b[1m1s\u001b[0m 2ms/step - acc: 0.8577 - auc: 0.8295 - loss: 0.4246 - val_acc: 0.9762 - val_auc: 1.0000 - val_loss: 0.1569\n",
      "Epoch 50/100\n",
      "\u001b[1m283/302\u001b[0m \u001b[32m━━━━━━━━━━━━━━━━━━\u001b[0m\u001b[37m━━\u001b[0m \u001b[1m0s\u001b[0m 2ms/step - acc: 0.8520 - auc: 0.8354 - loss: 0.4180\n",
      "Epoch 50: val_loss improved from 0.15689 to 0.15603, saving model to best_tab_only_fold1.h5\n"
     ]
    },
    {
     "name": "stderr",
     "output_type": "stream",
     "text": [
      "WARNING:absl:You are saving your model as an HDF5 file via `model.save()` or `keras.saving.save_model(model)`. This file format is considered legacy. We recommend using instead the native Keras format, e.g. `model.save('my_model.keras')` or `keras.saving.save_model(model, 'my_model.keras')`. \n"
     ]
    },
    {
     "name": "stdout",
     "output_type": "stream",
     "text": [
      "\b\b\b\b\b\b\b\b\b\b\b\b\b\b\b\b\b\b\b\b\b\b\b\b\b\b\b\b\b\b\b\b\b\b\b\b\b\b\b\b\b\b\b\b\b\b\b\b\b\b\b\b\b\b\b\b\b\b\b\b\b\b\b\b\b\b\b\b\b\b\b\b\b\b\b\b\b\b\b\b\b\b\b\r",
      "\u001b[1m302/302\u001b[0m \u001b[32m━━━━━━━━━━━━━━━━━━━━\u001b[0m\u001b[37m\u001b[0m \u001b[1m1s\u001b[0m 2ms/step - acc: 0.8524 - auc: 0.8354 - loss: 0.4177 - val_acc: 0.9762 - val_auc: 1.0000 - val_loss: 0.1560\n",
      "Epoch 51/100\n",
      "\u001b[1m295/302\u001b[0m \u001b[32m━━━━━━━━━━━━━━━━━━━\u001b[0m\u001b[37m━\u001b[0m \u001b[1m0s\u001b[0m 2ms/step - acc: 0.8584 - auc: 0.8475 - loss: 0.4069\n",
      "Epoch 51: val_loss improved from 0.15603 to 0.15602, saving model to best_tab_only_fold1.h5\n"
     ]
    },
    {
     "name": "stderr",
     "output_type": "stream",
     "text": [
      "WARNING:absl:You are saving your model as an HDF5 file via `model.save()` or `keras.saving.save_model(model)`. This file format is considered legacy. We recommend using instead the native Keras format, e.g. `model.save('my_model.keras')` or `keras.saving.save_model(model, 'my_model.keras')`. \n"
     ]
    },
    {
     "name": "stdout",
     "output_type": "stream",
     "text": [
      "\b\b\b\b\b\b\b\b\b\b\b\b\b\b\b\b\b\b\b\b\b\b\b\b\b\b\b\b\b\b\b\b\b\b\b\b\b\b\b\b\b\b\b\b\b\b\b\b\b\b\b\b\b\b\b\b\b\b\b\b\b\b\b\b\b\b\b\b\b\b\b\b\b\b\b\b\b\b\b\b\b\b\b\r",
      "\u001b[1m302/302\u001b[0m \u001b[32m━━━━━━━━━━━━━━━━━━━━\u001b[0m\u001b[37m\u001b[0m \u001b[1m1s\u001b[0m 2ms/step - acc: 0.8584 - auc: 0.8473 - loss: 0.4069 - val_acc: 0.9762 - val_auc: 1.0000 - val_loss: 0.1560\n",
      "Epoch 52/100\n",
      "\u001b[1m294/302\u001b[0m \u001b[32m━━━━━━━━━━━━━━━━━━━\u001b[0m\u001b[37m━\u001b[0m \u001b[1m0s\u001b[0m 2ms/step - acc: 0.8588 - auc: 0.8363 - loss: 0.4188\n",
      "Epoch 52: val_loss improved from 0.15602 to 0.15488, saving model to best_tab_only_fold1.h5\n"
     ]
    },
    {
     "name": "stderr",
     "output_type": "stream",
     "text": [
      "WARNING:absl:You are saving your model as an HDF5 file via `model.save()` or `keras.saving.save_model(model)`. This file format is considered legacy. We recommend using instead the native Keras format, e.g. `model.save('my_model.keras')` or `keras.saving.save_model(model, 'my_model.keras')`. \n"
     ]
    },
    {
     "name": "stdout",
     "output_type": "stream",
     "text": [
      "\b\b\b\b\b\b\b\b\b\b\b\b\b\b\b\b\b\b\b\b\b\b\b\b\b\b\b\b\b\b\b\b\b\b\b\b\b\b\b\b\b\b\b\b\b\b\b\b\b\b\b\b\b\b\b\b\b\b\b\b\b\b\b\b\b\b\b\b\b\b\b\b\b\b\b\b\b\b\b\b\b\b\b\r",
      "\u001b[1m302/302\u001b[0m \u001b[32m━━━━━━━━━━━━━━━━━━━━\u001b[0m\u001b[37m\u001b[0m \u001b[1m1s\u001b[0m 2ms/step - acc: 0.8588 - auc: 0.8361 - loss: 0.4189 - val_acc: 0.9762 - val_auc: 1.0000 - val_loss: 0.1549\n",
      "Epoch 53/100\n",
      "\u001b[1m291/302\u001b[0m \u001b[32m━━━━━━━━━━━━━━━━━━━\u001b[0m\u001b[37m━\u001b[0m \u001b[1m0s\u001b[0m 2ms/step - acc: 0.8802 - auc: 0.8476 - loss: 0.3799\n",
      "Epoch 53: val_loss improved from 0.15488 to 0.15402, saving model to best_tab_only_fold1.h5\n"
     ]
    },
    {
     "name": "stderr",
     "output_type": "stream",
     "text": [
      "WARNING:absl:You are saving your model as an HDF5 file via `model.save()` or `keras.saving.save_model(model)`. This file format is considered legacy. We recommend using instead the native Keras format, e.g. `model.save('my_model.keras')` or `keras.saving.save_model(model, 'my_model.keras')`. \n"
     ]
    },
    {
     "name": "stdout",
     "output_type": "stream",
     "text": [
      "\b\b\b\b\b\b\b\b\b\b\b\b\b\b\b\b\b\b\b\b\b\b\b\b\b\b\b\b\b\b\b\b\b\b\b\b\b\b\b\b\b\b\b\b\b\b\b\b\b\b\b\b\b\b\b\b\b\b\b\b\b\b\b\b\b\b\b\b\b\b\b\b\b\b\b\b\b\b\b\b\b\b\b\r",
      "\u001b[1m302/302\u001b[0m \u001b[32m━━━━━━━━━━━━━━━━━━━━\u001b[0m\u001b[37m\u001b[0m \u001b[1m1s\u001b[0m 2ms/step - acc: 0.8794 - auc: 0.8474 - loss: 0.3808 - val_acc: 0.9762 - val_auc: 1.0000 - val_loss: 0.1540\n",
      "Epoch 54/100\n",
      "\u001b[1m289/302\u001b[0m \u001b[32m━━━━━━━━━━━━━━━━━━━\u001b[0m\u001b[37m━\u001b[0m \u001b[1m0s\u001b[0m 2ms/step - acc: 0.8588 - auc: 0.8077 - loss: 0.4274\n",
      "Epoch 54: val_loss improved from 0.15402 to 0.15250, saving model to best_tab_only_fold1.h5\n"
     ]
    },
    {
     "name": "stderr",
     "output_type": "stream",
     "text": [
      "WARNING:absl:You are saving your model as an HDF5 file via `model.save()` or `keras.saving.save_model(model)`. This file format is considered legacy. We recommend using instead the native Keras format, e.g. `model.save('my_model.keras')` or `keras.saving.save_model(model, 'my_model.keras')`. \n"
     ]
    },
    {
     "name": "stdout",
     "output_type": "stream",
     "text": [
      "\b\b\b\b\b\b\b\b\b\b\b\b\b\b\b\b\b\b\b\b\b\b\b\b\b\b\b\b\b\b\b\b\b\b\b\b\b\b\b\b\b\b\b\b\b\b\b\b\b\b\b\b\b\b\b\b\b\b\b\b\b\b\b\b\b\b\b\b\b\b\b\b\b\b\b\b\b\b\b\b\b\b\b\r",
      "\u001b[1m302/302\u001b[0m \u001b[32m━━━━━━━━━━━━━━━━━━━━\u001b[0m\u001b[37m\u001b[0m \u001b[1m1s\u001b[0m 2ms/step - acc: 0.8588 - auc: 0.8085 - loss: 0.4268 - val_acc: 0.9762 - val_auc: 1.0000 - val_loss: 0.1525\n",
      "Epoch 55/100\n",
      "\u001b[1m288/302\u001b[0m \u001b[32m━━━━━━━━━━━━━━━━━━━\u001b[0m\u001b[37m━\u001b[0m \u001b[1m0s\u001b[0m 2ms/step - acc: 0.8392 - auc: 0.8410 - loss: 0.4174\n",
      "Epoch 55: val_loss improved from 0.15250 to 0.15244, saving model to best_tab_only_fold1.h5\n"
     ]
    },
    {
     "name": "stderr",
     "output_type": "stream",
     "text": [
      "WARNING:absl:You are saving your model as an HDF5 file via `model.save()` or `keras.saving.save_model(model)`. This file format is considered legacy. We recommend using instead the native Keras format, e.g. `model.save('my_model.keras')` or `keras.saving.save_model(model, 'my_model.keras')`. \n"
     ]
    },
    {
     "name": "stdout",
     "output_type": "stream",
     "text": [
      "\b\b\b\b\b\b\b\b\b\b\b\b\b\b\b\b\b\b\b\b\b\b\b\b\b\b\b\b\b\b\b\b\b\b\b\b\b\b\b\b\b\b\b\b\b\b\b\b\b\b\b\b\b\b\b\b\b\b\b\b\b\b\b\b\b\b\b\b\b\b\b\b\b\b\b\b\b\b\b\b\b\b\b\r",
      "\u001b[1m302/302\u001b[0m \u001b[32m━━━━━━━━━━━━━━━━━━━━\u001b[0m\u001b[37m\u001b[0m \u001b[1m1s\u001b[0m 2ms/step - acc: 0.8401 - auc: 0.8406 - loss: 0.4168 - val_acc: 0.9762 - val_auc: 1.0000 - val_loss: 0.1524\n",
      "Epoch 56/100\n",
      "\u001b[1m281/302\u001b[0m \u001b[32m━━━━━━━━━━━━━━━━━━\u001b[0m\u001b[37m━━\u001b[0m \u001b[1m0s\u001b[0m 2ms/step - acc: 0.8627 - auc: 0.8523 - loss: 0.4018\n",
      "Epoch 56: val_loss improved from 0.15244 to 0.15137, saving model to best_tab_only_fold1.h5\n"
     ]
    },
    {
     "name": "stderr",
     "output_type": "stream",
     "text": [
      "WARNING:absl:You are saving your model as an HDF5 file via `model.save()` or `keras.saving.save_model(model)`. This file format is considered legacy. We recommend using instead the native Keras format, e.g. `model.save('my_model.keras')` or `keras.saving.save_model(model, 'my_model.keras')`. \n"
     ]
    },
    {
     "name": "stdout",
     "output_type": "stream",
     "text": [
      "\b\b\b\b\b\b\b\b\b\b\b\b\b\b\b\b\b\b\b\b\b\b\b\b\b\b\b\b\b\b\b\b\b\b\b\b\b\b\b\b\b\b\b\b\b\b\b\b\b\b\b\b\b\b\b\b\b\b\b\b\b\b\b\b\b\b\b\b\b\b\b\b\b\b\b\b\b\b\b\b\b\b\b\r",
      "\u001b[1m302/302\u001b[0m \u001b[32m━━━━━━━━━━━━━━━━━━━━\u001b[0m\u001b[37m\u001b[0m \u001b[1m1s\u001b[0m 2ms/step - acc: 0.8623 - auc: 0.8511 - loss: 0.4024 - val_acc: 0.9762 - val_auc: 1.0000 - val_loss: 0.1514\n",
      "Epoch 57/100\n",
      "\u001b[1m292/302\u001b[0m \u001b[32m━━━━━━━━━━━━━━━━━━━\u001b[0m\u001b[37m━\u001b[0m \u001b[1m0s\u001b[0m 2ms/step - acc: 0.8800 - auc: 0.8600 - loss: 0.3734\n",
      "Epoch 57: val_loss did not improve from 0.15137\n",
      "\u001b[1m302/302\u001b[0m \u001b[32m━━━━━━━━━━━━━━━━━━━━\u001b[0m\u001b[37m\u001b[0m \u001b[1m1s\u001b[0m 2ms/step - acc: 0.8792 - auc: 0.8592 - loss: 0.3747 - val_acc: 0.9762 - val_auc: 1.0000 - val_loss: 0.1519\n",
      "Epoch 58/100\n",
      "\u001b[1m297/302\u001b[0m \u001b[32m━━━━━━━━━━━━━━━━━━━\u001b[0m\u001b[37m━\u001b[0m \u001b[1m0s\u001b[0m 2ms/step - acc: 0.8406 - auc: 0.8332 - loss: 0.4142\n",
      "Epoch 58: val_loss improved from 0.15137 to 0.14930, saving model to best_tab_only_fold1.h5\n"
     ]
    },
    {
     "name": "stderr",
     "output_type": "stream",
     "text": [
      "WARNING:absl:You are saving your model as an HDF5 file via `model.save()` or `keras.saving.save_model(model)`. This file format is considered legacy. We recommend using instead the native Keras format, e.g. `model.save('my_model.keras')` or `keras.saving.save_model(model, 'my_model.keras')`. \n"
     ]
    },
    {
     "name": "stdout",
     "output_type": "stream",
     "text": [
      "\b\b\b\b\b\b\b\b\b\b\b\b\b\b\b\b\b\b\b\b\b\b\b\b\b\b\b\b\b\b\b\b\b\b\b\b\b\b\b\b\b\b\b\b\b\b\b\b\b\b\b\b\b\b\b\b\b\b\b\b\b\b\b\b\b\b\b\b\b\b\b\b\b\b\b\b\b\b\b\b\b\b\b\r",
      "\u001b[1m302/302\u001b[0m \u001b[32m━━━━━━━━━━━━━━━━━━━━\u001b[0m\u001b[37m\u001b[0m \u001b[1m1s\u001b[0m 2ms/step - acc: 0.8410 - auc: 0.8335 - loss: 0.4138 - val_acc: 0.9762 - val_auc: 1.0000 - val_loss: 0.1493\n",
      "Epoch 59/100\n",
      "\u001b[1m297/302\u001b[0m \u001b[32m━━━━━━━━━━━━━━━━━━━\u001b[0m\u001b[37m━\u001b[0m \u001b[1m0s\u001b[0m 2ms/step - acc: 0.8473 - auc: 0.8270 - loss: 0.4161\n",
      "Epoch 59: val_loss did not improve from 0.14930\n",
      "\u001b[1m302/302\u001b[0m \u001b[32m━━━━━━━━━━━━━━━━━━━━\u001b[0m\u001b[37m\u001b[0m \u001b[1m1s\u001b[0m 2ms/step - acc: 0.8475 - auc: 0.8270 - loss: 0.4159 - val_acc: 0.9762 - val_auc: 1.0000 - val_loss: 0.1506\n",
      "Epoch 60/100\n",
      "\u001b[1m297/302\u001b[0m \u001b[32m━━━━━━━━━━━━━━━━━━━\u001b[0m\u001b[37m━\u001b[0m \u001b[1m0s\u001b[0m 2ms/step - acc: 0.8609 - auc: 0.8403 - loss: 0.3981\n",
      "Epoch 60: val_loss improved from 0.14930 to 0.14900, saving model to best_tab_only_fold1.h5\n"
     ]
    },
    {
     "name": "stderr",
     "output_type": "stream",
     "text": [
      "WARNING:absl:You are saving your model as an HDF5 file via `model.save()` or `keras.saving.save_model(model)`. This file format is considered legacy. We recommend using instead the native Keras format, e.g. `model.save('my_model.keras')` or `keras.saving.save_model(model, 'my_model.keras')`. \n"
     ]
    },
    {
     "name": "stdout",
     "output_type": "stream",
     "text": [
      "\b\b\b\b\b\b\b\b\b\b\b\b\b\b\b\b\b\b\b\b\b\b\b\b\b\b\b\b\b\b\b\b\b\b\b\b\b\b\b\b\b\b\b\b\b\b\b\b\b\b\b\b\b\b\b\b\b\b\b\b\b\b\b\b\b\b\b\b\b\b\b\b\b\b\b\b\b\b\b\b\b\b\b\r",
      "\u001b[1m302/302\u001b[0m \u001b[32m━━━━━━━━━━━━━━━━━━━━\u001b[0m\u001b[37m\u001b[0m \u001b[1m1s\u001b[0m 2ms/step - acc: 0.8609 - auc: 0.8404 - loss: 0.3980 - val_acc: 0.9762 - val_auc: 1.0000 - val_loss: 0.1490\n",
      "Epoch 61/100\n",
      "\u001b[1m295/302\u001b[0m \u001b[32m━━━━━━━━━━━━━━━━━━━\u001b[0m\u001b[37m━\u001b[0m \u001b[1m0s\u001b[0m 2ms/step - acc: 0.8586 - auc: 0.8198 - loss: 0.4081\n",
      "Epoch 61: val_loss improved from 0.14900 to 0.14661, saving model to best_tab_only_fold1.h5\n"
     ]
    },
    {
     "name": "stderr",
     "output_type": "stream",
     "text": [
      "WARNING:absl:You are saving your model as an HDF5 file via `model.save()` or `keras.saving.save_model(model)`. This file format is considered legacy. We recommend using instead the native Keras format, e.g. `model.save('my_model.keras')` or `keras.saving.save_model(model, 'my_model.keras')`. \n"
     ]
    },
    {
     "name": "stdout",
     "output_type": "stream",
     "text": [
      "\b\b\b\b\b\b\b\b\b\b\b\b\b\b\b\b\b\b\b\b\b\b\b\b\b\b\b\b\b\b\b\b\b\b\b\b\b\b\b\b\b\b\b\b\b\b\b\b\b\b\b\b\b\b\b\b\b\b\b\b\b\b\b\b\b\b\b\b\b\b\b\b\b\b\b\b\b\b\b\b\b\b\b\r",
      "\u001b[1m302/302\u001b[0m \u001b[32m━━━━━━━━━━━━━━━━━━━━\u001b[0m\u001b[37m\u001b[0m \u001b[1m1s\u001b[0m 2ms/step - acc: 0.8587 - auc: 0.8205 - loss: 0.4076 - val_acc: 0.9762 - val_auc: 1.0000 - val_loss: 0.1466\n",
      "Epoch 62/100\n",
      "\u001b[1m299/302\u001b[0m \u001b[32m━━━━━━━━━━━━━━━━━━━\u001b[0m\u001b[37m━\u001b[0m \u001b[1m0s\u001b[0m 2ms/step - acc: 0.8664 - auc: 0.8598 - loss: 0.3768\n",
      "Epoch 62: val_loss did not improve from 0.14661\n",
      "\u001b[1m302/302\u001b[0m \u001b[32m━━━━━━━━━━━━━━━━━━━━\u001b[0m\u001b[37m\u001b[0m \u001b[1m1s\u001b[0m 2ms/step - acc: 0.8663 - auc: 0.8596 - loss: 0.3770 - val_acc: 0.9762 - val_auc: 1.0000 - val_loss: 0.1468\n",
      "Epoch 63/100\n",
      "\u001b[1m293/302\u001b[0m \u001b[32m━━━━━━━━━━━━━━━━━━━\u001b[0m\u001b[37m━\u001b[0m \u001b[1m0s\u001b[0m 2ms/step - acc: 0.8738 - auc: 0.8438 - loss: 0.3842\n",
      "Epoch 63: val_loss did not improve from 0.14661\n",
      "\u001b[1m302/302\u001b[0m \u001b[32m━━━━━━━━━━━━━━━━━━━━\u001b[0m\u001b[37m\u001b[0m \u001b[1m1s\u001b[0m 2ms/step - acc: 0.8734 - auc: 0.8435 - loss: 0.3848 - val_acc: 0.9762 - val_auc: 1.0000 - val_loss: 0.1473\n",
      "Epoch 64/100\n",
      "\u001b[1m297/302\u001b[0m \u001b[32m━━━━━━━━━━━━━━━━━━━\u001b[0m\u001b[37m━\u001b[0m \u001b[1m0s\u001b[0m 2ms/step - acc: 0.8600 - auc: 0.8025 - loss: 0.4100\n",
      "Epoch 64: val_loss did not improve from 0.14661\n",
      "\u001b[1m302/302\u001b[0m \u001b[32m━━━━━━━━━━━━━━━━━━━━\u001b[0m\u001b[37m\u001b[0m \u001b[1m1s\u001b[0m 2ms/step - acc: 0.8601 - auc: 0.8032 - loss: 0.4096 - val_acc: 0.9762 - val_auc: 1.0000 - val_loss: 0.1467\n",
      "Epoch 65/100\n",
      "\u001b[1m296/302\u001b[0m \u001b[32m━━━━━━━━━━━━━━━━━━━\u001b[0m\u001b[37m━\u001b[0m \u001b[1m0s\u001b[0m 2ms/step - acc: 0.8540 - auc: 0.8127 - loss: 0.4127\n",
      "Epoch 65: val_loss did not improve from 0.14661\n",
      "\u001b[1m302/302\u001b[0m \u001b[32m━━━━━━━━━━━━━━━━━━━━\u001b[0m\u001b[37m\u001b[0m \u001b[1m1s\u001b[0m 2ms/step - acc: 0.8541 - auc: 0.8132 - loss: 0.4124 - val_acc: 0.9762 - val_auc: 1.0000 - val_loss: 0.1475\n",
      "Epoch 66/100\n",
      "\u001b[1m301/302\u001b[0m \u001b[32m━━━━━━━━━━━━━━━━━━━\u001b[0m\u001b[37m━\u001b[0m \u001b[1m0s\u001b[0m 2ms/step - acc: 0.8666 - auc: 0.8478 - loss: 0.3830\n",
      "Epoch 66: val_loss improved from 0.14661 to 0.14602, saving model to best_tab_only_fold1.h5\n"
     ]
    },
    {
     "name": "stderr",
     "output_type": "stream",
     "text": [
      "WARNING:absl:You are saving your model as an HDF5 file via `model.save()` or `keras.saving.save_model(model)`. This file format is considered legacy. We recommend using instead the native Keras format, e.g. `model.save('my_model.keras')` or `keras.saving.save_model(model, 'my_model.keras')`. \n"
     ]
    },
    {
     "name": "stdout",
     "output_type": "stream",
     "text": [
      "\b\b\b\b\b\b\b\b\b\b\b\b\b\b\b\b\b\b\b\b\b\b\b\b\b\b\b\b\b\b\b\b\b\b\b\b\b\b\b\b\b\b\b\b\b\b\b\b\b\b\b\b\b\b\b\b\b\b\b\b\b\b\b\b\b\b\b\b\b\b\b\b\b\b\b\b\b\b\b\b\b\b\b\r",
      "\u001b[1m302/302\u001b[0m \u001b[32m━━━━━━━━━━━━━━━━━━━━\u001b[0m\u001b[37m\u001b[0m \u001b[1m1s\u001b[0m 2ms/step - acc: 0.8665 - auc: 0.8477 - loss: 0.3831 - val_acc: 0.9762 - val_auc: 1.0000 - val_loss: 0.1460\n",
      "Epoch 67/100\n",
      "\u001b[1m295/302\u001b[0m \u001b[32m━━━━━━━━━━━━━━━━━━━\u001b[0m\u001b[37m━\u001b[0m \u001b[1m0s\u001b[0m 2ms/step - acc: 0.8645 - auc: 0.8453 - loss: 0.3824\n",
      "Epoch 67: val_loss improved from 0.14602 to 0.14559, saving model to best_tab_only_fold1.h5\n"
     ]
    },
    {
     "name": "stderr",
     "output_type": "stream",
     "text": [
      "WARNING:absl:You are saving your model as an HDF5 file via `model.save()` or `keras.saving.save_model(model)`. This file format is considered legacy. We recommend using instead the native Keras format, e.g. `model.save('my_model.keras')` or `keras.saving.save_model(model, 'my_model.keras')`. \n"
     ]
    },
    {
     "name": "stdout",
     "output_type": "stream",
     "text": [
      "\b\b\b\b\b\b\b\b\b\b\b\b\b\b\b\b\b\b\b\b\b\b\b\b\b\b\b\b\b\b\b\b\b\b\b\b\b\b\b\b\b\b\b\b\b\b\b\b\b\b\b\b\b\b\b\b\b\b\b\b\b\b\b\b\b\b\b\b\b\b\b\b\b\b\b\b\b\b\b\b\b\b\b\r",
      "\u001b[1m302/302\u001b[0m \u001b[32m━━━━━━━━━━━━━━━━━━━━\u001b[0m\u001b[37m\u001b[0m \u001b[1m1s\u001b[0m 2ms/step - acc: 0.8644 - auc: 0.8450 - loss: 0.3827 - val_acc: 0.9762 - val_auc: 1.0000 - val_loss: 0.1456\n",
      "Epoch 68/100\n",
      "\u001b[1m295/302\u001b[0m \u001b[32m━━━━━━━━━━━━━━━━━━━\u001b[0m\u001b[37m━\u001b[0m \u001b[1m0s\u001b[0m 2ms/step - acc: 0.8588 - auc: 0.8424 - loss: 0.3988\n",
      "Epoch 68: val_loss did not improve from 0.14559\n",
      "\u001b[1m302/302\u001b[0m \u001b[32m━━━━━━━━━━━━━━━━━━━━\u001b[0m\u001b[37m\u001b[0m \u001b[1m1s\u001b[0m 2ms/step - acc: 0.8588 - auc: 0.8424 - loss: 0.3985 - val_acc: 0.9762 - val_auc: 1.0000 - val_loss: 0.1457\n",
      "Epoch 69/100\n",
      "\u001b[1m297/302\u001b[0m \u001b[32m━━━━━━━━━━━━━━━━━━━\u001b[0m\u001b[37m━\u001b[0m \u001b[1m0s\u001b[0m 2ms/step - acc: 0.8644 - auc: 0.8471 - loss: 0.3829\n",
      "Epoch 69: val_loss did not improve from 0.14559\n",
      "\u001b[1m302/302\u001b[0m \u001b[32m━━━━━━━━━━━━━━━━━━━━\u001b[0m\u001b[37m\u001b[0m \u001b[1m1s\u001b[0m 2ms/step - acc: 0.8643 - auc: 0.8470 - loss: 0.3830 - val_acc: 0.9762 - val_auc: 1.0000 - val_loss: 0.1457\n",
      "Epoch 70/100\n",
      "\u001b[1m296/302\u001b[0m \u001b[32m━━━━━━━━━━━━━━━━━━━\u001b[0m\u001b[37m━\u001b[0m \u001b[1m0s\u001b[0m 2ms/step - acc: 0.8609 - auc: 0.8222 - loss: 0.3991\n",
      "Epoch 70: val_loss did not improve from 0.14559\n",
      "\u001b[1m302/302\u001b[0m \u001b[32m━━━━━━━━━━━━━━━━━━━━\u001b[0m\u001b[37m\u001b[0m \u001b[1m1s\u001b[0m 2ms/step - acc: 0.8609 - auc: 0.8225 - loss: 0.3990 - val_acc: 0.9762 - val_auc: 1.0000 - val_loss: 0.1471\n",
      "Epoch 71/100\n",
      "\u001b[1m280/302\u001b[0m \u001b[32m━━━━━━━━━━━━━━━━━━\u001b[0m\u001b[37m━━\u001b[0m \u001b[1m0s\u001b[0m 2ms/step - acc: 0.8720 - auc: 0.8533 - loss: 0.3706\n",
      "Epoch 71: val_loss did not improve from 0.14559\n",
      "\u001b[1m302/302\u001b[0m \u001b[32m━━━━━━━━━━━━━━━━━━━━\u001b[0m\u001b[37m\u001b[0m \u001b[1m1s\u001b[0m 2ms/step - acc: 0.8713 - auc: 0.8526 - loss: 0.3718 - val_acc: 0.9762 - val_auc: 1.0000 - val_loss: 0.1480\n",
      "Epoch 72/100\n",
      "\u001b[1m288/302\u001b[0m \u001b[32m━━━━━━━━━━━━━━━━━━━\u001b[0m\u001b[37m━\u001b[0m \u001b[1m0s\u001b[0m 2ms/step - acc: 0.8495 - auc: 0.8400 - loss: 0.3882\n",
      "Epoch 72: val_loss did not improve from 0.14559\n",
      "\u001b[1m302/302\u001b[0m \u001b[32m━━━━━━━━━━━━━━━━━━━━\u001b[0m\u001b[37m\u001b[0m \u001b[1m1s\u001b[0m 2ms/step - acc: 0.8499 - auc: 0.8399 - loss: 0.3883 - val_acc: 0.9762 - val_auc: 1.0000 - val_loss: 0.1484\n",
      "Epoch 73/100\n",
      "\u001b[1m288/302\u001b[0m \u001b[32m━━━━━━━━━━━━━━━━━━━\u001b[0m\u001b[37m━\u001b[0m \u001b[1m0s\u001b[0m 2ms/step - acc: 0.8524 - auc: 0.8270 - loss: 0.3984\n",
      "Epoch 73: val_loss did not improve from 0.14559\n",
      "\u001b[1m302/302\u001b[0m \u001b[32m━━━━━━━━━━━━━━━━━━━━\u001b[0m\u001b[37m\u001b[0m \u001b[1m1s\u001b[0m 2ms/step - acc: 0.8527 - auc: 0.8279 - loss: 0.3976 - val_acc: 0.9762 - val_auc: 1.0000 - val_loss: 0.1484\n",
      "Epoch 74/100\n",
      "\u001b[1m290/302\u001b[0m \u001b[32m━━━━━━━━━━━━━━━━━━━\u001b[0m\u001b[37m━\u001b[0m \u001b[1m0s\u001b[0m 2ms/step - acc: 0.8580 - auc: 0.8312 - loss: 0.3887\n",
      "Epoch 74: val_loss did not improve from 0.14559\n",
      "\u001b[1m302/302\u001b[0m \u001b[32m━━━━━━━━━━━━━━━━━━━━\u001b[0m\u001b[37m\u001b[0m \u001b[1m1s\u001b[0m 2ms/step - acc: 0.8582 - auc: 0.8314 - loss: 0.3887 - val_acc: 0.9762 - val_auc: 1.0000 - val_loss: 0.1476\n",
      "Epoch 75/100\n",
      "\u001b[1m296/302\u001b[0m \u001b[32m━━━━━━━━━━━━━━━━━━━\u001b[0m\u001b[37m━\u001b[0m \u001b[1m0s\u001b[0m 2ms/step - acc: 0.8587 - auc: 0.8269 - loss: 0.3921\n",
      "Epoch 75: val_loss did not improve from 0.14559\n",
      "\u001b[1m302/302\u001b[0m \u001b[32m━━━━━━━━━━━━━━━━━━━━\u001b[0m\u001b[37m\u001b[0m \u001b[1m1s\u001b[0m 2ms/step - acc: 0.8587 - auc: 0.8273 - loss: 0.3919 - val_acc: 0.9762 - val_auc: 1.0000 - val_loss: 0.1475\n",
      "Epoch 76/100\n",
      "\u001b[1m298/302\u001b[0m \u001b[32m━━━━━━━━━━━━━━━━━━━\u001b[0m\u001b[37m━\u001b[0m \u001b[1m0s\u001b[0m 2ms/step - acc: 0.8559 - auc: 0.8138 - loss: 0.4052\n",
      "Epoch 76: val_loss did not improve from 0.14559\n",
      "\u001b[1m302/302\u001b[0m \u001b[32m━━━━━━━━━━━━━━━━━━━━\u001b[0m\u001b[37m\u001b[0m \u001b[1m1s\u001b[0m 2ms/step - acc: 0.8560 - auc: 0.8141 - loss: 0.4051 - val_acc: 0.9762 - val_auc: 1.0000 - val_loss: 0.1489\n",
      "Epoch 77/100\n",
      "\u001b[1m297/302\u001b[0m \u001b[32m━━━━━━━━━━━━━━━━━━━\u001b[0m\u001b[37m━\u001b[0m \u001b[1m0s\u001b[0m 2ms/step - acc: 0.8474 - auc: 0.8302 - loss: 0.4065\n",
      "Epoch 77: val_loss did not improve from 0.14559\n",
      "\u001b[1m302/302\u001b[0m \u001b[32m━━━━━━━━━━━━━━━━━━━━\u001b[0m\u001b[37m\u001b[0m \u001b[1m1s\u001b[0m 2ms/step - acc: 0.8476 - auc: 0.8304 - loss: 0.4061 - val_acc: 0.9762 - val_auc: 1.0000 - val_loss: 0.1469\n",
      "Epoch 78/100\n",
      "\u001b[1m295/302\u001b[0m \u001b[32m━━━━━━━━━━━━━━━━━━━\u001b[0m\u001b[37m━\u001b[0m \u001b[1m0s\u001b[0m 2ms/step - acc: 0.8507 - auc: 0.8347 - loss: 0.3948\n",
      "Epoch 78: val_loss did not improve from 0.14559\n",
      "\u001b[1m302/302\u001b[0m \u001b[32m━━━━━━━━━━━━━━━━━━━━\u001b[0m\u001b[37m\u001b[0m \u001b[1m1s\u001b[0m 2ms/step - acc: 0.8508 - auc: 0.8349 - loss: 0.3946 - val_acc: 0.9762 - val_auc: 1.0000 - val_loss: 0.1475\n",
      "Epoch 79/100\n",
      "\u001b[1m298/302\u001b[0m \u001b[32m━━━━━━━━━━━━━━━━━━━\u001b[0m\u001b[37m━\u001b[0m \u001b[1m0s\u001b[0m 2ms/step - acc: 0.8567 - auc: 0.8284 - loss: 0.3963\n",
      "Epoch 79: val_loss did not improve from 0.14559\n",
      "\u001b[1m302/302\u001b[0m \u001b[32m━━━━━━━━━━━━━━━━━━━━\u001b[0m\u001b[37m\u001b[0m \u001b[1m1s\u001b[0m 2ms/step - acc: 0.8568 - auc: 0.8284 - loss: 0.3962 - val_acc: 0.9762 - val_auc: 1.0000 - val_loss: 0.1462\n",
      "Epoch 80/100\n",
      "\u001b[1m299/302\u001b[0m \u001b[32m━━━━━━━━━━━━━━━━━━━\u001b[0m\u001b[37m━\u001b[0m \u001b[1m0s\u001b[0m 2ms/step - acc: 0.8594 - auc: 0.8342 - loss: 0.3870\n",
      "Epoch 80: val_loss did not improve from 0.14559\n",
      "\u001b[1m302/302\u001b[0m \u001b[32m━━━━━━━━━━━━━━━━━━━━\u001b[0m\u001b[37m\u001b[0m \u001b[1m1s\u001b[0m 2ms/step - acc: 0.8594 - auc: 0.8342 - loss: 0.3871 - val_acc: 0.9762 - val_auc: 1.0000 - val_loss: 0.1488\n",
      "Epoch 81/100\n",
      "\u001b[1m277/302\u001b[0m \u001b[32m━━━━━━━━━━━━━━━━━━\u001b[0m\u001b[37m━━\u001b[0m \u001b[1m0s\u001b[0m 2ms/step - acc: 0.8334 - auc: 0.8166 - loss: 0.4147\n",
      "Epoch 81: val_loss did not improve from 0.14559\n",
      "\u001b[1m302/302\u001b[0m \u001b[32m━━━━━━━━━━━━━━━━━━━━\u001b[0m\u001b[37m\u001b[0m \u001b[1m1s\u001b[0m 2ms/step - acc: 0.8353 - auc: 0.8181 - loss: 0.4123 - val_acc: 0.9762 - val_auc: 1.0000 - val_loss: 0.1478\n",
      "Epoch 82/100\n",
      "\u001b[1m294/302\u001b[0m \u001b[32m━━━━━━━━━━━━━━━━━━━\u001b[0m\u001b[37m━\u001b[0m \u001b[1m0s\u001b[0m 2ms/step - acc: 0.8756 - auc: 0.8311 - loss: 0.3756\n",
      "Epoch 82: val_loss did not improve from 0.14559\n",
      "\u001b[1m302/302\u001b[0m \u001b[32m━━━━━━━━━━━━━━━━━━━━\u001b[0m\u001b[37m\u001b[0m \u001b[1m1s\u001b[0m 2ms/step - acc: 0.8751 - auc: 0.8313 - loss: 0.3758 - val_acc: 0.9762 - val_auc: 1.0000 - val_loss: 0.1480\n",
      "Epoch 83/100\n",
      "\u001b[1m277/302\u001b[0m \u001b[32m━━━━━━━━━━━━━━━━━━\u001b[0m\u001b[37m━━\u001b[0m \u001b[1m0s\u001b[0m 2ms/step - acc: 0.8500 - auc: 0.8210 - loss: 0.3952\n",
      "Epoch 83: val_loss did not improve from 0.14559\n",
      "\u001b[1m302/302\u001b[0m \u001b[32m━━━━━━━━━━━━━━━━━━━━\u001b[0m\u001b[37m\u001b[0m \u001b[1m1s\u001b[0m 2ms/step - acc: 0.8506 - auc: 0.8228 - loss: 0.3939 - val_acc: 0.9762 - val_auc: 1.0000 - val_loss: 0.1461\n",
      "Epoch 84/100\n",
      "\u001b[1m302/302\u001b[0m \u001b[32m━━━━━━━━━━━━━━━━━━━━\u001b[0m\u001b[37m\u001b[0m \u001b[1m0s\u001b[0m 2ms/step - acc: 0.8656 - auc: 0.8556 - loss: 0.3573\n",
      "Epoch 84: val_loss did not improve from 0.14559\n",
      "\u001b[1m302/302\u001b[0m \u001b[32m━━━━━━━━━━━━━━━━━━━━\u001b[0m\u001b[37m\u001b[0m \u001b[1m1s\u001b[0m 2ms/step - acc: 0.8656 - auc: 0.8555 - loss: 0.3574 - val_acc: 0.9762 - val_auc: 1.0000 - val_loss: 0.1468\n",
      "Epoch 85/100\n",
      "\u001b[1m302/302\u001b[0m \u001b[32m━━━━━━━━━━━━━━━━━━━━\u001b[0m\u001b[37m\u001b[0m \u001b[1m0s\u001b[0m 2ms/step - acc: 0.8546 - auc: 0.8276 - loss: 0.3997\n",
      "Epoch 85: val_loss improved from 0.14559 to 0.14509, saving model to best_tab_only_fold1.h5\n"
     ]
    },
    {
     "name": "stderr",
     "output_type": "stream",
     "text": [
      "WARNING:absl:You are saving your model as an HDF5 file via `model.save()` or `keras.saving.save_model(model)`. This file format is considered legacy. We recommend using instead the native Keras format, e.g. `model.save('my_model.keras')` or `keras.saving.save_model(model, 'my_model.keras')`. \n"
     ]
    },
    {
     "name": "stdout",
     "output_type": "stream",
     "text": [
      "\b\b\b\b\b\b\b\b\b\b\b\b\b\b\b\b\b\b\b\b\b\b\b\b\b\b\b\b\b\b\b\b\b\b\b\b\b\b\b\b\b\b\b\b\b\b\b\b\b\b\b\b\b\b\b\b\b\b\b\b\b\b\b\b\b\b\b\b\b\b\b\b\b\b\b\b\b\b\b\b\b\b\b\r",
      "\u001b[1m302/302\u001b[0m \u001b[32m━━━━━━━━━━━━━━━━━━━━\u001b[0m\u001b[37m\u001b[0m \u001b[1m1s\u001b[0m 2ms/step - acc: 0.8546 - auc: 0.8277 - loss: 0.3996 - val_acc: 0.9762 - val_auc: 1.0000 - val_loss: 0.1451\n",
      "Epoch 86/100\n",
      "\u001b[1m300/302\u001b[0m \u001b[32m━━━━━━━━━━━━━━━━━━━\u001b[0m\u001b[37m━\u001b[0m \u001b[1m0s\u001b[0m 2ms/step - acc: 0.8705 - auc: 0.8195 - loss: 0.3751\n",
      "Epoch 86: val_loss did not improve from 0.14509\n",
      "\u001b[1m302/302\u001b[0m \u001b[32m━━━━━━━━━━━━━━━━━━━━\u001b[0m\u001b[37m\u001b[0m \u001b[1m1s\u001b[0m 2ms/step - acc: 0.8704 - auc: 0.8197 - loss: 0.3751 - val_acc: 0.9762 - val_auc: 1.0000 - val_loss: 0.1458\n",
      "Epoch 87/100\n",
      "\u001b[1m301/302\u001b[0m \u001b[32m━━━━━━━━━━━━━━━━━━━\u001b[0m\u001b[37m━\u001b[0m \u001b[1m0s\u001b[0m 2ms/step - acc: 0.8510 - auc: 0.8081 - loss: 0.4073\n",
      "Epoch 87: val_loss did not improve from 0.14509\n",
      "\u001b[1m302/302\u001b[0m \u001b[32m━━━━━━━━━━━━━━━━━━━━\u001b[0m\u001b[37m\u001b[0m \u001b[1m1s\u001b[0m 2ms/step - acc: 0.8511 - auc: 0.8084 - loss: 0.4071 - val_acc: 0.9762 - val_auc: 1.0000 - val_loss: 0.1453\n",
      "Epoch 88/100\n",
      "\u001b[1m298/302\u001b[0m \u001b[32m━━━━━━━━━━━━━━━━━━━\u001b[0m\u001b[37m━\u001b[0m \u001b[1m0s\u001b[0m 2ms/step - acc: 0.8555 - auc: 0.8151 - loss: 0.4012\n",
      "Epoch 88: val_loss did not improve from 0.14509\n",
      "\u001b[1m302/302\u001b[0m \u001b[32m━━━━━━━━━━━━━━━━━━━━\u001b[0m\u001b[37m\u001b[0m \u001b[1m1s\u001b[0m 2ms/step - acc: 0.8556 - auc: 0.8155 - loss: 0.4009 - val_acc: 0.9762 - val_auc: 1.0000 - val_loss: 0.1460\n",
      "Epoch 89/100\n",
      "\u001b[1m288/302\u001b[0m \u001b[32m━━━━━━━━━━━━━━━━━━━\u001b[0m\u001b[37m━\u001b[0m \u001b[1m0s\u001b[0m 2ms/step - acc: 0.8718 - auc: 0.8591 - loss: 0.3536\n",
      "Epoch 89: val_loss did not improve from 0.14509\n",
      "\u001b[1m302/302\u001b[0m \u001b[32m━━━━━━━━━━━━━━━━━━━━\u001b[0m\u001b[37m\u001b[0m \u001b[1m1s\u001b[0m 2ms/step - acc: 0.8712 - auc: 0.8586 - loss: 0.3547 - val_acc: 0.9762 - val_auc: 1.0000 - val_loss: 0.1451\n",
      "Epoch 90/100\n",
      "\u001b[1m288/302\u001b[0m \u001b[32m━━━━━━━━━━━━━━━━━━━\u001b[0m\u001b[37m━\u001b[0m \u001b[1m0s\u001b[0m 2ms/step - acc: 0.8718 - auc: 0.8522 - loss: 0.3610\n",
      "Epoch 90: val_loss did not improve from 0.14509\n",
      "\u001b[1m302/302\u001b[0m \u001b[32m━━━━━━━━━━━━━━━━━━━━\u001b[0m\u001b[37m\u001b[0m \u001b[1m1s\u001b[0m 2ms/step - acc: 0.8712 - auc: 0.8516 - loss: 0.3619 - val_acc: 0.9762 - val_auc: 1.0000 - val_loss: 0.1467\n",
      "Epoch 91/100\n",
      "\u001b[1m285/302\u001b[0m \u001b[32m━━━━━━━━━━━━━━━━━━\u001b[0m\u001b[37m━━\u001b[0m \u001b[1m0s\u001b[0m 2ms/step - acc: 0.8511 - auc: 0.8465 - loss: 0.3833\n",
      "Epoch 91: val_loss did not improve from 0.14509\n",
      "\u001b[1m302/302\u001b[0m \u001b[32m━━━━━━━━━━━━━━━━━━━━\u001b[0m\u001b[37m\u001b[0m \u001b[1m1s\u001b[0m 2ms/step - acc: 0.8516 - auc: 0.8464 - loss: 0.3828 - val_acc: 0.9762 - val_auc: 1.0000 - val_loss: 0.1454\n",
      "Epoch 92/100\n",
      "\u001b[1m295/302\u001b[0m \u001b[32m━━━━━━━━━━━━━━━━━━━\u001b[0m\u001b[37m━\u001b[0m \u001b[1m0s\u001b[0m 2ms/step - acc: 0.8453 - auc: 0.8062 - loss: 0.4179\n",
      "Epoch 92: val_loss did not improve from 0.14509\n",
      "\u001b[1m302/302\u001b[0m \u001b[32m━━━━━━━━━━━━━━━━━━━━\u001b[0m\u001b[37m\u001b[0m \u001b[1m1s\u001b[0m 2ms/step - acc: 0.8457 - auc: 0.8071 - loss: 0.4169 - val_acc: 0.9762 - val_auc: 1.0000 - val_loss: 0.1463\n",
      "Epoch 93/100\n",
      "\u001b[1m296/302\u001b[0m \u001b[32m━━━━━━━━━━━━━━━━━━━\u001b[0m\u001b[37m━\u001b[0m \u001b[1m0s\u001b[0m 2ms/step - acc: 0.8412 - auc: 0.8418 - loss: 0.3943\n",
      "Epoch 93: val_loss improved from 0.14509 to 0.14437, saving model to best_tab_only_fold1.h5\n"
     ]
    },
    {
     "name": "stderr",
     "output_type": "stream",
     "text": [
      "WARNING:absl:You are saving your model as an HDF5 file via `model.save()` or `keras.saving.save_model(model)`. This file format is considered legacy. We recommend using instead the native Keras format, e.g. `model.save('my_model.keras')` or `keras.saving.save_model(model, 'my_model.keras')`. \n"
     ]
    },
    {
     "name": "stdout",
     "output_type": "stream",
     "text": [
      "\b\b\b\b\b\b\b\b\b\b\b\b\b\b\b\b\b\b\b\b\b\b\b\b\b\b\b\b\b\b\b\b\b\b\b\b\b\b\b\b\b\b\b\b\b\b\b\b\b\b\b\b\b\b\b\b\b\b\b\b\b\b\b\b\b\b\b\b\b\b\b\b\b\b\b\b\b\b\b\b\b\b\b\r",
      "\u001b[1m302/302\u001b[0m \u001b[32m━━━━━━━━━━━━━━━━━━━━\u001b[0m\u001b[37m\u001b[0m \u001b[1m1s\u001b[0m 2ms/step - acc: 0.8417 - auc: 0.8419 - loss: 0.3938 - val_acc: 0.9762 - val_auc: 1.0000 - val_loss: 0.1444\n",
      "Epoch 94/100\n",
      "\u001b[1m295/302\u001b[0m \u001b[32m━━━━━━━━━━━━━━━━━━━\u001b[0m\u001b[37m━\u001b[0m \u001b[1m0s\u001b[0m 2ms/step - acc: 0.8451 - auc: 0.8406 - loss: 0.3883\n",
      "Epoch 94: val_loss did not improve from 0.14437\n",
      "\u001b[1m302/302\u001b[0m \u001b[32m━━━━━━━━━━━━━━━━━━━━\u001b[0m\u001b[37m\u001b[0m \u001b[1m1s\u001b[0m 2ms/step - acc: 0.8455 - auc: 0.8407 - loss: 0.3880 - val_acc: 0.9762 - val_auc: 1.0000 - val_loss: 0.1445\n",
      "Epoch 95/100\n",
      "\u001b[1m299/302\u001b[0m \u001b[32m━━━━━━━━━━━━━━━━━━━\u001b[0m\u001b[37m━\u001b[0m \u001b[1m0s\u001b[0m 2ms/step - acc: 0.8283 - auc: 0.8100 - loss: 0.4282\n",
      "Epoch 95: val_loss improved from 0.14437 to 0.14419, saving model to best_tab_only_fold1.h5\n"
     ]
    },
    {
     "name": "stderr",
     "output_type": "stream",
     "text": [
      "WARNING:absl:You are saving your model as an HDF5 file via `model.save()` or `keras.saving.save_model(model)`. This file format is considered legacy. We recommend using instead the native Keras format, e.g. `model.save('my_model.keras')` or `keras.saving.save_model(model, 'my_model.keras')`. \n"
     ]
    },
    {
     "name": "stdout",
     "output_type": "stream",
     "text": [
      "\b\b\b\b\b\b\b\b\b\b\b\b\b\b\b\b\b\b\b\b\b\b\b\b\b\b\b\b\b\b\b\b\b\b\b\b\b\b\b\b\b\b\b\b\b\b\b\b\b\b\b\b\b\b\b\b\b\b\b\b\b\b\b\b\b\b\b\b\b\b\b\b\b\b\b\b\b\b\b\b\b\b\b\r",
      "\u001b[1m302/302\u001b[0m \u001b[32m━━━━━━━━━━━━━━━━━━━━\u001b[0m\u001b[37m\u001b[0m \u001b[1m1s\u001b[0m 2ms/step - acc: 0.8287 - auc: 0.8104 - loss: 0.4276 - val_acc: 0.9762 - val_auc: 1.0000 - val_loss: 0.1442\n",
      "Epoch 96/100\n",
      "\u001b[1m298/302\u001b[0m \u001b[32m━━━━━━━━━━━━━━━━━━━\u001b[0m\u001b[37m━\u001b[0m \u001b[1m0s\u001b[0m 2ms/step - acc: 0.8413 - auc: 0.8463 - loss: 0.3929\n",
      "Epoch 96: val_loss improved from 0.14419 to 0.14402, saving model to best_tab_only_fold1.h5\n"
     ]
    },
    {
     "name": "stderr",
     "output_type": "stream",
     "text": [
      "WARNING:absl:You are saving your model as an HDF5 file via `model.save()` or `keras.saving.save_model(model)`. This file format is considered legacy. We recommend using instead the native Keras format, e.g. `model.save('my_model.keras')` or `keras.saving.save_model(model, 'my_model.keras')`. \n"
     ]
    },
    {
     "name": "stdout",
     "output_type": "stream",
     "text": [
      "\b\b\b\b\b\b\b\b\b\b\b\b\b\b\b\b\b\b\b\b\b\b\b\b\b\b\b\b\b\b\b\b\b\b\b\b\b\b\b\b\b\b\b\b\b\b\b\b\b\b\b\b\b\b\b\b\b\b\b\b\b\b\b\b\b\b\b\b\b\b\b\b\b\b\b\b\b\b\b\b\b\b\b\r",
      "\u001b[1m302/302\u001b[0m \u001b[32m━━━━━━━━━━━━━━━━━━━━\u001b[0m\u001b[37m\u001b[0m \u001b[1m1s\u001b[0m 2ms/step - acc: 0.8416 - auc: 0.8463 - loss: 0.3927 - val_acc: 0.9762 - val_auc: 1.0000 - val_loss: 0.1440\n",
      "Epoch 97/100\n",
      "\u001b[1m295/302\u001b[0m \u001b[32m━━━━━━━━━━━━━━━━━━━\u001b[0m\u001b[37m━\u001b[0m \u001b[1m0s\u001b[0m 2ms/step - acc: 0.8489 - auc: 0.8229 - loss: 0.4037\n",
      "Epoch 97: val_loss did not improve from 0.14402\n",
      "\u001b[1m302/302\u001b[0m \u001b[32m━━━━━━━━━━━━━━━━━━━━\u001b[0m\u001b[37m\u001b[0m \u001b[1m1s\u001b[0m 2ms/step - acc: 0.8492 - auc: 0.8233 - loss: 0.4031 - val_acc: 0.9762 - val_auc: 1.0000 - val_loss: 0.1443\n",
      "Epoch 98/100\n",
      "\u001b[1m286/302\u001b[0m \u001b[32m━━━━━━━━━━━━━━━━━━\u001b[0m\u001b[37m━━\u001b[0m \u001b[1m0s\u001b[0m 2ms/step - acc: 0.8392 - auc: 0.8069 - loss: 0.4094\n",
      "Epoch 98: val_loss did not improve from 0.14402\n",
      "\u001b[1m302/302\u001b[0m \u001b[32m━━━━━━━━━━━━━━━━━━━━\u001b[0m\u001b[37m\u001b[0m \u001b[1m1s\u001b[0m 2ms/step - acc: 0.8403 - auc: 0.8099 - loss: 0.4068 - val_acc: 0.9762 - val_auc: 1.0000 - val_loss: 0.1440\n",
      "Epoch 99/100\n",
      "\u001b[1m294/302\u001b[0m \u001b[32m━━━━━━━━━━━━━━━━━━━\u001b[0m\u001b[37m━\u001b[0m \u001b[1m0s\u001b[0m 2ms/step - acc: 0.8529 - auc: 0.8436 - loss: 0.3742\n",
      "Epoch 99: val_loss improved from 0.14402 to 0.14370, saving model to best_tab_only_fold1.h5\n"
     ]
    },
    {
     "name": "stderr",
     "output_type": "stream",
     "text": [
      "WARNING:absl:You are saving your model as an HDF5 file via `model.save()` or `keras.saving.save_model(model)`. This file format is considered legacy. We recommend using instead the native Keras format, e.g. `model.save('my_model.keras')` or `keras.saving.save_model(model, 'my_model.keras')`. \n"
     ]
    },
    {
     "name": "stdout",
     "output_type": "stream",
     "text": [
      "\b\b\b\b\b\b\b\b\b\b\b\b\b\b\b\b\b\b\b\b\b\b\b\b\b\b\b\b\b\b\b\b\b\b\b\b\b\b\b\b\b\b\b\b\b\b\b\b\b\b\b\b\b\b\b\b\b\b\b\b\b\b\b\b\b\b\b\b\b\b\b\b\b\b\b\b\b\b\b\b\b\b\b\r",
      "\u001b[1m302/302\u001b[0m \u001b[32m━━━━━━━━━━━━━━━━━━━━\u001b[0m\u001b[37m\u001b[0m \u001b[1m1s\u001b[0m 2ms/step - acc: 0.8530 - auc: 0.8436 - loss: 0.3742 - val_acc: 0.9762 - val_auc: 1.0000 - val_loss: 0.1437\n",
      "Epoch 100/100\n",
      "\u001b[1m301/302\u001b[0m \u001b[32m━━━━━━━━━━━━━━━━━━━\u001b[0m\u001b[37m━\u001b[0m \u001b[1m0s\u001b[0m 2ms/step - acc: 0.8508 - auc: 0.8342 - loss: 0.3852\n",
      "Epoch 100: val_loss improved from 0.14370 to 0.14194, saving model to best_tab_only_fold1.h5\n"
     ]
    },
    {
     "name": "stderr",
     "output_type": "stream",
     "text": [
      "WARNING:absl:You are saving your model as an HDF5 file via `model.save()` or `keras.saving.save_model(model)`. This file format is considered legacy. We recommend using instead the native Keras format, e.g. `model.save('my_model.keras')` or `keras.saving.save_model(model, 'my_model.keras')`. \n"
     ]
    },
    {
     "name": "stdout",
     "output_type": "stream",
     "text": [
      "\b\b\b\b\b\b\b\b\b\b\b\b\b\b\b\b\b\b\b\b\b\b\b\b\b\b\b\b\b\b\b\b\b\b\b\b\b\b\b\b\b\b\b\b\b\b\b\b\b\b\b\b\b\b\b\b\b\b\b\b\b\b\b\b\b\b\b\b\b\b\b\b\b\b\b\b\b\b\b\b\b\b\b\r",
      "\u001b[1m302/302\u001b[0m \u001b[32m━━━━━━━━━━━━━━━━━━━━\u001b[0m\u001b[37m\u001b[0m \u001b[1m1s\u001b[0m 2ms/step - acc: 0.8508 - auc: 0.8343 - loss: 0.3851 - val_acc: 0.9762 - val_auc: 1.0000 - val_loss: 0.1419\n"
     ]
    },
    {
     "name": "stderr",
     "output_type": "stream",
     "text": [
      "WARNING:absl:Compiled the loaded model, but the compiled metrics have yet to be built. `model.compile_metrics` will be empty until you train or evaluate the model.\n"
     ]
    },
    {
     "name": "stdout",
     "output_type": "stream",
     "text": [
      "Fold 1 | VAL  | AUC=1.0000 | ACC=0.9762 | n=42\n",
      "Fold 1 | TEST | AUC=0.0554 | ACC=0.6614 | n=254\n",
      "\n",
      "--- Fold 2/10 ---\n",
      " train | ids:   35 | files: 1014 | pos:  327 | neg:  687\n",
      "   val | ids:    4 | files:  106 | pos:   38 | neg:   68\n",
      "  test | ids:    5 | files:   80 | pos:   40 | neg:   40\n",
      "Epoch 1/100\n"
     ]
    },
    {
     "name": "stderr",
     "output_type": "stream",
     "text": [
      "/usr/local/lib/python3.12/dist-packages/keras/src/models/functional.py:241: UserWarning: The structure of `inputs` doesn't match the expected structure.\n",
      "Expected: tab_input\n",
      "Received: inputs=['Tensor(shape=(None, 4))']\n",
      "  warnings.warn(msg)\n"
     ]
    },
    {
     "name": "stdout",
     "output_type": "stream",
     "text": [
      "\u001b[1m316/338\u001b[0m \u001b[32m━━━━━━━━━━━━━━━━━━\u001b[0m\u001b[37m━━\u001b[0m \u001b[1m0s\u001b[0m 2ms/step - acc: 0.3659 - auc: 0.4312 - loss: 0.7666\n",
      "Epoch 1: val_loss improved from inf to 0.72839, saving model to best_tab_only_fold2.h5\n"
     ]
    },
    {
     "name": "stderr",
     "output_type": "stream",
     "text": [
      "WARNING:absl:You are saving your model as an HDF5 file via `model.save()` or `keras.saving.save_model(model)`. This file format is considered legacy. We recommend using instead the native Keras format, e.g. `model.save('my_model.keras')` or `keras.saving.save_model(model, 'my_model.keras')`. \n"
     ]
    },
    {
     "name": "stdout",
     "output_type": "stream",
     "text": [
      "\b\b\b\b\b\b\b\b\b\b\b\b\b\b\b\b\b\b\b\b\b\b\b\b\b\b\b\b\b\b\b\b\b\b\b\b\b\b\b\b\b\b\b\b\b\b\b\b\b\b\b\b\b\b\b\b\b\b\b\b\b\b\b\b\b\b\b\b\b\b\b\b\b\b\b\b\b\b\b\b\b\b\b\r",
      "\u001b[1m338/338\u001b[0m \u001b[32m━━━━━━━━━━━━━━━━━━━━\u001b[0m\u001b[37m\u001b[0m \u001b[1m4s\u001b[0m 6ms/step - acc: 0.3657 - auc: 0.4317 - loss: 0.7658 - val_acc: 0.3585 - val_auc: 0.0147 - val_loss: 0.7284\n",
      "Epoch 2/100\n",
      "\u001b[1m324/338\u001b[0m \u001b[32m━━━━━━━━━━━━━━━━━━━\u001b[0m\u001b[37m━\u001b[0m \u001b[1m0s\u001b[0m 2ms/step - acc: 0.3842 - auc: 0.4417 - loss: 0.7143\n",
      "Epoch 2: val_loss improved from 0.72839 to 0.69952, saving model to best_tab_only_fold2.h5\n"
     ]
    },
    {
     "name": "stderr",
     "output_type": "stream",
     "text": [
      "WARNING:absl:You are saving your model as an HDF5 file via `model.save()` or `keras.saving.save_model(model)`. This file format is considered legacy. We recommend using instead the native Keras format, e.g. `model.save('my_model.keras')` or `keras.saving.save_model(model, 'my_model.keras')`. \n"
     ]
    },
    {
     "name": "stdout",
     "output_type": "stream",
     "text": [
      "\b\b\b\b\b\b\b\b\b\b\b\b\b\b\b\b\b\b\b\b\b\b\b\b\b\b\b\b\b\b\b\b\b\b\b\b\b\b\b\b\b\b\b\b\b\b\b\b\b\b\b\b\b\b\b\b\b\b\b\b\b\b\b\b\b\b\b\b\b\b\b\b\b\b\b\b\b\b\b\b\b\b\b\r",
      "\u001b[1m338/338\u001b[0m \u001b[32m━━━━━━━━━━━━━━━━━━━━\u001b[0m\u001b[37m\u001b[0m \u001b[1m1s\u001b[0m 2ms/step - acc: 0.3870 - auc: 0.4434 - loss: 0.7138 - val_acc: 0.2736 - val_auc: 0.0147 - val_loss: 0.6995\n",
      "Epoch 3/100\n",
      "\u001b[1m326/338\u001b[0m \u001b[32m━━━━━━━━━━━━━━━━━━━\u001b[0m\u001b[37m━\u001b[0m \u001b[1m0s\u001b[0m 2ms/step - acc: 0.6596 - auc: 0.6111 - loss: 0.6756\n",
      "Epoch 3: val_loss improved from 0.69952 to 0.68411, saving model to best_tab_only_fold2.h5\n"
     ]
    },
    {
     "name": "stderr",
     "output_type": "stream",
     "text": [
      "WARNING:absl:You are saving your model as an HDF5 file via `model.save()` or `keras.saving.save_model(model)`. This file format is considered legacy. We recommend using instead the native Keras format, e.g. `model.save('my_model.keras')` or `keras.saving.save_model(model, 'my_model.keras')`. \n"
     ]
    },
    {
     "name": "stdout",
     "output_type": "stream",
     "text": [
      "\b\b\b\b\b\b\b\b\b\b\b\b\b\b\b\b\b\b\b\b\b\b\b\b\b\b\b\b\b\b\b\b\b\b\b\b\b\b\b\b\b\b\b\b\b\b\b\b\b\b\b\b\b\b\b\b\b\b\b\b\b\b\b\b\b\b\b\b\b\b\b\b\b\b\b\b\b\b\b\b\b\b\b\r",
      "\u001b[1m338/338\u001b[0m \u001b[32m━━━━━━━━━━━━━━━━━━━━\u001b[0m\u001b[37m\u001b[0m \u001b[1m1s\u001b[0m 2ms/step - acc: 0.6599 - auc: 0.6114 - loss: 0.6753 - val_acc: 0.6415 - val_auc: 0.0000e+00 - val_loss: 0.6841\n",
      "Epoch 4/100\n",
      "\u001b[1m323/338\u001b[0m \u001b[32m━━━━━━━━━━━━━━━━━━━\u001b[0m\u001b[37m━\u001b[0m \u001b[1m0s\u001b[0m 2ms/step - acc: 0.6557 - auc: 0.6644 - loss: 0.6450\n",
      "Epoch 4: val_loss improved from 0.68411 to 0.67464, saving model to best_tab_only_fold2.h5\n"
     ]
    },
    {
     "name": "stderr",
     "output_type": "stream",
     "text": [
      "WARNING:absl:You are saving your model as an HDF5 file via `model.save()` or `keras.saving.save_model(model)`. This file format is considered legacy. We recommend using instead the native Keras format, e.g. `model.save('my_model.keras')` or `keras.saving.save_model(model, 'my_model.keras')`. \n"
     ]
    },
    {
     "name": "stdout",
     "output_type": "stream",
     "text": [
      "\b\b\b\b\b\b\b\b\b\b\b\b\b\b\b\b\b\b\b\b\b\b\b\b\b\b\b\b\b\b\b\b\b\b\b\b\b\b\b\b\b\b\b\b\b\b\b\b\b\b\b\b\b\b\b\b\b\b\b\b\b\b\b\b\b\b\b\b\b\b\b\b\b\b\b\b\b\b\b\b\b\b\b\r",
      "\u001b[1m338/338\u001b[0m \u001b[32m━━━━━━━━━━━━━━━━━━━━\u001b[0m\u001b[37m\u001b[0m \u001b[1m1s\u001b[0m 2ms/step - acc: 0.6556 - auc: 0.6627 - loss: 0.6451 - val_acc: 0.6415 - val_auc: 0.4118 - val_loss: 0.6746\n",
      "Epoch 5/100\n",
      "\u001b[1m316/338\u001b[0m \u001b[32m━━━━━━━━━━━━━━━━━━\u001b[0m\u001b[37m━━\u001b[0m \u001b[1m0s\u001b[0m 2ms/step - acc: 0.6586 - auc: 0.6617 - loss: 0.6367\n",
      "Epoch 5: val_loss did not improve from 0.67464\n",
      "\u001b[1m338/338\u001b[0m \u001b[32m━━━━━━━━━━━━━━━━━━━━\u001b[0m\u001b[37m\u001b[0m \u001b[1m1s\u001b[0m 2ms/step - acc: 0.6589 - auc: 0.6605 - loss: 0.6365 - val_acc: 0.6415 - val_auc: 0.2059 - val_loss: 0.6749\n",
      "Epoch 6/100\n",
      "\u001b[1m323/338\u001b[0m \u001b[32m━━━━━━━━━━━━━━━━━━━\u001b[0m\u001b[37m━\u001b[0m \u001b[1m0s\u001b[0m 2ms/step - acc: 0.6619 - auc: 0.6929 - loss: 0.6205\n",
      "Epoch 6: val_loss did not improve from 0.67464\n",
      "\u001b[1m338/338\u001b[0m \u001b[32m━━━━━━━━━━━━━━━━━━━━\u001b[0m\u001b[37m\u001b[0m \u001b[1m1s\u001b[0m 2ms/step - acc: 0.6622 - auc: 0.6919 - loss: 0.6205 - val_acc: 0.6415 - val_auc: 0.4118 - val_loss: 0.6787\n",
      "Epoch 7/100\n",
      "\u001b[1m319/338\u001b[0m \u001b[32m━━━━━━━━━━━━━━━━━━\u001b[0m\u001b[37m━━\u001b[0m \u001b[1m0s\u001b[0m 2ms/step - acc: 0.6671 - auc: 0.6368 - loss: 0.6241\n",
      "Epoch 7: val_loss did not improve from 0.67464\n",
      "\u001b[1m338/338\u001b[0m \u001b[32m━━━━━━━━━━━━━━━━━━━━\u001b[0m\u001b[37m\u001b[0m \u001b[1m1s\u001b[0m 2ms/step - acc: 0.6678 - auc: 0.6387 - loss: 0.6234 - val_acc: 0.6415 - val_auc: 0.4118 - val_loss: 0.6848\n",
      "Epoch 8/100\n",
      "\u001b[1m318/338\u001b[0m \u001b[32m━━━━━━━━━━━━━━━━━━\u001b[0m\u001b[37m━━\u001b[0m \u001b[1m0s\u001b[0m 2ms/step - acc: 0.6934 - auc: 0.6752 - loss: 0.6013\n",
      "Epoch 8: val_loss did not improve from 0.67464\n",
      "\u001b[1m338/338\u001b[0m \u001b[32m━━━━━━━━━━━━━━━━━━━━\u001b[0m\u001b[37m\u001b[0m \u001b[1m1s\u001b[0m 2ms/step - acc: 0.6925 - auc: 0.6745 - loss: 0.6018 - val_acc: 0.6415 - val_auc: 0.4118 - val_loss: 0.6903\n",
      "Epoch 9/100\n",
      "\u001b[1m325/338\u001b[0m \u001b[32m━━━━━━━━━━━━━━━━━━━\u001b[0m\u001b[37m━\u001b[0m \u001b[1m0s\u001b[0m 2ms/step - acc: 0.6768 - auc: 0.7374 - loss: 0.5952\n",
      "Epoch 9: val_loss did not improve from 0.67464\n",
      "\u001b[1m338/338\u001b[0m \u001b[32m━━━━━━━━━━━━━━━━━━━━\u001b[0m\u001b[37m\u001b[0m \u001b[1m1s\u001b[0m 2ms/step - acc: 0.6769 - auc: 0.7354 - loss: 0.5956 - val_acc: 0.6415 - val_auc: 0.4118 - val_loss: 0.6968\n",
      "Epoch 10/100\n",
      "\u001b[1m324/338\u001b[0m \u001b[32m━━━━━━━━━━━━━━━━━━━\u001b[0m\u001b[37m━\u001b[0m \u001b[1m0s\u001b[0m 2ms/step - acc: 0.6820 - auc: 0.7088 - loss: 0.5953\n",
      "Epoch 10: val_loss did not improve from 0.67464\n",
      "\u001b[1m338/338\u001b[0m \u001b[32m━━━━━━━━━━━━━━━━━━━━\u001b[0m\u001b[37m\u001b[0m \u001b[1m1s\u001b[0m 2ms/step - acc: 0.6819 - auc: 0.7081 - loss: 0.5955 - val_acc: 0.6415 - val_auc: 0.4118 - val_loss: 0.7033\n",
      "Epoch 11/100\n",
      "\u001b[1m323/338\u001b[0m \u001b[32m━━━━━━━━━━━━━━━━━━━\u001b[0m\u001b[37m━\u001b[0m \u001b[1m0s\u001b[0m 2ms/step - acc: 0.6771 - auc: 0.6946 - loss: 0.5972\n",
      "Epoch 11: val_loss did not improve from 0.67464\n",
      "\u001b[1m338/338\u001b[0m \u001b[32m━━━━━━━━━━━━━━━━━━━━\u001b[0m\u001b[37m\u001b[0m \u001b[1m1s\u001b[0m 2ms/step - acc: 0.6771 - auc: 0.6947 - loss: 0.5972 - val_acc: 0.6415 - val_auc: 0.4118 - val_loss: 0.7098\n",
      "Epoch 12/100\n",
      "\u001b[1m324/338\u001b[0m \u001b[32m━━━━━━━━━━━━━━━━━━━\u001b[0m\u001b[37m━\u001b[0m \u001b[1m0s\u001b[0m 2ms/step - acc: 0.6887 - auc: 0.7379 - loss: 0.5795\n",
      "Epoch 12: val_loss did not improve from 0.67464\n",
      "\u001b[1m338/338\u001b[0m \u001b[32m━━━━━━━━━━━━━━━━━━━━\u001b[0m\u001b[37m\u001b[0m \u001b[1m1s\u001b[0m 2ms/step - acc: 0.6884 - auc: 0.7366 - loss: 0.5800 - val_acc: 0.6415 - val_auc: 0.4118 - val_loss: 0.7162\n",
      "Epoch 13/100\n",
      "\u001b[1m321/338\u001b[0m \u001b[32m━━━━━━━━━━━━━━━━━━\u001b[0m\u001b[37m━━\u001b[0m \u001b[1m0s\u001b[0m 2ms/step - acc: 0.6894 - auc: 0.7086 - loss: 0.5895\n",
      "Epoch 13: val_loss did not improve from 0.67464\n",
      "\u001b[1m338/338\u001b[0m \u001b[32m━━━━━━━━━━━━━━━━━━━━\u001b[0m\u001b[37m\u001b[0m \u001b[1m1s\u001b[0m 2ms/step - acc: 0.6893 - auc: 0.7085 - loss: 0.5896 - val_acc: 0.6415 - val_auc: 0.4118 - val_loss: 0.7230\n",
      "Epoch 14/100\n",
      "\u001b[1m337/338\u001b[0m \u001b[32m━━━━━━━━━━━━━━━━━━━\u001b[0m\u001b[37m━\u001b[0m \u001b[1m0s\u001b[0m 2ms/step - acc: 0.6810 - auc: 0.7045 - loss: 0.5920\n",
      "Epoch 14: val_loss did not improve from 0.67464\n",
      "\u001b[1m338/338\u001b[0m \u001b[32m━━━━━━━━━━━━━━━━━━━━\u001b[0m\u001b[37m\u001b[0m \u001b[1m1s\u001b[0m 2ms/step - acc: 0.6810 - auc: 0.7045 - loss: 0.5919 - val_acc: 0.6415 - val_auc: 0.4118 - val_loss: 0.7286\n",
      "Epoch 15/100\n",
      "\u001b[1m317/338\u001b[0m \u001b[32m━━━━━━━━━━━━━━━━━━\u001b[0m\u001b[37m━━\u001b[0m \u001b[1m0s\u001b[0m 2ms/step - acc: 0.7005 - auc: 0.6973 - loss: 0.5765\n",
      "Epoch 15: val_loss did not improve from 0.67464\n",
      "\u001b[1m338/338\u001b[0m \u001b[32m━━━━━━━━━━━━━━━━━━━━\u001b[0m\u001b[37m\u001b[0m \u001b[1m1s\u001b[0m 2ms/step - acc: 0.7000 - auc: 0.6970 - loss: 0.5773 - val_acc: 0.6415 - val_auc: 0.4118 - val_loss: 0.7333\n",
      "Epoch 16/100\n",
      "\u001b[1m332/338\u001b[0m \u001b[32m━━━━━━━━━━━━━━━━━━━\u001b[0m\u001b[37m━\u001b[0m \u001b[1m0s\u001b[0m 2ms/step - acc: 0.6875 - auc: 0.7257 - loss: 0.5867\n",
      "Epoch 16: val_loss did not improve from 0.67464\n",
      "\u001b[1m338/338\u001b[0m \u001b[32m━━━━━━━━━━━━━━━━━━━━\u001b[0m\u001b[37m\u001b[0m \u001b[1m1s\u001b[0m 2ms/step - acc: 0.6881 - auc: 0.7251 - loss: 0.5867 - val_acc: 0.6415 - val_auc: 0.4118 - val_loss: 0.7369\n",
      "Epoch 17/100\n",
      "\u001b[1m322/338\u001b[0m \u001b[32m━━━━━━━━━━━━━━━━━━━\u001b[0m\u001b[37m━\u001b[0m \u001b[1m0s\u001b[0m 2ms/step - acc: 0.7538 - auc: 0.7136 - loss: 0.5711\n",
      "Epoch 17: val_loss did not improve from 0.67464\n",
      "\u001b[1m338/338\u001b[0m \u001b[32m━━━━━━━━━━━━━━━━━━━━\u001b[0m\u001b[37m\u001b[0m \u001b[1m1s\u001b[0m 2ms/step - acc: 0.7531 - auc: 0.7128 - loss: 0.5718 - val_acc: 0.6415 - val_auc: 0.4118 - val_loss: 0.7420\n",
      "Epoch 18/100\n",
      "\u001b[1m320/338\u001b[0m \u001b[32m━━━━━━━━━━━━━━━━━━\u001b[0m\u001b[37m━━\u001b[0m \u001b[1m0s\u001b[0m 2ms/step - acc: 0.7372 - auc: 0.7042 - loss: 0.5990\n",
      "Epoch 18: val_loss did not improve from 0.67464\n",
      "\u001b[1m338/338\u001b[0m \u001b[32m━━━━━━━━━━━━━━━━━━━━\u001b[0m\u001b[37m\u001b[0m \u001b[1m1s\u001b[0m 2ms/step - acc: 0.7387 - auc: 0.7043 - loss: 0.5979 - val_acc: 0.6415 - val_auc: 0.4118 - val_loss: 0.7470\n",
      "Epoch 19/100\n",
      "\u001b[1m321/338\u001b[0m \u001b[32m━━━━━━━━━━━━━━━━━━\u001b[0m\u001b[37m━━\u001b[0m \u001b[1m0s\u001b[0m 2ms/step - acc: 0.7810 - auc: 0.7235 - loss: 0.5694\n",
      "Epoch 19: val_loss did not improve from 0.67464\n",
      "\u001b[1m338/338\u001b[0m \u001b[32m━━━━━━━━━━━━━━━━━━━━\u001b[0m\u001b[37m\u001b[0m \u001b[1m1s\u001b[0m 2ms/step - acc: 0.7806 - auc: 0.7223 - loss: 0.5699 - val_acc: 0.6415 - val_auc: 0.4118 - val_loss: 0.7510\n",
      "Epoch 20/100\n",
      "\u001b[1m318/338\u001b[0m \u001b[32m━━━━━━━━━━━━━━━━━━\u001b[0m\u001b[37m━━\u001b[0m \u001b[1m0s\u001b[0m 2ms/step - acc: 0.7958 - auc: 0.7181 - loss: 0.5583\n",
      "Epoch 20: val_loss did not improve from 0.67464\n",
      "\u001b[1m338/338\u001b[0m \u001b[32m━━━━━━━━━━━━━━━━━━━━\u001b[0m\u001b[37m\u001b[0m \u001b[1m1s\u001b[0m 2ms/step - acc: 0.7946 - auc: 0.7173 - loss: 0.5592 - val_acc: 0.6415 - val_auc: 0.4118 - val_loss: 0.7546\n",
      "Epoch 21/100\n",
      "\u001b[1m318/338\u001b[0m \u001b[32m━━━━━━━━━━━━━━━━━━\u001b[0m\u001b[37m━━\u001b[0m \u001b[1m0s\u001b[0m 2ms/step - acc: 0.7927 - auc: 0.7356 - loss: 0.5548\n",
      "Epoch 21: val_loss did not improve from 0.67464\n",
      "\u001b[1m338/338\u001b[0m \u001b[32m━━━━━━━━━━━━━━━━━━━━\u001b[0m\u001b[37m\u001b[0m \u001b[1m1s\u001b[0m 2ms/step - acc: 0.7922 - auc: 0.7335 - loss: 0.5555 - val_acc: 0.6415 - val_auc: 0.4118 - val_loss: 0.7585\n",
      "Epoch 22/100\n",
      "\u001b[1m315/338\u001b[0m \u001b[32m━━━━━━━━━━━━━━━━━━\u001b[0m\u001b[37m━━\u001b[0m \u001b[1m0s\u001b[0m 2ms/step - acc: 0.7915 - auc: 0.6984 - loss: 0.5561\n",
      "Epoch 22: val_loss did not improve from 0.67464\n",
      "\u001b[1m338/338\u001b[0m \u001b[32m━━━━━━━━━━━━━━━━━━━━\u001b[0m\u001b[37m\u001b[0m \u001b[1m1s\u001b[0m 2ms/step - acc: 0.7912 - auc: 0.6996 - loss: 0.5566 - val_acc: 0.6415 - val_auc: 0.4118 - val_loss: 0.7626\n",
      "Epoch 23/100\n",
      "\u001b[1m312/338\u001b[0m \u001b[32m━━━━━━━━━━━━━━━━━━\u001b[0m\u001b[37m━━\u001b[0m \u001b[1m0s\u001b[0m 2ms/step - acc: 0.7999 - auc: 0.7153 - loss: 0.5446\n",
      "Epoch 23: val_loss did not improve from 0.67464\n",
      "\u001b[1m338/338\u001b[0m \u001b[32m━━━━━━━━━━━━━━━━━━━━\u001b[0m\u001b[37m\u001b[0m \u001b[1m1s\u001b[0m 2ms/step - acc: 0.7989 - auc: 0.7147 - loss: 0.5458 - val_acc: 0.6415 - val_auc: 0.4118 - val_loss: 0.7649\n",
      "Epoch 24/100\n",
      "\u001b[1m318/338\u001b[0m \u001b[32m━━━━━━━━━━━━━━━━━━\u001b[0m\u001b[37m━━\u001b[0m \u001b[1m0s\u001b[0m 2ms/step - acc: 0.8046 - auc: 0.7006 - loss: 0.5628\n",
      "Epoch 24: val_loss did not improve from 0.67464\n",
      "\u001b[1m338/338\u001b[0m \u001b[32m━━━━━━━━━━━━━━━━━━━━\u001b[0m\u001b[37m\u001b[0m \u001b[1m1s\u001b[0m 2ms/step - acc: 0.8041 - auc: 0.7002 - loss: 0.5628 - val_acc: 0.6415 - val_auc: 0.4118 - val_loss: 0.7660\n",
      "Epoch 25/100\n",
      "\u001b[1m317/338\u001b[0m \u001b[32m━━━━━━━━━━━━━━━━━━\u001b[0m\u001b[37m━━\u001b[0m \u001b[1m0s\u001b[0m 2ms/step - acc: 0.7921 - auc: 0.7059 - loss: 0.5545\n",
      "Epoch 25: val_loss did not improve from 0.67464\n",
      "\u001b[1m338/338\u001b[0m \u001b[32m━━━━━━━━━━━━━━━━━━━━\u001b[0m\u001b[37m\u001b[0m \u001b[1m1s\u001b[0m 2ms/step - acc: 0.7922 - auc: 0.7055 - loss: 0.5547 - val_acc: 0.6415 - val_auc: 0.4118 - val_loss: 0.7660\n",
      "Epoch 26/100\n",
      "\u001b[1m324/338\u001b[0m \u001b[32m━━━━━━━━━━━━━━━━━━━\u001b[0m\u001b[37m━\u001b[0m \u001b[1m0s\u001b[0m 2ms/step - acc: 0.7890 - auc: 0.6675 - loss: 0.5643\n",
      "Epoch 26: val_loss did not improve from 0.67464\n",
      "\u001b[1m338/338\u001b[0m \u001b[32m━━━━━━━━━━━━━━━━━━━━\u001b[0m\u001b[37m\u001b[0m \u001b[1m1s\u001b[0m 2ms/step - acc: 0.7896 - auc: 0.6691 - loss: 0.5637 - val_acc: 0.6415 - val_auc: 0.4118 - val_loss: 0.7662\n",
      "Epoch 27/100\n",
      "\u001b[1m318/338\u001b[0m \u001b[32m━━━━━━━━━━━━━━━━━━\u001b[0m\u001b[37m━━\u001b[0m \u001b[1m0s\u001b[0m 2ms/step - acc: 0.8110 - auc: 0.6975 - loss: 0.5567\n",
      "Epoch 27: val_loss did not improve from 0.67464\n",
      "\u001b[1m338/338\u001b[0m \u001b[32m━━━━━━━━━━━━━━━━━━━━\u001b[0m\u001b[37m\u001b[0m \u001b[1m1s\u001b[0m 2ms/step - acc: 0.8112 - auc: 0.6970 - loss: 0.5566 - val_acc: 0.6415 - val_auc: 0.4118 - val_loss: 0.7621\n",
      "Epoch 28/100\n",
      "\u001b[1m315/338\u001b[0m \u001b[32m━━━━━━━━━━━━━━━━━━\u001b[0m\u001b[37m━━\u001b[0m \u001b[1m0s\u001b[0m 2ms/step - acc: 0.8055 - auc: 0.6913 - loss: 0.5518\n",
      "Epoch 28: val_loss did not improve from 0.67464\n",
      "\u001b[1m338/338\u001b[0m \u001b[32m━━━━━━━━━━━━━━━━━━━━\u001b[0m\u001b[37m\u001b[0m \u001b[1m1s\u001b[0m 2ms/step - acc: 0.8055 - auc: 0.6920 - loss: 0.5515 - val_acc: 0.6415 - val_auc: 0.4118 - val_loss: 0.7622\n",
      "Epoch 29/100\n",
      "\u001b[1m338/338\u001b[0m \u001b[32m━━━━━━━━━━━━━━━━━━━━\u001b[0m\u001b[37m\u001b[0m \u001b[1m0s\u001b[0m 2ms/step - acc: 0.7944 - auc: 0.7228 - loss: 0.5318\n",
      "Epoch 29: val_loss did not improve from 0.67464\n",
      "\u001b[1m338/338\u001b[0m \u001b[32m━━━━━━━━━━━━━━━━━━━━\u001b[0m\u001b[37m\u001b[0m \u001b[1m1s\u001b[0m 2ms/step - acc: 0.7944 - auc: 0.7228 - loss: 0.5318 - val_acc: 0.6415 - val_auc: 0.4118 - val_loss: 0.7650\n",
      "Epoch 30/100\n",
      "\u001b[1m338/338\u001b[0m \u001b[32m━━━━━━━━━━━━━━━━━━━━\u001b[0m\u001b[37m\u001b[0m \u001b[1m0s\u001b[0m 2ms/step - acc: 0.8208 - auc: 0.7552 - loss: 0.5179\n",
      "Epoch 30: val_loss did not improve from 0.67464\n",
      "\u001b[1m338/338\u001b[0m \u001b[32m━━━━━━━━━━━━━━━━━━━━\u001b[0m\u001b[37m\u001b[0m \u001b[1m1s\u001b[0m 2ms/step - acc: 0.8207 - auc: 0.7550 - loss: 0.5180 - val_acc: 0.6415 - val_auc: 0.4118 - val_loss: 0.7618\n",
      "Epoch 31/100\n",
      "\u001b[1m323/338\u001b[0m \u001b[32m━━━━━━━━━━━━━━━━━━━\u001b[0m\u001b[37m━\u001b[0m \u001b[1m0s\u001b[0m 2ms/step - acc: 0.7867 - auc: 0.7188 - loss: 0.5414\n",
      "Epoch 31: val_loss did not improve from 0.67464\n",
      "\u001b[1m338/338\u001b[0m \u001b[32m━━━━━━━━━━━━━━━━━━━━\u001b[0m\u001b[37m\u001b[0m \u001b[1m1s\u001b[0m 2ms/step - acc: 0.7875 - auc: 0.7185 - loss: 0.5411 - val_acc: 0.6415 - val_auc: 0.4118 - val_loss: 0.7603\n",
      "Epoch 32/100\n",
      "\u001b[1m317/338\u001b[0m \u001b[32m━━━━━━━━━━━━━━━━━━\u001b[0m\u001b[37m━━\u001b[0m \u001b[1m0s\u001b[0m 2ms/step - acc: 0.8346 - auc: 0.7232 - loss: 0.5145\n",
      "Epoch 32: val_loss did not improve from 0.67464\n",
      "\u001b[1m338/338\u001b[0m \u001b[32m━━━━━━━━━━━━━━━━━━━━\u001b[0m\u001b[37m\u001b[0m \u001b[1m1s\u001b[0m 2ms/step - acc: 0.8331 - auc: 0.7213 - loss: 0.5162 - val_acc: 0.6415 - val_auc: 0.4118 - val_loss: 0.7573\n",
      "Epoch 33/100\n",
      "\u001b[1m320/338\u001b[0m \u001b[32m━━━━━━━━━━━━━━━━━━\u001b[0m\u001b[37m━━\u001b[0m \u001b[1m0s\u001b[0m 2ms/step - acc: 0.8185 - auc: 0.7253 - loss: 0.5139\n",
      "Epoch 33: val_loss did not improve from 0.67464\n",
      "\u001b[1m338/338\u001b[0m \u001b[32m━━━━━━━━━━━━━━━━━━━━\u001b[0m\u001b[37m\u001b[0m \u001b[1m1s\u001b[0m 2ms/step - acc: 0.8179 - auc: 0.7244 - loss: 0.5147 - val_acc: 0.6415 - val_auc: 0.4118 - val_loss: 0.7551\n",
      "Epoch 34/100\n",
      "\u001b[1m320/338\u001b[0m \u001b[32m━━━━━━━━━━━━━━━━━━\u001b[0m\u001b[37m━━\u001b[0m \u001b[1m0s\u001b[0m 2ms/step - acc: 0.8249 - auc: 0.7325 - loss: 0.5039\n",
      "Epoch 34: val_loss did not improve from 0.67464\n",
      "\u001b[1m338/338\u001b[0m \u001b[32m━━━━━━━━━━━━━━━━━━━━\u001b[0m\u001b[37m\u001b[0m \u001b[1m1s\u001b[0m 2ms/step - acc: 0.8246 - auc: 0.7309 - loss: 0.5049 - val_acc: 0.6415 - val_auc: 0.4118 - val_loss: 0.7532\n",
      "Epoch 35/100\n",
      "\u001b[1m320/338\u001b[0m \u001b[32m━━━━━━━━━━━━━━━━━━\u001b[0m\u001b[37m━━\u001b[0m \u001b[1m0s\u001b[0m 2ms/step - acc: 0.8221 - auc: 0.7459 - loss: 0.4976\n",
      "Epoch 35: val_loss did not improve from 0.67464\n",
      "\u001b[1m338/338\u001b[0m \u001b[32m━━━━━━━━━━━━━━━━━━━━\u001b[0m\u001b[37m\u001b[0m \u001b[1m1s\u001b[0m 2ms/step - acc: 0.8220 - auc: 0.7443 - loss: 0.4987 - val_acc: 0.6415 - val_auc: 0.4118 - val_loss: 0.7529\n",
      "Epoch 36/100\n",
      "\u001b[1m319/338\u001b[0m \u001b[32m━━━━━━━━━━━━━━━━━━\u001b[0m\u001b[37m━━\u001b[0m \u001b[1m0s\u001b[0m 2ms/step - acc: 0.8238 - auc: 0.7069 - loss: 0.5158\n",
      "Epoch 36: val_loss did not improve from 0.67464\n",
      "\u001b[1m338/338\u001b[0m \u001b[32m━━━━━━━━━━━━━━━━━━━━\u001b[0m\u001b[37m\u001b[0m \u001b[1m1s\u001b[0m 2ms/step - acc: 0.8238 - auc: 0.7076 - loss: 0.5155 - val_acc: 0.6415 - val_auc: 0.4118 - val_loss: 0.7536\n",
      "Epoch 37/100\n",
      "\u001b[1m322/338\u001b[0m \u001b[32m━━━━━━━━━━━━━━━━━━━\u001b[0m\u001b[37m━\u001b[0m \u001b[1m0s\u001b[0m 2ms/step - acc: 0.8060 - auc: 0.7123 - loss: 0.5321\n",
      "Epoch 37: val_loss did not improve from 0.67464\n",
      "\u001b[1m338/338\u001b[0m \u001b[32m━━━━━━━━━━━━━━━━━━━━\u001b[0m\u001b[37m\u001b[0m \u001b[1m1s\u001b[0m 2ms/step - acc: 0.8066 - auc: 0.7119 - loss: 0.5316 - val_acc: 0.6415 - val_auc: 0.4118 - val_loss: 0.7538\n",
      "Epoch 38/100\n",
      "\u001b[1m321/338\u001b[0m \u001b[32m━━━━━━━━━━━━━━━━━━\u001b[0m\u001b[37m━━\u001b[0m \u001b[1m0s\u001b[0m 2ms/step - acc: 0.8109 - auc: 0.7231 - loss: 0.5184\n",
      "Epoch 38: val_loss did not improve from 0.67464\n",
      "\u001b[1m338/338\u001b[0m \u001b[32m━━━━━━━━━━━━━━━━━━━━\u001b[0m\u001b[37m\u001b[0m \u001b[1m1s\u001b[0m 2ms/step - acc: 0.8111 - auc: 0.7223 - loss: 0.5185 - val_acc: 0.6415 - val_auc: 0.4118 - val_loss: 0.7524\n",
      "Epoch 39/100\n",
      "\u001b[1m323/338\u001b[0m \u001b[32m━━━━━━━━━━━━━━━━━━━\u001b[0m\u001b[37m━\u001b[0m \u001b[1m0s\u001b[0m 2ms/step - acc: 0.8128 - auc: 0.6973 - loss: 0.5308\n",
      "Epoch 39: val_loss did not improve from 0.67464\n",
      "\u001b[1m338/338\u001b[0m \u001b[32m━━━━━━━━━━━━━━━━━━━━\u001b[0m\u001b[37m\u001b[0m \u001b[1m1s\u001b[0m 2ms/step - acc: 0.8134 - auc: 0.6982 - loss: 0.5297 - val_acc: 0.6415 - val_auc: 0.4118 - val_loss: 0.7556\n",
      "Epoch 40/100\n",
      "\u001b[1m318/338\u001b[0m \u001b[32m━━━━━━━━━━━━━━━━━━\u001b[0m\u001b[37m━━\u001b[0m \u001b[1m0s\u001b[0m 2ms/step - acc: 0.8363 - auc: 0.7473 - loss: 0.4897\n",
      "Epoch 40: val_loss did not improve from 0.67464\n",
      "\u001b[1m338/338\u001b[0m \u001b[32m━━━━━━━━━━━━━━━━━━━━\u001b[0m\u001b[37m\u001b[0m \u001b[1m1s\u001b[0m 2ms/step - acc: 0.8356 - auc: 0.7451 - loss: 0.4908 - val_acc: 0.6415 - val_auc: 0.4118 - val_loss: 0.7532\n",
      "Epoch 41/100\n",
      "\u001b[1m323/338\u001b[0m \u001b[32m━━━━━━━━━━━━━━━━━━━\u001b[0m\u001b[37m━\u001b[0m \u001b[1m0s\u001b[0m 2ms/step - acc: 0.8406 - auc: 0.7100 - loss: 0.4958\n",
      "Epoch 41: val_loss did not improve from 0.67464\n",
      "\u001b[1m338/338\u001b[0m \u001b[32m━━━━━━━━━━━━━━━━━━━━\u001b[0m\u001b[37m\u001b[0m \u001b[1m1s\u001b[0m 2ms/step - acc: 0.8399 - auc: 0.7086 - loss: 0.4970 - val_acc: 0.6415 - val_auc: 0.4118 - val_loss: 0.7512\n",
      "Epoch 42/100\n",
      "\u001b[1m322/338\u001b[0m \u001b[32m━━━━━━━━━━━━━━━━━━━\u001b[0m\u001b[37m━\u001b[0m \u001b[1m0s\u001b[0m 2ms/step - acc: 0.8057 - auc: 0.7093 - loss: 0.5192\n",
      "Epoch 42: val_loss did not improve from 0.67464\n",
      "\u001b[1m338/338\u001b[0m \u001b[32m━━━━━━━━━━━━━━━━━━━━\u001b[0m\u001b[37m\u001b[0m \u001b[1m1s\u001b[0m 2ms/step - acc: 0.8066 - auc: 0.7100 - loss: 0.5183 - val_acc: 0.6415 - val_auc: 0.4118 - val_loss: 0.7532\n",
      "Epoch 43/100\n",
      "\u001b[1m322/338\u001b[0m \u001b[32m━━━━━━━━━━━━━━━━━━━\u001b[0m\u001b[37m━\u001b[0m \u001b[1m0s\u001b[0m 2ms/step - acc: 0.8237 - auc: 0.7044 - loss: 0.5004\n",
      "Epoch 43: val_loss did not improve from 0.67464\n",
      "\u001b[1m338/338\u001b[0m \u001b[32m━━━━━━━━━━━━━━━━━━━━\u001b[0m\u001b[37m\u001b[0m \u001b[1m1s\u001b[0m 2ms/step - acc: 0.8238 - auc: 0.7055 - loss: 0.4999 - val_acc: 0.6415 - val_auc: 0.4118 - val_loss: 0.7540\n",
      "Epoch 44/100\n",
      "\u001b[1m315/338\u001b[0m \u001b[32m━━━━━━━━━━━━━━━━━━\u001b[0m\u001b[37m━━\u001b[0m \u001b[1m0s\u001b[0m 2ms/step - acc: 0.8284 - auc: 0.7069 - loss: 0.5028\n",
      "Epoch 44: val_loss did not improve from 0.67464\n",
      "\u001b[1m338/338\u001b[0m \u001b[32m━━━━━━━━━━━━━━━━━━━━\u001b[0m\u001b[37m\u001b[0m \u001b[1m1s\u001b[0m 2ms/step - acc: 0.8281 - auc: 0.7062 - loss: 0.5031 - val_acc: 0.6415 - val_auc: 0.4118 - val_loss: 0.7529\n",
      "Epoch 45/100\n",
      "\u001b[1m331/338\u001b[0m \u001b[32m━━━━━━━━━━━━━━━━━━━\u001b[0m\u001b[37m━\u001b[0m \u001b[1m0s\u001b[0m 2ms/step - acc: 0.8480 - auc: 0.7270 - loss: 0.4765\n",
      "Epoch 45: val_loss did not improve from 0.67464\n",
      "\u001b[1m338/338\u001b[0m \u001b[32m━━━━━━━━━━━━━━━━━━━━\u001b[0m\u001b[37m\u001b[0m \u001b[1m1s\u001b[0m 2ms/step - acc: 0.8475 - auc: 0.7266 - loss: 0.4771 - val_acc: 0.6415 - val_auc: 0.4118 - val_loss: 0.7521\n",
      "Epoch 46/100\n",
      "\u001b[1m331/338\u001b[0m \u001b[32m━━━━━━━━━━━━━━━━━━━\u001b[0m\u001b[37m━\u001b[0m \u001b[1m0s\u001b[0m 2ms/step - acc: 0.8208 - auc: 0.6969 - loss: 0.5093\n",
      "Epoch 46: val_loss did not improve from 0.67464\n",
      "\u001b[1m338/338\u001b[0m \u001b[32m━━━━━━━━━━━━━━━━━━━━\u001b[0m\u001b[37m\u001b[0m \u001b[1m1s\u001b[0m 2ms/step - acc: 0.8208 - auc: 0.6973 - loss: 0.5091 - val_acc: 0.6415 - val_auc: 0.4118 - val_loss: 0.7542\n",
      "Epoch 47/100\n",
      "\u001b[1m317/338\u001b[0m \u001b[32m━━━━━━━━━━━━━━━━━━\u001b[0m\u001b[37m━━\u001b[0m \u001b[1m0s\u001b[0m 2ms/step - acc: 0.8251 - auc: 0.6653 - loss: 0.5003\n",
      "Epoch 47: val_loss did not improve from 0.67464\n",
      "\u001b[1m338/338\u001b[0m \u001b[32m━━━━━━━━━━━━━━━━━━━━\u001b[0m\u001b[37m\u001b[0m \u001b[1m1s\u001b[0m 2ms/step - acc: 0.8250 - auc: 0.6668 - loss: 0.5006 - val_acc: 0.6415 - val_auc: 0.4118 - val_loss: 0.7511\n",
      "Epoch 48/100\n",
      "\u001b[1m321/338\u001b[0m \u001b[32m━━━━━━━━━━━━━━━━━━\u001b[0m\u001b[37m━━\u001b[0m \u001b[1m0s\u001b[0m 2ms/step - acc: 0.8187 - auc: 0.7031 - loss: 0.4950\n",
      "Epoch 48: val_loss did not improve from 0.67464\n",
      "\u001b[1m338/338\u001b[0m \u001b[32m━━━━━━━━━━━━━━━━━━━━\u001b[0m\u001b[37m\u001b[0m \u001b[1m1s\u001b[0m 2ms/step - acc: 0.8190 - auc: 0.7035 - loss: 0.4947 - val_acc: 0.6415 - val_auc: 0.4118 - val_loss: 0.7540\n",
      "Epoch 49/100\n",
      "\u001b[1m315/338\u001b[0m \u001b[32m━━━━━━━━━━━━━━━━━━\u001b[0m\u001b[37m━━\u001b[0m \u001b[1m0s\u001b[0m 2ms/step - acc: 0.8135 - auc: 0.6726 - loss: 0.5177\n",
      "Epoch 49: val_loss did not improve from 0.67464\n",
      "\u001b[1m338/338\u001b[0m \u001b[32m━━━━━━━━━━━━━━━━━━━━\u001b[0m\u001b[37m\u001b[0m \u001b[1m1s\u001b[0m 2ms/step - acc: 0.8141 - auc: 0.6753 - loss: 0.5157 - val_acc: 0.6415 - val_auc: 0.4118 - val_loss: 0.7557\n",
      "Epoch 50/100\n",
      "\u001b[1m322/338\u001b[0m \u001b[32m━━━━━━━━━━━━━━━━━━━\u001b[0m\u001b[37m━\u001b[0m \u001b[1m0s\u001b[0m 2ms/step - acc: 0.8257 - auc: 0.6943 - loss: 0.4931\n",
      "Epoch 50: val_loss did not improve from 0.67464\n",
      "\u001b[1m338/338\u001b[0m \u001b[32m━━━━━━━━━━━━━━━━━━━━\u001b[0m\u001b[37m\u001b[0m \u001b[1m1s\u001b[0m 2ms/step - acc: 0.8259 - auc: 0.6951 - loss: 0.4927 - val_acc: 0.6415 - val_auc: 0.4118 - val_loss: 0.7551\n",
      "Epoch 51/100\n",
      "\u001b[1m315/338\u001b[0m \u001b[32m━━━━━━━━━━━━━━━━━━\u001b[0m\u001b[37m━━\u001b[0m \u001b[1m0s\u001b[0m 2ms/step - acc: 0.8289 - auc: 0.6901 - loss: 0.4968\n",
      "Epoch 51: val_loss did not improve from 0.67464\n",
      "\u001b[1m338/338\u001b[0m \u001b[32m━━━━━━━━━━━━━━━━━━━━\u001b[0m\u001b[37m\u001b[0m \u001b[1m1s\u001b[0m 2ms/step - acc: 0.8288 - auc: 0.6915 - loss: 0.4963 - val_acc: 0.6415 - val_auc: 0.4118 - val_loss: 0.7539\n",
      "Epoch 52/100\n",
      "\u001b[1m324/338\u001b[0m \u001b[32m━━━━━━━━━━━━━━━━━━━\u001b[0m\u001b[37m━\u001b[0m \u001b[1m0s\u001b[0m 2ms/step - acc: 0.8281 - auc: 0.7361 - loss: 0.4748\n",
      "Epoch 52: val_loss did not improve from 0.67464\n",
      "\u001b[1m338/338\u001b[0m \u001b[32m━━━━━━━━━━━━━━━━━━━━\u001b[0m\u001b[37m\u001b[0m \u001b[1m1s\u001b[0m 2ms/step - acc: 0.8280 - auc: 0.7352 - loss: 0.4752 - val_acc: 0.6415 - val_auc: 0.4118 - val_loss: 0.7533\n",
      "Epoch 53/100\n",
      "\u001b[1m323/338\u001b[0m \u001b[32m━━━━━━━━━━━━━━━━━━━\u001b[0m\u001b[37m━\u001b[0m \u001b[1m0s\u001b[0m 2ms/step - acc: 0.8253 - auc: 0.7171 - loss: 0.4815\n",
      "Epoch 53: val_loss did not improve from 0.67464\n",
      "\u001b[1m338/338\u001b[0m \u001b[32m━━━━━━━━━━━━━━━━━━━━\u001b[0m\u001b[37m\u001b[0m \u001b[1m1s\u001b[0m 2ms/step - acc: 0.8254 - auc: 0.7164 - loss: 0.4817 - val_acc: 0.6415 - val_auc: 0.4118 - val_loss: 0.7535\n",
      "Epoch 54/100\n",
      "\u001b[1m325/338\u001b[0m \u001b[32m━━━━━━━━━━━━━━━━━━━\u001b[0m\u001b[37m━\u001b[0m \u001b[1m0s\u001b[0m 2ms/step - acc: 0.8382 - auc: 0.7300 - loss: 0.4533\n",
      "Epoch 54: val_loss did not improve from 0.67464\n",
      "\u001b[1m338/338\u001b[0m \u001b[32m━━━━━━━━━━━━━━━━━━━━\u001b[0m\u001b[37m\u001b[0m \u001b[1m1s\u001b[0m 2ms/step - acc: 0.8376 - auc: 0.7293 - loss: 0.4543 - val_acc: 0.6415 - val_auc: 0.4118 - val_loss: 0.7518\n",
      "Epoch 55/100\n",
      "\u001b[1m322/338\u001b[0m \u001b[32m━━━━━━━━━━━━━━━━━━━\u001b[0m\u001b[37m━\u001b[0m \u001b[1m0s\u001b[0m 2ms/step - acc: 0.8403 - auc: 0.7264 - loss: 0.4649\n",
      "Epoch 55: val_loss did not improve from 0.67464\n",
      "\u001b[1m338/338\u001b[0m \u001b[32m━━━━━━━━━━━━━━━━━━━━\u001b[0m\u001b[37m\u001b[0m \u001b[1m1s\u001b[0m 2ms/step - acc: 0.8397 - auc: 0.7256 - loss: 0.4657 - val_acc: 0.6415 - val_auc: 0.4118 - val_loss: 0.7511\n",
      "Epoch 56/100\n",
      "\u001b[1m328/338\u001b[0m \u001b[32m━━━━━━━━━━━━━━━━━━━\u001b[0m\u001b[37m━\u001b[0m \u001b[1m0s\u001b[0m 2ms/step - acc: 0.8494 - auc: 0.7345 - loss: 0.4411\n",
      "Epoch 56: val_loss did not improve from 0.67464\n",
      "\u001b[1m338/338\u001b[0m \u001b[32m━━━━━━━━━━━━━━━━━━━━\u001b[0m\u001b[37m\u001b[0m \u001b[1m1s\u001b[0m 2ms/step - acc: 0.8487 - auc: 0.7342 - loss: 0.4421 - val_acc: 0.6415 - val_auc: 0.4118 - val_loss: 0.7492\n",
      "Epoch 57/100\n",
      "\u001b[1m326/338\u001b[0m \u001b[32m━━━━━━━━━━━━━━━━━━━\u001b[0m\u001b[37m━\u001b[0m \u001b[1m0s\u001b[0m 2ms/step - acc: 0.8214 - auc: 0.7241 - loss: 0.4802\n",
      "Epoch 57: val_loss did not improve from 0.67464\n",
      "\u001b[1m338/338\u001b[0m \u001b[32m━━━━━━━━━━━━━━━━━━━━\u001b[0m\u001b[37m\u001b[0m \u001b[1m1s\u001b[0m 2ms/step - acc: 0.8217 - auc: 0.7239 - loss: 0.4800 - val_acc: 0.6415 - val_auc: 0.4118 - val_loss: 0.7491\n",
      "Epoch 58/100\n",
      "\u001b[1m326/338\u001b[0m \u001b[32m━━━━━━━━━━━━━━━━━━━\u001b[0m\u001b[37m━\u001b[0m \u001b[1m0s\u001b[0m 2ms/step - acc: 0.8199 - auc: 0.7146 - loss: 0.4810\n",
      "Epoch 58: val_loss did not improve from 0.67464\n",
      "\u001b[1m338/338\u001b[0m \u001b[32m━━━━━━━━━━━━━━━━━━━━\u001b[0m\u001b[37m\u001b[0m \u001b[1m1s\u001b[0m 2ms/step - acc: 0.8201 - auc: 0.7152 - loss: 0.4807 - val_acc: 0.6415 - val_auc: 0.4118 - val_loss: 0.7509\n",
      "Epoch 59/100\n",
      "\u001b[1m315/338\u001b[0m \u001b[32m━━━━━━━━━━━━━━━━━━\u001b[0m\u001b[37m━━\u001b[0m \u001b[1m0s\u001b[0m 2ms/step - acc: 0.8284 - auc: 0.7223 - loss: 0.4695\n",
      "Epoch 59: val_loss did not improve from 0.67464\n",
      "\u001b[1m338/338\u001b[0m \u001b[32m━━━━━━━━━━━━━━━━━━━━\u001b[0m\u001b[37m\u001b[0m \u001b[1m1s\u001b[0m 2ms/step - acc: 0.8282 - auc: 0.7224 - loss: 0.4696 - val_acc: 0.6415 - val_auc: 0.4118 - val_loss: 0.7525\n",
      "Epoch 60/100\n",
      "\u001b[1m319/338\u001b[0m \u001b[32m━━━━━━━━━━━━━━━━━━\u001b[0m\u001b[37m━━\u001b[0m \u001b[1m0s\u001b[0m 2ms/step - acc: 0.8161 - auc: 0.7229 - loss: 0.4820\n",
      "Epoch 60: val_loss did not improve from 0.67464\n",
      "\u001b[1m338/338\u001b[0m \u001b[32m━━━━━━━━━━━━━━━━━━━━\u001b[0m\u001b[37m\u001b[0m \u001b[1m1s\u001b[0m 2ms/step - acc: 0.8166 - auc: 0.7230 - loss: 0.4813 - val_acc: 0.6415 - val_auc: 0.4118 - val_loss: 0.7487\n",
      "Epoch 61/100\n",
      "\u001b[1m338/338\u001b[0m \u001b[32m━━━━━━━━━━━━━━━━━━━━\u001b[0m\u001b[37m\u001b[0m \u001b[1m0s\u001b[0m 2ms/step - acc: 0.8333 - auc: 0.7497 - loss: 0.4535\n",
      "Epoch 61: val_loss did not improve from 0.67464\n",
      "\u001b[1m338/338\u001b[0m \u001b[32m━━━━━━━━━━━━━━━━━━━━\u001b[0m\u001b[37m\u001b[0m \u001b[1m1s\u001b[0m 2ms/step - acc: 0.8332 - auc: 0.7497 - loss: 0.4535 - val_acc: 0.6415 - val_auc: 0.4118 - val_loss: 0.7520\n",
      "Epoch 62/100\n",
      "\u001b[1m317/338\u001b[0m \u001b[32m━━━━━━━━━━━━━━━━━━\u001b[0m\u001b[37m━━\u001b[0m \u001b[1m0s\u001b[0m 2ms/step - acc: 0.8158 - auc: 0.6838 - loss: 0.4881\n",
      "Epoch 62: val_loss did not improve from 0.67464\n",
      "\u001b[1m338/338\u001b[0m \u001b[32m━━━━━━━━━━━━━━━━━━━━\u001b[0m\u001b[37m\u001b[0m \u001b[1m1s\u001b[0m 2ms/step - acc: 0.8164 - auc: 0.6865 - loss: 0.4867 - val_acc: 0.6415 - val_auc: 0.4118 - val_loss: 0.7514\n",
      "Epoch 63/100\n",
      "\u001b[1m325/338\u001b[0m \u001b[32m━━━━━━━━━━━━━━━━━━━\u001b[0m\u001b[37m━\u001b[0m \u001b[1m0s\u001b[0m 2ms/step - acc: 0.8242 - auc: 0.7311 - loss: 0.4654\n",
      "Epoch 63: val_loss did not improve from 0.67464\n",
      "\u001b[1m338/338\u001b[0m \u001b[32m━━━━━━━━━━━━━━━━━━━━\u001b[0m\u001b[37m\u001b[0m \u001b[1m1s\u001b[0m 2ms/step - acc: 0.8243 - auc: 0.7314 - loss: 0.4652 - val_acc: 0.6415 - val_auc: 0.4118 - val_loss: 0.7527\n",
      "Epoch 64/100\n",
      "\u001b[1m321/338\u001b[0m \u001b[32m━━━━━━━━━━━━━━━━━━\u001b[0m\u001b[37m━━\u001b[0m \u001b[1m0s\u001b[0m 2ms/step - acc: 0.8286 - auc: 0.7206 - loss: 0.4654\n",
      "Epoch 64: val_loss did not improve from 0.67464\n",
      "\u001b[1m338/338\u001b[0m \u001b[32m━━━━━━━━━━━━━━━━━━━━\u001b[0m\u001b[37m\u001b[0m \u001b[1m1s\u001b[0m 2ms/step - acc: 0.8288 - auc: 0.7207 - loss: 0.4652 - val_acc: 0.6415 - val_auc: 0.4118 - val_loss: 0.7484\n",
      "Epoch 65/100\n",
      "\u001b[1m321/338\u001b[0m \u001b[32m━━━━━━━━━━━━━━━━━━\u001b[0m\u001b[37m━━\u001b[0m \u001b[1m0s\u001b[0m 2ms/step - acc: 0.8301 - auc: 0.7106 - loss: 0.4664\n",
      "Epoch 65: val_loss did not improve from 0.67464\n",
      "\u001b[1m338/338\u001b[0m \u001b[32m━━━━━━━━━━━━━━━━━━━━\u001b[0m\u001b[37m\u001b[0m \u001b[1m1s\u001b[0m 2ms/step - acc: 0.8301 - auc: 0.7132 - loss: 0.4654 - val_acc: 0.6415 - val_auc: 0.4118 - val_loss: 0.7549\n",
      "Epoch 66/100\n",
      "\u001b[1m321/338\u001b[0m \u001b[32m━━━━━━━━━━━━━━━━━━\u001b[0m\u001b[37m━━\u001b[0m \u001b[1m0s\u001b[0m 2ms/step - acc: 0.8155 - auc: 0.7458 - loss: 0.4625\n",
      "Epoch 66: val_loss did not improve from 0.67464\n",
      "\u001b[1m338/338\u001b[0m \u001b[32m━━━━━━━━━━━━━━━━━━━━\u001b[0m\u001b[37m\u001b[0m \u001b[1m1s\u001b[0m 2ms/step - acc: 0.8160 - auc: 0.7448 - loss: 0.4624 - val_acc: 0.6415 - val_auc: 0.4118 - val_loss: 0.7538\n",
      "Epoch 67/100\n",
      "\u001b[1m323/338\u001b[0m \u001b[32m━━━━━━━━━━━━━━━━━━━\u001b[0m\u001b[37m━\u001b[0m \u001b[1m0s\u001b[0m 2ms/step - acc: 0.8358 - auc: 0.7540 - loss: 0.4454\n",
      "Epoch 67: val_loss did not improve from 0.67464\n",
      "\u001b[1m338/338\u001b[0m \u001b[32m━━━━━━━━━━━━━━━━━━━━\u001b[0m\u001b[37m\u001b[0m \u001b[1m1s\u001b[0m 2ms/step - acc: 0.8355 - auc: 0.7525 - loss: 0.4461 - val_acc: 0.6415 - val_auc: 0.4118 - val_loss: 0.7496\n",
      "Epoch 68/100\n",
      "\u001b[1m326/338\u001b[0m \u001b[32m━━━━━━━━━━━━━━━━━━━\u001b[0m\u001b[37m━\u001b[0m \u001b[1m0s\u001b[0m 2ms/step - acc: 0.8190 - auc: 0.7036 - loss: 0.4758\n",
      "Epoch 68: val_loss did not improve from 0.67464\n",
      "\u001b[1m338/338\u001b[0m \u001b[32m━━━━━━━━━━━━━━━━━━━━\u001b[0m\u001b[37m\u001b[0m \u001b[1m1s\u001b[0m 2ms/step - acc: 0.8192 - auc: 0.7049 - loss: 0.4751 - val_acc: 0.6415 - val_auc: 0.4118 - val_loss: 0.7485\n",
      "Epoch 69/100\n",
      "\u001b[1m325/338\u001b[0m \u001b[32m━━━━━━━━━━━━━━━━━━━\u001b[0m\u001b[37m━\u001b[0m \u001b[1m0s\u001b[0m 2ms/step - acc: 0.8152 - auc: 0.7638 - loss: 0.4562\n",
      "Epoch 69: val_loss did not improve from 0.67464\n",
      "\u001b[1m338/338\u001b[0m \u001b[32m━━━━━━━━━━━━━━━━━━━━\u001b[0m\u001b[37m\u001b[0m \u001b[1m1s\u001b[0m 2ms/step - acc: 0.8157 - auc: 0.7631 - loss: 0.4560 - val_acc: 0.6415 - val_auc: 0.4118 - val_loss: 0.7522\n",
      "Epoch 70/100\n",
      "\u001b[1m318/338\u001b[0m \u001b[32m━━━━━━━━━━━━━━━━━━\u001b[0m\u001b[37m━━\u001b[0m \u001b[1m0s\u001b[0m 2ms/step - acc: 0.8127 - auc: 0.7339 - loss: 0.4689\n",
      "Epoch 70: val_loss did not improve from 0.67464\n",
      "\u001b[1m338/338\u001b[0m \u001b[32m━━━━━━━━━━━━━━━━━━━━\u001b[0m\u001b[37m\u001b[0m \u001b[1m1s\u001b[0m 2ms/step - acc: 0.8135 - auc: 0.7346 - loss: 0.4679 - val_acc: 0.6415 - val_auc: 0.4118 - val_loss: 0.7542\n",
      "Epoch 71/100\n",
      "\u001b[1m313/338\u001b[0m \u001b[32m━━━━━━━━━━━━━━━━━━\u001b[0m\u001b[37m━━\u001b[0m \u001b[1m0s\u001b[0m 2ms/step - acc: 0.8396 - auc: 0.7292 - loss: 0.4407\n",
      "Epoch 71: val_loss did not improve from 0.67464\n",
      "\u001b[1m338/338\u001b[0m \u001b[32m━━━━━━━━━━━━━━━━━━━━\u001b[0m\u001b[37m\u001b[0m \u001b[1m1s\u001b[0m 2ms/step - acc: 0.8388 - auc: 0.7292 - loss: 0.4417 - val_acc: 0.6415 - val_auc: 0.4118 - val_loss: 0.7481\n",
      "Epoch 72/100\n",
      "\u001b[1m318/338\u001b[0m \u001b[32m━━━━━━━━━━━━━━━━━━\u001b[0m\u001b[37m━━\u001b[0m \u001b[1m0s\u001b[0m 2ms/step - acc: 0.8289 - auc: 0.7662 - loss: 0.4393\n",
      "Epoch 72: val_loss did not improve from 0.67464\n",
      "\u001b[1m338/338\u001b[0m \u001b[32m━━━━━━━━━━━━━━━━━━━━\u001b[0m\u001b[37m\u001b[0m \u001b[1m1s\u001b[0m 2ms/step - acc: 0.8286 - auc: 0.7651 - loss: 0.4401 - val_acc: 0.6415 - val_auc: 0.4118 - val_loss: 0.7477\n",
      "Epoch 73/100\n",
      "\u001b[1m324/338\u001b[0m \u001b[32m━━━━━━━━━━━━━━━━━━━\u001b[0m\u001b[37m━\u001b[0m \u001b[1m0s\u001b[0m 2ms/step - acc: 0.8257 - auc: 0.7131 - loss: 0.4604\n",
      "Epoch 73: val_loss did not improve from 0.67464\n",
      "\u001b[1m338/338\u001b[0m \u001b[32m━━━━━━━━━━━━━━━━━━━━\u001b[0m\u001b[37m\u001b[0m \u001b[1m1s\u001b[0m 2ms/step - acc: 0.8257 - auc: 0.7136 - loss: 0.4603 - val_acc: 0.6415 - val_auc: 0.4118 - val_loss: 0.7485\n",
      "Epoch 74/100\n",
      "\u001b[1m319/338\u001b[0m \u001b[32m━━━━━━━━━━━━━━━━━━\u001b[0m\u001b[37m━━\u001b[0m \u001b[1m0s\u001b[0m 2ms/step - acc: 0.8341 - auc: 0.7191 - loss: 0.4497\n",
      "Epoch 74: val_loss did not improve from 0.67464\n",
      "\u001b[1m338/338\u001b[0m \u001b[32m━━━━━━━━━━━━━━━━━━━━\u001b[0m\u001b[37m\u001b[0m \u001b[1m1s\u001b[0m 2ms/step - acc: 0.8337 - auc: 0.7201 - loss: 0.4498 - val_acc: 0.6415 - val_auc: 0.4118 - val_loss: 0.7486\n",
      "Epoch 75/100\n",
      "\u001b[1m313/338\u001b[0m \u001b[32m━━━━━━━━━━━━━━━━━━\u001b[0m\u001b[37m━━\u001b[0m \u001b[1m0s\u001b[0m 2ms/step - acc: 0.8178 - auc: 0.7875 - loss: 0.4401\n",
      "Epoch 75: val_loss did not improve from 0.67464\n",
      "\u001b[1m338/338\u001b[0m \u001b[32m━━━━━━━━━━━━━━━━━━━━\u001b[0m\u001b[37m\u001b[0m \u001b[1m1s\u001b[0m 2ms/step - acc: 0.8186 - auc: 0.7863 - loss: 0.4400 - val_acc: 0.6415 - val_auc: 0.4118 - val_loss: 0.7512\n",
      "Epoch 76/100\n",
      "\u001b[1m334/338\u001b[0m \u001b[32m━━━━━━━━━━━━━━━━━━━\u001b[0m\u001b[37m━\u001b[0m \u001b[1m0s\u001b[0m 2ms/step - acc: 0.8215 - auc: 0.7216 - loss: 0.4697\n",
      "Epoch 76: val_loss did not improve from 0.67464\n",
      "\u001b[1m338/338\u001b[0m \u001b[32m━━━━━━━━━━━━━━━━━━━━\u001b[0m\u001b[37m\u001b[0m \u001b[1m1s\u001b[0m 2ms/step - acc: 0.8215 - auc: 0.7215 - loss: 0.4696 - val_acc: 0.6415 - val_auc: 0.4118 - val_loss: 0.7490\n",
      "Epoch 77/100\n",
      "\u001b[1m333/338\u001b[0m \u001b[32m━━━━━━━━━━━━━━━━━━━\u001b[0m\u001b[37m━\u001b[0m \u001b[1m0s\u001b[0m 2ms/step - acc: 0.8248 - auc: 0.7667 - loss: 0.4388\n",
      "Epoch 77: val_loss did not improve from 0.67464\n",
      "\u001b[1m338/338\u001b[0m \u001b[32m━━━━━━━━━━━━━━━━━━━━\u001b[0m\u001b[37m\u001b[0m \u001b[1m1s\u001b[0m 2ms/step - acc: 0.8249 - auc: 0.7667 - loss: 0.4387 - val_acc: 0.6415 - val_auc: 0.4118 - val_loss: 0.7482\n",
      "Epoch 78/100\n",
      "\u001b[1m321/338\u001b[0m \u001b[32m━━━━━━━━━━━━━━━━━━\u001b[0m\u001b[37m━━\u001b[0m \u001b[1m0s\u001b[0m 2ms/step - acc: 0.8214 - auc: 0.7792 - loss: 0.4408\n",
      "Epoch 78: val_loss did not improve from 0.67464\n",
      "\u001b[1m338/338\u001b[0m \u001b[32m━━━━━━━━━━━━━━━━━━━━\u001b[0m\u001b[37m\u001b[0m \u001b[1m1s\u001b[0m 2ms/step - acc: 0.8215 - auc: 0.7781 - loss: 0.4411 - val_acc: 0.6415 - val_auc: 0.4118 - val_loss: 0.7479\n",
      "Epoch 79/100\n",
      "\u001b[1m324/338\u001b[0m \u001b[32m━━━━━━━━━━━━━━━━━━━\u001b[0m\u001b[37m━\u001b[0m \u001b[1m0s\u001b[0m 2ms/step - acc: 0.8234 - auc: 0.7144 - loss: 0.4597\n",
      "Epoch 79: val_loss did not improve from 0.67464\n",
      "\u001b[1m338/338\u001b[0m \u001b[32m━━━━━━━━━━━━━━━━━━━━\u001b[0m\u001b[37m\u001b[0m \u001b[1m1s\u001b[0m 2ms/step - acc: 0.8234 - auc: 0.7152 - loss: 0.4594 - val_acc: 0.6415 - val_auc: 0.4118 - val_loss: 0.7455\n",
      "Epoch 80/100\n",
      "\u001b[1m328/338\u001b[0m \u001b[32m━━━━━━━━━━━━━━━━━━━\u001b[0m\u001b[37m━\u001b[0m \u001b[1m0s\u001b[0m 2ms/step - acc: 0.8087 - auc: 0.7221 - loss: 0.4747\n",
      "Epoch 80: val_loss did not improve from 0.67464\n",
      "\u001b[1m338/338\u001b[0m \u001b[32m━━━━━━━━━━━━━━━━━━━━\u001b[0m\u001b[37m\u001b[0m \u001b[1m1s\u001b[0m 2ms/step - acc: 0.8091 - auc: 0.7229 - loss: 0.4739 - val_acc: 0.6415 - val_auc: 0.4118 - val_loss: 0.7434\n",
      "Epoch 81/100\n",
      "\u001b[1m317/338\u001b[0m \u001b[32m━━━━━━━━━━━━━━━━━━\u001b[0m\u001b[37m━━\u001b[0m \u001b[1m0s\u001b[0m 2ms/step - acc: 0.8230 - auc: 0.7587 - loss: 0.4440\n",
      "Epoch 81: val_loss did not improve from 0.67464\n",
      "\u001b[1m338/338\u001b[0m \u001b[32m━━━━━━━━━━━━━━━━━━━━\u001b[0m\u001b[37m\u001b[0m \u001b[1m1s\u001b[0m 2ms/step - acc: 0.8234 - auc: 0.7581 - loss: 0.4440 - val_acc: 0.6415 - val_auc: 0.4118 - val_loss: 0.7457\n",
      "Epoch 82/100\n",
      "\u001b[1m322/338\u001b[0m \u001b[32m━━━━━━━━━━━━━━━━━━━\u001b[0m\u001b[37m━\u001b[0m \u001b[1m0s\u001b[0m 2ms/step - acc: 0.8264 - auc: 0.7908 - loss: 0.4240\n",
      "Epoch 82: val_loss did not improve from 0.67464\n",
      "\u001b[1m338/338\u001b[0m \u001b[32m━━━━━━━━━━━━━━━━━━━━\u001b[0m\u001b[37m\u001b[0m \u001b[1m1s\u001b[0m 2ms/step - acc: 0.8265 - auc: 0.7911 - loss: 0.4240 - val_acc: 0.6415 - val_auc: 0.4118 - val_loss: 0.7496\n",
      "Epoch 83/100\n",
      "\u001b[1m319/338\u001b[0m \u001b[32m━━━━━━━━━━━━━━━━━━\u001b[0m\u001b[37m━━\u001b[0m \u001b[1m0s\u001b[0m 2ms/step - acc: 0.8450 - auc: 0.7506 - loss: 0.4252\n",
      "Epoch 83: val_loss did not improve from 0.67464\n",
      "\u001b[1m338/338\u001b[0m \u001b[32m━━━━━━━━━━━━━━━━━━━━\u001b[0m\u001b[37m\u001b[0m \u001b[1m1s\u001b[0m 2ms/step - acc: 0.8439 - auc: 0.7491 - loss: 0.4268 - val_acc: 0.6415 - val_auc: 0.4118 - val_loss: 0.7468\n",
      "Epoch 84/100\n",
      "\u001b[1m321/338\u001b[0m \u001b[32m━━━━━━━━━━━━━━━━━━\u001b[0m\u001b[37m━━\u001b[0m \u001b[1m0s\u001b[0m 2ms/step - acc: 0.8041 - auc: 0.7447 - loss: 0.4657\n",
      "Epoch 84: val_loss did not improve from 0.67464\n",
      "\u001b[1m338/338\u001b[0m \u001b[32m━━━━━━━━━━━━━━━━━━━━\u001b[0m\u001b[37m\u001b[0m \u001b[1m1s\u001b[0m 2ms/step - acc: 0.8052 - auc: 0.7448 - loss: 0.4646 - val_acc: 0.6415 - val_auc: 0.4118 - val_loss: 0.7454\n",
      "Epoch 85/100\n",
      "\u001b[1m319/338\u001b[0m \u001b[32m━━━━━━━━━━━━━━━━━━\u001b[0m\u001b[37m━━\u001b[0m \u001b[1m0s\u001b[0m 2ms/step - acc: 0.8304 - auc: 0.6917 - loss: 0.4534\n",
      "Epoch 85: val_loss did not improve from 0.67464\n",
      "\u001b[1m338/338\u001b[0m \u001b[32m━━━━━━━━━━━━━━━━━━━━\u001b[0m\u001b[37m\u001b[0m \u001b[1m1s\u001b[0m 2ms/step - acc: 0.8301 - auc: 0.6942 - loss: 0.4530 - val_acc: 0.6415 - val_auc: 0.4118 - val_loss: 0.7428\n",
      "Epoch 86/100\n",
      "\u001b[1m326/338\u001b[0m \u001b[32m━━━━━━━━━━━━━━━━━━━\u001b[0m\u001b[37m━\u001b[0m \u001b[1m0s\u001b[0m 2ms/step - acc: 0.8220 - auc: 0.7164 - loss: 0.4567\n",
      "Epoch 86: val_loss did not improve from 0.67464\n",
      "\u001b[1m338/338\u001b[0m \u001b[32m━━━━━━━━━━━━━━━━━━━━\u001b[0m\u001b[37m\u001b[0m \u001b[1m1s\u001b[0m 2ms/step - acc: 0.8224 - auc: 0.7168 - loss: 0.4563 - val_acc: 0.6415 - val_auc: 0.4118 - val_loss: 0.7428\n",
      "Epoch 87/100\n",
      "\u001b[1m328/338\u001b[0m \u001b[32m━━━━━━━━━━━━━━━━━━━\u001b[0m\u001b[37m━\u001b[0m \u001b[1m0s\u001b[0m 2ms/step - acc: 0.8317 - auc: 0.7544 - loss: 0.4297\n",
      "Epoch 87: val_loss did not improve from 0.67464\n",
      "\u001b[1m338/338\u001b[0m \u001b[32m━━━━━━━━━━━━━━━━━━━━\u001b[0m\u001b[37m\u001b[0m \u001b[1m1s\u001b[0m 2ms/step - acc: 0.8315 - auc: 0.7543 - loss: 0.4300 - val_acc: 0.6415 - val_auc: 0.4118 - val_loss: 0.7401\n",
      "Epoch 88/100\n",
      "\u001b[1m327/338\u001b[0m \u001b[32m━━━━━━━━━━━━━━━━━━━\u001b[0m\u001b[37m━\u001b[0m \u001b[1m0s\u001b[0m 2ms/step - acc: 0.8378 - auc: 0.7658 - loss: 0.4266\n",
      "Epoch 88: val_loss did not improve from 0.67464\n",
      "\u001b[1m338/338\u001b[0m \u001b[32m━━━━━━━━━━━━━━━━━━━━\u001b[0m\u001b[37m\u001b[0m \u001b[1m1s\u001b[0m 2ms/step - acc: 0.8375 - auc: 0.7652 - loss: 0.4270 - val_acc: 0.6415 - val_auc: 0.4118 - val_loss: 0.7436\n",
      "Epoch 89/100\n",
      "\u001b[1m324/338\u001b[0m \u001b[32m━━━━━━━━━━━━━━━━━━━\u001b[0m\u001b[37m━\u001b[0m \u001b[1m0s\u001b[0m 2ms/step - acc: 0.8367 - auc: 0.7443 - loss: 0.4370\n",
      "Epoch 89: val_loss did not improve from 0.67464\n",
      "\u001b[1m338/338\u001b[0m \u001b[32m━━━━━━━━━━━━━━━━━━━━\u001b[0m\u001b[37m\u001b[0m \u001b[1m1s\u001b[0m 2ms/step - acc: 0.8362 - auc: 0.7443 - loss: 0.4373 - val_acc: 0.6415 - val_auc: 0.4118 - val_loss: 0.7414\n",
      "Epoch 90/100\n",
      "\u001b[1m316/338\u001b[0m \u001b[32m━━━━━━━━━━━━━━━━━━\u001b[0m\u001b[37m━━\u001b[0m \u001b[1m0s\u001b[0m 2ms/step - acc: 0.8029 - auc: 0.7451 - loss: 0.4662\n",
      "Epoch 90: val_loss did not improve from 0.67464\n",
      "\u001b[1m338/338\u001b[0m \u001b[32m━━━━━━━━━━━━━━━━━━━━\u001b[0m\u001b[37m\u001b[0m \u001b[1m1s\u001b[0m 2ms/step - acc: 0.8045 - auc: 0.7461 - loss: 0.4643 - val_acc: 0.6415 - val_auc: 0.4118 - val_loss: 0.7397\n",
      "Epoch 91/100\n",
      "\u001b[1m336/338\u001b[0m \u001b[32m━━━━━━━━━━━━━━━━━━━\u001b[0m\u001b[37m━\u001b[0m \u001b[1m0s\u001b[0m 2ms/step - acc: 0.8324 - auc: 0.7652 - loss: 0.4267\n",
      "Epoch 91: val_loss did not improve from 0.67464\n",
      "\u001b[1m338/338\u001b[0m \u001b[32m━━━━━━━━━━━━━━━━━━━━\u001b[0m\u001b[37m\u001b[0m \u001b[1m1s\u001b[0m 2ms/step - acc: 0.8323 - auc: 0.7652 - loss: 0.4268 - val_acc: 0.6415 - val_auc: 0.4118 - val_loss: 0.7419\n",
      "Epoch 92/100\n",
      "\u001b[1m332/338\u001b[0m \u001b[32m━━━━━━━━━━━━━━━━━━━\u001b[0m\u001b[37m━\u001b[0m \u001b[1m0s\u001b[0m 2ms/step - acc: 0.8190 - auc: 0.7423 - loss: 0.4510\n",
      "Epoch 92: val_loss did not improve from 0.67464\n",
      "\u001b[1m338/338\u001b[0m \u001b[32m━━━━━━━━━━━━━━━━━━━━\u001b[0m\u001b[37m\u001b[0m \u001b[1m1s\u001b[0m 2ms/step - acc: 0.8192 - auc: 0.7423 - loss: 0.4509 - val_acc: 0.6415 - val_auc: 0.4118 - val_loss: 0.7401\n",
      "Epoch 93/100\n",
      "\u001b[1m326/338\u001b[0m \u001b[32m━━━━━━━━━━━━━━━━━━━\u001b[0m\u001b[37m━\u001b[0m \u001b[1m0s\u001b[0m 2ms/step - acc: 0.8151 - auc: 0.7153 - loss: 0.4640\n",
      "Epoch 93: val_loss did not improve from 0.67464\n",
      "\u001b[1m338/338\u001b[0m \u001b[32m━━━━━━━━━━━━━━━━━━━━\u001b[0m\u001b[37m\u001b[0m \u001b[1m1s\u001b[0m 2ms/step - acc: 0.8157 - auc: 0.7170 - loss: 0.4629 - val_acc: 0.6415 - val_auc: 0.4118 - val_loss: 0.7388\n",
      "Epoch 94/100\n",
      "\u001b[1m319/338\u001b[0m \u001b[32m━━━━━━━━━━━━━━━━━━\u001b[0m\u001b[37m━━\u001b[0m \u001b[1m0s\u001b[0m 2ms/step - acc: 0.8263 - auc: 0.7946 - loss: 0.4259\n",
      "Epoch 94: val_loss did not improve from 0.67464\n",
      "\u001b[1m338/338\u001b[0m \u001b[32m━━━━━━━━━━━━━━━━━━━━\u001b[0m\u001b[37m\u001b[0m \u001b[1m1s\u001b[0m 2ms/step - acc: 0.8265 - auc: 0.7928 - loss: 0.4264 - val_acc: 0.6415 - val_auc: 0.4118 - val_loss: 0.7423\n",
      "Epoch 95/100\n",
      "\u001b[1m324/338\u001b[0m \u001b[32m━━━━━━━━━━━━━━━━━━━\u001b[0m\u001b[37m━\u001b[0m \u001b[1m0s\u001b[0m 2ms/step - acc: 0.8132 - auc: 0.7633 - loss: 0.4427\n",
      "Epoch 95: val_loss did not improve from 0.67464\n",
      "\u001b[1m338/338\u001b[0m \u001b[32m━━━━━━━━━━━━━━━━━━━━\u001b[0m\u001b[37m\u001b[0m \u001b[1m1s\u001b[0m 2ms/step - acc: 0.8138 - auc: 0.7628 - loss: 0.4424 - val_acc: 0.6415 - val_auc: 0.4118 - val_loss: 0.7393\n",
      "Epoch 96/100\n",
      "\u001b[1m316/338\u001b[0m \u001b[32m━━━━━━━━━━━━━━━━━━\u001b[0m\u001b[37m━━\u001b[0m \u001b[1m0s\u001b[0m 2ms/step - acc: 0.8277 - auc: 0.7555 - loss: 0.4362\n",
      "Epoch 96: val_loss did not improve from 0.67464\n",
      "\u001b[1m338/338\u001b[0m \u001b[32m━━━━━━━━━━━━━━━━━━━━\u001b[0m\u001b[37m\u001b[0m \u001b[1m1s\u001b[0m 2ms/step - acc: 0.8278 - auc: 0.7550 - loss: 0.4362 - val_acc: 0.6415 - val_auc: 0.4118 - val_loss: 0.7413\n",
      "Epoch 97/100\n",
      "\u001b[1m322/338\u001b[0m \u001b[32m━━━━━━━━━━━━━━━━━━━\u001b[0m\u001b[37m━\u001b[0m \u001b[1m0s\u001b[0m 2ms/step - acc: 0.8314 - auc: 0.7740 - loss: 0.4244\n",
      "Epoch 97: val_loss did not improve from 0.67464\n",
      "\u001b[1m338/338\u001b[0m \u001b[32m━━━━━━━━━━━━━━━━━━━━\u001b[0m\u001b[37m\u001b[0m \u001b[1m1s\u001b[0m 2ms/step - acc: 0.8313 - auc: 0.7729 - loss: 0.4251 - val_acc: 0.6415 - val_auc: 0.4118 - val_loss: 0.7370\n",
      "Epoch 98/100\n",
      "\u001b[1m318/338\u001b[0m \u001b[32m━━━━━━━━━━━━━━━━━━\u001b[0m\u001b[37m━━\u001b[0m \u001b[1m0s\u001b[0m 2ms/step - acc: 0.8295 - auc: 0.7562 - loss: 0.4332\n",
      "Epoch 98: val_loss did not improve from 0.67464\n",
      "\u001b[1m338/338\u001b[0m \u001b[32m━━━━━━━━━━━━━━━━━━━━\u001b[0m\u001b[37m\u001b[0m \u001b[1m1s\u001b[0m 2ms/step - acc: 0.8293 - auc: 0.7559 - loss: 0.4335 - val_acc: 0.6415 - val_auc: 0.4118 - val_loss: 0.7365\n",
      "Epoch 99/100\n",
      "\u001b[1m326/338\u001b[0m \u001b[32m━━━━━━━━━━━━━━━━━━━\u001b[0m\u001b[37m━\u001b[0m \u001b[1m0s\u001b[0m 2ms/step - acc: 0.8435 - auc: 0.7498 - loss: 0.4171\n",
      "Epoch 99: val_loss did not improve from 0.67464\n",
      "\u001b[1m338/338\u001b[0m \u001b[32m━━━━━━━━━━━━━━━━━━━━\u001b[0m\u001b[37m\u001b[0m \u001b[1m1s\u001b[0m 2ms/step - acc: 0.8429 - auc: 0.7504 - loss: 0.4176 - val_acc: 0.6415 - val_auc: 0.4118 - val_loss: 0.7366\n",
      "Epoch 100/100\n",
      "\u001b[1m321/338\u001b[0m \u001b[32m━━━━━━━━━━━━━━━━━━\u001b[0m\u001b[37m━━\u001b[0m \u001b[1m0s\u001b[0m 2ms/step - acc: 0.8416 - auc: 0.7715 - loss: 0.4159\n",
      "Epoch 100: val_loss did not improve from 0.67464\n",
      "\u001b[1m338/338\u001b[0m \u001b[32m━━━━━━━━━━━━━━━━━━━━\u001b[0m\u001b[37m\u001b[0m \u001b[1m1s\u001b[0m 2ms/step - acc: 0.8409 - auc: 0.7701 - loss: 0.4173 - val_acc: 0.6415 - val_auc: 0.2059 - val_loss: 0.7330\n"
     ]
    },
    {
     "name": "stderr",
     "output_type": "stream",
     "text": [
      "WARNING:absl:Compiled the loaded model, but the compiled metrics have yet to be built. `model.compile_metrics` will be empty until you train or evaluate the model.\n"
     ]
    },
    {
     "name": "stdout",
     "output_type": "stream",
     "text": [
      "Fold 2 | VAL  | AUC=0.4118 | ACC=0.6415 | n=106\n",
      "Fold 2 | TEST | AUC=0.9100 | ACC=0.5000 | n=80\n",
      "\n",
      "--- Fold 3/10 ---\n",
      " train | ids:   35 | files:  978 | pos:  323 | neg:  655\n",
      "   val | ids:    4 | files:   53 | pos:    1 | neg:   52\n",
      "  test | ids:    5 | files:  169 | pos:   81 | neg:   88\n",
      "Epoch 1/100\n"
     ]
    },
    {
     "name": "stderr",
     "output_type": "stream",
     "text": [
      "/usr/local/lib/python3.12/dist-packages/keras/src/models/functional.py:241: UserWarning: The structure of `inputs` doesn't match the expected structure.\n",
      "Expected: tab_input\n",
      "Received: inputs=['Tensor(shape=(None, 4))']\n",
      "  warnings.warn(msg)\n"
     ]
    },
    {
     "name": "stdout",
     "output_type": "stream",
     "text": [
      "\u001b[1m322/326\u001b[0m \u001b[32m━━━━━━━━━━━━━━━━━━━\u001b[0m\u001b[37m━\u001b[0m \u001b[1m0s\u001b[0m 2ms/step - acc: 0.3031 - auc: 0.3503 - loss: 0.7484\n",
      "Epoch 1: val_loss improved from inf to 0.67974, saving model to best_tab_only_fold3.h5\n"
     ]
    },
    {
     "name": "stderr",
     "output_type": "stream",
     "text": [
      "WARNING:absl:You are saving your model as an HDF5 file via `model.save()` or `keras.saving.save_model(model)`. This file format is considered legacy. We recommend using instead the native Keras format, e.g. `model.save('my_model.keras')` or `keras.saving.save_model(model, 'my_model.keras')`. \n"
     ]
    },
    {
     "name": "stdout",
     "output_type": "stream",
     "text": [
      "\b\b\b\b\b\b\b\b\b\b\b\b\b\b\b\b\b\b\b\b\b\b\b\b\b\b\b\b\b\b\b\b\b\b\b\b\b\b\b\b\b\b\b\b\b\b\b\b\b\b\b\b\b\b\b\b\b\b\b\b\b\b\b\b\b\b\b\b\b\b\b\b\b\b\b\b\b\b\b\b\b\b\b\r",
      "\u001b[1m326/326\u001b[0m \u001b[32m━━━━━━━━━━━━━━━━━━━━\u001b[0m\u001b[37m\u001b[0m \u001b[1m4s\u001b[0m 6ms/step - acc: 0.3039 - auc: 0.3510 - loss: 0.7481 - val_acc: 0.5660 - val_auc: 0.7788 - val_loss: 0.6797\n",
      "Epoch 2/100\n",
      "\u001b[1m310/326\u001b[0m \u001b[32m━━━━━━━━━━━━━━━━━━━\u001b[0m\u001b[37m━\u001b[0m \u001b[1m0s\u001b[0m 2ms/step - acc: 0.5716 - auc: 0.5563 - loss: 0.6833\n",
      "Epoch 2: val_loss improved from 0.67974 to 0.59413, saving model to best_tab_only_fold3.h5\n"
     ]
    },
    {
     "name": "stderr",
     "output_type": "stream",
     "text": [
      "WARNING:absl:You are saving your model as an HDF5 file via `model.save()` or `keras.saving.save_model(model)`. This file format is considered legacy. We recommend using instead the native Keras format, e.g. `model.save('my_model.keras')` or `keras.saving.save_model(model, 'my_model.keras')`. \n"
     ]
    },
    {
     "name": "stdout",
     "output_type": "stream",
     "text": [
      "\b\b\b\b\b\b\b\b\b\b\b\b\b\b\b\b\b\b\b\b\b\b\b\b\b\b\b\b\b\b\b\b\b\b\b\b\b\b\b\b\b\b\b\b\b\b\b\b\b\b\b\b\b\b\b\b\b\b\b\b\b\b\b\b\b\b\b\b\b\b\b\b\b\b\b\b\b\b\b\b\b\b\b\r",
      "\u001b[1m326/326\u001b[0m \u001b[32m━━━━━━━━━━━━━━━━━━━━\u001b[0m\u001b[37m\u001b[0m \u001b[1m1s\u001b[0m 2ms/step - acc: 0.5720 - auc: 0.5578 - loss: 0.6828 - val_acc: 0.9811 - val_auc: 1.0000 - val_loss: 0.5941\n",
      "Epoch 3/100\n",
      "\u001b[1m323/326\u001b[0m \u001b[32m━━━━━━━━━━━━━━━━━━━\u001b[0m\u001b[37m━\u001b[0m \u001b[1m0s\u001b[0m 2ms/step - acc: 0.5804 - auc: 0.5968 - loss: 0.6548\n",
      "Epoch 3: val_loss improved from 0.59413 to 0.54495, saving model to best_tab_only_fold3.h5\n"
     ]
    },
    {
     "name": "stderr",
     "output_type": "stream",
     "text": [
      "WARNING:absl:You are saving your model as an HDF5 file via `model.save()` or `keras.saving.save_model(model)`. This file format is considered legacy. We recommend using instead the native Keras format, e.g. `model.save('my_model.keras')` or `keras.saving.save_model(model, 'my_model.keras')`. \n"
     ]
    },
    {
     "name": "stdout",
     "output_type": "stream",
     "text": [
      "\b\b\b\b\b\b\b\b\b\b\b\b\b\b\b\b\b\b\b\b\b\b\b\b\b\b\b\b\b\b\b\b\b\b\b\b\b\b\b\b\b\b\b\b\b\b\b\b\b\b\b\b\b\b\b\b\b\b\b\b\b\b\b\b\b\b\b\b\b\b\b\b\b\b\b\b\b\b\b\b\b\b\b\r",
      "\u001b[1m326/326\u001b[0m \u001b[32m━━━━━━━━━━━━━━━━━━━━\u001b[0m\u001b[37m\u001b[0m \u001b[1m1s\u001b[0m 2ms/step - acc: 0.5807 - auc: 0.5972 - loss: 0.6546 - val_acc: 0.9811 - val_auc: 0.7788 - val_loss: 0.5449\n",
      "Epoch 4/100\n",
      "\u001b[1m321/326\u001b[0m \u001b[32m━━━━━━━━━━━━━━━━━━━\u001b[0m\u001b[37m━\u001b[0m \u001b[1m0s\u001b[0m 2ms/step - acc: 0.6633 - auc: 0.6354 - loss: 0.6183\n",
      "Epoch 4: val_loss improved from 0.54495 to 0.51201, saving model to best_tab_only_fold3.h5\n"
     ]
    },
    {
     "name": "stderr",
     "output_type": "stream",
     "text": [
      "WARNING:absl:You are saving your model as an HDF5 file via `model.save()` or `keras.saving.save_model(model)`. This file format is considered legacy. We recommend using instead the native Keras format, e.g. `model.save('my_model.keras')` or `keras.saving.save_model(model, 'my_model.keras')`. \n"
     ]
    },
    {
     "name": "stdout",
     "output_type": "stream",
     "text": [
      "\b\b\b\b\b\b\b\b\b\b\b\b\b\b\b\b\b\b\b\b\b\b\b\b\b\b\b\b\b\b\b\b\b\b\b\b\b\b\b\b\b\b\b\b\b\b\b\b\b\b\b\b\b\b\b\b\b\b\b\b\b\b\b\b\b\b\b\b\b\b\b\b\b\b\b\b\b\b\b\b\b\b\b\r",
      "\u001b[1m326/326\u001b[0m \u001b[32m━━━━━━━━━━━━━━━━━━━━\u001b[0m\u001b[37m\u001b[0m \u001b[1m1s\u001b[0m 2ms/step - acc: 0.6633 - auc: 0.6357 - loss: 0.6183 - val_acc: 0.9811 - val_auc: 0.7788 - val_loss: 0.5120\n",
      "Epoch 5/100\n",
      "\u001b[1m320/326\u001b[0m \u001b[32m━━━━━━━━━━━━━━━━━━━\u001b[0m\u001b[37m━\u001b[0m \u001b[1m0s\u001b[0m 2ms/step - acc: 0.6769 - auc: 0.6104 - loss: 0.6178\n",
      "Epoch 5: val_loss improved from 0.51201 to 0.48805, saving model to best_tab_only_fold3.h5\n"
     ]
    },
    {
     "name": "stderr",
     "output_type": "stream",
     "text": [
      "WARNING:absl:You are saving your model as an HDF5 file via `model.save()` or `keras.saving.save_model(model)`. This file format is considered legacy. We recommend using instead the native Keras format, e.g. `model.save('my_model.keras')` or `keras.saving.save_model(model, 'my_model.keras')`. \n"
     ]
    },
    {
     "name": "stdout",
     "output_type": "stream",
     "text": [
      "\b\b\b\b\b\b\b\b\b\b\b\b\b\b\b\b\b\b\b\b\b\b\b\b\b\b\b\b\b\b\b\b\b\b\b\b\b\b\b\b\b\b\b\b\b\b\b\b\b\b\b\b\b\b\b\b\b\b\b\b\b\b\b\b\b\b\b\b\b\b\b\b\b\b\b\b\b\b\b\b\b\b\b\r",
      "\u001b[1m326/326\u001b[0m \u001b[32m━━━━━━━━━━━━━━━━━━━━\u001b[0m\u001b[37m\u001b[0m \u001b[1m1s\u001b[0m 2ms/step - acc: 0.6771 - auc: 0.6111 - loss: 0.6178 - val_acc: 0.9811 - val_auc: 0.7788 - val_loss: 0.4880\n",
      "Epoch 6/100\n",
      "\u001b[1m321/326\u001b[0m \u001b[32m━━━━━━━━━━━━━━━━━━━\u001b[0m\u001b[37m━\u001b[0m \u001b[1m0s\u001b[0m 2ms/step - acc: 0.7766 - auc: 0.6548 - loss: 0.6176\n",
      "Epoch 6: val_loss improved from 0.48805 to 0.46840, saving model to best_tab_only_fold3.h5\n"
     ]
    },
    {
     "name": "stderr",
     "output_type": "stream",
     "text": [
      "WARNING:absl:You are saving your model as an HDF5 file via `model.save()` or `keras.saving.save_model(model)`. This file format is considered legacy. We recommend using instead the native Keras format, e.g. `model.save('my_model.keras')` or `keras.saving.save_model(model, 'my_model.keras')`. \n"
     ]
    },
    {
     "name": "stdout",
     "output_type": "stream",
     "text": [
      "\b\b\b\b\b\b\b\b\b\b\b\b\b\b\b\b\b\b\b\b\b\b\b\b\b\b\b\b\b\b\b\b\b\b\b\b\b\b\b\b\b\b\b\b\b\b\b\b\b\b\b\b\b\b\b\b\b\b\b\b\b\b\b\b\b\b\b\b\b\b\b\b\b\b\b\b\b\b\b\b\b\b\b\r",
      "\u001b[1m326/326\u001b[0m \u001b[32m━━━━━━━━━━━━━━━━━━━━\u001b[0m\u001b[37m\u001b[0m \u001b[1m1s\u001b[0m 2ms/step - acc: 0.7770 - auc: 0.6550 - loss: 0.6175 - val_acc: 0.9811 - val_auc: 0.7788 - val_loss: 0.4684\n",
      "Epoch 7/100\n",
      "\u001b[1m320/326\u001b[0m \u001b[32m━━━━━━━━━━━━━━━━━━━\u001b[0m\u001b[37m━\u001b[0m \u001b[1m0s\u001b[0m 2ms/step - acc: 0.8017 - auc: 0.6388 - loss: 0.6061\n",
      "Epoch 7: val_loss improved from 0.46840 to 0.45653, saving model to best_tab_only_fold3.h5\n"
     ]
    },
    {
     "name": "stderr",
     "output_type": "stream",
     "text": [
      "WARNING:absl:You are saving your model as an HDF5 file via `model.save()` or `keras.saving.save_model(model)`. This file format is considered legacy. We recommend using instead the native Keras format, e.g. `model.save('my_model.keras')` or `keras.saving.save_model(model, 'my_model.keras')`. \n"
     ]
    },
    {
     "name": "stdout",
     "output_type": "stream",
     "text": [
      "\b\b\b\b\b\b\b\b\b\b\b\b\b\b\b\b\b\b\b\b\b\b\b\b\b\b\b\b\b\b\b\b\b\b\b\b\b\b\b\b\b\b\b\b\b\b\b\b\b\b\b\b\b\b\b\b\b\b\b\b\b\b\b\b\b\b\b\b\b\b\b\b\b\b\b\b\b\b\b\b\b\b\b\r",
      "\u001b[1m326/326\u001b[0m \u001b[32m━━━━━━━━━━━━━━━━━━━━\u001b[0m\u001b[37m\u001b[0m \u001b[1m1s\u001b[0m 2ms/step - acc: 0.8019 - auc: 0.6393 - loss: 0.6061 - val_acc: 0.9811 - val_auc: 1.0000 - val_loss: 0.4565\n",
      "Epoch 8/100\n",
      "\u001b[1m324/326\u001b[0m \u001b[32m━━━━━━━━━━━━━━━━━━━\u001b[0m\u001b[37m━\u001b[0m \u001b[1m0s\u001b[0m 2ms/step - acc: 0.7782 - auc: 0.6590 - loss: 0.6121\n",
      "Epoch 8: val_loss improved from 0.45653 to 0.44485, saving model to best_tab_only_fold3.h5\n"
     ]
    },
    {
     "name": "stderr",
     "output_type": "stream",
     "text": [
      "WARNING:absl:You are saving your model as an HDF5 file via `model.save()` or `keras.saving.save_model(model)`. This file format is considered legacy. We recommend using instead the native Keras format, e.g. `model.save('my_model.keras')` or `keras.saving.save_model(model, 'my_model.keras')`. \n"
     ]
    },
    {
     "name": "stdout",
     "output_type": "stream",
     "text": [
      "\b\b\b\b\b\b\b\b\b\b\b\b\b\b\b\b\b\b\b\b\b\b\b\b\b\b\b\b\b\b\b\b\b\b\b\b\b\b\b\b\b\b\b\b\b\b\b\b\b\b\b\b\b\b\b\b\b\b\b\b\b\b\b\b\b\b\b\b\b\b\b\b\b\b\b\b\b\b\b\b\b\b\b\r",
      "\u001b[1m326/326\u001b[0m \u001b[32m━━━━━━━━━━━━━━━━━━━━\u001b[0m\u001b[37m\u001b[0m \u001b[1m1s\u001b[0m 2ms/step - acc: 0.7785 - auc: 0.6592 - loss: 0.6120 - val_acc: 0.9811 - val_auc: 0.7788 - val_loss: 0.4448\n",
      "Epoch 9/100\n",
      "\u001b[1m323/326\u001b[0m \u001b[32m━━━━━━━━━━━━━━━━━━━\u001b[0m\u001b[37m━\u001b[0m \u001b[1m0s\u001b[0m 2ms/step - acc: 0.8174 - auc: 0.6912 - loss: 0.5863\n",
      "Epoch 9: val_loss improved from 0.44485 to 0.43376, saving model to best_tab_only_fold3.h5\n"
     ]
    },
    {
     "name": "stderr",
     "output_type": "stream",
     "text": [
      "WARNING:absl:You are saving your model as an HDF5 file via `model.save()` or `keras.saving.save_model(model)`. This file format is considered legacy. We recommend using instead the native Keras format, e.g. `model.save('my_model.keras')` or `keras.saving.save_model(model, 'my_model.keras')`. \n"
     ]
    },
    {
     "name": "stdout",
     "output_type": "stream",
     "text": [
      "\b\b\b\b\b\b\b\b\b\b\b\b\b\b\b\b\b\b\b\b\b\b\b\b\b\b\b\b\b\b\b\b\b\b\b\b\b\b\b\b\b\b\b\b\b\b\b\b\b\b\b\b\b\b\b\b\b\b\b\b\b\b\b\b\b\b\b\b\b\b\b\b\b\b\b\b\b\b\b\b\b\b\b\r",
      "\u001b[1m326/326\u001b[0m \u001b[32m━━━━━━━━━━━━━━━━━━━━\u001b[0m\u001b[37m\u001b[0m \u001b[1m1s\u001b[0m 2ms/step - acc: 0.8173 - auc: 0.6912 - loss: 0.5864 - val_acc: 0.9811 - val_auc: 0.7788 - val_loss: 0.4338\n",
      "Epoch 10/100\n",
      "\u001b[1m321/326\u001b[0m \u001b[32m━━━━━━━━━━━━━━━━━━━\u001b[0m\u001b[37m━\u001b[0m \u001b[1m0s\u001b[0m 2ms/step - acc: 0.7935 - auc: 0.6379 - loss: 0.6030\n",
      "Epoch 10: val_loss improved from 0.43376 to 0.42599, saving model to best_tab_only_fold3.h5\n"
     ]
    },
    {
     "name": "stderr",
     "output_type": "stream",
     "text": [
      "WARNING:absl:You are saving your model as an HDF5 file via `model.save()` or `keras.saving.save_model(model)`. This file format is considered legacy. We recommend using instead the native Keras format, e.g. `model.save('my_model.keras')` or `keras.saving.save_model(model, 'my_model.keras')`. \n"
     ]
    },
    {
     "name": "stdout",
     "output_type": "stream",
     "text": [
      "\b\b\b\b\b\b\b\b\b\b\b\b\b\b\b\b\b\b\b\b\b\b\b\b\b\b\b\b\b\b\b\b\b\b\b\b\b\b\b\b\b\b\b\b\b\b\b\b\b\b\b\b\b\b\b\b\b\b\b\b\b\b\b\b\b\b\b\b\b\b\b\b\b\b\b\b\b\b\b\b\b\b\b\r",
      "\u001b[1m326/326\u001b[0m \u001b[32m━━━━━━━━━━━━━━━━━━━━\u001b[0m\u001b[37m\u001b[0m \u001b[1m1s\u001b[0m 2ms/step - acc: 0.7937 - auc: 0.6383 - loss: 0.6029 - val_acc: 0.9811 - val_auc: 0.7788 - val_loss: 0.4260\n",
      "Epoch 11/100\n",
      "\u001b[1m322/326\u001b[0m \u001b[32m━━━━━━━━━━━━━━━━━━━\u001b[0m\u001b[37m━\u001b[0m \u001b[1m0s\u001b[0m 2ms/step - acc: 0.8374 - auc: 0.7287 - loss: 0.5697\n",
      "Epoch 11: val_loss improved from 0.42599 to 0.41784, saving model to best_tab_only_fold3.h5\n"
     ]
    },
    {
     "name": "stderr",
     "output_type": "stream",
     "text": [
      "WARNING:absl:You are saving your model as an HDF5 file via `model.save()` or `keras.saving.save_model(model)`. This file format is considered legacy. We recommend using instead the native Keras format, e.g. `model.save('my_model.keras')` or `keras.saving.save_model(model, 'my_model.keras')`. \n"
     ]
    },
    {
     "name": "stdout",
     "output_type": "stream",
     "text": [
      "\b\b\b\b\b\b\b\b\b\b\b\b\b\b\b\b\b\b\b\b\b\b\b\b\b\b\b\b\b\b\b\b\b\b\b\b\b\b\b\b\b\b\b\b\b\b\b\b\b\b\b\b\b\b\b\b\b\b\b\b\b\b\b\b\b\b\b\b\b\b\b\b\b\b\b\b\b\b\b\b\b\b\b\r",
      "\u001b[1m326/326\u001b[0m \u001b[32m━━━━━━━━━━━━━━━━━━━━\u001b[0m\u001b[37m\u001b[0m \u001b[1m1s\u001b[0m 2ms/step - acc: 0.8373 - auc: 0.7283 - loss: 0.5699 - val_acc: 0.9811 - val_auc: 0.7788 - val_loss: 0.4178\n",
      "Epoch 12/100\n",
      "\u001b[1m325/326\u001b[0m \u001b[32m━━━━━━━━━━━━━━━━━━━\u001b[0m\u001b[37m━\u001b[0m \u001b[1m0s\u001b[0m 2ms/step - acc: 0.8259 - auc: 0.6816 - loss: 0.5833\n",
      "Epoch 12: val_loss improved from 0.41784 to 0.41494, saving model to best_tab_only_fold3.h5\n"
     ]
    },
    {
     "name": "stderr",
     "output_type": "stream",
     "text": [
      "WARNING:absl:You are saving your model as an HDF5 file via `model.save()` or `keras.saving.save_model(model)`. This file format is considered legacy. We recommend using instead the native Keras format, e.g. `model.save('my_model.keras')` or `keras.saving.save_model(model, 'my_model.keras')`. \n"
     ]
    },
    {
     "name": "stdout",
     "output_type": "stream",
     "text": [
      "\b\b\b\b\b\b\b\b\b\b\b\b\b\b\b\b\b\b\b\b\b\b\b\b\b\b\b\b\b\b\b\b\b\b\b\b\b\b\b\b\b\b\b\b\b\b\b\b\b\b\b\b\b\b\b\b\b\b\b\b\b\b\b\b\b\b\b\b\b\b\b\b\b\b\b\b\b\b\b\b\b\b\b\r",
      "\u001b[1m326/326\u001b[0m \u001b[32m━━━━━━━━━━━━━━━━━━━━\u001b[0m\u001b[37m\u001b[0m \u001b[1m1s\u001b[0m 2ms/step - acc: 0.8258 - auc: 0.6814 - loss: 0.5833 - val_acc: 0.9811 - val_auc: 1.0000 - val_loss: 0.4149\n",
      "Epoch 13/100\n",
      "\u001b[1m299/326\u001b[0m \u001b[32m━━━━━━━━━━━━━━━━━━\u001b[0m\u001b[37m━━\u001b[0m \u001b[1m0s\u001b[0m 2ms/step - acc: 0.7892 - auc: 0.6379 - loss: 0.5999\n",
      "Epoch 13: val_loss improved from 0.41494 to 0.40682, saving model to best_tab_only_fold3.h5\n"
     ]
    },
    {
     "name": "stderr",
     "output_type": "stream",
     "text": [
      "WARNING:absl:You are saving your model as an HDF5 file via `model.save()` or `keras.saving.save_model(model)`. This file format is considered legacy. We recommend using instead the native Keras format, e.g. `model.save('my_model.keras')` or `keras.saving.save_model(model, 'my_model.keras')`. \n"
     ]
    },
    {
     "name": "stdout",
     "output_type": "stream",
     "text": [
      "\b\b\b\b\b\b\b\b\b\b\b\b\b\b\b\b\b\b\b\b\b\b\b\b\b\b\b\b\b\b\b\b\b\b\b\b\b\b\b\b\b\b\b\b\b\b\b\b\b\b\b\b\b\b\b\b\b\b\b\b\b\b\b\b\b\b\b\b\b\b\b\b\b\b\b\b\b\b\b\b\b\b\b\r",
      "\u001b[1m326/326\u001b[0m \u001b[32m━━━━━━━━━━━━━━━━━━━━\u001b[0m\u001b[37m\u001b[0m \u001b[1m1s\u001b[0m 2ms/step - acc: 0.7911 - auc: 0.6416 - loss: 0.5979 - val_acc: 0.9811 - val_auc: 1.0000 - val_loss: 0.4068\n",
      "Epoch 14/100\n",
      "\u001b[1m325/326\u001b[0m \u001b[32m━━━━━━━━━━━━━━━━━━━\u001b[0m\u001b[37m━\u001b[0m \u001b[1m0s\u001b[0m 2ms/step - acc: 0.8167 - auc: 0.6840 - loss: 0.5727\n",
      "Epoch 14: val_loss improved from 0.40682 to 0.39963, saving model to best_tab_only_fold3.h5\n"
     ]
    },
    {
     "name": "stderr",
     "output_type": "stream",
     "text": [
      "WARNING:absl:You are saving your model as an HDF5 file via `model.save()` or `keras.saving.save_model(model)`. This file format is considered legacy. We recommend using instead the native Keras format, e.g. `model.save('my_model.keras')` or `keras.saving.save_model(model, 'my_model.keras')`. \n"
     ]
    },
    {
     "name": "stdout",
     "output_type": "stream",
     "text": [
      "\b\b\b\b\b\b\b\b\b\b\b\b\b\b\b\b\b\b\b\b\b\b\b\b\b\b\b\b\b\b\b\b\b\b\b\b\b\b\b\b\b\b\b\b\b\b\b\b\b\b\b\b\b\b\b\b\b\b\b\b\b\b\b\b\b\b\b\b\b\b\b\b\b\b\b\b\b\b\b\b\b\b\b\r",
      "\u001b[1m326/326\u001b[0m \u001b[32m━━━━━━━━━━━━━━━━━━━━\u001b[0m\u001b[37m\u001b[0m \u001b[1m1s\u001b[0m 2ms/step - acc: 0.8167 - auc: 0.6841 - loss: 0.5727 - val_acc: 0.9811 - val_auc: 0.7788 - val_loss: 0.3996\n",
      "Epoch 15/100\n",
      "\u001b[1m314/326\u001b[0m \u001b[32m━━━━━━━━━━━━━━━━━━━\u001b[0m\u001b[37m━\u001b[0m \u001b[1m0s\u001b[0m 2ms/step - acc: 0.8125 - auc: 0.6657 - loss: 0.5700\n",
      "Epoch 15: val_loss improved from 0.39963 to 0.39532, saving model to best_tab_only_fold3.h5\n"
     ]
    },
    {
     "name": "stderr",
     "output_type": "stream",
     "text": [
      "WARNING:absl:You are saving your model as an HDF5 file via `model.save()` or `keras.saving.save_model(model)`. This file format is considered legacy. We recommend using instead the native Keras format, e.g. `model.save('my_model.keras')` or `keras.saving.save_model(model, 'my_model.keras')`. \n"
     ]
    },
    {
     "name": "stdout",
     "output_type": "stream",
     "text": [
      "\b\b\b\b\b\b\b\b\b\b\b\b\b\b\b\b\b\b\b\b\b\b\b\b\b\b\b\b\b\b\b\b\b\b\b\b\b\b\b\b\b\b\b\b\b\b\b\b\b\b\b\b\b\b\b\b\b\b\b\b\b\b\b\b\b\b\b\b\b\b\b\b\b\b\b\b\b\b\b\b\b\b\b\r",
      "\u001b[1m326/326\u001b[0m \u001b[32m━━━━━━━━━━━━━━━━━━━━\u001b[0m\u001b[37m\u001b[0m \u001b[1m1s\u001b[0m 2ms/step - acc: 0.8126 - auc: 0.6663 - loss: 0.5700 - val_acc: 0.9811 - val_auc: 0.7788 - val_loss: 0.3953\n",
      "Epoch 16/100\n",
      "\u001b[1m318/326\u001b[0m \u001b[32m━━━━━━━━━━━━━━━━━━━\u001b[0m\u001b[37m━\u001b[0m \u001b[1m0s\u001b[0m 2ms/step - acc: 0.8079 - auc: 0.6970 - loss: 0.5575\n",
      "Epoch 16: val_loss improved from 0.39532 to 0.38955, saving model to best_tab_only_fold3.h5\n"
     ]
    },
    {
     "name": "stderr",
     "output_type": "stream",
     "text": [
      "WARNING:absl:You are saving your model as an HDF5 file via `model.save()` or `keras.saving.save_model(model)`. This file format is considered legacy. We recommend using instead the native Keras format, e.g. `model.save('my_model.keras')` or `keras.saving.save_model(model, 'my_model.keras')`. \n"
     ]
    },
    {
     "name": "stdout",
     "output_type": "stream",
     "text": [
      "\b\b\b\b\b\b\b\b\b\b\b\b\b\b\b\b\b\b\b\b\b\b\b\b\b\b\b\b\b\b\b\b\b\b\b\b\b\b\b\b\b\b\b\b\b\b\b\b\b\b\b\b\b\b\b\b\b\b\b\b\b\b\b\b\b\b\b\b\b\b\b\b\b\b\b\b\b\b\b\b\b\b\b\r",
      "\u001b[1m326/326\u001b[0m \u001b[32m━━━━━━━━━━━━━━━━━━━━\u001b[0m\u001b[37m\u001b[0m \u001b[1m1s\u001b[0m 2ms/step - acc: 0.8080 - auc: 0.6967 - loss: 0.5577 - val_acc: 0.9811 - val_auc: 0.7788 - val_loss: 0.3896\n",
      "Epoch 17/100\n",
      "\u001b[1m304/326\u001b[0m \u001b[32m━━━━━━━━━━━━━━━━━━\u001b[0m\u001b[37m━━\u001b[0m \u001b[1m0s\u001b[0m 2ms/step - acc: 0.8173 - auc: 0.6738 - loss: 0.5658\n",
      "Epoch 17: val_loss improved from 0.38955 to 0.38462, saving model to best_tab_only_fold3.h5\n"
     ]
    },
    {
     "name": "stderr",
     "output_type": "stream",
     "text": [
      "WARNING:absl:You are saving your model as an HDF5 file via `model.save()` or `keras.saving.save_model(model)`. This file format is considered legacy. We recommend using instead the native Keras format, e.g. `model.save('my_model.keras')` or `keras.saving.save_model(model, 'my_model.keras')`. \n"
     ]
    },
    {
     "name": "stdout",
     "output_type": "stream",
     "text": [
      "\b\b\b\b\b\b\b\b\b\b\b\b\b\b\b\b\b\b\b\b\b\b\b\b\b\b\b\b\b\b\b\b\b\b\b\b\b\b\b\b\b\b\b\b\b\b\b\b\b\b\b\b\b\b\b\b\b\b\b\b\b\b\b\b\b\b\b\b\b\b\b\b\b\b\b\b\b\b\b\b\b\b\b\r",
      "\u001b[1m326/326\u001b[0m \u001b[32m━━━━━━━━━━━━━━━━━━━━\u001b[0m\u001b[37m\u001b[0m \u001b[1m1s\u001b[0m 2ms/step - acc: 0.8174 - auc: 0.6748 - loss: 0.5654 - val_acc: 0.9811 - val_auc: 1.0000 - val_loss: 0.3846\n",
      "Epoch 18/100\n",
      "\u001b[1m322/326\u001b[0m \u001b[32m━━━━━━━━━━━━━━━━━━━\u001b[0m\u001b[37m━\u001b[0m \u001b[1m0s\u001b[0m 2ms/step - acc: 0.8077 - auc: 0.7040 - loss: 0.5593\n",
      "Epoch 18: val_loss improved from 0.38462 to 0.38004, saving model to best_tab_only_fold3.h5\n"
     ]
    },
    {
     "name": "stderr",
     "output_type": "stream",
     "text": [
      "WARNING:absl:You are saving your model as an HDF5 file via `model.save()` or `keras.saving.save_model(model)`. This file format is considered legacy. We recommend using instead the native Keras format, e.g. `model.save('my_model.keras')` or `keras.saving.save_model(model, 'my_model.keras')`. \n"
     ]
    },
    {
     "name": "stdout",
     "output_type": "stream",
     "text": [
      "\b\b\b\b\b\b\b\b\b\b\b\b\b\b\b\b\b\b\b\b\b\b\b\b\b\b\b\b\b\b\b\b\b\b\b\b\b\b\b\b\b\b\b\b\b\b\b\b\b\b\b\b\b\b\b\b\b\b\b\b\b\b\b\b\b\b\b\b\b\b\b\b\b\b\b\b\b\b\b\b\b\b\b\r",
      "\u001b[1m326/326\u001b[0m \u001b[32m━━━━━━━━━━━━━━━━━━━━\u001b[0m\u001b[37m\u001b[0m \u001b[1m1s\u001b[0m 2ms/step - acc: 0.8078 - auc: 0.7039 - loss: 0.5593 - val_acc: 0.9811 - val_auc: 0.7788 - val_loss: 0.3800\n",
      "Epoch 19/100\n",
      "\u001b[1m318/326\u001b[0m \u001b[32m━━━━━━━━━━━━━━━━━━━\u001b[0m\u001b[37m━\u001b[0m \u001b[1m0s\u001b[0m 2ms/step - acc: 0.8233 - auc: 0.7225 - loss: 0.5384\n",
      "Epoch 19: val_loss did not improve from 0.38004\n",
      "\u001b[1m326/326\u001b[0m \u001b[32m━━━━━━━━━━━━━━━━━━━━\u001b[0m\u001b[37m\u001b[0m \u001b[1m1s\u001b[0m 2ms/step - acc: 0.8226 - auc: 0.7207 - loss: 0.5393 - val_acc: 0.9811 - val_auc: 0.7788 - val_loss: 0.3803\n",
      "Epoch 20/100\n",
      "\u001b[1m318/326\u001b[0m \u001b[32m━━━━━━━━━━━━━━━━━━━\u001b[0m\u001b[37m━\u001b[0m \u001b[1m0s\u001b[0m 2ms/step - acc: 0.8305 - auc: 0.6887 - loss: 0.5513\n",
      "Epoch 20: val_loss improved from 0.38004 to 0.37767, saving model to best_tab_only_fold3.h5\n"
     ]
    },
    {
     "name": "stderr",
     "output_type": "stream",
     "text": [
      "WARNING:absl:You are saving your model as an HDF5 file via `model.save()` or `keras.saving.save_model(model)`. This file format is considered legacy. We recommend using instead the native Keras format, e.g. `model.save('my_model.keras')` or `keras.saving.save_model(model, 'my_model.keras')`. \n"
     ]
    },
    {
     "name": "stdout",
     "output_type": "stream",
     "text": [
      "\b\b\b\b\b\b\b\b\b\b\b\b\b\b\b\b\b\b\b\b\b\b\b\b\b\b\b\b\b\b\b\b\b\b\b\b\b\b\b\b\b\b\b\b\b\b\b\b\b\b\b\b\b\b\b\b\b\b\b\b\b\b\b\b\b\b\b\b\b\b\b\b\b\b\b\b\b\b\b\b\b\b\b\r",
      "\u001b[1m326/326\u001b[0m \u001b[32m━━━━━━━━━━━━━━━━━━━━\u001b[0m\u001b[37m\u001b[0m \u001b[1m1s\u001b[0m 2ms/step - acc: 0.8301 - auc: 0.6883 - loss: 0.5516 - val_acc: 0.9811 - val_auc: 0.7788 - val_loss: 0.3777\n",
      "Epoch 21/100\n",
      "\u001b[1m320/326\u001b[0m \u001b[32m━━━━━━━━━━━━━━━━━━━\u001b[0m\u001b[37m━\u001b[0m \u001b[1m0s\u001b[0m 2ms/step - acc: 0.8021 - auc: 0.6779 - loss: 0.5659\n",
      "Epoch 21: val_loss improved from 0.37767 to 0.37700, saving model to best_tab_only_fold3.h5\n"
     ]
    },
    {
     "name": "stderr",
     "output_type": "stream",
     "text": [
      "WARNING:absl:You are saving your model as an HDF5 file via `model.save()` or `keras.saving.save_model(model)`. This file format is considered legacy. We recommend using instead the native Keras format, e.g. `model.save('my_model.keras')` or `keras.saving.save_model(model, 'my_model.keras')`. \n"
     ]
    },
    {
     "name": "stdout",
     "output_type": "stream",
     "text": [
      "\b\b\b\b\b\b\b\b\b\b\b\b\b\b\b\b\b\b\b\b\b\b\b\b\b\b\b\b\b\b\b\b\b\b\b\b\b\b\b\b\b\b\b\b\b\b\b\b\b\b\b\b\b\b\b\b\b\b\b\b\b\b\b\b\b\b\b\b\b\b\b\b\b\b\b\b\b\b\b\b\b\b\b\r",
      "\u001b[1m326/326\u001b[0m \u001b[32m━━━━━━━━━━━━━━━━━━━━\u001b[0m\u001b[37m\u001b[0m \u001b[1m1s\u001b[0m 2ms/step - acc: 0.8024 - auc: 0.6778 - loss: 0.5658 - val_acc: 0.9811 - val_auc: 0.7788 - val_loss: 0.3770\n",
      "Epoch 22/100\n",
      "\u001b[1m322/326\u001b[0m \u001b[32m━━━━━━━━━━━━━━━━━━━\u001b[0m\u001b[37m━\u001b[0m \u001b[1m0s\u001b[0m 2ms/step - acc: 0.8343 - auc: 0.7215 - loss: 0.5479\n",
      "Epoch 22: val_loss improved from 0.37700 to 0.37240, saving model to best_tab_only_fold3.h5\n"
     ]
    },
    {
     "name": "stderr",
     "output_type": "stream",
     "text": [
      "WARNING:absl:You are saving your model as an HDF5 file via `model.save()` or `keras.saving.save_model(model)`. This file format is considered legacy. We recommend using instead the native Keras format, e.g. `model.save('my_model.keras')` or `keras.saving.save_model(model, 'my_model.keras')`. \n"
     ]
    },
    {
     "name": "stdout",
     "output_type": "stream",
     "text": [
      "\b\b\b\b\b\b\b\b\b\b\b\b\b\b\b\b\b\b\b\b\b\b\b\b\b\b\b\b\b\b\b\b\b\b\b\b\b\b\b\b\b\b\b\b\b\b\b\b\b\b\b\b\b\b\b\b\b\b\b\b\b\b\b\b\b\b\b\b\b\b\b\b\b\b\b\b\b\b\b\b\b\b\b\r",
      "\u001b[1m326/326\u001b[0m \u001b[32m━━━━━━━━━━━━━━━━━━━━\u001b[0m\u001b[37m\u001b[0m \u001b[1m1s\u001b[0m 2ms/step - acc: 0.8342 - auc: 0.7211 - loss: 0.5479 - val_acc: 0.9811 - val_auc: 1.0000 - val_loss: 0.3724\n",
      "Epoch 23/100\n",
      "\u001b[1m323/326\u001b[0m \u001b[32m━━━━━━━━━━━━━━━━━━━\u001b[0m\u001b[37m━\u001b[0m \u001b[1m0s\u001b[0m 2ms/step - acc: 0.7962 - auc: 0.6933 - loss: 0.5605\n",
      "Epoch 23: val_loss improved from 0.37240 to 0.37004, saving model to best_tab_only_fold3.h5\n"
     ]
    },
    {
     "name": "stderr",
     "output_type": "stream",
     "text": [
      "WARNING:absl:You are saving your model as an HDF5 file via `model.save()` or `keras.saving.save_model(model)`. This file format is considered legacy. We recommend using instead the native Keras format, e.g. `model.save('my_model.keras')` or `keras.saving.save_model(model, 'my_model.keras')`. \n"
     ]
    },
    {
     "name": "stdout",
     "output_type": "stream",
     "text": [
      "\b\b\b\b\b\b\b\b\b\b\b\b\b\b\b\b\b\b\b\b\b\b\b\b\b\b\b\b\b\b\b\b\b\b\b\b\b\b\b\b\b\b\b\b\b\b\b\b\b\b\b\b\b\b\b\b\b\b\b\b\b\b\b\b\b\b\b\b\b\b\b\b\b\b\b\b\b\b\b\b\b\b\b\r",
      "\u001b[1m326/326\u001b[0m \u001b[32m━━━━━━━━━━━━━━━━━━━━\u001b[0m\u001b[37m\u001b[0m \u001b[1m1s\u001b[0m 2ms/step - acc: 0.7964 - auc: 0.6931 - loss: 0.5604 - val_acc: 0.9811 - val_auc: 0.7788 - val_loss: 0.3700\n",
      "Epoch 24/100\n",
      "\u001b[1m319/326\u001b[0m \u001b[32m━━━━━━━━━━━━━━━━━━━\u001b[0m\u001b[37m━\u001b[0m \u001b[1m0s\u001b[0m 2ms/step - acc: 0.8170 - auc: 0.6941 - loss: 0.5428\n",
      "Epoch 24: val_loss improved from 0.37004 to 0.36762, saving model to best_tab_only_fold3.h5\n"
     ]
    },
    {
     "name": "stderr",
     "output_type": "stream",
     "text": [
      "WARNING:absl:You are saving your model as an HDF5 file via `model.save()` or `keras.saving.save_model(model)`. This file format is considered legacy. We recommend using instead the native Keras format, e.g. `model.save('my_model.keras')` or `keras.saving.save_model(model, 'my_model.keras')`. \n"
     ]
    },
    {
     "name": "stdout",
     "output_type": "stream",
     "text": [
      "\b\b\b\b\b\b\b\b\b\b\b\b\b\b\b\b\b\b\b\b\b\b\b\b\b\b\b\b\b\b\b\b\b\b\b\b\b\b\b\b\b\b\b\b\b\b\b\b\b\b\b\b\b\b\b\b\b\b\b\b\b\b\b\b\b\b\b\b\b\b\b\b\b\b\b\b\b\b\b\b\b\b\b\r",
      "\u001b[1m326/326\u001b[0m \u001b[32m━━━━━━━━━━━━━━━━━━━━\u001b[0m\u001b[37m\u001b[0m \u001b[1m1s\u001b[0m 2ms/step - acc: 0.8170 - auc: 0.6938 - loss: 0.5429 - val_acc: 0.9811 - val_auc: 0.7788 - val_loss: 0.3676\n",
      "Epoch 25/100\n",
      "\u001b[1m320/326\u001b[0m \u001b[32m━━━━━━━━━━━━━━━━━━━\u001b[0m\u001b[37m━\u001b[0m \u001b[1m0s\u001b[0m 2ms/step - acc: 0.8185 - auc: 0.6670 - loss: 0.5646\n",
      "Epoch 25: val_loss did not improve from 0.36762\n",
      "\u001b[1m326/326\u001b[0m \u001b[32m━━━━━━━━━━━━━━━━━━━━\u001b[0m\u001b[37m\u001b[0m \u001b[1m1s\u001b[0m 2ms/step - acc: 0.8186 - auc: 0.6672 - loss: 0.5644 - val_acc: 0.9811 - val_auc: 1.0000 - val_loss: 0.3685\n",
      "Epoch 26/100\n",
      "\u001b[1m301/326\u001b[0m \u001b[32m━━━━━━━━━━━━━━━━━━\u001b[0m\u001b[37m━━\u001b[0m \u001b[1m0s\u001b[0m 2ms/step - acc: 0.8223 - auc: 0.6993 - loss: 0.5339\n",
      "Epoch 26: val_loss improved from 0.36762 to 0.36660, saving model to best_tab_only_fold3.h5\n"
     ]
    },
    {
     "name": "stderr",
     "output_type": "stream",
     "text": [
      "WARNING:absl:You are saving your model as an HDF5 file via `model.save()` or `keras.saving.save_model(model)`. This file format is considered legacy. We recommend using instead the native Keras format, e.g. `model.save('my_model.keras')` or `keras.saving.save_model(model, 'my_model.keras')`. \n"
     ]
    },
    {
     "name": "stdout",
     "output_type": "stream",
     "text": [
      "\b\b\b\b\b\b\b\b\b\b\b\b\b\b\b\b\b\b\b\b\b\b\b\b\b\b\b\b\b\b\b\b\b\b\b\b\b\b\b\b\b\b\b\b\b\b\b\b\b\b\b\b\b\b\b\b\b\b\b\b\b\b\b\b\b\b\b\b\b\b\b\b\b\b\b\b\b\b\b\b\b\b\b\r",
      "\u001b[1m326/326\u001b[0m \u001b[32m━━━━━━━━━━━━━━━━━━━━\u001b[0m\u001b[37m\u001b[0m \u001b[1m1s\u001b[0m 2ms/step - acc: 0.8225 - auc: 0.6983 - loss: 0.5341 - val_acc: 0.9811 - val_auc: 0.7788 - val_loss: 0.3666\n",
      "Epoch 27/100\n",
      "\u001b[1m299/326\u001b[0m \u001b[32m━━━━━━━━━━━━━━━━━━\u001b[0m\u001b[37m━━\u001b[0m \u001b[1m0s\u001b[0m 2ms/step - acc: 0.8497 - auc: 0.7152 - loss: 0.5202\n",
      "Epoch 27: val_loss improved from 0.36660 to 0.36491, saving model to best_tab_only_fold3.h5\n"
     ]
    },
    {
     "name": "stderr",
     "output_type": "stream",
     "text": [
      "WARNING:absl:You are saving your model as an HDF5 file via `model.save()` or `keras.saving.save_model(model)`. This file format is considered legacy. We recommend using instead the native Keras format, e.g. `model.save('my_model.keras')` or `keras.saving.save_model(model, 'my_model.keras')`. \n"
     ]
    },
    {
     "name": "stdout",
     "output_type": "stream",
     "text": [
      "\b\b\b\b\b\b\b\b\b\b\b\b\b\b\b\b\b\b\b\b\b\b\b\b\b\b\b\b\b\b\b\b\b\b\b\b\b\b\b\b\b\b\b\b\b\b\b\b\b\b\b\b\b\b\b\b\b\b\b\b\b\b\b\b\b\b\b\b\b\b\b\b\b\b\b\b\b\b\b\b\b\b\b\r",
      "\u001b[1m326/326\u001b[0m \u001b[32m━━━━━━━━━━━━━━━━━━━━\u001b[0m\u001b[37m\u001b[0m \u001b[1m1s\u001b[0m 2ms/step - acc: 0.8481 - auc: 0.7134 - loss: 0.5218 - val_acc: 0.9811 - val_auc: 0.7788 - val_loss: 0.3649\n",
      "Epoch 28/100\n",
      "\u001b[1m325/326\u001b[0m \u001b[32m━━━━━━━━━━━━━━━━━━━\u001b[0m\u001b[37m━\u001b[0m \u001b[1m0s\u001b[0m 2ms/step - acc: 0.8219 - auc: 0.6891 - loss: 0.5473\n",
      "Epoch 28: val_loss improved from 0.36491 to 0.36436, saving model to best_tab_only_fold3.h5\n"
     ]
    },
    {
     "name": "stderr",
     "output_type": "stream",
     "text": [
      "WARNING:absl:You are saving your model as an HDF5 file via `model.save()` or `keras.saving.save_model(model)`. This file format is considered legacy. We recommend using instead the native Keras format, e.g. `model.save('my_model.keras')` or `keras.saving.save_model(model, 'my_model.keras')`. \n"
     ]
    },
    {
     "name": "stdout",
     "output_type": "stream",
     "text": [
      "\b\b\b\b\b\b\b\b\b\b\b\b\b\b\b\b\b\b\b\b\b\b\b\b\b\b\b\b\b\b\b\b\b\b\b\b\b\b\b\b\b\b\b\b\b\b\b\b\b\b\b\b\b\b\b\b\b\b\b\b\b\b\b\b\b\b\b\b\b\b\b\b\b\b\b\b\b\b\b\b\b\b\b\r",
      "\u001b[1m326/326\u001b[0m \u001b[32m━━━━━━━━━━━━━━━━━━━━\u001b[0m\u001b[37m\u001b[0m \u001b[1m1s\u001b[0m 2ms/step - acc: 0.8219 - auc: 0.6890 - loss: 0.5473 - val_acc: 0.9811 - val_auc: 1.0000 - val_loss: 0.3644\n",
      "Epoch 29/100\n",
      "\u001b[1m322/326\u001b[0m \u001b[32m━━━━━━━━━━━━━━━━━━━\u001b[0m\u001b[37m━\u001b[0m \u001b[1m0s\u001b[0m 2ms/step - acc: 0.8332 - auc: 0.7182 - loss: 0.5197\n",
      "Epoch 29: val_loss improved from 0.36436 to 0.36332, saving model to best_tab_only_fold3.h5\n"
     ]
    },
    {
     "name": "stderr",
     "output_type": "stream",
     "text": [
      "WARNING:absl:You are saving your model as an HDF5 file via `model.save()` or `keras.saving.save_model(model)`. This file format is considered legacy. We recommend using instead the native Keras format, e.g. `model.save('my_model.keras')` or `keras.saving.save_model(model, 'my_model.keras')`. \n"
     ]
    },
    {
     "name": "stdout",
     "output_type": "stream",
     "text": [
      "\b\b\b\b\b\b\b\b\b\b\b\b\b\b\b\b\b\b\b\b\b\b\b\b\b\b\b\b\b\b\b\b\b\b\b\b\b\b\b\b\b\b\b\b\b\b\b\b\b\b\b\b\b\b\b\b\b\b\b\b\b\b\b\b\b\b\b\b\b\b\b\b\b\b\b\b\b\b\b\b\b\b\b\r",
      "\u001b[1m326/326\u001b[0m \u001b[32m━━━━━━━━━━━━━━━━━━━━\u001b[0m\u001b[37m\u001b[0m \u001b[1m1s\u001b[0m 2ms/step - acc: 0.8331 - auc: 0.7178 - loss: 0.5199 - val_acc: 0.9811 - val_auc: 0.7788 - val_loss: 0.3633\n",
      "Epoch 30/100\n",
      "\u001b[1m323/326\u001b[0m \u001b[32m━━━━━━━━━━━━━━━━━━━\u001b[0m\u001b[37m━\u001b[0m \u001b[1m0s\u001b[0m 2ms/step - acc: 0.8384 - auc: 0.7030 - loss: 0.5242\n",
      "Epoch 30: val_loss improved from 0.36332 to 0.36071, saving model to best_tab_only_fold3.h5\n"
     ]
    },
    {
     "name": "stderr",
     "output_type": "stream",
     "text": [
      "WARNING:absl:You are saving your model as an HDF5 file via `model.save()` or `keras.saving.save_model(model)`. This file format is considered legacy. We recommend using instead the native Keras format, e.g. `model.save('my_model.keras')` or `keras.saving.save_model(model, 'my_model.keras')`. \n"
     ]
    },
    {
     "name": "stdout",
     "output_type": "stream",
     "text": [
      "\b\b\b\b\b\b\b\b\b\b\b\b\b\b\b\b\b\b\b\b\b\b\b\b\b\b\b\b\b\b\b\b\b\b\b\b\b\b\b\b\b\b\b\b\b\b\b\b\b\b\b\b\b\b\b\b\b\b\b\b\b\b\b\b\b\b\b\b\b\b\b\b\b\b\b\b\b\b\b\b\b\b\b\r",
      "\u001b[1m326/326\u001b[0m \u001b[32m━━━━━━━━━━━━━━━━━━━━\u001b[0m\u001b[37m\u001b[0m \u001b[1m1s\u001b[0m 2ms/step - acc: 0.8383 - auc: 0.7027 - loss: 0.5243 - val_acc: 0.9811 - val_auc: 0.7788 - val_loss: 0.3607\n",
      "Epoch 31/100\n",
      "\u001b[1m318/326\u001b[0m \u001b[32m━━━━━━━━━━━━━━━━━━━\u001b[0m\u001b[37m━\u001b[0m \u001b[1m0s\u001b[0m 2ms/step - acc: 0.8390 - auc: 0.6796 - loss: 0.5235\n",
      "Epoch 31: val_loss did not improve from 0.36071\n",
      "\u001b[1m326/326\u001b[0m \u001b[32m━━━━━━━━━━━━━━━━━━━━\u001b[0m\u001b[37m\u001b[0m \u001b[1m1s\u001b[0m 2ms/step - acc: 0.8385 - auc: 0.6795 - loss: 0.5239 - val_acc: 0.9811 - val_auc: 0.7788 - val_loss: 0.3616\n",
      "Epoch 32/100\n",
      "\u001b[1m321/326\u001b[0m \u001b[32m━━━━━━━━━━━━━━━━━━━\u001b[0m\u001b[37m━\u001b[0m \u001b[1m0s\u001b[0m 2ms/step - acc: 0.8249 - auc: 0.6812 - loss: 0.5425\n",
      "Epoch 32: val_loss improved from 0.36071 to 0.35978, saving model to best_tab_only_fold3.h5\n"
     ]
    },
    {
     "name": "stderr",
     "output_type": "stream",
     "text": [
      "WARNING:absl:You are saving your model as an HDF5 file via `model.save()` or `keras.saving.save_model(model)`. This file format is considered legacy. We recommend using instead the native Keras format, e.g. `model.save('my_model.keras')` or `keras.saving.save_model(model, 'my_model.keras')`. \n"
     ]
    },
    {
     "name": "stdout",
     "output_type": "stream",
     "text": [
      "\b\b\b\b\b\b\b\b\b\b\b\b\b\b\b\b\b\b\b\b\b\b\b\b\b\b\b\b\b\b\b\b\b\b\b\b\b\b\b\b\b\b\b\b\b\b\b\b\b\b\b\b\b\b\b\b\b\b\b\b\b\b\b\b\b\b\b\b\b\b\b\b\b\b\b\b\b\b\b\b\b\b\b\r",
      "\u001b[1m326/326\u001b[0m \u001b[32m━━━━━━━━━━━━━━━━━━━━\u001b[0m\u001b[37m\u001b[0m \u001b[1m1s\u001b[0m 2ms/step - acc: 0.8251 - auc: 0.6815 - loss: 0.5422 - val_acc: 0.9811 - val_auc: 0.7788 - val_loss: 0.3598\n",
      "Epoch 33/100\n",
      "\u001b[1m312/326\u001b[0m \u001b[32m━━━━━━━━━━━━━━━━━━━\u001b[0m\u001b[37m━\u001b[0m \u001b[1m0s\u001b[0m 2ms/step - acc: 0.8229 - auc: 0.7309 - loss: 0.5185\n",
      "Epoch 33: val_loss improved from 0.35978 to 0.35848, saving model to best_tab_only_fold3.h5\n"
     ]
    },
    {
     "name": "stderr",
     "output_type": "stream",
     "text": [
      "WARNING:absl:You are saving your model as an HDF5 file via `model.save()` or `keras.saving.save_model(model)`. This file format is considered legacy. We recommend using instead the native Keras format, e.g. `model.save('my_model.keras')` or `keras.saving.save_model(model, 'my_model.keras')`. \n"
     ]
    },
    {
     "name": "stdout",
     "output_type": "stream",
     "text": [
      "\b\b\b\b\b\b\b\b\b\b\b\b\b\b\b\b\b\b\b\b\b\b\b\b\b\b\b\b\b\b\b\b\b\b\b\b\b\b\b\b\b\b\b\b\b\b\b\b\b\b\b\b\b\b\b\b\b\b\b\b\b\b\b\b\b\b\b\b\b\b\b\b\b\b\b\b\b\b\b\b\b\b\b\r",
      "\u001b[1m326/326\u001b[0m \u001b[32m━━━━━━━━━━━━━━━━━━━━\u001b[0m\u001b[37m\u001b[0m \u001b[1m1s\u001b[0m 2ms/step - acc: 0.8229 - auc: 0.7293 - loss: 0.5189 - val_acc: 0.9811 - val_auc: 0.7788 - val_loss: 0.3585\n",
      "Epoch 34/100\n",
      "\u001b[1m322/326\u001b[0m \u001b[32m━━━━━━━━━━━━━━━━━━━\u001b[0m\u001b[37m━\u001b[0m \u001b[1m0s\u001b[0m 2ms/step - acc: 0.8061 - auc: 0.7132 - loss: 0.5234\n",
      "Epoch 34: val_loss improved from 0.35848 to 0.35704, saving model to best_tab_only_fold3.h5\n"
     ]
    },
    {
     "name": "stderr",
     "output_type": "stream",
     "text": [
      "WARNING:absl:You are saving your model as an HDF5 file via `model.save()` or `keras.saving.save_model(model)`. This file format is considered legacy. We recommend using instead the native Keras format, e.g. `model.save('my_model.keras')` or `keras.saving.save_model(model, 'my_model.keras')`. \n"
     ]
    },
    {
     "name": "stdout",
     "output_type": "stream",
     "text": [
      "\b\b\b\b\b\b\b\b\b\b\b\b\b\b\b\b\b\b\b\b\b\b\b\b\b\b\b\b\b\b\b\b\b\b\b\b\b\b\b\b\b\b\b\b\b\b\b\b\b\b\b\b\b\b\b\b\b\b\b\b\b\b\b\b\b\b\b\b\b\b\b\b\b\b\b\b\b\b\b\b\b\b\b\r",
      "\u001b[1m326/326\u001b[0m \u001b[32m━━━━━━━━━━━━━━━━━━━━\u001b[0m\u001b[37m\u001b[0m \u001b[1m1s\u001b[0m 2ms/step - acc: 0.8063 - auc: 0.7131 - loss: 0.5233 - val_acc: 0.9811 - val_auc: 0.7788 - val_loss: 0.3570\n",
      "Epoch 35/100\n",
      "\u001b[1m299/326\u001b[0m \u001b[32m━━━━━━━━━━━━━━━━━━\u001b[0m\u001b[37m━━\u001b[0m \u001b[1m0s\u001b[0m 2ms/step - acc: 0.8381 - auc: 0.7288 - loss: 0.5014\n",
      "Epoch 35: val_loss improved from 0.35704 to 0.35252, saving model to best_tab_only_fold3.h5\n"
     ]
    },
    {
     "name": "stderr",
     "output_type": "stream",
     "text": [
      "WARNING:absl:You are saving your model as an HDF5 file via `model.save()` or `keras.saving.save_model(model)`. This file format is considered legacy. We recommend using instead the native Keras format, e.g. `model.save('my_model.keras')` or `keras.saving.save_model(model, 'my_model.keras')`. \n"
     ]
    },
    {
     "name": "stdout",
     "output_type": "stream",
     "text": [
      "\b\b\b\b\b\b\b\b\b\b\b\b\b\b\b\b\b\b\b\b\b\b\b\b\b\b\b\b\b\b\b\b\b\b\b\b\b\b\b\b\b\b\b\b\b\b\b\b\b\b\b\b\b\b\b\b\b\b\b\b\b\b\b\b\b\b\b\b\b\b\b\b\b\b\b\b\b\b\b\b\b\b\b\r",
      "\u001b[1m326/326\u001b[0m \u001b[32m━━━━━━━━━━━━━━━━━━━━\u001b[0m\u001b[37m\u001b[0m \u001b[1m1s\u001b[0m 2ms/step - acc: 0.8379 - auc: 0.7283 - loss: 0.5017 - val_acc: 0.9811 - val_auc: 0.7788 - val_loss: 0.3525\n",
      "Epoch 36/100\n",
      "\u001b[1m321/326\u001b[0m \u001b[32m━━━━━━━━━━━━━━━━━━━\u001b[0m\u001b[37m━\u001b[0m \u001b[1m0s\u001b[0m 2ms/step - acc: 0.8287 - auc: 0.6527 - loss: 0.5264\n",
      "Epoch 36: val_loss did not improve from 0.35252\n",
      "\u001b[1m326/326\u001b[0m \u001b[32m━━━━━━━━━━━━━━━━━━━━\u001b[0m\u001b[37m\u001b[0m \u001b[1m1s\u001b[0m 2ms/step - acc: 0.8287 - auc: 0.6534 - loss: 0.5264 - val_acc: 0.9811 - val_auc: 0.7788 - val_loss: 0.3537\n",
      "Epoch 37/100\n",
      "\u001b[1m324/326\u001b[0m \u001b[32m━━━━━━━━━━━━━━━━━━━\u001b[0m\u001b[37m━\u001b[0m \u001b[1m0s\u001b[0m 2ms/step - acc: 0.8342 - auc: 0.6938 - loss: 0.5167\n",
      "Epoch 37: val_loss did not improve from 0.35252\n",
      "\u001b[1m326/326\u001b[0m \u001b[32m━━━━━━━━━━━━━━━━━━━━\u001b[0m\u001b[37m\u001b[0m \u001b[1m1s\u001b[0m 2ms/step - acc: 0.8342 - auc: 0.6936 - loss: 0.5168 - val_acc: 0.9811 - val_auc: 0.7788 - val_loss: 0.3573\n",
      "Epoch 38/100\n",
      "\u001b[1m322/326\u001b[0m \u001b[32m━━━━━━━━━━━━━━━━━━━\u001b[0m\u001b[37m━\u001b[0m \u001b[1m0s\u001b[0m 2ms/step - acc: 0.8262 - auc: 0.6723 - loss: 0.5112\n",
      "Epoch 38: val_loss did not improve from 0.35252\n",
      "\u001b[1m326/326\u001b[0m \u001b[32m━━━━━━━━━━━━━━━━━━━━\u001b[0m\u001b[37m\u001b[0m \u001b[1m1s\u001b[0m 2ms/step - acc: 0.8261 - auc: 0.6730 - loss: 0.5111 - val_acc: 0.9811 - val_auc: 1.0000 - val_loss: 0.3546\n",
      "Epoch 39/100\n",
      "\u001b[1m323/326\u001b[0m \u001b[32m━━━━━━━━━━━━━━━━━━━\u001b[0m\u001b[37m━\u001b[0m \u001b[1m0s\u001b[0m 2ms/step - acc: 0.8334 - auc: 0.7193 - loss: 0.5046\n",
      "Epoch 39: val_loss did not improve from 0.35252\n",
      "\u001b[1m326/326\u001b[0m \u001b[32m━━━━━━━━━━━━━━━━━━━━\u001b[0m\u001b[37m\u001b[0m \u001b[1m1s\u001b[0m 2ms/step - acc: 0.8333 - auc: 0.7190 - loss: 0.5047 - val_acc: 0.9811 - val_auc: 0.7788 - val_loss: 0.3529\n",
      "Epoch 40/100\n",
      "\u001b[1m325/326\u001b[0m \u001b[32m━━━━━━━━━━━━━━━━━━━\u001b[0m\u001b[37m━\u001b[0m \u001b[1m0s\u001b[0m 2ms/step - acc: 0.8439 - auc: 0.7513 - loss: 0.4863\n",
      "Epoch 40: val_loss improved from 0.35252 to 0.34846, saving model to best_tab_only_fold3.h5\n"
     ]
    },
    {
     "name": "stderr",
     "output_type": "stream",
     "text": [
      "WARNING:absl:You are saving your model as an HDF5 file via `model.save()` or `keras.saving.save_model(model)`. This file format is considered legacy. We recommend using instead the native Keras format, e.g. `model.save('my_model.keras')` or `keras.saving.save_model(model, 'my_model.keras')`. \n"
     ]
    },
    {
     "name": "stdout",
     "output_type": "stream",
     "text": [
      "\b\b\b\b\b\b\b\b\b\b\b\b\b\b\b\b\b\b\b\b\b\b\b\b\b\b\b\b\b\b\b\b\b\b\b\b\b\b\b\b\b\b\b\b\b\b\b\b\b\b\b\b\b\b\b\b\b\b\b\b\b\b\b\b\b\b\b\b\b\b\b\b\b\b\b\b\b\b\b\b\b\b\b\r",
      "\u001b[1m326/326\u001b[0m \u001b[32m━━━━━━━━━━━━━━━━━━━━\u001b[0m\u001b[37m\u001b[0m \u001b[1m1s\u001b[0m 2ms/step - acc: 0.8439 - auc: 0.7513 - loss: 0.4863 - val_acc: 0.9811 - val_auc: 1.0000 - val_loss: 0.3485\n",
      "Epoch 41/100\n",
      "\u001b[1m316/326\u001b[0m \u001b[32m━━━━━━━━━━━━━━━━━━━\u001b[0m\u001b[37m━\u001b[0m \u001b[1m0s\u001b[0m 2ms/step - acc: 0.8120 - auc: 0.6928 - loss: 0.5129\n",
      "Epoch 41: val_loss improved from 0.34846 to 0.34748, saving model to best_tab_only_fold3.h5\n"
     ]
    },
    {
     "name": "stderr",
     "output_type": "stream",
     "text": [
      "WARNING:absl:You are saving your model as an HDF5 file via `model.save()` or `keras.saving.save_model(model)`. This file format is considered legacy. We recommend using instead the native Keras format, e.g. `model.save('my_model.keras')` or `keras.saving.save_model(model, 'my_model.keras')`. \n"
     ]
    },
    {
     "name": "stdout",
     "output_type": "stream",
     "text": [
      "\b\b\b\b\b\b\b\b\b\b\b\b\b\b\b\b\b\b\b\b\b\b\b\b\b\b\b\b\b\b\b\b\b\b\b\b\b\b\b\b\b\b\b\b\b\b\b\b\b\b\b\b\b\b\b\b\b\b\b\b\b\b\b\b\b\b\b\b\b\b\b\b\b\b\b\b\b\b\b\b\b\b\b\r",
      "\u001b[1m326/326\u001b[0m \u001b[32m━━━━━━━━━━━━━━━━━━━━\u001b[0m\u001b[37m\u001b[0m \u001b[1m1s\u001b[0m 2ms/step - acc: 0.8125 - auc: 0.6936 - loss: 0.5124 - val_acc: 0.9811 - val_auc: 0.7788 - val_loss: 0.3475\n",
      "Epoch 42/100\n",
      "\u001b[1m322/326\u001b[0m \u001b[32m━━━━━━━━━━━━━━━━━━━\u001b[0m\u001b[37m━\u001b[0m \u001b[1m0s\u001b[0m 2ms/step - acc: 0.8284 - auc: 0.7348 - loss: 0.4919\n",
      "Epoch 42: val_loss improved from 0.34748 to 0.34585, saving model to best_tab_only_fold3.h5\n"
     ]
    },
    {
     "name": "stderr",
     "output_type": "stream",
     "text": [
      "WARNING:absl:You are saving your model as an HDF5 file via `model.save()` or `keras.saving.save_model(model)`. This file format is considered legacy. We recommend using instead the native Keras format, e.g. `model.save('my_model.keras')` or `keras.saving.save_model(model, 'my_model.keras')`. \n"
     ]
    },
    {
     "name": "stdout",
     "output_type": "stream",
     "text": [
      "\b\b\b\b\b\b\b\b\b\b\b\b\b\b\b\b\b\b\b\b\b\b\b\b\b\b\b\b\b\b\b\b\b\b\b\b\b\b\b\b\b\b\b\b\b\b\b\b\b\b\b\b\b\b\b\b\b\b\b\b\b\b\b\b\b\b\b\b\b\b\b\b\b\b\b\b\b\b\b\b\b\b\b\r",
      "\u001b[1m326/326\u001b[0m \u001b[32m━━━━━━━━━━━━━━━━━━━━\u001b[0m\u001b[37m\u001b[0m \u001b[1m1s\u001b[0m 2ms/step - acc: 0.8285 - auc: 0.7348 - loss: 0.4918 - val_acc: 0.9811 - val_auc: 0.7788 - val_loss: 0.3458\n",
      "Epoch 43/100\n",
      "\u001b[1m318/326\u001b[0m \u001b[32m━━━━━━━━━━━━━━━━━━━\u001b[0m\u001b[37m━\u001b[0m \u001b[1m0s\u001b[0m 2ms/step - acc: 0.8420 - auc: 0.7535 - loss: 0.4727\n",
      "Epoch 43: val_loss improved from 0.34585 to 0.34416, saving model to best_tab_only_fold3.h5\n"
     ]
    },
    {
     "name": "stderr",
     "output_type": "stream",
     "text": [
      "WARNING:absl:You are saving your model as an HDF5 file via `model.save()` or `keras.saving.save_model(model)`. This file format is considered legacy. We recommend using instead the native Keras format, e.g. `model.save('my_model.keras')` or `keras.saving.save_model(model, 'my_model.keras')`. \n"
     ]
    },
    {
     "name": "stdout",
     "output_type": "stream",
     "text": [
      "\b\b\b\b\b\b\b\b\b\b\b\b\b\b\b\b\b\b\b\b\b\b\b\b\b\b\b\b\b\b\b\b\b\b\b\b\b\b\b\b\b\b\b\b\b\b\b\b\b\b\b\b\b\b\b\b\b\b\b\b\b\b\b\b\b\b\b\b\b\b\b\b\b\b\b\b\b\b\b\b\b\b\b\r",
      "\u001b[1m326/326\u001b[0m \u001b[32m━━━━━━━━━━━━━━━━━━━━\u001b[0m\u001b[37m\u001b[0m \u001b[1m1s\u001b[0m 2ms/step - acc: 0.8420 - auc: 0.7528 - loss: 0.4731 - val_acc: 0.9811 - val_auc: 0.7788 - val_loss: 0.3442\n",
      "Epoch 44/100\n",
      "\u001b[1m324/326\u001b[0m \u001b[32m━━━━━━━━━━━━━━━━━━━\u001b[0m\u001b[37m━\u001b[0m \u001b[1m0s\u001b[0m 2ms/step - acc: 0.8321 - auc: 0.7130 - loss: 0.4991\n",
      "Epoch 44: val_loss did not improve from 0.34416\n",
      "\u001b[1m326/326\u001b[0m \u001b[32m━━━━━━━━━━━━━━━━━━━━\u001b[0m\u001b[37m\u001b[0m \u001b[1m1s\u001b[0m 2ms/step - acc: 0.8321 - auc: 0.7131 - loss: 0.4991 - val_acc: 0.9811 - val_auc: 0.7788 - val_loss: 0.3447\n",
      "Epoch 45/100\n",
      "\u001b[1m317/326\u001b[0m \u001b[32m━━━━━━━━━━━━━━━━━━━\u001b[0m\u001b[37m━\u001b[0m \u001b[1m0s\u001b[0m 2ms/step - acc: 0.8360 - auc: 0.7020 - loss: 0.4945\n",
      "Epoch 45: val_loss improved from 0.34416 to 0.33974, saving model to best_tab_only_fold3.h5\n"
     ]
    },
    {
     "name": "stderr",
     "output_type": "stream",
     "text": [
      "WARNING:absl:You are saving your model as an HDF5 file via `model.save()` or `keras.saving.save_model(model)`. This file format is considered legacy. We recommend using instead the native Keras format, e.g. `model.save('my_model.keras')` or `keras.saving.save_model(model, 'my_model.keras')`. \n"
     ]
    },
    {
     "name": "stdout",
     "output_type": "stream",
     "text": [
      "\b\b\b\b\b\b\b\b\b\b\b\b\b\b\b\b\b\b\b\b\b\b\b\b\b\b\b\b\b\b\b\b\b\b\b\b\b\b\b\b\b\b\b\b\b\b\b\b\b\b\b\b\b\b\b\b\b\b\b\b\b\b\b\b\b\b\b\b\b\b\b\b\b\b\b\b\b\b\b\b\b\b\b\r",
      "\u001b[1m326/326\u001b[0m \u001b[32m━━━━━━━━━━━━━━━━━━━━\u001b[0m\u001b[37m\u001b[0m \u001b[1m1s\u001b[0m 2ms/step - acc: 0.8363 - auc: 0.7028 - loss: 0.4941 - val_acc: 0.9811 - val_auc: 1.0000 - val_loss: 0.3397\n",
      "Epoch 46/100\n",
      "\u001b[1m320/326\u001b[0m \u001b[32m━━━━━━━━━━━━━━━━━━━\u001b[0m\u001b[37m━\u001b[0m \u001b[1m0s\u001b[0m 2ms/step - acc: 0.8555 - auc: 0.6783 - loss: 0.4934\n",
      "Epoch 46: val_loss did not improve from 0.33974\n",
      "\u001b[1m326/326\u001b[0m \u001b[32m━━━━━━━━━━━━━━━━━━━━\u001b[0m\u001b[37m\u001b[0m \u001b[1m1s\u001b[0m 2ms/step - acc: 0.8553 - auc: 0.6791 - loss: 0.4933 - val_acc: 0.9811 - val_auc: 0.7788 - val_loss: 0.3420\n",
      "Epoch 47/100\n",
      "\u001b[1m305/326\u001b[0m \u001b[32m━━━━━━━━━━━━━━━━━━\u001b[0m\u001b[37m━━\u001b[0m \u001b[1m0s\u001b[0m 2ms/step - acc: 0.8517 - auc: 0.7035 - loss: 0.4875\n",
      "Epoch 47: val_loss improved from 0.33974 to 0.33899, saving model to best_tab_only_fold3.h5\n"
     ]
    },
    {
     "name": "stderr",
     "output_type": "stream",
     "text": [
      "WARNING:absl:You are saving your model as an HDF5 file via `model.save()` or `keras.saving.save_model(model)`. This file format is considered legacy. We recommend using instead the native Keras format, e.g. `model.save('my_model.keras')` or `keras.saving.save_model(model, 'my_model.keras')`. \n"
     ]
    },
    {
     "name": "stdout",
     "output_type": "stream",
     "text": [
      "\b\b\b\b\b\b\b\b\b\b\b\b\b\b\b\b\b\b\b\b\b\b\b\b\b\b\b\b\b\b\b\b\b\b\b\b\b\b\b\b\b\b\b\b\b\b\b\b\b\b\b\b\b\b\b\b\b\b\b\b\b\b\b\b\b\b\b\b\b\b\b\b\b\b\b\b\b\b\b\b\b\b\b\r",
      "\u001b[1m326/326\u001b[0m \u001b[32m━━━━━━━━━━━━━━━━━━━━\u001b[0m\u001b[37m\u001b[0m \u001b[1m1s\u001b[0m 2ms/step - acc: 0.8518 - auc: 0.7054 - loss: 0.4870 - val_acc: 0.9811 - val_auc: 0.7788 - val_loss: 0.3390\n",
      "Epoch 48/100\n",
      "\u001b[1m310/326\u001b[0m \u001b[32m━━━━━━━━━━━━━━━━━━━\u001b[0m\u001b[37m━\u001b[0m \u001b[1m0s\u001b[0m 2ms/step - acc: 0.8457 - auc: 0.7334 - loss: 0.4799\n",
      "Epoch 48: val_loss improved from 0.33899 to 0.33484, saving model to best_tab_only_fold3.h5\n"
     ]
    },
    {
     "name": "stderr",
     "output_type": "stream",
     "text": [
      "WARNING:absl:You are saving your model as an HDF5 file via `model.save()` or `keras.saving.save_model(model)`. This file format is considered legacy. We recommend using instead the native Keras format, e.g. `model.save('my_model.keras')` or `keras.saving.save_model(model, 'my_model.keras')`. \n"
     ]
    },
    {
     "name": "stdout",
     "output_type": "stream",
     "text": [
      "\b\b\b\b\b\b\b\b\b\b\b\b\b\b\b\b\b\b\b\b\b\b\b\b\b\b\b\b\b\b\b\b\b\b\b\b\b\b\b\b\b\b\b\b\b\b\b\b\b\b\b\b\b\b\b\b\b\b\b\b\b\b\b\b\b\b\b\b\b\b\b\b\b\b\b\b\b\b\b\b\b\b\b\r",
      "\u001b[1m326/326\u001b[0m \u001b[32m━━━━━━━━━━━━━━━━━━━━\u001b[0m\u001b[37m\u001b[0m \u001b[1m1s\u001b[0m 2ms/step - acc: 0.8460 - auc: 0.7338 - loss: 0.4796 - val_acc: 0.9811 - val_auc: 1.0000 - val_loss: 0.3348\n",
      "Epoch 49/100\n",
      "\u001b[1m305/326\u001b[0m \u001b[32m━━━━━━━━━━━━━━━━━━\u001b[0m\u001b[37m━━\u001b[0m \u001b[1m0s\u001b[0m 2ms/step - acc: 0.8527 - auc: 0.7327 - loss: 0.4727\n",
      "Epoch 49: val_loss did not improve from 0.33484\n",
      "\u001b[1m326/326\u001b[0m \u001b[32m━━━━━━━━━━━━━━━━━━━━\u001b[0m\u001b[37m\u001b[0m \u001b[1m1s\u001b[0m 2ms/step - acc: 0.8523 - auc: 0.7330 - loss: 0.4728 - val_acc: 0.9811 - val_auc: 0.7788 - val_loss: 0.3376\n",
      "Epoch 50/100\n",
      "\u001b[1m322/326\u001b[0m \u001b[32m━━━━━━━━━━━━━━━━━━━\u001b[0m\u001b[37m━\u001b[0m \u001b[1m0s\u001b[0m 2ms/step - acc: 0.8284 - auc: 0.7141 - loss: 0.4902\n",
      "Epoch 50: val_loss did not improve from 0.33484\n",
      "\u001b[1m326/326\u001b[0m \u001b[32m━━━━━━━━━━━━━━━━━━━━\u001b[0m\u001b[37m\u001b[0m \u001b[1m1s\u001b[0m 2ms/step - acc: 0.8285 - auc: 0.7143 - loss: 0.4901 - val_acc: 0.9811 - val_auc: 0.7788 - val_loss: 0.3351\n",
      "Epoch 51/100\n",
      "\u001b[1m316/326\u001b[0m \u001b[32m━━━━━━━━━━━━━━━━━━━\u001b[0m\u001b[37m━\u001b[0m \u001b[1m0s\u001b[0m 2ms/step - acc: 0.8567 - auc: 0.7612 - loss: 0.4641\n",
      "Epoch 51: val_loss improved from 0.33484 to 0.33216, saving model to best_tab_only_fold3.h5\n"
     ]
    },
    {
     "name": "stderr",
     "output_type": "stream",
     "text": [
      "WARNING:absl:You are saving your model as an HDF5 file via `model.save()` or `keras.saving.save_model(model)`. This file format is considered legacy. We recommend using instead the native Keras format, e.g. `model.save('my_model.keras')` or `keras.saving.save_model(model, 'my_model.keras')`. \n"
     ]
    },
    {
     "name": "stdout",
     "output_type": "stream",
     "text": [
      "\b\b\b\b\b\b\b\b\b\b\b\b\b\b\b\b\b\b\b\b\b\b\b\b\b\b\b\b\b\b\b\b\b\b\b\b\b\b\b\b\b\b\b\b\b\b\b\b\b\b\b\b\b\b\b\b\b\b\b\b\b\b\b\b\b\b\b\b\b\b\b\b\b\b\b\b\b\b\b\b\b\b\b\r",
      "\u001b[1m326/326\u001b[0m \u001b[32m━━━━━━━━━━━━━━━━━━━━\u001b[0m\u001b[37m\u001b[0m \u001b[1m1s\u001b[0m 2ms/step - acc: 0.8565 - auc: 0.7609 - loss: 0.4642 - val_acc: 0.9811 - val_auc: 1.0000 - val_loss: 0.3322\n",
      "Epoch 52/100\n",
      "\u001b[1m317/326\u001b[0m \u001b[32m━━━━━━━━━━━━━━━━━━━\u001b[0m\u001b[37m━\u001b[0m \u001b[1m0s\u001b[0m 2ms/step - acc: 0.8259 - auc: 0.7235 - loss: 0.4843\n",
      "Epoch 52: val_loss did not improve from 0.33216\n",
      "\u001b[1m326/326\u001b[0m \u001b[32m━━━━━━━━━━━━━━━━━━━━\u001b[0m\u001b[37m\u001b[0m \u001b[1m1s\u001b[0m 2ms/step - acc: 0.8263 - auc: 0.7239 - loss: 0.4839 - val_acc: 0.9811 - val_auc: 0.7788 - val_loss: 0.3331\n",
      "Epoch 53/100\n",
      "\u001b[1m316/326\u001b[0m \u001b[32m━━━━━━━━━━━━━━━━━━━\u001b[0m\u001b[37m━\u001b[0m \u001b[1m0s\u001b[0m 2ms/step - acc: 0.8516 - auc: 0.7231 - loss: 0.4700\n",
      "Epoch 53: val_loss did not improve from 0.33216\n",
      "\u001b[1m326/326\u001b[0m \u001b[32m━━━━━━━━━━━━━━━━━━━━\u001b[0m\u001b[37m\u001b[0m \u001b[1m1s\u001b[0m 2ms/step - acc: 0.8515 - auc: 0.7236 - loss: 0.4699 - val_acc: 0.9811 - val_auc: 0.7788 - val_loss: 0.3323\n",
      "Epoch 54/100\n",
      "\u001b[1m321/326\u001b[0m \u001b[32m━━━━━━━━━━━━━━━━━━━\u001b[0m\u001b[37m━\u001b[0m \u001b[1m0s\u001b[0m 2ms/step - acc: 0.8449 - auc: 0.7719 - loss: 0.4561\n",
      "Epoch 54: val_loss improved from 0.33216 to 0.32839, saving model to best_tab_only_fold3.h5\n"
     ]
    },
    {
     "name": "stderr",
     "output_type": "stream",
     "text": [
      "WARNING:absl:You are saving your model as an HDF5 file via `model.save()` or `keras.saving.save_model(model)`. This file format is considered legacy. We recommend using instead the native Keras format, e.g. `model.save('my_model.keras')` or `keras.saving.save_model(model, 'my_model.keras')`. \n"
     ]
    },
    {
     "name": "stdout",
     "output_type": "stream",
     "text": [
      "\b\b\b\b\b\b\b\b\b\b\b\b\b\b\b\b\b\b\b\b\b\b\b\b\b\b\b\b\b\b\b\b\b\b\b\b\b\b\b\b\b\b\b\b\b\b\b\b\b\b\b\b\b\b\b\b\b\b\b\b\b\b\b\b\b\b\b\b\b\b\b\b\b\b\b\b\b\b\b\b\b\b\b\r",
      "\u001b[1m326/326\u001b[0m \u001b[32m━━━━━━━━━━━━━━━━━━━━\u001b[0m\u001b[37m\u001b[0m \u001b[1m1s\u001b[0m 2ms/step - acc: 0.8449 - auc: 0.7716 - loss: 0.4562 - val_acc: 0.9811 - val_auc: 1.0000 - val_loss: 0.3284\n",
      "Epoch 55/100\n",
      "\u001b[1m310/326\u001b[0m \u001b[32m━━━━━━━━━━━━━━━━━━━\u001b[0m\u001b[37m━\u001b[0m \u001b[1m0s\u001b[0m 2ms/step - acc: 0.8463 - auc: 0.7834 - loss: 0.4491\n",
      "Epoch 55: val_loss improved from 0.32839 to 0.32359, saving model to best_tab_only_fold3.h5\n"
     ]
    },
    {
     "name": "stderr",
     "output_type": "stream",
     "text": [
      "WARNING:absl:You are saving your model as an HDF5 file via `model.save()` or `keras.saving.save_model(model)`. This file format is considered legacy. We recommend using instead the native Keras format, e.g. `model.save('my_model.keras')` or `keras.saving.save_model(model, 'my_model.keras')`. \n"
     ]
    },
    {
     "name": "stdout",
     "output_type": "stream",
     "text": [
      "\b\b\b\b\b\b\b\b\b\b\b\b\b\b\b\b\b\b\b\b\b\b\b\b\b\b\b\b\b\b\b\b\b\b\b\b\b\b\b\b\b\b\b\b\b\b\b\b\b\b\b\b\b\b\b\b\b\b\b\b\b\b\b\b\b\b\b\b\b\b\b\b\b\b\b\b\b\b\b\b\b\b\b\r",
      "\u001b[1m326/326\u001b[0m \u001b[32m━━━━━━━━━━━━━━━━━━━━\u001b[0m\u001b[37m\u001b[0m \u001b[1m1s\u001b[0m 2ms/step - acc: 0.8463 - auc: 0.7825 - loss: 0.4496 - val_acc: 0.9811 - val_auc: 0.7788 - val_loss: 0.3236\n",
      "Epoch 56/100\n",
      "\u001b[1m319/326\u001b[0m \u001b[32m━━━━━━━━━━━━━━━━━━━\u001b[0m\u001b[37m━\u001b[0m \u001b[1m0s\u001b[0m 2ms/step - acc: 0.8438 - auc: 0.7666 - loss: 0.4495\n",
      "Epoch 56: val_loss did not improve from 0.32359\n",
      "\u001b[1m326/326\u001b[0m \u001b[32m━━━━━━━━━━━━━━━━━━━━\u001b[0m\u001b[37m\u001b[0m \u001b[1m1s\u001b[0m 2ms/step - acc: 0.8434 - auc: 0.7658 - loss: 0.4500 - val_acc: 0.9811 - val_auc: 0.7788 - val_loss: 0.3269\n",
      "Epoch 57/100\n",
      "\u001b[1m320/326\u001b[0m \u001b[32m━━━━━━━━━━━━━━━━━━━\u001b[0m\u001b[37m━\u001b[0m \u001b[1m0s\u001b[0m 2ms/step - acc: 0.8449 - auc: 0.7684 - loss: 0.4515\n",
      "Epoch 57: val_loss did not improve from 0.32359\n",
      "\u001b[1m326/326\u001b[0m \u001b[32m━━━━━━━━━━━━━━━━━━━━\u001b[0m\u001b[37m\u001b[0m \u001b[1m1s\u001b[0m 2ms/step - acc: 0.8446 - auc: 0.7679 - loss: 0.4519 - val_acc: 0.9811 - val_auc: 1.0000 - val_loss: 0.3267\n",
      "Epoch 58/100\n",
      "\u001b[1m318/326\u001b[0m \u001b[32m━━━━━━━━━━━━━━━━━━━\u001b[0m\u001b[37m━\u001b[0m \u001b[1m0s\u001b[0m 2ms/step - acc: 0.8527 - auc: 0.7476 - loss: 0.4570\n",
      "Epoch 58: val_loss improved from 0.32359 to 0.32293, saving model to best_tab_only_fold3.h5\n"
     ]
    },
    {
     "name": "stderr",
     "output_type": "stream",
     "text": [
      "WARNING:absl:You are saving your model as an HDF5 file via `model.save()` or `keras.saving.save_model(model)`. This file format is considered legacy. We recommend using instead the native Keras format, e.g. `model.save('my_model.keras')` or `keras.saving.save_model(model, 'my_model.keras')`. \n"
     ]
    },
    {
     "name": "stdout",
     "output_type": "stream",
     "text": [
      "\b\b\b\b\b\b\b\b\b\b\b\b\b\b\b\b\b\b\b\b\b\b\b\b\b\b\b\b\b\b\b\b\b\b\b\b\b\b\b\b\b\b\b\b\b\b\b\b\b\b\b\b\b\b\b\b\b\b\b\b\b\b\b\b\b\b\b\b\b\b\b\b\b\b\b\b\b\b\b\b\b\b\b\r",
      "\u001b[1m326/326\u001b[0m \u001b[32m━━━━━━━━━━━━━━━━━━━━\u001b[0m\u001b[37m\u001b[0m \u001b[1m1s\u001b[0m 2ms/step - acc: 0.8525 - auc: 0.7479 - loss: 0.4570 - val_acc: 0.9811 - val_auc: 0.7788 - val_loss: 0.3229\n",
      "Epoch 59/100\n",
      "\u001b[1m319/326\u001b[0m \u001b[32m━━━━━━━━━━━━━━━━━━━\u001b[0m\u001b[37m━\u001b[0m \u001b[1m0s\u001b[0m 2ms/step - acc: 0.8295 - auc: 0.7603 - loss: 0.4618\n",
      "Epoch 59: val_loss did not improve from 0.32293\n",
      "\u001b[1m326/326\u001b[0m \u001b[32m━━━━━━━━━━━━━━━━━━━━\u001b[0m\u001b[37m\u001b[0m \u001b[1m1s\u001b[0m 2ms/step - acc: 0.8295 - auc: 0.7599 - loss: 0.4620 - val_acc: 0.9811 - val_auc: 0.7788 - val_loss: 0.3244\n",
      "Epoch 60/100\n",
      "\u001b[1m319/326\u001b[0m \u001b[32m━━━━━━━━━━━━━━━━━━━\u001b[0m\u001b[37m━\u001b[0m \u001b[1m0s\u001b[0m 2ms/step - acc: 0.8523 - auc: 0.7601 - loss: 0.4516\n",
      "Epoch 60: val_loss improved from 0.32293 to 0.32125, saving model to best_tab_only_fold3.h5\n"
     ]
    },
    {
     "name": "stderr",
     "output_type": "stream",
     "text": [
      "WARNING:absl:You are saving your model as an HDF5 file via `model.save()` or `keras.saving.save_model(model)`. This file format is considered legacy. We recommend using instead the native Keras format, e.g. `model.save('my_model.keras')` or `keras.saving.save_model(model, 'my_model.keras')`. \n"
     ]
    },
    {
     "name": "stdout",
     "output_type": "stream",
     "text": [
      "\b\b\b\b\b\b\b\b\b\b\b\b\b\b\b\b\b\b\b\b\b\b\b\b\b\b\b\b\b\b\b\b\b\b\b\b\b\b\b\b\b\b\b\b\b\b\b\b\b\b\b\b\b\b\b\b\b\b\b\b\b\b\b\b\b\b\b\b\b\b\b\b\b\b\b\b\b\b\b\b\b\b\b\r",
      "\u001b[1m326/326\u001b[0m \u001b[32m━━━━━━━━━━━━━━━━━━━━\u001b[0m\u001b[37m\u001b[0m \u001b[1m1s\u001b[0m 2ms/step - acc: 0.8517 - auc: 0.7600 - loss: 0.4519 - val_acc: 0.9811 - val_auc: 1.0000 - val_loss: 0.3212\n",
      "Epoch 61/100\n",
      "\u001b[1m323/326\u001b[0m \u001b[32m━━━━━━━━━━━━━━━━━━━\u001b[0m\u001b[37m━\u001b[0m \u001b[1m0s\u001b[0m 2ms/step - acc: 0.8277 - auc: 0.7742 - loss: 0.4689\n",
      "Epoch 61: val_loss improved from 0.32125 to 0.31565, saving model to best_tab_only_fold3.h5\n"
     ]
    },
    {
     "name": "stderr",
     "output_type": "stream",
     "text": [
      "WARNING:absl:You are saving your model as an HDF5 file via `model.save()` or `keras.saving.save_model(model)`. This file format is considered legacy. We recommend using instead the native Keras format, e.g. `model.save('my_model.keras')` or `keras.saving.save_model(model, 'my_model.keras')`. \n"
     ]
    },
    {
     "name": "stdout",
     "output_type": "stream",
     "text": [
      "\b\b\b\b\b\b\b\b\b\b\b\b\b\b\b\b\b\b\b\b\b\b\b\b\b\b\b\b\b\b\b\b\b\b\b\b\b\b\b\b\b\b\b\b\b\b\b\b\b\b\b\b\b\b\b\b\b\b\b\b\b\b\b\b\b\b\b\b\b\b\b\b\b\b\b\b\b\b\b\b\b\b\b\r",
      "\u001b[1m326/326\u001b[0m \u001b[32m━━━━━━━━━━━━━━━━━━━━\u001b[0m\u001b[37m\u001b[0m \u001b[1m1s\u001b[0m 2ms/step - acc: 0.8278 - auc: 0.7742 - loss: 0.4688 - val_acc: 0.9811 - val_auc: 0.7788 - val_loss: 0.3156\n",
      "Epoch 62/100\n",
      "\u001b[1m322/326\u001b[0m \u001b[32m━━━━━━━━━━━━━━━━━━━\u001b[0m\u001b[37m━\u001b[0m \u001b[1m0s\u001b[0m 2ms/step - acc: 0.8627 - auc: 0.7455 - loss: 0.4511\n",
      "Epoch 62: val_loss did not improve from 0.31565\n",
      "\u001b[1m326/326\u001b[0m \u001b[32m━━━━━━━━━━━━━━━━━━━━\u001b[0m\u001b[37m\u001b[0m \u001b[1m1s\u001b[0m 2ms/step - acc: 0.8625 - auc: 0.7457 - loss: 0.4511 - val_acc: 0.9811 - val_auc: 0.7788 - val_loss: 0.3170\n",
      "Epoch 63/100\n",
      "\u001b[1m318/326\u001b[0m \u001b[32m━━━━━━━━━━━━━━━━━━━\u001b[0m\u001b[37m━\u001b[0m \u001b[1m0s\u001b[0m 2ms/step - acc: 0.8330 - auc: 0.7531 - loss: 0.4665\n",
      "Epoch 63: val_loss did not improve from 0.31565\n",
      "\u001b[1m326/326\u001b[0m \u001b[32m━━━━━━━━━━━━━━━━━━━━\u001b[0m\u001b[37m\u001b[0m \u001b[1m1s\u001b[0m 2ms/step - acc: 0.8330 - auc: 0.7531 - loss: 0.4664 - val_acc: 0.9811 - val_auc: 1.0000 - val_loss: 0.3162\n",
      "Epoch 64/100\n",
      "\u001b[1m320/326\u001b[0m \u001b[32m━━━━━━━━━━━━━━━━━━━\u001b[0m\u001b[37m━\u001b[0m \u001b[1m0s\u001b[0m 2ms/step - acc: 0.8306 - auc: 0.7405 - loss: 0.4681\n",
      "Epoch 64: val_loss improved from 0.31565 to 0.31524, saving model to best_tab_only_fold3.h5\n"
     ]
    },
    {
     "name": "stderr",
     "output_type": "stream",
     "text": [
      "WARNING:absl:You are saving your model as an HDF5 file via `model.save()` or `keras.saving.save_model(model)`. This file format is considered legacy. We recommend using instead the native Keras format, e.g. `model.save('my_model.keras')` or `keras.saving.save_model(model, 'my_model.keras')`. \n"
     ]
    },
    {
     "name": "stdout",
     "output_type": "stream",
     "text": [
      "\b\b\b\b\b\b\b\b\b\b\b\b\b\b\b\b\b\b\b\b\b\b\b\b\b\b\b\b\b\b\b\b\b\b\b\b\b\b\b\b\b\b\b\b\b\b\b\b\b\b\b\b\b\b\b\b\b\b\b\b\b\b\b\b\b\b\b\b\b\b\b\b\b\b\b\b\b\b\b\b\b\b\b\r",
      "\u001b[1m326/326\u001b[0m \u001b[32m━━━━━━━━━━━━━━━━━━━━\u001b[0m\u001b[37m\u001b[0m \u001b[1m1s\u001b[0m 2ms/step - acc: 0.8307 - auc: 0.7411 - loss: 0.4679 - val_acc: 0.9811 - val_auc: 0.7788 - val_loss: 0.3152\n",
      "Epoch 65/100\n",
      "\u001b[1m311/326\u001b[0m \u001b[32m━━━━━━━━━━━━━━━━━━━\u001b[0m\u001b[37m━\u001b[0m \u001b[1m0s\u001b[0m 2ms/step - acc: 0.8357 - auc: 0.7733 - loss: 0.4458\n",
      "Epoch 65: val_loss did not improve from 0.31524\n",
      "\u001b[1m326/326\u001b[0m \u001b[32m━━━━━━━━━━━━━━━━━━━━\u001b[0m\u001b[37m\u001b[0m \u001b[1m1s\u001b[0m 2ms/step - acc: 0.8363 - auc: 0.7737 - loss: 0.4457 - val_acc: 0.9811 - val_auc: 0.7788 - val_loss: 0.3162\n",
      "Epoch 66/100\n",
      "\u001b[1m316/326\u001b[0m \u001b[32m━━━━━━━━━━━━━━━━━━━\u001b[0m\u001b[37m━\u001b[0m \u001b[1m0s\u001b[0m 2ms/step - acc: 0.8375 - auc: 0.7718 - loss: 0.4526\n",
      "Epoch 66: val_loss improved from 0.31524 to 0.31447, saving model to best_tab_only_fold3.h5\n"
     ]
    },
    {
     "name": "stderr",
     "output_type": "stream",
     "text": [
      "WARNING:absl:You are saving your model as an HDF5 file via `model.save()` or `keras.saving.save_model(model)`. This file format is considered legacy. We recommend using instead the native Keras format, e.g. `model.save('my_model.keras')` or `keras.saving.save_model(model, 'my_model.keras')`. \n"
     ]
    },
    {
     "name": "stdout",
     "output_type": "stream",
     "text": [
      "\b\b\b\b\b\b\b\b\b\b\b\b\b\b\b\b\b\b\b\b\b\b\b\b\b\b\b\b\b\b\b\b\b\b\b\b\b\b\b\b\b\b\b\b\b\b\b\b\b\b\b\b\b\b\b\b\b\b\b\b\b\b\b\b\b\b\b\b\b\b\b\b\b\b\b\b\b\b\b\b\b\b\b\r",
      "\u001b[1m326/326\u001b[0m \u001b[32m━━━━━━━━━━━━━━━━━━━━\u001b[0m\u001b[37m\u001b[0m \u001b[1m1s\u001b[0m 2ms/step - acc: 0.8377 - auc: 0.7718 - loss: 0.4524 - val_acc: 0.9811 - val_auc: 1.0000 - val_loss: 0.3145\n",
      "Epoch 67/100\n",
      "\u001b[1m321/326\u001b[0m \u001b[32m━━━━━━━━━━━━━━━━━━━\u001b[0m\u001b[37m━\u001b[0m \u001b[1m0s\u001b[0m 2ms/step - acc: 0.8595 - auc: 0.8160 - loss: 0.4196\n",
      "Epoch 67: val_loss improved from 0.31447 to 0.30685, saving model to best_tab_only_fold3.h5\n"
     ]
    },
    {
     "name": "stderr",
     "output_type": "stream",
     "text": [
      "WARNING:absl:You are saving your model as an HDF5 file via `model.save()` or `keras.saving.save_model(model)`. This file format is considered legacy. We recommend using instead the native Keras format, e.g. `model.save('my_model.keras')` or `keras.saving.save_model(model, 'my_model.keras')`. \n"
     ]
    },
    {
     "name": "stdout",
     "output_type": "stream",
     "text": [
      "\b\b\b\b\b\b\b\b\b\b\b\b\b\b\b\b\b\b\b\b\b\b\b\b\b\b\b\b\b\b\b\b\b\b\b\b\b\b\b\b\b\b\b\b\b\b\b\b\b\b\b\b\b\b\b\b\b\b\b\b\b\b\b\b\b\b\b\b\b\b\b\b\b\b\b\b\b\b\b\b\b\b\b\r",
      "\u001b[1m326/326\u001b[0m \u001b[32m━━━━━━━━━━━━━━━━━━━━\u001b[0m\u001b[37m\u001b[0m \u001b[1m1s\u001b[0m 2ms/step - acc: 0.8594 - auc: 0.8159 - loss: 0.4197 - val_acc: 0.9811 - val_auc: 0.7788 - val_loss: 0.3068\n",
      "Epoch 68/100\n",
      "\u001b[1m316/326\u001b[0m \u001b[32m━━━━━━━━━━━━━━━━━━━\u001b[0m\u001b[37m━\u001b[0m \u001b[1m0s\u001b[0m 2ms/step - acc: 0.8370 - auc: 0.7482 - loss: 0.4510\n",
      "Epoch 68: val_loss improved from 0.30685 to 0.30549, saving model to best_tab_only_fold3.h5\n"
     ]
    },
    {
     "name": "stderr",
     "output_type": "stream",
     "text": [
      "WARNING:absl:You are saving your model as an HDF5 file via `model.save()` or `keras.saving.save_model(model)`. This file format is considered legacy. We recommend using instead the native Keras format, e.g. `model.save('my_model.keras')` or `keras.saving.save_model(model, 'my_model.keras')`. \n"
     ]
    },
    {
     "name": "stdout",
     "output_type": "stream",
     "text": [
      "\b\b\b\b\b\b\b\b\b\b\b\b\b\b\b\b\b\b\b\b\b\b\b\b\b\b\b\b\b\b\b\b\b\b\b\b\b\b\b\b\b\b\b\b\b\b\b\b\b\b\b\b\b\b\b\b\b\b\b\b\b\b\b\b\b\b\b\b\b\b\b\b\b\b\b\b\b\b\b\b\b\b\b\r",
      "\u001b[1m326/326\u001b[0m \u001b[32m━━━━━━━━━━━━━━━━━━━━\u001b[0m\u001b[37m\u001b[0m \u001b[1m1s\u001b[0m 2ms/step - acc: 0.8371 - auc: 0.7494 - loss: 0.4507 - val_acc: 0.9811 - val_auc: 0.7788 - val_loss: 0.3055\n",
      "Epoch 69/100\n",
      "\u001b[1m315/326\u001b[0m \u001b[32m━━━━━━━━━━━━━━━━━━━\u001b[0m\u001b[37m━\u001b[0m \u001b[1m0s\u001b[0m 2ms/step - acc: 0.8458 - auc: 0.7751 - loss: 0.4405\n",
      "Epoch 69: val_loss did not improve from 0.30549\n",
      "\u001b[1m326/326\u001b[0m \u001b[32m━━━━━━━━━━━━━━━━━━━━\u001b[0m\u001b[37m\u001b[0m \u001b[1m1s\u001b[0m 2ms/step - acc: 0.8454 - auc: 0.7745 - loss: 0.4410 - val_acc: 0.9811 - val_auc: 0.7788 - val_loss: 0.3072\n",
      "Epoch 70/100\n",
      "\u001b[1m320/326\u001b[0m \u001b[32m━━━━━━━━━━━━━━━━━━━\u001b[0m\u001b[37m━\u001b[0m \u001b[1m0s\u001b[0m 2ms/step - acc: 0.8344 - auc: 0.7919 - loss: 0.4449\n",
      "Epoch 70: val_loss did not improve from 0.30549\n",
      "\u001b[1m326/326\u001b[0m \u001b[32m━━━━━━━━━━━━━━━━━━━━\u001b[0m\u001b[37m\u001b[0m \u001b[1m1s\u001b[0m 2ms/step - acc: 0.8345 - auc: 0.7917 - loss: 0.4449 - val_acc: 0.9811 - val_auc: 1.0000 - val_loss: 0.3068\n",
      "Epoch 71/100\n",
      "\u001b[1m322/326\u001b[0m \u001b[32m━━━━━━━━━━━━━━━━━━━\u001b[0m\u001b[37m━\u001b[0m \u001b[1m0s\u001b[0m 2ms/step - acc: 0.8386 - auc: 0.7619 - loss: 0.4462\n",
      "Epoch 71: val_loss did not improve from 0.30549\n",
      "\u001b[1m326/326\u001b[0m \u001b[32m━━━━━━━━━━━━━━━━━━━━\u001b[0m\u001b[37m\u001b[0m \u001b[1m1s\u001b[0m 2ms/step - acc: 0.8385 - auc: 0.7621 - loss: 0.4463 - val_acc: 0.9811 - val_auc: 0.7788 - val_loss: 0.3086\n",
      "Epoch 72/100\n",
      "\u001b[1m301/326\u001b[0m \u001b[32m━━━━━━━━━━━━━━━━━━\u001b[0m\u001b[37m━━\u001b[0m \u001b[1m0s\u001b[0m 2ms/step - acc: 0.8318 - auc: 0.8085 - loss: 0.4455\n",
      "Epoch 72: val_loss did not improve from 0.30549\n",
      "\u001b[1m326/326\u001b[0m \u001b[32m━━━━━━━━━━━━━━━━━━━━\u001b[0m\u001b[37m\u001b[0m \u001b[1m1s\u001b[0m 2ms/step - acc: 0.8328 - auc: 0.8076 - loss: 0.4448 - val_acc: 0.9811 - val_auc: 0.7788 - val_loss: 0.3061\n",
      "Epoch 73/100\n",
      "\u001b[1m303/326\u001b[0m \u001b[32m━━━━━━━━━━━━━━━━━━\u001b[0m\u001b[37m━━\u001b[0m \u001b[1m0s\u001b[0m 2ms/step - acc: 0.8235 - auc: 0.7623 - loss: 0.4644\n",
      "Epoch 73: val_loss improved from 0.30549 to 0.30286, saving model to best_tab_only_fold3.h5\n"
     ]
    },
    {
     "name": "stderr",
     "output_type": "stream",
     "text": [
      "WARNING:absl:You are saving your model as an HDF5 file via `model.save()` or `keras.saving.save_model(model)`. This file format is considered legacy. We recommend using instead the native Keras format, e.g. `model.save('my_model.keras')` or `keras.saving.save_model(model, 'my_model.keras')`. \n"
     ]
    },
    {
     "name": "stdout",
     "output_type": "stream",
     "text": [
      "\b\b\b\b\b\b\b\b\b\b\b\b\b\b\b\b\b\b\b\b\b\b\b\b\b\b\b\b\b\b\b\b\b\b\b\b\b\b\b\b\b\b\b\b\b\b\b\b\b\b\b\b\b\b\b\b\b\b\b\b\b\b\b\b\b\b\b\b\b\b\b\b\b\b\b\b\b\b\b\b\b\b\b\r",
      "\u001b[1m326/326\u001b[0m \u001b[32m━━━━━━━━━━━━━━━━━━━━\u001b[0m\u001b[37m\u001b[0m \u001b[1m1s\u001b[0m 2ms/step - acc: 0.8245 - auc: 0.7648 - loss: 0.4627 - val_acc: 0.9811 - val_auc: 0.7788 - val_loss: 0.3029\n",
      "Epoch 74/100\n",
      "\u001b[1m326/326\u001b[0m \u001b[32m━━━━━━━━━━━━━━━━━━━━\u001b[0m\u001b[37m\u001b[0m \u001b[1m0s\u001b[0m 2ms/step - acc: 0.8185 - auc: 0.7821 - loss: 0.4569\n",
      "Epoch 74: val_loss did not improve from 0.30286\n",
      "\u001b[1m326/326\u001b[0m \u001b[32m━━━━━━━━━━━━━━━━━━━━\u001b[0m\u001b[37m\u001b[0m \u001b[1m1s\u001b[0m 2ms/step - acc: 0.8185 - auc: 0.7822 - loss: 0.4568 - val_acc: 0.9811 - val_auc: 0.7788 - val_loss: 0.3048\n",
      "Epoch 75/100\n",
      "\u001b[1m324/326\u001b[0m \u001b[32m━━━━━━━━━━━━━━━━━━━\u001b[0m\u001b[37m━\u001b[0m \u001b[1m0s\u001b[0m 2ms/step - acc: 0.8452 - auc: 0.8135 - loss: 0.4222\n",
      "Epoch 75: val_loss did not improve from 0.30286\n",
      "\u001b[1m326/326\u001b[0m \u001b[32m━━━━━━━━━━━━━━━━━━━━\u001b[0m\u001b[37m\u001b[0m \u001b[1m1s\u001b[0m 2ms/step - acc: 0.8451 - auc: 0.8134 - loss: 0.4223 - val_acc: 0.9811 - val_auc: 0.7788 - val_loss: 0.3111\n",
      "Epoch 76/100\n",
      "\u001b[1m303/326\u001b[0m \u001b[32m━━━━━━━━━━━━━━━━━━\u001b[0m\u001b[37m━━\u001b[0m \u001b[1m0s\u001b[0m 2ms/step - acc: 0.8311 - auc: 0.8410 - loss: 0.4298\n",
      "Epoch 76: val_loss improved from 0.30286 to 0.30205, saving model to best_tab_only_fold3.h5\n"
     ]
    },
    {
     "name": "stderr",
     "output_type": "stream",
     "text": [
      "WARNING:absl:You are saving your model as an HDF5 file via `model.save()` or `keras.saving.save_model(model)`. This file format is considered legacy. We recommend using instead the native Keras format, e.g. `model.save('my_model.keras')` or `keras.saving.save_model(model, 'my_model.keras')`. \n"
     ]
    },
    {
     "name": "stdout",
     "output_type": "stream",
     "text": [
      "\b\b\b\b\b\b\b\b\b\b\b\b\b\b\b\b\b\b\b\b\b\b\b\b\b\b\b\b\b\b\b\b\b\b\b\b\b\b\b\b\b\b\b\b\b\b\b\b\b\b\b\b\b\b\b\b\b\b\b\b\b\b\b\b\b\b\b\b\b\b\b\b\b\b\b\b\b\b\b\b\b\b\b\r",
      "\u001b[1m326/326\u001b[0m \u001b[32m━━━━━━━━━━━━━━━━━━━━\u001b[0m\u001b[37m\u001b[0m \u001b[1m1s\u001b[0m 2ms/step - acc: 0.8310 - auc: 0.8406 - loss: 0.4299 - val_acc: 0.9811 - val_auc: 0.7788 - val_loss: 0.3021\n",
      "Epoch 77/100\n",
      "\u001b[1m300/326\u001b[0m \u001b[32m━━━━━━━━━━━━━━━━━━\u001b[0m\u001b[37m━━\u001b[0m \u001b[1m0s\u001b[0m 2ms/step - acc: 0.8509 - auc: 0.8202 - loss: 0.4088\n",
      "Epoch 77: val_loss improved from 0.30205 to 0.30025, saving model to best_tab_only_fold3.h5\n"
     ]
    },
    {
     "name": "stderr",
     "output_type": "stream",
     "text": [
      "WARNING:absl:You are saving your model as an HDF5 file via `model.save()` or `keras.saving.save_model(model)`. This file format is considered legacy. We recommend using instead the native Keras format, e.g. `model.save('my_model.keras')` or `keras.saving.save_model(model, 'my_model.keras')`. \n"
     ]
    },
    {
     "name": "stdout",
     "output_type": "stream",
     "text": [
      "\b\b\b\b\b\b\b\b\b\b\b\b\b\b\b\b\b\b\b\b\b\b\b\b\b\b\b\b\b\b\b\b\b\b\b\b\b\b\b\b\b\b\b\b\b\b\b\b\b\b\b\b\b\b\b\b\b\b\b\b\b\b\b\b\b\b\b\b\b\b\b\b\b\b\b\b\b\b\b\b\b\b\b\r",
      "\u001b[1m326/326\u001b[0m \u001b[32m━━━━━━━━━━━━━━━━━━━━\u001b[0m\u001b[37m\u001b[0m \u001b[1m1s\u001b[0m 2ms/step - acc: 0.8493 - auc: 0.8193 - loss: 0.4105 - val_acc: 0.9811 - val_auc: 0.7788 - val_loss: 0.3003\n",
      "Epoch 78/100\n",
      "\u001b[1m322/326\u001b[0m \u001b[32m━━━━━━━━━━━━━━━━━━━\u001b[0m\u001b[37m━\u001b[0m \u001b[1m0s\u001b[0m 2ms/step - acc: 0.8217 - auc: 0.7969 - loss: 0.4428\n",
      "Epoch 78: val_loss improved from 0.30025 to 0.29704, saving model to best_tab_only_fold3.h5\n"
     ]
    },
    {
     "name": "stderr",
     "output_type": "stream",
     "text": [
      "WARNING:absl:You are saving your model as an HDF5 file via `model.save()` or `keras.saving.save_model(model)`. This file format is considered legacy. We recommend using instead the native Keras format, e.g. `model.save('my_model.keras')` or `keras.saving.save_model(model, 'my_model.keras')`. \n"
     ]
    },
    {
     "name": "stdout",
     "output_type": "stream",
     "text": [
      "\b\b\b\b\b\b\b\b\b\b\b\b\b\b\b\b\b\b\b\b\b\b\b\b\b\b\b\b\b\b\b\b\b\b\b\b\b\b\b\b\b\b\b\b\b\b\b\b\b\b\b\b\b\b\b\b\b\b\b\b\b\b\b\b\b\b\b\b\b\b\b\b\b\b\b\b\b\b\b\b\b\b\b\r",
      "\u001b[1m326/326\u001b[0m \u001b[32m━━━━━━━━━━━━━━━━━━━━\u001b[0m\u001b[37m\u001b[0m \u001b[1m1s\u001b[0m 2ms/step - acc: 0.8217 - auc: 0.7969 - loss: 0.4428 - val_acc: 0.9811 - val_auc: 0.7788 - val_loss: 0.2970\n",
      "Epoch 79/100\n",
      "\u001b[1m322/326\u001b[0m \u001b[32m━━━━━━━━━━━━━━━━━━━\u001b[0m\u001b[37m━\u001b[0m \u001b[1m0s\u001b[0m 2ms/step - acc: 0.8341 - auc: 0.7733 - loss: 0.4440\n",
      "Epoch 79: val_loss improved from 0.29704 to 0.29566, saving model to best_tab_only_fold3.h5\n"
     ]
    },
    {
     "name": "stderr",
     "output_type": "stream",
     "text": [
      "WARNING:absl:You are saving your model as an HDF5 file via `model.save()` or `keras.saving.save_model(model)`. This file format is considered legacy. We recommend using instead the native Keras format, e.g. `model.save('my_model.keras')` or `keras.saving.save_model(model, 'my_model.keras')`. \n"
     ]
    },
    {
     "name": "stdout",
     "output_type": "stream",
     "text": [
      "\b\b\b\b\b\b\b\b\b\b\b\b\b\b\b\b\b\b\b\b\b\b\b\b\b\b\b\b\b\b\b\b\b\b\b\b\b\b\b\b\b\b\b\b\b\b\b\b\b\b\b\b\b\b\b\b\b\b\b\b\b\b\b\b\b\b\b\b\b\b\b\b\b\b\b\b\b\b\b\b\b\b\b\r",
      "\u001b[1m326/326\u001b[0m \u001b[32m━━━━━━━━━━━━━━━━━━━━\u001b[0m\u001b[37m\u001b[0m \u001b[1m1s\u001b[0m 2ms/step - acc: 0.8343 - auc: 0.7741 - loss: 0.4437 - val_acc: 0.9811 - val_auc: 1.0000 - val_loss: 0.2957\n",
      "Epoch 80/100\n",
      "\u001b[1m318/326\u001b[0m \u001b[32m━━━━━━━━━━━━━━━━━━━\u001b[0m\u001b[37m━\u001b[0m \u001b[1m0s\u001b[0m 2ms/step - acc: 0.8535 - auc: 0.8077 - loss: 0.4247\n",
      "Epoch 80: val_loss improved from 0.29566 to 0.29242, saving model to best_tab_only_fold3.h5\n"
     ]
    },
    {
     "name": "stderr",
     "output_type": "stream",
     "text": [
      "WARNING:absl:You are saving your model as an HDF5 file via `model.save()` or `keras.saving.save_model(model)`. This file format is considered legacy. We recommend using instead the native Keras format, e.g. `model.save('my_model.keras')` or `keras.saving.save_model(model, 'my_model.keras')`. \n"
     ]
    },
    {
     "name": "stdout",
     "output_type": "stream",
     "text": [
      "\b\b\b\b\b\b\b\b\b\b\b\b\b\b\b\b\b\b\b\b\b\b\b\b\b\b\b\b\b\b\b\b\b\b\b\b\b\b\b\b\b\b\b\b\b\b\b\b\b\b\b\b\b\b\b\b\b\b\b\b\b\b\b\b\b\b\b\b\b\b\b\b\b\b\b\b\b\b\b\b\b\b\b\r",
      "\u001b[1m326/326\u001b[0m \u001b[32m━━━━━━━━━━━━━━━━━━━━\u001b[0m\u001b[37m\u001b[0m \u001b[1m1s\u001b[0m 2ms/step - acc: 0.8533 - auc: 0.8078 - loss: 0.4247 - val_acc: 0.9811 - val_auc: 0.7788 - val_loss: 0.2924\n",
      "Epoch 81/100\n",
      "\u001b[1m314/326\u001b[0m \u001b[32m━━━━━━━━━━━━━━━━━━━\u001b[0m\u001b[37m━\u001b[0m \u001b[1m0s\u001b[0m 2ms/step - acc: 0.8350 - auc: 0.8126 - loss: 0.4320\n",
      "Epoch 81: val_loss improved from 0.29242 to 0.29198, saving model to best_tab_only_fold3.h5\n"
     ]
    },
    {
     "name": "stderr",
     "output_type": "stream",
     "text": [
      "WARNING:absl:You are saving your model as an HDF5 file via `model.save()` or `keras.saving.save_model(model)`. This file format is considered legacy. We recommend using instead the native Keras format, e.g. `model.save('my_model.keras')` or `keras.saving.save_model(model, 'my_model.keras')`. \n"
     ]
    },
    {
     "name": "stdout",
     "output_type": "stream",
     "text": [
      "\b\b\b\b\b\b\b\b\b\b\b\b\b\b\b\b\b\b\b\b\b\b\b\b\b\b\b\b\b\b\b\b\b\b\b\b\b\b\b\b\b\b\b\b\b\b\b\b\b\b\b\b\b\b\b\b\b\b\b\b\b\b\b\b\b\b\b\b\b\b\b\b\b\b\b\b\b\b\b\b\b\b\b\r",
      "\u001b[1m326/326\u001b[0m \u001b[32m━━━━━━━━━━━━━━━━━━━━\u001b[0m\u001b[37m\u001b[0m \u001b[1m1s\u001b[0m 2ms/step - acc: 0.8354 - auc: 0.8133 - loss: 0.4316 - val_acc: 0.9811 - val_auc: 0.7788 - val_loss: 0.2920\n",
      "Epoch 82/100\n",
      "\u001b[1m300/326\u001b[0m \u001b[32m━━━━━━━━━━━━━━━━━━\u001b[0m\u001b[37m━━\u001b[0m \u001b[1m0s\u001b[0m 2ms/step - acc: 0.8150 - auc: 0.8007 - loss: 0.4473\n",
      "Epoch 82: val_loss did not improve from 0.29198\n",
      "\u001b[1m326/326\u001b[0m \u001b[32m━━━━━━━━━━━━━━━━━━━━\u001b[0m\u001b[37m\u001b[0m \u001b[1m1s\u001b[0m 2ms/step - acc: 0.8158 - auc: 0.8006 - loss: 0.4467 - val_acc: 0.9811 - val_auc: 0.7788 - val_loss: 0.2952\n",
      "Epoch 83/100\n",
      "\u001b[1m318/326\u001b[0m \u001b[32m━━━━━━━━━━━━━━━━━━━\u001b[0m\u001b[37m━\u001b[0m \u001b[1m0s\u001b[0m 2ms/step - acc: 0.8510 - auc: 0.8465 - loss: 0.4085\n",
      "Epoch 83: val_loss did not improve from 0.29198\n",
      "\u001b[1m326/326\u001b[0m \u001b[32m━━━━━━━━━━━━━━━━━━━━\u001b[0m\u001b[37m\u001b[0m \u001b[1m1s\u001b[0m 2ms/step - acc: 0.8505 - auc: 0.8458 - loss: 0.4092 - val_acc: 0.9811 - val_auc: 0.7788 - val_loss: 0.2942\n",
      "Epoch 84/100\n",
      "\u001b[1m320/326\u001b[0m \u001b[32m━━━━━━━━━━━━━━━━━━━\u001b[0m\u001b[37m━\u001b[0m \u001b[1m0s\u001b[0m 2ms/step - acc: 0.8387 - auc: 0.7941 - loss: 0.4410\n",
      "Epoch 84: val_loss did not improve from 0.29198\n",
      "\u001b[1m326/326\u001b[0m \u001b[32m━━━━━━━━━━━━━━━━━━━━\u001b[0m\u001b[37m\u001b[0m \u001b[1m1s\u001b[0m 2ms/step - acc: 0.8388 - auc: 0.7945 - loss: 0.4407 - val_acc: 0.9811 - val_auc: 0.7788 - val_loss: 0.2925\n",
      "Epoch 85/100\n",
      "\u001b[1m324/326\u001b[0m \u001b[32m━━━━━━━━━━━━━━━━━━━\u001b[0m\u001b[37m━\u001b[0m \u001b[1m0s\u001b[0m 2ms/step - acc: 0.8282 - auc: 0.7889 - loss: 0.4455\n",
      "Epoch 85: val_loss improved from 0.29198 to 0.29156, saving model to best_tab_only_fold3.h5\n"
     ]
    },
    {
     "name": "stderr",
     "output_type": "stream",
     "text": [
      "WARNING:absl:You are saving your model as an HDF5 file via `model.save()` or `keras.saving.save_model(model)`. This file format is considered legacy. We recommend using instead the native Keras format, e.g. `model.save('my_model.keras')` or `keras.saving.save_model(model, 'my_model.keras')`. \n"
     ]
    },
    {
     "name": "stdout",
     "output_type": "stream",
     "text": [
      "\b\b\b\b\b\b\b\b\b\b\b\b\b\b\b\b\b\b\b\b\b\b\b\b\b\b\b\b\b\b\b\b\b\b\b\b\b\b\b\b\b\b\b\b\b\b\b\b\b\b\b\b\b\b\b\b\b\b\b\b\b\b\b\b\b\b\b\b\b\b\b\b\b\b\b\b\b\b\b\b\b\b\b\r",
      "\u001b[1m326/326\u001b[0m \u001b[32m━━━━━━━━━━━━━━━━━━━━\u001b[0m\u001b[37m\u001b[0m \u001b[1m1s\u001b[0m 2ms/step - acc: 0.8282 - auc: 0.7890 - loss: 0.4454 - val_acc: 0.9811 - val_auc: 1.0000 - val_loss: 0.2916\n",
      "Epoch 86/100\n",
      "\u001b[1m317/326\u001b[0m \u001b[32m━━━━━━━━━━━━━━━━━━━\u001b[0m\u001b[37m━\u001b[0m \u001b[1m0s\u001b[0m 2ms/step - acc: 0.8304 - auc: 0.8030 - loss: 0.4407\n",
      "Epoch 86: val_loss did not improve from 0.29156\n",
      "\u001b[1m326/326\u001b[0m \u001b[32m━━━━━━━━━━━━━━━━━━━━\u001b[0m\u001b[37m\u001b[0m \u001b[1m1s\u001b[0m 2ms/step - acc: 0.8303 - auc: 0.8032 - loss: 0.4407 - val_acc: 0.9811 - val_auc: 1.0000 - val_loss: 0.2944\n",
      "Epoch 87/100\n",
      "\u001b[1m322/326\u001b[0m \u001b[32m━━━━━━━━━━━━━━━━━━━\u001b[0m\u001b[37m━\u001b[0m \u001b[1m0s\u001b[0m 2ms/step - acc: 0.8272 - auc: 0.8291 - loss: 0.4335\n",
      "Epoch 87: val_loss improved from 0.29156 to 0.28799, saving model to best_tab_only_fold3.h5\n"
     ]
    },
    {
     "name": "stderr",
     "output_type": "stream",
     "text": [
      "WARNING:absl:You are saving your model as an HDF5 file via `model.save()` or `keras.saving.save_model(model)`. This file format is considered legacy. We recommend using instead the native Keras format, e.g. `model.save('my_model.keras')` or `keras.saving.save_model(model, 'my_model.keras')`. \n"
     ]
    },
    {
     "name": "stdout",
     "output_type": "stream",
     "text": [
      "\b\b\b\b\b\b\b\b\b\b\b\b\b\b\b\b\b\b\b\b\b\b\b\b\b\b\b\b\b\b\b\b\b\b\b\b\b\b\b\b\b\b\b\b\b\b\b\b\b\b\b\b\b\b\b\b\b\b\b\b\b\b\b\b\b\b\b\b\b\b\b\b\b\b\b\b\b\b\b\b\b\b\b\r",
      "\u001b[1m326/326\u001b[0m \u001b[32m━━━━━━━━━━━━━━━━━━━━\u001b[0m\u001b[37m\u001b[0m \u001b[1m1s\u001b[0m 2ms/step - acc: 0.8274 - auc: 0.8292 - loss: 0.4333 - val_acc: 0.9811 - val_auc: 0.7788 - val_loss: 0.2880\n",
      "Epoch 88/100\n",
      "\u001b[1m323/326\u001b[0m \u001b[32m━━━━━━━━━━━━━━━━━━━\u001b[0m\u001b[37m━\u001b[0m \u001b[1m0s\u001b[0m 2ms/step - acc: 0.8406 - auc: 0.8313 - loss: 0.4124\n",
      "Epoch 88: val_loss improved from 0.28799 to 0.28740, saving model to best_tab_only_fold3.h5\n"
     ]
    },
    {
     "name": "stderr",
     "output_type": "stream",
     "text": [
      "WARNING:absl:You are saving your model as an HDF5 file via `model.save()` or `keras.saving.save_model(model)`. This file format is considered legacy. We recommend using instead the native Keras format, e.g. `model.save('my_model.keras')` or `keras.saving.save_model(model, 'my_model.keras')`. \n"
     ]
    },
    {
     "name": "stdout",
     "output_type": "stream",
     "text": [
      "\b\b\b\b\b\b\b\b\b\b\b\b\b\b\b\b\b\b\b\b\b\b\b\b\b\b\b\b\b\b\b\b\b\b\b\b\b\b\b\b\b\b\b\b\b\b\b\b\b\b\b\b\b\b\b\b\b\b\b\b\b\b\b\b\b\b\b\b\b\b\b\b\b\b\b\b\b\b\b\b\b\b\b\r",
      "\u001b[1m326/326\u001b[0m \u001b[32m━━━━━━━━━━━━━━━━━━━━\u001b[0m\u001b[37m\u001b[0m \u001b[1m1s\u001b[0m 2ms/step - acc: 0.8406 - auc: 0.8312 - loss: 0.4125 - val_acc: 0.9811 - val_auc: 0.7788 - val_loss: 0.2874\n",
      "Epoch 89/100\n",
      "\u001b[1m324/326\u001b[0m \u001b[32m━━━━━━━━━━━━━━━━━━━\u001b[0m\u001b[37m━\u001b[0m \u001b[1m0s\u001b[0m 2ms/step - acc: 0.8437 - auc: 0.7985 - loss: 0.4264\n",
      "Epoch 89: val_loss did not improve from 0.28740\n",
      "\u001b[1m326/326\u001b[0m \u001b[32m━━━━━━━━━━━━━━━━━━━━\u001b[0m\u001b[37m\u001b[0m \u001b[1m1s\u001b[0m 2ms/step - acc: 0.8436 - auc: 0.7986 - loss: 0.4264 - val_acc: 0.9811 - val_auc: 0.7788 - val_loss: 0.2889\n",
      "Epoch 90/100\n",
      "\u001b[1m302/326\u001b[0m \u001b[32m━━━━━━━━━━━━━━━━━━\u001b[0m\u001b[37m━━\u001b[0m \u001b[1m0s\u001b[0m 2ms/step - acc: 0.8330 - auc: 0.8331 - loss: 0.4173\n",
      "Epoch 90: val_loss did not improve from 0.28740\n",
      "\u001b[1m326/326\u001b[0m \u001b[32m━━━━━━━━━━━━━━━━━━━━\u001b[0m\u001b[37m\u001b[0m \u001b[1m1s\u001b[0m 2ms/step - acc: 0.8322 - auc: 0.8321 - loss: 0.4184 - val_acc: 0.9811 - val_auc: 0.7788 - val_loss: 0.2944\n",
      "Epoch 91/100\n",
      "\u001b[1m300/326\u001b[0m \u001b[32m━━━━━━━━━━━━━━━━━━\u001b[0m\u001b[37m━━\u001b[0m \u001b[1m0s\u001b[0m 2ms/step - acc: 0.8288 - auc: 0.7962 - loss: 0.4358\n",
      "Epoch 91: val_loss improved from 0.28740 to 0.28552, saving model to best_tab_only_fold3.h5\n"
     ]
    },
    {
     "name": "stderr",
     "output_type": "stream",
     "text": [
      "WARNING:absl:You are saving your model as an HDF5 file via `model.save()` or `keras.saving.save_model(model)`. This file format is considered legacy. We recommend using instead the native Keras format, e.g. `model.save('my_model.keras')` or `keras.saving.save_model(model, 'my_model.keras')`. \n"
     ]
    },
    {
     "name": "stdout",
     "output_type": "stream",
     "text": [
      "\b\b\b\b\b\b\b\b\b\b\b\b\b\b\b\b\b\b\b\b\b\b\b\b\b\b\b\b\b\b\b\b\b\b\b\b\b\b\b\b\b\b\b\b\b\b\b\b\b\b\b\b\b\b\b\b\b\b\b\b\b\b\b\b\b\b\b\b\b\b\b\b\b\b\b\b\b\b\b\b\b\b\b\r",
      "\u001b[1m326/326\u001b[0m \u001b[32m━━━━━━━━━━━━━━━━━━━━\u001b[0m\u001b[37m\u001b[0m \u001b[1m1s\u001b[0m 2ms/step - acc: 0.8305 - auc: 0.7994 - loss: 0.4335 - val_acc: 0.9811 - val_auc: 0.7788 - val_loss: 0.2855\n",
      "Epoch 92/100\n",
      "\u001b[1m324/326\u001b[0m \u001b[32m━━━━━━━━━━━━━━━━━━━\u001b[0m\u001b[37m━\u001b[0m \u001b[1m0s\u001b[0m 2ms/step - acc: 0.8429 - auc: 0.8412 - loss: 0.4066\n",
      "Epoch 92: val_loss did not improve from 0.28552\n",
      "\u001b[1m326/326\u001b[0m \u001b[32m━━━━━━━━━━━━━━━━━━━━\u001b[0m\u001b[37m\u001b[0m \u001b[1m1s\u001b[0m 2ms/step - acc: 0.8429 - auc: 0.8411 - loss: 0.4066 - val_acc: 0.9811 - val_auc: 0.7788 - val_loss: 0.2864\n",
      "Epoch 93/100\n",
      "\u001b[1m301/326\u001b[0m \u001b[32m━━━━━━━━━━━━━━━━━━\u001b[0m\u001b[37m━━\u001b[0m \u001b[1m0s\u001b[0m 2ms/step - acc: 0.8123 - auc: 0.7937 - loss: 0.4435\n",
      "Epoch 93: val_loss did not improve from 0.28552\n",
      "\u001b[1m326/326\u001b[0m \u001b[32m━━━━━━━━━━━━━━━━━━━━\u001b[0m\u001b[37m\u001b[0m \u001b[1m1s\u001b[0m 2ms/step - acc: 0.8137 - auc: 0.7958 - loss: 0.4417 - val_acc: 0.9811 - val_auc: 1.0000 - val_loss: 0.2859\n",
      "Epoch 94/100\n",
      "\u001b[1m326/326\u001b[0m \u001b[32m━━━━━━━━━━━━━━━━━━━━\u001b[0m\u001b[37m\u001b[0m \u001b[1m0s\u001b[0m 2ms/step - acc: 0.8280 - auc: 0.8345 - loss: 0.4186\n",
      "Epoch 94: val_loss improved from 0.28552 to 0.28135, saving model to best_tab_only_fold3.h5\n"
     ]
    },
    {
     "name": "stderr",
     "output_type": "stream",
     "text": [
      "WARNING:absl:You are saving your model as an HDF5 file via `model.save()` or `keras.saving.save_model(model)`. This file format is considered legacy. We recommend using instead the native Keras format, e.g. `model.save('my_model.keras')` or `keras.saving.save_model(model, 'my_model.keras')`. \n"
     ]
    },
    {
     "name": "stdout",
     "output_type": "stream",
     "text": [
      "\b\b\b\b\b\b\b\b\b\b\b\b\b\b\b\b\b\b\b\b\b\b\b\b\b\b\b\b\b\b\b\b\b\b\b\b\b\b\b\b\b\b\b\b\b\b\b\b\b\b\b\b\b\b\b\b\b\b\b\b\b\b\b\b\b\b\b\b\b\b\b\b\b\b\b\b\b\b\b\b\b\b\b\r",
      "\u001b[1m326/326\u001b[0m \u001b[32m━━━━━━━━━━━━━━━━━━━━\u001b[0m\u001b[37m\u001b[0m \u001b[1m1s\u001b[0m 2ms/step - acc: 0.8281 - auc: 0.8346 - loss: 0.4185 - val_acc: 0.9811 - val_auc: 0.7788 - val_loss: 0.2814\n",
      "Epoch 95/100\n",
      "\u001b[1m326/326\u001b[0m \u001b[32m━━━━━━━━━━━━━━━━━━━━\u001b[0m\u001b[37m\u001b[0m \u001b[1m0s\u001b[0m 2ms/step - acc: 0.8516 - auc: 0.8540 - loss: 0.3945\n",
      "Epoch 95: val_loss improved from 0.28135 to 0.28014, saving model to best_tab_only_fold3.h5\n"
     ]
    },
    {
     "name": "stderr",
     "output_type": "stream",
     "text": [
      "WARNING:absl:You are saving your model as an HDF5 file via `model.save()` or `keras.saving.save_model(model)`. This file format is considered legacy. We recommend using instead the native Keras format, e.g. `model.save('my_model.keras')` or `keras.saving.save_model(model, 'my_model.keras')`. \n"
     ]
    },
    {
     "name": "stdout",
     "output_type": "stream",
     "text": [
      "\b\b\b\b\b\b\b\b\b\b\b\b\b\b\b\b\b\b\b\b\b\b\b\b\b\b\b\b\b\b\b\b\b\b\b\b\b\b\b\b\b\b\b\b\b\b\b\b\b\b\b\b\b\b\b\b\b\b\b\b\b\b\b\b\b\b\b\b\b\b\b\b\b\b\b\b\b\b\b\b\b\b\b\r",
      "\u001b[1m326/326\u001b[0m \u001b[32m━━━━━━━━━━━━━━━━━━━━\u001b[0m\u001b[37m\u001b[0m \u001b[1m1s\u001b[0m 2ms/step - acc: 0.8516 - auc: 0.8539 - loss: 0.3946 - val_acc: 0.9811 - val_auc: 0.7788 - val_loss: 0.2801\n",
      "Epoch 96/100\n",
      "\u001b[1m310/326\u001b[0m \u001b[32m━━━━━━━━━━━━━━━━━━━\u001b[0m\u001b[37m━\u001b[0m \u001b[1m0s\u001b[0m 2ms/step - acc: 0.8487 - auc: 0.8482 - loss: 0.3966\n",
      "Epoch 96: val_loss did not improve from 0.28014\n",
      "\u001b[1m326/326\u001b[0m \u001b[32m━━━━━━━━━━━━━━━━━━━━\u001b[0m\u001b[37m\u001b[0m \u001b[1m1s\u001b[0m 2ms/step - acc: 0.8479 - auc: 0.8474 - loss: 0.3976 - val_acc: 0.9811 - val_auc: 0.7788 - val_loss: 0.2850\n",
      "Epoch 97/100\n",
      "\u001b[1m310/326\u001b[0m \u001b[32m━━━━━━━━━━━━━━━━━━━\u001b[0m\u001b[37m━\u001b[0m \u001b[1m0s\u001b[0m 2ms/step - acc: 0.8411 - auc: 0.8294 - loss: 0.4117\n",
      "Epoch 97: val_loss did not improve from 0.28014\n",
      "\u001b[1m326/326\u001b[0m \u001b[32m━━━━━━━━━━━━━━━━━━━━\u001b[0m\u001b[37m\u001b[0m \u001b[1m1s\u001b[0m 2ms/step - acc: 0.8415 - auc: 0.8298 - loss: 0.4113 - val_acc: 0.9811 - val_auc: 0.7788 - val_loss: 0.2821\n",
      "Epoch 98/100\n",
      "\u001b[1m311/326\u001b[0m \u001b[32m━━━━━━━━━━━━━━━━━━━\u001b[0m\u001b[37m━\u001b[0m \u001b[1m0s\u001b[0m 2ms/step - acc: 0.8325 - auc: 0.8391 - loss: 0.4136\n",
      "Epoch 98: val_loss did not improve from 0.28014\n",
      "\u001b[1m326/326\u001b[0m \u001b[32m━━━━━━━━━━━━━━━━━━━━\u001b[0m\u001b[37m\u001b[0m \u001b[1m1s\u001b[0m 2ms/step - acc: 0.8330 - auc: 0.8389 - loss: 0.4130 - val_acc: 0.9811 - val_auc: 1.0000 - val_loss: 0.2802\n",
      "Epoch 99/100\n",
      "\u001b[1m320/326\u001b[0m \u001b[32m━━━━━━━━━━━━━━━━━━━\u001b[0m\u001b[37m━\u001b[0m \u001b[1m0s\u001b[0m 2ms/step - acc: 0.8288 - auc: 0.8424 - loss: 0.4205\n",
      "Epoch 99: val_loss did not improve from 0.28014\n",
      "\u001b[1m326/326\u001b[0m \u001b[32m━━━━━━━━━━━━━━━━━━━━\u001b[0m\u001b[37m\u001b[0m \u001b[1m1s\u001b[0m 2ms/step - acc: 0.8290 - auc: 0.8426 - loss: 0.4202 - val_acc: 0.9811 - val_auc: 0.7788 - val_loss: 0.2801\n",
      "Epoch 100/100\n",
      "\u001b[1m320/326\u001b[0m \u001b[32m━━━━━━━━━━━━━━━━━━━\u001b[0m\u001b[37m━\u001b[0m \u001b[1m0s\u001b[0m 2ms/step - acc: 0.8313 - auc: 0.8064 - loss: 0.4290\n",
      "Epoch 100: val_loss improved from 0.28014 to 0.27702, saving model to best_tab_only_fold3.h5\n"
     ]
    },
    {
     "name": "stderr",
     "output_type": "stream",
     "text": [
      "WARNING:absl:You are saving your model as an HDF5 file via `model.save()` or `keras.saving.save_model(model)`. This file format is considered legacy. We recommend using instead the native Keras format, e.g. `model.save('my_model.keras')` or `keras.saving.save_model(model, 'my_model.keras')`. \n"
     ]
    },
    {
     "name": "stdout",
     "output_type": "stream",
     "text": [
      "\b\b\b\b\b\b\b\b\b\b\b\b\b\b\b\b\b\b\b\b\b\b\b\b\b\b\b\b\b\b\b\b\b\b\b\b\b\b\b\b\b\b\b\b\b\b\b\b\b\b\b\b\b\b\b\b\b\b\b\b\b\b\b\b\b\b\b\b\b\b\b\b\b\b\b\b\b\b\b\b\b\b\b\r",
      "\u001b[1m326/326\u001b[0m \u001b[32m━━━━━━━━━━━━━━━━━━━━\u001b[0m\u001b[37m\u001b[0m \u001b[1m1s\u001b[0m 2ms/step - acc: 0.8313 - auc: 0.8068 - loss: 0.4288 - val_acc: 0.9811 - val_auc: 0.7788 - val_loss: 0.2770\n"
     ]
    },
    {
     "name": "stderr",
     "output_type": "stream",
     "text": [
      "WARNING:absl:Compiled the loaded model, but the compiled metrics have yet to be built. `model.compile_metrics` will be empty until you train or evaluate the model.\n",
      "WARNING:tensorflow:5 out of the last 40 calls to <function TensorFlowTrainer.make_predict_function.<locals>.one_step_on_data_distributed at 0x7cd1501dee80> triggered tf.function retracing. Tracing is expensive and the excessive number of tracings could be due to (1) creating @tf.function repeatedly in a loop, (2) passing tensors with different shapes, (3) passing Python objects instead of tensors. For (1), please define your @tf.function outside of the loop. For (2), @tf.function has reduce_retracing=True option that can avoid unnecessary retracing. For (3), please refer to https://www.tensorflow.org/guide/function#controlling_retracing and https://www.tensorflow.org/api_docs/python/tf/function for  more details.\n"
     ]
    },
    {
     "name": "stdout",
     "output_type": "stream",
     "text": [
      "Fold 3 | VAL  | AUC=1.0000 | ACC=0.9811 | n=53\n",
      "Fold 3 | TEST | AUC=1.0000 | ACC=0.5207 | n=169\n",
      "\n",
      "--- Fold 4/10 ---\n",
      " train | ids:   35 | files:  968 | pos:  337 | neg:  631\n",
      "   val | ids:    4 | files:  181 | pos:   38 | neg:  143\n",
      "  test | ids:    5 | files:   51 | pos:   30 | neg:   21\n",
      "Epoch 1/100\n"
     ]
    },
    {
     "name": "stderr",
     "output_type": "stream",
     "text": [
      "/usr/local/lib/python3.12/dist-packages/keras/src/models/functional.py:241: UserWarning: The structure of `inputs` doesn't match the expected structure.\n",
      "Expected: tab_input\n",
      "Received: inputs=['Tensor(shape=(None, 4))']\n",
      "  warnings.warn(msg)\n"
     ]
    },
    {
     "name": "stdout",
     "output_type": "stream",
     "text": [
      "\u001b[1m308/323\u001b[0m \u001b[32m━━━━━━━━━━━━━━━━━━━\u001b[0m\u001b[37m━\u001b[0m \u001b[1m0s\u001b[0m 6ms/step - acc: 0.2704 - auc: 0.2893 - loss: 0.7551\n",
      "Epoch 1: val_loss improved from inf to 0.70557, saving model to best_tab_only_fold4.h5\n"
     ]
    },
    {
     "name": "stderr",
     "output_type": "stream",
     "text": [
      "WARNING:absl:You are saving your model as an HDF5 file via `model.save()` or `keras.saving.save_model(model)`. This file format is considered legacy. We recommend using instead the native Keras format, e.g. `model.save('my_model.keras')` or `keras.saving.save_model(model, 'my_model.keras')`. \n"
     ]
    },
    {
     "name": "stdout",
     "output_type": "stream",
     "text": [
      "\b\b\b\b\b\b\b\b\b\b\b\b\b\b\b\b\b\b\b\b\b\b\b\b\b\b\b\b\b\b\b\b\b\b\b\b\b\b\b\b\b\b\b\b\b\b\b\b\b\b\b\b\b\b\b\b\b\b\b\b\b\b\b\b\b\b\b\b\b\b\b\b\b\b\b\b\b\b\b\b\b\b\b\r",
      "\u001b[1m323/323\u001b[0m \u001b[32m━━━━━━━━━━━━━━━━━━━━\u001b[0m\u001b[37m\u001b[0m \u001b[1m5s\u001b[0m 10ms/step - acc: 0.2702 - auc: 0.2898 - loss: 0.7544 - val_acc: 0.4254 - val_auc: 0.3706 - val_loss: 0.7056\n",
      "Epoch 2/100\n",
      "\u001b[1m297/323\u001b[0m \u001b[32m━━━━━━━━━━━━━━━━━━\u001b[0m\u001b[37m━━\u001b[0m \u001b[1m0s\u001b[0m 2ms/step - acc: 0.4249 - auc: 0.3236 - loss: 0.7076\n",
      "Epoch 2: val_loss improved from 0.70557 to 0.65780, saving model to best_tab_only_fold4.h5\n"
     ]
    },
    {
     "name": "stderr",
     "output_type": "stream",
     "text": [
      "WARNING:absl:You are saving your model as an HDF5 file via `model.save()` or `keras.saving.save_model(model)`. This file format is considered legacy. We recommend using instead the native Keras format, e.g. `model.save('my_model.keras')` or `keras.saving.save_model(model, 'my_model.keras')`. \n"
     ]
    },
    {
     "name": "stdout",
     "output_type": "stream",
     "text": [
      "\b\b\b\b\b\b\b\b\b\b\b\b\b\b\b\b\b\b\b\b\b\b\b\b\b\b\b\b\b\b\b\b\b\b\b\b\b\b\b\b\b\b\b\b\b\b\b\b\b\b\b\b\b\b\b\b\b\b\b\b\b\b\b\b\b\b\b\b\b\b\b\b\b\b\b\b\b\b\b\b\b\b\b\r",
      "\u001b[1m323/323\u001b[0m \u001b[32m━━━━━━━━━━━━━━━━━━━━\u001b[0m\u001b[37m\u001b[0m \u001b[1m1s\u001b[0m 2ms/step - acc: 0.4325 - auc: 0.3256 - loss: 0.7068 - val_acc: 0.7901 - val_auc: 0.2727 - val_loss: 0.6578\n",
      "Epoch 3/100\n",
      "\u001b[1m317/323\u001b[0m \u001b[32m━━━━━━━━━━━━━━━━━━━\u001b[0m\u001b[37m━\u001b[0m \u001b[1m0s\u001b[0m 2ms/step - acc: 0.6002 - auc: 0.5421 - loss: 0.6737\n",
      "Epoch 3: val_loss improved from 0.65780 to 0.62852, saving model to best_tab_only_fold4.h5\n"
     ]
    },
    {
     "name": "stderr",
     "output_type": "stream",
     "text": [
      "WARNING:absl:You are saving your model as an HDF5 file via `model.save()` or `keras.saving.save_model(model)`. This file format is considered legacy. We recommend using instead the native Keras format, e.g. `model.save('my_model.keras')` or `keras.saving.save_model(model, 'my_model.keras')`. \n"
     ]
    },
    {
     "name": "stdout",
     "output_type": "stream",
     "text": [
      "\b\b\b\b\b\b\b\b\b\b\b\b\b\b\b\b\b\b\b\b\b\b\b\b\b\b\b\b\b\b\b\b\b\b\b\b\b\b\b\b\b\b\b\b\b\b\b\b\b\b\b\b\b\b\b\b\b\b\b\b\b\b\b\b\b\b\b\b\b\b\b\b\b\b\b\b\b\b\b\b\b\b\b\r",
      "\u001b[1m323/323\u001b[0m \u001b[32m━━━━━━━━━━━━━━━━━━━━\u001b[0m\u001b[37m\u001b[0m \u001b[1m1s\u001b[0m 3ms/step - acc: 0.6000 - auc: 0.5430 - loss: 0.6736 - val_acc: 0.7901 - val_auc: 0.0000e+00 - val_loss: 0.6285\n",
      "Epoch 4/100\n",
      "\u001b[1m316/323\u001b[0m \u001b[32m━━━━━━━━━━━━━━━━━━━\u001b[0m\u001b[37m━\u001b[0m \u001b[1m0s\u001b[0m 2ms/step - acc: 0.6116 - auc: 0.6121 - loss: 0.6590\n",
      "Epoch 4: val_loss improved from 0.62852 to 0.60951, saving model to best_tab_only_fold4.h5\n"
     ]
    },
    {
     "name": "stderr",
     "output_type": "stream",
     "text": [
      "WARNING:absl:You are saving your model as an HDF5 file via `model.save()` or `keras.saving.save_model(model)`. This file format is considered legacy. We recommend using instead the native Keras format, e.g. `model.save('my_model.keras')` or `keras.saving.save_model(model, 'my_model.keras')`. \n"
     ]
    },
    {
     "name": "stdout",
     "output_type": "stream",
     "text": [
      "\b\b\b\b\b\b\b\b\b\b\b\b\b\b\b\b\b\b\b\b\b\b\b\b\b\b\b\b\b\b\b\b\b\b\b\b\b\b\b\b\b\b\b\b\b\b\b\b\b\b\b\b\b\b\b\b\b\b\b\b\b\b\b\b\b\b\b\b\b\b\b\b\b\b\b\b\b\b\b\b\b\b\b\r",
      "\u001b[1m323/323\u001b[0m \u001b[32m━━━━━━━━━━━━━━━━━━━━\u001b[0m\u001b[37m\u001b[0m \u001b[1m1s\u001b[0m 3ms/step - acc: 0.6122 - auc: 0.6121 - loss: 0.6588 - val_acc: 0.7901 - val_auc: 0.0000e+00 - val_loss: 0.6095\n",
      "Epoch 5/100\n",
      "\u001b[1m311/323\u001b[0m \u001b[32m━━━━━━━━━━━━━━━━━━━\u001b[0m\u001b[37m━\u001b[0m \u001b[1m0s\u001b[0m 2ms/step - acc: 0.6611 - auc: 0.6311 - loss: 0.6383\n",
      "Epoch 5: val_loss improved from 0.60951 to 0.60036, saving model to best_tab_only_fold4.h5\n"
     ]
    },
    {
     "name": "stderr",
     "output_type": "stream",
     "text": [
      "WARNING:absl:You are saving your model as an HDF5 file via `model.save()` or `keras.saving.save_model(model)`. This file format is considered legacy. We recommend using instead the native Keras format, e.g. `model.save('my_model.keras')` or `keras.saving.save_model(model, 'my_model.keras')`. \n"
     ]
    },
    {
     "name": "stdout",
     "output_type": "stream",
     "text": [
      "\b\b\b\b\b\b\b\b\b\b\b\b\b\b\b\b\b\b\b\b\b\b\b\b\b\b\b\b\b\b\b\b\b\b\b\b\b\b\b\b\b\b\b\b\b\b\b\b\b\b\b\b\b\b\b\b\b\b\b\b\b\b\b\b\b\b\b\b\b\b\b\b\b\b\b\b\b\b\b\b\b\b\b\r",
      "\u001b[1m323/323\u001b[0m \u001b[32m━━━━━━━━━━━━━━━━━━━━\u001b[0m\u001b[37m\u001b[0m \u001b[1m1s\u001b[0m 3ms/step - acc: 0.6611 - auc: 0.6305 - loss: 0.6383 - val_acc: 0.7901 - val_auc: 0.0000e+00 - val_loss: 0.6004\n",
      "Epoch 6/100\n",
      "\u001b[1m318/323\u001b[0m \u001b[32m━━━━━━━━━━━━━━━━━━━\u001b[0m\u001b[37m━\u001b[0m \u001b[1m0s\u001b[0m 2ms/step - acc: 0.6726 - auc: 0.6475 - loss: 0.6352\n",
      "Epoch 6: val_loss improved from 0.60036 to 0.59231, saving model to best_tab_only_fold4.h5\n"
     ]
    },
    {
     "name": "stderr",
     "output_type": "stream",
     "text": [
      "WARNING:absl:You are saving your model as an HDF5 file via `model.save()` or `keras.saving.save_model(model)`. This file format is considered legacy. We recommend using instead the native Keras format, e.g. `model.save('my_model.keras')` or `keras.saving.save_model(model, 'my_model.keras')`. \n"
     ]
    },
    {
     "name": "stdout",
     "output_type": "stream",
     "text": [
      "\b\b\b\b\b\b\b\b\b\b\b\b\b\b\b\b\b\b\b\b\b\b\b\b\b\b\b\b\b\b\b\b\b\b\b\b\b\b\b\b\b\b\b\b\b\b\b\b\b\b\b\b\b\b\b\b\b\b\b\b\b\b\b\b\b\b\b\b\b\b\b\b\b\b\b\b\b\b\b\b\b\b\b\r",
      "\u001b[1m323/323\u001b[0m \u001b[32m━━━━━━━━━━━━━━━━━━━━\u001b[0m\u001b[37m\u001b[0m \u001b[1m1s\u001b[0m 2ms/step - acc: 0.6729 - auc: 0.6471 - loss: 0.6351 - val_acc: 0.7901 - val_auc: 0.0000e+00 - val_loss: 0.5923\n",
      "Epoch 7/100\n",
      "\u001b[1m318/323\u001b[0m \u001b[32m━━━━━━━━━━━━━━━━━━━\u001b[0m\u001b[37m━\u001b[0m \u001b[1m0s\u001b[0m 2ms/step - acc: 0.6776 - auc: 0.6451 - loss: 0.6254\n",
      "Epoch 7: val_loss improved from 0.59231 to 0.58666, saving model to best_tab_only_fold4.h5\n"
     ]
    },
    {
     "name": "stderr",
     "output_type": "stream",
     "text": [
      "WARNING:absl:You are saving your model as an HDF5 file via `model.save()` or `keras.saving.save_model(model)`. This file format is considered legacy. We recommend using instead the native Keras format, e.g. `model.save('my_model.keras')` or `keras.saving.save_model(model, 'my_model.keras')`. \n"
     ]
    },
    {
     "name": "stdout",
     "output_type": "stream",
     "text": [
      "\b\b\b\b\b\b\b\b\b\b\b\b\b\b\b\b\b\b\b\b\b\b\b\b\b\b\b\b\b\b\b\b\b\b\b\b\b\b\b\b\b\b\b\b\b\b\b\b\b\b\b\b\b\b\b\b\b\b\b\b\b\b\b\b\b\b\b\b\b\b\b\b\b\b\b\b\b\b\b\b\b\b\b\r",
      "\u001b[1m323/323\u001b[0m \u001b[32m━━━━━━━━━━━━━━━━━━━━\u001b[0m\u001b[37m\u001b[0m \u001b[1m1s\u001b[0m 2ms/step - acc: 0.6777 - auc: 0.6448 - loss: 0.6254 - val_acc: 0.7901 - val_auc: 0.0000e+00 - val_loss: 0.5867\n",
      "Epoch 8/100\n",
      "\u001b[1m318/323\u001b[0m \u001b[32m━━━━━━━━━━━━━━━━━━━\u001b[0m\u001b[37m━\u001b[0m \u001b[1m0s\u001b[0m 2ms/step - acc: 0.6802 - auc: 0.5789 - loss: 0.6387\n",
      "Epoch 8: val_loss improved from 0.58666 to 0.58255, saving model to best_tab_only_fold4.h5\n"
     ]
    },
    {
     "name": "stderr",
     "output_type": "stream",
     "text": [
      "WARNING:absl:You are saving your model as an HDF5 file via `model.save()` or `keras.saving.save_model(model)`. This file format is considered legacy. We recommend using instead the native Keras format, e.g. `model.save('my_model.keras')` or `keras.saving.save_model(model, 'my_model.keras')`. \n"
     ]
    },
    {
     "name": "stdout",
     "output_type": "stream",
     "text": [
      "\b\b\b\b\b\b\b\b\b\b\b\b\b\b\b\b\b\b\b\b\b\b\b\b\b\b\b\b\b\b\b\b\b\b\b\b\b\b\b\b\b\b\b\b\b\b\b\b\b\b\b\b\b\b\b\b\b\b\b\b\b\b\b\b\b\b\b\b\b\b\b\b\b\b\b\b\b\b\b\b\b\b\b\r",
      "\u001b[1m323/323\u001b[0m \u001b[32m━━━━━━━━━━━━━━━━━━━━\u001b[0m\u001b[37m\u001b[0m \u001b[1m1s\u001b[0m 2ms/step - acc: 0.6802 - auc: 0.5793 - loss: 0.6385 - val_acc: 0.7901 - val_auc: 0.0000e+00 - val_loss: 0.5826\n",
      "Epoch 9/100\n",
      "\u001b[1m315/323\u001b[0m \u001b[32m━━━━━━━━━━━━━━━━━━━\u001b[0m\u001b[37m━\u001b[0m \u001b[1m0s\u001b[0m 2ms/step - acc: 0.6648 - auc: 0.6224 - loss: 0.6302\n",
      "Epoch 9: val_loss improved from 0.58255 to 0.57949, saving model to best_tab_only_fold4.h5\n"
     ]
    },
    {
     "name": "stderr",
     "output_type": "stream",
     "text": [
      "WARNING:absl:You are saving your model as an HDF5 file via `model.save()` or `keras.saving.save_model(model)`. This file format is considered legacy. We recommend using instead the native Keras format, e.g. `model.save('my_model.keras')` or `keras.saving.save_model(model, 'my_model.keras')`. \n"
     ]
    },
    {
     "name": "stdout",
     "output_type": "stream",
     "text": [
      "\b\b\b\b\b\b\b\b\b\b\b\b\b\b\b\b\b\b\b\b\b\b\b\b\b\b\b\b\b\b\b\b\b\b\b\b\b\b\b\b\b\b\b\b\b\b\b\b\b\b\b\b\b\b\b\b\b\b\b\b\b\b\b\b\b\b\b\b\b\b\b\b\b\b\b\b\b\b\b\b\b\b\b\r",
      "\u001b[1m323/323\u001b[0m \u001b[32m━━━━━━━━━━━━━━━━━━━━\u001b[0m\u001b[37m\u001b[0m \u001b[1m1s\u001b[0m 3ms/step - acc: 0.6650 - auc: 0.6217 - loss: 0.6301 - val_acc: 0.7901 - val_auc: 0.0000e+00 - val_loss: 0.5795\n",
      "Epoch 10/100\n",
      "\u001b[1m321/323\u001b[0m \u001b[32m━━━━━━━━━━━━━━━━━━━\u001b[0m\u001b[37m━\u001b[0m \u001b[1m0s\u001b[0m 2ms/step - acc: 0.7002 - auc: 0.6271 - loss: 0.6060\n",
      "Epoch 10: val_loss improved from 0.57949 to 0.57550, saving model to best_tab_only_fold4.h5\n"
     ]
    },
    {
     "name": "stderr",
     "output_type": "stream",
     "text": [
      "WARNING:absl:You are saving your model as an HDF5 file via `model.save()` or `keras.saving.save_model(model)`. This file format is considered legacy. We recommend using instead the native Keras format, e.g. `model.save('my_model.keras')` or `keras.saving.save_model(model, 'my_model.keras')`. \n"
     ]
    },
    {
     "name": "stdout",
     "output_type": "stream",
     "text": [
      "\b\b\b\b\b\b\b\b\b\b\b\b\b\b\b\b\b\b\b\b\b\b\b\b\b\b\b\b\b\b\b\b\b\b\b\b\b\b\b\b\b\b\b\b\b\b\b\b\b\b\b\b\b\b\b\b\b\b\b\b\b\b\b\b\b\b\b\b\b\b\b\b\b\b\b\b\b\b\b\b\b\b\b\r",
      "\u001b[1m323/323\u001b[0m \u001b[32m━━━━━━━━━━━━━━━━━━━━\u001b[0m\u001b[37m\u001b[0m \u001b[1m1s\u001b[0m 2ms/step - acc: 0.7000 - auc: 0.6271 - loss: 0.6061 - val_acc: 0.7901 - val_auc: 0.0000e+00 - val_loss: 0.5755\n",
      "Epoch 11/100\n",
      "\u001b[1m321/323\u001b[0m \u001b[32m━━━━━━━━━━━━━━━━━━━\u001b[0m\u001b[37m━\u001b[0m \u001b[1m0s\u001b[0m 2ms/step - acc: 0.6822 - auc: 0.6181 - loss: 0.6246\n",
      "Epoch 11: val_loss improved from 0.57550 to 0.57364, saving model to best_tab_only_fold4.h5\n"
     ]
    },
    {
     "name": "stderr",
     "output_type": "stream",
     "text": [
      "WARNING:absl:You are saving your model as an HDF5 file via `model.save()` or `keras.saving.save_model(model)`. This file format is considered legacy. We recommend using instead the native Keras format, e.g. `model.save('my_model.keras')` or `keras.saving.save_model(model, 'my_model.keras')`. \n"
     ]
    },
    {
     "name": "stdout",
     "output_type": "stream",
     "text": [
      "\b\b\b\b\b\b\b\b\b\b\b\b\b\b\b\b\b\b\b\b\b\b\b\b\b\b\b\b\b\b\b\b\b\b\b\b\b\b\b\b\b\b\b\b\b\b\b\b\b\b\b\b\b\b\b\b\b\b\b\b\b\b\b\b\b\b\b\b\b\b\b\b\b\b\b\b\b\b\b\b\b\b\b\r",
      "\u001b[1m323/323\u001b[0m \u001b[32m━━━━━━━━━━━━━━━━━━━━\u001b[0m\u001b[37m\u001b[0m \u001b[1m1s\u001b[0m 2ms/step - acc: 0.6822 - auc: 0.6182 - loss: 0.6246 - val_acc: 0.7901 - val_auc: 0.0000e+00 - val_loss: 0.5736\n",
      "Epoch 12/100\n",
      "\u001b[1m322/323\u001b[0m \u001b[32m━━━━━━━━━━━━━━━━━━━\u001b[0m\u001b[37m━\u001b[0m \u001b[1m0s\u001b[0m 2ms/step - acc: 0.6684 - auc: 0.6130 - loss: 0.6329\n",
      "Epoch 12: val_loss improved from 0.57364 to 0.57181, saving model to best_tab_only_fold4.h5\n"
     ]
    },
    {
     "name": "stderr",
     "output_type": "stream",
     "text": [
      "WARNING:absl:You are saving your model as an HDF5 file via `model.save()` or `keras.saving.save_model(model)`. This file format is considered legacy. We recommend using instead the native Keras format, e.g. `model.save('my_model.keras')` or `keras.saving.save_model(model, 'my_model.keras')`. \n"
     ]
    },
    {
     "name": "stdout",
     "output_type": "stream",
     "text": [
      "\b\b\b\b\b\b\b\b\b\b\b\b\b\b\b\b\b\b\b\b\b\b\b\b\b\b\b\b\b\b\b\b\b\b\b\b\b\b\b\b\b\b\b\b\b\b\b\b\b\b\b\b\b\b\b\b\b\b\b\b\b\b\b\b\b\b\b\b\b\b\b\b\b\b\b\b\b\b\b\b\b\b\b\r",
      "\u001b[1m323/323\u001b[0m \u001b[32m━━━━━━━━━━━━━━━━━━━━\u001b[0m\u001b[37m\u001b[0m \u001b[1m1s\u001b[0m 2ms/step - acc: 0.6685 - auc: 0.6133 - loss: 0.6328 - val_acc: 0.7901 - val_auc: 0.0000e+00 - val_loss: 0.5718\n",
      "Epoch 13/100\n",
      "\u001b[1m319/323\u001b[0m \u001b[32m━━━━━━━━━━━━━━━━━━━\u001b[0m\u001b[37m━\u001b[0m \u001b[1m0s\u001b[0m 2ms/step - acc: 0.6752 - auc: 0.6637 - loss: 0.6202\n",
      "Epoch 13: val_loss improved from 0.57181 to 0.57018, saving model to best_tab_only_fold4.h5\n"
     ]
    },
    {
     "name": "stderr",
     "output_type": "stream",
     "text": [
      "WARNING:absl:You are saving your model as an HDF5 file via `model.save()` or `keras.saving.save_model(model)`. This file format is considered legacy. We recommend using instead the native Keras format, e.g. `model.save('my_model.keras')` or `keras.saving.save_model(model, 'my_model.keras')`. \n"
     ]
    },
    {
     "name": "stdout",
     "output_type": "stream",
     "text": [
      "\b\b\b\b\b\b\b\b\b\b\b\b\b\b\b\b\b\b\b\b\b\b\b\b\b\b\b\b\b\b\b\b\b\b\b\b\b\b\b\b\b\b\b\b\b\b\b\b\b\b\b\b\b\b\b\b\b\b\b\b\b\b\b\b\b\b\b\b\b\b\b\b\b\b\b\b\b\b\b\b\b\b\b\r",
      "\u001b[1m323/323\u001b[0m \u001b[32m━━━━━━━━━━━━━━━━━━━━\u001b[0m\u001b[37m\u001b[0m \u001b[1m1s\u001b[0m 2ms/step - acc: 0.6752 - auc: 0.6638 - loss: 0.6201 - val_acc: 0.7901 - val_auc: 0.0000e+00 - val_loss: 0.5702\n",
      "Epoch 14/100\n",
      "\u001b[1m321/323\u001b[0m \u001b[32m━━━━━━━━━━━━━━━━━━━\u001b[0m\u001b[37m━\u001b[0m \u001b[1m0s\u001b[0m 2ms/step - acc: 0.6752 - auc: 0.6693 - loss: 0.6228\n",
      "Epoch 14: val_loss improved from 0.57018 to 0.56857, saving model to best_tab_only_fold4.h5\n"
     ]
    },
    {
     "name": "stderr",
     "output_type": "stream",
     "text": [
      "WARNING:absl:You are saving your model as an HDF5 file via `model.save()` or `keras.saving.save_model(model)`. This file format is considered legacy. We recommend using instead the native Keras format, e.g. `model.save('my_model.keras')` or `keras.saving.save_model(model, 'my_model.keras')`. \n"
     ]
    },
    {
     "name": "stdout",
     "output_type": "stream",
     "text": [
      "\b\b\b\b\b\b\b\b\b\b\b\b\b\b\b\b\b\b\b\b\b\b\b\b\b\b\b\b\b\b\b\b\b\b\b\b\b\b\b\b\b\b\b\b\b\b\b\b\b\b\b\b\b\b\b\b\b\b\b\b\b\b\b\b\b\b\b\b\b\b\b\b\b\b\b\b\b\b\b\b\b\b\b\r",
      "\u001b[1m323/323\u001b[0m \u001b[32m━━━━━━━━━━━━━━━━━━━━\u001b[0m\u001b[37m\u001b[0m \u001b[1m1s\u001b[0m 2ms/step - acc: 0.6753 - auc: 0.6693 - loss: 0.6227 - val_acc: 0.7901 - val_auc: 0.0000e+00 - val_loss: 0.5686\n",
      "Epoch 15/100\n",
      "\u001b[1m297/323\u001b[0m \u001b[32m━━━━━━━━━━━━━━━━━━\u001b[0m\u001b[37m━━\u001b[0m \u001b[1m0s\u001b[0m 2ms/step - acc: 0.6675 - auc: 0.6822 - loss: 0.6225\n",
      "Epoch 15: val_loss improved from 0.56857 to 0.56660, saving model to best_tab_only_fold4.h5\n"
     ]
    },
    {
     "name": "stderr",
     "output_type": "stream",
     "text": [
      "WARNING:absl:You are saving your model as an HDF5 file via `model.save()` or `keras.saving.save_model(model)`. This file format is considered legacy. We recommend using instead the native Keras format, e.g. `model.save('my_model.keras')` or `keras.saving.save_model(model, 'my_model.keras')`. \n"
     ]
    },
    {
     "name": "stdout",
     "output_type": "stream",
     "text": [
      "\b\b\b\b\b\b\b\b\b\b\b\b\b\b\b\b\b\b\b\b\b\b\b\b\b\b\b\b\b\b\b\b\b\b\b\b\b\b\b\b\b\b\b\b\b\b\b\b\b\b\b\b\b\b\b\b\b\b\b\b\b\b\b\b\b\b\b\b\b\b\b\b\b\b\b\b\b\b\b\b\b\b\b\r",
      "\u001b[1m323/323\u001b[0m \u001b[32m━━━━━━━━━━━━━━━━━━━━\u001b[0m\u001b[37m\u001b[0m \u001b[1m1s\u001b[0m 2ms/step - acc: 0.6718 - auc: 0.6826 - loss: 0.6214 - val_acc: 0.7901 - val_auc: 0.0000e+00 - val_loss: 0.5666\n",
      "Epoch 16/100\n",
      "\u001b[1m317/323\u001b[0m \u001b[32m━━━━━━━━━━━━━━━━━━━\u001b[0m\u001b[37m━\u001b[0m \u001b[1m0s\u001b[0m 2ms/step - acc: 0.7721 - auc: 0.6942 - loss: 0.6048\n",
      "Epoch 16: val_loss improved from 0.56660 to 0.56576, saving model to best_tab_only_fold4.h5\n"
     ]
    },
    {
     "name": "stderr",
     "output_type": "stream",
     "text": [
      "WARNING:absl:You are saving your model as an HDF5 file via `model.save()` or `keras.saving.save_model(model)`. This file format is considered legacy. We recommend using instead the native Keras format, e.g. `model.save('my_model.keras')` or `keras.saving.save_model(model, 'my_model.keras')`. \n"
     ]
    },
    {
     "name": "stdout",
     "output_type": "stream",
     "text": [
      "\b\b\b\b\b\b\b\b\b\b\b\b\b\b\b\b\b\b\b\b\b\b\b\b\b\b\b\b\b\b\b\b\b\b\b\b\b\b\b\b\b\b\b\b\b\b\b\b\b\b\b\b\b\b\b\b\b\b\b\b\b\b\b\b\b\b\b\b\b\b\b\b\b\b\b\b\b\b\b\b\b\b\b\r",
      "\u001b[1m323/323\u001b[0m \u001b[32m━━━━━━━━━━━━━━━━━━━━\u001b[0m\u001b[37m\u001b[0m \u001b[1m1s\u001b[0m 2ms/step - acc: 0.7719 - auc: 0.6936 - loss: 0.6050 - val_acc: 0.7901 - val_auc: 0.0000e+00 - val_loss: 0.5658\n",
      "Epoch 17/100\n",
      "\u001b[1m322/323\u001b[0m \u001b[32m━━━━━━━━━━━━━━━━━━━\u001b[0m\u001b[37m━\u001b[0m \u001b[1m0s\u001b[0m 2ms/step - acc: 0.7744 - auc: 0.6940 - loss: 0.5899\n",
      "Epoch 17: val_loss improved from 0.56576 to 0.56449, saving model to best_tab_only_fold4.h5\n"
     ]
    },
    {
     "name": "stderr",
     "output_type": "stream",
     "text": [
      "WARNING:absl:You are saving your model as an HDF5 file via `model.save()` or `keras.saving.save_model(model)`. This file format is considered legacy. We recommend using instead the native Keras format, e.g. `model.save('my_model.keras')` or `keras.saving.save_model(model, 'my_model.keras')`. \n"
     ]
    },
    {
     "name": "stdout",
     "output_type": "stream",
     "text": [
      "\b\b\b\b\b\b\b\b\b\b\b\b\b\b\b\b\b\b\b\b\b\b\b\b\b\b\b\b\b\b\b\b\b\b\b\b\b\b\b\b\b\b\b\b\b\b\b\b\b\b\b\b\b\b\b\b\b\b\b\b\b\b\b\b\b\b\b\b\b\b\b\b\b\b\b\b\b\b\b\b\b\b\b\r",
      "\u001b[1m323/323\u001b[0m \u001b[32m━━━━━━━━━━━━━━━━━━━━\u001b[0m\u001b[37m\u001b[0m \u001b[1m1s\u001b[0m 2ms/step - acc: 0.7743 - auc: 0.6940 - loss: 0.5899 - val_acc: 0.7901 - val_auc: 0.0000e+00 - val_loss: 0.5645\n",
      "Epoch 18/100\n",
      "\u001b[1m315/323\u001b[0m \u001b[32m━━━━━━━━━━━━━━━━━━━\u001b[0m\u001b[37m━\u001b[0m \u001b[1m0s\u001b[0m 2ms/step - acc: 0.7931 - auc: 0.7165 - loss: 0.6040\n",
      "Epoch 18: val_loss improved from 0.56449 to 0.56431, saving model to best_tab_only_fold4.h5\n"
     ]
    },
    {
     "name": "stderr",
     "output_type": "stream",
     "text": [
      "WARNING:absl:You are saving your model as an HDF5 file via `model.save()` or `keras.saving.save_model(model)`. This file format is considered legacy. We recommend using instead the native Keras format, e.g. `model.save('my_model.keras')` or `keras.saving.save_model(model, 'my_model.keras')`. \n"
     ]
    },
    {
     "name": "stdout",
     "output_type": "stream",
     "text": [
      "\b\b\b\b\b\b\b\b\b\b\b\b\b\b\b\b\b\b\b\b\b\b\b\b\b\b\b\b\b\b\b\b\b\b\b\b\b\b\b\b\b\b\b\b\b\b\b\b\b\b\b\b\b\b\b\b\b\b\b\b\b\b\b\b\b\b\b\b\b\b\b\b\b\b\b\b\b\b\b\b\b\b\b\r",
      "\u001b[1m323/323\u001b[0m \u001b[32m━━━━━━━━━━━━━━━━━━━━\u001b[0m\u001b[37m\u001b[0m \u001b[1m1s\u001b[0m 2ms/step - acc: 0.7928 - auc: 0.7155 - loss: 0.6042 - val_acc: 0.7901 - val_auc: 0.0000e+00 - val_loss: 0.5643\n",
      "Epoch 19/100\n",
      "\u001b[1m311/323\u001b[0m \u001b[32m━━━━━━━━━━━━━━━━━━━\u001b[0m\u001b[37m━\u001b[0m \u001b[1m0s\u001b[0m 2ms/step - acc: 0.7744 - auc: 0.6958 - loss: 0.5968\n",
      "Epoch 19: val_loss improved from 0.56431 to 0.56392, saving model to best_tab_only_fold4.h5\n"
     ]
    },
    {
     "name": "stderr",
     "output_type": "stream",
     "text": [
      "WARNING:absl:You are saving your model as an HDF5 file via `model.save()` or `keras.saving.save_model(model)`. This file format is considered legacy. We recommend using instead the native Keras format, e.g. `model.save('my_model.keras')` or `keras.saving.save_model(model, 'my_model.keras')`. \n"
     ]
    },
    {
     "name": "stdout",
     "output_type": "stream",
     "text": [
      "\b\b\b\b\b\b\b\b\b\b\b\b\b\b\b\b\b\b\b\b\b\b\b\b\b\b\b\b\b\b\b\b\b\b\b\b\b\b\b\b\b\b\b\b\b\b\b\b\b\b\b\b\b\b\b\b\b\b\b\b\b\b\b\b\b\b\b\b\b\b\b\b\b\b\b\b\b\b\b\b\b\b\b\r",
      "\u001b[1m323/323\u001b[0m \u001b[32m━━━━━━━━━━━━━━━━━━━━\u001b[0m\u001b[37m\u001b[0m \u001b[1m1s\u001b[0m 3ms/step - acc: 0.7738 - auc: 0.6950 - loss: 0.5970 - val_acc: 0.7901 - val_auc: 0.0000e+00 - val_loss: 0.5639\n",
      "Epoch 20/100\n",
      "\u001b[1m307/323\u001b[0m \u001b[32m━━━━━━━━━━━━━━━━━━━\u001b[0m\u001b[37m━\u001b[0m \u001b[1m0s\u001b[0m 2ms/step - acc: 0.7837 - auc: 0.7425 - loss: 0.5776\n",
      "Epoch 20: val_loss improved from 0.56392 to 0.56234, saving model to best_tab_only_fold4.h5\n"
     ]
    },
    {
     "name": "stderr",
     "output_type": "stream",
     "text": [
      "WARNING:absl:You are saving your model as an HDF5 file via `model.save()` or `keras.saving.save_model(model)`. This file format is considered legacy. We recommend using instead the native Keras format, e.g. `model.save('my_model.keras')` or `keras.saving.save_model(model, 'my_model.keras')`. \n"
     ]
    },
    {
     "name": "stdout",
     "output_type": "stream",
     "text": [
      "\b\b\b\b\b\b\b\b\b\b\b\b\b\b\b\b\b\b\b\b\b\b\b\b\b\b\b\b\b\b\b\b\b\b\b\b\b\b\b\b\b\b\b\b\b\b\b\b\b\b\b\b\b\b\b\b\b\b\b\b\b\b\b\b\b\b\b\b\b\b\b\b\b\b\b\b\b\b\b\b\b\b\b\r",
      "\u001b[1m323/323\u001b[0m \u001b[32m━━━━━━━━━━━━━━━━━━━━\u001b[0m\u001b[37m\u001b[0m \u001b[1m1s\u001b[0m 3ms/step - acc: 0.7831 - auc: 0.7411 - loss: 0.5782 - val_acc: 0.7901 - val_auc: 0.0000e+00 - val_loss: 0.5623\n",
      "Epoch 21/100\n",
      "\u001b[1m322/323\u001b[0m \u001b[32m━━━━━━━━━━━━━━━━━━━\u001b[0m\u001b[37m━\u001b[0m \u001b[1m0s\u001b[0m 2ms/step - acc: 0.7671 - auc: 0.7207 - loss: 0.5903\n",
      "Epoch 21: val_loss improved from 0.56234 to 0.56153, saving model to best_tab_only_fold4.h5\n"
     ]
    },
    {
     "name": "stderr",
     "output_type": "stream",
     "text": [
      "WARNING:absl:You are saving your model as an HDF5 file via `model.save()` or `keras.saving.save_model(model)`. This file format is considered legacy. We recommend using instead the native Keras format, e.g. `model.save('my_model.keras')` or `keras.saving.save_model(model, 'my_model.keras')`. \n"
     ]
    },
    {
     "name": "stdout",
     "output_type": "stream",
     "text": [
      "\b\b\b\b\b\b\b\b\b\b\b\b\b\b\b\b\b\b\b\b\b\b\b\b\b\b\b\b\b\b\b\b\b\b\b\b\b\b\b\b\b\b\b\b\b\b\b\b\b\b\b\b\b\b\b\b\b\b\b\b\b\b\b\b\b\b\b\b\b\b\b\b\b\b\b\b\b\b\b\b\b\b\b\r",
      "\u001b[1m323/323\u001b[0m \u001b[32m━━━━━━━━━━━━━━━━━━━━\u001b[0m\u001b[37m\u001b[0m \u001b[1m1s\u001b[0m 2ms/step - acc: 0.7672 - auc: 0.7206 - loss: 0.5903 - val_acc: 0.7901 - val_auc: 0.0000e+00 - val_loss: 0.5615\n",
      "Epoch 22/100\n",
      "\u001b[1m316/323\u001b[0m \u001b[32m━━━━━━━━━━━━━━━━━━━\u001b[0m\u001b[37m━\u001b[0m \u001b[1m0s\u001b[0m 2ms/step - acc: 0.7831 - auc: 0.6774 - loss: 0.5938\n",
      "Epoch 22: val_loss did not improve from 0.56153\n",
      "\u001b[1m323/323\u001b[0m \u001b[32m━━━━━━━━━━━━━━━━━━━━\u001b[0m\u001b[37m\u001b[0m \u001b[1m1s\u001b[0m 2ms/step - acc: 0.7833 - auc: 0.6774 - loss: 0.5939 - val_acc: 0.7901 - val_auc: 0.0000e+00 - val_loss: 0.5617\n",
      "Epoch 23/100\n",
      "\u001b[1m316/323\u001b[0m \u001b[32m━━━━━━━━━━━━━━━━━━━\u001b[0m\u001b[37m━\u001b[0m \u001b[1m0s\u001b[0m 2ms/step - acc: 0.7873 - auc: 0.7172 - loss: 0.5968\n",
      "Epoch 23: val_loss did not improve from 0.56153\n",
      "\u001b[1m323/323\u001b[0m \u001b[32m━━━━━━━━━━━━━━━━━━━━\u001b[0m\u001b[37m\u001b[0m \u001b[1m1s\u001b[0m 2ms/step - acc: 0.7874 - auc: 0.7165 - loss: 0.5967 - val_acc: 0.7901 - val_auc: 0.0000e+00 - val_loss: 0.5616\n",
      "Epoch 24/100\n",
      "\u001b[1m315/323\u001b[0m \u001b[32m━━━━━━━━━━━━━━━━━━━\u001b[0m\u001b[37m━\u001b[0m \u001b[1m0s\u001b[0m 2ms/step - acc: 0.7967 - auc: 0.6941 - loss: 0.5797\n",
      "Epoch 24: val_loss improved from 0.56153 to 0.56135, saving model to best_tab_only_fold4.h5\n"
     ]
    },
    {
     "name": "stderr",
     "output_type": "stream",
     "text": [
      "WARNING:absl:You are saving your model as an HDF5 file via `model.save()` or `keras.saving.save_model(model)`. This file format is considered legacy. We recommend using instead the native Keras format, e.g. `model.save('my_model.keras')` or `keras.saving.save_model(model, 'my_model.keras')`. \n"
     ]
    },
    {
     "name": "stdout",
     "output_type": "stream",
     "text": [
      "\b\b\b\b\b\b\b\b\b\b\b\b\b\b\b\b\b\b\b\b\b\b\b\b\b\b\b\b\b\b\b\b\b\b\b\b\b\b\b\b\b\b\b\b\b\b\b\b\b\b\b\b\b\b\b\b\b\b\b\b\b\b\b\b\b\b\b\b\b\b\b\b\b\b\b\b\b\b\b\b\b\b\b\r",
      "\u001b[1m323/323\u001b[0m \u001b[32m━━━━━━━━━━━━━━━━━━━━\u001b[0m\u001b[37m\u001b[0m \u001b[1m1s\u001b[0m 3ms/step - acc: 0.7965 - auc: 0.6942 - loss: 0.5799 - val_acc: 0.7901 - val_auc: 0.0000e+00 - val_loss: 0.5613\n",
      "Epoch 25/100\n",
      "\u001b[1m314/323\u001b[0m \u001b[32m━━━━━━━━━━━━━━━━━━━\u001b[0m\u001b[37m━\u001b[0m \u001b[1m0s\u001b[0m 2ms/step - acc: 0.7992 - auc: 0.7110 - loss: 0.5683\n",
      "Epoch 25: val_loss improved from 0.56135 to 0.56078, saving model to best_tab_only_fold4.h5\n"
     ]
    },
    {
     "name": "stderr",
     "output_type": "stream",
     "text": [
      "WARNING:absl:You are saving your model as an HDF5 file via `model.save()` or `keras.saving.save_model(model)`. This file format is considered legacy. We recommend using instead the native Keras format, e.g. `model.save('my_model.keras')` or `keras.saving.save_model(model, 'my_model.keras')`. \n"
     ]
    },
    {
     "name": "stdout",
     "output_type": "stream",
     "text": [
      "\b\b\b\b\b\b\b\b\b\b\b\b\b\b\b\b\b\b\b\b\b\b\b\b\b\b\b\b\b\b\b\b\b\b\b\b\b\b\b\b\b\b\b\b\b\b\b\b\b\b\b\b\b\b\b\b\b\b\b\b\b\b\b\b\b\b\b\b\b\b\b\b\b\b\b\b\b\b\b\b\b\b\b\r",
      "\u001b[1m323/323\u001b[0m \u001b[32m━━━━━━━━━━━━━━━━━━━━\u001b[0m\u001b[37m\u001b[0m \u001b[1m1s\u001b[0m 3ms/step - acc: 0.7987 - auc: 0.7107 - loss: 0.5688 - val_acc: 0.7901 - val_auc: 0.0000e+00 - val_loss: 0.5608\n",
      "Epoch 26/100\n",
      "\u001b[1m322/323\u001b[0m \u001b[32m━━━━━━━━━━━━━━━━━━━\u001b[0m\u001b[37m━\u001b[0m \u001b[1m0s\u001b[0m 2ms/step - acc: 0.7783 - auc: 0.6606 - loss: 0.5989\n",
      "Epoch 26: val_loss did not improve from 0.56078\n",
      "\u001b[1m323/323\u001b[0m \u001b[32m━━━━━━━━━━━━━━━━━━━━\u001b[0m\u001b[37m\u001b[0m \u001b[1m1s\u001b[0m 2ms/step - acc: 0.7783 - auc: 0.6606 - loss: 0.5989 - val_acc: 0.7901 - val_auc: 0.0000e+00 - val_loss: 0.5612\n",
      "Epoch 27/100\n",
      "\u001b[1m321/323\u001b[0m \u001b[32m━━━━━━━━━━━━━━━━━━━\u001b[0m\u001b[37m━\u001b[0m \u001b[1m0s\u001b[0m 2ms/step - acc: 0.7836 - auc: 0.6609 - loss: 0.5942\n",
      "Epoch 27: val_loss did not improve from 0.56078\n",
      "\u001b[1m323/323\u001b[0m \u001b[32m━━━━━━━━━━━━━━━━━━━━\u001b[0m\u001b[37m\u001b[0m \u001b[1m1s\u001b[0m 2ms/step - acc: 0.7837 - auc: 0.6610 - loss: 0.5942 - val_acc: 0.7901 - val_auc: 0.0000e+00 - val_loss: 0.5616\n",
      "Epoch 28/100\n",
      "\u001b[1m319/323\u001b[0m \u001b[32m━━━━━━━━━━━━━━━━━━━\u001b[0m\u001b[37m━\u001b[0m \u001b[1m0s\u001b[0m 2ms/step - acc: 0.7777 - auc: 0.6771 - loss: 0.5976\n",
      "Epoch 28: val_loss did not improve from 0.56078\n",
      "\u001b[1m323/323\u001b[0m \u001b[32m━━━━━━━━━━━━━━━━━━━━\u001b[0m\u001b[37m\u001b[0m \u001b[1m1s\u001b[0m 2ms/step - acc: 0.7778 - auc: 0.6773 - loss: 0.5973 - val_acc: 0.7901 - val_auc: 0.0000e+00 - val_loss: 0.5611\n",
      "Epoch 29/100\n",
      "\u001b[1m298/323\u001b[0m \u001b[32m━━━━━━━━━━━━━━━━━━\u001b[0m\u001b[37m━━\u001b[0m \u001b[1m0s\u001b[0m 2ms/step - acc: 0.8004 - auc: 0.7120 - loss: 0.5712\n",
      "Epoch 29: val_loss did not improve from 0.56078\n",
      "\u001b[1m323/323\u001b[0m \u001b[32m━━━━━━━━━━━━━━━━━━━━\u001b[0m\u001b[37m\u001b[0m \u001b[1m1s\u001b[0m 2ms/step - acc: 0.7986 - auc: 0.7095 - loss: 0.5725 - val_acc: 0.7901 - val_auc: 0.0000e+00 - val_loss: 0.5613\n",
      "Epoch 30/100\n",
      "\u001b[1m319/323\u001b[0m \u001b[32m━━━━━━━━━━━━━━━━━━━\u001b[0m\u001b[37m━\u001b[0m \u001b[1m0s\u001b[0m 2ms/step - acc: 0.8115 - auc: 0.7138 - loss: 0.5636\n",
      "Epoch 30: val_loss did not improve from 0.56078\n",
      "\u001b[1m323/323\u001b[0m \u001b[32m━━━━━━━━━━━━━━━━━━━━\u001b[0m\u001b[37m\u001b[0m \u001b[1m1s\u001b[0m 2ms/step - acc: 0.8112 - auc: 0.7132 - loss: 0.5639 - val_acc: 0.7901 - val_auc: 0.0000e+00 - val_loss: 0.5612\n",
      "Epoch 31/100\n",
      "\u001b[1m323/323\u001b[0m \u001b[32m━━━━━━━━━━━━━━━━━━━━\u001b[0m\u001b[37m\u001b[0m \u001b[1m0s\u001b[0m 2ms/step - acc: 0.7932 - auc: 0.6635 - loss: 0.5910\n",
      "Epoch 31: val_loss did not improve from 0.56078\n",
      "\u001b[1m323/323\u001b[0m \u001b[32m━━━━━━━━━━━━━━━━━━━━\u001b[0m\u001b[37m\u001b[0m \u001b[1m1s\u001b[0m 2ms/step - acc: 0.7931 - auc: 0.6635 - loss: 0.5910 - val_acc: 0.7901 - val_auc: 0.0000e+00 - val_loss: 0.5619\n",
      "Epoch 32/100\n",
      "\u001b[1m320/323\u001b[0m \u001b[32m━━━━━━━━━━━━━━━━━━━\u001b[0m\u001b[37m━\u001b[0m \u001b[1m0s\u001b[0m 2ms/step - acc: 0.7659 - auc: 0.6737 - loss: 0.5901\n",
      "Epoch 32: val_loss did not improve from 0.56078\n",
      "\u001b[1m323/323\u001b[0m \u001b[32m━━━━━━━━━━━━━━━━━━━━\u001b[0m\u001b[37m\u001b[0m \u001b[1m1s\u001b[0m 2ms/step - acc: 0.7661 - auc: 0.6736 - loss: 0.5901 - val_acc: 0.7901 - val_auc: 0.0000e+00 - val_loss: 0.5624\n",
      "Epoch 33/100\n",
      "\u001b[1m314/323\u001b[0m \u001b[32m━━━━━━━━━━━━━━━━━━━\u001b[0m\u001b[37m━\u001b[0m \u001b[1m0s\u001b[0m 2ms/step - acc: 0.8009 - auc: 0.7051 - loss: 0.5669\n",
      "Epoch 33: val_loss did not improve from 0.56078\n",
      "\u001b[1m323/323\u001b[0m \u001b[32m━━━━━━━━━━━━━━━━━━━━\u001b[0m\u001b[37m\u001b[0m \u001b[1m1s\u001b[0m 2ms/step - acc: 0.8004 - auc: 0.7050 - loss: 0.5671 - val_acc: 0.7901 - val_auc: 0.0000e+00 - val_loss: 0.5620\n",
      "Epoch 34/100\n",
      "\u001b[1m317/323\u001b[0m \u001b[32m━━━━━━━━━━━━━━━━━━━\u001b[0m\u001b[37m━\u001b[0m \u001b[1m0s\u001b[0m 2ms/step - acc: 0.7739 - auc: 0.6629 - loss: 0.5790\n",
      "Epoch 34: val_loss did not improve from 0.56078\n",
      "\u001b[1m323/323\u001b[0m \u001b[32m━━━━━━━━━━━━━━━━━━━━\u001b[0m\u001b[37m\u001b[0m \u001b[1m1s\u001b[0m 2ms/step - acc: 0.7737 - auc: 0.6628 - loss: 0.5792 - val_acc: 0.7901 - val_auc: 0.0000e+00 - val_loss: 0.5624\n",
      "Epoch 35/100\n",
      "\u001b[1m301/323\u001b[0m \u001b[32m━━━━━━━━━━━━━━━━━━\u001b[0m\u001b[37m━━\u001b[0m \u001b[1m0s\u001b[0m 2ms/step - acc: 0.7688 - auc: 0.6588 - loss: 0.5835\n",
      "Epoch 35: val_loss did not improve from 0.56078\n",
      "\u001b[1m323/323\u001b[0m \u001b[32m━━━━━━━━━━━━━━━━━━━━\u001b[0m\u001b[37m\u001b[0m \u001b[1m1s\u001b[0m 3ms/step - acc: 0.7698 - auc: 0.6614 - loss: 0.5830 - val_acc: 0.7901 - val_auc: 0.0000e+00 - val_loss: 0.5626\n",
      "Epoch 36/100\n",
      "\u001b[1m299/323\u001b[0m \u001b[32m━━━━━━━━━━━━━━━━━━\u001b[0m\u001b[37m━━\u001b[0m \u001b[1m0s\u001b[0m 2ms/step - acc: 0.7756 - auc: 0.6898 - loss: 0.5740\n",
      "Epoch 36: val_loss did not improve from 0.56078\n",
      "\u001b[1m323/323\u001b[0m \u001b[32m━━━━━━━━━━━━━━━━━━━━\u001b[0m\u001b[37m\u001b[0m \u001b[1m1s\u001b[0m 2ms/step - acc: 0.7761 - auc: 0.6900 - loss: 0.5739 - val_acc: 0.7901 - val_auc: 0.0000e+00 - val_loss: 0.5622\n",
      "Epoch 37/100\n",
      "\u001b[1m322/323\u001b[0m \u001b[32m━━━━━━━━━━━━━━━━━━━\u001b[0m\u001b[37m━\u001b[0m \u001b[1m0s\u001b[0m 2ms/step - acc: 0.7786 - auc: 0.7003 - loss: 0.5767\n",
      "Epoch 37: val_loss did not improve from 0.56078\n",
      "\u001b[1m323/323\u001b[0m \u001b[32m━━━━━━━━━━━━━━━━━━━━\u001b[0m\u001b[37m\u001b[0m \u001b[1m1s\u001b[0m 2ms/step - acc: 0.7786 - auc: 0.7003 - loss: 0.5767 - val_acc: 0.7901 - val_auc: 0.0000e+00 - val_loss: 0.5622\n",
      "Epoch 38/100\n",
      "\u001b[1m321/323\u001b[0m \u001b[32m━━━━━━━━━━━━━━━━━━━\u001b[0m\u001b[37m━\u001b[0m \u001b[1m0s\u001b[0m 2ms/step - acc: 0.7548 - auc: 0.6837 - loss: 0.5864\n",
      "Epoch 38: val_loss did not improve from 0.56078\n",
      "\u001b[1m323/323\u001b[0m \u001b[32m━━━━━━━━━━━━━━━━━━━━\u001b[0m\u001b[37m\u001b[0m \u001b[1m1s\u001b[0m 2ms/step - acc: 0.7550 - auc: 0.6839 - loss: 0.5862 - val_acc: 0.7901 - val_auc: 0.0000e+00 - val_loss: 0.5618\n",
      "Epoch 39/100\n",
      "\u001b[1m315/323\u001b[0m \u001b[32m━━━━━━━━━━━━━━━━━━━\u001b[0m\u001b[37m━\u001b[0m \u001b[1m0s\u001b[0m 2ms/step - acc: 0.7506 - auc: 0.6970 - loss: 0.5851\n",
      "Epoch 39: val_loss did not improve from 0.56078\n",
      "\u001b[1m323/323\u001b[0m \u001b[32m━━━━━━━━━━━━━━━━━━━━\u001b[0m\u001b[37m\u001b[0m \u001b[1m1s\u001b[0m 2ms/step - acc: 0.7515 - auc: 0.6974 - loss: 0.5846 - val_acc: 0.7901 - val_auc: 0.0000e+00 - val_loss: 0.5619\n",
      "Epoch 40/100\n",
      "\u001b[1m317/323\u001b[0m \u001b[32m━━━━━━━━━━━━━━━━━━━\u001b[0m\u001b[37m━\u001b[0m \u001b[1m0s\u001b[0m 2ms/step - acc: 0.7760 - auc: 0.6968 - loss: 0.5727\n",
      "Epoch 40: val_loss did not improve from 0.56078\n",
      "\u001b[1m323/323\u001b[0m \u001b[32m━━━━━━━━━━━━━━━━━━━━\u001b[0m\u001b[37m\u001b[0m \u001b[1m1s\u001b[0m 2ms/step - acc: 0.7762 - auc: 0.6970 - loss: 0.5726 - val_acc: 0.7901 - val_auc: 0.0000e+00 - val_loss: 0.5619\n",
      "Epoch 41/100\n",
      "\u001b[1m323/323\u001b[0m \u001b[32m━━━━━━━━━━━━━━━━━━━━\u001b[0m\u001b[37m\u001b[0m \u001b[1m0s\u001b[0m 2ms/step - acc: 0.7826 - auc: 0.7567 - loss: 0.5489\n",
      "Epoch 41: val_loss did not improve from 0.56078\n",
      "\u001b[1m323/323\u001b[0m \u001b[32m━━━━━━━━━━━━━━━━━━━━\u001b[0m\u001b[37m\u001b[0m \u001b[1m1s\u001b[0m 2ms/step - acc: 0.7826 - auc: 0.7566 - loss: 0.5489 - val_acc: 0.7901 - val_auc: 0.0000e+00 - val_loss: 0.5615\n",
      "Epoch 42/100\n",
      "\u001b[1m314/323\u001b[0m \u001b[32m━━━━━━━━━━━━━━━━━━━\u001b[0m\u001b[37m━\u001b[0m \u001b[1m0s\u001b[0m 2ms/step - acc: 0.7585 - auc: 0.6991 - loss: 0.5844\n",
      "Epoch 42: val_loss did not improve from 0.56078\n",
      "\u001b[1m323/323\u001b[0m \u001b[32m━━━━━━━━━━━━━━━━━━━━\u001b[0m\u001b[37m\u001b[0m \u001b[1m1s\u001b[0m 2ms/step - acc: 0.7592 - auc: 0.6995 - loss: 0.5838 - val_acc: 0.7901 - val_auc: 0.0000e+00 - val_loss: 0.5615\n",
      "Epoch 43/100\n",
      "\u001b[1m298/323\u001b[0m \u001b[32m━━━━━━━━━━━━━━━━━━\u001b[0m\u001b[37m━━\u001b[0m \u001b[1m0s\u001b[0m 2ms/step - acc: 0.8038 - auc: 0.7014 - loss: 0.5564\n",
      "Epoch 43: val_loss did not improve from 0.56078\n",
      "\u001b[1m323/323\u001b[0m \u001b[32m━━━━━━━━━━━━━━━━━━━━\u001b[0m\u001b[37m\u001b[0m \u001b[1m1s\u001b[0m 2ms/step - acc: 0.8027 - auc: 0.7028 - loss: 0.5565 - val_acc: 0.7901 - val_auc: 0.0000e+00 - val_loss: 0.5616\n",
      "Epoch 44/100\n",
      "\u001b[1m320/323\u001b[0m \u001b[32m━━━━━━━━━━━━━━━━━━━\u001b[0m\u001b[37m━\u001b[0m \u001b[1m0s\u001b[0m 2ms/step - acc: 0.7540 - auc: 0.6854 - loss: 0.5744\n",
      "Epoch 44: val_loss did not improve from 0.56078\n",
      "\u001b[1m323/323\u001b[0m \u001b[32m━━━━━━━━━━━━━━━━━━━━\u001b[0m\u001b[37m\u001b[0m \u001b[1m1s\u001b[0m 2ms/step - acc: 0.7543 - auc: 0.6856 - loss: 0.5742 - val_acc: 0.7901 - val_auc: 0.0000e+00 - val_loss: 0.5618\n",
      "Epoch 45/100\n",
      "\u001b[1m319/323\u001b[0m \u001b[32m━━━━━━━━━━━━━━━━━━━\u001b[0m\u001b[37m━\u001b[0m \u001b[1m0s\u001b[0m 2ms/step - acc: 0.8221 - auc: 0.7523 - loss: 0.5229\n",
      "Epoch 45: val_loss did not improve from 0.56078\n",
      "\u001b[1m323/323\u001b[0m \u001b[32m━━━━━━━━━━━━━━━━━━━━\u001b[0m\u001b[37m\u001b[0m \u001b[1m1s\u001b[0m 2ms/step - acc: 0.8216 - auc: 0.7519 - loss: 0.5233 - val_acc: 0.7901 - val_auc: 0.0000e+00 - val_loss: 0.5616\n",
      "Epoch 46/100\n",
      "\u001b[1m322/323\u001b[0m \u001b[32m━━━━━━━━━━━━━━━━━━━\u001b[0m\u001b[37m━\u001b[0m \u001b[1m0s\u001b[0m 2ms/step - acc: 0.7886 - auc: 0.6944 - loss: 0.5543\n",
      "Epoch 46: val_loss did not improve from 0.56078\n",
      "\u001b[1m323/323\u001b[0m \u001b[32m━━━━━━━━━━━━━━━━━━━━\u001b[0m\u001b[37m\u001b[0m \u001b[1m1s\u001b[0m 2ms/step - acc: 0.7885 - auc: 0.6945 - loss: 0.5543 - val_acc: 0.7901 - val_auc: 0.0000e+00 - val_loss: 0.5619\n",
      "Epoch 47/100\n",
      "\u001b[1m322/323\u001b[0m \u001b[32m━━━━━━━━━━━━━━━━━━━\u001b[0m\u001b[37m━\u001b[0m \u001b[1m0s\u001b[0m 2ms/step - acc: 0.8046 - auc: 0.7376 - loss: 0.5367\n",
      "Epoch 47: val_loss did not improve from 0.56078\n",
      "\u001b[1m323/323\u001b[0m \u001b[32m━━━━━━━━━━━━━━━━━━━━\u001b[0m\u001b[37m\u001b[0m \u001b[1m1s\u001b[0m 2ms/step - acc: 0.8044 - auc: 0.7374 - loss: 0.5368 - val_acc: 0.7901 - val_auc: 0.0000e+00 - val_loss: 0.5620\n",
      "Epoch 48/100\n",
      "\u001b[1m313/323\u001b[0m \u001b[32m━━━━━━━━━━━━━━━━━━━\u001b[0m\u001b[37m━\u001b[0m \u001b[1m0s\u001b[0m 2ms/step - acc: 0.8155 - auc: 0.7545 - loss: 0.5316\n",
      "Epoch 48: val_loss did not improve from 0.56078\n",
      "\u001b[1m323/323\u001b[0m \u001b[32m━━━━━━━━━━━━━━━━━━━━\u001b[0m\u001b[37m\u001b[0m \u001b[1m1s\u001b[0m 2ms/step - acc: 0.8147 - auc: 0.7539 - loss: 0.5320 - val_acc: 0.7901 - val_auc: 0.0000e+00 - val_loss: 0.5620\n",
      "Epoch 49/100\n",
      "\u001b[1m313/323\u001b[0m \u001b[32m━━━━━━━━━━━━━━━━━━━\u001b[0m\u001b[37m━\u001b[0m \u001b[1m0s\u001b[0m 2ms/step - acc: 0.8004 - auc: 0.7296 - loss: 0.5367\n",
      "Epoch 49: val_loss did not improve from 0.56078\n",
      "\u001b[1m323/323\u001b[0m \u001b[32m━━━━━━━━━━━━━━━━━━━━\u001b[0m\u001b[37m\u001b[0m \u001b[1m1s\u001b[0m 2ms/step - acc: 0.7994 - auc: 0.7285 - loss: 0.5375 - val_acc: 0.7901 - val_auc: 0.0000e+00 - val_loss: 0.5626\n",
      "Epoch 50/100\n",
      "\u001b[1m310/323\u001b[0m \u001b[32m━━━━━━━━━━━━━━━━━━━\u001b[0m\u001b[37m━\u001b[0m \u001b[1m0s\u001b[0m 2ms/step - acc: 0.7659 - auc: 0.7221 - loss: 0.5671\n",
      "Epoch 50: val_loss did not improve from 0.56078\n",
      "\u001b[1m323/323\u001b[0m \u001b[32m━━━━━━━━━━━━━━━━━━━━\u001b[0m\u001b[37m\u001b[0m \u001b[1m1s\u001b[0m 2ms/step - acc: 0.7663 - auc: 0.7217 - loss: 0.5667 - val_acc: 0.7901 - val_auc: 0.0000e+00 - val_loss: 0.5628\n",
      "Epoch 51/100\n",
      "\u001b[1m318/323\u001b[0m \u001b[32m━━━━━━━━━━━━━━━━━━━\u001b[0m\u001b[37m━\u001b[0m \u001b[1m0s\u001b[0m 2ms/step - acc: 0.8163 - auc: 0.7622 - loss: 0.5061\n",
      "Epoch 51: val_loss did not improve from 0.56078\n",
      "\u001b[1m323/323\u001b[0m \u001b[32m━━━━━━━━━━━━━━━━━━━━\u001b[0m\u001b[37m\u001b[0m \u001b[1m1s\u001b[0m 2ms/step - acc: 0.8159 - auc: 0.7620 - loss: 0.5065 - val_acc: 0.7901 - val_auc: 0.0000e+00 - val_loss: 0.5620\n",
      "Epoch 52/100\n",
      "\u001b[1m317/323\u001b[0m \u001b[32m━━━━━━━━━━━━━━━━━━━\u001b[0m\u001b[37m━\u001b[0m \u001b[1m0s\u001b[0m 2ms/step - acc: 0.7929 - auc: 0.7609 - loss: 0.5237\n",
      "Epoch 52: val_loss did not improve from 0.56078\n",
      "\u001b[1m323/323\u001b[0m \u001b[32m━━━━━━━━━━━━━━━━━━━━\u001b[0m\u001b[37m\u001b[0m \u001b[1m1s\u001b[0m 2ms/step - acc: 0.7927 - auc: 0.7604 - loss: 0.5240 - val_acc: 0.7901 - val_auc: 0.0000e+00 - val_loss: 0.5619\n",
      "Epoch 53/100\n",
      "\u001b[1m319/323\u001b[0m \u001b[32m━━━━━━━━━━━━━━━━━━━\u001b[0m\u001b[37m━\u001b[0m \u001b[1m0s\u001b[0m 2ms/step - acc: 0.7810 - auc: 0.7521 - loss: 0.5305\n",
      "Epoch 53: val_loss did not improve from 0.56078\n",
      "\u001b[1m323/323\u001b[0m \u001b[32m━━━━━━━━━━━━━━━━━━━━\u001b[0m\u001b[37m\u001b[0m \u001b[1m1s\u001b[0m 2ms/step - acc: 0.7809 - auc: 0.7517 - loss: 0.5307 - val_acc: 0.7901 - val_auc: 0.0000e+00 - val_loss: 0.5619\n",
      "Epoch 54/100\n",
      "\u001b[1m316/323\u001b[0m \u001b[32m━━━━━━━━━━━━━━━━━━━\u001b[0m\u001b[37m━\u001b[0m \u001b[1m0s\u001b[0m 2ms/step - acc: 0.7947 - auc: 0.7537 - loss: 0.5263\n",
      "Epoch 54: val_loss did not improve from 0.56078\n",
      "\u001b[1m323/323\u001b[0m \u001b[32m━━━━━━━━━━━━━━━━━━━━\u001b[0m\u001b[37m\u001b[0m \u001b[1m1s\u001b[0m 2ms/step - acc: 0.7946 - auc: 0.7534 - loss: 0.5265 - val_acc: 0.7901 - val_auc: 0.0000e+00 - val_loss: 0.5617\n",
      "Epoch 55/100\n",
      "\u001b[1m319/323\u001b[0m \u001b[32m━━━━━━━━━━━━━━━━━━━\u001b[0m\u001b[37m━\u001b[0m \u001b[1m0s\u001b[0m 2ms/step - acc: 0.7907 - auc: 0.7448 - loss: 0.5276\n",
      "Epoch 55: val_loss did not improve from 0.56078\n",
      "\u001b[1m323/323\u001b[0m \u001b[32m━━━━━━━━━━━━━━━━━━━━\u001b[0m\u001b[37m\u001b[0m \u001b[1m1s\u001b[0m 2ms/step - acc: 0.7906 - auc: 0.7446 - loss: 0.5277 - val_acc: 0.7901 - val_auc: 0.0000e+00 - val_loss: 0.5618\n",
      "Epoch 56/100\n",
      "\u001b[1m317/323\u001b[0m \u001b[32m━━━━━━━━━━━━━━━━━━━\u001b[0m\u001b[37m━\u001b[0m \u001b[1m0s\u001b[0m 2ms/step - acc: 0.7803 - auc: 0.7145 - loss: 0.5385\n",
      "Epoch 56: val_loss did not improve from 0.56078\n",
      "\u001b[1m323/323\u001b[0m \u001b[32m━━━━━━━━━━━━━━━━━━━━\u001b[0m\u001b[37m\u001b[0m \u001b[1m1s\u001b[0m 2ms/step - acc: 0.7802 - auc: 0.7148 - loss: 0.5385 - val_acc: 0.7901 - val_auc: 0.0000e+00 - val_loss: 0.5616\n",
      "Epoch 57/100\n",
      "\u001b[1m297/323\u001b[0m \u001b[32m━━━━━━━━━━━━━━━━━━\u001b[0m\u001b[37m━━\u001b[0m \u001b[1m0s\u001b[0m 2ms/step - acc: 0.8155 - auc: 0.7513 - loss: 0.5064\n",
      "Epoch 57: val_loss did not improve from 0.56078\n",
      "\u001b[1m323/323\u001b[0m \u001b[32m━━━━━━━━━━━━━━━━━━━━\u001b[0m\u001b[37m\u001b[0m \u001b[1m1s\u001b[0m 2ms/step - acc: 0.8138 - auc: 0.7503 - loss: 0.5082 - val_acc: 0.7901 - val_auc: 0.0000e+00 - val_loss: 0.5618\n",
      "Epoch 58/100\n",
      "\u001b[1m322/323\u001b[0m \u001b[32m━━━━━━━━━━━━━━━━━━━\u001b[0m\u001b[37m━\u001b[0m \u001b[1m0s\u001b[0m 2ms/step - acc: 0.7481 - auc: 0.7240 - loss: 0.5519\n",
      "Epoch 58: val_loss did not improve from 0.56078\n",
      "\u001b[1m323/323\u001b[0m \u001b[32m━━━━━━━━━━━━━━━━━━━━\u001b[0m\u001b[37m\u001b[0m \u001b[1m1s\u001b[0m 2ms/step - acc: 0.7482 - auc: 0.7240 - loss: 0.5518 - val_acc: 0.7901 - val_auc: 0.0000e+00 - val_loss: 0.5620\n",
      "Epoch 59/100\n",
      "\u001b[1m297/323\u001b[0m \u001b[32m━━━━━━━━━━━━━━━━━━\u001b[0m\u001b[37m━━\u001b[0m \u001b[1m0s\u001b[0m 2ms/step - acc: 0.7663 - auc: 0.7475 - loss: 0.5379\n",
      "Epoch 59: val_loss did not improve from 0.56078\n",
      "\u001b[1m323/323\u001b[0m \u001b[32m━━━━━━━━━━━━━━━━━━━━\u001b[0m\u001b[37m\u001b[0m \u001b[1m1s\u001b[0m 2ms/step - acc: 0.7680 - auc: 0.7463 - loss: 0.5374 - val_acc: 0.7901 - val_auc: 0.0000e+00 - val_loss: 0.5621\n",
      "Epoch 60/100\n",
      "\u001b[1m319/323\u001b[0m \u001b[32m━━━━━━━━━━━━━━━━━━━\u001b[0m\u001b[37m━\u001b[0m \u001b[1m0s\u001b[0m 2ms/step - acc: 0.7983 - auc: 0.7420 - loss: 0.5248\n",
      "Epoch 60: val_loss did not improve from 0.56078\n",
      "\u001b[1m323/323\u001b[0m \u001b[32m━━━━━━━━━━━━━━━━━━━━\u001b[0m\u001b[37m\u001b[0m \u001b[1m1s\u001b[0m 2ms/step - acc: 0.7983 - auc: 0.7418 - loss: 0.5248 - val_acc: 0.7901 - val_auc: 0.0000e+00 - val_loss: 0.5622\n",
      "Epoch 61/100\n",
      "\u001b[1m320/323\u001b[0m \u001b[32m━━━━━━━━━━━━━━━━━━━\u001b[0m\u001b[37m━\u001b[0m \u001b[1m0s\u001b[0m 2ms/step - acc: 0.7846 - auc: 0.7474 - loss: 0.5220\n",
      "Epoch 61: val_loss did not improve from 0.56078\n",
      "\u001b[1m323/323\u001b[0m \u001b[32m━━━━━━━━━━━━━━━━━━━━\u001b[0m\u001b[37m\u001b[0m \u001b[1m1s\u001b[0m 2ms/step - acc: 0.7845 - auc: 0.7473 - loss: 0.5221 - val_acc: 0.7901 - val_auc: 0.0000e+00 - val_loss: 0.5621\n",
      "Epoch 62/100\n",
      "\u001b[1m317/323\u001b[0m \u001b[32m━━━━━━━━━━━━━━━━━━━\u001b[0m\u001b[37m━\u001b[0m \u001b[1m0s\u001b[0m 2ms/step - acc: 0.7996 - auc: 0.7618 - loss: 0.5108\n",
      "Epoch 62: val_loss did not improve from 0.56078\n",
      "\u001b[1m323/323\u001b[0m \u001b[32m━━━━━━━━━━━━━━━━━━━━\u001b[0m\u001b[37m\u001b[0m \u001b[1m1s\u001b[0m 2ms/step - acc: 0.7994 - auc: 0.7614 - loss: 0.5111 - val_acc: 0.7901 - val_auc: 0.0000e+00 - val_loss: 0.5622\n",
      "Epoch 63/100\n",
      "\u001b[1m314/323\u001b[0m \u001b[32m━━━━━━━━━━━━━━━━━━━\u001b[0m\u001b[37m━\u001b[0m \u001b[1m0s\u001b[0m 2ms/step - acc: 0.7845 - auc: 0.7232 - loss: 0.5309\n",
      "Epoch 63: val_loss did not improve from 0.56078\n",
      "\u001b[1m323/323\u001b[0m \u001b[32m━━━━━━━━━━━━━━━━━━━━\u001b[0m\u001b[37m\u001b[0m \u001b[1m1s\u001b[0m 2ms/step - acc: 0.7848 - auc: 0.7236 - loss: 0.5306 - val_acc: 0.7901 - val_auc: 0.0000e+00 - val_loss: 0.5623\n",
      "Epoch 64/100\n",
      "\u001b[1m313/323\u001b[0m \u001b[32m━━━━━━━━━━━━━━━━━━━\u001b[0m\u001b[37m━\u001b[0m \u001b[1m0s\u001b[0m 2ms/step - acc: 0.7915 - auc: 0.7250 - loss: 0.5236\n",
      "Epoch 64: val_loss did not improve from 0.56078\n",
      "\u001b[1m323/323\u001b[0m \u001b[32m━━━━━━━━━━━━━━━━━━━━\u001b[0m\u001b[37m\u001b[0m \u001b[1m1s\u001b[0m 2ms/step - acc: 0.7915 - auc: 0.7252 - loss: 0.5235 - val_acc: 0.7901 - val_auc: 0.0000e+00 - val_loss: 0.5627\n",
      "Epoch 65/100\n",
      "\u001b[1m310/323\u001b[0m \u001b[32m━━━━━━━━━━━━━━━━━━━\u001b[0m\u001b[37m━\u001b[0m \u001b[1m0s\u001b[0m 2ms/step - acc: 0.7927 - auc: 0.7445 - loss: 0.5152\n",
      "Epoch 65: val_loss did not improve from 0.56078\n",
      "\u001b[1m323/323\u001b[0m \u001b[32m━━━━━━━━━━━━━━━━━━━━\u001b[0m\u001b[37m\u001b[0m \u001b[1m1s\u001b[0m 2ms/step - acc: 0.7924 - auc: 0.7443 - loss: 0.5155 - val_acc: 0.7901 - val_auc: 0.0000e+00 - val_loss: 0.5627\n",
      "Epoch 66/100\n",
      "\u001b[1m321/323\u001b[0m \u001b[32m━━━━━━━━━━━━━━━━━━━\u001b[0m\u001b[37m━\u001b[0m \u001b[1m0s\u001b[0m 2ms/step - acc: 0.7871 - auc: 0.7355 - loss: 0.5226\n",
      "Epoch 66: val_loss did not improve from 0.56078\n",
      "\u001b[1m323/323\u001b[0m \u001b[32m━━━━━━━━━━━━━━━━━━━━\u001b[0m\u001b[37m\u001b[0m \u001b[1m1s\u001b[0m 2ms/step - acc: 0.7872 - auc: 0.7356 - loss: 0.5225 - val_acc: 0.7901 - val_auc: 0.0000e+00 - val_loss: 0.5630\n",
      "Epoch 67/100\n",
      "\u001b[1m319/323\u001b[0m \u001b[32m━━━━━━━━━━━━━━━━━━━\u001b[0m\u001b[37m━\u001b[0m \u001b[1m0s\u001b[0m 2ms/step - acc: 0.8070 - auc: 0.7593 - loss: 0.5031\n",
      "Epoch 67: val_loss did not improve from 0.56078\n",
      "\u001b[1m323/323\u001b[0m \u001b[32m━━━━━━━━━━━━━━━━━━━━\u001b[0m\u001b[37m\u001b[0m \u001b[1m1s\u001b[0m 2ms/step - acc: 0.8069 - auc: 0.7593 - loss: 0.5030 - val_acc: 0.7901 - val_auc: 0.0000e+00 - val_loss: 0.5632\n",
      "Epoch 68/100\n",
      "\u001b[1m312/323\u001b[0m \u001b[32m━━━━━━━━━━━━━━━━━━━\u001b[0m\u001b[37m━\u001b[0m \u001b[1m0s\u001b[0m 2ms/step - acc: 0.7988 - auc: 0.7816 - loss: 0.5036\n",
      "Epoch 68: val_loss did not improve from 0.56078\n",
      "\u001b[1m323/323\u001b[0m \u001b[32m━━━━━━━━━━━━━━━━━━━━\u001b[0m\u001b[37m\u001b[0m \u001b[1m1s\u001b[0m 2ms/step - acc: 0.7986 - auc: 0.7806 - loss: 0.5038 - val_acc: 0.7901 - val_auc: 0.0000e+00 - val_loss: 0.5633\n",
      "Epoch 69/100\n",
      "\u001b[1m312/323\u001b[0m \u001b[32m━━━━━━━━━━━━━━━━━━━\u001b[0m\u001b[37m━\u001b[0m \u001b[1m0s\u001b[0m 2ms/step - acc: 0.7986 - auc: 0.7692 - loss: 0.4992\n",
      "Epoch 69: val_loss did not improve from 0.56078\n",
      "\u001b[1m323/323\u001b[0m \u001b[32m━━━━━━━━━━━━━━━━━━━━\u001b[0m\u001b[37m\u001b[0m \u001b[1m1s\u001b[0m 2ms/step - acc: 0.7982 - auc: 0.7686 - loss: 0.4996 - val_acc: 0.7901 - val_auc: 0.0000e+00 - val_loss: 0.5636\n",
      "Epoch 70/100\n",
      "\u001b[1m321/323\u001b[0m \u001b[32m━━━━━━━━━━━━━━━━━━━\u001b[0m\u001b[37m━\u001b[0m \u001b[1m0s\u001b[0m 2ms/step - acc: 0.7994 - auc: 0.7638 - loss: 0.4884\n",
      "Epoch 70: val_loss did not improve from 0.56078\n",
      "\u001b[1m323/323\u001b[0m \u001b[32m━━━━━━━━━━━━━━━━━━━━\u001b[0m\u001b[37m\u001b[0m \u001b[1m1s\u001b[0m 2ms/step - acc: 0.7993 - auc: 0.7636 - loss: 0.4886 - val_acc: 0.7901 - val_auc: 0.0000e+00 - val_loss: 0.5642\n",
      "Epoch 71/100\n",
      "\u001b[1m317/323\u001b[0m \u001b[32m━━━━━━━━━━━━━━━━━━━\u001b[0m\u001b[37m━\u001b[0m \u001b[1m0s\u001b[0m 2ms/step - acc: 0.7547 - auc: 0.7317 - loss: 0.5328\n",
      "Epoch 71: val_loss did not improve from 0.56078\n",
      "\u001b[1m323/323\u001b[0m \u001b[32m━━━━━━━━━━━━━━━━━━━━\u001b[0m\u001b[37m\u001b[0m \u001b[1m1s\u001b[0m 2ms/step - acc: 0.7555 - auc: 0.7318 - loss: 0.5323 - val_acc: 0.7901 - val_auc: 0.0000e+00 - val_loss: 0.5647\n",
      "Epoch 72/100\n",
      "\u001b[1m322/323\u001b[0m \u001b[32m━━━━━━━━━━━━━━━━━━━\u001b[0m\u001b[37m━\u001b[0m \u001b[1m0s\u001b[0m 2ms/step - acc: 0.8018 - auc: 0.7552 - loss: 0.4950\n",
      "Epoch 72: val_loss did not improve from 0.56078\n",
      "\u001b[1m323/323\u001b[0m \u001b[32m━━━━━━━━━━━━━━━━━━━━\u001b[0m\u001b[37m\u001b[0m \u001b[1m1s\u001b[0m 2ms/step - acc: 0.8018 - auc: 0.7551 - loss: 0.4951 - val_acc: 0.7901 - val_auc: 0.0000e+00 - val_loss: 0.5651\n",
      "Epoch 73/100\n",
      "\u001b[1m322/323\u001b[0m \u001b[32m━━━━━━━━━━━━━━━━━━━\u001b[0m\u001b[37m━\u001b[0m \u001b[1m0s\u001b[0m 2ms/step - acc: 0.7730 - auc: 0.7500 - loss: 0.5126\n",
      "Epoch 73: val_loss did not improve from 0.56078\n",
      "\u001b[1m323/323\u001b[0m \u001b[32m━━━━━━━━━━━━━━━━━━━━\u001b[0m\u001b[37m\u001b[0m \u001b[1m1s\u001b[0m 2ms/step - acc: 0.7730 - auc: 0.7499 - loss: 0.5126 - val_acc: 0.7901 - val_auc: 0.0000e+00 - val_loss: 0.5655\n",
      "Epoch 74/100\n",
      "\u001b[1m298/323\u001b[0m \u001b[32m━━━━━━━━━━━━━━━━━━\u001b[0m\u001b[37m━━\u001b[0m \u001b[1m0s\u001b[0m 2ms/step - acc: 0.8124 - auc: 0.7615 - loss: 0.4877\n",
      "Epoch 74: val_loss did not improve from 0.56078\n",
      "\u001b[1m323/323\u001b[0m \u001b[32m━━━━━━━━━━━━━━━━━━━━\u001b[0m\u001b[37m\u001b[0m \u001b[1m1s\u001b[0m 2ms/step - acc: 0.8104 - auc: 0.7601 - loss: 0.4891 - val_acc: 0.7901 - val_auc: 0.0000e+00 - val_loss: 0.5659\n",
      "Epoch 75/100\n",
      "\u001b[1m297/323\u001b[0m \u001b[32m━━━━━━━━━━━━━━━━━━\u001b[0m\u001b[37m━━\u001b[0m \u001b[1m0s\u001b[0m 2ms/step - acc: 0.8352 - auc: 0.7507 - loss: 0.4805\n",
      "Epoch 75: val_loss did not improve from 0.56078\n",
      "\u001b[1m323/323\u001b[0m \u001b[32m━━━━━━━━━━━━━━━━━━━━\u001b[0m\u001b[37m\u001b[0m \u001b[1m1s\u001b[0m 2ms/step - acc: 0.8322 - auc: 0.7508 - loss: 0.4822 - val_acc: 0.7901 - val_auc: 0.0000e+00 - val_loss: 0.5664\n",
      "Epoch 76/100\n",
      "\u001b[1m323/323\u001b[0m \u001b[32m━━━━━━━━━━━━━━━━━━━━\u001b[0m\u001b[37m\u001b[0m \u001b[1m0s\u001b[0m 2ms/step - acc: 0.7830 - auc: 0.7369 - loss: 0.5068\n",
      "Epoch 76: val_loss did not improve from 0.56078\n",
      "\u001b[1m323/323\u001b[0m \u001b[32m━━━━━━━━━━━━━━━━━━━━\u001b[0m\u001b[37m\u001b[0m \u001b[1m1s\u001b[0m 2ms/step - acc: 0.7830 - auc: 0.7369 - loss: 0.5068 - val_acc: 0.7901 - val_auc: 0.0000e+00 - val_loss: 0.5670\n",
      "Epoch 77/100\n",
      "\u001b[1m298/323\u001b[0m \u001b[32m━━━━━━━━━━━━━━━━━━\u001b[0m\u001b[37m━━\u001b[0m \u001b[1m0s\u001b[0m 2ms/step - acc: 0.8044 - auc: 0.7162 - loss: 0.5040\n",
      "Epoch 77: val_loss did not improve from 0.56078\n",
      "\u001b[1m323/323\u001b[0m \u001b[32m━━━━━━━━━━━━━━━━━━━━\u001b[0m\u001b[37m\u001b[0m \u001b[1m1s\u001b[0m 2ms/step - acc: 0.8033 - auc: 0.7177 - loss: 0.5040 - val_acc: 0.7901 - val_auc: 0.0000e+00 - val_loss: 0.5680\n",
      "Epoch 78/100\n",
      "\u001b[1m312/323\u001b[0m \u001b[32m━━━━━━━━━━━━━━━━━━━\u001b[0m\u001b[37m━\u001b[0m \u001b[1m0s\u001b[0m 2ms/step - acc: 0.8040 - auc: 0.7507 - loss: 0.4878\n",
      "Epoch 78: val_loss did not improve from 0.56078\n",
      "\u001b[1m323/323\u001b[0m \u001b[32m━━━━━━━━━━━━━━━━━━━━\u001b[0m\u001b[37m\u001b[0m \u001b[1m1s\u001b[0m 2ms/step - acc: 0.8036 - auc: 0.7504 - loss: 0.4882 - val_acc: 0.7901 - val_auc: 0.0000e+00 - val_loss: 0.5684\n",
      "Epoch 79/100\n",
      "\u001b[1m314/323\u001b[0m \u001b[32m━━━━━━━━━━━━━━━━━━━\u001b[0m\u001b[37m━\u001b[0m \u001b[1m0s\u001b[0m 2ms/step - acc: 0.7898 - auc: 0.7182 - loss: 0.5098\n",
      "Epoch 79: val_loss did not improve from 0.56078\n",
      "\u001b[1m323/323\u001b[0m \u001b[32m━━━━━━━━━━━━━━━━━━━━\u001b[0m\u001b[37m\u001b[0m \u001b[1m1s\u001b[0m 2ms/step - acc: 0.7897 - auc: 0.7183 - loss: 0.5098 - val_acc: 0.7901 - val_auc: 0.0000e+00 - val_loss: 0.5693\n",
      "Epoch 80/100\n",
      "\u001b[1m313/323\u001b[0m \u001b[32m━━━━━━━━━━━━━━━━━━━\u001b[0m\u001b[37m━\u001b[0m \u001b[1m0s\u001b[0m 2ms/step - acc: 0.7752 - auc: 0.7529 - loss: 0.5079\n",
      "Epoch 80: val_loss did not improve from 0.56078\n",
      "\u001b[1m323/323\u001b[0m \u001b[32m━━━━━━━━━━━━━━━━━━━━\u001b[0m\u001b[37m\u001b[0m \u001b[1m1s\u001b[0m 2ms/step - acc: 0.7759 - auc: 0.7531 - loss: 0.5074 - val_acc: 0.7901 - val_auc: 0.0000e+00 - val_loss: 0.5697\n",
      "Epoch 81/100\n",
      "\u001b[1m321/323\u001b[0m \u001b[32m━━━━━━━━━━━━━━━━━━━\u001b[0m\u001b[37m━\u001b[0m \u001b[1m0s\u001b[0m 2ms/step - acc: 0.7840 - auc: 0.7154 - loss: 0.5003\n",
      "Epoch 81: val_loss did not improve from 0.56078\n",
      "\u001b[1m323/323\u001b[0m \u001b[32m━━━━━━━━━━━━━━━━━━━━\u001b[0m\u001b[37m\u001b[0m \u001b[1m1s\u001b[0m 2ms/step - acc: 0.7839 - auc: 0.7156 - loss: 0.5003 - val_acc: 0.7901 - val_auc: 0.0000e+00 - val_loss: 0.5699\n",
      "Epoch 82/100\n",
      "\u001b[1m323/323\u001b[0m \u001b[32m━━━━━━━━━━━━━━━━━━━━\u001b[0m\u001b[37m\u001b[0m \u001b[1m0s\u001b[0m 2ms/step - acc: 0.7832 - auc: 0.7438 - loss: 0.4959\n",
      "Epoch 82: val_loss did not improve from 0.56078\n",
      "\u001b[1m323/323\u001b[0m \u001b[32m━━━━━━━━━━━━━━━━━━━━\u001b[0m\u001b[37m\u001b[0m \u001b[1m1s\u001b[0m 2ms/step - acc: 0.7832 - auc: 0.7438 - loss: 0.4959 - val_acc: 0.7901 - val_auc: 0.0000e+00 - val_loss: 0.5706\n",
      "Epoch 83/100\n",
      "\u001b[1m315/323\u001b[0m \u001b[32m━━━━━━━━━━━━━━━━━━━\u001b[0m\u001b[37m━\u001b[0m \u001b[1m0s\u001b[0m 2ms/step - acc: 0.8033 - auc: 0.7655 - loss: 0.4714\n",
      "Epoch 83: val_loss did not improve from 0.56078\n",
      "\u001b[1m323/323\u001b[0m \u001b[32m━━━━━━━━━━━━━━━━━━━━\u001b[0m\u001b[37m\u001b[0m \u001b[1m1s\u001b[0m 2ms/step - acc: 0.8028 - auc: 0.7652 - loss: 0.4719 - val_acc: 0.7901 - val_auc: 0.0000e+00 - val_loss: 0.5709\n",
      "Epoch 84/100\n",
      "\u001b[1m321/323\u001b[0m \u001b[32m━━━━━━━━━━━━━━━━━━━\u001b[0m\u001b[37m━\u001b[0m \u001b[1m0s\u001b[0m 2ms/step - acc: 0.7994 - auc: 0.7804 - loss: 0.4772\n",
      "Epoch 84: val_loss did not improve from 0.56078\n",
      "\u001b[1m323/323\u001b[0m \u001b[32m━━━━━━━━━━━━━━━━━━━━\u001b[0m\u001b[37m\u001b[0m \u001b[1m1s\u001b[0m 2ms/step - acc: 0.7994 - auc: 0.7802 - loss: 0.4773 - val_acc: 0.7901 - val_auc: 0.0000e+00 - val_loss: 0.5716\n",
      "Epoch 85/100\n",
      "\u001b[1m323/323\u001b[0m \u001b[32m━━━━━━━━━━━━━━━━━━━━\u001b[0m\u001b[37m\u001b[0m \u001b[1m0s\u001b[0m 2ms/step - acc: 0.8185 - auc: 0.7916 - loss: 0.4552\n",
      "Epoch 85: val_loss did not improve from 0.56078\n",
      "\u001b[1m323/323\u001b[0m \u001b[32m━━━━━━━━━━━━━━━━━━━━\u001b[0m\u001b[37m\u001b[0m \u001b[1m1s\u001b[0m 2ms/step - acc: 0.8184 - auc: 0.7915 - loss: 0.4552 - val_acc: 0.7901 - val_auc: 0.0000e+00 - val_loss: 0.5715\n",
      "Epoch 86/100\n",
      "\u001b[1m319/323\u001b[0m \u001b[32m━━━━━━━━━━━━━━━━━━━\u001b[0m\u001b[37m━\u001b[0m \u001b[1m0s\u001b[0m 2ms/step - acc: 0.8040 - auc: 0.7844 - loss: 0.4660\n",
      "Epoch 86: val_loss did not improve from 0.56078\n",
      "\u001b[1m323/323\u001b[0m \u001b[32m━━━━━━━━━━━━━━━━━━━━\u001b[0m\u001b[37m\u001b[0m \u001b[1m1s\u001b[0m 2ms/step - acc: 0.8038 - auc: 0.7840 - loss: 0.4663 - val_acc: 0.7901 - val_auc: 0.0000e+00 - val_loss: 0.5720\n",
      "Epoch 87/100\n",
      "\u001b[1m320/323\u001b[0m \u001b[32m━━━━━━━━━━━━━━━━━━━\u001b[0m\u001b[37m━\u001b[0m \u001b[1m0s\u001b[0m 2ms/step - acc: 0.8176 - auc: 0.7727 - loss: 0.4611\n",
      "Epoch 87: val_loss did not improve from 0.56078\n",
      "\u001b[1m323/323\u001b[0m \u001b[32m━━━━━━━━━━━━━━━━━━━━\u001b[0m\u001b[37m\u001b[0m \u001b[1m1s\u001b[0m 2ms/step - acc: 0.8174 - auc: 0.7725 - loss: 0.4614 - val_acc: 0.7901 - val_auc: 0.0000e+00 - val_loss: 0.5723\n",
      "Epoch 88/100\n",
      "\u001b[1m320/323\u001b[0m \u001b[32m━━━━━━━━━━━━━━━━━━━\u001b[0m\u001b[37m━\u001b[0m \u001b[1m0s\u001b[0m 2ms/step - acc: 0.7801 - auc: 0.7508 - loss: 0.4941\n",
      "Epoch 88: val_loss did not improve from 0.56078\n",
      "\u001b[1m323/323\u001b[0m \u001b[32m━━━━━━━━━━━━━━━━━━━━\u001b[0m\u001b[37m\u001b[0m \u001b[1m1s\u001b[0m 2ms/step - acc: 0.7801 - auc: 0.7509 - loss: 0.4941 - val_acc: 0.7901 - val_auc: 0.0000e+00 - val_loss: 0.5730\n",
      "Epoch 89/100\n",
      "\u001b[1m317/323\u001b[0m \u001b[32m━━━━━━━━━━━━━━━━━━━\u001b[0m\u001b[37m━\u001b[0m \u001b[1m0s\u001b[0m 2ms/step - acc: 0.7816 - auc: 0.7856 - loss: 0.4919\n",
      "Epoch 89: val_loss did not improve from 0.56078\n",
      "\u001b[1m323/323\u001b[0m \u001b[32m━━━━━━━━━━━━━━━━━━━━\u001b[0m\u001b[37m\u001b[0m \u001b[1m1s\u001b[0m 2ms/step - acc: 0.7818 - auc: 0.7857 - loss: 0.4915 - val_acc: 0.7901 - val_auc: 0.0000e+00 - val_loss: 0.5733\n",
      "Epoch 90/100\n",
      "\u001b[1m317/323\u001b[0m \u001b[32m━━━━━━━━━━━━━━━━━━━\u001b[0m\u001b[37m━\u001b[0m \u001b[1m0s\u001b[0m 2ms/step - acc: 0.7753 - auc: 0.7446 - loss: 0.5068\n",
      "Epoch 90: val_loss did not improve from 0.56078\n",
      "\u001b[1m323/323\u001b[0m \u001b[32m━━━━━━━━━━━━━━━━━━━━\u001b[0m\u001b[37m\u001b[0m \u001b[1m1s\u001b[0m 2ms/step - acc: 0.7755 - auc: 0.7450 - loss: 0.5064 - val_acc: 0.7901 - val_auc: 0.0000e+00 - val_loss: 0.5737\n",
      "Epoch 91/100\n",
      "\u001b[1m317/323\u001b[0m \u001b[32m━━━━━━━━━━━━━━━━━━━\u001b[0m\u001b[37m━\u001b[0m \u001b[1m0s\u001b[0m 2ms/step - acc: 0.8001 - auc: 0.7863 - loss: 0.4744\n",
      "Epoch 91: val_loss did not improve from 0.56078\n",
      "\u001b[1m323/323\u001b[0m \u001b[32m━━━━━━━━━━━━━━━━━━━━\u001b[0m\u001b[37m\u001b[0m \u001b[1m1s\u001b[0m 2ms/step - acc: 0.8000 - auc: 0.7862 - loss: 0.4746 - val_acc: 0.7901 - val_auc: 0.0000e+00 - val_loss: 0.5745\n",
      "Epoch 92/100\n",
      "\u001b[1m297/323\u001b[0m \u001b[32m━━━━━━━━━━━━━━━━━━\u001b[0m\u001b[37m━━\u001b[0m \u001b[1m0s\u001b[0m 2ms/step - acc: 0.8104 - auc: 0.8190 - loss: 0.4561\n",
      "Epoch 92: val_loss did not improve from 0.56078\n",
      "\u001b[1m323/323\u001b[0m \u001b[32m━━━━━━━━━━━━━━━━━━━━\u001b[0m\u001b[37m\u001b[0m \u001b[1m1s\u001b[0m 2ms/step - acc: 0.8097 - auc: 0.8171 - loss: 0.4575 - val_acc: 0.7901 - val_auc: 0.0000e+00 - val_loss: 0.5747\n",
      "Epoch 93/100\n",
      "\u001b[1m313/323\u001b[0m \u001b[32m━━━━━━━━━━━━━━━━━━━\u001b[0m\u001b[37m━\u001b[0m \u001b[1m0s\u001b[0m 2ms/step - acc: 0.8058 - auc: 0.7570 - loss: 0.4859\n",
      "Epoch 93: val_loss did not improve from 0.56078\n",
      "\u001b[1m323/323\u001b[0m \u001b[32m━━━━━━━━━━━━━━━━━━━━\u001b[0m\u001b[37m\u001b[0m \u001b[1m1s\u001b[0m 2ms/step - acc: 0.8057 - auc: 0.7589 - loss: 0.4854 - val_acc: 0.7901 - val_auc: 0.0000e+00 - val_loss: 0.5753\n",
      "Epoch 94/100\n",
      "\u001b[1m315/323\u001b[0m \u001b[32m━━━━━━━━━━━━━━━━━━━\u001b[0m\u001b[37m━\u001b[0m \u001b[1m0s\u001b[0m 2ms/step - acc: 0.8114 - auc: 0.8228 - loss: 0.4606\n",
      "Epoch 94: val_loss did not improve from 0.56078\n",
      "\u001b[1m323/323\u001b[0m \u001b[32m━━━━━━━━━━━━━━━━━━━━\u001b[0m\u001b[37m\u001b[0m \u001b[1m1s\u001b[0m 2ms/step - acc: 0.8108 - auc: 0.8230 - loss: 0.4611 - val_acc: 0.7901 - val_auc: 0.0000e+00 - val_loss: 0.5760\n",
      "Epoch 95/100\n",
      "\u001b[1m309/323\u001b[0m \u001b[32m━━━━━━━━━━━━━━━━━━━\u001b[0m\u001b[37m━\u001b[0m \u001b[1m0s\u001b[0m 2ms/step - acc: 0.8064 - auc: 0.8385 - loss: 0.4544\n",
      "Epoch 95: val_loss did not improve from 0.56078\n",
      "\u001b[1m323/323\u001b[0m \u001b[32m━━━━━━━━━━━━━━━━━━━━\u001b[0m\u001b[37m\u001b[0m \u001b[1m1s\u001b[0m 2ms/step - acc: 0.8060 - auc: 0.8377 - loss: 0.4550 - val_acc: 0.7901 - val_auc: 0.0000e+00 - val_loss: 0.5766\n",
      "Epoch 96/100\n",
      "\u001b[1m319/323\u001b[0m \u001b[32m━━━━━━━━━━━━━━━━━━━\u001b[0m\u001b[37m━\u001b[0m \u001b[1m0s\u001b[0m 2ms/step - acc: 0.7824 - auc: 0.8295 - loss: 0.4750\n",
      "Epoch 96: val_loss did not improve from 0.56078\n",
      "\u001b[1m323/323\u001b[0m \u001b[32m━━━━━━━━━━━━━━━━━━━━\u001b[0m\u001b[37m\u001b[0m \u001b[1m1s\u001b[0m 2ms/step - acc: 0.7825 - auc: 0.8296 - loss: 0.4749 - val_acc: 0.7901 - val_auc: 0.0000e+00 - val_loss: 0.5772\n",
      "Epoch 97/100\n",
      "\u001b[1m320/323\u001b[0m \u001b[32m━━━━━━━━━━━━━━━━━━━\u001b[0m\u001b[37m━\u001b[0m \u001b[1m0s\u001b[0m 2ms/step - acc: 0.7995 - auc: 0.8251 - loss: 0.4668\n",
      "Epoch 97: val_loss did not improve from 0.56078\n",
      "\u001b[1m323/323\u001b[0m \u001b[32m━━━━━━━━━━━━━━━━━━━━\u001b[0m\u001b[37m\u001b[0m \u001b[1m1s\u001b[0m 2ms/step - acc: 0.7993 - auc: 0.8248 - loss: 0.4670 - val_acc: 0.7901 - val_auc: 0.0000e+00 - val_loss: 0.5787\n",
      "Epoch 98/100\n",
      "\u001b[1m319/323\u001b[0m \u001b[32m━━━━━━━━━━━━━━━━━━━\u001b[0m\u001b[37m━\u001b[0m \u001b[1m0s\u001b[0m 2ms/step - acc: 0.7742 - auc: 0.8166 - loss: 0.4917\n",
      "Epoch 98: val_loss did not improve from 0.56078\n",
      "\u001b[1m323/323\u001b[0m \u001b[32m━━━━━━━━━━━━━━━━━━━━\u001b[0m\u001b[37m\u001b[0m \u001b[1m1s\u001b[0m 2ms/step - acc: 0.7742 - auc: 0.8165 - loss: 0.4916 - val_acc: 0.7901 - val_auc: 0.0000e+00 - val_loss: 0.5794\n",
      "Epoch 99/100\n",
      "\u001b[1m316/323\u001b[0m \u001b[32m━━━━━━━━━━━━━━━━━━━\u001b[0m\u001b[37m━\u001b[0m \u001b[1m0s\u001b[0m 2ms/step - acc: 0.8000 - auc: 0.8123 - loss: 0.4680\n",
      "Epoch 99: val_loss did not improve from 0.56078\n",
      "\u001b[1m323/323\u001b[0m \u001b[32m━━━━━━━━━━━━━━━━━━━━\u001b[0m\u001b[37m\u001b[0m \u001b[1m1s\u001b[0m 2ms/step - acc: 0.7998 - auc: 0.8124 - loss: 0.4682 - val_acc: 0.7901 - val_auc: 0.0000e+00 - val_loss: 0.5805\n",
      "Epoch 100/100\n",
      "\u001b[1m314/323\u001b[0m \u001b[32m━━━━━━━━━━━━━━━━━━━\u001b[0m\u001b[37m━\u001b[0m \u001b[1m0s\u001b[0m 2ms/step - acc: 0.8038 - auc: 0.8304 - loss: 0.4573\n",
      "Epoch 100: val_loss did not improve from 0.56078\n",
      "\u001b[1m323/323\u001b[0m \u001b[32m━━━━━━━━━━━━━━━━━━━━\u001b[0m\u001b[37m\u001b[0m \u001b[1m1s\u001b[0m 2ms/step - acc: 0.8036 - auc: 0.8306 - loss: 0.4575 - val_acc: 0.7901 - val_auc: 0.0000e+00 - val_loss: 0.5799\n"
     ]
    },
    {
     "name": "stderr",
     "output_type": "stream",
     "text": [
      "WARNING:absl:Compiled the loaded model, but the compiled metrics have yet to be built. `model.compile_metrics` will be empty until you train or evaluate the model.\n",
      "WARNING:tensorflow:5 out of the last 25 calls to <function TensorFlowTrainer.make_predict_function.<locals>.one_step_on_data_distributed at 0x7cd0ec30b9c0> triggered tf.function retracing. Tracing is expensive and the excessive number of tracings could be due to (1) creating @tf.function repeatedly in a loop, (2) passing tensors with different shapes, (3) passing Python objects instead of tensors. For (1), please define your @tf.function outside of the loop. For (2), @tf.function has reduce_retracing=True option that can avoid unnecessary retracing. For (3), please refer to https://www.tensorflow.org/guide/function#controlling_retracing and https://www.tensorflow.org/api_docs/python/tf/function for  more details.\n"
     ]
    },
    {
     "name": "stdout",
     "output_type": "stream",
     "text": [
      "Fold 4 | VAL  | AUC=0.0000 | ACC=0.7901 | n=181\n",
      "Fold 4 | TEST | AUC=1.0000 | ACC=0.9804 | n=51\n",
      "\n",
      "--- Fold 5/10 ---\n",
      " train | ids:   36 | files:  996 | pos:  309 | neg:  687\n",
      "   val | ids:    4 | files:  145 | pos:   77 | neg:   68\n",
      "  test | ids:    4 | files:   59 | pos:   19 | neg:   40\n",
      "Epoch 1/100\n"
     ]
    },
    {
     "name": "stderr",
     "output_type": "stream",
     "text": [
      "/usr/local/lib/python3.12/dist-packages/keras/src/models/functional.py:241: UserWarning: The structure of `inputs` doesn't match the expected structure.\n",
      "Expected: tab_input\n",
      "Received: inputs=['Tensor(shape=(None, 4))']\n",
      "  warnings.warn(msg)\n"
     ]
    },
    {
     "name": "stdout",
     "output_type": "stream",
     "text": [
      "\u001b[1m320/332\u001b[0m \u001b[32m━━━━━━━━━━━━━━━━━━━\u001b[0m\u001b[37m━\u001b[0m \u001b[1m0s\u001b[0m 2ms/step - acc: 0.5999 - auc: 0.5794 - loss: 0.6756\n",
      "Epoch 1: val_loss improved from inf to 0.80908, saving model to best_tab_only_fold5.h5\n"
     ]
    },
    {
     "name": "stderr",
     "output_type": "stream",
     "text": [
      "WARNING:absl:You are saving your model as an HDF5 file via `model.save()` or `keras.saving.save_model(model)`. This file format is considered legacy. We recommend using instead the native Keras format, e.g. `model.save('my_model.keras')` or `keras.saving.save_model(model, 'my_model.keras')`. \n"
     ]
    },
    {
     "name": "stdout",
     "output_type": "stream",
     "text": [
      "\b\b\b\b\b\b\b\b\b\b\b\b\b\b\b\b\b\b\b\b\b\b\b\b\b\b\b\b\b\b\b\b\b\b\b\b\b\b\b\b\b\b\b\b\b\b\b\b\b\b\b\b\b\b\b\b\b\b\b\b\b\b\b\b\b\b\b\b\b\b\b\b\b\b\b\b\b\b\b\b\b\b\b\r",
      "\u001b[1m332/332\u001b[0m \u001b[32m━━━━━━━━━━━━━━━━━━━━\u001b[0m\u001b[37m\u001b[0m \u001b[1m4s\u001b[0m 6ms/step - acc: 0.5997 - auc: 0.5792 - loss: 0.6754 - val_acc: 0.4690 - val_auc: 0.4118 - val_loss: 0.8091\n",
      "Epoch 2/100\n",
      "\u001b[1m313/332\u001b[0m \u001b[32m━━━━━━━━━━━━━━━━━━\u001b[0m\u001b[37m━━\u001b[0m \u001b[1m0s\u001b[0m 2ms/step - acc: 0.6805 - auc: 0.6407 - loss: 0.6033\n",
      "Epoch 2: val_loss did not improve from 0.80908\n",
      "\u001b[1m332/332\u001b[0m \u001b[32m━━━━━━━━━━━━━━━━━━━━\u001b[0m\u001b[37m\u001b[0m \u001b[1m1s\u001b[0m 2ms/step - acc: 0.6796 - auc: 0.6392 - loss: 0.6054 - val_acc: 0.4690 - val_auc: 0.4118 - val_loss: 0.8099\n",
      "Epoch 3/100\n",
      "\u001b[1m332/332\u001b[0m \u001b[32m━━━━━━━━━━━━━━━━━━━━\u001b[0m\u001b[37m\u001b[0m \u001b[1m0s\u001b[0m 2ms/step - acc: 0.6871 - auc: 0.5615 - loss: 0.6692\n",
      "Epoch 3: val_loss did not improve from 0.80908\n",
      "\u001b[1m332/332\u001b[0m \u001b[32m━━━━━━━━━━━━━━━━━━━━\u001b[0m\u001b[37m\u001b[0m \u001b[1m1s\u001b[0m 2ms/step - acc: 0.6871 - auc: 0.5616 - loss: 0.6691 - val_acc: 0.4690 - val_auc: 0.4118 - val_loss: 0.8103\n",
      "Epoch 4/100\n",
      "\u001b[1m315/332\u001b[0m \u001b[32m━━━━━━━━━━━━━━━━━━\u001b[0m\u001b[37m━━\u001b[0m \u001b[1m0s\u001b[0m 2ms/step - acc: 0.6965 - auc: 0.6023 - loss: 0.6592\n",
      "Epoch 4: val_loss did not improve from 0.80908\n",
      "\u001b[1m332/332\u001b[0m \u001b[32m━━━━━━━━━━━━━━━━━━━━\u001b[0m\u001b[37m\u001b[0m \u001b[1m1s\u001b[0m 2ms/step - acc: 0.6972 - auc: 0.6030 - loss: 0.6580 - val_acc: 0.4690 - val_auc: 0.4118 - val_loss: 0.8130\n",
      "Epoch 5/100\n",
      "\u001b[1m317/332\u001b[0m \u001b[32m━━━━━━━━━━━━━━━━━━━\u001b[0m\u001b[37m━\u001b[0m \u001b[1m0s\u001b[0m 2ms/step - acc: 0.7260 - auc: 0.6287 - loss: 0.6259\n",
      "Epoch 5: val_loss did not improve from 0.80908\n",
      "\u001b[1m332/332\u001b[0m \u001b[32m━━━━━━━━━━━━━━━━━━━━\u001b[0m\u001b[37m\u001b[0m \u001b[1m1s\u001b[0m 2ms/step - acc: 0.7252 - auc: 0.6287 - loss: 0.6261 - val_acc: 0.4690 - val_auc: 0.4118 - val_loss: 0.8173\n",
      "Epoch 6/100\n",
      "\u001b[1m321/332\u001b[0m \u001b[32m━━━━━━━━━━━━━━━━━━━\u001b[0m\u001b[37m━\u001b[0m \u001b[1m0s\u001b[0m 2ms/step - acc: 0.7065 - auc: 0.6360 - loss: 0.6127\n",
      "Epoch 6: val_loss did not improve from 0.80908\n",
      "\u001b[1m332/332\u001b[0m \u001b[32m━━━━━━━━━━━━━━━━━━━━\u001b[0m\u001b[37m\u001b[0m \u001b[1m1s\u001b[0m 2ms/step - acc: 0.7063 - auc: 0.6354 - loss: 0.6135 - val_acc: 0.4690 - val_auc: 0.4118 - val_loss: 0.8186\n",
      "Epoch 7/100\n",
      "\u001b[1m318/332\u001b[0m \u001b[32m━━━━━━━━━━━━━━━━━━━\u001b[0m\u001b[37m━\u001b[0m \u001b[1m0s\u001b[0m 2ms/step - acc: 0.7153 - auc: 0.6216 - loss: 0.6237\n",
      "Epoch 7: val_loss did not improve from 0.80908\n",
      "\u001b[1m332/332\u001b[0m \u001b[32m━━━━━━━━━━━━━━━━━━━━\u001b[0m\u001b[37m\u001b[0m \u001b[1m1s\u001b[0m 2ms/step - acc: 0.7158 - auc: 0.6215 - loss: 0.6242 - val_acc: 0.4690 - val_auc: 0.4118 - val_loss: 0.8218\n",
      "Epoch 8/100\n",
      "\u001b[1m312/332\u001b[0m \u001b[32m━━━━━━━━━━━━━━━━━━\u001b[0m\u001b[37m━━\u001b[0m \u001b[1m0s\u001b[0m 2ms/step - acc: 0.7139 - auc: 0.6061 - loss: 0.6065\n",
      "Epoch 8: val_loss did not improve from 0.80908\n",
      "\u001b[1m332/332\u001b[0m \u001b[32m━━━━━━━━━━━━━━━━━━━━\u001b[0m\u001b[37m\u001b[0m \u001b[1m1s\u001b[0m 2ms/step - acc: 0.7146 - auc: 0.6070 - loss: 0.6077 - val_acc: 0.4690 - val_auc: 0.4118 - val_loss: 0.8247\n",
      "Epoch 9/100\n",
      "\u001b[1m319/332\u001b[0m \u001b[32m━━━━━━━━━━━━━━━━━━━\u001b[0m\u001b[37m━\u001b[0m \u001b[1m0s\u001b[0m 2ms/step - acc: 0.7337 - auc: 0.6277 - loss: 0.6305\n",
      "Epoch 9: val_loss did not improve from 0.80908\n",
      "\u001b[1m332/332\u001b[0m \u001b[32m━━━━━━━━━━━━━━━━━━━━\u001b[0m\u001b[37m\u001b[0m \u001b[1m1s\u001b[0m 2ms/step - acc: 0.7345 - auc: 0.6279 - loss: 0.6303 - val_acc: 0.4690 - val_auc: 0.4118 - val_loss: 0.8268\n",
      "Epoch 10/100\n",
      "\u001b[1m317/332\u001b[0m \u001b[32m━━━━━━━━━━━━━━━━━━━\u001b[0m\u001b[37m━\u001b[0m \u001b[1m0s\u001b[0m 2ms/step - acc: 0.7438 - auc: 0.6295 - loss: 0.6164\n",
      "Epoch 10: val_loss did not improve from 0.80908\n",
      "\u001b[1m332/332\u001b[0m \u001b[32m━━━━━━━━━━━━━━━━━━━━\u001b[0m\u001b[37m\u001b[0m \u001b[1m1s\u001b[0m 2ms/step - acc: 0.7441 - auc: 0.6308 - loss: 0.6157 - val_acc: 0.4690 - val_auc: 0.4118 - val_loss: 0.8318\n",
      "Epoch 11/100\n",
      "\u001b[1m325/332\u001b[0m \u001b[32m━━━━━━━━━━━━━━━━━━━\u001b[0m\u001b[37m━\u001b[0m \u001b[1m0s\u001b[0m 2ms/step - acc: 0.7977 - auc: 0.6801 - loss: 0.5847\n",
      "Epoch 11: val_loss did not improve from 0.80908\n",
      "\u001b[1m332/332\u001b[0m \u001b[32m━━━━━━━━━━━━━━━━━━━━\u001b[0m\u001b[37m\u001b[0m \u001b[1m1s\u001b[0m 2ms/step - acc: 0.7976 - auc: 0.6797 - loss: 0.5851 - val_acc: 0.4690 - val_auc: 0.4118 - val_loss: 0.8345\n",
      "Epoch 12/100\n",
      "\u001b[1m321/332\u001b[0m \u001b[32m━━━━━━━━━━━━━━━━━━━\u001b[0m\u001b[37m━\u001b[0m \u001b[1m0s\u001b[0m 2ms/step - acc: 0.7389 - auc: 0.6600 - loss: 0.6255\n",
      "Epoch 12: val_loss did not improve from 0.80908\n",
      "\u001b[1m332/332\u001b[0m \u001b[32m━━━━━━━━━━━━━━━━━━━━\u001b[0m\u001b[37m\u001b[0m \u001b[1m1s\u001b[0m 2ms/step - acc: 0.7395 - auc: 0.6600 - loss: 0.6246 - val_acc: 0.4690 - val_auc: 0.4118 - val_loss: 0.8392\n",
      "Epoch 13/100\n",
      "\u001b[1m320/332\u001b[0m \u001b[32m━━━━━━━━━━━━━━━━━━━\u001b[0m\u001b[37m━\u001b[0m \u001b[1m0s\u001b[0m 2ms/step - acc: 0.7915 - auc: 0.6705 - loss: 0.5784\n",
      "Epoch 13: val_loss did not improve from 0.80908\n",
      "\u001b[1m332/332\u001b[0m \u001b[32m━━━━━━━━━━━━━━━━━━━━\u001b[0m\u001b[37m\u001b[0m \u001b[1m1s\u001b[0m 2ms/step - acc: 0.7915 - auc: 0.6706 - loss: 0.5790 - val_acc: 0.4690 - val_auc: 0.4118 - val_loss: 0.8424\n",
      "Epoch 14/100\n",
      "\u001b[1m324/332\u001b[0m \u001b[32m━━━━━━━━━━━━━━━━━━━\u001b[0m\u001b[37m━\u001b[0m \u001b[1m0s\u001b[0m 2ms/step - acc: 0.8097 - auc: 0.7066 - loss: 0.5656\n",
      "Epoch 14: val_loss did not improve from 0.80908\n",
      "\u001b[1m332/332\u001b[0m \u001b[32m━━━━━━━━━━━━━━━━━━━━\u001b[0m\u001b[37m\u001b[0m \u001b[1m1s\u001b[0m 2ms/step - acc: 0.8093 - auc: 0.7055 - loss: 0.5665 - val_acc: 0.4690 - val_auc: 0.4118 - val_loss: 0.8447\n",
      "Epoch 15/100\n",
      "\u001b[1m321/332\u001b[0m \u001b[32m━━━━━━━━━━━━━━━━━━━\u001b[0m\u001b[37m━\u001b[0m \u001b[1m0s\u001b[0m 2ms/step - acc: 0.7959 - auc: 0.6609 - loss: 0.5922\n",
      "Epoch 15: val_loss did not improve from 0.80908\n",
      "\u001b[1m332/332\u001b[0m \u001b[32m━━━━━━━━━━━━━━━━━━━━\u001b[0m\u001b[37m\u001b[0m \u001b[1m1s\u001b[0m 2ms/step - acc: 0.7959 - auc: 0.6613 - loss: 0.5922 - val_acc: 0.4690 - val_auc: 0.4118 - val_loss: 0.8466\n",
      "Epoch 16/100\n",
      "\u001b[1m316/332\u001b[0m \u001b[32m━━━━━━━━━━━━━━━━━━━\u001b[0m\u001b[37m━\u001b[0m \u001b[1m0s\u001b[0m 2ms/step - acc: 0.7703 - auc: 0.6833 - loss: 0.5892\n",
      "Epoch 16: val_loss did not improve from 0.80908\n",
      "\u001b[1m332/332\u001b[0m \u001b[32m━━━━━━━━━━━━━━━━━━━━\u001b[0m\u001b[37m\u001b[0m \u001b[1m1s\u001b[0m 2ms/step - acc: 0.7716 - auc: 0.6826 - loss: 0.5895 - val_acc: 0.4690 - val_auc: 0.4118 - val_loss: 0.8503\n",
      "Epoch 17/100\n",
      "\u001b[1m318/332\u001b[0m \u001b[32m━━━━━━━━━━━━━━━━━━━\u001b[0m\u001b[37m━\u001b[0m \u001b[1m0s\u001b[0m 2ms/step - acc: 0.7931 - auc: 0.6827 - loss: 0.5841\n",
      "Epoch 17: val_loss did not improve from 0.80908\n",
      "\u001b[1m332/332\u001b[0m \u001b[32m━━━━━━━━━━━━━━━━━━━━\u001b[0m\u001b[37m\u001b[0m \u001b[1m1s\u001b[0m 2ms/step - acc: 0.7924 - auc: 0.6823 - loss: 0.5847 - val_acc: 0.4690 - val_auc: 0.4118 - val_loss: 0.8538\n",
      "Epoch 18/100\n",
      "\u001b[1m312/332\u001b[0m \u001b[32m━━━━━━━━━━━━━━━━━━\u001b[0m\u001b[37m━━\u001b[0m \u001b[1m0s\u001b[0m 2ms/step - acc: 0.8192 - auc: 0.7181 - loss: 0.5597\n",
      "Epoch 18: val_loss did not improve from 0.80908\n",
      "\u001b[1m332/332\u001b[0m \u001b[32m━━━━━━━━━━━━━━━━━━━━\u001b[0m\u001b[37m\u001b[0m \u001b[1m1s\u001b[0m 2ms/step - acc: 0.8182 - auc: 0.7164 - loss: 0.5612 - val_acc: 0.4690 - val_auc: 0.4118 - val_loss: 0.8585\n",
      "Epoch 19/100\n",
      "\u001b[1m318/332\u001b[0m \u001b[32m━━━━━━━━━━━━━━━━━━━\u001b[0m\u001b[37m━\u001b[0m \u001b[1m0s\u001b[0m 2ms/step - acc: 0.7927 - auc: 0.6348 - loss: 0.5949\n",
      "Epoch 19: val_loss did not improve from 0.80908\n",
      "\u001b[1m332/332\u001b[0m \u001b[32m━━━━━━━━━━━━━━━━━━━━\u001b[0m\u001b[37m\u001b[0m \u001b[1m1s\u001b[0m 2ms/step - acc: 0.7930 - auc: 0.6362 - loss: 0.5948 - val_acc: 0.4690 - val_auc: 0.4118 - val_loss: 0.8607\n",
      "Epoch 20/100\n",
      "\u001b[1m314/332\u001b[0m \u001b[32m━━━━━━━━━━━━━━━━━━\u001b[0m\u001b[37m━━\u001b[0m \u001b[1m0s\u001b[0m 2ms/step - acc: 0.7966 - auc: 0.6545 - loss: 0.6058\n",
      "Epoch 20: val_loss did not improve from 0.80908\n",
      "\u001b[1m332/332\u001b[0m \u001b[32m━━━━━━━━━━━━━━━━━━━━\u001b[0m\u001b[37m\u001b[0m \u001b[1m1s\u001b[0m 2ms/step - acc: 0.7972 - auc: 0.6555 - loss: 0.6046 - val_acc: 0.4690 - val_auc: 0.4118 - val_loss: 0.8638\n",
      "Epoch 21/100\n",
      "\u001b[1m315/332\u001b[0m \u001b[32m━━━━━━━━━━━━━━━━━━\u001b[0m\u001b[37m━━\u001b[0m \u001b[1m0s\u001b[0m 2ms/step - acc: 0.8232 - auc: 0.7255 - loss: 0.5360\n",
      "Epoch 21: val_loss did not improve from 0.80908\n",
      "\u001b[1m332/332\u001b[0m \u001b[32m━━━━━━━━━━━━━━━━━━━━\u001b[0m\u001b[37m\u001b[0m \u001b[1m1s\u001b[0m 2ms/step - acc: 0.8221 - auc: 0.7233 - loss: 0.5380 - val_acc: 0.4690 - val_auc: 0.4118 - val_loss: 0.8667\n",
      "Epoch 22/100\n",
      "\u001b[1m318/332\u001b[0m \u001b[32m━━━━━━━━━━━━━━━━━━━\u001b[0m\u001b[37m━\u001b[0m \u001b[1m0s\u001b[0m 2ms/step - acc: 0.7956 - auc: 0.6690 - loss: 0.5996\n",
      "Epoch 22: val_loss did not improve from 0.80908\n",
      "\u001b[1m332/332\u001b[0m \u001b[32m━━━━━━━━━━━━━━━━━━━━\u001b[0m\u001b[37m\u001b[0m \u001b[1m1s\u001b[0m 2ms/step - acc: 0.7962 - auc: 0.6705 - loss: 0.5981 - val_acc: 0.4690 - val_auc: 0.4118 - val_loss: 0.8696\n",
      "Epoch 23/100\n",
      "\u001b[1m321/332\u001b[0m \u001b[32m━━━━━━━━━━━━━━━━━━━\u001b[0m\u001b[37m━\u001b[0m \u001b[1m0s\u001b[0m 2ms/step - acc: 0.8017 - auc: 0.6640 - loss: 0.6086\n",
      "Epoch 23: val_loss did not improve from 0.80908\n",
      "\u001b[1m332/332\u001b[0m \u001b[32m━━━━━━━━━━━━━━━━━━━━\u001b[0m\u001b[37m\u001b[0m \u001b[1m1s\u001b[0m 2ms/step - acc: 0.8017 - auc: 0.6641 - loss: 0.6079 - val_acc: 0.4690 - val_auc: 0.4118 - val_loss: 0.8721\n",
      "Epoch 24/100\n",
      "\u001b[1m318/332\u001b[0m \u001b[32m━━━━━━━━━━━━━━━━━━━\u001b[0m\u001b[37m━\u001b[0m \u001b[1m0s\u001b[0m 2ms/step - acc: 0.8061 - auc: 0.6855 - loss: 0.5593\n",
      "Epoch 24: val_loss did not improve from 0.80908\n",
      "\u001b[1m332/332\u001b[0m \u001b[32m━━━━━━━━━━━━━━━━━━━━\u001b[0m\u001b[37m\u001b[0m \u001b[1m1s\u001b[0m 2ms/step - acc: 0.8060 - auc: 0.6860 - loss: 0.5595 - val_acc: 0.4690 - val_auc: 0.4118 - val_loss: 0.8758\n",
      "Epoch 25/100\n",
      "\u001b[1m320/332\u001b[0m \u001b[32m━━━━━━━━━━━━━━━━━━━\u001b[0m\u001b[37m━\u001b[0m \u001b[1m0s\u001b[0m 2ms/step - acc: 0.8142 - auc: 0.6933 - loss: 0.5688\n",
      "Epoch 25: val_loss did not improve from 0.80908\n",
      "\u001b[1m332/332\u001b[0m \u001b[32m━━━━━━━━━━━━━━━━━━━━\u001b[0m\u001b[37m\u001b[0m \u001b[1m1s\u001b[0m 2ms/step - acc: 0.8139 - auc: 0.6927 - loss: 0.5691 - val_acc: 0.4690 - val_auc: 0.4118 - val_loss: 0.8777\n",
      "Epoch 26/100\n",
      "\u001b[1m320/332\u001b[0m \u001b[32m━━━━━━━━━━━━━━━━━━━\u001b[0m\u001b[37m━\u001b[0m \u001b[1m0s\u001b[0m 2ms/step - acc: 0.8021 - auc: 0.7030 - loss: 0.5606\n",
      "Epoch 26: val_loss did not improve from 0.80908\n",
      "\u001b[1m332/332\u001b[0m \u001b[32m━━━━━━━━━━━━━━━━━━━━\u001b[0m\u001b[37m\u001b[0m \u001b[1m1s\u001b[0m 2ms/step - acc: 0.8021 - auc: 0.7027 - loss: 0.5608 - val_acc: 0.4690 - val_auc: 0.4118 - val_loss: 0.8809\n",
      "Epoch 27/100\n",
      "\u001b[1m317/332\u001b[0m \u001b[32m━━━━━━━━━━━━━━━━━━━\u001b[0m\u001b[37m━\u001b[0m \u001b[1m0s\u001b[0m 2ms/step - acc: 0.8349 - auc: 0.7718 - loss: 0.5204\n",
      "Epoch 27: val_loss did not improve from 0.80908\n",
      "\u001b[1m332/332\u001b[0m \u001b[32m━━━━━━━━━━━━━━━━━━━━\u001b[0m\u001b[37m\u001b[0m \u001b[1m1s\u001b[0m 2ms/step - acc: 0.8337 - auc: 0.7684 - loss: 0.5223 - val_acc: 0.4690 - val_auc: 0.4118 - val_loss: 0.8857\n",
      "Epoch 28/100\n",
      "\u001b[1m321/332\u001b[0m \u001b[32m━━━━━━━━━━━━━━━━━━━\u001b[0m\u001b[37m━\u001b[0m \u001b[1m0s\u001b[0m 2ms/step - acc: 0.8079 - auc: 0.7119 - loss: 0.5604\n",
      "Epoch 28: val_loss did not improve from 0.80908\n",
      "\u001b[1m332/332\u001b[0m \u001b[32m━━━━━━━━━━━━━━━━━━━━\u001b[0m\u001b[37m\u001b[0m \u001b[1m1s\u001b[0m 2ms/step - acc: 0.8085 - auc: 0.7121 - loss: 0.5599 - val_acc: 0.4690 - val_auc: 0.4118 - val_loss: 0.8895\n",
      "Epoch 29/100\n",
      "\u001b[1m321/332\u001b[0m \u001b[32m━━━━━━━━━━━━━━━━━━━\u001b[0m\u001b[37m━\u001b[0m \u001b[1m0s\u001b[0m 2ms/step - acc: 0.8168 - auc: 0.6188 - loss: 0.5764\n",
      "Epoch 29: val_loss did not improve from 0.80908\n",
      "\u001b[1m332/332\u001b[0m \u001b[32m━━━━━━━━━━━━━━━━━━━━\u001b[0m\u001b[37m\u001b[0m \u001b[1m1s\u001b[0m 2ms/step - acc: 0.8170 - auc: 0.6210 - loss: 0.5758 - val_acc: 0.4690 - val_auc: 0.4118 - val_loss: 0.8908\n",
      "Epoch 30/100\n",
      "\u001b[1m321/332\u001b[0m \u001b[32m━━━━━━━━━━━━━━━━━━━\u001b[0m\u001b[37m━\u001b[0m \u001b[1m0s\u001b[0m 2ms/step - acc: 0.8196 - auc: 0.6996 - loss: 0.5650\n",
      "Epoch 30: val_loss did not improve from 0.80908\n",
      "\u001b[1m332/332\u001b[0m \u001b[32m━━━━━━━━━━━━━━━━━━━━\u001b[0m\u001b[37m\u001b[0m \u001b[1m1s\u001b[0m 2ms/step - acc: 0.8195 - auc: 0.6996 - loss: 0.5645 - val_acc: 0.4690 - val_auc: 0.4118 - val_loss: 0.8937\n",
      "Epoch 31/100\n",
      "\u001b[1m321/332\u001b[0m \u001b[32m━━━━━━━━━━━━━━━━━━━\u001b[0m\u001b[37m━\u001b[0m \u001b[1m0s\u001b[0m 2ms/step - acc: 0.8098 - auc: 0.6916 - loss: 0.5477\n",
      "Epoch 31: val_loss did not improve from 0.80908\n",
      "\u001b[1m332/332\u001b[0m \u001b[32m━━━━━━━━━━━━━━━━━━━━\u001b[0m\u001b[37m\u001b[0m \u001b[1m1s\u001b[0m 2ms/step - acc: 0.8105 - auc: 0.6922 - loss: 0.5474 - val_acc: 0.4690 - val_auc: 0.4118 - val_loss: 0.8997\n",
      "Epoch 32/100\n",
      "\u001b[1m314/332\u001b[0m \u001b[32m━━━━━━━━━━━━━━━━━━\u001b[0m\u001b[37m━━\u001b[0m \u001b[1m0s\u001b[0m 2ms/step - acc: 0.8152 - auc: 0.7108 - loss: 0.5555\n",
      "Epoch 32: val_loss did not improve from 0.80908\n",
      "\u001b[1m332/332\u001b[0m \u001b[32m━━━━━━━━━━━━━━━━━━━━\u001b[0m\u001b[37m\u001b[0m \u001b[1m1s\u001b[0m 2ms/step - acc: 0.8154 - auc: 0.7097 - loss: 0.5550 - val_acc: 0.4690 - val_auc: 0.4118 - val_loss: 0.9025\n",
      "Epoch 33/100\n",
      "\u001b[1m309/332\u001b[0m \u001b[32m━━━━━━━━━━━━━━━━━━\u001b[0m\u001b[37m━━\u001b[0m \u001b[1m0s\u001b[0m 2ms/step - acc: 0.8200 - auc: 0.7037 - loss: 0.5482\n",
      "Epoch 33: val_loss did not improve from 0.80908\n",
      "\u001b[1m332/332\u001b[0m \u001b[32m━━━━━━━━━━━━━━━━━━━━\u001b[0m\u001b[37m\u001b[0m \u001b[1m1s\u001b[0m 2ms/step - acc: 0.8200 - auc: 0.7021 - loss: 0.5486 - val_acc: 0.4690 - val_auc: 0.4118 - val_loss: 0.9035\n",
      "Epoch 34/100\n",
      "\u001b[1m310/332\u001b[0m \u001b[32m━━━━━━━━━━━━━━━━━━\u001b[0m\u001b[37m━━\u001b[0m \u001b[1m0s\u001b[0m 2ms/step - acc: 0.8293 - auc: 0.6399 - loss: 0.5626\n",
      "Epoch 34: val_loss did not improve from 0.80908\n",
      "\u001b[1m332/332\u001b[0m \u001b[32m━━━━━━━━━━━━━━━━━━━━\u001b[0m\u001b[37m\u001b[0m \u001b[1m1s\u001b[0m 2ms/step - acc: 0.8302 - auc: 0.6440 - loss: 0.5608 - val_acc: 0.4690 - val_auc: 0.2059 - val_loss: 0.9086\n",
      "Epoch 35/100\n",
      "\u001b[1m321/332\u001b[0m \u001b[32m━━━━━━━━━━━━━━━━━━━\u001b[0m\u001b[37m━\u001b[0m \u001b[1m0s\u001b[0m 2ms/step - acc: 0.8400 - auc: 0.7259 - loss: 0.5104\n",
      "Epoch 35: val_loss did not improve from 0.80908\n",
      "\u001b[1m332/332\u001b[0m \u001b[32m━━━━━━━━━━━━━━━━━━━━\u001b[0m\u001b[37m\u001b[0m \u001b[1m1s\u001b[0m 2ms/step - acc: 0.8396 - auc: 0.7254 - loss: 0.5111 - val_acc: 0.4690 - val_auc: 0.2059 - val_loss: 0.9118\n",
      "Epoch 36/100\n",
      "\u001b[1m315/332\u001b[0m \u001b[32m━━━━━━━━━━━━━━━━━━\u001b[0m\u001b[37m━━\u001b[0m \u001b[1m0s\u001b[0m 2ms/step - acc: 0.8301 - auc: 0.6914 - loss: 0.5373\n",
      "Epoch 36: val_loss did not improve from 0.80908\n",
      "\u001b[1m332/332\u001b[0m \u001b[32m━━━━━━━━━━━━━━━━━━━━\u001b[0m\u001b[37m\u001b[0m \u001b[1m1s\u001b[0m 2ms/step - acc: 0.8305 - auc: 0.6915 - loss: 0.5370 - val_acc: 0.4690 - val_auc: 0.2059 - val_loss: 0.9142\n",
      "Epoch 37/100\n",
      "\u001b[1m310/332\u001b[0m \u001b[32m━━━━━━━━━━━━━━━━━━\u001b[0m\u001b[37m━━\u001b[0m \u001b[1m0s\u001b[0m 2ms/step - acc: 0.8289 - auc: 0.6531 - loss: 0.5543\n",
      "Epoch 37: val_loss did not improve from 0.80908\n",
      "\u001b[1m332/332\u001b[0m \u001b[32m━━━━━━━━━━━━━━━━━━━━\u001b[0m\u001b[37m\u001b[0m \u001b[1m1s\u001b[0m 2ms/step - acc: 0.8294 - auc: 0.6559 - loss: 0.5527 - val_acc: 0.4690 - val_auc: 0.0000e+00 - val_loss: 0.9173\n",
      "Epoch 38/100\n",
      "\u001b[1m320/332\u001b[0m \u001b[32m━━━━━━━━━━━━━━━━━━━\u001b[0m\u001b[37m━\u001b[0m \u001b[1m0s\u001b[0m 2ms/step - acc: 0.8243 - auc: 0.7229 - loss: 0.5279\n",
      "Epoch 38: val_loss did not improve from 0.80908\n",
      "\u001b[1m332/332\u001b[0m \u001b[32m━━━━━━━━━━━━━━━━━━━━\u001b[0m\u001b[37m\u001b[0m \u001b[1m1s\u001b[0m 2ms/step - acc: 0.8247 - auc: 0.7218 - loss: 0.5278 - val_acc: 0.4690 - val_auc: 0.0000e+00 - val_loss: 0.9188\n",
      "Epoch 39/100\n",
      "\u001b[1m320/332\u001b[0m \u001b[32m━━━━━━━━━━━━━━━━━━━\u001b[0m\u001b[37m━\u001b[0m \u001b[1m0s\u001b[0m 2ms/step - acc: 0.8623 - auc: 0.7353 - loss: 0.4895\n",
      "Epoch 39: val_loss did not improve from 0.80908\n",
      "\u001b[1m332/332\u001b[0m \u001b[32m━━━━━━━━━━━━━━━━━━━━\u001b[0m\u001b[37m\u001b[0m \u001b[1m1s\u001b[0m 2ms/step - acc: 0.8619 - auc: 0.7348 - loss: 0.4899 - val_acc: 0.4690 - val_auc: 0.0000e+00 - val_loss: 0.9228\n",
      "Epoch 40/100\n",
      "\u001b[1m307/332\u001b[0m \u001b[32m━━━━━━━━━━━━━━━━━━\u001b[0m\u001b[37m━━\u001b[0m \u001b[1m0s\u001b[0m 2ms/step - acc: 0.8142 - auc: 0.6999 - loss: 0.5366\n",
      "Epoch 40: val_loss did not improve from 0.80908\n",
      "\u001b[1m332/332\u001b[0m \u001b[32m━━━━━━━━━━━━━━━━━━━━\u001b[0m\u001b[37m\u001b[0m \u001b[1m1s\u001b[0m 2ms/step - acc: 0.8154 - auc: 0.7005 - loss: 0.5354 - val_acc: 0.4690 - val_auc: 0.0000e+00 - val_loss: 0.9255\n",
      "Epoch 41/100\n",
      "\u001b[1m314/332\u001b[0m \u001b[32m━━━━━━━━━━━━━━━━━━\u001b[0m\u001b[37m━━\u001b[0m \u001b[1m0s\u001b[0m 2ms/step - acc: 0.8185 - auc: 0.7025 - loss: 0.5261\n",
      "Epoch 41: val_loss did not improve from 0.80908\n",
      "\u001b[1m332/332\u001b[0m \u001b[32m━━━━━━━━━━━━━━━━━━━━\u001b[0m\u001b[37m\u001b[0m \u001b[1m1s\u001b[0m 2ms/step - acc: 0.8191 - auc: 0.7027 - loss: 0.5253 - val_acc: 0.4690 - val_auc: 0.0000e+00 - val_loss: 0.9286\n",
      "Epoch 42/100\n",
      "\u001b[1m328/332\u001b[0m \u001b[32m━━━━━━━━━━━━━━━━━━━\u001b[0m\u001b[37m━\u001b[0m \u001b[1m0s\u001b[0m 2ms/step - acc: 0.8400 - auc: 0.7168 - loss: 0.5147\n",
      "Epoch 42: val_loss did not improve from 0.80908\n",
      "\u001b[1m332/332\u001b[0m \u001b[32m━━━━━━━━━━━━━━━━━━━━\u001b[0m\u001b[37m\u001b[0m \u001b[1m1s\u001b[0m 2ms/step - acc: 0.8399 - auc: 0.7166 - loss: 0.5147 - val_acc: 0.4690 - val_auc: 0.0000e+00 - val_loss: 0.9323\n",
      "Epoch 43/100\n",
      "\u001b[1m324/332\u001b[0m \u001b[32m━━━━━━━━━━━━━━━━━━━\u001b[0m\u001b[37m━\u001b[0m \u001b[1m0s\u001b[0m 2ms/step - acc: 0.8013 - auc: 0.6841 - loss: 0.5342\n",
      "Epoch 43: val_loss did not improve from 0.80908\n",
      "\u001b[1m332/332\u001b[0m \u001b[32m━━━━━━━━━━━━━━━━━━━━\u001b[0m\u001b[37m\u001b[0m \u001b[1m1s\u001b[0m 2ms/step - acc: 0.8020 - auc: 0.6846 - loss: 0.5336 - val_acc: 0.4690 - val_auc: 0.0000e+00 - val_loss: 0.9362\n",
      "Epoch 44/100\n",
      "\u001b[1m324/332\u001b[0m \u001b[32m━━━━━━━━━━━━━━━━━━━\u001b[0m\u001b[37m━\u001b[0m \u001b[1m0s\u001b[0m 2ms/step - acc: 0.8210 - auc: 0.7271 - loss: 0.5141\n",
      "Epoch 44: val_loss did not improve from 0.80908\n",
      "\u001b[1m332/332\u001b[0m \u001b[32m━━━━━━━━━━━━━━━━━━━━\u001b[0m\u001b[37m\u001b[0m \u001b[1m1s\u001b[0m 2ms/step - acc: 0.8215 - auc: 0.7269 - loss: 0.5136 - val_acc: 0.4690 - val_auc: 0.0000e+00 - val_loss: 0.9392\n",
      "Epoch 45/100\n",
      "\u001b[1m317/332\u001b[0m \u001b[32m━━━━━━━━━━━━━━━━━━━\u001b[0m\u001b[37m━\u001b[0m \u001b[1m0s\u001b[0m 2ms/step - acc: 0.8373 - auc: 0.7315 - loss: 0.4949\n",
      "Epoch 45: val_loss did not improve from 0.80908\n",
      "\u001b[1m332/332\u001b[0m \u001b[32m━━━━━━━━━━━━━━━━━━━━\u001b[0m\u001b[37m\u001b[0m \u001b[1m1s\u001b[0m 2ms/step - acc: 0.8371 - auc: 0.7313 - loss: 0.4951 - val_acc: 0.4690 - val_auc: 0.0000e+00 - val_loss: 0.9432\n",
      "Epoch 46/100\n",
      "\u001b[1m313/332\u001b[0m \u001b[32m━━━━━━━━━━━━━━━━━━\u001b[0m\u001b[37m━━\u001b[0m \u001b[1m0s\u001b[0m 2ms/step - acc: 0.8371 - auc: 0.7200 - loss: 0.4905\n",
      "Epoch 46: val_loss did not improve from 0.80908\n",
      "\u001b[1m332/332\u001b[0m \u001b[32m━━━━━━━━━━━━━━━━━━━━\u001b[0m\u001b[37m\u001b[0m \u001b[1m1s\u001b[0m 2ms/step - acc: 0.8379 - auc: 0.7196 - loss: 0.4906 - val_acc: 0.4690 - val_auc: 0.0000e+00 - val_loss: 0.9474\n",
      "Epoch 47/100\n",
      "\u001b[1m310/332\u001b[0m \u001b[32m━━━━━━━━━━━━━━━━━━\u001b[0m\u001b[37m━━\u001b[0m \u001b[1m0s\u001b[0m 2ms/step - acc: 0.8383 - auc: 0.7206 - loss: 0.4814\n",
      "Epoch 47: val_loss did not improve from 0.80908\n",
      "\u001b[1m332/332\u001b[0m \u001b[32m━━━━━━━━━━━━━━━━━━━━\u001b[0m\u001b[37m\u001b[0m \u001b[1m1s\u001b[0m 2ms/step - acc: 0.8382 - auc: 0.7196 - loss: 0.4820 - val_acc: 0.4690 - val_auc: 0.0000e+00 - val_loss: 0.9513\n",
      "Epoch 48/100\n",
      "\u001b[1m324/332\u001b[0m \u001b[32m━━━━━━━━━━━━━━━━━━━\u001b[0m\u001b[37m━\u001b[0m \u001b[1m0s\u001b[0m 2ms/step - acc: 0.8266 - auc: 0.7179 - loss: 0.4966\n",
      "Epoch 48: val_loss did not improve from 0.80908\n",
      "\u001b[1m332/332\u001b[0m \u001b[32m━━━━━━━━━━━━━━━━━━━━\u001b[0m\u001b[37m\u001b[0m \u001b[1m1s\u001b[0m 3ms/step - acc: 0.8271 - auc: 0.7183 - loss: 0.4961 - val_acc: 0.4690 - val_auc: 0.0000e+00 - val_loss: 0.9566\n",
      "Epoch 49/100\n",
      "\u001b[1m315/332\u001b[0m \u001b[32m━━━━━━━━━━━━━━━━━━\u001b[0m\u001b[37m━━\u001b[0m \u001b[1m0s\u001b[0m 2ms/step - acc: 0.8137 - auc: 0.7171 - loss: 0.4924\n",
      "Epoch 49: val_loss did not improve from 0.80908\n",
      "\u001b[1m332/332\u001b[0m \u001b[32m━━━━━━━━━━━━━━━━━━━━\u001b[0m\u001b[37m\u001b[0m \u001b[1m1s\u001b[0m 2ms/step - acc: 0.8149 - auc: 0.7177 - loss: 0.4918 - val_acc: 0.4690 - val_auc: 0.0000e+00 - val_loss: 0.9606\n",
      "Epoch 50/100\n",
      "\u001b[1m319/332\u001b[0m \u001b[32m━━━━━━━━━━━━━━━━━━━\u001b[0m\u001b[37m━\u001b[0m \u001b[1m0s\u001b[0m 2ms/step - acc: 0.8558 - auc: 0.7285 - loss: 0.4756\n",
      "Epoch 50: val_loss did not improve from 0.80908\n",
      "\u001b[1m332/332\u001b[0m \u001b[32m━━━━━━━━━━━━━━━━━━━━\u001b[0m\u001b[37m\u001b[0m \u001b[1m1s\u001b[0m 2ms/step - acc: 0.8557 - auc: 0.7285 - loss: 0.4757 - val_acc: 0.4690 - val_auc: 0.0000e+00 - val_loss: 0.9647\n",
      "Epoch 51/100\n",
      "\u001b[1m324/332\u001b[0m \u001b[32m━━━━━━━━━━━━━━━━━━━\u001b[0m\u001b[37m━\u001b[0m \u001b[1m0s\u001b[0m 2ms/step - acc: 0.8645 - auc: 0.7238 - loss: 0.4678\n",
      "Epoch 51: val_loss did not improve from 0.80908\n",
      "\u001b[1m332/332\u001b[0m \u001b[32m━━━━━━━━━━━━━━━━━━━━\u001b[0m\u001b[37m\u001b[0m \u001b[1m1s\u001b[0m 2ms/step - acc: 0.8641 - auc: 0.7232 - loss: 0.4683 - val_acc: 0.4690 - val_auc: 0.0000e+00 - val_loss: 0.9650\n",
      "Epoch 52/100\n",
      "\u001b[1m321/332\u001b[0m \u001b[32m━━━━━━━━━━━━━━━━━━━\u001b[0m\u001b[37m━\u001b[0m \u001b[1m0s\u001b[0m 2ms/step - acc: 0.8467 - auc: 0.7202 - loss: 0.4837\n",
      "Epoch 52: val_loss did not improve from 0.80908\n",
      "\u001b[1m332/332\u001b[0m \u001b[32m━━━━━━━━━━━━━━━━━━━━\u001b[0m\u001b[37m\u001b[0m \u001b[1m1s\u001b[0m 2ms/step - acc: 0.8468 - auc: 0.7201 - loss: 0.4836 - val_acc: 0.4690 - val_auc: 0.0000e+00 - val_loss: 0.9671\n",
      "Epoch 53/100\n",
      "\u001b[1m324/332\u001b[0m \u001b[32m━━━━━━━━━━━━━━━━━━━\u001b[0m\u001b[37m━\u001b[0m \u001b[1m0s\u001b[0m 2ms/step - acc: 0.8577 - auc: 0.7398 - loss: 0.4687\n",
      "Epoch 53: val_loss did not improve from 0.80908\n",
      "\u001b[1m332/332\u001b[0m \u001b[32m━━━━━━━━━━━━━━━━━━━━\u001b[0m\u001b[37m\u001b[0m \u001b[1m1s\u001b[0m 2ms/step - acc: 0.8576 - auc: 0.7398 - loss: 0.4688 - val_acc: 0.4690 - val_auc: 0.0000e+00 - val_loss: 0.9730\n",
      "Epoch 54/100\n",
      "\u001b[1m321/332\u001b[0m \u001b[32m━━━━━━━━━━━━━━━━━━━\u001b[0m\u001b[37m━\u001b[0m \u001b[1m0s\u001b[0m 2ms/step - acc: 0.8837 - auc: 0.7822 - loss: 0.4265\n",
      "Epoch 54: val_loss did not improve from 0.80908\n",
      "\u001b[1m332/332\u001b[0m \u001b[32m━━━━━━━━━━━━━━━━━━━━\u001b[0m\u001b[37m\u001b[0m \u001b[1m1s\u001b[0m 2ms/step - acc: 0.8825 - auc: 0.7809 - loss: 0.4278 - val_acc: 0.4690 - val_auc: 0.0000e+00 - val_loss: 0.9795\n",
      "Epoch 55/100\n",
      "\u001b[1m322/332\u001b[0m \u001b[32m━━━━━━━━━━━━━━━━━━━\u001b[0m\u001b[37m━\u001b[0m \u001b[1m0s\u001b[0m 2ms/step - acc: 0.8540 - auc: 0.7295 - loss: 0.4615\n",
      "Epoch 55: val_loss did not improve from 0.80908\n",
      "\u001b[1m332/332\u001b[0m \u001b[32m━━━━━━━━━━━━━━━━━━━━\u001b[0m\u001b[37m\u001b[0m \u001b[1m1s\u001b[0m 2ms/step - acc: 0.8539 - auc: 0.7296 - loss: 0.4616 - val_acc: 0.4690 - val_auc: 0.0000e+00 - val_loss: 0.9828\n",
      "Epoch 56/100\n",
      "\u001b[1m322/332\u001b[0m \u001b[32m━━━━━━━━━━━━━━━━━━━\u001b[0m\u001b[37m━\u001b[0m \u001b[1m0s\u001b[0m 2ms/step - acc: 0.8597 - auc: 0.7296 - loss: 0.4730\n",
      "Epoch 56: val_loss did not improve from 0.80908\n",
      "\u001b[1m332/332\u001b[0m \u001b[32m━━━━━━━━━━━━━━━━━━━━\u001b[0m\u001b[37m\u001b[0m \u001b[1m1s\u001b[0m 2ms/step - acc: 0.8593 - auc: 0.7294 - loss: 0.4731 - val_acc: 0.4690 - val_auc: 0.0000e+00 - val_loss: 0.9842\n",
      "Epoch 57/100\n",
      "\u001b[1m325/332\u001b[0m \u001b[32m━━━━━━━━━━━━━━━━━━━\u001b[0m\u001b[37m━\u001b[0m \u001b[1m0s\u001b[0m 2ms/step - acc: 0.8683 - auc: 0.7678 - loss: 0.4430\n",
      "Epoch 57: val_loss did not improve from 0.80908\n",
      "\u001b[1m332/332\u001b[0m \u001b[32m━━━━━━━━━━━━━━━━━━━━\u001b[0m\u001b[37m\u001b[0m \u001b[1m1s\u001b[0m 2ms/step - acc: 0.8679 - auc: 0.7670 - loss: 0.4435 - val_acc: 0.4690 - val_auc: 0.0000e+00 - val_loss: 0.9899\n",
      "Epoch 58/100\n",
      "\u001b[1m324/332\u001b[0m \u001b[32m━━━━━━━━━━━━━━━━━━━\u001b[0m\u001b[37m━\u001b[0m \u001b[1m0s\u001b[0m 2ms/step - acc: 0.8523 - auc: 0.7547 - loss: 0.4606\n",
      "Epoch 58: val_loss did not improve from 0.80908\n",
      "\u001b[1m332/332\u001b[0m \u001b[32m━━━━━━━━━━━━━━━━━━━━\u001b[0m\u001b[37m\u001b[0m \u001b[1m1s\u001b[0m 2ms/step - acc: 0.8523 - auc: 0.7546 - loss: 0.4605 - val_acc: 0.4690 - val_auc: 0.0000e+00 - val_loss: 0.9945\n",
      "Epoch 59/100\n",
      "\u001b[1m325/332\u001b[0m \u001b[32m━━━━━━━━━━━━━━━━━━━\u001b[0m\u001b[37m━\u001b[0m \u001b[1m0s\u001b[0m 2ms/step - acc: 0.8336 - auc: 0.7356 - loss: 0.4719\n",
      "Epoch 59: val_loss did not improve from 0.80908\n",
      "\u001b[1m332/332\u001b[0m \u001b[32m━━━━━━━━━━━━━━━━━━━━\u001b[0m\u001b[37m\u001b[0m \u001b[1m1s\u001b[0m 2ms/step - acc: 0.8339 - auc: 0.7361 - loss: 0.4715 - val_acc: 0.4690 - val_auc: 0.0000e+00 - val_loss: 0.9986\n",
      "Epoch 60/100\n",
      "\u001b[1m319/332\u001b[0m \u001b[32m━━━━━━━━━━━━━━━━━━━\u001b[0m\u001b[37m━\u001b[0m \u001b[1m0s\u001b[0m 2ms/step - acc: 0.8602 - auc: 0.7957 - loss: 0.4327\n",
      "Epoch 60: val_loss did not improve from 0.80908\n",
      "\u001b[1m332/332\u001b[0m \u001b[32m━━━━━━━━━━━━━━━━━━━━\u001b[0m\u001b[37m\u001b[0m \u001b[1m1s\u001b[0m 2ms/step - acc: 0.8598 - auc: 0.7940 - loss: 0.4335 - val_acc: 0.4690 - val_auc: 0.0000e+00 - val_loss: 1.0016\n",
      "Epoch 61/100\n",
      "\u001b[1m321/332\u001b[0m \u001b[32m━━━━━━━━━━━━━━━━━━━\u001b[0m\u001b[37m━\u001b[0m \u001b[1m0s\u001b[0m 2ms/step - acc: 0.8776 - auc: 0.8009 - loss: 0.4128\n",
      "Epoch 61: val_loss did not improve from 0.80908\n",
      "\u001b[1m332/332\u001b[0m \u001b[32m━━━━━━━━━━━━━━━━━━━━\u001b[0m\u001b[37m\u001b[0m \u001b[1m1s\u001b[0m 2ms/step - acc: 0.8767 - auc: 0.7994 - loss: 0.4140 - val_acc: 0.4690 - val_auc: 0.0000e+00 - val_loss: 1.0081\n",
      "Epoch 62/100\n",
      "\u001b[1m317/332\u001b[0m \u001b[32m━━━━━━━━━━━━━━━━━━━\u001b[0m\u001b[37m━\u001b[0m \u001b[1m0s\u001b[0m 2ms/step - acc: 0.8436 - auc: 0.7265 - loss: 0.4693\n",
      "Epoch 62: val_loss did not improve from 0.80908\n",
      "\u001b[1m332/332\u001b[0m \u001b[32m━━━━━━━━━━━━━━━━━━━━\u001b[0m\u001b[37m\u001b[0m \u001b[1m1s\u001b[0m 2ms/step - acc: 0.8440 - auc: 0.7278 - loss: 0.4685 - val_acc: 0.4690 - val_auc: 0.0000e+00 - val_loss: 1.0100\n",
      "Epoch 63/100\n",
      "\u001b[1m307/332\u001b[0m \u001b[32m━━━━━━━━━━━━━━━━━━\u001b[0m\u001b[37m━━\u001b[0m \u001b[1m0s\u001b[0m 2ms/step - acc: 0.8833 - auc: 0.7996 - loss: 0.4138\n",
      "Epoch 63: val_loss did not improve from 0.80908\n",
      "\u001b[1m332/332\u001b[0m \u001b[32m━━━━━━━━━━━━━━━━━━━━\u001b[0m\u001b[37m\u001b[0m \u001b[1m1s\u001b[0m 2ms/step - acc: 0.8815 - auc: 0.7969 - loss: 0.4158 - val_acc: 0.4690 - val_auc: 0.0000e+00 - val_loss: 1.0162\n",
      "Epoch 64/100\n",
      "\u001b[1m314/332\u001b[0m \u001b[32m━━━━━━━━━━━━━━━━━━\u001b[0m\u001b[37m━━\u001b[0m \u001b[1m0s\u001b[0m 2ms/step - acc: 0.8653 - auc: 0.7706 - loss: 0.4316\n",
      "Epoch 64: val_loss did not improve from 0.80908\n",
      "\u001b[1m332/332\u001b[0m \u001b[32m━━━━━━━━━━━━━━━━━━━━\u001b[0m\u001b[37m\u001b[0m \u001b[1m1s\u001b[0m 2ms/step - acc: 0.8651 - auc: 0.7699 - loss: 0.4319 - val_acc: 0.4690 - val_auc: 0.0000e+00 - val_loss: 1.0187\n",
      "Epoch 65/100\n",
      "\u001b[1m320/332\u001b[0m \u001b[32m━━━━━━━━━━━━━━━━━━━\u001b[0m\u001b[37m━\u001b[0m \u001b[1m0s\u001b[0m 2ms/step - acc: 0.8571 - auc: 0.7700 - loss: 0.4313\n",
      "Epoch 65: val_loss did not improve from 0.80908\n",
      "\u001b[1m332/332\u001b[0m \u001b[32m━━━━━━━━━━━━━━━━━━━━\u001b[0m\u001b[37m\u001b[0m \u001b[1m1s\u001b[0m 2ms/step - acc: 0.8568 - auc: 0.7696 - loss: 0.4318 - val_acc: 0.4690 - val_auc: 0.0000e+00 - val_loss: 1.0224\n",
      "Epoch 66/100\n",
      "\u001b[1m318/332\u001b[0m \u001b[32m━━━━━━━━━━━━━━━━━━━\u001b[0m\u001b[37m━\u001b[0m \u001b[1m0s\u001b[0m 2ms/step - acc: 0.8499 - auc: 0.7500 - loss: 0.4417\n",
      "Epoch 66: val_loss did not improve from 0.80908\n",
      "\u001b[1m332/332\u001b[0m \u001b[32m━━━━━━━━━━━━━━━━━━━━\u001b[0m\u001b[37m\u001b[0m \u001b[1m1s\u001b[0m 2ms/step - acc: 0.8501 - auc: 0.7508 - loss: 0.4415 - val_acc: 0.4690 - val_auc: 0.0000e+00 - val_loss: 1.0274\n",
      "Epoch 67/100\n",
      "\u001b[1m316/332\u001b[0m \u001b[32m━━━━━━━━━━━━━━━━━━━\u001b[0m\u001b[37m━\u001b[0m \u001b[1m0s\u001b[0m 2ms/step - acc: 0.8417 - auc: 0.7653 - loss: 0.4402\n",
      "Epoch 67: val_loss did not improve from 0.80908\n",
      "\u001b[1m332/332\u001b[0m \u001b[32m━━━━━━━━━━━━━━━━━━━━\u001b[0m\u001b[37m\u001b[0m \u001b[1m1s\u001b[0m 2ms/step - acc: 0.8421 - auc: 0.7656 - loss: 0.4397 - val_acc: 0.4690 - val_auc: 0.0000e+00 - val_loss: 1.0307\n",
      "Epoch 68/100\n",
      "\u001b[1m324/332\u001b[0m \u001b[32m━━━━━━━━━━━━━━━━━━━\u001b[0m\u001b[37m━\u001b[0m \u001b[1m0s\u001b[0m 2ms/step - acc: 0.8695 - auc: 0.7796 - loss: 0.4247\n",
      "Epoch 68: val_loss did not improve from 0.80908\n",
      "\u001b[1m332/332\u001b[0m \u001b[32m━━━━━━━━━━━━━━━━━━━━\u001b[0m\u001b[37m\u001b[0m \u001b[1m1s\u001b[0m 2ms/step - acc: 0.8691 - auc: 0.7792 - loss: 0.4251 - val_acc: 0.4690 - val_auc: 0.0000e+00 - val_loss: 1.0331\n",
      "Epoch 69/100\n",
      "\u001b[1m322/332\u001b[0m \u001b[32m━━━━━━━━━━━━━━━━━━━\u001b[0m\u001b[37m━\u001b[0m \u001b[1m0s\u001b[0m 2ms/step - acc: 0.8319 - auc: 0.7964 - loss: 0.4324\n",
      "Epoch 69: val_loss did not improve from 0.80908\n",
      "\u001b[1m332/332\u001b[0m \u001b[32m━━━━━━━━━━━━━━━━━━━━\u001b[0m\u001b[37m\u001b[0m \u001b[1m1s\u001b[0m 2ms/step - acc: 0.8325 - auc: 0.7962 - loss: 0.4321 - val_acc: 0.4690 - val_auc: 0.0000e+00 - val_loss: 1.0410\n",
      "Epoch 70/100\n",
      "\u001b[1m319/332\u001b[0m \u001b[32m━━━━━━━━━━━━━━━━━━━\u001b[0m\u001b[37m━\u001b[0m \u001b[1m0s\u001b[0m 2ms/step - acc: 0.8696 - auc: 0.8003 - loss: 0.4031\n",
      "Epoch 70: val_loss did not improve from 0.80908\n",
      "\u001b[1m332/332\u001b[0m \u001b[32m━━━━━━━━━━━━━━━━━━━━\u001b[0m\u001b[37m\u001b[0m \u001b[1m1s\u001b[0m 2ms/step - acc: 0.8689 - auc: 0.8000 - loss: 0.4036 - val_acc: 0.4690 - val_auc: 0.0000e+00 - val_loss: 1.0450\n",
      "Epoch 71/100\n",
      "\u001b[1m321/332\u001b[0m \u001b[32m━━━━━━━━━━━━━━━━━━━\u001b[0m\u001b[37m━\u001b[0m \u001b[1m0s\u001b[0m 2ms/step - acc: 0.8671 - auc: 0.7810 - loss: 0.4200\n",
      "Epoch 71: val_loss did not improve from 0.80908\n",
      "\u001b[1m332/332\u001b[0m \u001b[32m━━━━━━━━━━━━━━━━━━━━\u001b[0m\u001b[37m\u001b[0m \u001b[1m1s\u001b[0m 2ms/step - acc: 0.8667 - auc: 0.7806 - loss: 0.4203 - val_acc: 0.4690 - val_auc: 0.0000e+00 - val_loss: 1.0502\n",
      "Epoch 72/100\n",
      "\u001b[1m315/332\u001b[0m \u001b[32m━━━━━━━━━━━━━━━━━━\u001b[0m\u001b[37m━━\u001b[0m \u001b[1m0s\u001b[0m 2ms/step - acc: 0.8495 - auc: 0.8006 - loss: 0.4163\n",
      "Epoch 72: val_loss did not improve from 0.80908\n",
      "\u001b[1m332/332\u001b[0m \u001b[32m━━━━━━━━━━━━━━━━━━━━\u001b[0m\u001b[37m\u001b[0m \u001b[1m1s\u001b[0m 2ms/step - acc: 0.8498 - auc: 0.8001 - loss: 0.4162 - val_acc: 0.4690 - val_auc: 0.0000e+00 - val_loss: 1.0568\n",
      "Epoch 73/100\n",
      "\u001b[1m320/332\u001b[0m \u001b[32m━━━━━━━━━━━━━━━━━━━\u001b[0m\u001b[37m━\u001b[0m \u001b[1m0s\u001b[0m 2ms/step - acc: 0.8391 - auc: 0.7489 - loss: 0.4376\n",
      "Epoch 73: val_loss did not improve from 0.80908\n",
      "\u001b[1m332/332\u001b[0m \u001b[32m━━━━━━━━━━━━━━━━━━━━\u001b[0m\u001b[37m\u001b[0m \u001b[1m1s\u001b[0m 2ms/step - acc: 0.8394 - auc: 0.7500 - loss: 0.4371 - val_acc: 0.4690 - val_auc: 0.0000e+00 - val_loss: 1.0601\n",
      "Epoch 74/100\n",
      "\u001b[1m324/332\u001b[0m \u001b[32m━━━━━━━━━━━━━━━━━━━\u001b[0m\u001b[37m━\u001b[0m \u001b[1m0s\u001b[0m 2ms/step - acc: 0.8528 - auc: 0.7790 - loss: 0.4191\n",
      "Epoch 74: val_loss did not improve from 0.80908\n",
      "\u001b[1m332/332\u001b[0m \u001b[32m━━━━━━━━━━━━━━━━━━━━\u001b[0m\u001b[37m\u001b[0m \u001b[1m1s\u001b[0m 2ms/step - acc: 0.8528 - auc: 0.7791 - loss: 0.4191 - val_acc: 0.4690 - val_auc: 0.0000e+00 - val_loss: 1.0668\n",
      "Epoch 75/100\n",
      "\u001b[1m313/332\u001b[0m \u001b[32m━━━━━━━━━━━━━━━━━━\u001b[0m\u001b[37m━━\u001b[0m \u001b[1m0s\u001b[0m 2ms/step - acc: 0.8590 - auc: 0.8216 - loss: 0.4045\n",
      "Epoch 75: val_loss did not improve from 0.80908\n",
      "\u001b[1m332/332\u001b[0m \u001b[32m━━━━━━━━━━━━━━━━━━━━\u001b[0m\u001b[37m\u001b[0m \u001b[1m1s\u001b[0m 2ms/step - acc: 0.8588 - auc: 0.8204 - loss: 0.4051 - val_acc: 0.4690 - val_auc: 0.0000e+00 - val_loss: 1.0764\n",
      "Epoch 76/100\n",
      "\u001b[1m321/332\u001b[0m \u001b[32m━━━━━━━━━━━━━━━━━━━\u001b[0m\u001b[37m━\u001b[0m \u001b[1m0s\u001b[0m 2ms/step - acc: 0.8511 - auc: 0.8279 - loss: 0.3987\n",
      "Epoch 76: val_loss did not improve from 0.80908\n",
      "\u001b[1m332/332\u001b[0m \u001b[32m━━━━━━━━━━━━━━━━━━━━\u001b[0m\u001b[37m\u001b[0m \u001b[1m1s\u001b[0m 2ms/step - acc: 0.8514 - auc: 0.8278 - loss: 0.3985 - val_acc: 0.4690 - val_auc: 0.0000e+00 - val_loss: 1.0846\n",
      "Epoch 77/100\n",
      "\u001b[1m313/332\u001b[0m \u001b[32m━━━━━━━━━━━━━━━━━━\u001b[0m\u001b[37m━━\u001b[0m \u001b[1m0s\u001b[0m 2ms/step - acc: 0.8574 - auc: 0.7990 - loss: 0.4005\n",
      "Epoch 77: val_loss did not improve from 0.80908\n",
      "\u001b[1m332/332\u001b[0m \u001b[32m━━━━━━━━━━━━━━━━━━━━\u001b[0m\u001b[37m\u001b[0m \u001b[1m1s\u001b[0m 2ms/step - acc: 0.8569 - auc: 0.7983 - loss: 0.4012 - val_acc: 0.4690 - val_auc: 0.0000e+00 - val_loss: 1.0856\n",
      "Epoch 78/100\n",
      "\u001b[1m331/332\u001b[0m \u001b[32m━━━━━━━━━━━━━━━━━━━\u001b[0m\u001b[37m━\u001b[0m \u001b[1m0s\u001b[0m 2ms/step - acc: 0.8546 - auc: 0.8288 - loss: 0.3902\n",
      "Epoch 78: val_loss did not improve from 0.80908\n",
      "\u001b[1m332/332\u001b[0m \u001b[32m━━━━━━━━━━━━━━━━━━━━\u001b[0m\u001b[37m\u001b[0m \u001b[1m1s\u001b[0m 2ms/step - acc: 0.8546 - auc: 0.8287 - loss: 0.3903 - val_acc: 0.4690 - val_auc: 0.0000e+00 - val_loss: 1.0891\n",
      "Epoch 79/100\n",
      "\u001b[1m312/332\u001b[0m \u001b[32m━━━━━━━━━━━━━━━━━━\u001b[0m\u001b[37m━━\u001b[0m \u001b[1m0s\u001b[0m 2ms/step - acc: 0.8252 - auc: 0.7553 - loss: 0.4354\n",
      "Epoch 79: val_loss did not improve from 0.80908\n",
      "\u001b[1m332/332\u001b[0m \u001b[32m━━━━━━━━━━━━━━━━━━━━\u001b[0m\u001b[37m\u001b[0m \u001b[1m1s\u001b[0m 2ms/step - acc: 0.8269 - auc: 0.7569 - loss: 0.4339 - val_acc: 0.4690 - val_auc: 0.0000e+00 - val_loss: 1.0903\n",
      "Epoch 80/100\n",
      "\u001b[1m311/332\u001b[0m \u001b[32m━━━━━━━━━━━━━━━━━━\u001b[0m\u001b[37m━━\u001b[0m \u001b[1m0s\u001b[0m 2ms/step - acc: 0.8654 - auc: 0.7947 - loss: 0.4010\n",
      "Epoch 80: val_loss did not improve from 0.80908\n",
      "\u001b[1m332/332\u001b[0m \u001b[32m━━━━━━━━━━━━━━━━━━━━\u001b[0m\u001b[37m\u001b[0m \u001b[1m1s\u001b[0m 2ms/step - acc: 0.8648 - auc: 0.7942 - loss: 0.4015 - val_acc: 0.4690 - val_auc: 0.0000e+00 - val_loss: 1.0967\n",
      "Epoch 81/100\n",
      "\u001b[1m319/332\u001b[0m \u001b[32m━━━━━━━━━━━━━━━━━━━\u001b[0m\u001b[37m━\u001b[0m \u001b[1m0s\u001b[0m 2ms/step - acc: 0.8546 - auc: 0.7828 - loss: 0.4117\n",
      "Epoch 81: val_loss did not improve from 0.80908\n",
      "\u001b[1m332/332\u001b[0m \u001b[32m━━━━━━━━━━━━━━━━━━━━\u001b[0m\u001b[37m\u001b[0m \u001b[1m1s\u001b[0m 2ms/step - acc: 0.8546 - auc: 0.7833 - loss: 0.4115 - val_acc: 0.4690 - val_auc: 0.0000e+00 - val_loss: 1.1004\n",
      "Epoch 82/100\n",
      "\u001b[1m324/332\u001b[0m \u001b[32m━━━━━━━━━━━━━━━━━━━\u001b[0m\u001b[37m━\u001b[0m \u001b[1m0s\u001b[0m 2ms/step - acc: 0.8606 - auc: 0.7873 - loss: 0.4051\n",
      "Epoch 82: val_loss did not improve from 0.80908\n",
      "\u001b[1m332/332\u001b[0m \u001b[32m━━━━━━━━━━━━━━━━━━━━\u001b[0m\u001b[37m\u001b[0m \u001b[1m1s\u001b[0m 2ms/step - acc: 0.8606 - auc: 0.7879 - loss: 0.4049 - val_acc: 0.4690 - val_auc: 0.0000e+00 - val_loss: 1.1090\n",
      "Epoch 83/100\n",
      "\u001b[1m323/332\u001b[0m \u001b[32m━━━━━━━━━━━━━━━━━━━\u001b[0m\u001b[37m━\u001b[0m \u001b[1m0s\u001b[0m 2ms/step - acc: 0.8577 - auc: 0.8371 - loss: 0.3901\n",
      "Epoch 83: val_loss did not improve from 0.80908\n",
      "\u001b[1m332/332\u001b[0m \u001b[32m━━━━━━━━━━━━━━━━━━━━\u001b[0m\u001b[37m\u001b[0m \u001b[1m1s\u001b[0m 2ms/step - acc: 0.8578 - auc: 0.8367 - loss: 0.3902 - val_acc: 0.4690 - val_auc: 0.0000e+00 - val_loss: 1.1171\n",
      "Epoch 84/100\n",
      "\u001b[1m322/332\u001b[0m \u001b[32m━━━━━━━━━━━━━━━━━━━\u001b[0m\u001b[37m━\u001b[0m \u001b[1m0s\u001b[0m 2ms/step - acc: 0.8517 - auc: 0.7922 - loss: 0.4051\n",
      "Epoch 84: val_loss did not improve from 0.80908\n",
      "\u001b[1m332/332\u001b[0m \u001b[32m━━━━━━━━━━━━━━━━━━━━\u001b[0m\u001b[37m\u001b[0m \u001b[1m1s\u001b[0m 2ms/step - acc: 0.8517 - auc: 0.7925 - loss: 0.4050 - val_acc: 0.4690 - val_auc: 0.0000e+00 - val_loss: 1.1234\n",
      "Epoch 85/100\n",
      "\u001b[1m319/332\u001b[0m \u001b[32m━━━━━━━━━━━━━━━━━━━\u001b[0m\u001b[37m━\u001b[0m \u001b[1m0s\u001b[0m 2ms/step - acc: 0.8688 - auc: 0.8341 - loss: 0.3852\n",
      "Epoch 85: val_loss did not improve from 0.80908\n",
      "\u001b[1m332/332\u001b[0m \u001b[32m━━━━━━━━━━━━━━━━━━━━\u001b[0m\u001b[37m\u001b[0m \u001b[1m1s\u001b[0m 2ms/step - acc: 0.8684 - auc: 0.8336 - loss: 0.3855 - val_acc: 0.4690 - val_auc: 0.0000e+00 - val_loss: 1.1296\n",
      "Epoch 86/100\n",
      "\u001b[1m317/332\u001b[0m \u001b[32m━━━━━━━━━━━━━━━━━━━\u001b[0m\u001b[37m━\u001b[0m \u001b[1m0s\u001b[0m 2ms/step - acc: 0.8447 - auc: 0.8172 - loss: 0.4126\n",
      "Epoch 86: val_loss did not improve from 0.80908\n",
      "\u001b[1m332/332\u001b[0m \u001b[32m━━━━━━━━━━━━━━━━━━━━\u001b[0m\u001b[37m\u001b[0m \u001b[1m1s\u001b[0m 2ms/step - acc: 0.8455 - auc: 0.8173 - loss: 0.4119 - val_acc: 0.4690 - val_auc: 0.0000e+00 - val_loss: 1.1379\n",
      "Epoch 87/100\n",
      "\u001b[1m318/332\u001b[0m \u001b[32m━━━━━━━━━━━━━━━━━━━\u001b[0m\u001b[37m━\u001b[0m \u001b[1m0s\u001b[0m 2ms/step - acc: 0.8546 - auc: 0.8193 - loss: 0.3960\n",
      "Epoch 87: val_loss did not improve from 0.80908\n",
      "\u001b[1m332/332\u001b[0m \u001b[32m━━━━━━━━━━━━━━━━━━━━\u001b[0m\u001b[37m\u001b[0m \u001b[1m1s\u001b[0m 2ms/step - acc: 0.8547 - auc: 0.8198 - loss: 0.3957 - val_acc: 0.4690 - val_auc: 0.0000e+00 - val_loss: 1.1496\n",
      "Epoch 88/100\n",
      "\u001b[1m321/332\u001b[0m \u001b[32m━━━━━━━━━━━━━━━━━━━\u001b[0m\u001b[37m━\u001b[0m \u001b[1m0s\u001b[0m 2ms/step - acc: 0.8571 - auc: 0.8490 - loss: 0.3736\n",
      "Epoch 88: val_loss did not improve from 0.80908\n",
      "\u001b[1m332/332\u001b[0m \u001b[32m━━━━━━━━━━━━━━━━━━━━\u001b[0m\u001b[37m\u001b[0m \u001b[1m1s\u001b[0m 2ms/step - acc: 0.8572 - auc: 0.8483 - loss: 0.3740 - val_acc: 0.4690 - val_auc: 0.0000e+00 - val_loss: 1.1566\n",
      "Epoch 89/100\n",
      "\u001b[1m323/332\u001b[0m \u001b[32m━━━━━━━━━━━━━━━━━━━\u001b[0m\u001b[37m━\u001b[0m \u001b[1m0s\u001b[0m 2ms/step - acc: 0.8478 - auc: 0.7734 - loss: 0.4154\n",
      "Epoch 89: val_loss did not improve from 0.80908\n",
      "\u001b[1m332/332\u001b[0m \u001b[32m━━━━━━━━━━━━━━━━━━━━\u001b[0m\u001b[37m\u001b[0m \u001b[1m1s\u001b[0m 2ms/step - acc: 0.8479 - auc: 0.7747 - loss: 0.4149 - val_acc: 0.4690 - val_auc: 0.0000e+00 - val_loss: 1.1578\n",
      "Epoch 90/100\n",
      "\u001b[1m322/332\u001b[0m \u001b[32m━━━━━━━━━━━━━━━━━━━\u001b[0m\u001b[37m━\u001b[0m \u001b[1m0s\u001b[0m 2ms/step - acc: 0.8629 - auc: 0.8184 - loss: 0.3882\n",
      "Epoch 90: val_loss did not improve from 0.80908\n",
      "\u001b[1m332/332\u001b[0m \u001b[32m━━━━━━━━━━━━━━━━━━━━\u001b[0m\u001b[37m\u001b[0m \u001b[1m1s\u001b[0m 2ms/step - acc: 0.8629 - auc: 0.8187 - loss: 0.3882 - val_acc: 0.4690 - val_auc: 0.0000e+00 - val_loss: 1.1636\n",
      "Epoch 91/100\n",
      "\u001b[1m314/332\u001b[0m \u001b[32m━━━━━━━━━━━━━━━━━━\u001b[0m\u001b[37m━━\u001b[0m \u001b[1m0s\u001b[0m 2ms/step - acc: 0.8431 - auc: 0.8464 - loss: 0.3949\n",
      "Epoch 91: val_loss did not improve from 0.80908\n",
      "\u001b[1m332/332\u001b[0m \u001b[32m━━━━━━━━━━━━━━━━━━━━\u001b[0m\u001b[37m\u001b[0m \u001b[1m1s\u001b[0m 2ms/step - acc: 0.8434 - auc: 0.8461 - loss: 0.3946 - val_acc: 0.4690 - val_auc: 0.0000e+00 - val_loss: 1.1732\n",
      "Epoch 92/100\n",
      "\u001b[1m316/332\u001b[0m \u001b[32m━━━━━━━━━━━━━━━━━━━\u001b[0m\u001b[37m━\u001b[0m \u001b[1m0s\u001b[0m 2ms/step - acc: 0.8576 - auc: 0.8409 - loss: 0.3885\n",
      "Epoch 92: val_loss did not improve from 0.80908\n",
      "\u001b[1m332/332\u001b[0m \u001b[32m━━━━━━━━━━━━━━━━━━━━\u001b[0m\u001b[37m\u001b[0m \u001b[1m1s\u001b[0m 2ms/step - acc: 0.8577 - auc: 0.8409 - loss: 0.3885 - val_acc: 0.4690 - val_auc: 0.0000e+00 - val_loss: 1.1812\n",
      "Epoch 93/100\n",
      "\u001b[1m309/332\u001b[0m \u001b[32m━━━━━━━━━━━━━━━━━━\u001b[0m\u001b[37m━━\u001b[0m \u001b[1m0s\u001b[0m 2ms/step - acc: 0.8709 - auc: 0.8471 - loss: 0.3635\n",
      "Epoch 93: val_loss did not improve from 0.80908\n",
      "\u001b[1m332/332\u001b[0m \u001b[32m━━━━━━━━━━━━━━━━━━━━\u001b[0m\u001b[37m\u001b[0m \u001b[1m1s\u001b[0m 2ms/step - acc: 0.8700 - auc: 0.8465 - loss: 0.3647 - val_acc: 0.4690 - val_auc: 0.0000e+00 - val_loss: 1.1917\n",
      "Epoch 94/100\n",
      "\u001b[1m309/332\u001b[0m \u001b[32m━━━━━━━━━━━━━━━━━━\u001b[0m\u001b[37m━━\u001b[0m \u001b[1m0s\u001b[0m 2ms/step - acc: 0.8419 - auc: 0.8227 - loss: 0.4027\n",
      "Epoch 94: val_loss did not improve from 0.80908\n",
      "\u001b[1m332/332\u001b[0m \u001b[32m━━━━━━━━━━━━━━━━━━━━\u001b[0m\u001b[37m\u001b[0m \u001b[1m1s\u001b[0m 2ms/step - acc: 0.8428 - auc: 0.8230 - loss: 0.4021 - val_acc: 0.4690 - val_auc: 0.0000e+00 - val_loss: 1.1921\n",
      "Epoch 95/100\n",
      "\u001b[1m320/332\u001b[0m \u001b[32m━━━━━━━━━━━━━━━━━━━\u001b[0m\u001b[37m━\u001b[0m \u001b[1m0s\u001b[0m 2ms/step - acc: 0.8562 - auc: 0.8710 - loss: 0.3625\n",
      "Epoch 95: val_loss did not improve from 0.80908\n",
      "\u001b[1m332/332\u001b[0m \u001b[32m━━━━━━━━━━━━━━━━━━━━\u001b[0m\u001b[37m\u001b[0m \u001b[1m1s\u001b[0m 2ms/step - acc: 0.8560 - auc: 0.8704 - loss: 0.3632 - val_acc: 0.4690 - val_auc: 0.0000e+00 - val_loss: 1.2039\n",
      "Epoch 96/100\n",
      "\u001b[1m321/332\u001b[0m \u001b[32m━━━━━━━━━━━━━━━━━━━\u001b[0m\u001b[37m━\u001b[0m \u001b[1m0s\u001b[0m 2ms/step - acc: 0.8641 - auc: 0.8423 - loss: 0.3768\n",
      "Epoch 96: val_loss did not improve from 0.80908\n",
      "\u001b[1m332/332\u001b[0m \u001b[32m━━━━━━━━━━━━━━━━━━━━\u001b[0m\u001b[37m\u001b[0m \u001b[1m1s\u001b[0m 2ms/step - acc: 0.8638 - auc: 0.8427 - loss: 0.3768 - val_acc: 0.4690 - val_auc: 0.0000e+00 - val_loss: 1.2153\n",
      "Epoch 97/100\n",
      "\u001b[1m326/332\u001b[0m \u001b[32m━━━━━━━━━━━━━━━━━━━\u001b[0m\u001b[37m━\u001b[0m \u001b[1m0s\u001b[0m 2ms/step - acc: 0.8551 - auc: 0.8289 - loss: 0.3836\n",
      "Epoch 97: val_loss did not improve from 0.80908\n",
      "\u001b[1m332/332\u001b[0m \u001b[32m━━━━━━━━━━━━━━━━━━━━\u001b[0m\u001b[37m\u001b[0m \u001b[1m1s\u001b[0m 2ms/step - acc: 0.8552 - auc: 0.8293 - loss: 0.3835 - val_acc: 0.4690 - val_auc: 0.0000e+00 - val_loss: 1.2204\n",
      "Epoch 98/100\n",
      "\u001b[1m322/332\u001b[0m \u001b[32m━━━━━━━━━━━━━━━━━━━\u001b[0m\u001b[37m━\u001b[0m \u001b[1m0s\u001b[0m 2ms/step - acc: 0.8536 - auc: 0.8656 - loss: 0.3653\n",
      "Epoch 98: val_loss did not improve from 0.80908\n",
      "\u001b[1m332/332\u001b[0m \u001b[32m━━━━━━━━━━━━━━━━━━━━\u001b[0m\u001b[37m\u001b[0m \u001b[1m1s\u001b[0m 2ms/step - acc: 0.8538 - auc: 0.8653 - loss: 0.3656 - val_acc: 0.4690 - val_auc: 0.0000e+00 - val_loss: 1.2278\n",
      "Epoch 99/100\n",
      "\u001b[1m323/332\u001b[0m \u001b[32m━━━━━━━━━━━━━━━━━━━\u001b[0m\u001b[37m━\u001b[0m \u001b[1m0s\u001b[0m 2ms/step - acc: 0.8407 - auc: 0.8607 - loss: 0.3865\n",
      "Epoch 99: val_loss did not improve from 0.80908\n",
      "\u001b[1m332/332\u001b[0m \u001b[32m━━━━━━━━━━━━━━━━━━━━\u001b[0m\u001b[37m\u001b[0m \u001b[1m1s\u001b[0m 2ms/step - acc: 0.8413 - auc: 0.8604 - loss: 0.3862 - val_acc: 0.4690 - val_auc: 0.0000e+00 - val_loss: 1.2334\n",
      "Epoch 100/100\n",
      "\u001b[1m320/332\u001b[0m \u001b[32m━━━━━━━━━━━━━━━━━━━\u001b[0m\u001b[37m━\u001b[0m \u001b[1m0s\u001b[0m 2ms/step - acc: 0.8639 - auc: 0.8725 - loss: 0.3531\n",
      "Epoch 100: val_loss did not improve from 0.80908\n",
      "\u001b[1m332/332\u001b[0m \u001b[32m━━━━━━━━━━━━━━━━━━━━\u001b[0m\u001b[37m\u001b[0m \u001b[1m1s\u001b[0m 2ms/step - acc: 0.8634 - auc: 0.8719 - loss: 0.3540 - val_acc: 0.4690 - val_auc: 0.0000e+00 - val_loss: 1.2414\n"
     ]
    },
    {
     "name": "stderr",
     "output_type": "stream",
     "text": [
      "WARNING:absl:Compiled the loaded model, but the compiled metrics have yet to be built. `model.compile_metrics` will be empty until you train or evaluate the model.\n"
     ]
    },
    {
     "name": "stdout",
     "output_type": "stream",
     "text": [
      "Fold 5 | VAL  | AUC=0.4118 | ACC=0.4690 | n=145\n",
      "Fold 5 | TEST | AUC=1.0000 | ACC=0.6780 | n=59\n",
      "\n",
      "--- Fold 6/10 ---\n",
      " train | ids:   36 | files:  927 | pos:  327 | neg:  600\n",
      "   val | ids:    4 | files:  234 | pos:   77 | neg:  157\n",
      "  test | ids:    4 | files:   39 | pos:    1 | neg:   38\n",
      "Epoch 1/100\n"
     ]
    },
    {
     "name": "stderr",
     "output_type": "stream",
     "text": [
      "/usr/local/lib/python3.12/dist-packages/keras/src/models/functional.py:241: UserWarning: The structure of `inputs` doesn't match the expected structure.\n",
      "Expected: tab_input\n",
      "Received: inputs=['Tensor(shape=(None, 4))']\n",
      "  warnings.warn(msg)\n"
     ]
    },
    {
     "name": "stdout",
     "output_type": "stream",
     "text": [
      "\u001b[1m292/309\u001b[0m \u001b[32m━━━━━━━━━━━━━━━━━━\u001b[0m\u001b[37m━━\u001b[0m \u001b[1m0s\u001b[0m 2ms/step - acc: 0.3295 - auc: 0.4238 - loss: 0.7364\n",
      "Epoch 1: val_loss improved from inf to 0.67880, saving model to best_tab_only_fold6.h5\n"
     ]
    },
    {
     "name": "stderr",
     "output_type": "stream",
     "text": [
      "WARNING:absl:You are saving your model as an HDF5 file via `model.save()` or `keras.saving.save_model(model)`. This file format is considered legacy. We recommend using instead the native Keras format, e.g. `model.save('my_model.keras')` or `keras.saving.save_model(model, 'my_model.keras')`. \n"
     ]
    },
    {
     "name": "stdout",
     "output_type": "stream",
     "text": [
      "\b\b\b\b\b\b\b\b\b\b\b\b\b\b\b\b\b\b\b\b\b\b\b\b\b\b\b\b\b\b\b\b\b\b\b\b\b\b\b\b\b\b\b\b\b\b\b\b\b\b\b\b\b\b\b\b\b\b\b\b\b\b\b\b\b\b\b\b\b\b\b\b\b\b\b\b\b\b\b\b\b\b\b\r",
      "\u001b[1m309/309\u001b[0m \u001b[32m━━━━━━━━━━━━━━━━━━━━\u001b[0m\u001b[37m\u001b[0m \u001b[1m4s\u001b[0m 5ms/step - acc: 0.3310 - auc: 0.4240 - loss: 0.7353 - val_acc: 0.6154 - val_auc: 0.7134 - val_loss: 0.6788\n",
      "Epoch 2/100\n",
      "\u001b[1m283/309\u001b[0m \u001b[32m━━━━━━━━━━━━━━━━━━\u001b[0m\u001b[37m━━\u001b[0m \u001b[1m0s\u001b[0m 2ms/step - acc: 0.5416 - auc: 0.5486 - loss: 0.6762\n",
      "Epoch 2: val_loss improved from 0.67880 to 0.62918, saving model to best_tab_only_fold6.h5\n"
     ]
    },
    {
     "name": "stderr",
     "output_type": "stream",
     "text": [
      "WARNING:absl:You are saving your model as an HDF5 file via `model.save()` or `keras.saving.save_model(model)`. This file format is considered legacy. We recommend using instead the native Keras format, e.g. `model.save('my_model.keras')` or `keras.saving.save_model(model, 'my_model.keras')`. \n"
     ]
    },
    {
     "name": "stdout",
     "output_type": "stream",
     "text": [
      "\b\b\b\b\b\b\b\b\b\b\b\b\b\b\b\b\b\b\b\b\b\b\b\b\b\b\b\b\b\b\b\b\b\b\b\b\b\b\b\b\b\b\b\b\b\b\b\b\b\b\b\b\b\b\b\b\b\b\b\b\b\b\b\b\b\b\b\b\b\b\b\b\b\b\b\b\b\b\b\b\b\b\b\r",
      "\u001b[1m309/309\u001b[0m \u001b[32m━━━━━━━━━━━━━━━━━━━━\u001b[0m\u001b[37m\u001b[0m \u001b[1m1s\u001b[0m 3ms/step - acc: 0.5464 - auc: 0.5539 - loss: 0.6754 - val_acc: 0.6709 - val_auc: 1.0000 - val_loss: 0.6292\n",
      "Epoch 3/100\n",
      "\u001b[1m302/309\u001b[0m \u001b[32m━━━━━━━━━━━━━━━━━━━\u001b[0m\u001b[37m━\u001b[0m \u001b[1m0s\u001b[0m 2ms/step - acc: 0.6707 - auc: 0.6525 - loss: 0.6446\n",
      "Epoch 3: val_loss improved from 0.62918 to 0.60787, saving model to best_tab_only_fold6.h5\n"
     ]
    },
    {
     "name": "stderr",
     "output_type": "stream",
     "text": [
      "WARNING:absl:You are saving your model as an HDF5 file via `model.save()` or `keras.saving.save_model(model)`. This file format is considered legacy. We recommend using instead the native Keras format, e.g. `model.save('my_model.keras')` or `keras.saving.save_model(model, 'my_model.keras')`. \n"
     ]
    },
    {
     "name": "stdout",
     "output_type": "stream",
     "text": [
      "\b\b\b\b\b\b\b\b\b\b\b\b\b\b\b\b\b\b\b\b\b\b\b\b\b\b\b\b\b\b\b\b\b\b\b\b\b\b\b\b\b\b\b\b\b\b\b\b\b\b\b\b\b\b\b\b\b\b\b\b\b\b\b\b\b\b\b\b\b\b\b\b\b\b\b\b\b\b\b\b\b\b\b\r",
      "\u001b[1m309/309\u001b[0m \u001b[32m━━━━━━━━━━━━━━━━━━━━\u001b[0m\u001b[37m\u001b[0m \u001b[1m1s\u001b[0m 3ms/step - acc: 0.6713 - auc: 0.6528 - loss: 0.6445 - val_acc: 0.6709 - val_auc: 1.0000 - val_loss: 0.6079\n",
      "Epoch 4/100\n",
      "\u001b[1m292/309\u001b[0m \u001b[32m━━━━━━━━━━━━━━━━━━\u001b[0m\u001b[37m━━\u001b[0m \u001b[1m0s\u001b[0m 2ms/step - acc: 0.7646 - auc: 0.6882 - loss: 0.6246\n",
      "Epoch 4: val_loss improved from 0.60787 to 0.59244, saving model to best_tab_only_fold6.h5\n"
     ]
    },
    {
     "name": "stderr",
     "output_type": "stream",
     "text": [
      "WARNING:absl:You are saving your model as an HDF5 file via `model.save()` or `keras.saving.save_model(model)`. This file format is considered legacy. We recommend using instead the native Keras format, e.g. `model.save('my_model.keras')` or `keras.saving.save_model(model, 'my_model.keras')`. \n"
     ]
    },
    {
     "name": "stdout",
     "output_type": "stream",
     "text": [
      "\b\b\b\b\b\b\b\b\b\b\b\b\b\b\b\b\b\b\b\b\b\b\b\b\b\b\b\b\b\b\b\b\b\b\b\b\b\b\b\b\b\b\b\b\b\b\b\b\b\b\b\b\b\b\b\b\b\b\b\b\b\b\b\b\b\b\b\b\b\b\b\b\b\b\b\b\b\b\b\b\b\b\b\r",
      "\u001b[1m309/309\u001b[0m \u001b[32m━━━━━━━━━━━━━━━━━━━━\u001b[0m\u001b[37m\u001b[0m \u001b[1m1s\u001b[0m 3ms/step - acc: 0.7663 - auc: 0.6889 - loss: 0.6244 - val_acc: 0.6709 - val_auc: 1.0000 - val_loss: 0.5924\n",
      "Epoch 5/100\n",
      "\u001b[1m293/309\u001b[0m \u001b[32m━━━━━━━━━━━━━━━━━━\u001b[0m\u001b[37m━━\u001b[0m \u001b[1m0s\u001b[0m 2ms/step - acc: 0.7742 - auc: 0.6976 - loss: 0.6156\n",
      "Epoch 5: val_loss improved from 0.59244 to 0.58530, saving model to best_tab_only_fold6.h5\n"
     ]
    },
    {
     "name": "stderr",
     "output_type": "stream",
     "text": [
      "WARNING:absl:You are saving your model as an HDF5 file via `model.save()` or `keras.saving.save_model(model)`. This file format is considered legacy. We recommend using instead the native Keras format, e.g. `model.save('my_model.keras')` or `keras.saving.save_model(model, 'my_model.keras')`. \n"
     ]
    },
    {
     "name": "stdout",
     "output_type": "stream",
     "text": [
      "\b\b\b\b\b\b\b\b\b\b\b\b\b\b\b\b\b\b\b\b\b\b\b\b\b\b\b\b\b\b\b\b\b\b\b\b\b\b\b\b\b\b\b\b\b\b\b\b\b\b\b\b\b\b\b\b\b\b\b\b\b\b\b\b\b\b\b\b\b\b\b\b\b\b\b\b\b\b\b\b\b\b\b\r",
      "\u001b[1m309/309\u001b[0m \u001b[32m━━━━━━━━━━━━━━━━━━━━\u001b[0m\u001b[37m\u001b[0m \u001b[1m1s\u001b[0m 3ms/step - acc: 0.7745 - auc: 0.6972 - loss: 0.6155 - val_acc: 0.6709 - val_auc: 1.0000 - val_loss: 0.5853\n",
      "Epoch 6/100\n",
      "\u001b[1m294/309\u001b[0m \u001b[32m━━━━━━━━━━━━━━━━━━━\u001b[0m\u001b[37m━\u001b[0m \u001b[1m0s\u001b[0m 2ms/step - acc: 0.7856 - auc: 0.6993 - loss: 0.6069\n",
      "Epoch 6: val_loss improved from 0.58530 to 0.58186, saving model to best_tab_only_fold6.h5\n"
     ]
    },
    {
     "name": "stderr",
     "output_type": "stream",
     "text": [
      "WARNING:absl:You are saving your model as an HDF5 file via `model.save()` or `keras.saving.save_model(model)`. This file format is considered legacy. We recommend using instead the native Keras format, e.g. `model.save('my_model.keras')` or `keras.saving.save_model(model, 'my_model.keras')`. \n"
     ]
    },
    {
     "name": "stdout",
     "output_type": "stream",
     "text": [
      "\b\b\b\b\b\b\b\b\b\b\b\b\b\b\b\b\b\b\b\b\b\b\b\b\b\b\b\b\b\b\b\b\b\b\b\b\b\b\b\b\b\b\b\b\b\b\b\b\b\b\b\b\b\b\b\b\b\b\b\b\b\b\b\b\b\b\b\b\b\b\b\b\b\b\b\b\b\b\b\b\b\b\b\r",
      "\u001b[1m309/309\u001b[0m \u001b[32m━━━━━━━━━━━━━━━━━━━━\u001b[0m\u001b[37m\u001b[0m \u001b[1m1s\u001b[0m 3ms/step - acc: 0.7861 - auc: 0.6994 - loss: 0.6066 - val_acc: 0.6709 - val_auc: 1.0000 - val_loss: 0.5819\n",
      "Epoch 7/100\n",
      "\u001b[1m294/309\u001b[0m \u001b[32m━━━━━━━━━━━━━━━━━━━\u001b[0m\u001b[37m━\u001b[0m \u001b[1m0s\u001b[0m 2ms/step - acc: 0.8142 - auc: 0.7183 - loss: 0.5919\n",
      "Epoch 7: val_loss improved from 0.58186 to 0.58118, saving model to best_tab_only_fold6.h5\n"
     ]
    },
    {
     "name": "stderr",
     "output_type": "stream",
     "text": [
      "WARNING:absl:You are saving your model as an HDF5 file via `model.save()` or `keras.saving.save_model(model)`. This file format is considered legacy. We recommend using instead the native Keras format, e.g. `model.save('my_model.keras')` or `keras.saving.save_model(model, 'my_model.keras')`. \n"
     ]
    },
    {
     "name": "stdout",
     "output_type": "stream",
     "text": [
      "\b\b\b\b\b\b\b\b\b\b\b\b\b\b\b\b\b\b\b\b\b\b\b\b\b\b\b\b\b\b\b\b\b\b\b\b\b\b\b\b\b\b\b\b\b\b\b\b\b\b\b\b\b\b\b\b\b\b\b\b\b\b\b\b\b\b\b\b\b\b\b\b\b\b\b\b\b\b\b\b\b\b\b\r",
      "\u001b[1m309/309\u001b[0m \u001b[32m━━━━━━━━━━━━━━━━━━━━\u001b[0m\u001b[37m\u001b[0m \u001b[1m1s\u001b[0m 3ms/step - acc: 0.8139 - auc: 0.7180 - loss: 0.5919 - val_acc: 0.6709 - val_auc: 1.0000 - val_loss: 0.5812\n",
      "Epoch 8/100\n",
      "\u001b[1m288/309\u001b[0m \u001b[32m━━━━━━━━━━━━━━━━━━\u001b[0m\u001b[37m━━\u001b[0m \u001b[1m0s\u001b[0m 2ms/step - acc: 0.7993 - auc: 0.7053 - loss: 0.5933\n",
      "Epoch 8: val_loss did not improve from 0.58118\n",
      "\u001b[1m309/309\u001b[0m \u001b[32m━━━━━━━━━━━━━━━━━━━━\u001b[0m\u001b[37m\u001b[0m \u001b[1m1s\u001b[0m 3ms/step - acc: 0.7986 - auc: 0.7049 - loss: 0.5934 - val_acc: 0.6709 - val_auc: 1.0000 - val_loss: 0.5814\n",
      "Epoch 9/100\n",
      "\u001b[1m290/309\u001b[0m \u001b[32m━━━━━━━━━━━━━━━━━━\u001b[0m\u001b[37m━━\u001b[0m \u001b[1m0s\u001b[0m 2ms/step - acc: 0.7788 - auc: 0.6944 - loss: 0.5991\n",
      "Epoch 9: val_loss did not improve from 0.58118\n",
      "\u001b[1m309/309\u001b[0m \u001b[32m━━━━━━━━━━━━━━━━━━━━\u001b[0m\u001b[37m\u001b[0m \u001b[1m1s\u001b[0m 3ms/step - acc: 0.7797 - auc: 0.6949 - loss: 0.5985 - val_acc: 0.6709 - val_auc: 1.0000 - val_loss: 0.5817\n",
      "Epoch 10/100\n",
      "\u001b[1m295/309\u001b[0m \u001b[32m━━━━━━━━━━━━━━━━━━━\u001b[0m\u001b[37m━\u001b[0m \u001b[1m0s\u001b[0m 2ms/step - acc: 0.7880 - auc: 0.6585 - loss: 0.5986\n",
      "Epoch 10: val_loss did not improve from 0.58118\n",
      "\u001b[1m309/309\u001b[0m \u001b[32m━━━━━━━━━━━━━━━━━━━━\u001b[0m\u001b[37m\u001b[0m \u001b[1m1s\u001b[0m 2ms/step - acc: 0.7882 - auc: 0.6585 - loss: 0.5984 - val_acc: 0.6709 - val_auc: 1.0000 - val_loss: 0.5840\n",
      "Epoch 11/100\n",
      "\u001b[1m295/309\u001b[0m \u001b[32m━━━━━━━━━━━━━━━━━━━\u001b[0m\u001b[37m━\u001b[0m \u001b[1m0s\u001b[0m 2ms/step - acc: 0.8158 - auc: 0.7248 - loss: 0.5758\n",
      "Epoch 11: val_loss did not improve from 0.58118\n",
      "\u001b[1m309/309\u001b[0m \u001b[32m━━━━━━━━━━━━━━━━━━━━\u001b[0m\u001b[37m\u001b[0m \u001b[1m1s\u001b[0m 3ms/step - acc: 0.8151 - auc: 0.7228 - loss: 0.5761 - val_acc: 0.6709 - val_auc: 1.0000 - val_loss: 0.5850\n",
      "Epoch 12/100\n",
      "\u001b[1m294/309\u001b[0m \u001b[32m━━━━━━━━━━━━━━━━━━━\u001b[0m\u001b[37m━\u001b[0m \u001b[1m0s\u001b[0m 2ms/step - acc: 0.7917 - auc: 0.6539 - loss: 0.5873\n",
      "Epoch 12: val_loss did not improve from 0.58118\n",
      "\u001b[1m309/309\u001b[0m \u001b[32m━━━━━━━━━━━━━━━━━━━━\u001b[0m\u001b[37m\u001b[0m \u001b[1m1s\u001b[0m 3ms/step - acc: 0.7924 - auc: 0.6565 - loss: 0.5864 - val_acc: 0.6709 - val_auc: 0.7516 - val_loss: 0.5857\n",
      "Epoch 13/100\n",
      "\u001b[1m289/309\u001b[0m \u001b[32m━━━━━━━━━━━━━━━━━━\u001b[0m\u001b[37m━━\u001b[0m \u001b[1m0s\u001b[0m 2ms/step - acc: 0.7843 - auc: 0.6957 - loss: 0.5830\n",
      "Epoch 13: val_loss did not improve from 0.58118\n",
      "\u001b[1m309/309\u001b[0m \u001b[32m━━━━━━━━━━━━━━━━━━━━\u001b[0m\u001b[37m\u001b[0m \u001b[1m1s\u001b[0m 3ms/step - acc: 0.7861 - auc: 0.6968 - loss: 0.5818 - val_acc: 0.6709 - val_auc: 0.7516 - val_loss: 0.5864\n",
      "Epoch 14/100\n",
      "\u001b[1m301/309\u001b[0m \u001b[32m━━━━━━━━━━━━━━━━━━━\u001b[0m\u001b[37m━\u001b[0m \u001b[1m0s\u001b[0m 2ms/step - acc: 0.7883 - auc: 0.6741 - loss: 0.5817\n",
      "Epoch 14: val_loss did not improve from 0.58118\n",
      "\u001b[1m309/309\u001b[0m \u001b[32m━━━━━━━━━━━━━━━━━━━━\u001b[0m\u001b[37m\u001b[0m \u001b[1m1s\u001b[0m 2ms/step - acc: 0.7883 - auc: 0.6746 - loss: 0.5814 - val_acc: 0.6709 - val_auc: 0.7516 - val_loss: 0.5890\n",
      "Epoch 15/100\n",
      "\u001b[1m300/309\u001b[0m \u001b[32m━━━━━━━━━━━━━━━━━━━\u001b[0m\u001b[37m━\u001b[0m \u001b[1m0s\u001b[0m 2ms/step - acc: 0.7815 - auc: 0.7222 - loss: 0.5634\n",
      "Epoch 15: val_loss did not improve from 0.58118\n",
      "\u001b[1m309/309\u001b[0m \u001b[32m━━━━━━━━━━━━━━━━━━━━\u001b[0m\u001b[37m\u001b[0m \u001b[1m1s\u001b[0m 2ms/step - acc: 0.7820 - auc: 0.7222 - loss: 0.5632 - val_acc: 0.6709 - val_auc: 0.7516 - val_loss: 0.5916\n",
      "Epoch 16/100\n",
      "\u001b[1m288/309\u001b[0m \u001b[32m━━━━━━━━━━━━━━━━━━\u001b[0m\u001b[37m━━\u001b[0m \u001b[1m0s\u001b[0m 2ms/step - acc: 0.7746 - auc: 0.7435 - loss: 0.5559\n",
      "Epoch 16: val_loss did not improve from 0.58118\n",
      "\u001b[1m309/309\u001b[0m \u001b[32m━━━━━━━━━━━━━━━━━━━━\u001b[0m\u001b[37m\u001b[0m \u001b[1m1s\u001b[0m 3ms/step - acc: 0.7760 - auc: 0.7434 - loss: 0.5554 - val_acc: 0.6709 - val_auc: 0.7516 - val_loss: 0.5921\n",
      "Epoch 17/100\n",
      "\u001b[1m288/309\u001b[0m \u001b[32m━━━━━━━━━━━━━━━━━━\u001b[0m\u001b[37m━━\u001b[0m \u001b[1m0s\u001b[0m 2ms/step - acc: 0.7711 - auc: 0.6841 - loss: 0.5783\n",
      "Epoch 17: val_loss did not improve from 0.58118\n",
      "\u001b[1m309/309\u001b[0m \u001b[32m━━━━━━━━━━━━━━━━━━━━\u001b[0m\u001b[37m\u001b[0m \u001b[1m1s\u001b[0m 3ms/step - acc: 0.7716 - auc: 0.6861 - loss: 0.5772 - val_acc: 0.6709 - val_auc: 0.7516 - val_loss: 0.5953\n",
      "Epoch 18/100\n",
      "\u001b[1m284/309\u001b[0m \u001b[32m━━━━━━━━━━━━━━━━━━\u001b[0m\u001b[37m━━\u001b[0m \u001b[1m0s\u001b[0m 2ms/step - acc: 0.8128 - auc: 0.7628 - loss: 0.5328\n",
      "Epoch 18: val_loss did not improve from 0.58118\n",
      "\u001b[1m309/309\u001b[0m \u001b[32m━━━━━━━━━━━━━━━━━━━━\u001b[0m\u001b[37m\u001b[0m \u001b[1m1s\u001b[0m 3ms/step - acc: 0.8112 - auc: 0.7590 - loss: 0.5342 - val_acc: 0.6709 - val_auc: 0.7516 - val_loss: 0.5971\n",
      "Epoch 19/100\n",
      "\u001b[1m292/309\u001b[0m \u001b[32m━━━━━━━━━━━━━━━━━━\u001b[0m\u001b[37m━━\u001b[0m \u001b[1m0s\u001b[0m 2ms/step - acc: 0.8008 - auc: 0.7104 - loss: 0.5510\n",
      "Epoch 19: val_loss did not improve from 0.58118\n",
      "\u001b[1m309/309\u001b[0m \u001b[32m━━━━━━━━━━━━━━━━━━━━\u001b[0m\u001b[37m\u001b[0m \u001b[1m1s\u001b[0m 3ms/step - acc: 0.8008 - auc: 0.7109 - loss: 0.5506 - val_acc: 0.6709 - val_auc: 0.7516 - val_loss: 0.6001\n",
      "Epoch 20/100\n",
      "\u001b[1m293/309\u001b[0m \u001b[32m━━━━━━━━━━━━━━━━━━\u001b[0m\u001b[37m━━\u001b[0m \u001b[1m0s\u001b[0m 2ms/step - acc: 0.7930 - auc: 0.7110 - loss: 0.5476\n",
      "Epoch 20: val_loss did not improve from 0.58118\n",
      "\u001b[1m309/309\u001b[0m \u001b[32m━━━━━━━━━━━━━━━━━━━━\u001b[0m\u001b[37m\u001b[0m \u001b[1m1s\u001b[0m 3ms/step - acc: 0.7930 - auc: 0.7124 - loss: 0.5471 - val_acc: 0.6709 - val_auc: 0.7516 - val_loss: 0.6029\n",
      "Epoch 21/100\n",
      "\u001b[1m302/309\u001b[0m \u001b[32m━━━━━━━━━━━━━━━━━━━\u001b[0m\u001b[37m━\u001b[0m \u001b[1m0s\u001b[0m 2ms/step - acc: 0.7775 - auc: 0.7022 - loss: 0.5475\n",
      "Epoch 21: val_loss did not improve from 0.58118\n",
      "\u001b[1m309/309\u001b[0m \u001b[32m━━━━━━━━━━━━━━━━━━━━\u001b[0m\u001b[37m\u001b[0m \u001b[1m1s\u001b[0m 2ms/step - acc: 0.7781 - auc: 0.7033 - loss: 0.5470 - val_acc: 0.6709 - val_auc: 0.7516 - val_loss: 0.6046\n",
      "Epoch 22/100\n",
      "\u001b[1m300/309\u001b[0m \u001b[32m━━━━━━━━━━━━━━━━━━━\u001b[0m\u001b[37m━\u001b[0m \u001b[1m0s\u001b[0m 2ms/step - acc: 0.8268 - auc: 0.7311 - loss: 0.5169\n",
      "Epoch 22: val_loss did not improve from 0.58118\n",
      "\u001b[1m309/309\u001b[0m \u001b[32m━━━━━━━━━━━━━━━━━━━━\u001b[0m\u001b[37m\u001b[0m \u001b[1m1s\u001b[0m 2ms/step - acc: 0.8265 - auc: 0.7314 - loss: 0.5169 - val_acc: 0.6709 - val_auc: 0.7516 - val_loss: 0.6078\n",
      "Epoch 23/100\n",
      "\u001b[1m301/309\u001b[0m \u001b[32m━━━━━━━━━━━━━━━━━━━\u001b[0m\u001b[37m━\u001b[0m \u001b[1m0s\u001b[0m 2ms/step - acc: 0.8110 - auc: 0.7291 - loss: 0.5334\n",
      "Epoch 23: val_loss did not improve from 0.58118\n",
      "\u001b[1m309/309\u001b[0m \u001b[32m━━━━━━━━━━━━━━━━━━━━\u001b[0m\u001b[37m\u001b[0m \u001b[1m1s\u001b[0m 2ms/step - acc: 0.8109 - auc: 0.7295 - loss: 0.5331 - val_acc: 0.6709 - val_auc: 0.7516 - val_loss: 0.6101\n",
      "Epoch 24/100\n",
      "\u001b[1m293/309\u001b[0m \u001b[32m━━━━━━━━━━━━━━━━━━\u001b[0m\u001b[37m━━\u001b[0m \u001b[1m0s\u001b[0m 2ms/step - acc: 0.7953 - auc: 0.7216 - loss: 0.5316\n",
      "Epoch 24: val_loss did not improve from 0.58118\n",
      "\u001b[1m309/309\u001b[0m \u001b[32m━━━━━━━━━━━━━━━━━━━━\u001b[0m\u001b[37m\u001b[0m \u001b[1m1s\u001b[0m 3ms/step - acc: 0.7963 - auc: 0.7232 - loss: 0.5304 - val_acc: 0.6709 - val_auc: 0.7516 - val_loss: 0.6126\n",
      "Epoch 25/100\n",
      "\u001b[1m296/309\u001b[0m \u001b[32m━━━━━━━━━━━━━━━━━━━\u001b[0m\u001b[37m━\u001b[0m \u001b[1m0s\u001b[0m 2ms/step - acc: 0.8161 - auc: 0.7594 - loss: 0.4918\n",
      "Epoch 25: val_loss did not improve from 0.58118\n",
      "\u001b[1m309/309\u001b[0m \u001b[32m━━━━━━━━━━━━━━━━━━━━\u001b[0m\u001b[37m\u001b[0m \u001b[1m1s\u001b[0m 3ms/step - acc: 0.8156 - auc: 0.7597 - loss: 0.4922 - val_acc: 0.6709 - val_auc: 0.7516 - val_loss: 0.6148\n",
      "Epoch 26/100\n",
      "\u001b[1m294/309\u001b[0m \u001b[32m━━━━━━━━━━━━━━━━━━━\u001b[0m\u001b[37m━\u001b[0m \u001b[1m0s\u001b[0m 2ms/step - acc: 0.8211 - auc: 0.7681 - loss: 0.4908\n",
      "Epoch 26: val_loss did not improve from 0.58118\n",
      "\u001b[1m309/309\u001b[0m \u001b[32m━━━━━━━━━━━━━━━━━━━━\u001b[0m\u001b[37m\u001b[0m \u001b[1m1s\u001b[0m 3ms/step - acc: 0.8206 - auc: 0.7674 - loss: 0.4913 - val_acc: 0.6709 - val_auc: 0.7516 - val_loss: 0.6182\n",
      "Epoch 27/100\n",
      "\u001b[1m292/309\u001b[0m \u001b[32m━━━━━━━━━━━━━━━━━━\u001b[0m\u001b[37m━━\u001b[0m \u001b[1m0s\u001b[0m 2ms/step - acc: 0.8323 - auc: 0.8112 - loss: 0.4649\n",
      "Epoch 27: val_loss did not improve from 0.58118\n",
      "\u001b[1m309/309\u001b[0m \u001b[32m━━━━━━━━━━━━━━━━━━━━\u001b[0m\u001b[37m\u001b[0m \u001b[1m1s\u001b[0m 3ms/step - acc: 0.8315 - auc: 0.8078 - loss: 0.4665 - val_acc: 0.6709 - val_auc: 0.7516 - val_loss: 0.6223\n",
      "Epoch 28/100\n",
      "\u001b[1m295/309\u001b[0m \u001b[32m━━━━━━━━━━━━━━━━━━━\u001b[0m\u001b[37m━\u001b[0m \u001b[1m0s\u001b[0m 2ms/step - acc: 0.8022 - auc: 0.7518 - loss: 0.5067\n",
      "Epoch 28: val_loss did not improve from 0.58118\n",
      "\u001b[1m309/309\u001b[0m \u001b[32m━━━━━━━━━━━━━━━━━━━━\u001b[0m\u001b[37m\u001b[0m \u001b[1m1s\u001b[0m 3ms/step - acc: 0.8025 - auc: 0.7513 - loss: 0.5065 - val_acc: 0.6709 - val_auc: 0.7516 - val_loss: 0.6252\n",
      "Epoch 29/100\n",
      "\u001b[1m297/309\u001b[0m \u001b[32m━━━━━━━━━━━━━━━━━━━\u001b[0m\u001b[37m━\u001b[0m \u001b[1m0s\u001b[0m 2ms/step - acc: 0.7630 - auc: 0.7801 - loss: 0.5180\n",
      "Epoch 29: val_loss did not improve from 0.58118\n",
      "\u001b[1m309/309\u001b[0m \u001b[32m━━━━━━━━━━━━━━━━━━━━\u001b[0m\u001b[37m\u001b[0m \u001b[1m1s\u001b[0m 2ms/step - acc: 0.7645 - auc: 0.7797 - loss: 0.5172 - val_acc: 0.6709 - val_auc: 0.7516 - val_loss: 0.6279\n",
      "Epoch 30/100\n",
      "\u001b[1m293/309\u001b[0m \u001b[32m━━━━━━━━━━━━━━━━━━\u001b[0m\u001b[37m━━\u001b[0m \u001b[1m0s\u001b[0m 2ms/step - acc: 0.7904 - auc: 0.7548 - loss: 0.5147\n",
      "Epoch 30: val_loss did not improve from 0.58118\n",
      "\u001b[1m309/309\u001b[0m \u001b[32m━━━━━━━━━━━━━━━━━━━━\u001b[0m\u001b[37m\u001b[0m \u001b[1m1s\u001b[0m 3ms/step - acc: 0.7909 - auc: 0.7565 - loss: 0.5136 - val_acc: 0.6709 - val_auc: 0.6624 - val_loss: 0.6325\n",
      "Epoch 31/100\n",
      "\u001b[1m288/309\u001b[0m \u001b[32m━━━━━━━━━━━━━━━━━━\u001b[0m\u001b[37m━━\u001b[0m \u001b[1m0s\u001b[0m 2ms/step - acc: 0.8019 - auc: 0.7763 - loss: 0.4898\n",
      "Epoch 31: val_loss did not improve from 0.58118\n",
      "\u001b[1m309/309\u001b[0m \u001b[32m━━━━━━━━━━━━━━━━━━━━\u001b[0m\u001b[37m\u001b[0m \u001b[1m1s\u001b[0m 3ms/step - acc: 0.8019 - auc: 0.7758 - loss: 0.4901 - val_acc: 0.6709 - val_auc: 0.6624 - val_loss: 0.6358\n",
      "Epoch 32/100\n",
      "\u001b[1m304/309\u001b[0m \u001b[32m━━━━━━━━━━━━━━━━━━━\u001b[0m\u001b[37m━\u001b[0m \u001b[1m0s\u001b[0m 2ms/step - acc: 0.8216 - auc: 0.8057 - loss: 0.4693\n",
      "Epoch 32: val_loss did not improve from 0.58118\n",
      "\u001b[1m309/309\u001b[0m \u001b[32m━━━━━━━━━━━━━━━━━━━━\u001b[0m\u001b[37m\u001b[0m \u001b[1m1s\u001b[0m 3ms/step - acc: 0.8213 - auc: 0.8056 - loss: 0.4695 - val_acc: 0.6709 - val_auc: 0.5732 - val_loss: 0.6398\n",
      "Epoch 33/100\n",
      "\u001b[1m305/309\u001b[0m \u001b[32m━━━━━━━━━━━━━━━━━━━\u001b[0m\u001b[37m━\u001b[0m \u001b[1m0s\u001b[0m 2ms/step - acc: 0.8063 - auc: 0.7895 - loss: 0.4883\n",
      "Epoch 33: val_loss did not improve from 0.58118\n",
      "\u001b[1m309/309\u001b[0m \u001b[32m━━━━━━━━━━━━━━━━━━━━\u001b[0m\u001b[37m\u001b[0m \u001b[1m1s\u001b[0m 3ms/step - acc: 0.8061 - auc: 0.7895 - loss: 0.4883 - val_acc: 0.6709 - val_auc: 0.5732 - val_loss: 0.6420\n",
      "Epoch 34/100\n",
      "\u001b[1m300/309\u001b[0m \u001b[32m━━━━━━━━━━━━━━━━━━━\u001b[0m\u001b[37m━\u001b[0m \u001b[1m0s\u001b[0m 2ms/step - acc: 0.7925 - auc: 0.8179 - loss: 0.4749\n",
      "Epoch 34: val_loss did not improve from 0.58118\n",
      "\u001b[1m309/309\u001b[0m \u001b[32m━━━━━━━━━━━━━━━━━━━━\u001b[0m\u001b[37m\u001b[0m \u001b[1m1s\u001b[0m 2ms/step - acc: 0.7927 - auc: 0.8175 - loss: 0.4749 - val_acc: 0.6709 - val_auc: 0.5732 - val_loss: 0.6462\n",
      "Epoch 35/100\n",
      "\u001b[1m293/309\u001b[0m \u001b[32m━━━━━━━━━━━━━━━━━━\u001b[0m\u001b[37m━━\u001b[0m \u001b[1m0s\u001b[0m 2ms/step - acc: 0.8219 - auc: 0.8118 - loss: 0.4668\n",
      "Epoch 35: val_loss did not improve from 0.58118\n",
      "\u001b[1m309/309\u001b[0m \u001b[32m━━━━━━━━━━━━━━━━━━━━\u001b[0m\u001b[37m\u001b[0m \u001b[1m1s\u001b[0m 3ms/step - acc: 0.8214 - auc: 0.8116 - loss: 0.4670 - val_acc: 0.6709 - val_auc: 0.5732 - val_loss: 0.6493\n",
      "Epoch 36/100\n",
      "\u001b[1m293/309\u001b[0m \u001b[32m━━━━━━━━━━━━━━━━━━\u001b[0m\u001b[37m━━\u001b[0m \u001b[1m0s\u001b[0m 2ms/step - acc: 0.8091 - auc: 0.7934 - loss: 0.4759\n",
      "Epoch 36: val_loss did not improve from 0.58118\n",
      "\u001b[1m309/309\u001b[0m \u001b[32m━━━━━━━━━━━━━━━━━━━━\u001b[0m\u001b[37m\u001b[0m \u001b[1m1s\u001b[0m 3ms/step - acc: 0.8090 - auc: 0.7941 - loss: 0.4757 - val_acc: 0.6709 - val_auc: 0.5732 - val_loss: 0.6528\n",
      "Epoch 37/100\n",
      "\u001b[1m299/309\u001b[0m \u001b[32m━━━━━━━━━━━━━━━━━━━\u001b[0m\u001b[37m━\u001b[0m \u001b[1m0s\u001b[0m 2ms/step - acc: 0.8137 - auc: 0.7928 - loss: 0.4591\n",
      "Epoch 37: val_loss did not improve from 0.58118\n",
      "\u001b[1m309/309\u001b[0m \u001b[32m━━━━━━━━━━━━━━━━━━━━\u001b[0m\u001b[37m\u001b[0m \u001b[1m1s\u001b[0m 3ms/step - acc: 0.8133 - auc: 0.7936 - loss: 0.4592 - val_acc: 0.6709 - val_auc: 0.5732 - val_loss: 0.6590\n",
      "Epoch 38/100\n",
      "\u001b[1m299/309\u001b[0m \u001b[32m━━━━━━━━━━━━━━━━━━━\u001b[0m\u001b[37m━\u001b[0m \u001b[1m0s\u001b[0m 2ms/step - acc: 0.8200 - auc: 0.8430 - loss: 0.4403\n",
      "Epoch 38: val_loss did not improve from 0.58118\n",
      "\u001b[1m309/309\u001b[0m \u001b[32m━━━━━━━━━━━━━━━━━━━━\u001b[0m\u001b[37m\u001b[0m \u001b[1m1s\u001b[0m 2ms/step - acc: 0.8198 - auc: 0.8423 - loss: 0.4407 - val_acc: 0.6709 - val_auc: 0.5732 - val_loss: 0.6635\n",
      "Epoch 39/100\n",
      "\u001b[1m304/309\u001b[0m \u001b[32m━━━━━━━━━━━━━━━━━━━\u001b[0m\u001b[37m━\u001b[0m \u001b[1m0s\u001b[0m 2ms/step - acc: 0.8148 - auc: 0.8253 - loss: 0.4481\n",
      "Epoch 39: val_loss did not improve from 0.58118\n",
      "\u001b[1m309/309\u001b[0m \u001b[32m━━━━━━━━━━━━━━━━━━━━\u001b[0m\u001b[37m\u001b[0m \u001b[1m1s\u001b[0m 2ms/step - acc: 0.8145 - auc: 0.8254 - loss: 0.4482 - val_acc: 0.6709 - val_auc: 0.5732 - val_loss: 0.6679\n",
      "Epoch 40/100\n",
      "\u001b[1m295/309\u001b[0m \u001b[32m━━━━━━━━━━━━━━━━━━━\u001b[0m\u001b[37m━\u001b[0m \u001b[1m0s\u001b[0m 2ms/step - acc: 0.8241 - auc: 0.8077 - loss: 0.4483\n",
      "Epoch 40: val_loss did not improve from 0.58118\n",
      "\u001b[1m309/309\u001b[0m \u001b[32m━━━━━━━━━━━━━━━━━━━━\u001b[0m\u001b[37m\u001b[0m \u001b[1m1s\u001b[0m 2ms/step - acc: 0.8234 - auc: 0.8080 - loss: 0.4487 - val_acc: 0.6709 - val_auc: 0.5732 - val_loss: 0.6726\n",
      "Epoch 41/100\n",
      "\u001b[1m296/309\u001b[0m \u001b[32m━━━━━━━━━━━━━━━━━━━\u001b[0m\u001b[37m━\u001b[0m \u001b[1m0s\u001b[0m 2ms/step - acc: 0.7894 - auc: 0.8047 - loss: 0.4698\n",
      "Epoch 41: val_loss did not improve from 0.58118\n",
      "\u001b[1m309/309\u001b[0m \u001b[32m━━━━━━━━━━━━━━━━━━━━\u001b[0m\u001b[37m\u001b[0m \u001b[1m1s\u001b[0m 2ms/step - acc: 0.7897 - auc: 0.8050 - loss: 0.4695 - val_acc: 0.6709 - val_auc: 0.5732 - val_loss: 0.6765\n",
      "Epoch 42/100\n",
      "\u001b[1m294/309\u001b[0m \u001b[32m━━━━━━━━━━━━━━━━━━━\u001b[0m\u001b[37m━\u001b[0m \u001b[1m0s\u001b[0m 2ms/step - acc: 0.8115 - auc: 0.7915 - loss: 0.4563\n",
      "Epoch 42: val_loss did not improve from 0.58118\n",
      "\u001b[1m309/309\u001b[0m \u001b[32m━━━━━━━━━━━━━━━━━━━━\u001b[0m\u001b[37m\u001b[0m \u001b[1m1s\u001b[0m 3ms/step - acc: 0.8118 - auc: 0.7920 - loss: 0.4558 - val_acc: 0.6709 - val_auc: 0.5732 - val_loss: 0.6791\n",
      "Epoch 43/100\n",
      "\u001b[1m298/309\u001b[0m \u001b[32m━━━━━━━━━━━━━━━━━━━\u001b[0m\u001b[37m━\u001b[0m \u001b[1m0s\u001b[0m 2ms/step - acc: 0.7746 - auc: 0.7927 - loss: 0.4804\n",
      "Epoch 43: val_loss did not improve from 0.58118\n",
      "\u001b[1m309/309\u001b[0m \u001b[32m━━━━━━━━━━━━━━━━━━━━\u001b[0m\u001b[37m\u001b[0m \u001b[1m1s\u001b[0m 3ms/step - acc: 0.7758 - auc: 0.7939 - loss: 0.4791 - val_acc: 0.6709 - val_auc: 0.5732 - val_loss: 0.6832\n",
      "Epoch 44/100\n",
      "\u001b[1m298/309\u001b[0m \u001b[32m━━━━━━━━━━━━━━━━━━━\u001b[0m\u001b[37m━\u001b[0m \u001b[1m0s\u001b[0m 2ms/step - acc: 0.8234 - auc: 0.8352 - loss: 0.4239\n",
      "Epoch 44: val_loss did not improve from 0.58118\n",
      "\u001b[1m309/309\u001b[0m \u001b[32m━━━━━━━━━━━━━━━━━━━━\u001b[0m\u001b[37m\u001b[0m \u001b[1m1s\u001b[0m 3ms/step - acc: 0.8232 - auc: 0.8345 - loss: 0.4243 - val_acc: 0.6709 - val_auc: 0.2866 - val_loss: 0.6881\n",
      "Epoch 45/100\n",
      "\u001b[1m297/309\u001b[0m \u001b[32m━━━━━━━━━━━━━━━━━━━\u001b[0m\u001b[37m━\u001b[0m \u001b[1m0s\u001b[0m 2ms/step - acc: 0.8038 - auc: 0.7779 - loss: 0.4665\n",
      "Epoch 45: val_loss did not improve from 0.58118\n",
      "\u001b[1m309/309\u001b[0m \u001b[32m━━━━━━━━━━━━━━━━━━━━\u001b[0m\u001b[37m\u001b[0m \u001b[1m1s\u001b[0m 3ms/step - acc: 0.8038 - auc: 0.7791 - loss: 0.4659 - val_acc: 0.6709 - val_auc: 0.0000e+00 - val_loss: 0.6939\n",
      "Epoch 46/100\n",
      "\u001b[1m307/309\u001b[0m \u001b[32m━━━━━━━━━━━━━━━━━━━\u001b[0m\u001b[37m━\u001b[0m \u001b[1m0s\u001b[0m 2ms/step - acc: 0.8320 - auc: 0.8256 - loss: 0.4178\n",
      "Epoch 46: val_loss did not improve from 0.58118\n",
      "\u001b[1m309/309\u001b[0m \u001b[32m━━━━━━━━━━━━━━━━━━━━\u001b[0m\u001b[37m\u001b[0m \u001b[1m1s\u001b[0m 3ms/step - acc: 0.8318 - auc: 0.8257 - loss: 0.4179 - val_acc: 0.6709 - val_auc: 0.0000e+00 - val_loss: 0.6984\n",
      "Epoch 47/100\n",
      "\u001b[1m284/309\u001b[0m \u001b[32m━━━━━━━━━━━━━━━━━━\u001b[0m\u001b[37m━━\u001b[0m \u001b[1m0s\u001b[0m 2ms/step - acc: 0.7887 - auc: 0.7816 - loss: 0.4714\n",
      "Epoch 47: val_loss did not improve from 0.58118\n",
      "\u001b[1m309/309\u001b[0m \u001b[32m━━━━━━━━━━━━━━━━━━━━\u001b[0m\u001b[37m\u001b[0m \u001b[1m1s\u001b[0m 3ms/step - acc: 0.7904 - auc: 0.7855 - loss: 0.4688 - val_acc: 0.6709 - val_auc: 0.0000e+00 - val_loss: 0.7032\n",
      "Epoch 48/100\n",
      "\u001b[1m309/309\u001b[0m \u001b[32m━━━━━━━━━━━━━━━━━━━━\u001b[0m\u001b[37m\u001b[0m \u001b[1m0s\u001b[0m 2ms/step - acc: 0.7963 - auc: 0.8017 - loss: 0.4604\n",
      "Epoch 48: val_loss did not improve from 0.58118\n",
      "\u001b[1m309/309\u001b[0m \u001b[32m━━━━━━━━━━━━━━━━━━━━\u001b[0m\u001b[37m\u001b[0m \u001b[1m1s\u001b[0m 3ms/step - acc: 0.7963 - auc: 0.8017 - loss: 0.4603 - val_acc: 0.6709 - val_auc: 0.0000e+00 - val_loss: 0.7068\n",
      "Epoch 49/100\n",
      "\u001b[1m292/309\u001b[0m \u001b[32m━━━━━━━━━━━━━━━━━━\u001b[0m\u001b[37m━━\u001b[0m \u001b[1m0s\u001b[0m 2ms/step - acc: 0.8234 - auc: 0.8509 - loss: 0.4191\n",
      "Epoch 49: val_loss did not improve from 0.58118\n",
      "\u001b[1m309/309\u001b[0m \u001b[32m━━━━━━━━━━━━━━━━━━━━\u001b[0m\u001b[37m\u001b[0m \u001b[1m1s\u001b[0m 3ms/step - acc: 0.8229 - auc: 0.8504 - loss: 0.4196 - val_acc: 0.6709 - val_auc: 0.0000e+00 - val_loss: 0.7126\n",
      "Epoch 50/100\n",
      "\u001b[1m292/309\u001b[0m \u001b[32m━━━━━━━━━━━━━━━━━━\u001b[0m\u001b[37m━━\u001b[0m \u001b[1m0s\u001b[0m 2ms/step - acc: 0.8012 - auc: 0.8516 - loss: 0.4302\n",
      "Epoch 50: val_loss did not improve from 0.58118\n",
      "\u001b[1m309/309\u001b[0m \u001b[32m━━━━━━━━━━━━━━━━━━━━\u001b[0m\u001b[37m\u001b[0m \u001b[1m1s\u001b[0m 3ms/step - acc: 0.8015 - auc: 0.8514 - loss: 0.4300 - val_acc: 0.6709 - val_auc: 0.0000e+00 - val_loss: 0.7181\n",
      "Epoch 51/100\n",
      "\u001b[1m293/309\u001b[0m \u001b[32m━━━━━━━━━━━━━━━━━━\u001b[0m\u001b[37m━━\u001b[0m \u001b[1m0s\u001b[0m 2ms/step - acc: 0.8314 - auc: 0.8229 - loss: 0.4281\n",
      "Epoch 51: val_loss did not improve from 0.58118\n",
      "\u001b[1m309/309\u001b[0m \u001b[32m━━━━━━━━━━━━━━━━━━━━\u001b[0m\u001b[37m\u001b[0m \u001b[1m1s\u001b[0m 3ms/step - acc: 0.8318 - auc: 0.8232 - loss: 0.4278 - val_acc: 0.6709 - val_auc: 0.0000e+00 - val_loss: 0.7188\n",
      "Epoch 52/100\n",
      "\u001b[1m293/309\u001b[0m \u001b[32m━━━━━━━━━━━━━━━━━━\u001b[0m\u001b[37m━━\u001b[0m \u001b[1m0s\u001b[0m 2ms/step - acc: 0.8474 - auc: 0.8614 - loss: 0.3983\n",
      "Epoch 52: val_loss did not improve from 0.58118\n",
      "\u001b[1m309/309\u001b[0m \u001b[32m━━━━━━━━━━━━━━━━━━━━\u001b[0m\u001b[37m\u001b[0m \u001b[1m1s\u001b[0m 3ms/step - acc: 0.8463 - auc: 0.8601 - loss: 0.3995 - val_acc: 0.6709 - val_auc: 0.0000e+00 - val_loss: 0.7253\n",
      "Epoch 53/100\n",
      "\u001b[1m298/309\u001b[0m \u001b[32m━━━━━━━━━━━━━━━━━━━\u001b[0m\u001b[37m━\u001b[0m \u001b[1m0s\u001b[0m 2ms/step - acc: 0.8098 - auc: 0.8674 - loss: 0.4155\n",
      "Epoch 53: val_loss did not improve from 0.58118\n",
      "\u001b[1m309/309\u001b[0m \u001b[32m━━━━━━━━━━━━━━━━━━━━\u001b[0m\u001b[37m\u001b[0m \u001b[1m1s\u001b[0m 2ms/step - acc: 0.8095 - auc: 0.8667 - loss: 0.4161 - val_acc: 0.6709 - val_auc: 0.0000e+00 - val_loss: 0.7296\n",
      "Epoch 54/100\n",
      "\u001b[1m295/309\u001b[0m \u001b[32m━━━━━━━━━━━━━━━━━━━\u001b[0m\u001b[37m━\u001b[0m \u001b[1m0s\u001b[0m 2ms/step - acc: 0.7946 - auc: 0.8128 - loss: 0.4555\n",
      "Epoch 54: val_loss did not improve from 0.58118\n",
      "\u001b[1m309/309\u001b[0m \u001b[32m━━━━━━━━━━━━━━━━━━━━\u001b[0m\u001b[37m\u001b[0m \u001b[1m1s\u001b[0m 3ms/step - acc: 0.7954 - auc: 0.8139 - loss: 0.4545 - val_acc: 0.6709 - val_auc: 0.0000e+00 - val_loss: 0.7332\n",
      "Epoch 55/100\n",
      "\u001b[1m300/309\u001b[0m \u001b[32m━━━━━━━━━━━━━━━━━━━\u001b[0m\u001b[37m━\u001b[0m \u001b[1m0s\u001b[0m 2ms/step - acc: 0.8003 - auc: 0.8189 - loss: 0.4395\n",
      "Epoch 55: val_loss did not improve from 0.58118\n",
      "\u001b[1m309/309\u001b[0m \u001b[32m━━━━━━━━━━━━━━━━━━━━\u001b[0m\u001b[37m\u001b[0m \u001b[1m1s\u001b[0m 2ms/step - acc: 0.8007 - auc: 0.8197 - loss: 0.4390 - val_acc: 0.6709 - val_auc: 0.0000e+00 - val_loss: 0.7360\n",
      "Epoch 56/100\n",
      "\u001b[1m292/309\u001b[0m \u001b[32m━━━━━━━━━━━━━━━━━━\u001b[0m\u001b[37m━━\u001b[0m \u001b[1m0s\u001b[0m 2ms/step - acc: 0.8026 - auc: 0.8218 - loss: 0.4470\n",
      "Epoch 56: val_loss did not improve from 0.58118\n",
      "\u001b[1m309/309\u001b[0m \u001b[32m━━━━━━━━━━━━━━━━━━━━\u001b[0m\u001b[37m\u001b[0m \u001b[1m1s\u001b[0m 3ms/step - acc: 0.8032 - auc: 0.8239 - loss: 0.4456 - val_acc: 0.6709 - val_auc: 0.0000e+00 - val_loss: 0.7384\n",
      "Epoch 57/100\n",
      "\u001b[1m293/309\u001b[0m \u001b[32m━━━━━━━━━━━━━━━━━━\u001b[0m\u001b[37m━━\u001b[0m \u001b[1m0s\u001b[0m 2ms/step - acc: 0.8174 - auc: 0.8311 - loss: 0.4327\n",
      "Epoch 57: val_loss did not improve from 0.58118\n",
      "\u001b[1m309/309\u001b[0m \u001b[32m━━━━━━━━━━━━━━━━━━━━\u001b[0m\u001b[37m\u001b[0m \u001b[1m1s\u001b[0m 3ms/step - acc: 0.8174 - auc: 0.8313 - loss: 0.4322 - val_acc: 0.6709 - val_auc: 0.0000e+00 - val_loss: 0.7388\n",
      "Epoch 58/100\n",
      "\u001b[1m295/309\u001b[0m \u001b[32m━━━━━━━━━━━━━━━━━━━\u001b[0m\u001b[37m━\u001b[0m \u001b[1m0s\u001b[0m 2ms/step - acc: 0.8282 - auc: 0.8415 - loss: 0.4120\n",
      "Epoch 58: val_loss did not improve from 0.58118\n",
      "\u001b[1m309/309\u001b[0m \u001b[32m━━━━━━━━━━━━━━━━━━━━\u001b[0m\u001b[37m\u001b[0m \u001b[1m1s\u001b[0m 2ms/step - acc: 0.8279 - auc: 0.8422 - loss: 0.4120 - val_acc: 0.6709 - val_auc: 0.0000e+00 - val_loss: 0.7440\n",
      "Epoch 59/100\n",
      "\u001b[1m291/309\u001b[0m \u001b[32m━━━━━━━━━━━━━━━━━━\u001b[0m\u001b[37m━━\u001b[0m \u001b[1m0s\u001b[0m 2ms/step - acc: 0.8398 - auc: 0.8653 - loss: 0.3912\n",
      "Epoch 59: val_loss did not improve from 0.58118\n",
      "\u001b[1m309/309\u001b[0m \u001b[32m━━━━━━━━━━━━━━━━━━━━\u001b[0m\u001b[37m\u001b[0m \u001b[1m1s\u001b[0m 3ms/step - acc: 0.8386 - auc: 0.8636 - loss: 0.3928 - val_acc: 0.6709 - val_auc: 0.0000e+00 - val_loss: 0.7469\n",
      "Epoch 60/100\n",
      "\u001b[1m297/309\u001b[0m \u001b[32m━━━━━━━━━━━━━━━━━━━\u001b[0m\u001b[37m━\u001b[0m \u001b[1m0s\u001b[0m 2ms/step - acc: 0.8391 - auc: 0.8593 - loss: 0.4004\n",
      "Epoch 60: val_loss did not improve from 0.58118\n",
      "\u001b[1m309/309\u001b[0m \u001b[32m━━━━━━━━━━━━━━━━━━━━\u001b[0m\u001b[37m\u001b[0m \u001b[1m1s\u001b[0m 2ms/step - acc: 0.8388 - auc: 0.8595 - loss: 0.4006 - val_acc: 0.6709 - val_auc: 0.0000e+00 - val_loss: 0.7518\n",
      "Epoch 61/100\n",
      "\u001b[1m289/309\u001b[0m \u001b[32m━━━━━━━━━━━━━━━━━━\u001b[0m\u001b[37m━━\u001b[0m \u001b[1m0s\u001b[0m 2ms/step - acc: 0.8339 - auc: 0.8567 - loss: 0.4038\n",
      "Epoch 61: val_loss did not improve from 0.58118\n",
      "\u001b[1m309/309\u001b[0m \u001b[32m━━━━━━━━━━━━━━━━━━━━\u001b[0m\u001b[37m\u001b[0m \u001b[1m1s\u001b[0m 3ms/step - acc: 0.8334 - auc: 0.8570 - loss: 0.4042 - val_acc: 0.6709 - val_auc: 0.0000e+00 - val_loss: 0.7555\n",
      "Epoch 62/100\n",
      "\u001b[1m291/309\u001b[0m \u001b[32m━━━━━━━━━━━━━━━━━━\u001b[0m\u001b[37m━━\u001b[0m \u001b[1m0s\u001b[0m 2ms/step - acc: 0.8331 - auc: 0.8434 - loss: 0.4081\n",
      "Epoch 62: val_loss did not improve from 0.58118\n",
      "\u001b[1m309/309\u001b[0m \u001b[32m━━━━━━━━━━━━━━━━━━━━\u001b[0m\u001b[37m\u001b[0m \u001b[1m1s\u001b[0m 3ms/step - acc: 0.8325 - auc: 0.8438 - loss: 0.4082 - val_acc: 0.6709 - val_auc: 0.0000e+00 - val_loss: 0.7583\n",
      "Epoch 63/100\n",
      "\u001b[1m306/309\u001b[0m \u001b[32m━━━━━━━━━━━━━━━━━━━\u001b[0m\u001b[37m━\u001b[0m \u001b[1m0s\u001b[0m 2ms/step - acc: 0.8094 - auc: 0.8659 - loss: 0.4086\n",
      "Epoch 63: val_loss did not improve from 0.58118\n",
      "\u001b[1m309/309\u001b[0m \u001b[32m━━━━━━━━━━━━━━━━━━━━\u001b[0m\u001b[37m\u001b[0m \u001b[1m1s\u001b[0m 3ms/step - acc: 0.8095 - auc: 0.8658 - loss: 0.4086 - val_acc: 0.6709 - val_auc: 0.0000e+00 - val_loss: 0.7610\n",
      "Epoch 64/100\n",
      "\u001b[1m294/309\u001b[0m \u001b[32m━━━━━━━━━━━━━━━━━━━\u001b[0m\u001b[37m━\u001b[0m \u001b[1m0s\u001b[0m 2ms/step - acc: 0.8237 - auc: 0.8713 - loss: 0.3972\n",
      "Epoch 64: val_loss did not improve from 0.58118\n",
      "\u001b[1m309/309\u001b[0m \u001b[32m━━━━━━━━━━━━━━━━━━━━\u001b[0m\u001b[37m\u001b[0m \u001b[1m1s\u001b[0m 3ms/step - acc: 0.8238 - auc: 0.8710 - loss: 0.3974 - val_acc: 0.6709 - val_auc: 0.0000e+00 - val_loss: 0.7647\n",
      "Epoch 65/100\n",
      "\u001b[1m293/309\u001b[0m \u001b[32m━━━━━━━━━━━━━━━━━━\u001b[0m\u001b[37m━━\u001b[0m \u001b[1m0s\u001b[0m 2ms/step - acc: 0.8165 - auc: 0.8742 - loss: 0.4000\n",
      "Epoch 65: val_loss did not improve from 0.58118\n",
      "\u001b[1m309/309\u001b[0m \u001b[32m━━━━━━━━━━━━━━━━━━━━\u001b[0m\u001b[37m\u001b[0m \u001b[1m1s\u001b[0m 3ms/step - acc: 0.8169 - auc: 0.8740 - loss: 0.3999 - val_acc: 0.6709 - val_auc: 0.0000e+00 - val_loss: 0.7679\n",
      "Epoch 66/100\n",
      "\u001b[1m296/309\u001b[0m \u001b[32m━━━━━━━━━━━━━━━━━━━\u001b[0m\u001b[37m━\u001b[0m \u001b[1m0s\u001b[0m 2ms/step - acc: 0.8046 - auc: 0.8565 - loss: 0.4128\n",
      "Epoch 66: val_loss did not improve from 0.58118\n",
      "\u001b[1m309/309\u001b[0m \u001b[32m━━━━━━━━━━━━━━━━━━━━\u001b[0m\u001b[37m\u001b[0m \u001b[1m1s\u001b[0m 3ms/step - acc: 0.8044 - auc: 0.8566 - loss: 0.4131 - val_acc: 0.6709 - val_auc: 0.0000e+00 - val_loss: 0.7726\n",
      "Epoch 67/100\n",
      "\u001b[1m293/309\u001b[0m \u001b[32m━━━━━━━━━━━━━━━━━━\u001b[0m\u001b[37m━━\u001b[0m \u001b[1m0s\u001b[0m 2ms/step - acc: 0.8346 - auc: 0.8952 - loss: 0.3786\n",
      "Epoch 67: val_loss did not improve from 0.58118\n",
      "\u001b[1m309/309\u001b[0m \u001b[32m━━━━━━━━━━━━━━━━━━━━\u001b[0m\u001b[37m\u001b[0m \u001b[1m1s\u001b[0m 3ms/step - acc: 0.8338 - auc: 0.8940 - loss: 0.3797 - val_acc: 0.6709 - val_auc: 0.0000e+00 - val_loss: 0.7762\n",
      "Epoch 68/100\n",
      "\u001b[1m299/309\u001b[0m \u001b[32m━━━━━━━━━━━━━━━━━━━\u001b[0m\u001b[37m━\u001b[0m \u001b[1m0s\u001b[0m 2ms/step - acc: 0.8352 - auc: 0.8908 - loss: 0.3782\n",
      "Epoch 68: val_loss did not improve from 0.58118\n",
      "\u001b[1m309/309\u001b[0m \u001b[32m━━━━━━━━━━━━━━━━━━━━\u001b[0m\u001b[37m\u001b[0m \u001b[1m1s\u001b[0m 2ms/step - acc: 0.8347 - auc: 0.8899 - loss: 0.3791 - val_acc: 0.6709 - val_auc: 0.0000e+00 - val_loss: 0.7770\n",
      "Epoch 69/100\n",
      "\u001b[1m297/309\u001b[0m \u001b[32m━━━━━━━━━━━━━━━━━━━\u001b[0m\u001b[37m━\u001b[0m \u001b[1m0s\u001b[0m 2ms/step - acc: 0.8266 - auc: 0.8745 - loss: 0.3919\n",
      "Epoch 69: val_loss did not improve from 0.58118\n",
      "\u001b[1m309/309\u001b[0m \u001b[32m━━━━━━━━━━━━━━━━━━━━\u001b[0m\u001b[37m\u001b[0m \u001b[1m1s\u001b[0m 2ms/step - acc: 0.8266 - auc: 0.8745 - loss: 0.3918 - val_acc: 0.6709 - val_auc: 0.0000e+00 - val_loss: 0.7813\n",
      "Epoch 70/100\n",
      "\u001b[1m296/309\u001b[0m \u001b[32m━━━━━━━━━━━━━━━━━━━\u001b[0m\u001b[37m━\u001b[0m \u001b[1m0s\u001b[0m 2ms/step - acc: 0.8404 - auc: 0.8913 - loss: 0.3731\n",
      "Epoch 70: val_loss did not improve from 0.58118\n",
      "\u001b[1m309/309\u001b[0m \u001b[32m━━━━━━━━━━━━━━━━━━━━\u001b[0m\u001b[37m\u001b[0m \u001b[1m1s\u001b[0m 3ms/step - acc: 0.8394 - auc: 0.8907 - loss: 0.3742 - val_acc: 0.6709 - val_auc: 0.0000e+00 - val_loss: 0.7865\n",
      "Epoch 71/100\n",
      "\u001b[1m300/309\u001b[0m \u001b[32m━━━━━━━━━━━━━━━━━━━\u001b[0m\u001b[37m━\u001b[0m \u001b[1m0s\u001b[0m 2ms/step - acc: 0.8347 - auc: 0.8864 - loss: 0.3858\n",
      "Epoch 71: val_loss did not improve from 0.58118\n",
      "\u001b[1m309/309\u001b[0m \u001b[32m━━━━━━━━━━━━━━━━━━━━\u001b[0m\u001b[37m\u001b[0m \u001b[1m1s\u001b[0m 2ms/step - acc: 0.8341 - auc: 0.8863 - loss: 0.3862 - val_acc: 0.6709 - val_auc: 0.0000e+00 - val_loss: 0.7908\n",
      "Epoch 72/100\n",
      "\u001b[1m287/309\u001b[0m \u001b[32m━━━━━━━━━━━━━━━━━━\u001b[0m\u001b[37m━━\u001b[0m \u001b[1m0s\u001b[0m 2ms/step - acc: 0.8042 - auc: 0.8526 - loss: 0.4082\n",
      "Epoch 72: val_loss did not improve from 0.58118\n",
      "\u001b[1m309/309\u001b[0m \u001b[32m━━━━━━━━━━━━━━━━━━━━\u001b[0m\u001b[37m\u001b[0m \u001b[1m1s\u001b[0m 3ms/step - acc: 0.8056 - auc: 0.8532 - loss: 0.4076 - val_acc: 0.6709 - val_auc: 0.0000e+00 - val_loss: 0.7915\n",
      "Epoch 73/100\n",
      "\u001b[1m296/309\u001b[0m \u001b[32m━━━━━━━━━━━━━━━━━━━\u001b[0m\u001b[37m━\u001b[0m \u001b[1m0s\u001b[0m 2ms/step - acc: 0.8335 - auc: 0.8859 - loss: 0.3818\n",
      "Epoch 73: val_loss did not improve from 0.58118\n",
      "\u001b[1m309/309\u001b[0m \u001b[32m━━━━━━━━━━━━━━━━━━━━\u001b[0m\u001b[37m\u001b[0m \u001b[1m1s\u001b[0m 3ms/step - acc: 0.8333 - auc: 0.8861 - loss: 0.3816 - val_acc: 0.6709 - val_auc: 0.0000e+00 - val_loss: 0.7944\n",
      "Epoch 74/100\n",
      "\u001b[1m292/309\u001b[0m \u001b[32m━━━━━━━━━━━━━━━━━━\u001b[0m\u001b[37m━━\u001b[0m \u001b[1m0s\u001b[0m 2ms/step - acc: 0.8315 - auc: 0.8832 - loss: 0.3787\n",
      "Epoch 74: val_loss did not improve from 0.58118\n",
      "\u001b[1m309/309\u001b[0m \u001b[32m━━━━━━━━━━━━━━━━━━━━\u001b[0m\u001b[37m\u001b[0m \u001b[1m1s\u001b[0m 3ms/step - acc: 0.8315 - auc: 0.8837 - loss: 0.3788 - val_acc: 0.6709 - val_auc: 0.0000e+00 - val_loss: 0.7968\n",
      "Epoch 75/100\n",
      "\u001b[1m289/309\u001b[0m \u001b[32m━━━━━━━━━━━━━━━━━━\u001b[0m\u001b[37m━━\u001b[0m \u001b[1m0s\u001b[0m 2ms/step - acc: 0.8100 - auc: 0.8547 - loss: 0.4133\n",
      "Epoch 75: val_loss did not improve from 0.58118\n",
      "\u001b[1m309/309\u001b[0m \u001b[32m━━━━━━━━━━━━━━━━━━━━\u001b[0m\u001b[37m\u001b[0m \u001b[1m1s\u001b[0m 3ms/step - acc: 0.8109 - auc: 0.8563 - loss: 0.4117 - val_acc: 0.6709 - val_auc: 0.0000e+00 - val_loss: 0.7937\n",
      "Epoch 76/100\n",
      "\u001b[1m286/309\u001b[0m \u001b[32m━━━━━━━━━━━━━━━━━━\u001b[0m\u001b[37m━━\u001b[0m \u001b[1m0s\u001b[0m 2ms/step - acc: 0.8000 - auc: 0.8841 - loss: 0.4059\n",
      "Epoch 76: val_loss did not improve from 0.58118\n",
      "\u001b[1m309/309\u001b[0m \u001b[32m━━━━━━━━━━━━━━━━━━━━\u001b[0m\u001b[37m\u001b[0m \u001b[1m1s\u001b[0m 3ms/step - acc: 0.8004 - auc: 0.8838 - loss: 0.4055 - val_acc: 0.6709 - val_auc: 0.0000e+00 - val_loss: 0.7947\n",
      "Epoch 77/100\n",
      "\u001b[1m287/309\u001b[0m \u001b[32m━━━━━━━━━━━━━━━━━━\u001b[0m\u001b[37m━━\u001b[0m \u001b[1m0s\u001b[0m 2ms/step - acc: 0.8174 - auc: 0.8987 - loss: 0.3779\n",
      "Epoch 77: val_loss did not improve from 0.58118\n",
      "\u001b[1m309/309\u001b[0m \u001b[32m━━━━━━━━━━━━━━━━━━━━\u001b[0m\u001b[37m\u001b[0m \u001b[1m1s\u001b[0m 3ms/step - acc: 0.8179 - auc: 0.8976 - loss: 0.3783 - val_acc: 0.6709 - val_auc: 0.0000e+00 - val_loss: 0.7976\n",
      "Epoch 78/100\n",
      "\u001b[1m304/309\u001b[0m \u001b[32m━━━━━━━━━━━━━━━━━━━\u001b[0m\u001b[37m━\u001b[0m \u001b[1m0s\u001b[0m 2ms/step - acc: 0.8325 - auc: 0.9000 - loss: 0.3627\n",
      "Epoch 78: val_loss did not improve from 0.58118\n",
      "\u001b[1m309/309\u001b[0m \u001b[32m━━━━━━━━━━━━━━━━━━━━\u001b[0m\u001b[37m\u001b[0m \u001b[1m1s\u001b[0m 3ms/step - acc: 0.8325 - auc: 0.8999 - loss: 0.3628 - val_acc: 0.6709 - val_auc: 0.0000e+00 - val_loss: 0.8014\n",
      "Epoch 79/100\n",
      "\u001b[1m290/309\u001b[0m \u001b[32m━━━━━━━━━━━━━━━━━━\u001b[0m\u001b[37m━━\u001b[0m \u001b[1m0s\u001b[0m 2ms/step - acc: 0.8046 - auc: 0.8706 - loss: 0.4021\n",
      "Epoch 79: val_loss did not improve from 0.58118\n",
      "\u001b[1m309/309\u001b[0m \u001b[32m━━━━━━━━━━━━━━━━━━━━\u001b[0m\u001b[37m\u001b[0m \u001b[1m1s\u001b[0m 3ms/step - acc: 0.8059 - auc: 0.8724 - loss: 0.4002 - val_acc: 0.6709 - val_auc: 0.0000e+00 - val_loss: 0.8035\n",
      "Epoch 80/100\n",
      "\u001b[1m296/309\u001b[0m \u001b[32m━━━━━━━━━━━━━━━━━━━\u001b[0m\u001b[37m━\u001b[0m \u001b[1m0s\u001b[0m 2ms/step - acc: 0.8306 - auc: 0.8780 - loss: 0.3756\n",
      "Epoch 80: val_loss did not improve from 0.58118\n",
      "\u001b[1m309/309\u001b[0m \u001b[32m━━━━━━━━━━━━━━━━━━━━\u001b[0m\u001b[37m\u001b[0m \u001b[1m1s\u001b[0m 3ms/step - acc: 0.8302 - auc: 0.8788 - loss: 0.3754 - val_acc: 0.6709 - val_auc: 0.0000e+00 - val_loss: 0.8063\n",
      "Epoch 81/100\n",
      "\u001b[1m293/309\u001b[0m \u001b[32m━━━━━━━━━━━━━━━━━━\u001b[0m\u001b[37m━━\u001b[0m \u001b[1m0s\u001b[0m 2ms/step - acc: 0.8122 - auc: 0.8772 - loss: 0.3924\n",
      "Epoch 81: val_loss did not improve from 0.58118\n",
      "\u001b[1m309/309\u001b[0m \u001b[32m━━━━━━━━━━━━━━━━━━━━\u001b[0m\u001b[37m\u001b[0m \u001b[1m1s\u001b[0m 3ms/step - acc: 0.8126 - auc: 0.8783 - loss: 0.3913 - val_acc: 0.6709 - val_auc: 0.0000e+00 - val_loss: 0.8095\n",
      "Epoch 82/100\n",
      "\u001b[1m297/309\u001b[0m \u001b[32m━━━━━━━━━━━━━━━━━━━\u001b[0m\u001b[37m━\u001b[0m \u001b[1m0s\u001b[0m 2ms/step - acc: 0.8344 - auc: 0.9066 - loss: 0.3638\n",
      "Epoch 82: val_loss did not improve from 0.58118\n",
      "\u001b[1m309/309\u001b[0m \u001b[32m━━━━━━━━━━━━━━━━━━━━\u001b[0m\u001b[37m\u001b[0m \u001b[1m1s\u001b[0m 3ms/step - acc: 0.8339 - auc: 0.9065 - loss: 0.3640 - val_acc: 0.6709 - val_auc: 0.0000e+00 - val_loss: 0.8132\n",
      "Epoch 83/100\n",
      "\u001b[1m295/309\u001b[0m \u001b[32m━━━━━━━━━━━━━━━━━━━\u001b[0m\u001b[37m━\u001b[0m \u001b[1m0s\u001b[0m 2ms/step - acc: 0.8412 - auc: 0.9077 - loss: 0.3462\n",
      "Epoch 83: val_loss did not improve from 0.58118\n",
      "\u001b[1m309/309\u001b[0m \u001b[32m━━━━━━━━━━━━━━━━━━━━\u001b[0m\u001b[37m\u001b[0m \u001b[1m1s\u001b[0m 3ms/step - acc: 0.8406 - auc: 0.9077 - loss: 0.3467 - val_acc: 0.6709 - val_auc: 0.0000e+00 - val_loss: 0.8216\n",
      "Epoch 84/100\n",
      "\u001b[1m294/309\u001b[0m \u001b[32m━━━━━━━━━━━━━━━━━━━\u001b[0m\u001b[37m━\u001b[0m \u001b[1m0s\u001b[0m 2ms/step - acc: 0.7981 - auc: 0.9004 - loss: 0.3875\n",
      "Epoch 84: val_loss did not improve from 0.58118\n",
      "\u001b[1m309/309\u001b[0m \u001b[32m━━━━━━━━━━━━━━━━━━━━\u001b[0m\u001b[37m\u001b[0m \u001b[1m1s\u001b[0m 3ms/step - acc: 0.7990 - auc: 0.9005 - loss: 0.3867 - val_acc: 0.6709 - val_auc: 0.0000e+00 - val_loss: 0.8271\n",
      "Epoch 85/100\n",
      "\u001b[1m291/309\u001b[0m \u001b[32m━━━━━━━━━━━━━━━━━━\u001b[0m\u001b[37m━━\u001b[0m \u001b[1m0s\u001b[0m 2ms/step - acc: 0.8213 - auc: 0.8953 - loss: 0.3726\n",
      "Epoch 85: val_loss did not improve from 0.58118\n",
      "\u001b[1m309/309\u001b[0m \u001b[32m━━━━━━━━━━━━━━━━━━━━\u001b[0m\u001b[37m\u001b[0m \u001b[1m1s\u001b[0m 3ms/step - acc: 0.8218 - auc: 0.8963 - loss: 0.3716 - val_acc: 0.6709 - val_auc: 0.0000e+00 - val_loss: 0.8338\n",
      "Epoch 86/100\n",
      "\u001b[1m293/309\u001b[0m \u001b[32m━━━━━━━━━━━━━━━━━━\u001b[0m\u001b[37m━━\u001b[0m \u001b[1m0s\u001b[0m 2ms/step - acc: 0.8342 - auc: 0.9127 - loss: 0.3495\n",
      "Epoch 86: val_loss did not improve from 0.58118\n",
      "\u001b[1m309/309\u001b[0m \u001b[32m━━━━━━━━━━━━━━━━━━━━\u001b[0m\u001b[37m\u001b[0m \u001b[1m1s\u001b[0m 3ms/step - acc: 0.8340 - auc: 0.9126 - loss: 0.3496 - val_acc: 0.6709 - val_auc: 0.0000e+00 - val_loss: 0.8390\n",
      "Epoch 87/100\n",
      "\u001b[1m295/309\u001b[0m \u001b[32m━━━━━━━━━━━━━━━━━━━\u001b[0m\u001b[37m━\u001b[0m \u001b[1m0s\u001b[0m 2ms/step - acc: 0.8335 - auc: 0.9031 - loss: 0.3616\n",
      "Epoch 87: val_loss did not improve from 0.58118\n",
      "\u001b[1m309/309\u001b[0m \u001b[32m━━━━━━━━━━━━━━━━━━━━\u001b[0m\u001b[37m\u001b[0m \u001b[1m1s\u001b[0m 3ms/step - acc: 0.8333 - auc: 0.9038 - loss: 0.3611 - val_acc: 0.6709 - val_auc: 0.0000e+00 - val_loss: 0.8466\n",
      "Epoch 88/100\n",
      "\u001b[1m295/309\u001b[0m \u001b[32m━━━━━━━━━━━━━━━━━━━\u001b[0m\u001b[37m━\u001b[0m \u001b[1m0s\u001b[0m 2ms/step - acc: 0.7998 - auc: 0.8831 - loss: 0.3871\n",
      "Epoch 88: val_loss did not improve from 0.58118\n",
      "\u001b[1m309/309\u001b[0m \u001b[32m━━━━━━━━━━━━━━━━━━━━\u001b[0m\u001b[37m\u001b[0m \u001b[1m1s\u001b[0m 3ms/step - acc: 0.8012 - auc: 0.8842 - loss: 0.3855 - val_acc: 0.6709 - val_auc: 0.0000e+00 - val_loss: 0.8514\n",
      "Epoch 89/100\n",
      "\u001b[1m288/309\u001b[0m \u001b[32m━━━━━━━━━━━━━━━━━━\u001b[0m\u001b[37m━━\u001b[0m \u001b[1m0s\u001b[0m 2ms/step - acc: 0.8273 - auc: 0.9075 - loss: 0.3488\n",
      "Epoch 89: val_loss did not improve from 0.58118\n",
      "\u001b[1m309/309\u001b[0m \u001b[32m━━━━━━━━━━━━━━━━━━━━\u001b[0m\u001b[37m\u001b[0m \u001b[1m1s\u001b[0m 3ms/step - acc: 0.8278 - auc: 0.9076 - loss: 0.3484 - val_acc: 0.6709 - val_auc: 0.0000e+00 - val_loss: 0.8578\n",
      "Epoch 90/100\n",
      "\u001b[1m295/309\u001b[0m \u001b[32m━━━━━━━━━━━━━━━━━━━\u001b[0m\u001b[37m━\u001b[0m \u001b[1m0s\u001b[0m 2ms/step - acc: 0.8081 - auc: 0.8998 - loss: 0.3698\n",
      "Epoch 90: val_loss did not improve from 0.58118\n",
      "\u001b[1m309/309\u001b[0m \u001b[32m━━━━━━━━━━━━━━━━━━━━\u001b[0m\u001b[37m\u001b[0m \u001b[1m1s\u001b[0m 3ms/step - acc: 0.8082 - auc: 0.9001 - loss: 0.3696 - val_acc: 0.6709 - val_auc: 0.0000e+00 - val_loss: 0.8636\n",
      "Epoch 91/100\n",
      "\u001b[1m288/309\u001b[0m \u001b[32m━━━━━━━━━━━━━━━━━━\u001b[0m\u001b[37m━━\u001b[0m \u001b[1m0s\u001b[0m 2ms/step - acc: 0.8357 - auc: 0.9265 - loss: 0.3366\n",
      "Epoch 91: val_loss did not improve from 0.58118\n",
      "\u001b[1m309/309\u001b[0m \u001b[32m━━━━━━━━━━━━━━━━━━━━\u001b[0m\u001b[37m\u001b[0m \u001b[1m1s\u001b[0m 3ms/step - acc: 0.8362 - auc: 0.9261 - loss: 0.3369 - val_acc: 0.6709 - val_auc: 0.0000e+00 - val_loss: 0.8707\n",
      "Epoch 92/100\n",
      "\u001b[1m308/309\u001b[0m \u001b[32m━━━━━━━━━━━━━━━━━━━\u001b[0m\u001b[37m━\u001b[0m \u001b[1m0s\u001b[0m 2ms/step - acc: 0.8212 - auc: 0.9117 - loss: 0.3475\n",
      "Epoch 92: val_loss did not improve from 0.58118\n",
      "\u001b[1m309/309\u001b[0m \u001b[32m━━━━━━━━━━━━━━━━━━━━\u001b[0m\u001b[37m\u001b[0m \u001b[1m1s\u001b[0m 3ms/step - acc: 0.8213 - auc: 0.9117 - loss: 0.3475 - val_acc: 0.6709 - val_auc: 0.0000e+00 - val_loss: 0.8757\n",
      "Epoch 93/100\n",
      "\u001b[1m301/309\u001b[0m \u001b[32m━━━━━━━━━━━━━━━━━━━\u001b[0m\u001b[37m━\u001b[0m \u001b[1m0s\u001b[0m 2ms/step - acc: 0.8404 - auc: 0.9201 - loss: 0.3302\n",
      "Epoch 93: val_loss did not improve from 0.58118\n",
      "\u001b[1m309/309\u001b[0m \u001b[32m━━━━━━━━━━━━━━━━━━━━\u001b[0m\u001b[37m\u001b[0m \u001b[1m1s\u001b[0m 3ms/step - acc: 0.8401 - auc: 0.9201 - loss: 0.3305 - val_acc: 0.6709 - val_auc: 0.0000e+00 - val_loss: 0.8819\n",
      "Epoch 94/100\n",
      "\u001b[1m294/309\u001b[0m \u001b[32m━━━━━━━━━━━━━━━━━━━\u001b[0m\u001b[37m━\u001b[0m \u001b[1m0s\u001b[0m 2ms/step - acc: 0.8113 - auc: 0.8964 - loss: 0.3648\n",
      "Epoch 94: val_loss did not improve from 0.58118\n",
      "\u001b[1m309/309\u001b[0m \u001b[32m━━━━━━━━━━━━━━━━━━━━\u001b[0m\u001b[37m\u001b[0m \u001b[1m1s\u001b[0m 2ms/step - acc: 0.8123 - auc: 0.8974 - loss: 0.3636 - val_acc: 0.6709 - val_auc: 0.0000e+00 - val_loss: 0.8870\n",
      "Epoch 95/100\n",
      "\u001b[1m291/309\u001b[0m \u001b[32m━━━━━━━━━━━━━━━━━━\u001b[0m\u001b[37m━━\u001b[0m \u001b[1m0s\u001b[0m 2ms/step - acc: 0.8549 - auc: 0.9328 - loss: 0.3168\n",
      "Epoch 95: val_loss did not improve from 0.58118\n",
      "\u001b[1m309/309\u001b[0m \u001b[32m━━━━━━━━━━━━━━━━━━━━\u001b[0m\u001b[37m\u001b[0m \u001b[1m1s\u001b[0m 3ms/step - acc: 0.8534 - auc: 0.9320 - loss: 0.3183 - val_acc: 0.6709 - val_auc: 0.0000e+00 - val_loss: 0.8920\n",
      "Epoch 96/100\n",
      "\u001b[1m291/309\u001b[0m \u001b[32m━━━━━━━━━━━━━━━━━━\u001b[0m\u001b[37m━━\u001b[0m \u001b[1m0s\u001b[0m 2ms/step - acc: 0.8260 - auc: 0.9063 - loss: 0.3501\n",
      "Epoch 96: val_loss did not improve from 0.58118\n",
      "\u001b[1m309/309\u001b[0m \u001b[32m━━━━━━━━━━━━━━━━━━━━\u001b[0m\u001b[37m\u001b[0m \u001b[1m1s\u001b[0m 3ms/step - acc: 0.8262 - auc: 0.9075 - loss: 0.3492 - val_acc: 0.6709 - val_auc: 0.0000e+00 - val_loss: 0.8986\n",
      "Epoch 97/100\n",
      "\u001b[1m294/309\u001b[0m \u001b[32m━━━━━━━━━━━━━━━━━━━\u001b[0m\u001b[37m━\u001b[0m \u001b[1m0s\u001b[0m 2ms/step - acc: 0.8165 - auc: 0.9037 - loss: 0.3632\n",
      "Epoch 97: val_loss did not improve from 0.58118\n",
      "\u001b[1m309/309\u001b[0m \u001b[32m━━━━━━━━━━━━━━━━━━━━\u001b[0m\u001b[37m\u001b[0m \u001b[1m1s\u001b[0m 3ms/step - acc: 0.8170 - auc: 0.9043 - loss: 0.3622 - val_acc: 0.6709 - val_auc: 0.0000e+00 - val_loss: 0.9043\n",
      "Epoch 98/100\n",
      "\u001b[1m297/309\u001b[0m \u001b[32m━━━━━━━━━━━━━━━━━━━\u001b[0m\u001b[37m━\u001b[0m \u001b[1m0s\u001b[0m 2ms/step - acc: 0.8213 - auc: 0.9185 - loss: 0.3405\n",
      "Epoch 98: val_loss did not improve from 0.58118\n",
      "\u001b[1m309/309\u001b[0m \u001b[32m━━━━━━━━━━━━━━━━━━━━\u001b[0m\u001b[37m\u001b[0m \u001b[1m1s\u001b[0m 2ms/step - acc: 0.8212 - auc: 0.9186 - loss: 0.3407 - val_acc: 0.6709 - val_auc: 0.0000e+00 - val_loss: 0.9093\n",
      "Epoch 99/100\n",
      "\u001b[1m297/309\u001b[0m \u001b[32m━━━━━━━━━━━━━━━━━━━\u001b[0m\u001b[37m━\u001b[0m \u001b[1m0s\u001b[0m 2ms/step - acc: 0.8322 - auc: 0.9121 - loss: 0.3464\n",
      "Epoch 99: val_loss did not improve from 0.58118\n",
      "\u001b[1m309/309\u001b[0m \u001b[32m━━━━━━━━━━━━━━━━━━━━\u001b[0m\u001b[37m\u001b[0m \u001b[1m1s\u001b[0m 2ms/step - acc: 0.8320 - auc: 0.9123 - loss: 0.3461 - val_acc: 0.6709 - val_auc: 0.0000e+00 - val_loss: 0.9138\n",
      "Epoch 100/100\n",
      "\u001b[1m298/309\u001b[0m \u001b[32m━━━━━━━━━━━━━━━━━━━\u001b[0m\u001b[37m━\u001b[0m \u001b[1m0s\u001b[0m 2ms/step - acc: 0.8353 - auc: 0.9258 - loss: 0.3299\n",
      "Epoch 100: val_loss did not improve from 0.58118\n",
      "\u001b[1m309/309\u001b[0m \u001b[32m━━━━━━━━━━━━━━━━━━━━\u001b[0m\u001b[37m\u001b[0m \u001b[1m1s\u001b[0m 2ms/step - acc: 0.8353 - auc: 0.9259 - loss: 0.3299 - val_acc: 0.6709 - val_auc: 0.0000e+00 - val_loss: 0.9211\n"
     ]
    },
    {
     "name": "stderr",
     "output_type": "stream",
     "text": [
      "WARNING:absl:Compiled the loaded model, but the compiled metrics have yet to be built. `model.compile_metrics` will be empty until you train or evaluate the model.\n"
     ]
    },
    {
     "name": "stdout",
     "output_type": "stream",
     "text": [
      "Fold 6 | VAL  | AUC=1.0000 | ACC=0.6709 | n=234\n",
      "Fold 6 | TEST | AUC=0.6316 | ACC=0.9744 | n=39\n",
      "\n",
      "--- Fold 7/10 ---\n",
      " train | ids:   36 | files:  842 | pos:  290 | neg:  552\n",
      "   val | ids:    4 | files:  220 | pos:   77 | neg:  143\n",
      "  test | ids:    4 | files:  138 | pos:   38 | neg:  100\n",
      "Epoch 1/100\n"
     ]
    },
    {
     "name": "stderr",
     "output_type": "stream",
     "text": [
      "/usr/local/lib/python3.12/dist-packages/keras/src/models/functional.py:241: UserWarning: The structure of `inputs` doesn't match the expected structure.\n",
      "Expected: tab_input\n",
      "Received: inputs=['Tensor(shape=(None, 4))']\n",
      "  warnings.warn(msg)\n"
     ]
    },
    {
     "name": "stdout",
     "output_type": "stream",
     "text": [
      "\u001b[1m265/281\u001b[0m \u001b[32m━━━━━━━━━━━━━━━━━━\u001b[0m\u001b[37m━━\u001b[0m \u001b[1m0s\u001b[0m 7ms/step - acc: 0.4453 - auc: 0.5379 - loss: 1.0144\n",
      "Epoch 1: val_loss improved from inf to 0.96187, saving model to best_tab_only_fold7.h5\n"
     ]
    },
    {
     "name": "stderr",
     "output_type": "stream",
     "text": [
      "WARNING:absl:You are saving your model as an HDF5 file via `model.save()` or `keras.saving.save_model(model)`. This file format is considered legacy. We recommend using instead the native Keras format, e.g. `model.save('my_model.keras')` or `keras.saving.save_model(model, 'my_model.keras')`. \n"
     ]
    },
    {
     "name": "stdout",
     "output_type": "stream",
     "text": [
      "\b\b\b\b\b\b\b\b\b\b\b\b\b\b\b\b\b\b\b\b\b\b\b\b\b\b\b\b\b\b\b\b\b\b\b\b\b\b\b\b\b\b\b\b\b\b\b\b\b\b\b\b\b\b\b\b\b\b\b\b\b\b\b\b\b\b\b\b\b\b\b\b\b\b\b\b\b\b\b\b\b\b\b\r",
      "\u001b[1m281/281\u001b[0m \u001b[32m━━━━━━━━━━━━━━━━━━━━\u001b[0m\u001b[37m\u001b[0m \u001b[1m5s\u001b[0m 11ms/step - acc: 0.4458 - auc: 0.5372 - loss: 1.0115 - val_acc: 0.3500 - val_auc: 0.0490 - val_loss: 0.9619\n",
      "Epoch 2/100\n",
      "\u001b[1m269/281\u001b[0m \u001b[32m━━━━━━━━━━━━━━━━━━━\u001b[0m\u001b[37m━\u001b[0m \u001b[1m0s\u001b[0m 2ms/step - acc: 0.4605 - auc: 0.5786 - loss: 0.8843\n",
      "Epoch 2: val_loss improved from 0.96187 to 0.87706, saving model to best_tab_only_fold7.h5\n"
     ]
    },
    {
     "name": "stderr",
     "output_type": "stream",
     "text": [
      "WARNING:absl:You are saving your model as an HDF5 file via `model.save()` or `keras.saving.save_model(model)`. This file format is considered legacy. We recommend using instead the native Keras format, e.g. `model.save('my_model.keras')` or `keras.saving.save_model(model, 'my_model.keras')`. \n"
     ]
    },
    {
     "name": "stdout",
     "output_type": "stream",
     "text": [
      "\b\b\b\b\b\b\b\b\b\b\b\b\b\b\b\b\b\b\b\b\b\b\b\b\b\b\b\b\b\b\b\b\b\b\b\b\b\b\b\b\b\b\b\b\b\b\b\b\b\b\b\b\b\b\b\b\b\b\b\b\b\b\b\b\b\b\b\b\b\b\b\b\b\b\b\b\b\b\b\b\b\b\b\r",
      "\u001b[1m281/281\u001b[0m \u001b[32m━━━━━━━━━━━━━━━━━━━━\u001b[0m\u001b[37m\u001b[0m \u001b[1m1s\u001b[0m 3ms/step - acc: 0.4601 - auc: 0.5802 - loss: 0.8833 - val_acc: 0.3500 - val_auc: 0.0490 - val_loss: 0.8771\n",
      "Epoch 3/100\n",
      "\u001b[1m280/281\u001b[0m \u001b[32m━━━━━━━━━━━━━━━━━━━\u001b[0m\u001b[37m━\u001b[0m \u001b[1m0s\u001b[0m 2ms/step - acc: 0.4480 - auc: 0.7372 - loss: 0.8004\n",
      "Epoch 3: val_loss improved from 0.87706 to 0.81518, saving model to best_tab_only_fold7.h5\n"
     ]
    },
    {
     "name": "stderr",
     "output_type": "stream",
     "text": [
      "WARNING:absl:You are saving your model as an HDF5 file via `model.save()` or `keras.saving.save_model(model)`. This file format is considered legacy. We recommend using instead the native Keras format, e.g. `model.save('my_model.keras')` or `keras.saving.save_model(model, 'my_model.keras')`. \n"
     ]
    },
    {
     "name": "stdout",
     "output_type": "stream",
     "text": [
      "\b\b\b\b\b\b\b\b\b\b\b\b\b\b\b\b\b\b\b\b\b\b\b\b\b\b\b\b\b\b\b\b\b\b\b\b\b\b\b\b\b\b\b\b\b\b\b\b\b\b\b\b\b\b\b\b\b\b\b\b\b\b\b\b\b\b\b\b\b\b\b\b\b\b\b\b\b\b\b\b\b\b\b\r",
      "\u001b[1m281/281\u001b[0m \u001b[32m━━━━━━━━━━━━━━━━━━━━\u001b[0m\u001b[37m\u001b[0m \u001b[1m1s\u001b[0m 3ms/step - acc: 0.4481 - auc: 0.7371 - loss: 0.8002 - val_acc: 0.3500 - val_auc: 0.1853 - val_loss: 0.8152\n",
      "Epoch 4/100\n",
      "\u001b[1m276/281\u001b[0m \u001b[32m━━━━━━━━━━━━━━━━━━━\u001b[0m\u001b[37m━\u001b[0m \u001b[1m0s\u001b[0m 2ms/step - acc: 0.4735 - auc: 0.8301 - loss: 0.7002\n",
      "Epoch 4: val_loss improved from 0.81518 to 0.77108, saving model to best_tab_only_fold7.h5\n"
     ]
    },
    {
     "name": "stderr",
     "output_type": "stream",
     "text": [
      "WARNING:absl:You are saving your model as an HDF5 file via `model.save()` or `keras.saving.save_model(model)`. This file format is considered legacy. We recommend using instead the native Keras format, e.g. `model.save('my_model.keras')` or `keras.saving.save_model(model, 'my_model.keras')`. \n"
     ]
    },
    {
     "name": "stdout",
     "output_type": "stream",
     "text": [
      "\b\b\b\b\b\b\b\b\b\b\b\b\b\b\b\b\b\b\b\b\b\b\b\b\b\b\b\b\b\b\b\b\b\b\b\b\b\b\b\b\b\b\b\b\b\b\b\b\b\b\b\b\b\b\b\b\b\b\b\b\b\b\b\b\b\b\b\b\b\b\b\b\b\b\b\b\b\b\b\b\b\b\b\r",
      "\u001b[1m281/281\u001b[0m \u001b[32m━━━━━━━━━━━━━━━━━━━━\u001b[0m\u001b[37m\u001b[0m \u001b[1m1s\u001b[0m 3ms/step - acc: 0.4733 - auc: 0.8296 - loss: 0.7002 - val_acc: 0.3500 - val_auc: 0.0490 - val_loss: 0.7711\n",
      "Epoch 5/100\n",
      "\u001b[1m259/281\u001b[0m \u001b[32m━━━━━━━━━━━━━━━━━━\u001b[0m\u001b[37m━━\u001b[0m \u001b[1m0s\u001b[0m 2ms/step - acc: 0.4651 - auc: 0.8847 - loss: 0.6500\n",
      "Epoch 5: val_loss improved from 0.77108 to 0.73700, saving model to best_tab_only_fold7.h5\n"
     ]
    },
    {
     "name": "stderr",
     "output_type": "stream",
     "text": [
      "WARNING:absl:You are saving your model as an HDF5 file via `model.save()` or `keras.saving.save_model(model)`. This file format is considered legacy. We recommend using instead the native Keras format, e.g. `model.save('my_model.keras')` or `keras.saving.save_model(model, 'my_model.keras')`. \n"
     ]
    },
    {
     "name": "stdout",
     "output_type": "stream",
     "text": [
      "\b\b\b\b\b\b\b\b\b\b\b\b\b\b\b\b\b\b\b\b\b\b\b\b\b\b\b\b\b\b\b\b\b\b\b\b\b\b\b\b\b\b\b\b\b\b\b\b\b\b\b\b\b\b\b\b\b\b\b\b\b\b\b\b\b\b\b\b\b\b\b\b\b\b\b\b\b\b\b\b\b\b\b\r",
      "\u001b[1m281/281\u001b[0m \u001b[32m━━━━━━━━━━━━━━━━━━━━\u001b[0m\u001b[37m\u001b[0m \u001b[1m1s\u001b[0m 3ms/step - acc: 0.4640 - auc: 0.8850 - loss: 0.6496 - val_acc: 0.3500 - val_auc: 0.1853 - val_loss: 0.7370\n",
      "Epoch 6/100\n",
      "\u001b[1m263/281\u001b[0m \u001b[32m━━━━━━━━━━━━━━━━━━\u001b[0m\u001b[37m━━\u001b[0m \u001b[1m0s\u001b[0m 2ms/step - acc: 0.6024 - auc: 0.9001 - loss: 0.6080\n",
      "Epoch 6: val_loss improved from 0.73700 to 0.71306, saving model to best_tab_only_fold7.h5\n"
     ]
    },
    {
     "name": "stderr",
     "output_type": "stream",
     "text": [
      "WARNING:absl:You are saving your model as an HDF5 file via `model.save()` or `keras.saving.save_model(model)`. This file format is considered legacy. We recommend using instead the native Keras format, e.g. `model.save('my_model.keras')` or `keras.saving.save_model(model, 'my_model.keras')`. \n"
     ]
    },
    {
     "name": "stdout",
     "output_type": "stream",
     "text": [
      "\b\b\b\b\b\b\b\b\b\b\b\b\b\b\b\b\b\b\b\b\b\b\b\b\b\b\b\b\b\b\b\b\b\b\b\b\b\b\b\b\b\b\b\b\b\b\b\b\b\b\b\b\b\b\b\b\b\b\b\b\b\b\b\b\b\b\b\b\b\b\b\b\b\b\b\b\b\b\b\b\b\b\b\r",
      "\u001b[1m281/281\u001b[0m \u001b[32m━━━━━━━━━━━━━━━━━━━━\u001b[0m\u001b[37m\u001b[0m \u001b[1m1s\u001b[0m 3ms/step - acc: 0.6049 - auc: 0.9000 - loss: 0.6073 - val_acc: 0.2409 - val_auc: 0.0490 - val_loss: 0.7131\n",
      "Epoch 7/100\n",
      "\u001b[1m260/281\u001b[0m \u001b[32m━━━━━━━━━━━━━━━━━━\u001b[0m\u001b[37m━━\u001b[0m \u001b[1m0s\u001b[0m 2ms/step - acc: 0.7376 - auc: 0.9238 - loss: 0.5740\n",
      "Epoch 7: val_loss improved from 0.71306 to 0.69832, saving model to best_tab_only_fold7.h5\n"
     ]
    },
    {
     "name": "stderr",
     "output_type": "stream",
     "text": [
      "WARNING:absl:You are saving your model as an HDF5 file via `model.save()` or `keras.saving.save_model(model)`. This file format is considered legacy. We recommend using instead the native Keras format, e.g. `model.save('my_model.keras')` or `keras.saving.save_model(model, 'my_model.keras')`. \n"
     ]
    },
    {
     "name": "stdout",
     "output_type": "stream",
     "text": [
      "\b\b\b\b\b\b\b\b\b\b\b\b\b\b\b\b\b\b\b\b\b\b\b\b\b\b\b\b\b\b\b\b\b\b\b\b\b\b\b\b\b\b\b\b\b\b\b\b\b\b\b\b\b\b\b\b\b\b\b\b\b\b\b\b\b\b\b\b\b\b\b\b\b\b\b\b\b\b\b\b\b\b\b\r",
      "\u001b[1m281/281\u001b[0m \u001b[32m━━━━━━━━━━━━━━━━━━━━\u001b[0m\u001b[37m\u001b[0m \u001b[1m1s\u001b[0m 3ms/step - acc: 0.7419 - auc: 0.9229 - loss: 0.5737 - val_acc: 0.6500 - val_auc: 0.0490 - val_loss: 0.6983\n",
      "Epoch 8/100\n",
      "\u001b[1m262/281\u001b[0m \u001b[32m━━━━━━━━━━━━━━━━━━\u001b[0m\u001b[37m━━\u001b[0m \u001b[1m0s\u001b[0m 2ms/step - acc: 0.9204 - auc: 0.9329 - loss: 0.5525\n",
      "Epoch 8: val_loss improved from 0.69832 to 0.69337, saving model to best_tab_only_fold7.h5\n"
     ]
    },
    {
     "name": "stderr",
     "output_type": "stream",
     "text": [
      "WARNING:absl:You are saving your model as an HDF5 file via `model.save()` or `keras.saving.save_model(model)`. This file format is considered legacy. We recommend using instead the native Keras format, e.g. `model.save('my_model.keras')` or `keras.saving.save_model(model, 'my_model.keras')`. \n"
     ]
    },
    {
     "name": "stdout",
     "output_type": "stream",
     "text": [
      "\b\b\b\b\b\b\b\b\b\b\b\b\b\b\b\b\b\b\b\b\b\b\b\b\b\b\b\b\b\b\b\b\b\b\b\b\b\b\b\b\b\b\b\b\b\b\b\b\b\b\b\b\b\b\b\b\b\b\b\b\b\b\b\b\b\b\b\b\b\b\b\b\b\b\b\b\b\b\b\b\b\b\b\r",
      "\u001b[1m281/281\u001b[0m \u001b[32m━━━━━━━━━━━━━━━━━━━━\u001b[0m\u001b[37m\u001b[0m \u001b[1m1s\u001b[0m 3ms/step - acc: 0.9182 - auc: 0.9323 - loss: 0.5526 - val_acc: 0.6500 - val_auc: 0.0490 - val_loss: 0.6934\n",
      "Epoch 9/100\n",
      "\u001b[1m260/281\u001b[0m \u001b[32m━━━━━━━━━━━━━━━━━━\u001b[0m\u001b[37m━━\u001b[0m \u001b[1m0s\u001b[0m 2ms/step - acc: 0.8928 - auc: 0.9295 - loss: 0.5500\n",
      "Epoch 9: val_loss improved from 0.69337 to 0.69326, saving model to best_tab_only_fold7.h5\n"
     ]
    },
    {
     "name": "stderr",
     "output_type": "stream",
     "text": [
      "WARNING:absl:You are saving your model as an HDF5 file via `model.save()` or `keras.saving.save_model(model)`. This file format is considered legacy. We recommend using instead the native Keras format, e.g. `model.save('my_model.keras')` or `keras.saving.save_model(model, 'my_model.keras')`. \n"
     ]
    },
    {
     "name": "stdout",
     "output_type": "stream",
     "text": [
      "\b\b\b\b\b\b\b\b\b\b\b\b\b\b\b\b\b\b\b\b\b\b\b\b\b\b\b\b\b\b\b\b\b\b\b\b\b\b\b\b\b\b\b\b\b\b\b\b\b\b\b\b\b\b\b\b\b\b\b\b\b\b\b\b\b\b\b\b\b\b\b\b\b\b\b\b\b\b\b\b\b\b\b\r",
      "\u001b[1m281/281\u001b[0m \u001b[32m━━━━━━━━━━━━━━━━━━━━\u001b[0m\u001b[37m\u001b[0m \u001b[1m1s\u001b[0m 3ms/step - acc: 0.8918 - auc: 0.9292 - loss: 0.5498 - val_acc: 0.6500 - val_auc: 0.0490 - val_loss: 0.6933\n",
      "Epoch 10/100\n",
      "\u001b[1m258/281\u001b[0m \u001b[32m━━━━━━━━━━━━━━━━━━\u001b[0m\u001b[37m━━\u001b[0m \u001b[1m0s\u001b[0m 2ms/step - acc: 0.8835 - auc: 0.9328 - loss: 0.5356\n",
      "Epoch 10: val_loss improved from 0.69326 to 0.69025, saving model to best_tab_only_fold7.h5\n"
     ]
    },
    {
     "name": "stderr",
     "output_type": "stream",
     "text": [
      "WARNING:absl:You are saving your model as an HDF5 file via `model.save()` or `keras.saving.save_model(model)`. This file format is considered legacy. We recommend using instead the native Keras format, e.g. `model.save('my_model.keras')` or `keras.saving.save_model(model, 'my_model.keras')`. \n"
     ]
    },
    {
     "name": "stdout",
     "output_type": "stream",
     "text": [
      "\b\b\b\b\b\b\b\b\b\b\b\b\b\b\b\b\b\b\b\b\b\b\b\b\b\b\b\b\b\b\b\b\b\b\b\b\b\b\b\b\b\b\b\b\b\b\b\b\b\b\b\b\b\b\b\b\b\b\b\b\b\b\b\b\b\b\b\b\b\b\b\b\b\b\b\b\b\b\b\b\b\b\b\r",
      "\u001b[1m281/281\u001b[0m \u001b[32m━━━━━━━━━━━━━━━━━━━━\u001b[0m\u001b[37m\u001b[0m \u001b[1m1s\u001b[0m 3ms/step - acc: 0.8836 - auc: 0.9336 - loss: 0.5353 - val_acc: 0.6500 - val_auc: 0.0490 - val_loss: 0.6903\n",
      "Epoch 11/100\n",
      "\u001b[1m280/281\u001b[0m \u001b[32m━━━━━━━━━━━━━━━━━━━\u001b[0m\u001b[37m━\u001b[0m \u001b[1m0s\u001b[0m 2ms/step - acc: 0.8676 - auc: 0.9334 - loss: 0.5372\n",
      "Epoch 11: val_loss improved from 0.69025 to 0.68866, saving model to best_tab_only_fold7.h5\n"
     ]
    },
    {
     "name": "stderr",
     "output_type": "stream",
     "text": [
      "WARNING:absl:You are saving your model as an HDF5 file via `model.save()` or `keras.saving.save_model(model)`. This file format is considered legacy. We recommend using instead the native Keras format, e.g. `model.save('my_model.keras')` or `keras.saving.save_model(model, 'my_model.keras')`. \n"
     ]
    },
    {
     "name": "stdout",
     "output_type": "stream",
     "text": [
      "\b\b\b\b\b\b\b\b\b\b\b\b\b\b\b\b\b\b\b\b\b\b\b\b\b\b\b\b\b\b\b\b\b\b\b\b\b\b\b\b\b\b\b\b\b\b\b\b\b\b\b\b\b\b\b\b\b\b\b\b\b\b\b\b\b\b\b\b\b\b\b\b\b\b\b\b\b\b\b\b\b\b\b\r",
      "\u001b[1m281/281\u001b[0m \u001b[32m━━━━━━━━━━━━━━━━━━━━\u001b[0m\u001b[37m\u001b[0m \u001b[1m1s\u001b[0m 3ms/step - acc: 0.8677 - auc: 0.9335 - loss: 0.5371 - val_acc: 0.6500 - val_auc: 0.0490 - val_loss: 0.6887\n",
      "Epoch 12/100\n",
      "\u001b[1m280/281\u001b[0m \u001b[32m━━━━━━━━━━━━━━━━━━━\u001b[0m\u001b[37m━\u001b[0m \u001b[1m0s\u001b[0m 2ms/step - acc: 0.8858 - auc: 0.9358 - loss: 0.5159\n",
      "Epoch 12: val_loss improved from 0.68866 to 0.68620, saving model to best_tab_only_fold7.h5\n"
     ]
    },
    {
     "name": "stderr",
     "output_type": "stream",
     "text": [
      "WARNING:absl:You are saving your model as an HDF5 file via `model.save()` or `keras.saving.save_model(model)`. This file format is considered legacy. We recommend using instead the native Keras format, e.g. `model.save('my_model.keras')` or `keras.saving.save_model(model, 'my_model.keras')`. \n"
     ]
    },
    {
     "name": "stdout",
     "output_type": "stream",
     "text": [
      "\b\b\b\b\b\b\b\b\b\b\b\b\b\b\b\b\b\b\b\b\b\b\b\b\b\b\b\b\b\b\b\b\b\b\b\b\b\b\b\b\b\b\b\b\b\b\b\b\b\b\b\b\b\b\b\b\b\b\b\b\b\b\b\b\b\b\b\b\b\b\b\b\b\b\b\b\b\b\b\b\b\b\b\r",
      "\u001b[1m281/281\u001b[0m \u001b[32m━━━━━━━━━━━━━━━━━━━━\u001b[0m\u001b[37m\u001b[0m \u001b[1m1s\u001b[0m 3ms/step - acc: 0.8858 - auc: 0.9359 - loss: 0.5160 - val_acc: 0.6500 - val_auc: 0.0490 - val_loss: 0.6862\n",
      "Epoch 13/100\n",
      "\u001b[1m276/281\u001b[0m \u001b[32m━━━━━━━━━━━━━━━━━━━\u001b[0m\u001b[37m━\u001b[0m \u001b[1m0s\u001b[0m 2ms/step - acc: 0.8683 - auc: 0.9591 - loss: 0.5132\n",
      "Epoch 13: val_loss improved from 0.68620 to 0.68477, saving model to best_tab_only_fold7.h5\n"
     ]
    },
    {
     "name": "stderr",
     "output_type": "stream",
     "text": [
      "WARNING:absl:You are saving your model as an HDF5 file via `model.save()` or `keras.saving.save_model(model)`. This file format is considered legacy. We recommend using instead the native Keras format, e.g. `model.save('my_model.keras')` or `keras.saving.save_model(model, 'my_model.keras')`. \n"
     ]
    },
    {
     "name": "stdout",
     "output_type": "stream",
     "text": [
      "\b\b\b\b\b\b\b\b\b\b\b\b\b\b\b\b\b\b\b\b\b\b\b\b\b\b\b\b\b\b\b\b\b\b\b\b\b\b\b\b\b\b\b\b\b\b\b\b\b\b\b\b\b\b\b\b\b\b\b\b\b\b\b\b\b\b\b\b\b\b\b\b\b\b\b\b\b\b\b\b\b\b\b\r",
      "\u001b[1m281/281\u001b[0m \u001b[32m━━━━━━━━━━━━━━━━━━━━\u001b[0m\u001b[37m\u001b[0m \u001b[1m1s\u001b[0m 3ms/step - acc: 0.8685 - auc: 0.9591 - loss: 0.5132 - val_acc: 0.6500 - val_auc: 0.0490 - val_loss: 0.6848\n",
      "Epoch 14/100\n",
      "\u001b[1m274/281\u001b[0m \u001b[32m━━━━━━━━━━━━━━━━━━━\u001b[0m\u001b[37m━\u001b[0m \u001b[1m0s\u001b[0m 2ms/step - acc: 0.8852 - auc: 0.9522 - loss: 0.4964\n",
      "Epoch 14: val_loss improved from 0.68477 to 0.68340, saving model to best_tab_only_fold7.h5\n"
     ]
    },
    {
     "name": "stderr",
     "output_type": "stream",
     "text": [
      "WARNING:absl:You are saving your model as an HDF5 file via `model.save()` or `keras.saving.save_model(model)`. This file format is considered legacy. We recommend using instead the native Keras format, e.g. `model.save('my_model.keras')` or `keras.saving.save_model(model, 'my_model.keras')`. \n"
     ]
    },
    {
     "name": "stdout",
     "output_type": "stream",
     "text": [
      "\b\b\b\b\b\b\b\b\b\b\b\b\b\b\b\b\b\b\b\b\b\b\b\b\b\b\b\b\b\b\b\b\b\b\b\b\b\b\b\b\b\b\b\b\b\b\b\b\b\b\b\b\b\b\b\b\b\b\b\b\b\b\b\b\b\b\b\b\b\b\b\b\b\b\b\b\b\b\b\b\b\b\b\r",
      "\u001b[1m281/281\u001b[0m \u001b[32m━━━━━━━━━━━━━━━━━━━━\u001b[0m\u001b[37m\u001b[0m \u001b[1m1s\u001b[0m 3ms/step - acc: 0.8852 - auc: 0.9523 - loss: 0.4967 - val_acc: 0.6500 - val_auc: 0.0490 - val_loss: 0.6834\n",
      "Epoch 15/100\n",
      "\u001b[1m277/281\u001b[0m \u001b[32m━━━━━━━━━━━━━━━━━━━\u001b[0m\u001b[37m━\u001b[0m \u001b[1m0s\u001b[0m 2ms/step - acc: 0.8578 - auc: 0.9402 - loss: 0.5061\n",
      "Epoch 15: val_loss did not improve from 0.68340\n",
      "\u001b[1m281/281\u001b[0m \u001b[32m━━━━━━━━━━━━━━━━━━━━\u001b[0m\u001b[37m\u001b[0m \u001b[1m1s\u001b[0m 3ms/step - acc: 0.8582 - auc: 0.9402 - loss: 0.5059 - val_acc: 0.6500 - val_auc: 0.0490 - val_loss: 0.6858\n",
      "Epoch 16/100\n",
      "\u001b[1m259/281\u001b[0m \u001b[32m━━━━━━━━━━━━━━━━━━\u001b[0m\u001b[37m━━\u001b[0m \u001b[1m0s\u001b[0m 2ms/step - acc: 0.8941 - auc: 0.9440 - loss: 0.4917\n",
      "Epoch 16: val_loss did not improve from 0.68340\n",
      "\u001b[1m281/281\u001b[0m \u001b[32m━━━━━━━━━━━━━━━━━━━━\u001b[0m\u001b[37m\u001b[0m \u001b[1m1s\u001b[0m 3ms/step - acc: 0.8935 - auc: 0.9446 - loss: 0.4916 - val_acc: 0.6500 - val_auc: 0.0490 - val_loss: 0.6876\n",
      "Epoch 17/100\n",
      "\u001b[1m262/281\u001b[0m \u001b[32m━━━━━━━━━━━━━━━━━━\u001b[0m\u001b[37m━━\u001b[0m \u001b[1m0s\u001b[0m 2ms/step - acc: 0.8712 - auc: 0.9459 - loss: 0.4899\n",
      "Epoch 17: val_loss did not improve from 0.68340\n",
      "\u001b[1m281/281\u001b[0m \u001b[32m━━━━━━━━━━━━━━━━━━━━\u001b[0m\u001b[37m\u001b[0m \u001b[1m1s\u001b[0m 3ms/step - acc: 0.8722 - auc: 0.9462 - loss: 0.4895 - val_acc: 0.6500 - val_auc: 0.0490 - val_loss: 0.6890\n",
      "Epoch 18/100\n",
      "\u001b[1m261/281\u001b[0m \u001b[32m━━━━━━━━━━━━━━━━━━\u001b[0m\u001b[37m━━\u001b[0m \u001b[1m0s\u001b[0m 2ms/step - acc: 0.8822 - auc: 0.9602 - loss: 0.4838\n",
      "Epoch 18: val_loss did not improve from 0.68340\n",
      "\u001b[1m281/281\u001b[0m \u001b[32m━━━━━━━━━━━━━━━━━━━━\u001b[0m\u001b[37m\u001b[0m \u001b[1m1s\u001b[0m 3ms/step - acc: 0.8823 - auc: 0.9585 - loss: 0.4835 - val_acc: 0.6500 - val_auc: 0.0490 - val_loss: 0.6888\n",
      "Epoch 19/100\n",
      "\u001b[1m266/281\u001b[0m \u001b[32m━━━━━━━━━━━━━━━━━━\u001b[0m\u001b[37m━━\u001b[0m \u001b[1m0s\u001b[0m 2ms/step - acc: 0.8768 - auc: 0.9444 - loss: 0.4841\n",
      "Epoch 19: val_loss did not improve from 0.68340\n",
      "\u001b[1m281/281\u001b[0m \u001b[32m━━━━━━━━━━━━━━━━━━━━\u001b[0m\u001b[37m\u001b[0m \u001b[1m1s\u001b[0m 3ms/step - acc: 0.8772 - auc: 0.9445 - loss: 0.4834 - val_acc: 0.6500 - val_auc: 0.0490 - val_loss: 0.6898\n",
      "Epoch 20/100\n",
      "\u001b[1m267/281\u001b[0m \u001b[32m━━━━━━━━━━━━━━━━━━━\u001b[0m\u001b[37m━\u001b[0m \u001b[1m0s\u001b[0m 2ms/step - acc: 0.8928 - auc: 0.9481 - loss: 0.4678\n",
      "Epoch 20: val_loss did not improve from 0.68340\n",
      "\u001b[1m281/281\u001b[0m \u001b[32m━━━━━━━━━━━━━━━━━━━━\u001b[0m\u001b[37m\u001b[0m \u001b[1m1s\u001b[0m 3ms/step - acc: 0.8923 - auc: 0.9475 - loss: 0.4679 - val_acc: 0.6500 - val_auc: 0.0490 - val_loss: 0.6916\n",
      "Epoch 21/100\n",
      "\u001b[1m271/281\u001b[0m \u001b[32m━━━━━━━━━━━━━━━━━━━\u001b[0m\u001b[37m━\u001b[0m \u001b[1m0s\u001b[0m 2ms/step - acc: 0.8739 - auc: 0.9410 - loss: 0.4819\n",
      "Epoch 21: val_loss did not improve from 0.68340\n",
      "\u001b[1m281/281\u001b[0m \u001b[32m━━━━━━━━━━━━━━━━━━━━\u001b[0m\u001b[37m\u001b[0m \u001b[1m1s\u001b[0m 3ms/step - acc: 0.8743 - auc: 0.9410 - loss: 0.4813 - val_acc: 0.6500 - val_auc: 0.0490 - val_loss: 0.6916\n",
      "Epoch 22/100\n",
      "\u001b[1m271/281\u001b[0m \u001b[32m━━━━━━━━━━━━━━━━━━━\u001b[0m\u001b[37m━\u001b[0m \u001b[1m0s\u001b[0m 2ms/step - acc: 0.8819 - auc: 0.9290 - loss: 0.4635\n",
      "Epoch 22: val_loss did not improve from 0.68340\n",
      "\u001b[1m281/281\u001b[0m \u001b[32m━━━━━━━━━━━━━━━━━━━━\u001b[0m\u001b[37m\u001b[0m \u001b[1m1s\u001b[0m 3ms/step - acc: 0.8818 - auc: 0.9289 - loss: 0.4635 - val_acc: 0.6500 - val_auc: 0.0490 - val_loss: 0.6941\n",
      "Epoch 23/100\n",
      "\u001b[1m268/281\u001b[0m \u001b[32m━━━━━━━━━━━━━━━━━━━\u001b[0m\u001b[37m━\u001b[0m \u001b[1m0s\u001b[0m 2ms/step - acc: 0.8858 - auc: 0.9330 - loss: 0.4444\n",
      "Epoch 23: val_loss did not improve from 0.68340\n",
      "\u001b[1m281/281\u001b[0m \u001b[32m━━━━━━━━━━━━━━━━━━━━\u001b[0m\u001b[37m\u001b[0m \u001b[1m1s\u001b[0m 3ms/step - acc: 0.8857 - auc: 0.9331 - loss: 0.4450 - val_acc: 0.4727 - val_auc: 0.0490 - val_loss: 0.6952\n",
      "Epoch 24/100\n",
      "\u001b[1m267/281\u001b[0m \u001b[32m━━━━━━━━━━━━━━━━━━━\u001b[0m\u001b[37m━\u001b[0m \u001b[1m0s\u001b[0m 2ms/step - acc: 0.8853 - auc: 0.9444 - loss: 0.4397\n",
      "Epoch 24: val_loss did not improve from 0.68340\n",
      "\u001b[1m281/281\u001b[0m \u001b[32m━━━━━━━━━━━━━━━━━━━━\u001b[0m\u001b[37m\u001b[0m \u001b[1m1s\u001b[0m 3ms/step - acc: 0.8853 - auc: 0.9438 - loss: 0.4402 - val_acc: 0.6500 - val_auc: 0.0490 - val_loss: 0.6919\n",
      "Epoch 25/100\n",
      "\u001b[1m265/281\u001b[0m \u001b[32m━━━━━━━━━━━━━━━━━━\u001b[0m\u001b[37m━━\u001b[0m \u001b[1m0s\u001b[0m 2ms/step - acc: 0.9120 - auc: 0.9637 - loss: 0.4205\n",
      "Epoch 25: val_loss did not improve from 0.68340\n",
      "\u001b[1m281/281\u001b[0m \u001b[32m━━━━━━━━━━━━━━━━━━━━\u001b[0m\u001b[37m\u001b[0m \u001b[1m1s\u001b[0m 3ms/step - acc: 0.9103 - auc: 0.9625 - loss: 0.4219 - val_acc: 0.6500 - val_auc: 0.0490 - val_loss: 0.6948\n",
      "Epoch 26/100\n",
      "\u001b[1m264/281\u001b[0m \u001b[32m━━━━━━━━━━━━━━━━━━\u001b[0m\u001b[37m━━\u001b[0m \u001b[1m0s\u001b[0m 2ms/step - acc: 0.8554 - auc: 0.9337 - loss: 0.4538\n",
      "Epoch 26: val_loss did not improve from 0.68340\n",
      "\u001b[1m281/281\u001b[0m \u001b[32m━━━━━━━━━━━━━━━━━━━━\u001b[0m\u001b[37m\u001b[0m \u001b[1m1s\u001b[0m 3ms/step - acc: 0.8569 - auc: 0.9339 - loss: 0.4531 - val_acc: 0.6500 - val_auc: 0.0490 - val_loss: 0.6946\n",
      "Epoch 27/100\n",
      "\u001b[1m267/281\u001b[0m \u001b[32m━━━━━━━━━━━━━━━━━━━\u001b[0m\u001b[37m━\u001b[0m \u001b[1m0s\u001b[0m 2ms/step - acc: 0.8644 - auc: 0.9264 - loss: 0.4437\n",
      "Epoch 27: val_loss did not improve from 0.68340\n",
      "\u001b[1m281/281\u001b[0m \u001b[32m━━━━━━━━━━━━━━━━━━━━\u001b[0m\u001b[37m\u001b[0m \u001b[1m1s\u001b[0m 3ms/step - acc: 0.8654 - auc: 0.9276 - loss: 0.4434 - val_acc: 0.6500 - val_auc: 0.0490 - val_loss: 0.6946\n",
      "Epoch 28/100\n",
      "\u001b[1m269/281\u001b[0m \u001b[32m━━━━━━━━━━━━━━━━━━━\u001b[0m\u001b[37m━\u001b[0m \u001b[1m0s\u001b[0m 2ms/step - acc: 0.8986 - auc: 0.9527 - loss: 0.4208\n",
      "Epoch 28: val_loss did not improve from 0.68340\n",
      "\u001b[1m281/281\u001b[0m \u001b[32m━━━━━━━━━━━━━━━━━━━━\u001b[0m\u001b[37m\u001b[0m \u001b[1m1s\u001b[0m 3ms/step - acc: 0.8978 - auc: 0.9523 - loss: 0.4214 - val_acc: 0.6500 - val_auc: 0.0490 - val_loss: 0.6965\n",
      "Epoch 29/100\n",
      "\u001b[1m260/281\u001b[0m \u001b[32m━━━━━━━━━━━━━━━━━━\u001b[0m\u001b[37m━━\u001b[0m \u001b[1m0s\u001b[0m 2ms/step - acc: 0.8988 - auc: 0.9617 - loss: 0.4229\n",
      "Epoch 29: val_loss did not improve from 0.68340\n",
      "\u001b[1m281/281\u001b[0m \u001b[32m━━━━━━━━━━━━━━━━━━━━\u001b[0m\u001b[37m\u001b[0m \u001b[1m1s\u001b[0m 3ms/step - acc: 0.8974 - auc: 0.9607 - loss: 0.4233 - val_acc: 0.6500 - val_auc: 0.0490 - val_loss: 0.6994\n",
      "Epoch 30/100\n",
      "\u001b[1m261/281\u001b[0m \u001b[32m━━━━━━━━━━━━━━━━━━\u001b[0m\u001b[37m━━\u001b[0m \u001b[1m0s\u001b[0m 2ms/step - acc: 0.8868 - auc: 0.9344 - loss: 0.4202\n",
      "Epoch 30: val_loss did not improve from 0.68340\n",
      "\u001b[1m281/281\u001b[0m \u001b[32m━━━━━━━━━━━━━━━━━━━━\u001b[0m\u001b[37m\u001b[0m \u001b[1m1s\u001b[0m 3ms/step - acc: 0.8863 - auc: 0.9341 - loss: 0.4207 - val_acc: 0.6500 - val_auc: 0.0490 - val_loss: 0.6956\n",
      "Epoch 31/100\n",
      "\u001b[1m280/281\u001b[0m \u001b[32m━━━━━━━━━━━━━━━━━━━\u001b[0m\u001b[37m━\u001b[0m \u001b[1m0s\u001b[0m 2ms/step - acc: 0.8902 - auc: 0.9534 - loss: 0.3997\n",
      "Epoch 31: val_loss did not improve from 0.68340\n",
      "\u001b[1m281/281\u001b[0m \u001b[32m━━━━━━━━━━━━━━━━━━━━\u001b[0m\u001b[37m\u001b[0m \u001b[1m1s\u001b[0m 3ms/step - acc: 0.8902 - auc: 0.9534 - loss: 0.3999 - val_acc: 0.6500 - val_auc: 0.0490 - val_loss: 0.6984\n",
      "Epoch 32/100\n",
      "\u001b[1m260/281\u001b[0m \u001b[32m━━━━━━━━━━━━━━━━━━\u001b[0m\u001b[37m━━\u001b[0m \u001b[1m0s\u001b[0m 2ms/step - acc: 0.8967 - auc: 0.9397 - loss: 0.4129\n",
      "Epoch 32: val_loss did not improve from 0.68340\n",
      "\u001b[1m281/281\u001b[0m \u001b[32m━━━━━━━━━━━━━━━━━━━━\u001b[0m\u001b[37m\u001b[0m \u001b[1m1s\u001b[0m 3ms/step - acc: 0.8953 - auc: 0.9393 - loss: 0.4134 - val_acc: 0.6500 - val_auc: 0.0490 - val_loss: 0.6991\n",
      "Epoch 33/100\n",
      "\u001b[1m269/281\u001b[0m \u001b[32m━━━━━━━━━━━━━━━━━━━\u001b[0m\u001b[37m━\u001b[0m \u001b[1m0s\u001b[0m 2ms/step - acc: 0.8875 - auc: 0.9420 - loss: 0.4166\n",
      "Epoch 33: val_loss did not improve from 0.68340\n",
      "\u001b[1m281/281\u001b[0m \u001b[32m━━━━━━━━━━━━━━━━━━━━\u001b[0m\u001b[37m\u001b[0m \u001b[1m1s\u001b[0m 3ms/step - acc: 0.8873 - auc: 0.9429 - loss: 0.4165 - val_acc: 0.6500 - val_auc: 0.0490 - val_loss: 0.6998\n",
      "Epoch 34/100\n",
      "\u001b[1m265/281\u001b[0m \u001b[32m━━━━━━━━━━━━━━━━━━\u001b[0m\u001b[37m━━\u001b[0m \u001b[1m0s\u001b[0m 2ms/step - acc: 0.8703 - auc: 0.9264 - loss: 0.4246\n",
      "Epoch 34: val_loss did not improve from 0.68340\n",
      "\u001b[1m281/281\u001b[0m \u001b[32m━━━━━━━━━━━━━━━━━━━━\u001b[0m\u001b[37m\u001b[0m \u001b[1m1s\u001b[0m 3ms/step - acc: 0.8711 - auc: 0.9269 - loss: 0.4237 - val_acc: 0.6500 - val_auc: 0.0490 - val_loss: 0.6973\n",
      "Epoch 35/100\n",
      "\u001b[1m266/281\u001b[0m \u001b[32m━━━━━━━━━━━━━━━━━━\u001b[0m\u001b[37m━━\u001b[0m \u001b[1m0s\u001b[0m 2ms/step - acc: 0.8773 - auc: 0.9463 - loss: 0.4113\n",
      "Epoch 35: val_loss did not improve from 0.68340\n",
      "\u001b[1m281/281\u001b[0m \u001b[32m━━━━━━━━━━━━━━━━━━━━\u001b[0m\u001b[37m\u001b[0m \u001b[1m1s\u001b[0m 3ms/step - acc: 0.8779 - auc: 0.9460 - loss: 0.4109 - val_acc: 0.6500 - val_auc: 0.0490 - val_loss: 0.6986\n",
      "Epoch 36/100\n",
      "\u001b[1m270/281\u001b[0m \u001b[32m━━━━━━━━━━━━━━━━━━━\u001b[0m\u001b[37m━\u001b[0m \u001b[1m0s\u001b[0m 2ms/step - acc: 0.8858 - auc: 0.9381 - loss: 0.4045\n",
      "Epoch 36: val_loss did not improve from 0.68340\n",
      "\u001b[1m281/281\u001b[0m \u001b[32m━━━━━━━━━━━━━━━━━━━━\u001b[0m\u001b[37m\u001b[0m \u001b[1m1s\u001b[0m 3ms/step - acc: 0.8856 - auc: 0.9384 - loss: 0.4046 - val_acc: 0.6500 - val_auc: 0.0490 - val_loss: 0.7008\n",
      "Epoch 37/100\n",
      "\u001b[1m269/281\u001b[0m \u001b[32m━━━━━━━━━━━━━━━━━━━\u001b[0m\u001b[37m━\u001b[0m \u001b[1m0s\u001b[0m 2ms/step - acc: 0.8762 - auc: 0.9213 - loss: 0.4132\n",
      "Epoch 37: val_loss did not improve from 0.68340\n",
      "\u001b[1m281/281\u001b[0m \u001b[32m━━━━━━━━━━━━━━━━━━━━\u001b[0m\u001b[37m\u001b[0m \u001b[1m1s\u001b[0m 3ms/step - acc: 0.8765 - auc: 0.9215 - loss: 0.4127 - val_acc: 0.6500 - val_auc: 0.0490 - val_loss: 0.6996\n",
      "Epoch 38/100\n",
      "\u001b[1m267/281\u001b[0m \u001b[32m━━━━━━━━━━━━━━━━━━━\u001b[0m\u001b[37m━\u001b[0m \u001b[1m0s\u001b[0m 2ms/step - acc: 0.8902 - auc: 0.9543 - loss: 0.3835\n",
      "Epoch 38: val_loss did not improve from 0.68340\n",
      "\u001b[1m281/281\u001b[0m \u001b[32m━━━━━━━━━━━━━━━━━━━━\u001b[0m\u001b[37m\u001b[0m \u001b[1m1s\u001b[0m 3ms/step - acc: 0.8898 - auc: 0.9530 - loss: 0.3843 - val_acc: 0.6500 - val_auc: 0.0490 - val_loss: 0.6998\n",
      "Epoch 39/100\n",
      "\u001b[1m268/281\u001b[0m \u001b[32m━━━━━━━━━━━━━━━━━━━\u001b[0m\u001b[37m━\u001b[0m \u001b[1m0s\u001b[0m 2ms/step - acc: 0.8829 - auc: 0.9574 - loss: 0.3936\n",
      "Epoch 39: val_loss did not improve from 0.68340\n",
      "\u001b[1m281/281\u001b[0m \u001b[32m━━━━━━━━━━━━━━━━━━━━\u001b[0m\u001b[37m\u001b[0m \u001b[1m1s\u001b[0m 3ms/step - acc: 0.8830 - auc: 0.9570 - loss: 0.3937 - val_acc: 0.6500 - val_auc: 0.0490 - val_loss: 0.6986\n",
      "Epoch 40/100\n",
      "\u001b[1m264/281\u001b[0m \u001b[32m━━━━━━━━━━━━━━━━━━\u001b[0m\u001b[37m━━\u001b[0m \u001b[1m0s\u001b[0m 2ms/step - acc: 0.8846 - auc: 0.9352 - loss: 0.3865\n",
      "Epoch 40: val_loss did not improve from 0.68340\n",
      "\u001b[1m281/281\u001b[0m \u001b[32m━━━━━━━━━━━━━━━━━━━━\u001b[0m\u001b[37m\u001b[0m \u001b[1m1s\u001b[0m 3ms/step - acc: 0.8844 - auc: 0.9359 - loss: 0.3868 - val_acc: 0.6500 - val_auc: 0.0490 - val_loss: 0.7027\n",
      "Epoch 41/100\n",
      "\u001b[1m266/281\u001b[0m \u001b[32m━━━━━━━━━━━━━━━━━━\u001b[0m\u001b[37m━━\u001b[0m \u001b[1m0s\u001b[0m 2ms/step - acc: 0.8797 - auc: 0.9401 - loss: 0.3981\n",
      "Epoch 41: val_loss did not improve from 0.68340\n",
      "\u001b[1m281/281\u001b[0m \u001b[32m━━━━━━━━━━━━━━━━━━━━\u001b[0m\u001b[37m\u001b[0m \u001b[1m1s\u001b[0m 3ms/step - acc: 0.8797 - auc: 0.9408 - loss: 0.3977 - val_acc: 0.6500 - val_auc: 0.0490 - val_loss: 0.7010\n",
      "Epoch 42/100\n",
      "\u001b[1m269/281\u001b[0m \u001b[32m━━━━━━━━━━━━━━━━━━━\u001b[0m\u001b[37m━\u001b[0m \u001b[1m0s\u001b[0m 2ms/step - acc: 0.8889 - auc: 0.9426 - loss: 0.3903\n",
      "Epoch 42: val_loss did not improve from 0.68340\n",
      "\u001b[1m281/281\u001b[0m \u001b[32m━━━━━━━━━━━━━━━━━━━━\u001b[0m\u001b[37m\u001b[0m \u001b[1m1s\u001b[0m 3ms/step - acc: 0.8886 - auc: 0.9420 - loss: 0.3902 - val_acc: 0.6500 - val_auc: 0.0490 - val_loss: 0.7003\n",
      "Epoch 43/100\n",
      "\u001b[1m268/281\u001b[0m \u001b[32m━━━━━━━━━━━━━━━━━━━\u001b[0m\u001b[37m━\u001b[0m \u001b[1m0s\u001b[0m 2ms/step - acc: 0.8899 - auc: 0.9454 - loss: 0.3758\n",
      "Epoch 43: val_loss did not improve from 0.68340\n",
      "\u001b[1m281/281\u001b[0m \u001b[32m━━━━━━━━━━━━━━━━━━━━\u001b[0m\u001b[37m\u001b[0m \u001b[1m1s\u001b[0m 3ms/step - acc: 0.8896 - auc: 0.9457 - loss: 0.3761 - val_acc: 0.6500 - val_auc: 0.0490 - val_loss: 0.7005\n",
      "Epoch 44/100\n",
      "\u001b[1m270/281\u001b[0m \u001b[32m━━━━━━━━━━━━━━━━━━━\u001b[0m\u001b[37m━\u001b[0m \u001b[1m0s\u001b[0m 2ms/step - acc: 0.8850 - auc: 0.9047 - loss: 0.3917\n",
      "Epoch 44: val_loss did not improve from 0.68340\n",
      "\u001b[1m281/281\u001b[0m \u001b[32m━━━━━━━━━━━━━━━━━━━━\u001b[0m\u001b[37m\u001b[0m \u001b[1m1s\u001b[0m 3ms/step - acc: 0.8848 - auc: 0.9062 - loss: 0.3914 - val_acc: 0.6500 - val_auc: 0.0490 - val_loss: 0.7030\n",
      "Epoch 45/100\n",
      "\u001b[1m260/281\u001b[0m \u001b[32m━━━━━━━━━━━━━━━━━━\u001b[0m\u001b[37m━━\u001b[0m \u001b[1m0s\u001b[0m 2ms/step - acc: 0.8813 - auc: 0.9260 - loss: 0.3749\n",
      "Epoch 45: val_loss did not improve from 0.68340\n",
      "\u001b[1m281/281\u001b[0m \u001b[32m━━━━━━━━━━━━━━━━━━━━\u001b[0m\u001b[37m\u001b[0m \u001b[1m1s\u001b[0m 3ms/step - acc: 0.8812 - auc: 0.9267 - loss: 0.3754 - val_acc: 0.6500 - val_auc: 0.0490 - val_loss: 0.7017\n",
      "Epoch 46/100\n",
      "\u001b[1m278/281\u001b[0m \u001b[32m━━━━━━━━━━━━━━━━━━━\u001b[0m\u001b[37m━\u001b[0m \u001b[1m0s\u001b[0m 2ms/step - acc: 0.8666 - auc: 0.9427 - loss: 0.3909\n",
      "Epoch 46: val_loss did not improve from 0.68340\n",
      "\u001b[1m281/281\u001b[0m \u001b[32m━━━━━━━━━━━━━━━━━━━━\u001b[0m\u001b[37m\u001b[0m \u001b[1m1s\u001b[0m 3ms/step - acc: 0.8668 - auc: 0.9427 - loss: 0.3907 - val_acc: 0.6500 - val_auc: 0.0490 - val_loss: 0.7024\n",
      "Epoch 47/100\n",
      "\u001b[1m278/281\u001b[0m \u001b[32m━━━━━━━━━━━━━━━━━━━\u001b[0m\u001b[37m━\u001b[0m \u001b[1m0s\u001b[0m 2ms/step - acc: 0.8828 - auc: 0.9369 - loss: 0.3792\n",
      "Epoch 47: val_loss did not improve from 0.68340\n",
      "\u001b[1m281/281\u001b[0m \u001b[32m━━━━━━━━━━━━━━━━━━━━\u001b[0m\u001b[37m\u001b[0m \u001b[1m1s\u001b[0m 3ms/step - acc: 0.8828 - auc: 0.9370 - loss: 0.3792 - val_acc: 0.6500 - val_auc: 0.0490 - val_loss: 0.7034\n",
      "Epoch 48/100\n",
      "\u001b[1m280/281\u001b[0m \u001b[32m━━━━━━━━━━━━━━━━━━━\u001b[0m\u001b[37m━\u001b[0m \u001b[1m0s\u001b[0m 2ms/step - acc: 0.8947 - auc: 0.9360 - loss: 0.3589\n",
      "Epoch 48: val_loss did not improve from 0.68340\n",
      "\u001b[1m281/281\u001b[0m \u001b[32m━━━━━━━━━━━━━━━━━━━━\u001b[0m\u001b[37m\u001b[0m \u001b[1m1s\u001b[0m 3ms/step - acc: 0.8946 - auc: 0.9361 - loss: 0.3590 - val_acc: 0.6500 - val_auc: 0.0490 - val_loss: 0.7055\n",
      "Epoch 49/100\n",
      "\u001b[1m269/281\u001b[0m \u001b[32m━━━━━━━━━━━━━━━━━━━\u001b[0m\u001b[37m━\u001b[0m \u001b[1m0s\u001b[0m 2ms/step - acc: 0.8556 - auc: 0.9372 - loss: 0.3834\n",
      "Epoch 49: val_loss did not improve from 0.68340\n",
      "\u001b[1m281/281\u001b[0m \u001b[32m━━━━━━━━━━━━━━━━━━━━\u001b[0m\u001b[37m\u001b[0m \u001b[1m1s\u001b[0m 3ms/step - acc: 0.8569 - auc: 0.9374 - loss: 0.3828 - val_acc: 0.6500 - val_auc: 0.0490 - val_loss: 0.7029\n",
      "Epoch 50/100\n",
      "\u001b[1m266/281\u001b[0m \u001b[32m━━━━━━━━━━━━━━━━━━\u001b[0m\u001b[37m━━\u001b[0m \u001b[1m0s\u001b[0m 2ms/step - acc: 0.9003 - auc: 0.9453 - loss: 0.3466\n",
      "Epoch 50: val_loss did not improve from 0.68340\n",
      "\u001b[1m281/281\u001b[0m \u001b[32m━━━━━━━━━━━━━━━━━━━━\u001b[0m\u001b[37m\u001b[0m \u001b[1m1s\u001b[0m 3ms/step - acc: 0.8994 - auc: 0.9458 - loss: 0.3476 - val_acc: 0.6500 - val_auc: 0.0490 - val_loss: 0.7065\n",
      "Epoch 51/100\n",
      "\u001b[1m268/281\u001b[0m \u001b[32m━━━━━━━━━━━━━━━━━━━\u001b[0m\u001b[37m━\u001b[0m \u001b[1m0s\u001b[0m 2ms/step - acc: 0.8637 - auc: 0.9392 - loss: 0.3765\n",
      "Epoch 51: val_loss did not improve from 0.68340\n",
      "\u001b[1m281/281\u001b[0m \u001b[32m━━━━━━━━━━━━━━━━━━━━\u001b[0m\u001b[37m\u001b[0m \u001b[1m1s\u001b[0m 3ms/step - acc: 0.8647 - auc: 0.9395 - loss: 0.3758 - val_acc: 0.6500 - val_auc: 0.0490 - val_loss: 0.7064\n",
      "Epoch 52/100\n",
      "\u001b[1m266/281\u001b[0m \u001b[32m━━━━━━━━━━━━━━━━━━\u001b[0m\u001b[37m━━\u001b[0m \u001b[1m0s\u001b[0m 2ms/step - acc: 0.8612 - auc: 0.9471 - loss: 0.3841\n",
      "Epoch 52: val_loss did not improve from 0.68340\n",
      "\u001b[1m281/281\u001b[0m \u001b[32m━━━━━━━━━━━━━━━━━━━━\u001b[0m\u001b[37m\u001b[0m \u001b[1m1s\u001b[0m 3ms/step - acc: 0.8624 - auc: 0.9468 - loss: 0.3829 - val_acc: 0.6500 - val_auc: 0.0490 - val_loss: 0.7051\n",
      "Epoch 53/100\n",
      "\u001b[1m264/281\u001b[0m \u001b[32m━━━━━━━━━━━━━━━━━━\u001b[0m\u001b[37m━━\u001b[0m \u001b[1m0s\u001b[0m 2ms/step - acc: 0.8945 - auc: 0.9252 - loss: 0.3469\n",
      "Epoch 53: val_loss did not improve from 0.68340\n",
      "\u001b[1m281/281\u001b[0m \u001b[32m━━━━━━━━━━━━━━━━━━━━\u001b[0m\u001b[37m\u001b[0m \u001b[1m1s\u001b[0m 3ms/step - acc: 0.8937 - auc: 0.9263 - loss: 0.3478 - val_acc: 0.6500 - val_auc: 0.0490 - val_loss: 0.7070\n",
      "Epoch 54/100\n",
      "\u001b[1m268/281\u001b[0m \u001b[32m━━━━━━━━━━━━━━━━━━━\u001b[0m\u001b[37m━\u001b[0m \u001b[1m0s\u001b[0m 2ms/step - acc: 0.8947 - auc: 0.9569 - loss: 0.3407\n",
      "Epoch 54: val_loss did not improve from 0.68340\n",
      "\u001b[1m281/281\u001b[0m \u001b[32m━━━━━━━━━━━━━━━━━━━━\u001b[0m\u001b[37m\u001b[0m \u001b[1m1s\u001b[0m 3ms/step - acc: 0.8941 - auc: 0.9562 - loss: 0.3415 - val_acc: 0.6500 - val_auc: 0.0490 - val_loss: 0.7133\n",
      "Epoch 55/100\n",
      "\u001b[1m268/281\u001b[0m \u001b[32m━━━━━━━━━━━━━━━━━━━\u001b[0m\u001b[37m━\u001b[0m \u001b[1m0s\u001b[0m 2ms/step - acc: 0.8944 - auc: 0.9557 - loss: 0.3471\n",
      "Epoch 55: val_loss did not improve from 0.68340\n",
      "\u001b[1m281/281\u001b[0m \u001b[32m━━━━━━━━━━━━━━━━━━━━\u001b[0m\u001b[37m\u001b[0m \u001b[1m1s\u001b[0m 3ms/step - acc: 0.8938 - auc: 0.9554 - loss: 0.3475 - val_acc: 0.6500 - val_auc: 0.0490 - val_loss: 0.7091\n",
      "Epoch 56/100\n",
      "\u001b[1m271/281\u001b[0m \u001b[32m━━━━━━━━━━━━━━━━━━━\u001b[0m\u001b[37m━\u001b[0m \u001b[1m0s\u001b[0m 2ms/step - acc: 0.8882 - auc: 0.9547 - loss: 0.3472\n",
      "Epoch 56: val_loss did not improve from 0.68340\n",
      "\u001b[1m281/281\u001b[0m \u001b[32m━━━━━━━━━━━━━━━━━━━━\u001b[0m\u001b[37m\u001b[0m \u001b[1m1s\u001b[0m 3ms/step - acc: 0.8880 - auc: 0.9545 - loss: 0.3475 - val_acc: 0.6500 - val_auc: 0.0490 - val_loss: 0.7122\n",
      "Epoch 57/100\n",
      "\u001b[1m270/281\u001b[0m \u001b[32m━━━━━━━━━━━━━━━━━━━\u001b[0m\u001b[37m━\u001b[0m \u001b[1m0s\u001b[0m 2ms/step - acc: 0.8887 - auc: 0.9465 - loss: 0.3399\n",
      "Epoch 57: val_loss did not improve from 0.68340\n",
      "\u001b[1m281/281\u001b[0m \u001b[32m━━━━━━━━━━━━━━━━━━━━\u001b[0m\u001b[37m\u001b[0m \u001b[1m1s\u001b[0m 3ms/step - acc: 0.8884 - auc: 0.9465 - loss: 0.3405 - val_acc: 0.6500 - val_auc: 0.0490 - val_loss: 0.7124\n",
      "Epoch 58/100\n",
      "\u001b[1m267/281\u001b[0m \u001b[32m━━━━━━━━━━━━━━━━━━━\u001b[0m\u001b[37m━\u001b[0m \u001b[1m0s\u001b[0m 2ms/step - acc: 0.8575 - auc: 0.9015 - loss: 0.3775\n",
      "Epoch 58: val_loss did not improve from 0.68340\n",
      "\u001b[1m281/281\u001b[0m \u001b[32m━━━━━━━━━━━━━━━━━━━━\u001b[0m\u001b[37m\u001b[0m \u001b[1m1s\u001b[0m 3ms/step - acc: 0.8589 - auc: 0.9028 - loss: 0.3762 - val_acc: 0.6500 - val_auc: 0.0490 - val_loss: 0.7183\n",
      "Epoch 59/100\n",
      "\u001b[1m270/281\u001b[0m \u001b[32m━━━━━━━━━━━━━━━━━━━\u001b[0m\u001b[37m━\u001b[0m \u001b[1m0s\u001b[0m 2ms/step - acc: 0.8641 - auc: 0.9084 - loss: 0.3757\n",
      "Epoch 59: val_loss did not improve from 0.68340\n",
      "\u001b[1m281/281\u001b[0m \u001b[32m━━━━━━━━━━━━━━━━━━━━\u001b[0m\u001b[37m\u001b[0m \u001b[1m1s\u001b[0m 3ms/step - acc: 0.8649 - auc: 0.9096 - loss: 0.3746 - val_acc: 0.6500 - val_auc: 0.0490 - val_loss: 0.7183\n",
      "Epoch 60/100\n",
      "\u001b[1m267/281\u001b[0m \u001b[32m━━━━━━━━━━━━━━━━━━━\u001b[0m\u001b[37m━\u001b[0m \u001b[1m0s\u001b[0m 2ms/step - acc: 0.8940 - auc: 0.9581 - loss: 0.3344\n",
      "Epoch 60: val_loss did not improve from 0.68340\n",
      "\u001b[1m281/281\u001b[0m \u001b[32m━━━━━━━━━━━━━━━━━━━━\u001b[0m\u001b[37m\u001b[0m \u001b[1m1s\u001b[0m 3ms/step - acc: 0.8934 - auc: 0.9573 - loss: 0.3352 - val_acc: 0.6500 - val_auc: 0.0490 - val_loss: 0.7205\n",
      "Epoch 61/100\n",
      "\u001b[1m271/281\u001b[0m \u001b[32m━━━━━━━━━━━━━━━━━━━\u001b[0m\u001b[37m━\u001b[0m \u001b[1m0s\u001b[0m 2ms/step - acc: 0.9055 - auc: 0.9376 - loss: 0.3308\n",
      "Epoch 61: val_loss did not improve from 0.68340\n",
      "\u001b[1m281/281\u001b[0m \u001b[32m━━━━━━━━━━━━━━━━━━━━\u001b[0m\u001b[37m\u001b[0m \u001b[1m1s\u001b[0m 3ms/step - acc: 0.9046 - auc: 0.9379 - loss: 0.3313 - val_acc: 0.6500 - val_auc: 0.0490 - val_loss: 0.7230\n",
      "Epoch 62/100\n",
      "\u001b[1m262/281\u001b[0m \u001b[32m━━━━━━━━━━━━━━━━━━\u001b[0m\u001b[37m━━\u001b[0m \u001b[1m0s\u001b[0m 2ms/step - acc: 0.8889 - auc: 0.9394 - loss: 0.3358\n",
      "Epoch 62: val_loss did not improve from 0.68340\n",
      "\u001b[1m281/281\u001b[0m \u001b[32m━━━━━━━━━━━━━━━━━━━━\u001b[0m\u001b[37m\u001b[0m \u001b[1m1s\u001b[0m 3ms/step - acc: 0.8884 - auc: 0.9391 - loss: 0.3364 - val_acc: 0.6500 - val_auc: 0.0490 - val_loss: 0.7267\n",
      "Epoch 63/100\n",
      "\u001b[1m281/281\u001b[0m \u001b[32m━━━━━━━━━━━━━━━━━━━━\u001b[0m\u001b[37m\u001b[0m \u001b[1m0s\u001b[0m 2ms/step - acc: 0.8968 - auc: 0.9468 - loss: 0.3270\n",
      "Epoch 63: val_loss did not improve from 0.68340\n",
      "\u001b[1m281/281\u001b[0m \u001b[32m━━━━━━━━━━━━━━━━━━━━\u001b[0m\u001b[37m\u001b[0m \u001b[1m1s\u001b[0m 3ms/step - acc: 0.8967 - auc: 0.9468 - loss: 0.3271 - val_acc: 0.6500 - val_auc: 0.0490 - val_loss: 0.7293\n",
      "Epoch 64/100\n",
      "\u001b[1m258/281\u001b[0m \u001b[32m━━━━━━━━━━━━━━━━━━\u001b[0m\u001b[37m━━\u001b[0m \u001b[1m0s\u001b[0m 2ms/step - acc: 0.8637 - auc: 0.9405 - loss: 0.3659\n",
      "Epoch 64: val_loss did not improve from 0.68340\n",
      "\u001b[1m281/281\u001b[0m \u001b[32m━━━━━━━━━━━━━━━━━━━━\u001b[0m\u001b[37m\u001b[0m \u001b[1m1s\u001b[0m 3ms/step - acc: 0.8652 - auc: 0.9411 - loss: 0.3637 - val_acc: 0.6500 - val_auc: 0.0490 - val_loss: 0.7301\n",
      "Epoch 65/100\n",
      "\u001b[1m269/281\u001b[0m \u001b[32m━━━━━━━━━━━━━━━━━━━\u001b[0m\u001b[37m━\u001b[0m \u001b[1m0s\u001b[0m 2ms/step - acc: 0.8864 - auc: 0.9544 - loss: 0.3340\n",
      "Epoch 65: val_loss did not improve from 0.68340\n",
      "\u001b[1m281/281\u001b[0m \u001b[32m━━━━━━━━━━━━━━━━━━━━\u001b[0m\u001b[37m\u001b[0m \u001b[1m1s\u001b[0m 3ms/step - acc: 0.8862 - auc: 0.9541 - loss: 0.3341 - val_acc: 0.6500 - val_auc: 0.0490 - val_loss: 0.7316\n",
      "Epoch 66/100\n",
      "\u001b[1m265/281\u001b[0m \u001b[32m━━━━━━━━━━━━━━━━━━\u001b[0m\u001b[37m━━\u001b[0m \u001b[1m0s\u001b[0m 2ms/step - acc: 0.8801 - auc: 0.9009 - loss: 0.3478\n",
      "Epoch 66: val_loss did not improve from 0.68340\n",
      "\u001b[1m281/281\u001b[0m \u001b[32m━━━━━━━━━━━━━━━━━━━━\u001b[0m\u001b[37m\u001b[0m \u001b[1m1s\u001b[0m 3ms/step - acc: 0.8802 - auc: 0.9031 - loss: 0.3474 - val_acc: 0.6500 - val_auc: 0.0490 - val_loss: 0.7345\n",
      "Epoch 67/100\n",
      "\u001b[1m267/281\u001b[0m \u001b[32m━━━━━━━━━━━━━━━━━━━\u001b[0m\u001b[37m━\u001b[0m \u001b[1m0s\u001b[0m 2ms/step - acc: 0.8863 - auc: 0.9055 - loss: 0.3467\n",
      "Epoch 67: val_loss did not improve from 0.68340\n",
      "\u001b[1m281/281\u001b[0m \u001b[32m━━━━━━━━━━━━━━━━━━━━\u001b[0m\u001b[37m\u001b[0m \u001b[1m1s\u001b[0m 3ms/step - acc: 0.8861 - auc: 0.9068 - loss: 0.3463 - val_acc: 0.6500 - val_auc: 0.0490 - val_loss: 0.7374\n",
      "Epoch 68/100\n",
      "\u001b[1m267/281\u001b[0m \u001b[32m━━━━━━━━━━━━━━━━━━━\u001b[0m\u001b[37m━\u001b[0m \u001b[1m0s\u001b[0m 2ms/step - acc: 0.8896 - auc: 0.9457 - loss: 0.3358\n",
      "Epoch 68: val_loss did not improve from 0.68340\n",
      "\u001b[1m281/281\u001b[0m \u001b[32m━━━━━━━━━━━━━━━━━━━━\u001b[0m\u001b[37m\u001b[0m \u001b[1m1s\u001b[0m 3ms/step - acc: 0.8890 - auc: 0.9455 - loss: 0.3360 - val_acc: 0.6500 - val_auc: 0.0490 - val_loss: 0.7371\n",
      "Epoch 69/100\n",
      "\u001b[1m267/281\u001b[0m \u001b[32m━━━━━━━━━━━━━━━━━━━\u001b[0m\u001b[37m━\u001b[0m \u001b[1m0s\u001b[0m 2ms/step - acc: 0.8643 - auc: 0.9376 - loss: 0.3552\n",
      "Epoch 69: val_loss did not improve from 0.68340\n",
      "\u001b[1m281/281\u001b[0m \u001b[32m━━━━━━━━━━━━━━━━━━━━\u001b[0m\u001b[37m\u001b[0m \u001b[1m1s\u001b[0m 3ms/step - acc: 0.8652 - auc: 0.9376 - loss: 0.3541 - val_acc: 0.6500 - val_auc: 0.0490 - val_loss: 0.7444\n",
      "Epoch 70/100\n",
      "\u001b[1m268/281\u001b[0m \u001b[32m━━━━━━━━━━━━━━━━━━━\u001b[0m\u001b[37m━\u001b[0m \u001b[1m0s\u001b[0m 2ms/step - acc: 0.8680 - auc: 0.9306 - loss: 0.3432\n",
      "Epoch 70: val_loss did not improve from 0.68340\n",
      "\u001b[1m281/281\u001b[0m \u001b[32m━━━━━━━━━━━━━━━━━━━━\u001b[0m\u001b[37m\u001b[0m \u001b[1m1s\u001b[0m 3ms/step - acc: 0.8686 - auc: 0.9306 - loss: 0.3429 - val_acc: 0.6500 - val_auc: 0.0490 - val_loss: 0.7415\n",
      "Epoch 71/100\n",
      "\u001b[1m267/281\u001b[0m \u001b[32m━━━━━━━━━━━━━━━━━━━\u001b[0m\u001b[37m━\u001b[0m \u001b[1m0s\u001b[0m 2ms/step - acc: 0.8865 - auc: 0.9408 - loss: 0.3329\n",
      "Epoch 71: val_loss did not improve from 0.68340\n",
      "\u001b[1m281/281\u001b[0m \u001b[32m━━━━━━━━━━━━━━━━━━━━\u001b[0m\u001b[37m\u001b[0m \u001b[1m1s\u001b[0m 3ms/step - acc: 0.8862 - auc: 0.9409 - loss: 0.3329 - val_acc: 0.6500 - val_auc: 0.0490 - val_loss: 0.7476\n",
      "Epoch 72/100\n",
      "\u001b[1m266/281\u001b[0m \u001b[32m━━━━━━━━━━━━━━━━━━\u001b[0m\u001b[37m━━\u001b[0m \u001b[1m0s\u001b[0m 2ms/step - acc: 0.8924 - auc: 0.9398 - loss: 0.3247\n",
      "Epoch 72: val_loss did not improve from 0.68340\n",
      "\u001b[1m281/281\u001b[0m \u001b[32m━━━━━━━━━━━━━━━━━━━━\u001b[0m\u001b[37m\u001b[0m \u001b[1m1s\u001b[0m 3ms/step - acc: 0.8919 - auc: 0.9402 - loss: 0.3248 - val_acc: 0.6500 - val_auc: 0.0490 - val_loss: 0.7472\n",
      "Epoch 73/100\n",
      "\u001b[1m271/281\u001b[0m \u001b[32m━━━━━━━━━━━━━━━━━━━\u001b[0m\u001b[37m━\u001b[0m \u001b[1m0s\u001b[0m 2ms/step - acc: 0.8801 - auc: 0.9348 - loss: 0.3337\n",
      "Epoch 73: val_loss did not improve from 0.68340\n",
      "\u001b[1m281/281\u001b[0m \u001b[32m━━━━━━━━━━━━━━━━━━━━\u001b[0m\u001b[37m\u001b[0m \u001b[1m1s\u001b[0m 3ms/step - acc: 0.8803 - auc: 0.9354 - loss: 0.3334 - val_acc: 0.6500 - val_auc: 0.0490 - val_loss: 0.7503\n",
      "Epoch 74/100\n",
      "\u001b[1m267/281\u001b[0m \u001b[32m━━━━━━━━━━━━━━━━━━━\u001b[0m\u001b[37m━\u001b[0m \u001b[1m0s\u001b[0m 2ms/step - acc: 0.8759 - auc: 0.9350 - loss: 0.3297\n",
      "Epoch 74: val_loss did not improve from 0.68340\n",
      "\u001b[1m281/281\u001b[0m \u001b[32m━━━━━━━━━━━━━━━━━━━━\u001b[0m\u001b[37m\u001b[0m \u001b[1m1s\u001b[0m 3ms/step - acc: 0.8762 - auc: 0.9353 - loss: 0.3295 - val_acc: 0.6500 - val_auc: 0.0490 - val_loss: 0.7588\n",
      "Epoch 75/100\n",
      "\u001b[1m271/281\u001b[0m \u001b[32m━━━━━━━━━━━━━━━━━━━\u001b[0m\u001b[37m━\u001b[0m \u001b[1m0s\u001b[0m 2ms/step - acc: 0.8715 - auc: 0.9155 - loss: 0.3428\n",
      "Epoch 75: val_loss did not improve from 0.68340\n",
      "\u001b[1m281/281\u001b[0m \u001b[32m━━━━━━━━━━━━━━━━━━━━\u001b[0m\u001b[37m\u001b[0m \u001b[1m1s\u001b[0m 3ms/step - acc: 0.8720 - auc: 0.9161 - loss: 0.3421 - val_acc: 0.6500 - val_auc: 0.0490 - val_loss: 0.7537\n",
      "Epoch 76/100\n",
      "\u001b[1m271/281\u001b[0m \u001b[32m━━━━━━━━━━━━━━━━━━━\u001b[0m\u001b[37m━\u001b[0m \u001b[1m0s\u001b[0m 2ms/step - acc: 0.8905 - auc: 0.9396 - loss: 0.3135\n",
      "Epoch 76: val_loss did not improve from 0.68340\n",
      "\u001b[1m281/281\u001b[0m \u001b[32m━━━━━━━━━━━━━━━━━━━━\u001b[0m\u001b[37m\u001b[0m \u001b[1m1s\u001b[0m 3ms/step - acc: 0.8902 - auc: 0.9396 - loss: 0.3139 - val_acc: 0.6500 - val_auc: 0.0490 - val_loss: 0.7589\n",
      "Epoch 77/100\n",
      "\u001b[1m267/281\u001b[0m \u001b[32m━━━━━━━━━━━━━━━━━━━\u001b[0m\u001b[37m━\u001b[0m \u001b[1m0s\u001b[0m 2ms/step - acc: 0.8735 - auc: 0.9212 - loss: 0.3398\n",
      "Epoch 77: val_loss did not improve from 0.68340\n",
      "\u001b[1m281/281\u001b[0m \u001b[32m━━━━━━━━━━━━━━━━━━━━\u001b[0m\u001b[37m\u001b[0m \u001b[1m1s\u001b[0m 3ms/step - acc: 0.8740 - auc: 0.9220 - loss: 0.3389 - val_acc: 0.6500 - val_auc: 0.0490 - val_loss: 0.7605\n",
      "Epoch 78/100\n",
      "\u001b[1m261/281\u001b[0m \u001b[32m━━━━━━━━━━━━━━━━━━\u001b[0m\u001b[37m━━\u001b[0m \u001b[1m0s\u001b[0m 2ms/step - acc: 0.8969 - auc: 0.9101 - loss: 0.3143\n",
      "Epoch 78: val_loss did not improve from 0.68340\n",
      "\u001b[1m281/281\u001b[0m \u001b[32m━━━━━━━━━━━━━━━━━━━━\u001b[0m\u001b[37m\u001b[0m \u001b[1m1s\u001b[0m 3ms/step - acc: 0.8959 - auc: 0.9118 - loss: 0.3149 - val_acc: 0.6500 - val_auc: 0.0490 - val_loss: 0.7612\n",
      "Epoch 79/100\n",
      "\u001b[1m262/281\u001b[0m \u001b[32m━━━━━━━━━━━━━━━━━━\u001b[0m\u001b[37m━━\u001b[0m \u001b[1m0s\u001b[0m 2ms/step - acc: 0.8826 - auc: 0.9432 - loss: 0.3246\n",
      "Epoch 79: val_loss did not improve from 0.68340\n",
      "\u001b[1m281/281\u001b[0m \u001b[32m━━━━━━━━━━━━━━━━━━━━\u001b[0m\u001b[37m\u001b[0m \u001b[1m1s\u001b[0m 3ms/step - acc: 0.8827 - auc: 0.9430 - loss: 0.3243 - val_acc: 0.6500 - val_auc: 0.0490 - val_loss: 0.7649\n",
      "Epoch 80/100\n",
      "\u001b[1m258/281\u001b[0m \u001b[32m━━━━━━━━━━━━━━━━━━\u001b[0m\u001b[37m━━\u001b[0m \u001b[1m0s\u001b[0m 2ms/step - acc: 0.8739 - auc: 0.9346 - loss: 0.3332\n",
      "Epoch 80: val_loss did not improve from 0.68340\n",
      "\u001b[1m281/281\u001b[0m \u001b[32m━━━━━━━━━━━━━━━━━━━━\u001b[0m\u001b[37m\u001b[0m \u001b[1m1s\u001b[0m 3ms/step - acc: 0.8746 - auc: 0.9361 - loss: 0.3319 - val_acc: 0.6500 - val_auc: 0.0490 - val_loss: 0.7716\n",
      "Epoch 81/100\n",
      "\u001b[1m262/281\u001b[0m \u001b[32m━━━━━━━━━━━━━━━━━━\u001b[0m\u001b[37m━━\u001b[0m \u001b[1m0s\u001b[0m 2ms/step - acc: 0.8773 - auc: 0.9247 - loss: 0.3327\n",
      "Epoch 81: val_loss did not improve from 0.68340\n",
      "\u001b[1m281/281\u001b[0m \u001b[32m━━━━━━━━━━━━━━━━━━━━\u001b[0m\u001b[37m\u001b[0m \u001b[1m1s\u001b[0m 3ms/step - acc: 0.8778 - auc: 0.9263 - loss: 0.3316 - val_acc: 0.6500 - val_auc: 0.0490 - val_loss: 0.7758\n",
      "Epoch 82/100\n",
      "\u001b[1m265/281\u001b[0m \u001b[32m━━━━━━━━━━━━━━━━━━\u001b[0m\u001b[37m━━\u001b[0m \u001b[1m0s\u001b[0m 2ms/step - acc: 0.8904 - auc: 0.9514 - loss: 0.3047\n",
      "Epoch 82: val_loss did not improve from 0.68340\n",
      "\u001b[1m281/281\u001b[0m \u001b[32m━━━━━━━━━━━━━━━━━━━━\u001b[0m\u001b[37m\u001b[0m \u001b[1m1s\u001b[0m 3ms/step - acc: 0.8900 - auc: 0.9509 - loss: 0.3053 - val_acc: 0.6500 - val_auc: 0.0490 - val_loss: 0.7765\n",
      "Epoch 83/100\n",
      "\u001b[1m272/281\u001b[0m \u001b[32m━━━━━━━━━━━━━━━━━━━\u001b[0m\u001b[37m━\u001b[0m \u001b[1m0s\u001b[0m 2ms/step - acc: 0.8949 - auc: 0.9352 - loss: 0.3016\n",
      "Epoch 83: val_loss did not improve from 0.68340\n",
      "\u001b[1m281/281\u001b[0m \u001b[32m━━━━━━━━━━━━━━━━━━━━\u001b[0m\u001b[37m\u001b[0m \u001b[1m1s\u001b[0m 3ms/step - acc: 0.8944 - auc: 0.9353 - loss: 0.3022 - val_acc: 0.6500 - val_auc: 0.0490 - val_loss: 0.7788\n",
      "Epoch 84/100\n",
      "\u001b[1m270/281\u001b[0m \u001b[32m━━━━━━━━━━━━━━━━━━━\u001b[0m\u001b[37m━\u001b[0m \u001b[1m0s\u001b[0m 2ms/step - acc: 0.8792 - auc: 0.9366 - loss: 0.3184\n",
      "Epoch 84: val_loss did not improve from 0.68340\n",
      "\u001b[1m281/281\u001b[0m \u001b[32m━━━━━━━━━━━━━━━━━━━━\u001b[0m\u001b[37m\u001b[0m \u001b[1m1s\u001b[0m 3ms/step - acc: 0.8794 - auc: 0.9368 - loss: 0.3182 - val_acc: 0.6500 - val_auc: 0.0490 - val_loss: 0.7824\n",
      "Epoch 85/100\n",
      "\u001b[1m269/281\u001b[0m \u001b[32m━━━━━━━━━━━━━━━━━━━\u001b[0m\u001b[37m━\u001b[0m \u001b[1m0s\u001b[0m 2ms/step - acc: 0.8821 - auc: 0.9490 - loss: 0.3177\n",
      "Epoch 85: val_loss did not improve from 0.68340\n",
      "\u001b[1m281/281\u001b[0m \u001b[32m━━━━━━━━━━━━━━━━━━━━\u001b[0m\u001b[37m\u001b[0m \u001b[1m1s\u001b[0m 3ms/step - acc: 0.8822 - auc: 0.9492 - loss: 0.3172 - val_acc: 0.6500 - val_auc: 0.0490 - val_loss: 0.7846\n",
      "Epoch 86/100\n",
      "\u001b[1m270/281\u001b[0m \u001b[32m━━━━━━━━━━━━━━━━━━━\u001b[0m\u001b[37m━\u001b[0m \u001b[1m0s\u001b[0m 2ms/step - acc: 0.8870 - auc: 0.9386 - loss: 0.3074\n",
      "Epoch 86: val_loss did not improve from 0.68340\n",
      "\u001b[1m281/281\u001b[0m \u001b[32m━━━━━━━━━━━━━━━━━━━━\u001b[0m\u001b[37m\u001b[0m \u001b[1m1s\u001b[0m 3ms/step - acc: 0.8869 - auc: 0.9389 - loss: 0.3075 - val_acc: 0.6500 - val_auc: 0.0490 - val_loss: 0.7861\n",
      "Epoch 87/100\n",
      "\u001b[1m266/281\u001b[0m \u001b[32m━━━━━━━━━━━━━━━━━━\u001b[0m\u001b[37m━━\u001b[0m \u001b[1m0s\u001b[0m 2ms/step - acc: 0.8770 - auc: 0.9375 - loss: 0.3203\n",
      "Epoch 87: val_loss did not improve from 0.68340\n",
      "\u001b[1m281/281\u001b[0m \u001b[32m━━━━━━━━━━━━━━━━━━━━\u001b[0m\u001b[37m\u001b[0m \u001b[1m1s\u001b[0m 3ms/step - acc: 0.8773 - auc: 0.9374 - loss: 0.3198 - val_acc: 0.6500 - val_auc: 0.0490 - val_loss: 0.7942\n",
      "Epoch 88/100\n",
      "\u001b[1m268/281\u001b[0m \u001b[32m━━━━━━━━━━━━━━━━━━━\u001b[0m\u001b[37m━\u001b[0m \u001b[1m0s\u001b[0m 2ms/step - acc: 0.8855 - auc: 0.9378 - loss: 0.3083\n",
      "Epoch 88: val_loss did not improve from 0.68340\n",
      "\u001b[1m281/281\u001b[0m \u001b[32m━━━━━━━━━━━━━━━━━━━━\u001b[0m\u001b[37m\u001b[0m \u001b[1m1s\u001b[0m 3ms/step - acc: 0.8854 - auc: 0.9376 - loss: 0.3084 - val_acc: 0.6500 - val_auc: 0.0490 - val_loss: 0.7907\n",
      "Epoch 89/100\n",
      "\u001b[1m269/281\u001b[0m \u001b[32m━━━━━━━━━━━━━━━━━━━\u001b[0m\u001b[37m━\u001b[0m \u001b[1m0s\u001b[0m 2ms/step - acc: 0.8880 - auc: 0.9341 - loss: 0.3064\n",
      "Epoch 89: val_loss did not improve from 0.68340\n",
      "\u001b[1m281/281\u001b[0m \u001b[32m━━━━━━━━━━━━━━━━━━━━\u001b[0m\u001b[37m\u001b[0m \u001b[1m1s\u001b[0m 3ms/step - acc: 0.8878 - auc: 0.9338 - loss: 0.3067 - val_acc: 0.6500 - val_auc: 0.0490 - val_loss: 0.7911\n",
      "Epoch 90/100\n",
      "\u001b[1m263/281\u001b[0m \u001b[32m━━━━━━━━━━━━━━━━━━\u001b[0m\u001b[37m━━\u001b[0m \u001b[1m0s\u001b[0m 2ms/step - acc: 0.8890 - auc: 0.9405 - loss: 0.2989\n",
      "Epoch 90: val_loss did not improve from 0.68340\n",
      "\u001b[1m281/281\u001b[0m \u001b[32m━━━━━━━━━━━━━━━━━━━━\u001b[0m\u001b[37m\u001b[0m \u001b[1m1s\u001b[0m 3ms/step - acc: 0.8886 - auc: 0.9397 - loss: 0.2996 - val_acc: 0.6500 - val_auc: 0.0490 - val_loss: 0.7927\n",
      "Epoch 91/100\n",
      "\u001b[1m270/281\u001b[0m \u001b[32m━━━━━━━━━━━━━━━━━━━\u001b[0m\u001b[37m━\u001b[0m \u001b[1m0s\u001b[0m 2ms/step - acc: 0.8811 - auc: 0.9427 - loss: 0.3089\n",
      "Epoch 91: val_loss did not improve from 0.68340\n",
      "\u001b[1m281/281\u001b[0m \u001b[32m━━━━━━━━━━━━━━━━━━━━\u001b[0m\u001b[37m\u001b[0m \u001b[1m1s\u001b[0m 3ms/step - acc: 0.8813 - auc: 0.9428 - loss: 0.3087 - val_acc: 0.6500 - val_auc: 0.0490 - val_loss: 0.7939\n",
      "Epoch 92/100\n",
      "\u001b[1m261/281\u001b[0m \u001b[32m━━━━━━━━━━━━━━━━━━\u001b[0m\u001b[37m━━\u001b[0m \u001b[1m0s\u001b[0m 2ms/step - acc: 0.8934 - auc: 0.9501 - loss: 0.2888\n",
      "Epoch 92: val_loss did not improve from 0.68340\n",
      "\u001b[1m281/281\u001b[0m \u001b[32m━━━━━━━━━━━━━━━━━━━━\u001b[0m\u001b[37m\u001b[0m \u001b[1m1s\u001b[0m 3ms/step - acc: 0.8928 - auc: 0.9494 - loss: 0.2898 - val_acc: 0.6500 - val_auc: 0.0490 - val_loss: 0.8044\n",
      "Epoch 93/100\n",
      "\u001b[1m263/281\u001b[0m \u001b[32m━━━━━━━━━━━━━━━━━━\u001b[0m\u001b[37m━━\u001b[0m \u001b[1m0s\u001b[0m 2ms/step - acc: 0.8836 - auc: 0.9261 - loss: 0.3128\n",
      "Epoch 93: val_loss did not improve from 0.68340\n",
      "\u001b[1m281/281\u001b[0m \u001b[32m━━━━━━━━━━━━━━━━━━━━\u001b[0m\u001b[37m\u001b[0m \u001b[1m1s\u001b[0m 3ms/step - acc: 0.8836 - auc: 0.9264 - loss: 0.3124 - val_acc: 0.6500 - val_auc: 0.0490 - val_loss: 0.7986\n",
      "Epoch 94/100\n",
      "\u001b[1m260/281\u001b[0m \u001b[32m━━━━━━━━━━━━━━━━━━\u001b[0m\u001b[37m━━\u001b[0m \u001b[1m0s\u001b[0m 2ms/step - acc: 0.8811 - auc: 0.9377 - loss: 0.3053\n",
      "Epoch 94: val_loss did not improve from 0.68340\n",
      "\u001b[1m281/281\u001b[0m \u001b[32m━━━━━━━━━━━━━━━━━━━━\u001b[0m\u001b[37m\u001b[0m \u001b[1m1s\u001b[0m 3ms/step - acc: 0.8814 - auc: 0.9379 - loss: 0.3049 - val_acc: 0.6500 - val_auc: 0.0490 - val_loss: 0.8006\n",
      "Epoch 95/100\n",
      "\u001b[1m277/281\u001b[0m \u001b[32m━━━━━━━━━━━━━━━━━━━\u001b[0m\u001b[37m━\u001b[0m \u001b[1m0s\u001b[0m 2ms/step - acc: 0.8869 - auc: 0.9431 - loss: 0.2908\n",
      "Epoch 95: val_loss did not improve from 0.68340\n",
      "\u001b[1m281/281\u001b[0m \u001b[32m━━━━━━━━━━━━━━━━━━━━\u001b[0m\u001b[37m\u001b[0m \u001b[1m1s\u001b[0m 3ms/step - acc: 0.8869 - auc: 0.9430 - loss: 0.2910 - val_acc: 0.6500 - val_auc: 0.0490 - val_loss: 0.8083\n",
      "Epoch 96/100\n",
      "\u001b[1m277/281\u001b[0m \u001b[32m━━━━━━━━━━━━━━━━━━━\u001b[0m\u001b[37m━\u001b[0m \u001b[1m0s\u001b[0m 2ms/step - acc: 0.8925 - auc: 0.9453 - loss: 0.2922\n",
      "Epoch 96: val_loss did not improve from 0.68340\n",
      "\u001b[1m281/281\u001b[0m \u001b[32m━━━━━━━━━━━━━━━━━━━━\u001b[0m\u001b[37m\u001b[0m \u001b[1m1s\u001b[0m 3ms/step - acc: 0.8923 - auc: 0.9453 - loss: 0.2923 - val_acc: 0.6500 - val_auc: 0.0490 - val_loss: 0.8129\n",
      "Epoch 97/100\n",
      "\u001b[1m266/281\u001b[0m \u001b[32m━━━━━━━━━━━━━━━━━━\u001b[0m\u001b[37m━━\u001b[0m \u001b[1m0s\u001b[0m 2ms/step - acc: 0.9016 - auc: 0.9480 - loss: 0.2758\n",
      "Epoch 97: val_loss did not improve from 0.68340\n",
      "\u001b[1m281/281\u001b[0m \u001b[32m━━━━━━━━━━━━━━━━━━━━\u001b[0m\u001b[37m\u001b[0m \u001b[1m1s\u001b[0m 3ms/step - acc: 0.9006 - auc: 0.9475 - loss: 0.2771 - val_acc: 0.6500 - val_auc: 0.0490 - val_loss: 0.8125\n",
      "Epoch 98/100\n",
      "\u001b[1m266/281\u001b[0m \u001b[32m━━━━━━━━━━━━━━━━━━\u001b[0m\u001b[37m━━\u001b[0m \u001b[1m0s\u001b[0m 2ms/step - acc: 0.8882 - auc: 0.9421 - loss: 0.2961\n",
      "Epoch 98: val_loss did not improve from 0.68340\n",
      "\u001b[1m281/281\u001b[0m \u001b[32m━━━━━━━━━━━━━━━━━━━━\u001b[0m\u001b[37m\u001b[0m \u001b[1m1s\u001b[0m 3ms/step - acc: 0.8878 - auc: 0.9416 - loss: 0.2965 - val_acc: 0.6500 - val_auc: 0.0490 - val_loss: 0.8178\n",
      "Epoch 99/100\n",
      "\u001b[1m273/281\u001b[0m \u001b[32m━━━━━━━━━━━━━━━━━━━\u001b[0m\u001b[37m━\u001b[0m \u001b[1m0s\u001b[0m 2ms/step - acc: 0.8577 - auc: 0.8942 - loss: 0.3417\n",
      "Epoch 99: val_loss did not improve from 0.68340\n",
      "\u001b[1m281/281\u001b[0m \u001b[32m━━━━━━━━━━━━━━━━━━━━\u001b[0m\u001b[37m\u001b[0m \u001b[1m1s\u001b[0m 3ms/step - acc: 0.8585 - auc: 0.8956 - loss: 0.3404 - val_acc: 0.6500 - val_auc: 0.0490 - val_loss: 0.8231\n",
      "Epoch 100/100\n",
      "\u001b[1m272/281\u001b[0m \u001b[32m━━━━━━━━━━━━━━━━━━━\u001b[0m\u001b[37m━\u001b[0m \u001b[1m0s\u001b[0m 2ms/step - acc: 0.8582 - auc: 0.9326 - loss: 0.3267\n",
      "Epoch 100: val_loss did not improve from 0.68340\n",
      "\u001b[1m281/281\u001b[0m \u001b[32m━━━━━━━━━━━━━━━━━━━━\u001b[0m\u001b[37m\u001b[0m \u001b[1m1s\u001b[0m 3ms/step - acc: 0.8591 - auc: 0.9329 - loss: 0.3257 - val_acc: 0.6500 - val_auc: 0.0490 - val_loss: 0.8175\n"
     ]
    },
    {
     "name": "stderr",
     "output_type": "stream",
     "text": [
      "WARNING:absl:Compiled the loaded model, but the compiled metrics have yet to be built. `model.compile_metrics` will be empty until you train or evaluate the model.\n"
     ]
    },
    {
     "name": "stdout",
     "output_type": "stream",
     "text": [
      "Fold 7 | VAL  | AUC=0.0490 | ACC=0.6500 | n=220\n",
      "Fold 7 | TEST | AUC=0.1550 | ACC=0.2246 | n=138\n",
      "\n",
      "--- Fold 8/10 ---\n",
      " train | ids:   36 | files:  928 | pos:  269 | neg:  659\n",
      "   val | ids:    4 | files:  192 | pos:   77 | neg:  115\n",
      "  test | ids:    4 | files:   80 | pos:   59 | neg:   21\n",
      "Epoch 1/100\n"
     ]
    },
    {
     "name": "stderr",
     "output_type": "stream",
     "text": [
      "/usr/local/lib/python3.12/dist-packages/keras/src/models/functional.py:241: UserWarning: The structure of `inputs` doesn't match the expected structure.\n",
      "Expected: tab_input\n",
      "Received: inputs=['Tensor(shape=(None, 4))']\n",
      "  warnings.warn(msg)\n"
     ]
    },
    {
     "name": "stdout",
     "output_type": "stream",
     "text": [
      "\u001b[1m286/310\u001b[0m \u001b[32m━━━━━━━━━━━━━━━━━━\u001b[0m\u001b[37m━━\u001b[0m \u001b[1m0s\u001b[0m 6ms/step - acc: 0.3625 - auc: 0.5238 - loss: 0.7707\n",
      "Epoch 1: val_loss improved from inf to 0.71612, saving model to best_tab_only_fold8.h5\n"
     ]
    },
    {
     "name": "stderr",
     "output_type": "stream",
     "text": [
      "WARNING:absl:You are saving your model as an HDF5 file via `model.save()` or `keras.saving.save_model(model)`. This file format is considered legacy. We recommend using instead the native Keras format, e.g. `model.save('my_model.keras')` or `keras.saving.save_model(model, 'my_model.keras')`. \n"
     ]
    },
    {
     "name": "stdout",
     "output_type": "stream",
     "text": [
      "\b\b\b\b\b\b\b\b\b\b\b\b\b\b\b\b\b\b\b\b\b\b\b\b\b\b\b\b\b\b\b\b\b\b\b\b\b\b\b\b\b\b\b\b\b\b\b\b\b\b\b\b\b\b\b\b\b\b\b\b\b\b\b\b\b\b\b\b\b\b\b\b\b\b\b\b\b\b\b\b\b\b\b\r",
      "\u001b[1m310/310\u001b[0m \u001b[32m━━━━━━━━━━━━━━━━━━━━\u001b[0m\u001b[37m\u001b[0m \u001b[1m5s\u001b[0m 10ms/step - acc: 0.3612 - auc: 0.5252 - loss: 0.7702 - val_acc: 0.4010 - val_auc: 0.0000e+00 - val_loss: 0.7161\n",
      "Epoch 2/100\n",
      "\u001b[1m302/310\u001b[0m \u001b[32m━━━━━━━━━━━━━━━━━━━\u001b[0m\u001b[37m━\u001b[0m \u001b[1m0s\u001b[0m 2ms/step - acc: 0.3844 - auc: 0.6243 - loss: 0.7144\n",
      "Epoch 2: val_loss improved from 0.71612 to 0.70013, saving model to best_tab_only_fold8.h5\n"
     ]
    },
    {
     "name": "stderr",
     "output_type": "stream",
     "text": [
      "WARNING:absl:You are saving your model as an HDF5 file via `model.save()` or `keras.saving.save_model(model)`. This file format is considered legacy. We recommend using instead the native Keras format, e.g. `model.save('my_model.keras')` or `keras.saving.save_model(model, 'my_model.keras')`. \n"
     ]
    },
    {
     "name": "stdout",
     "output_type": "stream",
     "text": [
      "\b\b\b\b\b\b\b\b\b\b\b\b\b\b\b\b\b\b\b\b\b\b\b\b\b\b\b\b\b\b\b\b\b\b\b\b\b\b\b\b\b\b\b\b\b\b\b\b\b\b\b\b\b\b\b\b\b\b\b\b\b\b\b\b\b\b\b\b\b\b\b\b\b\b\b\b\b\b\b\b\b\b\b\r",
      "\u001b[1m310/310\u001b[0m \u001b[32m━━━━━━━━━━━━━━━━━━━━\u001b[0m\u001b[37m\u001b[0m \u001b[1m1s\u001b[0m 3ms/step - acc: 0.3847 - auc: 0.6250 - loss: 0.7141 - val_acc: 0.4010 - val_auc: 0.1000 - val_loss: 0.7001\n",
      "Epoch 3/100\n",
      "\u001b[1m305/310\u001b[0m \u001b[32m━━━━━━━━━━━━━━━━━━━\u001b[0m\u001b[37m━\u001b[0m \u001b[1m0s\u001b[0m 2ms/step - acc: 0.5156 - auc: 0.7358 - loss: 0.6720\n",
      "Epoch 3: val_loss improved from 0.70013 to 0.68975, saving model to best_tab_only_fold8.h5\n"
     ]
    },
    {
     "name": "stderr",
     "output_type": "stream",
     "text": [
      "WARNING:absl:You are saving your model as an HDF5 file via `model.save()` or `keras.saving.save_model(model)`. This file format is considered legacy. We recommend using instead the native Keras format, e.g. `model.save('my_model.keras')` or `keras.saving.save_model(model, 'my_model.keras')`. \n"
     ]
    },
    {
     "name": "stdout",
     "output_type": "stream",
     "text": [
      "\b\b\b\b\b\b\b\b\b\b\b\b\b\b\b\b\b\b\b\b\b\b\b\b\b\b\b\b\b\b\b\b\b\b\b\b\b\b\b\b\b\b\b\b\b\b\b\b\b\b\b\b\b\b\b\b\b\b\b\b\b\b\b\b\b\b\b\b\b\b\b\b\b\b\b\b\b\b\b\b\b\b\b\r",
      "\u001b[1m310/310\u001b[0m \u001b[32m━━━━━━━━━━━━━━━━━━━━\u001b[0m\u001b[37m\u001b[0m \u001b[1m1s\u001b[0m 3ms/step - acc: 0.5173 - auc: 0.7357 - loss: 0.6719 - val_acc: 0.5990 - val_auc: 0.0000e+00 - val_loss: 0.6898\n",
      "Epoch 4/100\n",
      "\u001b[1m305/310\u001b[0m \u001b[32m━━━━━━━━━━━━━━━━━━━\u001b[0m\u001b[37m━\u001b[0m \u001b[1m0s\u001b[0m 2ms/step - acc: 0.7009 - auc: 0.6542 - loss: 0.6535\n",
      "Epoch 4: val_loss improved from 0.68975 to 0.68422, saving model to best_tab_only_fold8.h5\n"
     ]
    },
    {
     "name": "stderr",
     "output_type": "stream",
     "text": [
      "WARNING:absl:You are saving your model as an HDF5 file via `model.save()` or `keras.saving.save_model(model)`. This file format is considered legacy. We recommend using instead the native Keras format, e.g. `model.save('my_model.keras')` or `keras.saving.save_model(model, 'my_model.keras')`. \n"
     ]
    },
    {
     "name": "stdout",
     "output_type": "stream",
     "text": [
      "\b\b\b\b\b\b\b\b\b\b\b\b\b\b\b\b\b\b\b\b\b\b\b\b\b\b\b\b\b\b\b\b\b\b\b\b\b\b\b\b\b\b\b\b\b\b\b\b\b\b\b\b\b\b\b\b\b\b\b\b\b\b\b\b\b\b\b\b\b\b\b\b\b\b\b\b\b\b\b\b\b\b\b\r",
      "\u001b[1m310/310\u001b[0m \u001b[32m━━━━━━━━━━━━━━━━━━━━\u001b[0m\u001b[37m\u001b[0m \u001b[1m1s\u001b[0m 3ms/step - acc: 0.7016 - auc: 0.6545 - loss: 0.6534 - val_acc: 0.5990 - val_auc: 0.1522 - val_loss: 0.6842\n",
      "Epoch 5/100\n",
      "\u001b[1m289/310\u001b[0m \u001b[32m━━━━━━━━━━━━━━━━━━\u001b[0m\u001b[37m━━\u001b[0m \u001b[1m0s\u001b[0m 2ms/step - acc: 0.8171 - auc: 0.6941 - loss: 0.6224\n",
      "Epoch 5: val_loss improved from 0.68422 to 0.68026, saving model to best_tab_only_fold8.h5\n"
     ]
    },
    {
     "name": "stderr",
     "output_type": "stream",
     "text": [
      "WARNING:absl:You are saving your model as an HDF5 file via `model.save()` or `keras.saving.save_model(model)`. This file format is considered legacy. We recommend using instead the native Keras format, e.g. `model.save('my_model.keras')` or `keras.saving.save_model(model, 'my_model.keras')`. \n"
     ]
    },
    {
     "name": "stdout",
     "output_type": "stream",
     "text": [
      "\b\b\b\b\b\b\b\b\b\b\b\b\b\b\b\b\b\b\b\b\b\b\b\b\b\b\b\b\b\b\b\b\b\b\b\b\b\b\b\b\b\b\b\b\b\b\b\b\b\b\b\b\b\b\b\b\b\b\b\b\b\b\b\b\b\b\b\b\b\b\b\b\b\b\b\b\b\b\b\b\b\b\b\r",
      "\u001b[1m310/310\u001b[0m \u001b[32m━━━━━━━━━━━━━━━━━━━━\u001b[0m\u001b[37m\u001b[0m \u001b[1m1s\u001b[0m 3ms/step - acc: 0.8157 - auc: 0.6917 - loss: 0.6226 - val_acc: 0.5990 - val_auc: 0.5000 - val_loss: 0.6803\n",
      "Epoch 6/100\n",
      "\u001b[1m291/310\u001b[0m \u001b[32m━━━━━━━━━━━━━━━━━━\u001b[0m\u001b[37m━━\u001b[0m \u001b[1m0s\u001b[0m 2ms/step - acc: 0.8374 - auc: 0.6083 - loss: 0.6122\n",
      "Epoch 6: val_loss improved from 0.68026 to 0.67762, saving model to best_tab_only_fold8.h5\n"
     ]
    },
    {
     "name": "stderr",
     "output_type": "stream",
     "text": [
      "WARNING:absl:You are saving your model as an HDF5 file via `model.save()` or `keras.saving.save_model(model)`. This file format is considered legacy. We recommend using instead the native Keras format, e.g. `model.save('my_model.keras')` or `keras.saving.save_model(model, 'my_model.keras')`. \n"
     ]
    },
    {
     "name": "stdout",
     "output_type": "stream",
     "text": [
      "\b\b\b\b\b\b\b\b\b\b\b\b\b\b\b\b\b\b\b\b\b\b\b\b\b\b\b\b\b\b\b\b\b\b\b\b\b\b\b\b\b\b\b\b\b\b\b\b\b\b\b\b\b\b\b\b\b\b\b\b\b\b\b\b\b\b\b\b\b\b\b\b\b\b\b\b\b\b\b\b\b\b\b\r",
      "\u001b[1m310/310\u001b[0m \u001b[32m━━━━━━━━━━━━━━━━━━━━\u001b[0m\u001b[37m\u001b[0m \u001b[1m1s\u001b[0m 3ms/step - acc: 0.8382 - auc: 0.6094 - loss: 0.6116 - val_acc: 0.5990 - val_auc: 0.1000 - val_loss: 0.6776\n",
      "Epoch 7/100\n",
      "\u001b[1m290/310\u001b[0m \u001b[32m━━━━━━━━━━━━━━━━━━\u001b[0m\u001b[37m━━\u001b[0m \u001b[1m0s\u001b[0m 2ms/step - acc: 0.8445 - auc: 0.5549 - loss: 0.5987\n",
      "Epoch 7: val_loss improved from 0.67762 to 0.67491, saving model to best_tab_only_fold8.h5\n"
     ]
    },
    {
     "name": "stderr",
     "output_type": "stream",
     "text": [
      "WARNING:absl:You are saving your model as an HDF5 file via `model.save()` or `keras.saving.save_model(model)`. This file format is considered legacy. We recommend using instead the native Keras format, e.g. `model.save('my_model.keras')` or `keras.saving.save_model(model, 'my_model.keras')`. \n"
     ]
    },
    {
     "name": "stdout",
     "output_type": "stream",
     "text": [
      "\b\b\b\b\b\b\b\b\b\b\b\b\b\b\b\b\b\b\b\b\b\b\b\b\b\b\b\b\b\b\b\b\b\b\b\b\b\b\b\b\b\b\b\b\b\b\b\b\b\b\b\b\b\b\b\b\b\b\b\b\b\b\b\b\b\b\b\b\b\b\b\b\b\b\b\b\b\b\b\b\b\b\b\r",
      "\u001b[1m310/310\u001b[0m \u001b[32m━━━━━━━━━━━━━━━━━━━━\u001b[0m\u001b[37m\u001b[0m \u001b[1m1s\u001b[0m 3ms/step - acc: 0.8446 - auc: 0.5581 - loss: 0.5982 - val_acc: 0.5990 - val_auc: 0.4478 - val_loss: 0.6749\n",
      "Epoch 8/100\n",
      "\u001b[1m292/310\u001b[0m \u001b[32m━━━━━━━━━━━━━━━━━━\u001b[0m\u001b[37m━━\u001b[0m \u001b[1m0s\u001b[0m 2ms/step - acc: 0.8627 - auc: 0.6610 - loss: 0.5710\n",
      "Epoch 8: val_loss improved from 0.67491 to 0.67388, saving model to best_tab_only_fold8.h5\n"
     ]
    },
    {
     "name": "stderr",
     "output_type": "stream",
     "text": [
      "WARNING:absl:You are saving your model as an HDF5 file via `model.save()` or `keras.saving.save_model(model)`. This file format is considered legacy. We recommend using instead the native Keras format, e.g. `model.save('my_model.keras')` or `keras.saving.save_model(model, 'my_model.keras')`. \n"
     ]
    },
    {
     "name": "stdout",
     "output_type": "stream",
     "text": [
      "\b\b\b\b\b\b\b\b\b\b\b\b\b\b\b\b\b\b\b\b\b\b\b\b\b\b\b\b\b\b\b\b\b\b\b\b\b\b\b\b\b\b\b\b\b\b\b\b\b\b\b\b\b\b\b\b\b\b\b\b\b\b\b\b\b\b\b\b\b\b\b\b\b\b\b\b\b\b\b\b\b\b\b\r",
      "\u001b[1m310/310\u001b[0m \u001b[32m━━━━━━━━━━━━━━━━━━━━\u001b[0m\u001b[37m\u001b[0m \u001b[1m1s\u001b[0m 3ms/step - acc: 0.8617 - auc: 0.6598 - loss: 0.5710 - val_acc: 0.5990 - val_auc: 0.4478 - val_loss: 0.6739\n",
      "Epoch 9/100\n",
      "\u001b[1m291/310\u001b[0m \u001b[32m━━━━━━━━━━━━━━━━━━\u001b[0m\u001b[37m━━\u001b[0m \u001b[1m0s\u001b[0m 2ms/step - acc: 0.8386 - auc: 0.6253 - loss: 0.5760\n",
      "Epoch 9: val_loss improved from 0.67388 to 0.67376, saving model to best_tab_only_fold8.h5\n"
     ]
    },
    {
     "name": "stderr",
     "output_type": "stream",
     "text": [
      "WARNING:absl:You are saving your model as an HDF5 file via `model.save()` or `keras.saving.save_model(model)`. This file format is considered legacy. We recommend using instead the native Keras format, e.g. `model.save('my_model.keras')` or `keras.saving.save_model(model, 'my_model.keras')`. \n"
     ]
    },
    {
     "name": "stdout",
     "output_type": "stream",
     "text": [
      "\b\b\b\b\b\b\b\b\b\b\b\b\b\b\b\b\b\b\b\b\b\b\b\b\b\b\b\b\b\b\b\b\b\b\b\b\b\b\b\b\b\b\b\b\b\b\b\b\b\b\b\b\b\b\b\b\b\b\b\b\b\b\b\b\b\b\b\b\b\b\b\b\b\b\b\b\b\b\b\b\b\b\b\r",
      "\u001b[1m310/310\u001b[0m \u001b[32m━━━━━━━━━━━━━━━━━━━━\u001b[0m\u001b[37m\u001b[0m \u001b[1m1s\u001b[0m 3ms/step - acc: 0.8394 - auc: 0.6253 - loss: 0.5755 - val_acc: 0.5990 - val_auc: 0.4478 - val_loss: 0.6738\n",
      "Epoch 10/100\n",
      "\u001b[1m293/310\u001b[0m \u001b[32m━━━━━━━━━━━━━━━━━━\u001b[0m\u001b[37m━━\u001b[0m \u001b[1m0s\u001b[0m 2ms/step - acc: 0.8333 - auc: 0.6211 - loss: 0.5655\n",
      "Epoch 10: val_loss did not improve from 0.67376\n",
      "\u001b[1m310/310\u001b[0m \u001b[32m━━━━━━━━━━━━━━━━━━━━\u001b[0m\u001b[37m\u001b[0m \u001b[1m1s\u001b[0m 2ms/step - acc: 0.8337 - auc: 0.6214 - loss: 0.5651 - val_acc: 0.5990 - val_auc: 0.4478 - val_loss: 0.6740\n",
      "Epoch 11/100\n",
      "\u001b[1m289/310\u001b[0m \u001b[32m━━━━━━━━━━━━━━━━━━\u001b[0m\u001b[37m━━\u001b[0m \u001b[1m0s\u001b[0m 2ms/step - acc: 0.8397 - auc: 0.5815 - loss: 0.5554\n",
      "Epoch 11: val_loss did not improve from 0.67376\n",
      "\u001b[1m310/310\u001b[0m \u001b[32m━━━━━━━━━━━━━━━━━━━━\u001b[0m\u001b[37m\u001b[0m \u001b[1m1s\u001b[0m 2ms/step - acc: 0.8402 - auc: 0.5844 - loss: 0.5549 - val_acc: 0.5990 - val_auc: 0.4478 - val_loss: 0.6745\n",
      "Epoch 12/100\n",
      "\u001b[1m290/310\u001b[0m \u001b[32m━━━━━━━━━━━━━━━━━━\u001b[0m\u001b[37m━━\u001b[0m \u001b[1m0s\u001b[0m 2ms/step - acc: 0.8451 - auc: 0.6044 - loss: 0.5461\n",
      "Epoch 12: val_loss did not improve from 0.67376\n",
      "\u001b[1m310/310\u001b[0m \u001b[32m━━━━━━━━━━━━━━━━━━━━\u001b[0m\u001b[37m\u001b[0m \u001b[1m1s\u001b[0m 2ms/step - acc: 0.8453 - auc: 0.6077 - loss: 0.5456 - val_acc: 0.5990 - val_auc: 0.4478 - val_loss: 0.6752\n",
      "Epoch 13/100\n",
      "\u001b[1m288/310\u001b[0m \u001b[32m━━━━━━━━━━━━━━━━━━\u001b[0m\u001b[37m━━\u001b[0m \u001b[1m0s\u001b[0m 2ms/step - acc: 0.8604 - auc: 0.6125 - loss: 0.5383\n",
      "Epoch 13: val_loss did not improve from 0.67376\n",
      "\u001b[1m310/310\u001b[0m \u001b[32m━━━━━━━━━━━━━━━━━━━━\u001b[0m\u001b[37m\u001b[0m \u001b[1m1s\u001b[0m 2ms/step - acc: 0.8595 - auc: 0.6147 - loss: 0.5382 - val_acc: 0.5990 - val_auc: 0.4478 - val_loss: 0.6761\n",
      "Epoch 14/100\n",
      "\u001b[1m296/310\u001b[0m \u001b[32m━━━━━━━━━━━━━━━━━━━\u001b[0m\u001b[37m━\u001b[0m \u001b[1m0s\u001b[0m 2ms/step - acc: 0.8508 - auc: 0.6612 - loss: 0.5255\n",
      "Epoch 14: val_loss did not improve from 0.67376\n",
      "\u001b[1m310/310\u001b[0m \u001b[32m━━━━━━━━━━━━━━━━━━━━\u001b[0m\u001b[37m\u001b[0m \u001b[1m1s\u001b[0m 2ms/step - acc: 0.8508 - auc: 0.6613 - loss: 0.5253 - val_acc: 0.5990 - val_auc: 0.5000 - val_loss: 0.6774\n",
      "Epoch 15/100\n",
      "\u001b[1m287/310\u001b[0m \u001b[32m━━━━━━━━━━━━━━━━━━\u001b[0m\u001b[37m━━\u001b[0m \u001b[1m0s\u001b[0m 2ms/step - acc: 0.8473 - auc: 0.6789 - loss: 0.5154\n",
      "Epoch 15: val_loss did not improve from 0.67376\n",
      "\u001b[1m310/310\u001b[0m \u001b[32m━━━━━━━━━━━━━━━━━━━━\u001b[0m\u001b[37m\u001b[0m \u001b[1m1s\u001b[0m 2ms/step - acc: 0.8474 - auc: 0.6773 - loss: 0.5154 - val_acc: 0.5990 - val_auc: 0.4478 - val_loss: 0.6786\n",
      "Epoch 16/100\n",
      "\u001b[1m290/310\u001b[0m \u001b[32m━━━━━━━━━━━━━━━━━━\u001b[0m\u001b[37m━━\u001b[0m \u001b[1m0s\u001b[0m 2ms/step - acc: 0.8482 - auc: 0.6807 - loss: 0.5167\n",
      "Epoch 16: val_loss did not improve from 0.67376\n",
      "\u001b[1m310/310\u001b[0m \u001b[32m━━━━━━━━━━━━━━━━━━━━\u001b[0m\u001b[37m\u001b[0m \u001b[1m1s\u001b[0m 3ms/step - acc: 0.8486 - auc: 0.6787 - loss: 0.5164 - val_acc: 0.5990 - val_auc: 0.4478 - val_loss: 0.6799\n",
      "Epoch 17/100\n",
      "\u001b[1m290/310\u001b[0m \u001b[32m━━━━━━━━━━━━━━━━━━\u001b[0m\u001b[37m━━\u001b[0m \u001b[1m0s\u001b[0m 2ms/step - acc: 0.8479 - auc: 0.6158 - loss: 0.5215\n",
      "Epoch 17: val_loss did not improve from 0.67376\n",
      "\u001b[1m310/310\u001b[0m \u001b[32m━━━━━━━━━━━━━━━━━━━━\u001b[0m\u001b[37m\u001b[0m \u001b[1m1s\u001b[0m 2ms/step - acc: 0.8481 - auc: 0.6168 - loss: 0.5213 - val_acc: 0.5990 - val_auc: 0.8478 - val_loss: 0.6808\n",
      "Epoch 18/100\n",
      "\u001b[1m310/310\u001b[0m \u001b[32m━━━━━━━━━━━━━━━━━━━━\u001b[0m\u001b[37m\u001b[0m \u001b[1m0s\u001b[0m 2ms/step - acc: 0.8480 - auc: 0.6742 - loss: 0.5001\n",
      "Epoch 18: val_loss did not improve from 0.67376\n",
      "\u001b[1m310/310\u001b[0m \u001b[32m━━━━━━━━━━━━━━━━━━━━\u001b[0m\u001b[37m\u001b[0m \u001b[1m1s\u001b[0m 3ms/step - acc: 0.8480 - auc: 0.6743 - loss: 0.5001 - val_acc: 0.5990 - val_auc: 0.4478 - val_loss: 0.6823\n",
      "Epoch 19/100\n",
      "\u001b[1m288/310\u001b[0m \u001b[32m━━━━━━━━━━━━━━━━━━\u001b[0m\u001b[37m━━\u001b[0m \u001b[1m0s\u001b[0m 2ms/step - acc: 0.8445 - auc: 0.6308 - loss: 0.5087\n",
      "Epoch 19: val_loss did not improve from 0.67376\n",
      "\u001b[1m310/310\u001b[0m \u001b[32m━━━━━━━━━━━━━━━━━━━━\u001b[0m\u001b[37m\u001b[0m \u001b[1m1s\u001b[0m 2ms/step - acc: 0.8447 - auc: 0.6318 - loss: 0.5084 - val_acc: 0.5990 - val_auc: 0.5000 - val_loss: 0.6833\n",
      "Epoch 20/100\n",
      "\u001b[1m290/310\u001b[0m \u001b[32m━━━━━━━━━━━━━━━━━━\u001b[0m\u001b[37m━━\u001b[0m \u001b[1m0s\u001b[0m 2ms/step - acc: 0.8532 - auc: 0.6136 - loss: 0.5003\n",
      "Epoch 20: val_loss did not improve from 0.67376\n",
      "\u001b[1m310/310\u001b[0m \u001b[32m━━━━━━━━━━━━━━━━━━━━\u001b[0m\u001b[37m\u001b[0m \u001b[1m1s\u001b[0m 2ms/step - acc: 0.8531 - auc: 0.6154 - loss: 0.5003 - val_acc: 0.5990 - val_auc: 0.5000 - val_loss: 0.6844\n",
      "Epoch 21/100\n",
      "\u001b[1m291/310\u001b[0m \u001b[32m━━━━━━━━━━━━━━━━━━\u001b[0m\u001b[37m━━\u001b[0m \u001b[1m0s\u001b[0m 2ms/step - acc: 0.8704 - auc: 0.6676 - loss: 0.4813\n",
      "Epoch 21: val_loss did not improve from 0.67376\n",
      "\u001b[1m310/310\u001b[0m \u001b[32m━━━━━━━━━━━━━━━━━━━━\u001b[0m\u001b[37m\u001b[0m \u001b[1m1s\u001b[0m 2ms/step - acc: 0.8691 - auc: 0.6649 - loss: 0.4826 - val_acc: 0.5990 - val_auc: 0.9000 - val_loss: 0.6852\n",
      "Epoch 22/100\n",
      "\u001b[1m296/310\u001b[0m \u001b[32m━━━━━━━━━━━━━━━━━━━\u001b[0m\u001b[37m━\u001b[0m \u001b[1m0s\u001b[0m 2ms/step - acc: 0.8433 - auc: 0.6636 - loss: 0.4941\n",
      "Epoch 22: val_loss did not improve from 0.67376\n",
      "\u001b[1m310/310\u001b[0m \u001b[32m━━━━━━━━━━━━━━━━━━━━\u001b[0m\u001b[37m\u001b[0m \u001b[1m1s\u001b[0m 2ms/step - acc: 0.8436 - auc: 0.6631 - loss: 0.4938 - val_acc: 0.5990 - val_auc: 0.5000 - val_loss: 0.6863\n",
      "Epoch 23/100\n",
      "\u001b[1m295/310\u001b[0m \u001b[32m━━━━━━━━━━━━━━━━━━━\u001b[0m\u001b[37m━\u001b[0m \u001b[1m0s\u001b[0m 2ms/step - acc: 0.8481 - auc: 0.6591 - loss: 0.4926\n",
      "Epoch 23: val_loss did not improve from 0.67376\n",
      "\u001b[1m310/310\u001b[0m \u001b[32m━━━━━━━━━━━━━━━━━━━━\u001b[0m\u001b[37m\u001b[0m \u001b[1m1s\u001b[0m 2ms/step - acc: 0.8483 - auc: 0.6591 - loss: 0.4923 - val_acc: 0.5990 - val_auc: 0.5000 - val_loss: 0.6871\n",
      "Epoch 24/100\n",
      "\u001b[1m292/310\u001b[0m \u001b[32m━━━━━━━━━━━━━━━━━━\u001b[0m\u001b[37m━━\u001b[0m \u001b[1m0s\u001b[0m 2ms/step - acc: 0.8640 - auc: 0.6092 - loss: 0.4847\n",
      "Epoch 24: val_loss did not improve from 0.67376\n",
      "\u001b[1m310/310\u001b[0m \u001b[32m━━━━━━━━━━━━━━━━━━━━\u001b[0m\u001b[37m\u001b[0m \u001b[1m1s\u001b[0m 2ms/step - acc: 0.8633 - auc: 0.6104 - loss: 0.4848 - val_acc: 0.5990 - val_auc: 0.5522 - val_loss: 0.6880\n",
      "Epoch 25/100\n",
      "\u001b[1m294/310\u001b[0m \u001b[32m━━━━━━━━━━━━━━━━━━\u001b[0m\u001b[37m━━\u001b[0m \u001b[1m0s\u001b[0m 2ms/step - acc: 0.8541 - auc: 0.6696 - loss: 0.4722\n",
      "Epoch 25: val_loss did not improve from 0.67376\n",
      "\u001b[1m310/310\u001b[0m \u001b[32m━━━━━━━━━━━━━━━━━━━━\u001b[0m\u001b[37m\u001b[0m \u001b[1m1s\u001b[0m 2ms/step - acc: 0.8541 - auc: 0.6688 - loss: 0.4722 - val_acc: 0.5990 - val_auc: 0.5000 - val_loss: 0.6887\n",
      "Epoch 26/100\n",
      "\u001b[1m294/310\u001b[0m \u001b[32m━━━━━━━━━━━━━━━━━━\u001b[0m\u001b[37m━━\u001b[0m \u001b[1m0s\u001b[0m 2ms/step - acc: 0.8546 - auc: 0.6256 - loss: 0.4763\n",
      "Epoch 26: val_loss did not improve from 0.67376\n",
      "\u001b[1m310/310\u001b[0m \u001b[32m━━━━━━━━━━━━━━━━━━━━\u001b[0m\u001b[37m\u001b[0m \u001b[1m1s\u001b[0m 2ms/step - acc: 0.8547 - auc: 0.6264 - loss: 0.4760 - val_acc: 0.5990 - val_auc: 0.5522 - val_loss: 0.6896\n",
      "Epoch 27/100\n",
      "\u001b[1m298/310\u001b[0m \u001b[32m━━━━━━━━━━━━━━━━━━━\u001b[0m\u001b[37m━\u001b[0m \u001b[1m0s\u001b[0m 2ms/step - acc: 0.8579 - auc: 0.6842 - loss: 0.4561\n",
      "Epoch 27: val_loss did not improve from 0.67376\n",
      "\u001b[1m310/310\u001b[0m \u001b[32m━━━━━━━━━━━━━━━━━━━━\u001b[0m\u001b[37m\u001b[0m \u001b[1m1s\u001b[0m 2ms/step - acc: 0.8577 - auc: 0.6836 - loss: 0.4565 - val_acc: 0.5990 - val_auc: 0.5522 - val_loss: 0.6908\n",
      "Epoch 28/100\n",
      "\u001b[1m295/310\u001b[0m \u001b[32m━━━━━━━━━━━━━━━━━━━\u001b[0m\u001b[37m━\u001b[0m \u001b[1m0s\u001b[0m 2ms/step - acc: 0.8619 - auc: 0.6417 - loss: 0.4629\n",
      "Epoch 28: val_loss did not improve from 0.67376\n",
      "\u001b[1m310/310\u001b[0m \u001b[32m━━━━━━━━━━━━━━━━━━━━\u001b[0m\u001b[37m\u001b[0m \u001b[1m1s\u001b[0m 2ms/step - acc: 0.8616 - auc: 0.6410 - loss: 0.4635 - val_acc: 0.5990 - val_auc: 0.5522 - val_loss: 0.6912\n",
      "Epoch 29/100\n",
      "\u001b[1m295/310\u001b[0m \u001b[32m━━━━━━━━━━━━━━━━━━━\u001b[0m\u001b[37m━\u001b[0m \u001b[1m0s\u001b[0m 2ms/step - acc: 0.8463 - auc: 0.6005 - loss: 0.4905\n",
      "Epoch 29: val_loss did not improve from 0.67376\n",
      "\u001b[1m310/310\u001b[0m \u001b[32m━━━━━━━━━━━━━━━━━━━━\u001b[0m\u001b[37m\u001b[0m \u001b[1m1s\u001b[0m 2ms/step - acc: 0.8467 - auc: 0.6009 - loss: 0.4900 - val_acc: 0.5990 - val_auc: 0.5522 - val_loss: 0.6912\n",
      "Epoch 30/100\n",
      "\u001b[1m292/310\u001b[0m \u001b[32m━━━━━━━━━━━━━━━━━━\u001b[0m\u001b[37m━━\u001b[0m \u001b[1m0s\u001b[0m 2ms/step - acc: 0.8338 - auc: 0.6115 - loss: 0.4924\n",
      "Epoch 30: val_loss did not improve from 0.67376\n",
      "\u001b[1m310/310\u001b[0m \u001b[32m━━━━━━━━━━━━━━━━━━━━\u001b[0m\u001b[37m\u001b[0m \u001b[1m1s\u001b[0m 2ms/step - acc: 0.8350 - auc: 0.6134 - loss: 0.4910 - val_acc: 0.5990 - val_auc: 0.9000 - val_loss: 0.6920\n",
      "Epoch 31/100\n",
      "\u001b[1m295/310\u001b[0m \u001b[32m━━━━━━━━━━━━━━━━━━━\u001b[0m\u001b[37m━\u001b[0m \u001b[1m0s\u001b[0m 2ms/step - acc: 0.8516 - auc: 0.6395 - loss: 0.4740\n",
      "Epoch 31: val_loss did not improve from 0.67376\n",
      "\u001b[1m310/310\u001b[0m \u001b[32m━━━━━━━━━━━━━━━━━━━━\u001b[0m\u001b[37m\u001b[0m \u001b[1m1s\u001b[0m 2ms/step - acc: 0.8516 - auc: 0.6407 - loss: 0.4735 - val_acc: 0.5990 - val_auc: 0.5522 - val_loss: 0.6930\n",
      "Epoch 32/100\n",
      "\u001b[1m292/310\u001b[0m \u001b[32m━━━━━━━━━━━━━━━━━━\u001b[0m\u001b[37m━━\u001b[0m \u001b[1m0s\u001b[0m 2ms/step - acc: 0.8570 - auc: 0.6609 - loss: 0.4667\n",
      "Epoch 32: val_loss did not improve from 0.67376\n",
      "\u001b[1m310/310\u001b[0m \u001b[32m━━━━━━━━━━━━━━━━━━━━\u001b[0m\u001b[37m\u001b[0m \u001b[1m1s\u001b[0m 2ms/step - acc: 0.8569 - auc: 0.6611 - loss: 0.4662 - val_acc: 0.5990 - val_auc: 0.9000 - val_loss: 0.6938\n",
      "Epoch 33/100\n",
      "\u001b[1m290/310\u001b[0m \u001b[32m━━━━━━━━━━━━━━━━━━\u001b[0m\u001b[37m━━\u001b[0m \u001b[1m0s\u001b[0m 2ms/step - acc: 0.8562 - auc: 0.5825 - loss: 0.4686\n",
      "Epoch 33: val_loss did not improve from 0.67376\n",
      "\u001b[1m310/310\u001b[0m \u001b[32m━━━━━━━━━━━━━━━━━━━━\u001b[0m\u001b[37m\u001b[0m \u001b[1m1s\u001b[0m 3ms/step - acc: 0.8558 - auc: 0.5839 - loss: 0.4686 - val_acc: 0.5990 - val_auc: 0.9000 - val_loss: 0.6938\n",
      "Epoch 34/100\n",
      "\u001b[1m303/310\u001b[0m \u001b[32m━━━━━━━━━━━━━━━━━━━\u001b[0m\u001b[37m━\u001b[0m \u001b[1m0s\u001b[0m 2ms/step - acc: 0.8623 - auc: 0.6350 - loss: 0.4492\n",
      "Epoch 34: val_loss did not improve from 0.67376\n",
      "\u001b[1m310/310\u001b[0m \u001b[32m━━━━━━━━━━━━━━━━━━━━\u001b[0m\u001b[37m\u001b[0m \u001b[1m1s\u001b[0m 3ms/step - acc: 0.8621 - auc: 0.6349 - loss: 0.4495 - val_acc: 0.5990 - val_auc: 0.5522 - val_loss: 0.6943\n",
      "Epoch 35/100\n",
      "\u001b[1m292/310\u001b[0m \u001b[32m━━━━━━━━━━━━━━━━━━\u001b[0m\u001b[37m━━\u001b[0m \u001b[1m0s\u001b[0m 2ms/step - acc: 0.8512 - auc: 0.6869 - loss: 0.4468\n",
      "Epoch 35: val_loss did not improve from 0.67376\n",
      "\u001b[1m310/310\u001b[0m \u001b[32m━━━━━━━━━━━━━━━━━━━━\u001b[0m\u001b[37m\u001b[0m \u001b[1m1s\u001b[0m 2ms/step - acc: 0.8512 - auc: 0.6849 - loss: 0.4473 - val_acc: 0.5990 - val_auc: 0.5522 - val_loss: 0.6952\n",
      "Epoch 36/100\n",
      "\u001b[1m295/310\u001b[0m \u001b[32m━━━━━━━━━━━━━━━━━━━\u001b[0m\u001b[37m━\u001b[0m \u001b[1m0s\u001b[0m 2ms/step - acc: 0.8635 - auc: 0.7332 - loss: 0.4212\n",
      "Epoch 36: val_loss did not improve from 0.67376\n",
      "\u001b[1m310/310\u001b[0m \u001b[32m━━━━━━━━━━━━━━━━━━━━\u001b[0m\u001b[37m\u001b[0m \u001b[1m1s\u001b[0m 2ms/step - acc: 0.8630 - auc: 0.7310 - loss: 0.4221 - val_acc: 0.5990 - val_auc: 0.5522 - val_loss: 0.6967\n",
      "Epoch 37/100\n",
      "\u001b[1m297/310\u001b[0m \u001b[32m━━━━━━━━━━━━━━━━━━━\u001b[0m\u001b[37m━\u001b[0m \u001b[1m0s\u001b[0m 2ms/step - acc: 0.8481 - auc: 0.6307 - loss: 0.4648\n",
      "Epoch 37: val_loss did not improve from 0.67376\n",
      "\u001b[1m310/310\u001b[0m \u001b[32m━━━━━━━━━━━━━━━━━━━━\u001b[0m\u001b[37m\u001b[0m \u001b[1m1s\u001b[0m 2ms/step - acc: 0.8483 - auc: 0.6314 - loss: 0.4643 - val_acc: 0.5990 - val_auc: 0.5522 - val_loss: 0.6970\n",
      "Epoch 38/100\n",
      "\u001b[1m294/310\u001b[0m \u001b[32m━━━━━━━━━━━━━━━━━━\u001b[0m\u001b[37m━━\u001b[0m \u001b[1m0s\u001b[0m 2ms/step - acc: 0.8536 - auc: 0.6391 - loss: 0.4523\n",
      "Epoch 38: val_loss did not improve from 0.67376\n",
      "\u001b[1m310/310\u001b[0m \u001b[32m━━━━━━━━━━━━━━━━━━━━\u001b[0m\u001b[37m\u001b[0m \u001b[1m1s\u001b[0m 2ms/step - acc: 0.8534 - auc: 0.6388 - loss: 0.4525 - val_acc: 0.5990 - val_auc: 0.5522 - val_loss: 0.6975\n",
      "Epoch 39/100\n",
      "\u001b[1m296/310\u001b[0m \u001b[32m━━━━━━━━━━━━━━━━━━━\u001b[0m\u001b[37m━\u001b[0m \u001b[1m0s\u001b[0m 2ms/step - acc: 0.8626 - auc: 0.6664 - loss: 0.4364\n",
      "Epoch 39: val_loss did not improve from 0.67376\n",
      "\u001b[1m310/310\u001b[0m \u001b[32m━━━━━━━━━━━━━━━━━━━━\u001b[0m\u001b[37m\u001b[0m \u001b[1m1s\u001b[0m 2ms/step - acc: 0.8619 - auc: 0.6651 - loss: 0.4374 - val_acc: 0.5990 - val_auc: 0.9000 - val_loss: 0.6978\n",
      "Epoch 40/100\n",
      "\u001b[1m296/310\u001b[0m \u001b[32m━━━━━━━━━━━━━━━━━━━\u001b[0m\u001b[37m━\u001b[0m \u001b[1m0s\u001b[0m 2ms/step - acc: 0.8647 - auc: 0.6246 - loss: 0.4435\n",
      "Epoch 40: val_loss did not improve from 0.67376\n",
      "\u001b[1m310/310\u001b[0m \u001b[32m━━━━━━━━━━━━━━━━━━━━\u001b[0m\u001b[37m\u001b[0m \u001b[1m1s\u001b[0m 2ms/step - acc: 0.8641 - auc: 0.6248 - loss: 0.4440 - val_acc: 0.5990 - val_auc: 0.9000 - val_loss: 0.6983\n",
      "Epoch 41/100\n",
      "\u001b[1m296/310\u001b[0m \u001b[32m━━━━━━━━━━━━━━━━━━━\u001b[0m\u001b[37m━\u001b[0m \u001b[1m0s\u001b[0m 2ms/step - acc: 0.8572 - auc: 0.6496 - loss: 0.4375\n",
      "Epoch 41: val_loss did not improve from 0.67376\n",
      "\u001b[1m310/310\u001b[0m \u001b[32m━━━━━━━━━━━━━━━━━━━━\u001b[0m\u001b[37m\u001b[0m \u001b[1m1s\u001b[0m 2ms/step - acc: 0.8569 - auc: 0.6483 - loss: 0.4383 - val_acc: 0.5990 - val_auc: 0.5522 - val_loss: 0.6987\n",
      "Epoch 42/100\n",
      "\u001b[1m298/310\u001b[0m \u001b[32m━━━━━━━━━━━━━━━━━━━\u001b[0m\u001b[37m━\u001b[0m \u001b[1m0s\u001b[0m 2ms/step - acc: 0.8526 - auc: 0.6540 - loss: 0.4429\n",
      "Epoch 42: val_loss did not improve from 0.67376\n",
      "\u001b[1m310/310\u001b[0m \u001b[32m━━━━━━━━━━━━━━━━━━━━\u001b[0m\u001b[37m\u001b[0m \u001b[1m1s\u001b[0m 2ms/step - acc: 0.8525 - auc: 0.6548 - loss: 0.4426 - val_acc: 0.5990 - val_auc: 0.9000 - val_loss: 0.6998\n",
      "Epoch 43/100\n",
      "\u001b[1m296/310\u001b[0m \u001b[32m━━━━━━━━━━━━━━━━━━━\u001b[0m\u001b[37m━\u001b[0m \u001b[1m0s\u001b[0m 2ms/step - acc: 0.8668 - auc: 0.6896 - loss: 0.4329\n",
      "Epoch 43: val_loss did not improve from 0.67376\n",
      "\u001b[1m310/310\u001b[0m \u001b[32m━━━━━━━━━━━━━━━━━━━━\u001b[0m\u001b[37m\u001b[0m \u001b[1m1s\u001b[0m 2ms/step - acc: 0.8662 - auc: 0.6876 - loss: 0.4337 - val_acc: 0.5990 - val_auc: 0.9000 - val_loss: 0.7006\n",
      "Epoch 44/100\n",
      "\u001b[1m293/310\u001b[0m \u001b[32m━━━━━━━━━━━━━━━━━━\u001b[0m\u001b[37m━━\u001b[0m \u001b[1m0s\u001b[0m 2ms/step - acc: 0.8518 - auc: 0.6950 - loss: 0.4363\n",
      "Epoch 44: val_loss did not improve from 0.67376\n",
      "\u001b[1m310/310\u001b[0m \u001b[32m━━━━━━━━━━━━━━━━━━━━\u001b[0m\u001b[37m\u001b[0m \u001b[1m1s\u001b[0m 2ms/step - acc: 0.8517 - auc: 0.6934 - loss: 0.4369 - val_acc: 0.5990 - val_auc: 0.5522 - val_loss: 0.7011\n",
      "Epoch 45/100\n",
      "\u001b[1m294/310\u001b[0m \u001b[32m━━━━━━━━━━━━━━━━━━\u001b[0m\u001b[37m━━\u001b[0m \u001b[1m0s\u001b[0m 2ms/step - acc: 0.8457 - auc: 0.6384 - loss: 0.4547\n",
      "Epoch 45: val_loss did not improve from 0.67376\n",
      "\u001b[1m310/310\u001b[0m \u001b[32m━━━━━━━━━━━━━━━━━━━━\u001b[0m\u001b[37m\u001b[0m \u001b[1m1s\u001b[0m 2ms/step - acc: 0.8461 - auc: 0.6377 - loss: 0.4545 - val_acc: 0.5990 - val_auc: 0.5522 - val_loss: 0.7015\n",
      "Epoch 46/100\n",
      "\u001b[1m291/310\u001b[0m \u001b[32m━━━━━━━━━━━━━━━━━━\u001b[0m\u001b[37m━━\u001b[0m \u001b[1m0s\u001b[0m 2ms/step - acc: 0.8510 - auc: 0.6194 - loss: 0.4535\n",
      "Epoch 46: val_loss did not improve from 0.67376\n",
      "\u001b[1m310/310\u001b[0m \u001b[32m━━━━━━━━━━━━━━━━━━━━\u001b[0m\u001b[37m\u001b[0m \u001b[1m1s\u001b[0m 2ms/step - acc: 0.8511 - auc: 0.6201 - loss: 0.4530 - val_acc: 0.5990 - val_auc: 0.5522 - val_loss: 0.7020\n",
      "Epoch 47/100\n",
      "\u001b[1m287/310\u001b[0m \u001b[32m━━━━━━━━━━━━━━━━━━\u001b[0m\u001b[37m━━\u001b[0m \u001b[1m0s\u001b[0m 2ms/step - acc: 0.8582 - auc: 0.6528 - loss: 0.4286\n",
      "Epoch 47: val_loss did not improve from 0.67376\n",
      "\u001b[1m310/310\u001b[0m \u001b[32m━━━━━━━━━━━━━━━━━━━━\u001b[0m\u001b[37m\u001b[0m \u001b[1m1s\u001b[0m 3ms/step - acc: 0.8577 - auc: 0.6535 - loss: 0.4293 - val_acc: 0.5990 - val_auc: 0.5522 - val_loss: 0.7032\n",
      "Epoch 48/100\n",
      "\u001b[1m291/310\u001b[0m \u001b[32m━━━━━━━━━━━━━━━━━━\u001b[0m\u001b[37m━━\u001b[0m \u001b[1m0s\u001b[0m 2ms/step - acc: 0.8566 - auc: 0.6433 - loss: 0.4342\n",
      "Epoch 48: val_loss did not improve from 0.67376\n",
      "\u001b[1m310/310\u001b[0m \u001b[32m━━━━━━━━━━━━━━━━━━━━\u001b[0m\u001b[37m\u001b[0m \u001b[1m1s\u001b[0m 2ms/step - acc: 0.8564 - auc: 0.6434 - loss: 0.4347 - val_acc: 0.5990 - val_auc: 0.9000 - val_loss: 0.7037\n",
      "Epoch 49/100\n",
      "\u001b[1m306/310\u001b[0m \u001b[32m━━━━━━━━━━━━━━━━━━━\u001b[0m\u001b[37m━\u001b[0m \u001b[1m0s\u001b[0m 2ms/step - acc: 0.8596 - auc: 0.6377 - loss: 0.4404\n",
      "Epoch 49: val_loss did not improve from 0.67376\n",
      "\u001b[1m310/310\u001b[0m \u001b[32m━━━━━━━━━━━━━━━━━━━━\u001b[0m\u001b[37m\u001b[0m \u001b[1m1s\u001b[0m 3ms/step - acc: 0.8595 - auc: 0.6379 - loss: 0.4404 - val_acc: 0.5990 - val_auc: 0.5522 - val_loss: 0.7042\n",
      "Epoch 50/100\n",
      "\u001b[1m291/310\u001b[0m \u001b[32m━━━━━━━━━━━━━━━━━━\u001b[0m\u001b[37m━━\u001b[0m \u001b[1m0s\u001b[0m 2ms/step - acc: 0.8264 - auc: 0.5771 - loss: 0.4752\n",
      "Epoch 50: val_loss did not improve from 0.67376\n",
      "\u001b[1m310/310\u001b[0m \u001b[32m━━━━━━━━━━━━━━━━━━━━\u001b[0m\u001b[37m\u001b[0m \u001b[1m1s\u001b[0m 2ms/step - acc: 0.8282 - auc: 0.5805 - loss: 0.4729 - val_acc: 0.5990 - val_auc: 0.5522 - val_loss: 0.7049\n",
      "Epoch 51/100\n",
      "\u001b[1m292/310\u001b[0m \u001b[32m━━━━━━━━━━━━━━━━━━\u001b[0m\u001b[37m━━\u001b[0m \u001b[1m0s\u001b[0m 2ms/step - acc: 0.8484 - auc: 0.6040 - loss: 0.4487\n",
      "Epoch 51: val_loss did not improve from 0.67376\n",
      "\u001b[1m310/310\u001b[0m \u001b[32m━━━━━━━━━━━━━━━━━━━━\u001b[0m\u001b[37m\u001b[0m \u001b[1m1s\u001b[0m 2ms/step - acc: 0.8486 - auc: 0.6071 - loss: 0.4481 - val_acc: 0.5990 - val_auc: 0.5522 - val_loss: 0.7050\n",
      "Epoch 52/100\n",
      "\u001b[1m290/310\u001b[0m \u001b[32m━━━━━━━━━━━━━━━━━━\u001b[0m\u001b[37m━━\u001b[0m \u001b[1m0s\u001b[0m 2ms/step - acc: 0.8683 - auc: 0.6248 - loss: 0.4268\n",
      "Epoch 52: val_loss did not improve from 0.67376\n",
      "\u001b[1m310/310\u001b[0m \u001b[32m━━━━━━━━━━━━━━━━━━━━\u001b[0m\u001b[37m\u001b[0m \u001b[1m1s\u001b[0m 2ms/step - acc: 0.8673 - auc: 0.6253 - loss: 0.4279 - val_acc: 0.5990 - val_auc: 0.5522 - val_loss: 0.7056\n",
      "Epoch 53/100\n",
      "\u001b[1m296/310\u001b[0m \u001b[32m━━━━━━━━━━━━━━━━━━━\u001b[0m\u001b[37m━\u001b[0m \u001b[1m0s\u001b[0m 2ms/step - acc: 0.8411 - auc: 0.6359 - loss: 0.4452\n",
      "Epoch 53: val_loss did not improve from 0.67376\n",
      "\u001b[1m310/310\u001b[0m \u001b[32m━━━━━━━━━━━━━━━━━━━━\u001b[0m\u001b[37m\u001b[0m \u001b[1m1s\u001b[0m 2ms/step - acc: 0.8416 - auc: 0.6376 - loss: 0.4444 - val_acc: 0.5990 - val_auc: 0.9000 - val_loss: 0.7067\n",
      "Epoch 54/100\n",
      "\u001b[1m294/310\u001b[0m \u001b[32m━━━━━━━━━━━━━━━━━━\u001b[0m\u001b[37m━━\u001b[0m \u001b[1m0s\u001b[0m 2ms/step - acc: 0.8659 - auc: 0.6586 - loss: 0.4147\n",
      "Epoch 54: val_loss did not improve from 0.67376\n",
      "\u001b[1m310/310\u001b[0m \u001b[32m━━━━━━━━━━━━━━━━━━━━\u001b[0m\u001b[37m\u001b[0m \u001b[1m1s\u001b[0m 2ms/step - acc: 0.8654 - auc: 0.6590 - loss: 0.4151 - val_acc: 0.5990 - val_auc: 0.5522 - val_loss: 0.7078\n",
      "Epoch 55/100\n",
      "\u001b[1m294/310\u001b[0m \u001b[32m━━━━━━━━━━━━━━━━━━\u001b[0m\u001b[37m━━\u001b[0m \u001b[1m0s\u001b[0m 2ms/step - acc: 0.8449 - auc: 0.6568 - loss: 0.4364\n",
      "Epoch 55: val_loss did not improve from 0.67376\n",
      "\u001b[1m310/310\u001b[0m \u001b[32m━━━━━━━━━━━━━━━━━━━━\u001b[0m\u001b[37m\u001b[0m \u001b[1m1s\u001b[0m 2ms/step - acc: 0.8453 - auc: 0.6582 - loss: 0.4357 - val_acc: 0.5990 - val_auc: 0.9000 - val_loss: 0.7084\n",
      "Epoch 56/100\n",
      "\u001b[1m294/310\u001b[0m \u001b[32m━━━━━━━━━━━━━━━━━━\u001b[0m\u001b[37m━━\u001b[0m \u001b[1m0s\u001b[0m 2ms/step - acc: 0.8602 - auc: 0.6408 - loss: 0.4204\n",
      "Epoch 56: val_loss did not improve from 0.67376\n",
      "\u001b[1m310/310\u001b[0m \u001b[32m━━━━━━━━━━━━━━━━━━━━\u001b[0m\u001b[37m\u001b[0m \u001b[1m1s\u001b[0m 2ms/step - acc: 0.8599 - auc: 0.6412 - loss: 0.4209 - val_acc: 0.5990 - val_auc: 0.9000 - val_loss: 0.7091\n",
      "Epoch 57/100\n",
      "\u001b[1m294/310\u001b[0m \u001b[32m━━━━━━━━━━━━━━━━━━\u001b[0m\u001b[37m━━\u001b[0m \u001b[1m0s\u001b[0m 2ms/step - acc: 0.8480 - auc: 0.6791 - loss: 0.4264\n",
      "Epoch 57: val_loss did not improve from 0.67376\n",
      "\u001b[1m310/310\u001b[0m \u001b[32m━━━━━━━━━━━━━━━━━━━━\u001b[0m\u001b[37m\u001b[0m \u001b[1m1s\u001b[0m 2ms/step - acc: 0.8483 - auc: 0.6799 - loss: 0.4259 - val_acc: 0.5990 - val_auc: 0.5522 - val_loss: 0.7102\n",
      "Epoch 58/100\n",
      "\u001b[1m295/310\u001b[0m \u001b[32m━━━━━━━━━━━━━━━━━━━\u001b[0m\u001b[37m━\u001b[0m \u001b[1m0s\u001b[0m 2ms/step - acc: 0.8321 - auc: 0.5850 - loss: 0.4648\n",
      "Epoch 58: val_loss did not improve from 0.67376\n",
      "\u001b[1m310/310\u001b[0m \u001b[32m━━━━━━━━━━━━━━━━━━━━\u001b[0m\u001b[37m\u001b[0m \u001b[1m1s\u001b[0m 2ms/step - acc: 0.8331 - auc: 0.5891 - loss: 0.4629 - val_acc: 0.5990 - val_auc: 0.5522 - val_loss: 0.7112\n",
      "Epoch 59/100\n",
      "\u001b[1m297/310\u001b[0m \u001b[32m━━━━━━━━━━━━━━━━━━━\u001b[0m\u001b[37m━\u001b[0m \u001b[1m0s\u001b[0m 2ms/step - acc: 0.8613 - auc: 0.6852 - loss: 0.4029\n",
      "Epoch 59: val_loss did not improve from 0.67376\n",
      "\u001b[1m310/310\u001b[0m \u001b[32m━━━━━━━━━━━━━━━━━━━━\u001b[0m\u001b[37m\u001b[0m \u001b[1m1s\u001b[0m 2ms/step - acc: 0.8609 - auc: 0.6852 - loss: 0.4035 - val_acc: 0.5990 - val_auc: 0.9000 - val_loss: 0.7125\n",
      "Epoch 60/100\n",
      "\u001b[1m292/310\u001b[0m \u001b[32m━━━━━━━━━━━━━━━━━━\u001b[0m\u001b[37m━━\u001b[0m \u001b[1m0s\u001b[0m 2ms/step - acc: 0.8422 - auc: 0.6234 - loss: 0.4447\n",
      "Epoch 60: val_loss did not improve from 0.67376\n",
      "\u001b[1m310/310\u001b[0m \u001b[32m━━━━━━━━━━━━━━━━━━━━\u001b[0m\u001b[37m\u001b[0m \u001b[1m1s\u001b[0m 2ms/step - acc: 0.8427 - auc: 0.6248 - loss: 0.4436 - val_acc: 0.5990 - val_auc: 0.9000 - val_loss: 0.7121\n",
      "Epoch 61/100\n",
      "\u001b[1m294/310\u001b[0m \u001b[32m━━━━━━━━━━━━━━━━━━\u001b[0m\u001b[37m━━\u001b[0m \u001b[1m0s\u001b[0m 2ms/step - acc: 0.8678 - auc: 0.7191 - loss: 0.3937\n",
      "Epoch 61: val_loss did not improve from 0.67376\n",
      "\u001b[1m310/310\u001b[0m \u001b[32m━━━━━━━━━━━━━━━━━━━━\u001b[0m\u001b[37m\u001b[0m \u001b[1m1s\u001b[0m 2ms/step - acc: 0.8670 - auc: 0.7163 - loss: 0.3953 - val_acc: 0.5990 - val_auc: 0.5522 - val_loss: 0.7129\n",
      "Epoch 62/100\n",
      "\u001b[1m293/310\u001b[0m \u001b[32m━━━━━━━━━━━━━━━━━━\u001b[0m\u001b[37m━━\u001b[0m \u001b[1m0s\u001b[0m 2ms/step - acc: 0.8760 - auc: 0.6935 - loss: 0.3925\n",
      "Epoch 62: val_loss did not improve from 0.67376\n",
      "\u001b[1m310/310\u001b[0m \u001b[32m━━━━━━━━━━━━━━━━━━━━\u001b[0m\u001b[37m\u001b[0m \u001b[1m1s\u001b[0m 2ms/step - acc: 0.8748 - auc: 0.6906 - loss: 0.3945 - val_acc: 0.5990 - val_auc: 0.5522 - val_loss: 0.7130\n",
      "Epoch 63/100\n",
      "\u001b[1m288/310\u001b[0m \u001b[32m━━━━━━━━━━━━━━━━━━\u001b[0m\u001b[37m━━\u001b[0m \u001b[1m0s\u001b[0m 2ms/step - acc: 0.8365 - auc: 0.6290 - loss: 0.4440\n",
      "Epoch 63: val_loss did not improve from 0.67376\n",
      "\u001b[1m310/310\u001b[0m \u001b[32m━━━━━━━━━━━━━━━━━━━━\u001b[0m\u001b[37m\u001b[0m \u001b[1m1s\u001b[0m 3ms/step - acc: 0.8378 - auc: 0.6314 - loss: 0.4422 - val_acc: 0.5990 - val_auc: 0.5522 - val_loss: 0.7130\n",
      "Epoch 64/100\n",
      "\u001b[1m309/310\u001b[0m \u001b[32m━━━━━━━━━━━━━━━━━━━\u001b[0m\u001b[37m━\u001b[0m \u001b[1m0s\u001b[0m 2ms/step - acc: 0.8467 - auc: 0.6344 - loss: 0.4335\n",
      "Epoch 64: val_loss did not improve from 0.67376\n",
      "\u001b[1m310/310\u001b[0m \u001b[32m━━━━━━━━━━━━━━━━━━━━\u001b[0m\u001b[37m\u001b[0m \u001b[1m1s\u001b[0m 3ms/step - acc: 0.8467 - auc: 0.6346 - loss: 0.4334 - val_acc: 0.5990 - val_auc: 0.5522 - val_loss: 0.7135\n",
      "Epoch 65/100\n",
      "\u001b[1m309/310\u001b[0m \u001b[32m━━━━━━━━━━━━━━━━━━━\u001b[0m\u001b[37m━\u001b[0m \u001b[1m0s\u001b[0m 2ms/step - acc: 0.8533 - auc: 0.6844 - loss: 0.4121\n",
      "Epoch 65: val_loss did not improve from 0.67376\n",
      "\u001b[1m310/310\u001b[0m \u001b[32m━━━━━━━━━━━━━━━━━━━━\u001b[0m\u001b[37m\u001b[0m \u001b[1m1s\u001b[0m 3ms/step - acc: 0.8533 - auc: 0.6844 - loss: 0.4121 - val_acc: 0.5990 - val_auc: 0.9000 - val_loss: 0.7144\n",
      "Epoch 66/100\n",
      "\u001b[1m288/310\u001b[0m \u001b[32m━━━━━━━━━━━━━━━━━━\u001b[0m\u001b[37m━━\u001b[0m \u001b[1m0s\u001b[0m 2ms/step - acc: 0.8680 - auc: 0.6945 - loss: 0.3941\n",
      "Epoch 66: val_loss did not improve from 0.67376\n",
      "\u001b[1m310/310\u001b[0m \u001b[32m━━━━━━━━━━━━━━━━━━━━\u001b[0m\u001b[37m\u001b[0m \u001b[1m1s\u001b[0m 2ms/step - acc: 0.8670 - auc: 0.6932 - loss: 0.3957 - val_acc: 0.5990 - val_auc: 0.9000 - val_loss: 0.7153\n",
      "Epoch 67/100\n",
      "\u001b[1m290/310\u001b[0m \u001b[32m━━━━━━━━━━━━━━━━━━\u001b[0m\u001b[37m━━\u001b[0m \u001b[1m0s\u001b[0m 2ms/step - acc: 0.8596 - auc: 0.6750 - loss: 0.4093\n",
      "Epoch 67: val_loss did not improve from 0.67376\n",
      "\u001b[1m310/310\u001b[0m \u001b[32m━━━━━━━━━━━━━━━━━━━━\u001b[0m\u001b[37m\u001b[0m \u001b[1m1s\u001b[0m 2ms/step - acc: 0.8593 - auc: 0.6742 - loss: 0.4097 - val_acc: 0.5990 - val_auc: 0.9000 - val_loss: 0.7152\n",
      "Epoch 68/100\n",
      "\u001b[1m293/310\u001b[0m \u001b[32m━━━━━━━━━━━━━━━━━━\u001b[0m\u001b[37m━━\u001b[0m \u001b[1m0s\u001b[0m 2ms/step - acc: 0.8653 - auc: 0.6654 - loss: 0.4096\n",
      "Epoch 68: val_loss did not improve from 0.67376\n",
      "\u001b[1m310/310\u001b[0m \u001b[32m━━━━━━━━━━━━━━━━━━━━\u001b[0m\u001b[37m\u001b[0m \u001b[1m1s\u001b[0m 2ms/step - acc: 0.8646 - auc: 0.6658 - loss: 0.4102 - val_acc: 0.5990 - val_auc: 0.5522 - val_loss: 0.7156\n",
      "Epoch 69/100\n",
      "\u001b[1m292/310\u001b[0m \u001b[32m━━━━━━━━━━━━━━━━━━\u001b[0m\u001b[37m━━\u001b[0m \u001b[1m0s\u001b[0m 2ms/step - acc: 0.8402 - auc: 0.6408 - loss: 0.4427\n",
      "Epoch 69: val_loss did not improve from 0.67376\n",
      "\u001b[1m310/310\u001b[0m \u001b[32m━━━━━━━━━━━━━━━━━━━━\u001b[0m\u001b[37m\u001b[0m \u001b[1m1s\u001b[0m 2ms/step - acc: 0.8408 - auc: 0.6430 - loss: 0.4415 - val_acc: 0.5990 - val_auc: 0.5522 - val_loss: 0.7155\n",
      "Epoch 70/100\n",
      "\u001b[1m286/310\u001b[0m \u001b[32m━━━━━━━━━━━━━━━━━━\u001b[0m\u001b[37m━━\u001b[0m \u001b[1m0s\u001b[0m 2ms/step - acc: 0.8464 - auc: 0.7293 - loss: 0.4086\n",
      "Epoch 70: val_loss did not improve from 0.67376\n",
      "\u001b[1m310/310\u001b[0m \u001b[32m━━━━━━━━━━━━━━━━━━━━\u001b[0m\u001b[37m\u001b[0m \u001b[1m1s\u001b[0m 3ms/step - acc: 0.8466 - auc: 0.7284 - loss: 0.4090 - val_acc: 0.5990 - val_auc: 0.5522 - val_loss: 0.7165\n",
      "Epoch 71/100\n",
      "\u001b[1m295/310\u001b[0m \u001b[32m━━━━━━━━━━━━━━━━━━━\u001b[0m\u001b[37m━\u001b[0m \u001b[1m0s\u001b[0m 2ms/step - acc: 0.8643 - auc: 0.7135 - loss: 0.3990\n",
      "Epoch 71: val_loss did not improve from 0.67376\n",
      "\u001b[1m310/310\u001b[0m \u001b[32m━━━━━━━━━━━━━━━━━━━━\u001b[0m\u001b[37m\u001b[0m \u001b[1m1s\u001b[0m 2ms/step - acc: 0.8638 - auc: 0.7131 - loss: 0.3998 - val_acc: 0.5990 - val_auc: 0.9000 - val_loss: 0.7175\n",
      "Epoch 72/100\n",
      "\u001b[1m293/310\u001b[0m \u001b[32m━━━━━━━━━━━━━━━━━━\u001b[0m\u001b[37m━━\u001b[0m \u001b[1m0s\u001b[0m 2ms/step - acc: 0.8626 - auc: 0.7069 - loss: 0.4030\n",
      "Epoch 72: val_loss did not improve from 0.67376\n",
      "\u001b[1m310/310\u001b[0m \u001b[32m━━━━━━━━━━━━━━━━━━━━\u001b[0m\u001b[37m\u001b[0m \u001b[1m1s\u001b[0m 2ms/step - acc: 0.8620 - auc: 0.7072 - loss: 0.4035 - val_acc: 0.5990 - val_auc: 0.9000 - val_loss: 0.7177\n",
      "Epoch 73/100\n",
      "\u001b[1m293/310\u001b[0m \u001b[32m━━━━━━━━━━━━━━━━━━\u001b[0m\u001b[37m━━\u001b[0m \u001b[1m0s\u001b[0m 2ms/step - acc: 0.8525 - auc: 0.6384 - loss: 0.4302\n",
      "Epoch 73: val_loss did not improve from 0.67376\n",
      "\u001b[1m310/310\u001b[0m \u001b[32m━━━━━━━━━━━━━━━━━━━━\u001b[0m\u001b[37m\u001b[0m \u001b[1m1s\u001b[0m 2ms/step - acc: 0.8524 - auc: 0.6422 - loss: 0.4295 - val_acc: 0.5990 - val_auc: 0.9000 - val_loss: 0.7181\n",
      "Epoch 74/100\n",
      "\u001b[1m295/310\u001b[0m \u001b[32m━━━━━━━━━━━━━━━━━━━\u001b[0m\u001b[37m━\u001b[0m \u001b[1m0s\u001b[0m 2ms/step - acc: 0.8708 - auc: 0.7326 - loss: 0.3947\n",
      "Epoch 74: val_loss did not improve from 0.67376\n",
      "\u001b[1m310/310\u001b[0m \u001b[32m━━━━━━━━━━━━━━━━━━━━\u001b[0m\u001b[37m\u001b[0m \u001b[1m1s\u001b[0m 2ms/step - acc: 0.8698 - auc: 0.7316 - loss: 0.3959 - val_acc: 0.5990 - val_auc: 0.9000 - val_loss: 0.7190\n",
      "Epoch 75/100\n",
      "\u001b[1m290/310\u001b[0m \u001b[32m━━━━━━━━━━━━━━━━━━\u001b[0m\u001b[37m━━\u001b[0m \u001b[1m0s\u001b[0m 2ms/step - acc: 0.8547 - auc: 0.7040 - loss: 0.4168\n",
      "Epoch 75: val_loss did not improve from 0.67376\n",
      "\u001b[1m310/310\u001b[0m \u001b[32m━━━━━━━━━━━━━━━━━━━━\u001b[0m\u001b[37m\u001b[0m \u001b[1m1s\u001b[0m 2ms/step - acc: 0.8549 - auc: 0.7043 - loss: 0.4163 - val_acc: 0.5990 - val_auc: 0.9000 - val_loss: 0.7185\n",
      "Epoch 76/100\n",
      "\u001b[1m288/310\u001b[0m \u001b[32m━━━━━━━━━━━━━━━━━━\u001b[0m\u001b[37m━━\u001b[0m \u001b[1m0s\u001b[0m 2ms/step - acc: 0.8490 - auc: 0.7267 - loss: 0.4235\n",
      "Epoch 76: val_loss did not improve from 0.67376\n",
      "\u001b[1m310/310\u001b[0m \u001b[32m━━━━━━━━━━━━━━━━━━━━\u001b[0m\u001b[37m\u001b[0m \u001b[1m1s\u001b[0m 2ms/step - acc: 0.8493 - auc: 0.7284 - loss: 0.4226 - val_acc: 0.5990 - val_auc: 0.9000 - val_loss: 0.7183\n",
      "Epoch 77/100\n",
      "\u001b[1m291/310\u001b[0m \u001b[32m━━━━━━━━━━━━━━━━━━\u001b[0m\u001b[37m━━\u001b[0m \u001b[1m0s\u001b[0m 2ms/step - acc: 0.8495 - auc: 0.7693 - loss: 0.4110\n",
      "Epoch 77: val_loss did not improve from 0.67376\n",
      "\u001b[1m310/310\u001b[0m \u001b[32m━━━━━━━━━━━━━━━━━━━━\u001b[0m\u001b[37m\u001b[0m \u001b[1m1s\u001b[0m 3ms/step - acc: 0.8497 - auc: 0.7694 - loss: 0.4106 - val_acc: 0.5990 - val_auc: 0.5522 - val_loss: 0.7191\n",
      "Epoch 78/100\n",
      "\u001b[1m307/310\u001b[0m \u001b[32m━━━━━━━━━━━━━━━━━━━\u001b[0m\u001b[37m━\u001b[0m \u001b[1m0s\u001b[0m 2ms/step - acc: 0.8667 - auc: 0.7728 - loss: 0.3905\n",
      "Epoch 78: val_loss did not improve from 0.67376\n",
      "\u001b[1m310/310\u001b[0m \u001b[32m━━━━━━━━━━━━━━━━━━━━\u001b[0m\u001b[37m\u001b[0m \u001b[1m1s\u001b[0m 3ms/step - acc: 0.8665 - auc: 0.7725 - loss: 0.3908 - val_acc: 0.5990 - val_auc: 0.5522 - val_loss: 0.7194\n",
      "Epoch 79/100\n",
      "\u001b[1m286/310\u001b[0m \u001b[32m━━━━━━━━━━━━━━━━━━\u001b[0m\u001b[37m━━\u001b[0m \u001b[1m0s\u001b[0m 2ms/step - acc: 0.8677 - auc: 0.7928 - loss: 0.3798\n",
      "Epoch 79: val_loss did not improve from 0.67376\n",
      "\u001b[1m310/310\u001b[0m \u001b[32m━━━━━━━━━━━━━━━━━━━━\u001b[0m\u001b[37m\u001b[0m \u001b[1m1s\u001b[0m 3ms/step - acc: 0.8667 - auc: 0.7908 - loss: 0.3816 - val_acc: 0.5990 - val_auc: 0.9000 - val_loss: 0.7207\n",
      "Epoch 80/100\n",
      "\u001b[1m288/310\u001b[0m \u001b[32m━━━━━━━━━━━━━━━━━━\u001b[0m\u001b[37m━━\u001b[0m \u001b[1m0s\u001b[0m 2ms/step - acc: 0.8617 - auc: 0.7714 - loss: 0.3946\n",
      "Epoch 80: val_loss did not improve from 0.67376\n",
      "\u001b[1m310/310\u001b[0m \u001b[32m━━━━━━━━━━━━━━━━━━━━\u001b[0m\u001b[37m\u001b[0m \u001b[1m1s\u001b[0m 2ms/step - acc: 0.8608 - auc: 0.7704 - loss: 0.3957 - val_acc: 0.5990 - val_auc: 0.9000 - val_loss: 0.7201\n",
      "Epoch 81/100\n",
      "\u001b[1m291/310\u001b[0m \u001b[32m━━━━━━━━━━━━━━━━━━\u001b[0m\u001b[37m━━\u001b[0m \u001b[1m0s\u001b[0m 2ms/step - acc: 0.8635 - auc: 0.7515 - loss: 0.3943\n",
      "Epoch 81: val_loss did not improve from 0.67376\n",
      "\u001b[1m310/310\u001b[0m \u001b[32m━━━━━━━━━━━━━━━━━━━━\u001b[0m\u001b[37m\u001b[0m \u001b[1m1s\u001b[0m 2ms/step - acc: 0.8627 - auc: 0.7517 - loss: 0.3953 - val_acc: 0.5990 - val_auc: 0.9000 - val_loss: 0.7208\n",
      "Epoch 82/100\n",
      "\u001b[1m294/310\u001b[0m \u001b[32m━━━━━━━━━━━━━━━━━━\u001b[0m\u001b[37m━━\u001b[0m \u001b[1m0s\u001b[0m 2ms/step - acc: 0.8555 - auc: 0.7869 - loss: 0.3947\n",
      "Epoch 82: val_loss did not improve from 0.67376\n",
      "\u001b[1m310/310\u001b[0m \u001b[32m━━━━━━━━━━━━━━━━━━━━\u001b[0m\u001b[37m\u001b[0m \u001b[1m1s\u001b[0m 2ms/step - acc: 0.8554 - auc: 0.7852 - loss: 0.3955 - val_acc: 0.5990 - val_auc: 0.9000 - val_loss: 0.7209\n",
      "Epoch 83/100\n",
      "\u001b[1m291/310\u001b[0m \u001b[32m━━━━━━━━━━━━━━━━━━\u001b[0m\u001b[37m━━\u001b[0m \u001b[1m0s\u001b[0m 2ms/step - acc: 0.8675 - auc: 0.7730 - loss: 0.3866\n",
      "Epoch 83: val_loss did not improve from 0.67376\n",
      "\u001b[1m310/310\u001b[0m \u001b[32m━━━━━━━━━━━━━━━━━━━━\u001b[0m\u001b[37m\u001b[0m \u001b[1m1s\u001b[0m 2ms/step - acc: 0.8668 - auc: 0.7718 - loss: 0.3879 - val_acc: 0.5990 - val_auc: 0.9000 - val_loss: 0.7213\n",
      "Epoch 84/100\n",
      "\u001b[1m298/310\u001b[0m \u001b[32m━━━━━━━━━━━━━━━━━━━\u001b[0m\u001b[37m━\u001b[0m \u001b[1m0s\u001b[0m 2ms/step - acc: 0.8516 - auc: 0.7583 - loss: 0.4096\n",
      "Epoch 84: val_loss did not improve from 0.67376\n",
      "\u001b[1m310/310\u001b[0m \u001b[32m━━━━━━━━━━━━━━━━━━━━\u001b[0m\u001b[37m\u001b[0m \u001b[1m1s\u001b[0m 2ms/step - acc: 0.8516 - auc: 0.7578 - loss: 0.4096 - val_acc: 0.5990 - val_auc: 0.9000 - val_loss: 0.7213\n",
      "Epoch 85/100\n",
      "\u001b[1m296/310\u001b[0m \u001b[32m━━━━━━━━━━━━━━━━━━━\u001b[0m\u001b[37m━\u001b[0m \u001b[1m0s\u001b[0m 2ms/step - acc: 0.8336 - auc: 0.7310 - loss: 0.4321\n",
      "Epoch 85: val_loss did not improve from 0.67376\n",
      "\u001b[1m310/310\u001b[0m \u001b[32m━━━━━━━━━━━━━━━━━━━━\u001b[0m\u001b[37m\u001b[0m \u001b[1m1s\u001b[0m 2ms/step - acc: 0.8345 - auc: 0.7326 - loss: 0.4308 - val_acc: 0.5990 - val_auc: 0.5522 - val_loss: 0.7219\n",
      "Epoch 86/100\n",
      "\u001b[1m295/310\u001b[0m \u001b[32m━━━━━━━━━━━━━━━━━━━\u001b[0m\u001b[37m━\u001b[0m \u001b[1m0s\u001b[0m 2ms/step - acc: 0.8485 - auc: 0.7663 - loss: 0.4077\n",
      "Epoch 86: val_loss did not improve from 0.67376\n",
      "\u001b[1m310/310\u001b[0m \u001b[32m━━━━━━━━━━━━━━━━━━━━\u001b[0m\u001b[37m\u001b[0m \u001b[1m1s\u001b[0m 2ms/step - acc: 0.8487 - auc: 0.7661 - loss: 0.4075 - val_acc: 0.5990 - val_auc: 0.9000 - val_loss: 0.7221\n",
      "Epoch 87/100\n",
      "\u001b[1m293/310\u001b[0m \u001b[32m━━━━━━━━━━━━━━━━━━\u001b[0m\u001b[37m━━\u001b[0m \u001b[1m0s\u001b[0m 2ms/step - acc: 0.8532 - auc: 0.7647 - loss: 0.3986\n",
      "Epoch 87: val_loss did not improve from 0.67376\n",
      "\u001b[1m310/310\u001b[0m \u001b[32m━━━━━━━━━━━━━━━━━━━━\u001b[0m\u001b[37m\u001b[0m \u001b[1m1s\u001b[0m 2ms/step - acc: 0.8530 - auc: 0.7641 - loss: 0.3992 - val_acc: 0.5990 - val_auc: 0.5522 - val_loss: 0.7225\n",
      "Epoch 88/100\n",
      "\u001b[1m287/310\u001b[0m \u001b[32m━━━━━━━━━━━━━━━━━━\u001b[0m\u001b[37m━━\u001b[0m \u001b[1m0s\u001b[0m 2ms/step - acc: 0.8640 - auc: 0.7410 - loss: 0.3974\n",
      "Epoch 88: val_loss did not improve from 0.67376\n",
      "\u001b[1m310/310\u001b[0m \u001b[32m━━━━━━━━━━━━━━━━━━━━\u001b[0m\u001b[37m\u001b[0m \u001b[1m1s\u001b[0m 2ms/step - acc: 0.8631 - auc: 0.7416 - loss: 0.3982 - val_acc: 0.5990 - val_auc: 0.9000 - val_loss: 0.7223\n",
      "Epoch 89/100\n",
      "\u001b[1m285/310\u001b[0m \u001b[32m━━━━━━━━━━━━━━━━━━\u001b[0m\u001b[37m━━\u001b[0m \u001b[1m0s\u001b[0m 2ms/step - acc: 0.8394 - auc: 0.7264 - loss: 0.4231\n",
      "Epoch 89: val_loss did not improve from 0.67376\n",
      "\u001b[1m310/310\u001b[0m \u001b[32m━━━━━━━━━━━━━━━━━━━━\u001b[0m\u001b[37m\u001b[0m \u001b[1m1s\u001b[0m 2ms/step - acc: 0.8404 - auc: 0.7293 - loss: 0.4214 - val_acc: 0.5990 - val_auc: 0.9000 - val_loss: 0.7224\n",
      "Epoch 90/100\n",
      "\u001b[1m289/310\u001b[0m \u001b[32m━━━━━━━━━━━━━━━━━━\u001b[0m\u001b[37m━━\u001b[0m \u001b[1m0s\u001b[0m 2ms/step - acc: 0.8648 - auc: 0.7446 - loss: 0.3925\n",
      "Epoch 90: val_loss did not improve from 0.67376\n",
      "\u001b[1m310/310\u001b[0m \u001b[32m━━━━━━━━━━━━━━━━━━━━\u001b[0m\u001b[37m\u001b[0m \u001b[1m1s\u001b[0m 2ms/step - acc: 0.8640 - auc: 0.7451 - loss: 0.3935 - val_acc: 0.5990 - val_auc: 0.9000 - val_loss: 0.7229\n",
      "Epoch 91/100\n",
      "\u001b[1m286/310\u001b[0m \u001b[32m━━━━━━━━━━━━━━━━━━\u001b[0m\u001b[37m━━\u001b[0m \u001b[1m0s\u001b[0m 2ms/step - acc: 0.8568 - auc: 0.7730 - loss: 0.3921\n",
      "Epoch 91: val_loss did not improve from 0.67376\n",
      "\u001b[1m310/310\u001b[0m \u001b[32m━━━━━━━━━━━━━━━━━━━━\u001b[0m\u001b[37m\u001b[0m \u001b[1m1s\u001b[0m 2ms/step - acc: 0.8564 - auc: 0.7741 - loss: 0.3923 - val_acc: 0.5990 - val_auc: 0.9000 - val_loss: 0.7246\n",
      "Epoch 92/100\n",
      "\u001b[1m292/310\u001b[0m \u001b[32m━━━━━━━━━━━━━━━━━━\u001b[0m\u001b[37m━━\u001b[0m \u001b[1m0s\u001b[0m 2ms/step - acc: 0.8605 - auc: 0.7860 - loss: 0.3854\n",
      "Epoch 92: val_loss did not improve from 0.67376\n",
      "\u001b[1m310/310\u001b[0m \u001b[32m━━━━━━━━━━━━━━━━━━━━\u001b[0m\u001b[37m\u001b[0m \u001b[1m1s\u001b[0m 2ms/step - acc: 0.8599 - auc: 0.7856 - loss: 0.3861 - val_acc: 0.5990 - val_auc: 1.0000 - val_loss: 0.7252\n",
      "Epoch 93/100\n",
      "\u001b[1m309/310\u001b[0m \u001b[32m━━━━━━━━━━━━━━━━━━━\u001b[0m\u001b[37m━\u001b[0m \u001b[1m0s\u001b[0m 2ms/step - acc: 0.8641 - auc: 0.7933 - loss: 0.3733\n",
      "Epoch 93: val_loss did not improve from 0.67376\n",
      "\u001b[1m310/310\u001b[0m \u001b[32m━━━━━━━━━━━━━━━━━━━━\u001b[0m\u001b[37m\u001b[0m \u001b[1m1s\u001b[0m 3ms/step - acc: 0.8640 - auc: 0.7932 - loss: 0.3734 - val_acc: 0.5990 - val_auc: 0.9000 - val_loss: 0.7258\n",
      "Epoch 94/100\n",
      "\u001b[1m286/310\u001b[0m \u001b[32m━━━━━━━━━━━━━━━━━━\u001b[0m\u001b[37m━━\u001b[0m \u001b[1m0s\u001b[0m 2ms/step - acc: 0.8462 - auc: 0.7609 - loss: 0.4075\n",
      "Epoch 94: val_loss did not improve from 0.67376\n",
      "\u001b[1m310/310\u001b[0m \u001b[32m━━━━━━━━━━━━━━━━━━━━\u001b[0m\u001b[37m\u001b[0m \u001b[1m1s\u001b[0m 3ms/step - acc: 0.8466 - auc: 0.7616 - loss: 0.4068 - val_acc: 0.5990 - val_auc: 0.9000 - val_loss: 0.7260\n",
      "Epoch 95/100\n",
      "\u001b[1m306/310\u001b[0m \u001b[32m━━━━━━━━━━━━━━━━━━━\u001b[0m\u001b[37m━\u001b[0m \u001b[1m0s\u001b[0m 2ms/step - acc: 0.8533 - auc: 0.7534 - loss: 0.3980\n",
      "Epoch 95: val_loss did not improve from 0.67376\n",
      "\u001b[1m310/310\u001b[0m \u001b[32m━━━━━━━━━━━━━━━━━━━━\u001b[0m\u001b[37m\u001b[0m \u001b[1m1s\u001b[0m 3ms/step - acc: 0.8533 - auc: 0.7538 - loss: 0.3979 - val_acc: 0.5990 - val_auc: 0.9000 - val_loss: 0.7270\n",
      "Epoch 96/100\n",
      "\u001b[1m310/310\u001b[0m \u001b[32m━━━━━━━━━━━━━━━━━━━━\u001b[0m\u001b[37m\u001b[0m \u001b[1m0s\u001b[0m 2ms/step - acc: 0.8524 - auc: 0.7800 - loss: 0.3944\n",
      "Epoch 96: val_loss did not improve from 0.67376\n",
      "\u001b[1m310/310\u001b[0m \u001b[32m━━━━━━━━━━━━━━━━━━━━\u001b[0m\u001b[37m\u001b[0m \u001b[1m1s\u001b[0m 3ms/step - acc: 0.8524 - auc: 0.7800 - loss: 0.3944 - val_acc: 0.5990 - val_auc: 0.9000 - val_loss: 0.7274\n",
      "Epoch 97/100\n",
      "\u001b[1m290/310\u001b[0m \u001b[32m━━━━━━━━━━━━━━━━━━\u001b[0m\u001b[37m━━\u001b[0m \u001b[1m0s\u001b[0m 2ms/step - acc: 0.8357 - auc: 0.7555 - loss: 0.4160\n",
      "Epoch 97: val_loss did not improve from 0.67376\n",
      "\u001b[1m310/310\u001b[0m \u001b[32m━━━━━━━━━━━━━━━━━━━━\u001b[0m\u001b[37m\u001b[0m \u001b[1m1s\u001b[0m 2ms/step - acc: 0.8369 - auc: 0.7560 - loss: 0.4145 - val_acc: 0.5990 - val_auc: 0.9000 - val_loss: 0.7274\n",
      "Epoch 98/100\n",
      "\u001b[1m289/310\u001b[0m \u001b[32m━━━━━━━━━━━━━━━━━━\u001b[0m\u001b[37m━━\u001b[0m \u001b[1m0s\u001b[0m 2ms/step - acc: 0.8546 - auc: 0.7652 - loss: 0.3935\n",
      "Epoch 98: val_loss did not improve from 0.67376\n",
      "\u001b[1m310/310\u001b[0m \u001b[32m━━━━━━━━━━━━━━━━━━━━\u001b[0m\u001b[37m\u001b[0m \u001b[1m1s\u001b[0m 2ms/step - acc: 0.8546 - auc: 0.7651 - loss: 0.3934 - val_acc: 0.5990 - val_auc: 0.9000 - val_loss: 0.7276\n",
      "Epoch 99/100\n",
      "\u001b[1m290/310\u001b[0m \u001b[32m━━━━━━━━━━━━━━━━━━\u001b[0m\u001b[37m━━\u001b[0m \u001b[1m0s\u001b[0m 2ms/step - acc: 0.8615 - auc: 0.7590 - loss: 0.3850\n",
      "Epoch 99: val_loss did not improve from 0.67376\n",
      "\u001b[1m310/310\u001b[0m \u001b[32m━━━━━━━━━━━━━━━━━━━━\u001b[0m\u001b[37m\u001b[0m \u001b[1m1s\u001b[0m 2ms/step - acc: 0.8609 - auc: 0.7599 - loss: 0.3855 - val_acc: 0.5990 - val_auc: 0.9000 - val_loss: 0.7285\n",
      "Epoch 100/100\n",
      "\u001b[1m292/310\u001b[0m \u001b[32m━━━━━━━━━━━━━━━━━━\u001b[0m\u001b[37m━━\u001b[0m \u001b[1m0s\u001b[0m 2ms/step - acc: 0.8570 - auc: 0.7561 - loss: 0.3909\n",
      "Epoch 100: val_loss did not improve from 0.67376\n",
      "\u001b[1m310/310\u001b[0m \u001b[32m━━━━━━━━━━━━━━━━━━━━\u001b[0m\u001b[37m\u001b[0m \u001b[1m1s\u001b[0m 2ms/step - acc: 0.8567 - auc: 0.7564 - loss: 0.3912 - val_acc: 0.5990 - val_auc: 0.9000 - val_loss: 0.7279\n"
     ]
    },
    {
     "name": "stderr",
     "output_type": "stream",
     "text": [
      "WARNING:absl:Compiled the loaded model, but the compiled metrics have yet to be built. `model.compile_metrics` will be empty until you train or evaluate the model.\n"
     ]
    },
    {
     "name": "stdout",
     "output_type": "stream",
     "text": [
      "Fold 8 | VAL  | AUC=0.8957 | ACC=0.5990 | n=192\n",
      "Fold 8 | TEST | AUC=1.0000 | ACC=1.0000 | n=80\n",
      "\n",
      "--- Fold 9/10 ---\n",
      " train | ids:   36 | files:  844 | pos:  286 | neg:  558\n",
      "   val | ids:    4 | files:  207 | pos:   77 | neg:  130\n",
      "  test | ids:    4 | files:  149 | pos:   42 | neg:  107\n",
      "Epoch 1/100\n"
     ]
    },
    {
     "name": "stderr",
     "output_type": "stream",
     "text": [
      "/usr/local/lib/python3.12/dist-packages/keras/src/models/functional.py:241: UserWarning: The structure of `inputs` doesn't match the expected structure.\n",
      "Expected: tab_input\n",
      "Received: inputs=['Tensor(shape=(None, 4))']\n",
      "  warnings.warn(msg)\n"
     ]
    },
    {
     "name": "stdout",
     "output_type": "stream",
     "text": [
      "\u001b[1m279/282\u001b[0m \u001b[32m━━━━━━━━━━━━━━━━━━━\u001b[0m\u001b[37m━\u001b[0m \u001b[1m0s\u001b[0m 6ms/step - acc: 0.2962 - auc: 0.4234 - loss: 1.1073\n",
      "Epoch 1: val_loss improved from inf to 1.07935, saving model to best_tab_only_fold9.h5\n"
     ]
    },
    {
     "name": "stderr",
     "output_type": "stream",
     "text": [
      "WARNING:absl:You are saving your model as an HDF5 file via `model.save()` or `keras.saving.save_model(model)`. This file format is considered legacy. We recommend using instead the native Keras format, e.g. `model.save('my_model.keras')` or `keras.saving.save_model(model, 'my_model.keras')`. \n"
     ]
    },
    {
     "name": "stdout",
     "output_type": "stream",
     "text": [
      "\b\b\b\b\b\b\b\b\b\b\b\b\b\b\b\b\b\b\b\b\b\b\b\b\b\b\b\b\b\b\b\b\b\b\b\b\b\b\b\b\b\b\b\b\b\b\b\b\b\b\b\b\b\b\b\b\b\b\b\b\b\b\b\b\b\b\b\b\b\b\b\b\b\b\b\b\b\b\b\b\b\b\b\r",
      "\u001b[1m282/282\u001b[0m \u001b[32m━━━━━━━━━━━━━━━━━━━━\u001b[0m\u001b[37m\u001b[0m \u001b[1m5s\u001b[0m 9ms/step - acc: 0.2968 - auc: 0.4236 - loss: 1.1061 - val_acc: 0.3720 - val_auc: 0.0923 - val_loss: 1.0793\n",
      "Epoch 2/100\n",
      "\u001b[1m280/282\u001b[0m \u001b[32m━━━━━━━━━━━━━━━━━━━\u001b[0m\u001b[37m━\u001b[0m \u001b[1m0s\u001b[0m 2ms/step - acc: 0.3539 - auc: 0.4605 - loss: 0.9135\n",
      "Epoch 2: val_loss improved from 1.07935 to 0.94300, saving model to best_tab_only_fold9.h5\n"
     ]
    },
    {
     "name": "stderr",
     "output_type": "stream",
     "text": [
      "WARNING:absl:You are saving your model as an HDF5 file via `model.save()` or `keras.saving.save_model(model)`. This file format is considered legacy. We recommend using instead the native Keras format, e.g. `model.save('my_model.keras')` or `keras.saving.save_model(model, 'my_model.keras')`. \n"
     ]
    },
    {
     "name": "stdout",
     "output_type": "stream",
     "text": [
      "\b\b\b\b\b\b\b\b\b\b\b\b\b\b\b\b\b\b\b\b\b\b\b\b\b\b\b\b\b\b\b\b\b\b\b\b\b\b\b\b\b\b\b\b\b\b\b\b\b\b\b\b\b\b\b\b\b\b\b\b\b\b\b\b\b\b\b\b\b\b\b\b\b\b\b\b\b\b\b\b\b\b\b\r",
      "\u001b[1m282/282\u001b[0m \u001b[32m━━━━━━━━━━━━━━━━━━━━\u001b[0m\u001b[37m\u001b[0m \u001b[1m1s\u001b[0m 3ms/step - acc: 0.3538 - auc: 0.4607 - loss: 0.9134 - val_acc: 0.3720 - val_auc: 0.0923 - val_loss: 0.9430\n",
      "Epoch 3/100\n",
      "\u001b[1m277/282\u001b[0m \u001b[32m━━━━━━━━━━━━━━━━━━━\u001b[0m\u001b[37m━\u001b[0m \u001b[1m0s\u001b[0m 2ms/step - acc: 0.3834 - auc: 0.5235 - loss: 0.8194\n",
      "Epoch 3: val_loss improved from 0.94300 to 0.85449, saving model to best_tab_only_fold9.h5\n"
     ]
    },
    {
     "name": "stderr",
     "output_type": "stream",
     "text": [
      "WARNING:absl:You are saving your model as an HDF5 file via `model.save()` or `keras.saving.save_model(model)`. This file format is considered legacy. We recommend using instead the native Keras format, e.g. `model.save('my_model.keras')` or `keras.saving.save_model(model, 'my_model.keras')`. \n"
     ]
    },
    {
     "name": "stdout",
     "output_type": "stream",
     "text": [
      "\b\b\b\b\b\b\b\b\b\b\b\b\b\b\b\b\b\b\b\b\b\b\b\b\b\b\b\b\b\b\b\b\b\b\b\b\b\b\b\b\b\b\b\b\b\b\b\b\b\b\b\b\b\b\b\b\b\b\b\b\b\b\b\b\b\b\b\b\b\b\b\b\b\b\b\b\b\b\b\b\b\b\b\r",
      "\u001b[1m282/282\u001b[0m \u001b[32m━━━━━━━━━━━━━━━━━━━━\u001b[0m\u001b[37m\u001b[0m \u001b[1m1s\u001b[0m 3ms/step - acc: 0.3830 - auc: 0.5233 - loss: 0.8192 - val_acc: 0.3720 - val_auc: 0.0923 - val_loss: 0.8545\n",
      "Epoch 4/100\n",
      "\u001b[1m263/282\u001b[0m \u001b[32m━━━━━━━━━━━━━━━━━━\u001b[0m\u001b[37m━━\u001b[0m \u001b[1m0s\u001b[0m 2ms/step - acc: 0.4051 - auc: 0.5367 - loss: 0.7650\n",
      "Epoch 4: val_loss improved from 0.85449 to 0.79536, saving model to best_tab_only_fold9.h5\n"
     ]
    },
    {
     "name": "stderr",
     "output_type": "stream",
     "text": [
      "WARNING:absl:You are saving your model as an HDF5 file via `model.save()` or `keras.saving.save_model(model)`. This file format is considered legacy. We recommend using instead the native Keras format, e.g. `model.save('my_model.keras')` or `keras.saving.save_model(model, 'my_model.keras')`. \n"
     ]
    },
    {
     "name": "stdout",
     "output_type": "stream",
     "text": [
      "\b\b\b\b\b\b\b\b\b\b\b\b\b\b\b\b\b\b\b\b\b\b\b\b\b\b\b\b\b\b\b\b\b\b\b\b\b\b\b\b\b\b\b\b\b\b\b\b\b\b\b\b\b\b\b\b\b\b\b\b\b\b\b\b\b\b\b\b\b\b\b\b\b\b\b\b\b\b\b\b\b\b\b\r",
      "\u001b[1m282/282\u001b[0m \u001b[32m━━━━━━━━━━━━━━━━━━━━\u001b[0m\u001b[37m\u001b[0m \u001b[1m1s\u001b[0m 3ms/step - acc: 0.4052 - auc: 0.5381 - loss: 0.7641 - val_acc: 0.3720 - val_auc: 0.0923 - val_loss: 0.7954\n",
      "Epoch 5/100\n",
      "\u001b[1m268/282\u001b[0m \u001b[32m━━━━━━━━━━━━━━━━━━━\u001b[0m\u001b[37m━\u001b[0m \u001b[1m0s\u001b[0m 2ms/step - acc: 0.4327 - auc: 0.6087 - loss: 0.7247\n",
      "Epoch 5: val_loss improved from 0.79536 to 0.75144, saving model to best_tab_only_fold9.h5\n"
     ]
    },
    {
     "name": "stderr",
     "output_type": "stream",
     "text": [
      "WARNING:absl:You are saving your model as an HDF5 file via `model.save()` or `keras.saving.save_model(model)`. This file format is considered legacy. We recommend using instead the native Keras format, e.g. `model.save('my_model.keras')` or `keras.saving.save_model(model, 'my_model.keras')`. \n"
     ]
    },
    {
     "name": "stdout",
     "output_type": "stream",
     "text": [
      "\b\b\b\b\b\b\b\b\b\b\b\b\b\b\b\b\b\b\b\b\b\b\b\b\b\b\b\b\b\b\b\b\b\b\b\b\b\b\b\b\b\b\b\b\b\b\b\b\b\b\b\b\b\b\b\b\b\b\b\b\b\b\b\b\b\b\b\b\b\b\b\b\b\b\b\b\b\b\b\b\b\b\b\r",
      "\u001b[1m282/282\u001b[0m \u001b[32m━━━━━━━━━━━━━━━━━━━━\u001b[0m\u001b[37m\u001b[0m \u001b[1m1s\u001b[0m 3ms/step - acc: 0.4343 - auc: 0.6095 - loss: 0.7240 - val_acc: 0.0580 - val_auc: 0.0923 - val_loss: 0.7514\n",
      "Epoch 6/100\n",
      "\u001b[1m268/282\u001b[0m \u001b[32m━━━━━━━━━━━━━━━━━━━\u001b[0m\u001b[37m━\u001b[0m \u001b[1m0s\u001b[0m 2ms/step - acc: 0.5711 - auc: 0.6751 - loss: 0.6924\n",
      "Epoch 6: val_loss improved from 0.75144 to 0.71827, saving model to best_tab_only_fold9.h5\n"
     ]
    },
    {
     "name": "stderr",
     "output_type": "stream",
     "text": [
      "WARNING:absl:You are saving your model as an HDF5 file via `model.save()` or `keras.saving.save_model(model)`. This file format is considered legacy. We recommend using instead the native Keras format, e.g. `model.save('my_model.keras')` or `keras.saving.save_model(model, 'my_model.keras')`. \n"
     ]
    },
    {
     "name": "stdout",
     "output_type": "stream",
     "text": [
      "\b\b\b\b\b\b\b\b\b\b\b\b\b\b\b\b\b\b\b\b\b\b\b\b\b\b\b\b\b\b\b\b\b\b\b\b\b\b\b\b\b\b\b\b\b\b\b\b\b\b\b\b\b\b\b\b\b\b\b\b\b\b\b\b\b\b\b\b\b\b\b\b\b\b\b\b\b\b\b\b\b\b\b\r",
      "\u001b[1m282/282\u001b[0m \u001b[32m━━━━━━━━━━━━━━━━━━━━\u001b[0m\u001b[37m\u001b[0m \u001b[1m1s\u001b[0m 3ms/step - acc: 0.5709 - auc: 0.6749 - loss: 0.6922 - val_acc: 0.0580 - val_auc: 0.0462 - val_loss: 0.7183\n",
      "Epoch 7/100\n",
      "\u001b[1m265/282\u001b[0m \u001b[32m━━━━━━━━━━━━━━━━━━\u001b[0m\u001b[37m━━\u001b[0m \u001b[1m0s\u001b[0m 2ms/step - acc: 0.6190 - auc: 0.7053 - loss: 0.6680\n",
      "Epoch 7: val_loss improved from 0.71827 to 0.69886, saving model to best_tab_only_fold9.h5\n"
     ]
    },
    {
     "name": "stderr",
     "output_type": "stream",
     "text": [
      "WARNING:absl:You are saving your model as an HDF5 file via `model.save()` or `keras.saving.save_model(model)`. This file format is considered legacy. We recommend using instead the native Keras format, e.g. `model.save('my_model.keras')` or `keras.saving.save_model(model, 'my_model.keras')`. \n"
     ]
    },
    {
     "name": "stdout",
     "output_type": "stream",
     "text": [
      "\b\b\b\b\b\b\b\b\b\b\b\b\b\b\b\b\b\b\b\b\b\b\b\b\b\b\b\b\b\b\b\b\b\b\b\b\b\b\b\b\b\b\b\b\b\b\b\b\b\b\b\b\b\b\b\b\b\b\b\b\b\b\b\b\b\b\b\b\b\b\b\b\b\b\b\b\b\b\b\b\b\b\b\r",
      "\u001b[1m282/282\u001b[0m \u001b[32m━━━━━━━━━━━━━━━━━━━━\u001b[0m\u001b[37m\u001b[0m \u001b[1m1s\u001b[0m 3ms/step - acc: 0.6233 - auc: 0.7069 - loss: 0.6672 - val_acc: 0.6280 - val_auc: 0.0000e+00 - val_loss: 0.6989\n",
      "Epoch 8/100\n",
      "\u001b[1m262/282\u001b[0m \u001b[32m━━━━━━━━━━━━━━━━━━\u001b[0m\u001b[37m━━\u001b[0m \u001b[1m0s\u001b[0m 2ms/step - acc: 0.8013 - auc: 0.7996 - loss: 0.6330\n",
      "Epoch 8: val_loss improved from 0.69886 to 0.68509, saving model to best_tab_only_fold9.h5\n"
     ]
    },
    {
     "name": "stderr",
     "output_type": "stream",
     "text": [
      "WARNING:absl:You are saving your model as an HDF5 file via `model.save()` or `keras.saving.save_model(model)`. This file format is considered legacy. We recommend using instead the native Keras format, e.g. `model.save('my_model.keras')` or `keras.saving.save_model(model, 'my_model.keras')`. \n"
     ]
    },
    {
     "name": "stdout",
     "output_type": "stream",
     "text": [
      "\b\b\b\b\b\b\b\b\b\b\b\b\b\b\b\b\b\b\b\b\b\b\b\b\b\b\b\b\b\b\b\b\b\b\b\b\b\b\b\b\b\b\b\b\b\b\b\b\b\b\b\b\b\b\b\b\b\b\b\b\b\b\b\b\b\b\b\b\b\b\b\b\b\b\b\b\b\b\b\b\b\b\b\r",
      "\u001b[1m282/282\u001b[0m \u001b[32m━━━━━━━━━━━━━━━━━━━━\u001b[0m\u001b[37m\u001b[0m \u001b[1m1s\u001b[0m 3ms/step - acc: 0.7983 - auc: 0.7976 - loss: 0.6333 - val_acc: 0.6280 - val_auc: 0.0000e+00 - val_loss: 0.6851\n",
      "Epoch 9/100\n",
      "\u001b[1m268/282\u001b[0m \u001b[32m━━━━━━━━━━━━━━━━━━━\u001b[0m\u001b[37m━\u001b[0m \u001b[1m0s\u001b[0m 2ms/step - acc: 0.7830 - auc: 0.8046 - loss: 0.6173\n",
      "Epoch 9: val_loss improved from 0.68509 to 0.67477, saving model to best_tab_only_fold9.h5\n"
     ]
    },
    {
     "name": "stderr",
     "output_type": "stream",
     "text": [
      "WARNING:absl:You are saving your model as an HDF5 file via `model.save()` or `keras.saving.save_model(model)`. This file format is considered legacy. We recommend using instead the native Keras format, e.g. `model.save('my_model.keras')` or `keras.saving.save_model(model, 'my_model.keras')`. \n"
     ]
    },
    {
     "name": "stdout",
     "output_type": "stream",
     "text": [
      "\b\b\b\b\b\b\b\b\b\b\b\b\b\b\b\b\b\b\b\b\b\b\b\b\b\b\b\b\b\b\b\b\b\b\b\b\b\b\b\b\b\b\b\b\b\b\b\b\b\b\b\b\b\b\b\b\b\b\b\b\b\b\b\b\b\b\b\b\b\b\b\b\b\b\b\b\b\b\b\b\b\b\b\r",
      "\u001b[1m282/282\u001b[0m \u001b[32m━━━━━━━━━━━━━━━━━━━━\u001b[0m\u001b[37m\u001b[0m \u001b[1m1s\u001b[0m 3ms/step - acc: 0.7821 - auc: 0.8035 - loss: 0.6175 - val_acc: 0.6280 - val_auc: 0.0000e+00 - val_loss: 0.6748\n",
      "Epoch 10/100\n",
      "\u001b[1m267/282\u001b[0m \u001b[32m━━━━━━━━━━━━━━━━━━\u001b[0m\u001b[37m━━\u001b[0m \u001b[1m0s\u001b[0m 2ms/step - acc: 0.7511 - auc: 0.7671 - loss: 0.6102\n",
      "Epoch 10: val_loss improved from 0.67477 to 0.66645, saving model to best_tab_only_fold9.h5\n"
     ]
    },
    {
     "name": "stderr",
     "output_type": "stream",
     "text": [
      "WARNING:absl:You are saving your model as an HDF5 file via `model.save()` or `keras.saving.save_model(model)`. This file format is considered legacy. We recommend using instead the native Keras format, e.g. `model.save('my_model.keras')` or `keras.saving.save_model(model, 'my_model.keras')`. \n"
     ]
    },
    {
     "name": "stdout",
     "output_type": "stream",
     "text": [
      "\b\b\b\b\b\b\b\b\b\b\b\b\b\b\b\b\b\b\b\b\b\b\b\b\b\b\b\b\b\b\b\b\b\b\b\b\b\b\b\b\b\b\b\b\b\b\b\b\b\b\b\b\b\b\b\b\b\b\b\b\b\b\b\b\b\b\b\b\b\b\b\b\b\b\b\b\b\b\b\b\b\b\b\r",
      "\u001b[1m282/282\u001b[0m \u001b[32m━━━━━━━━━━━━━━━━━━━━\u001b[0m\u001b[37m\u001b[0m \u001b[1m1s\u001b[0m 3ms/step - acc: 0.7507 - auc: 0.7657 - loss: 0.6105 - val_acc: 0.6280 - val_auc: 0.3462 - val_loss: 0.6664\n",
      "Epoch 11/100\n",
      "\u001b[1m266/282\u001b[0m \u001b[32m━━━━━━━━━━━━━━━━━━\u001b[0m\u001b[37m━━\u001b[0m \u001b[1m0s\u001b[0m 2ms/step - acc: 0.7272 - auc: 0.6967 - loss: 0.6260\n",
      "Epoch 11: val_loss improved from 0.66645 to 0.66073, saving model to best_tab_only_fold9.h5\n"
     ]
    },
    {
     "name": "stderr",
     "output_type": "stream",
     "text": [
      "WARNING:absl:You are saving your model as an HDF5 file via `model.save()` or `keras.saving.save_model(model)`. This file format is considered legacy. We recommend using instead the native Keras format, e.g. `model.save('my_model.keras')` or `keras.saving.save_model(model, 'my_model.keras')`. \n"
     ]
    },
    {
     "name": "stdout",
     "output_type": "stream",
     "text": [
      "\b\b\b\b\b\b\b\b\b\b\b\b\b\b\b\b\b\b\b\b\b\b\b\b\b\b\b\b\b\b\b\b\b\b\b\b\b\b\b\b\b\b\b\b\b\b\b\b\b\b\b\b\b\b\b\b\b\b\b\b\b\b\b\b\b\b\b\b\b\b\b\b\b\b\b\b\b\b\b\b\b\b\b\r",
      "\u001b[1m282/282\u001b[0m \u001b[32m━━━━━━━━━━━━━━━━━━━━\u001b[0m\u001b[37m\u001b[0m \u001b[1m1s\u001b[0m 3ms/step - acc: 0.7286 - auc: 0.6976 - loss: 0.6251 - val_acc: 0.6280 - val_auc: 0.6923 - val_loss: 0.6607\n",
      "Epoch 12/100\n",
      "\u001b[1m261/282\u001b[0m \u001b[32m━━━━━━━━━━━━━━━━━━\u001b[0m\u001b[37m━━\u001b[0m \u001b[1m0s\u001b[0m 2ms/step - acc: 0.7494 - auc: 0.7169 - loss: 0.6023\n",
      "Epoch 12: val_loss improved from 0.66073 to 0.65587, saving model to best_tab_only_fold9.h5\n"
     ]
    },
    {
     "name": "stderr",
     "output_type": "stream",
     "text": [
      "WARNING:absl:You are saving your model as an HDF5 file via `model.save()` or `keras.saving.save_model(model)`. This file format is considered legacy. We recommend using instead the native Keras format, e.g. `model.save('my_model.keras')` or `keras.saving.save_model(model, 'my_model.keras')`. \n"
     ]
    },
    {
     "name": "stdout",
     "output_type": "stream",
     "text": [
      "\b\b\b\b\b\b\b\b\b\b\b\b\b\b\b\b\b\b\b\b\b\b\b\b\b\b\b\b\b\b\b\b\b\b\b\b\b\b\b\b\b\b\b\b\b\b\b\b\b\b\b\b\b\b\b\b\b\b\b\b\b\b\b\b\b\b\b\b\b\b\b\b\b\b\b\b\b\b\b\b\b\b\b\r",
      "\u001b[1m282/282\u001b[0m \u001b[32m━━━━━━━━━━━━━━━━━━━━\u001b[0m\u001b[37m\u001b[0m \u001b[1m1s\u001b[0m 3ms/step - acc: 0.7500 - auc: 0.7166 - loss: 0.6019 - val_acc: 0.6280 - val_auc: 0.6923 - val_loss: 0.6559\n",
      "Epoch 13/100\n",
      "\u001b[1m270/282\u001b[0m \u001b[32m━━━━━━━━━━━━━━━━━━━\u001b[0m\u001b[37m━\u001b[0m \u001b[1m0s\u001b[0m 2ms/step - acc: 0.7488 - auc: 0.6730 - loss: 0.6003\n",
      "Epoch 13: val_loss improved from 0.65587 to 0.65154, saving model to best_tab_only_fold9.h5\n"
     ]
    },
    {
     "name": "stderr",
     "output_type": "stream",
     "text": [
      "WARNING:absl:You are saving your model as an HDF5 file via `model.save()` or `keras.saving.save_model(model)`. This file format is considered legacy. We recommend using instead the native Keras format, e.g. `model.save('my_model.keras')` or `keras.saving.save_model(model, 'my_model.keras')`. \n"
     ]
    },
    {
     "name": "stdout",
     "output_type": "stream",
     "text": [
      "\b\b\b\b\b\b\b\b\b\b\b\b\b\b\b\b\b\b\b\b\b\b\b\b\b\b\b\b\b\b\b\b\b\b\b\b\b\b\b\b\b\b\b\b\b\b\b\b\b\b\b\b\b\b\b\b\b\b\b\b\b\b\b\b\b\b\b\b\b\b\b\b\b\b\b\b\b\b\b\b\b\b\b\r",
      "\u001b[1m282/282\u001b[0m \u001b[32m━━━━━━━━━━━━━━━━━━━━\u001b[0m\u001b[37m\u001b[0m \u001b[1m1s\u001b[0m 3ms/step - acc: 0.7494 - auc: 0.6749 - loss: 0.5997 - val_acc: 0.6280 - val_auc: 0.6923 - val_loss: 0.6515\n",
      "Epoch 14/100\n",
      "\u001b[1m263/282\u001b[0m \u001b[32m━━━━━━━━━━━━━━━━━━\u001b[0m\u001b[37m━━\u001b[0m \u001b[1m0s\u001b[0m 2ms/step - acc: 0.7593 - auc: 0.6997 - loss: 0.5916\n",
      "Epoch 14: val_loss improved from 0.65154 to 0.64823, saving model to best_tab_only_fold9.h5\n"
     ]
    },
    {
     "name": "stderr",
     "output_type": "stream",
     "text": [
      "WARNING:absl:You are saving your model as an HDF5 file via `model.save()` or `keras.saving.save_model(model)`. This file format is considered legacy. We recommend using instead the native Keras format, e.g. `model.save('my_model.keras')` or `keras.saving.save_model(model, 'my_model.keras')`. \n"
     ]
    },
    {
     "name": "stdout",
     "output_type": "stream",
     "text": [
      "\b\b\b\b\b\b\b\b\b\b\b\b\b\b\b\b\b\b\b\b\b\b\b\b\b\b\b\b\b\b\b\b\b\b\b\b\b\b\b\b\b\b\b\b\b\b\b\b\b\b\b\b\b\b\b\b\b\b\b\b\b\b\b\b\b\b\b\b\b\b\b\b\b\b\b\b\b\b\b\b\b\b\b\r",
      "\u001b[1m282/282\u001b[0m \u001b[32m━━━━━━━━━━━━━━━━━━━━\u001b[0m\u001b[37m\u001b[0m \u001b[1m1s\u001b[0m 3ms/step - acc: 0.7610 - auc: 0.7002 - loss: 0.5909 - val_acc: 0.6280 - val_auc: 0.8000 - val_loss: 0.6482\n",
      "Epoch 15/100\n",
      "\u001b[1m262/282\u001b[0m \u001b[32m━━━━━━━━━━━━━━━━━━\u001b[0m\u001b[37m━━\u001b[0m \u001b[1m0s\u001b[0m 2ms/step - acc: 0.8005 - auc: 0.6937 - loss: 0.5769\n",
      "Epoch 15: val_loss improved from 0.64823 to 0.64613, saving model to best_tab_only_fold9.h5\n"
     ]
    },
    {
     "name": "stderr",
     "output_type": "stream",
     "text": [
      "WARNING:absl:You are saving your model as an HDF5 file via `model.save()` or `keras.saving.save_model(model)`. This file format is considered legacy. We recommend using instead the native Keras format, e.g. `model.save('my_model.keras')` or `keras.saving.save_model(model, 'my_model.keras')`. \n"
     ]
    },
    {
     "name": "stdout",
     "output_type": "stream",
     "text": [
      "\b\b\b\b\b\b\b\b\b\b\b\b\b\b\b\b\b\b\b\b\b\b\b\b\b\b\b\b\b\b\b\b\b\b\b\b\b\b\b\b\b\b\b\b\b\b\b\b\b\b\b\b\b\b\b\b\b\b\b\b\b\b\b\b\b\b\b\b\b\b\b\b\b\b\b\b\b\b\b\b\b\b\b\r",
      "\u001b[1m282/282\u001b[0m \u001b[32m━━━━━━━━━━━━━━━━━━━━\u001b[0m\u001b[37m\u001b[0m \u001b[1m1s\u001b[0m 3ms/step - acc: 0.7998 - auc: 0.6928 - loss: 0.5769 - val_acc: 0.6280 - val_auc: 0.8000 - val_loss: 0.6461\n",
      "Epoch 16/100\n",
      "\u001b[1m262/282\u001b[0m \u001b[32m━━━━━━━━━━━━━━━━━━\u001b[0m\u001b[37m━━\u001b[0m \u001b[1m0s\u001b[0m 2ms/step - acc: 0.8174 - auc: 0.6802 - loss: 0.5596\n",
      "Epoch 16: val_loss improved from 0.64613 to 0.64497, saving model to best_tab_only_fold9.h5\n"
     ]
    },
    {
     "name": "stderr",
     "output_type": "stream",
     "text": [
      "WARNING:absl:You are saving your model as an HDF5 file via `model.save()` or `keras.saving.save_model(model)`. This file format is considered legacy. We recommend using instead the native Keras format, e.g. `model.save('my_model.keras')` or `keras.saving.save_model(model, 'my_model.keras')`. \n"
     ]
    },
    {
     "name": "stdout",
     "output_type": "stream",
     "text": [
      "\b\b\b\b\b\b\b\b\b\b\b\b\b\b\b\b\b\b\b\b\b\b\b\b\b\b\b\b\b\b\b\b\b\b\b\b\b\b\b\b\b\b\b\b\b\b\b\b\b\b\b\b\b\b\b\b\b\b\b\b\b\b\b\b\b\b\b\b\b\b\b\b\b\b\b\b\b\b\b\b\b\b\b\r",
      "\u001b[1m282/282\u001b[0m \u001b[32m━━━━━━━━━━━━━━━━━━━━\u001b[0m\u001b[37m\u001b[0m \u001b[1m1s\u001b[0m 3ms/step - acc: 0.8166 - auc: 0.6802 - loss: 0.5596 - val_acc: 0.6280 - val_auc: 0.8000 - val_loss: 0.6450\n",
      "Epoch 17/100\n",
      "\u001b[1m265/282\u001b[0m \u001b[32m━━━━━━━━━━━━━━━━━━\u001b[0m\u001b[37m━━\u001b[0m \u001b[1m0s\u001b[0m 2ms/step - acc: 0.8168 - auc: 0.6590 - loss: 0.5549\n",
      "Epoch 17: val_loss improved from 0.64497 to 0.64352, saving model to best_tab_only_fold9.h5\n"
     ]
    },
    {
     "name": "stderr",
     "output_type": "stream",
     "text": [
      "WARNING:absl:You are saving your model as an HDF5 file via `model.save()` or `keras.saving.save_model(model)`. This file format is considered legacy. We recommend using instead the native Keras format, e.g. `model.save('my_model.keras')` or `keras.saving.save_model(model, 'my_model.keras')`. \n"
     ]
    },
    {
     "name": "stdout",
     "output_type": "stream",
     "text": [
      "\b\b\b\b\b\b\b\b\b\b\b\b\b\b\b\b\b\b\b\b\b\b\b\b\b\b\b\b\b\b\b\b\b\b\b\b\b\b\b\b\b\b\b\b\b\b\b\b\b\b\b\b\b\b\b\b\b\b\b\b\b\b\b\b\b\b\b\b\b\b\b\b\b\b\b\b\b\b\b\b\b\b\b\r",
      "\u001b[1m282/282\u001b[0m \u001b[32m━━━━━━━━━━━━━━━━━━━━\u001b[0m\u001b[37m\u001b[0m \u001b[1m1s\u001b[0m 3ms/step - acc: 0.8162 - auc: 0.6597 - loss: 0.5551 - val_acc: 0.6280 - val_auc: 0.9077 - val_loss: 0.6435\n",
      "Epoch 18/100\n",
      "\u001b[1m265/282\u001b[0m \u001b[32m━━━━━━━━━━━━━━━━━━\u001b[0m\u001b[37m━━\u001b[0m \u001b[1m0s\u001b[0m 2ms/step - acc: 0.8192 - auc: 0.7616 - loss: 0.5247\n",
      "Epoch 18: val_loss improved from 0.64352 to 0.64265, saving model to best_tab_only_fold9.h5\n"
     ]
    },
    {
     "name": "stderr",
     "output_type": "stream",
     "text": [
      "WARNING:absl:You are saving your model as an HDF5 file via `model.save()` or `keras.saving.save_model(model)`. This file format is considered legacy. We recommend using instead the native Keras format, e.g. `model.save('my_model.keras')` or `keras.saving.save_model(model, 'my_model.keras')`. \n"
     ]
    },
    {
     "name": "stdout",
     "output_type": "stream",
     "text": [
      "\b\b\b\b\b\b\b\b\b\b\b\b\b\b\b\b\b\b\b\b\b\b\b\b\b\b\b\b\b\b\b\b\b\b\b\b\b\b\b\b\b\b\b\b\b\b\b\b\b\b\b\b\b\b\b\b\b\b\b\b\b\b\b\b\b\b\b\b\b\b\b\b\b\b\b\b\b\b\b\b\b\b\b\r",
      "\u001b[1m282/282\u001b[0m \u001b[32m━━━━━━━━━━━━━━━━━━━━\u001b[0m\u001b[37m\u001b[0m \u001b[1m1s\u001b[0m 3ms/step - acc: 0.8191 - auc: 0.7596 - loss: 0.5253 - val_acc: 0.6280 - val_auc: 0.9077 - val_loss: 0.6426\n",
      "Epoch 19/100\n",
      "\u001b[1m272/282\u001b[0m \u001b[32m━━━━━━━━━━━━━━━━━━━\u001b[0m\u001b[37m━\u001b[0m \u001b[1m0s\u001b[0m 2ms/step - acc: 0.8189 - auc: 0.7040 - loss: 0.5382\n",
      "Epoch 19: val_loss did not improve from 0.64265\n",
      "\u001b[1m282/282\u001b[0m \u001b[32m━━━━━━━━━━━━━━━━━━━━\u001b[0m\u001b[37m\u001b[0m \u001b[1m1s\u001b[0m 3ms/step - acc: 0.8191 - auc: 0.7049 - loss: 0.5378 - val_acc: 0.6280 - val_auc: 0.9077 - val_loss: 0.6427\n",
      "Epoch 20/100\n",
      "\u001b[1m262/282\u001b[0m \u001b[32m━━━━━━━━━━━━━━━━━━\u001b[0m\u001b[37m━━\u001b[0m \u001b[1m0s\u001b[0m 2ms/step - acc: 0.7985 - auc: 0.7373 - loss: 0.5341\n",
      "Epoch 20: val_loss did not improve from 0.64265\n",
      "\u001b[1m282/282\u001b[0m \u001b[32m━━━━━━━━━━━━━━━━━━━━\u001b[0m\u001b[37m\u001b[0m \u001b[1m1s\u001b[0m 3ms/step - acc: 0.8000 - auc: 0.7378 - loss: 0.5334 - val_acc: 0.6280 - val_auc: 0.9077 - val_loss: 0.6431\n",
      "Epoch 21/100\n",
      "\u001b[1m266/282\u001b[0m \u001b[32m━━━━━━━━━━━━━━━━━━\u001b[0m\u001b[37m━━\u001b[0m \u001b[1m0s\u001b[0m 2ms/step - acc: 0.8045 - auc: 0.7067 - loss: 0.5344\n",
      "Epoch 21: val_loss did not improve from 0.64265\n",
      "\u001b[1m282/282\u001b[0m \u001b[32m━━━━━━━━━━━━━━━━━━━━\u001b[0m\u001b[37m\u001b[0m \u001b[1m1s\u001b[0m 3ms/step - acc: 0.8052 - auc: 0.7070 - loss: 0.5337 - val_acc: 0.6280 - val_auc: 0.9077 - val_loss: 0.6438\n",
      "Epoch 22/100\n",
      "\u001b[1m261/282\u001b[0m \u001b[32m━━━━━━━━━━━━━━━━━━\u001b[0m\u001b[37m━━\u001b[0m \u001b[1m0s\u001b[0m 2ms/step - acc: 0.8335 - auc: 0.7323 - loss: 0.5005\n",
      "Epoch 22: val_loss did not improve from 0.64265\n",
      "\u001b[1m282/282\u001b[0m \u001b[32m━━━━━━━━━━━━━━━━━━━━\u001b[0m\u001b[37m\u001b[0m \u001b[1m1s\u001b[0m 3ms/step - acc: 0.8324 - auc: 0.7329 - loss: 0.5012 - val_acc: 0.6280 - val_auc: 0.9077 - val_loss: 0.6442\n",
      "Epoch 23/100\n",
      "\u001b[1m262/282\u001b[0m \u001b[32m━━━━━━━━━━━━━━━━━━\u001b[0m\u001b[37m━━\u001b[0m \u001b[1m0s\u001b[0m 2ms/step - acc: 0.8670 - auc: 0.7729 - loss: 0.4804\n",
      "Epoch 23: val_loss did not improve from 0.64265\n",
      "\u001b[1m282/282\u001b[0m \u001b[32m━━━━━━━━━━━━━━━━━━━━\u001b[0m\u001b[37m\u001b[0m \u001b[1m1s\u001b[0m 3ms/step - acc: 0.8647 - auc: 0.7684 - loss: 0.4826 - val_acc: 0.6280 - val_auc: 0.9077 - val_loss: 0.6457\n",
      "Epoch 24/100\n",
      "\u001b[1m261/282\u001b[0m \u001b[32m━━━━━━━━━━━━━━━━━━\u001b[0m\u001b[37m━━\u001b[0m \u001b[1m0s\u001b[0m 2ms/step - acc: 0.8302 - auc: 0.7204 - loss: 0.5164\n",
      "Epoch 24: val_loss did not improve from 0.64265\n",
      "\u001b[1m282/282\u001b[0m \u001b[32m━━━━━━━━━━━━━━━━━━━━\u001b[0m\u001b[37m\u001b[0m \u001b[1m1s\u001b[0m 3ms/step - acc: 0.8309 - auc: 0.7226 - loss: 0.5154 - val_acc: 0.6280 - val_auc: 0.9077 - val_loss: 0.6471\n",
      "Epoch 25/100\n",
      "\u001b[1m261/282\u001b[0m \u001b[32m━━━━━━━━━━━━━━━━━━\u001b[0m\u001b[37m━━\u001b[0m \u001b[1m0s\u001b[0m 2ms/step - acc: 0.8264 - auc: 0.7672 - loss: 0.4921\n",
      "Epoch 25: val_loss did not improve from 0.64265\n",
      "\u001b[1m282/282\u001b[0m \u001b[32m━━━━━━━━━━━━━━━━━━━━\u001b[0m\u001b[37m\u001b[0m \u001b[1m1s\u001b[0m 3ms/step - acc: 0.8273 - auc: 0.7673 - loss: 0.4918 - val_acc: 0.6280 - val_auc: 0.9077 - val_loss: 0.6491\n",
      "Epoch 26/100\n",
      "\u001b[1m266/282\u001b[0m \u001b[32m━━━━━━━━━━━━━━━━━━\u001b[0m\u001b[37m━━\u001b[0m \u001b[1m0s\u001b[0m 2ms/step - acc: 0.8373 - auc: 0.7516 - loss: 0.4897\n",
      "Epoch 26: val_loss did not improve from 0.64265\n",
      "\u001b[1m282/282\u001b[0m \u001b[32m━━━━━━━━━━━━━━━━━━━━\u001b[0m\u001b[37m\u001b[0m \u001b[1m1s\u001b[0m 3ms/step - acc: 0.8379 - auc: 0.7518 - loss: 0.4893 - val_acc: 0.6280 - val_auc: 0.9077 - val_loss: 0.6508\n",
      "Epoch 27/100\n",
      "\u001b[1m265/282\u001b[0m \u001b[32m━━━━━━━━━━━━━━━━━━\u001b[0m\u001b[37m━━\u001b[0m \u001b[1m0s\u001b[0m 2ms/step - acc: 0.8507 - auc: 0.7772 - loss: 0.4734\n",
      "Epoch 27: val_loss did not improve from 0.64265\n",
      "\u001b[1m282/282\u001b[0m \u001b[32m━━━━━━━━━━━━━━━━━━━━\u001b[0m\u001b[37m\u001b[0m \u001b[1m1s\u001b[0m 3ms/step - acc: 0.8498 - auc: 0.7769 - loss: 0.4737 - val_acc: 0.6280 - val_auc: 0.9077 - val_loss: 0.6528\n",
      "Epoch 28/100\n",
      "\u001b[1m266/282\u001b[0m \u001b[32m━━━━━━━━━━━━━━━━━━\u001b[0m\u001b[37m━━\u001b[0m \u001b[1m0s\u001b[0m 2ms/step - acc: 0.8341 - auc: 0.7696 - loss: 0.4819\n",
      "Epoch 28: val_loss did not improve from 0.64265\n",
      "\u001b[1m282/282\u001b[0m \u001b[32m━━━━━━━━━━━━━━━━━━━━\u001b[0m\u001b[37m\u001b[0m \u001b[1m1s\u001b[0m 3ms/step - acc: 0.8340 - auc: 0.7689 - loss: 0.4819 - val_acc: 0.6280 - val_auc: 0.8000 - val_loss: 0.6558\n",
      "Epoch 29/100\n",
      "\u001b[1m270/282\u001b[0m \u001b[32m━━━━━━━━━━━━━━━━━━━\u001b[0m\u001b[37m━\u001b[0m \u001b[1m0s\u001b[0m 2ms/step - acc: 0.8523 - auc: 0.7731 - loss: 0.4587\n",
      "Epoch 29: val_loss did not improve from 0.64265\n",
      "\u001b[1m282/282\u001b[0m \u001b[32m━━━━━━━━━━━━━━━━━━━━\u001b[0m\u001b[37m\u001b[0m \u001b[1m1s\u001b[0m 3ms/step - acc: 0.8520 - auc: 0.7725 - loss: 0.4590 - val_acc: 0.6280 - val_auc: 0.8462 - val_loss: 0.6576\n",
      "Epoch 30/100\n",
      "\u001b[1m260/282\u001b[0m \u001b[32m━━━━━━━━━━━━━━━━━━\u001b[0m\u001b[37m━━\u001b[0m \u001b[1m0s\u001b[0m 2ms/step - acc: 0.8375 - auc: 0.7756 - loss: 0.4801\n",
      "Epoch 30: val_loss did not improve from 0.64265\n",
      "\u001b[1m282/282\u001b[0m \u001b[32m━━━━━━━━━━━━━━━━━━━━\u001b[0m\u001b[37m\u001b[0m \u001b[1m1s\u001b[0m 3ms/step - acc: 0.8381 - auc: 0.7763 - loss: 0.4790 - val_acc: 0.6280 - val_auc: 0.8462 - val_loss: 0.6606\n",
      "Epoch 31/100\n",
      "\u001b[1m266/282\u001b[0m \u001b[32m━━━━━━━━━━━━━━━━━━\u001b[0m\u001b[37m━━\u001b[0m \u001b[1m0s\u001b[0m 2ms/step - acc: 0.8345 - auc: 0.7870 - loss: 0.4665\n",
      "Epoch 31: val_loss did not improve from 0.64265\n",
      "\u001b[1m282/282\u001b[0m \u001b[32m━━━━━━━━━━━━━━━━━━━━\u001b[0m\u001b[37m\u001b[0m \u001b[1m1s\u001b[0m 3ms/step - acc: 0.8352 - auc: 0.7891 - loss: 0.4656 - val_acc: 0.6280 - val_auc: 0.6923 - val_loss: 0.6653\n",
      "Epoch 32/100\n",
      "\u001b[1m267/282\u001b[0m \u001b[32m━━━━━━━━━━━━━━━━━━\u001b[0m\u001b[37m━━\u001b[0m \u001b[1m0s\u001b[0m 2ms/step - acc: 0.8386 - auc: 0.7581 - loss: 0.4703\n",
      "Epoch 32: val_loss did not improve from 0.64265\n",
      "\u001b[1m282/282\u001b[0m \u001b[32m━━━━━━━━━━━━━━━━━━━━\u001b[0m\u001b[37m\u001b[0m \u001b[1m1s\u001b[0m 3ms/step - acc: 0.8387 - auc: 0.7593 - loss: 0.4695 - val_acc: 0.6280 - val_auc: 0.7385 - val_loss: 0.6655\n",
      "Epoch 33/100\n",
      "\u001b[1m264/282\u001b[0m \u001b[32m━━━━━━━━━━━━━━━━━━\u001b[0m\u001b[37m━━\u001b[0m \u001b[1m0s\u001b[0m 2ms/step - acc: 0.8400 - auc: 0.8259 - loss: 0.4476\n",
      "Epoch 33: val_loss did not improve from 0.64265\n",
      "\u001b[1m282/282\u001b[0m \u001b[32m━━━━━━━━━━━━━━━━━━━━\u001b[0m\u001b[37m\u001b[0m \u001b[1m1s\u001b[0m 3ms/step - acc: 0.8400 - auc: 0.8245 - loss: 0.4479 - val_acc: 0.6280 - val_auc: 0.7385 - val_loss: 0.6688\n",
      "Epoch 34/100\n",
      "\u001b[1m259/282\u001b[0m \u001b[32m━━━━━━━━━━━━━━━━━━\u001b[0m\u001b[37m━━\u001b[0m \u001b[1m0s\u001b[0m 2ms/step - acc: 0.8305 - auc: 0.7627 - loss: 0.4642\n",
      "Epoch 34: val_loss did not improve from 0.64265\n",
      "\u001b[1m282/282\u001b[0m \u001b[32m━━━━━━━━━━━━━━━━━━━━\u001b[0m\u001b[37m\u001b[0m \u001b[1m1s\u001b[0m 3ms/step - acc: 0.8311 - auc: 0.7644 - loss: 0.4629 - val_acc: 0.6280 - val_auc: 0.7846 - val_loss: 0.6710\n",
      "Epoch 35/100\n",
      "\u001b[1m280/282\u001b[0m \u001b[32m━━━━━━━━━━━━━━━━━━━\u001b[0m\u001b[37m━\u001b[0m \u001b[1m0s\u001b[0m 2ms/step - acc: 0.8492 - auc: 0.8350 - loss: 0.4306\n",
      "Epoch 35: val_loss did not improve from 0.64265\n",
      "\u001b[1m282/282\u001b[0m \u001b[32m━━━━━━━━━━━━━━━━━━━━\u001b[0m\u001b[37m\u001b[0m \u001b[1m1s\u001b[0m 3ms/step - acc: 0.8492 - auc: 0.8350 - loss: 0.4307 - val_acc: 0.6280 - val_auc: 0.7846 - val_loss: 0.6738\n",
      "Epoch 36/100\n",
      "\u001b[1m262/282\u001b[0m \u001b[32m━━━━━━━━━━━━━━━━━━\u001b[0m\u001b[37m━━\u001b[0m \u001b[1m0s\u001b[0m 2ms/step - acc: 0.8464 - auc: 0.8170 - loss: 0.4405\n",
      "Epoch 36: val_loss did not improve from 0.64265\n",
      "\u001b[1m282/282\u001b[0m \u001b[32m━━━━━━━━━━━━━━━━━━━━\u001b[0m\u001b[37m\u001b[0m \u001b[1m1s\u001b[0m 3ms/step - acc: 0.8461 - auc: 0.8158 - loss: 0.4406 - val_acc: 0.6280 - val_auc: 0.4385 - val_loss: 0.6761\n",
      "Epoch 37/100\n",
      "\u001b[1m262/282\u001b[0m \u001b[32m━━━━━━━━━━━━━━━━━━\u001b[0m\u001b[37m━━\u001b[0m \u001b[1m0s\u001b[0m 2ms/step - acc: 0.8317 - auc: 0.8090 - loss: 0.4360\n",
      "Epoch 37: val_loss did not improve from 0.64265\n",
      "\u001b[1m282/282\u001b[0m \u001b[32m━━━━━━━━━━━━━━━━━━━━\u001b[0m\u001b[37m\u001b[0m \u001b[1m1s\u001b[0m 3ms/step - acc: 0.8316 - auc: 0.8090 - loss: 0.4365 - val_acc: 0.6280 - val_auc: 0.4385 - val_loss: 0.6782\n",
      "Epoch 38/100\n",
      "\u001b[1m262/282\u001b[0m \u001b[32m━━━━━━━━━━━━━━━━━━\u001b[0m\u001b[37m━━\u001b[0m \u001b[1m0s\u001b[0m 2ms/step - acc: 0.8294 - auc: 0.8287 - loss: 0.4290\n",
      "Epoch 38: val_loss did not improve from 0.64265\n",
      "\u001b[1m282/282\u001b[0m \u001b[32m━━━━━━━━━━━━━━━━━━━━\u001b[0m\u001b[37m\u001b[0m \u001b[1m1s\u001b[0m 3ms/step - acc: 0.8298 - auc: 0.8299 - loss: 0.4291 - val_acc: 0.6280 - val_auc: 0.0923 - val_loss: 0.6823\n",
      "Epoch 39/100\n",
      "\u001b[1m266/282\u001b[0m \u001b[32m━━━━━━━━━━━━━━━━━━\u001b[0m\u001b[37m━━\u001b[0m \u001b[1m0s\u001b[0m 2ms/step - acc: 0.8322 - auc: 0.7807 - loss: 0.4486\n",
      "Epoch 39: val_loss did not improve from 0.64265\n",
      "\u001b[1m282/282\u001b[0m \u001b[32m━━━━━━━━━━━━━━━━━━━━\u001b[0m\u001b[37m\u001b[0m \u001b[1m1s\u001b[0m 3ms/step - acc: 0.8330 - auc: 0.7841 - loss: 0.4471 - val_acc: 0.6280 - val_auc: 0.0923 - val_loss: 0.6856\n",
      "Epoch 40/100\n",
      "\u001b[1m266/282\u001b[0m \u001b[32m━━━━━━━━━━━━━━━━━━\u001b[0m\u001b[37m━━\u001b[0m \u001b[1m0s\u001b[0m 2ms/step - acc: 0.8450 - auc: 0.8518 - loss: 0.4248\n",
      "Epoch 40: val_loss did not improve from 0.64265\n",
      "\u001b[1m282/282\u001b[0m \u001b[32m━━━━━━━━━━━━━━━━━━━━\u001b[0m\u001b[37m\u001b[0m \u001b[1m1s\u001b[0m 3ms/step - acc: 0.8453 - auc: 0.8520 - loss: 0.4244 - val_acc: 0.6280 - val_auc: 0.0923 - val_loss: 0.6886\n",
      "Epoch 41/100\n",
      "\u001b[1m261/282\u001b[0m \u001b[32m━━━━━━━━━━━━━━━━━━\u001b[0m\u001b[37m━━\u001b[0m \u001b[1m0s\u001b[0m 2ms/step - acc: 0.8662 - auc: 0.8768 - loss: 0.3953\n",
      "Epoch 41: val_loss did not improve from 0.64265\n",
      "\u001b[1m282/282\u001b[0m \u001b[32m━━━━━━━━━━━━━━━━━━━━\u001b[0m\u001b[37m\u001b[0m \u001b[1m1s\u001b[0m 3ms/step - acc: 0.8642 - auc: 0.8747 - loss: 0.3970 - val_acc: 0.6280 - val_auc: 0.0923 - val_loss: 0.6916\n",
      "Epoch 42/100\n",
      "\u001b[1m264/282\u001b[0m \u001b[32m━━━━━━━━━━━━━━━━━━\u001b[0m\u001b[37m━━\u001b[0m \u001b[1m0s\u001b[0m 2ms/step - acc: 0.8615 - auc: 0.8650 - loss: 0.3958\n",
      "Epoch 42: val_loss did not improve from 0.64265\n",
      "\u001b[1m282/282\u001b[0m \u001b[32m━━━━━━━━━━━━━━━━━━━━\u001b[0m\u001b[37m\u001b[0m \u001b[1m1s\u001b[0m 3ms/step - acc: 0.8599 - auc: 0.8637 - loss: 0.3972 - val_acc: 0.6280 - val_auc: 0.0923 - val_loss: 0.6931\n",
      "Epoch 43/100\n",
      "\u001b[1m260/282\u001b[0m \u001b[32m━━━━━━━━━━━━━━━━━━\u001b[0m\u001b[37m━━\u001b[0m \u001b[1m0s\u001b[0m 2ms/step - acc: 0.8249 - auc: 0.8650 - loss: 0.4185\n",
      "Epoch 43: val_loss did not improve from 0.64265\n",
      "\u001b[1m282/282\u001b[0m \u001b[32m━━━━━━━━━━━━━━━━━━━━\u001b[0m\u001b[37m\u001b[0m \u001b[1m1s\u001b[0m 3ms/step - acc: 0.8258 - auc: 0.8644 - loss: 0.4181 - val_acc: 0.6280 - val_auc: 0.0923 - val_loss: 0.6977\n",
      "Epoch 44/100\n",
      "\u001b[1m262/282\u001b[0m \u001b[32m━━━━━━━━━━━━━━━━━━\u001b[0m\u001b[37m━━\u001b[0m \u001b[1m0s\u001b[0m 2ms/step - acc: 0.8357 - auc: 0.8525 - loss: 0.4110\n",
      "Epoch 44: val_loss did not improve from 0.64265\n",
      "\u001b[1m282/282\u001b[0m \u001b[32m━━━━━━━━━━━━━━━━━━━━\u001b[0m\u001b[37m\u001b[0m \u001b[1m1s\u001b[0m 3ms/step - acc: 0.8358 - auc: 0.8527 - loss: 0.4111 - val_acc: 0.6280 - val_auc: 0.0923 - val_loss: 0.6999\n",
      "Epoch 45/100\n",
      "\u001b[1m266/282\u001b[0m \u001b[32m━━━━━━━━━━━━━━━━━━\u001b[0m\u001b[37m━━\u001b[0m \u001b[1m0s\u001b[0m 2ms/step - acc: 0.8380 - auc: 0.8418 - loss: 0.4139\n",
      "Epoch 45: val_loss did not improve from 0.64265\n",
      "\u001b[1m282/282\u001b[0m \u001b[32m━━━━━━━━━━━━━━━━━━━━\u001b[0m\u001b[37m\u001b[0m \u001b[1m1s\u001b[0m 3ms/step - acc: 0.8378 - auc: 0.8421 - loss: 0.4140 - val_acc: 0.6280 - val_auc: 0.0923 - val_loss: 0.7016\n",
      "Epoch 46/100\n",
      "\u001b[1m263/282\u001b[0m \u001b[32m━━━━━━━━━━━━━━━━━━\u001b[0m\u001b[37m━━\u001b[0m \u001b[1m0s\u001b[0m 2ms/step - acc: 0.8318 - auc: 0.8376 - loss: 0.4137\n",
      "Epoch 46: val_loss did not improve from 0.64265\n",
      "\u001b[1m282/282\u001b[0m \u001b[32m━━━━━━━━━━━━━━━━━━━━\u001b[0m\u001b[37m\u001b[0m \u001b[1m1s\u001b[0m 3ms/step - acc: 0.8322 - auc: 0.8387 - loss: 0.4133 - val_acc: 0.6280 - val_auc: 0.0923 - val_loss: 0.7042\n",
      "Epoch 47/100\n",
      "\u001b[1m261/282\u001b[0m \u001b[32m━━━━━━━━━━━━━━━━━━\u001b[0m\u001b[37m━━\u001b[0m \u001b[1m0s\u001b[0m 2ms/step - acc: 0.8502 - auc: 0.8708 - loss: 0.3929\n",
      "Epoch 47: val_loss did not improve from 0.64265\n",
      "\u001b[1m282/282\u001b[0m \u001b[32m━━━━━━━━━━━━━━━━━━━━\u001b[0m\u001b[37m\u001b[0m \u001b[1m1s\u001b[0m 3ms/step - acc: 0.8499 - auc: 0.8703 - loss: 0.3935 - val_acc: 0.6280 - val_auc: 0.0923 - val_loss: 0.7062\n",
      "Epoch 48/100\n",
      "\u001b[1m260/282\u001b[0m \u001b[32m━━━━━━━━━━━━━━━━━━\u001b[0m\u001b[37m━━\u001b[0m \u001b[1m0s\u001b[0m 2ms/step - acc: 0.8421 - auc: 0.8723 - loss: 0.3844\n",
      "Epoch 48: val_loss did not improve from 0.64265\n",
      "\u001b[1m282/282\u001b[0m \u001b[32m━━━━━━━━━━━━━━━━━━━━\u001b[0m\u001b[37m\u001b[0m \u001b[1m1s\u001b[0m 3ms/step - acc: 0.8419 - auc: 0.8703 - loss: 0.3860 - val_acc: 0.6280 - val_auc: 0.0923 - val_loss: 0.7074\n",
      "Epoch 49/100\n",
      "\u001b[1m279/282\u001b[0m \u001b[32m━━━━━━━━━━━━━━━━━━━\u001b[0m\u001b[37m━\u001b[0m \u001b[1m0s\u001b[0m 2ms/step - acc: 0.8581 - auc: 0.8750 - loss: 0.3835\n",
      "Epoch 49: val_loss did not improve from 0.64265\n",
      "\u001b[1m282/282\u001b[0m \u001b[32m━━━━━━━━━━━━━━━━━━━━\u001b[0m\u001b[37m\u001b[0m \u001b[1m1s\u001b[0m 3ms/step - acc: 0.8578 - auc: 0.8749 - loss: 0.3837 - val_acc: 0.6280 - val_auc: 0.0923 - val_loss: 0.7132\n",
      "Epoch 50/100\n",
      "\u001b[1m281/282\u001b[0m \u001b[32m━━━━━━━━━━━━━━━━━━━\u001b[0m\u001b[37m━\u001b[0m \u001b[1m0s\u001b[0m 2ms/step - acc: 0.8387 - auc: 0.8619 - loss: 0.4002\n",
      "Epoch 50: val_loss did not improve from 0.64265\n",
      "\u001b[1m282/282\u001b[0m \u001b[32m━━━━━━━━━━━━━━━━━━━━\u001b[0m\u001b[37m\u001b[0m \u001b[1m1s\u001b[0m 3ms/step - acc: 0.8386 - auc: 0.8619 - loss: 0.4002 - val_acc: 0.6280 - val_auc: 0.0923 - val_loss: 0.7151\n",
      "Epoch 51/100\n",
      "\u001b[1m274/282\u001b[0m \u001b[32m━━━━━━━━━━━━━━━━━━━\u001b[0m\u001b[37m━\u001b[0m \u001b[1m0s\u001b[0m 2ms/step - acc: 0.8654 - auc: 0.8773 - loss: 0.3713\n",
      "Epoch 51: val_loss did not improve from 0.64265\n",
      "\u001b[1m282/282\u001b[0m \u001b[32m━━━━━━━━━━━━━━━━━━━━\u001b[0m\u001b[37m\u001b[0m \u001b[1m1s\u001b[0m 3ms/step - acc: 0.8644 - auc: 0.8772 - loss: 0.3720 - val_acc: 0.6280 - val_auc: 0.0923 - val_loss: 0.7172\n",
      "Epoch 52/100\n",
      "\u001b[1m259/282\u001b[0m \u001b[32m━━━━━━━━━━━━━━━━━━\u001b[0m\u001b[37m━━\u001b[0m \u001b[1m0s\u001b[0m 2ms/step - acc: 0.8423 - auc: 0.8471 - loss: 0.3929\n",
      "Epoch 52: val_loss did not improve from 0.64265\n",
      "\u001b[1m282/282\u001b[0m \u001b[32m━━━━━━━━━━━━━━━━━━━━\u001b[0m\u001b[37m\u001b[0m \u001b[1m1s\u001b[0m 3ms/step - acc: 0.8418 - auc: 0.8468 - loss: 0.3937 - val_acc: 0.6280 - val_auc: 0.0923 - val_loss: 0.7190\n",
      "Epoch 53/100\n",
      "\u001b[1m263/282\u001b[0m \u001b[32m━━━━━━━━━━━━━━━━━━\u001b[0m\u001b[37m━━\u001b[0m \u001b[1m0s\u001b[0m 2ms/step - acc: 0.8547 - auc: 0.8473 - loss: 0.3970\n",
      "Epoch 53: val_loss did not improve from 0.64265\n",
      "\u001b[1m282/282\u001b[0m \u001b[32m━━━━━━━━━━━━━━━━━━━━\u001b[0m\u001b[37m\u001b[0m \u001b[1m1s\u001b[0m 3ms/step - acc: 0.8538 - auc: 0.8493 - loss: 0.3964 - val_acc: 0.6280 - val_auc: 0.0923 - val_loss: 0.7211\n",
      "Epoch 54/100\n",
      "\u001b[1m262/282\u001b[0m \u001b[32m━━━━━━━━━━━━━━━━━━\u001b[0m\u001b[37m━━\u001b[0m \u001b[1m0s\u001b[0m 2ms/step - acc: 0.8332 - auc: 0.8751 - loss: 0.3947\n",
      "Epoch 54: val_loss did not improve from 0.64265\n",
      "\u001b[1m282/282\u001b[0m \u001b[32m━━━━━━━━━━━━━━━━━━━━\u001b[0m\u001b[37m\u001b[0m \u001b[1m1s\u001b[0m 3ms/step - acc: 0.8337 - auc: 0.8756 - loss: 0.3939 - val_acc: 0.6280 - val_auc: 0.0923 - val_loss: 0.7235\n",
      "Epoch 55/100\n",
      "\u001b[1m266/282\u001b[0m \u001b[32m━━━━━━━━━━━━━━━━━━\u001b[0m\u001b[37m━━\u001b[0m \u001b[1m0s\u001b[0m 2ms/step - acc: 0.8343 - auc: 0.8818 - loss: 0.3785\n",
      "Epoch 55: val_loss did not improve from 0.64265\n",
      "\u001b[1m282/282\u001b[0m \u001b[32m━━━━━━━━━━━━━━━━━━━━\u001b[0m\u001b[37m\u001b[0m \u001b[1m1s\u001b[0m 3ms/step - acc: 0.8346 - auc: 0.8818 - loss: 0.3788 - val_acc: 0.6280 - val_auc: 0.0923 - val_loss: 0.7252\n",
      "Epoch 56/100\n",
      "\u001b[1m262/282\u001b[0m \u001b[32m━━━━━━━━━━━━━━━━━━\u001b[0m\u001b[37m━━\u001b[0m \u001b[1m0s\u001b[0m 2ms/step - acc: 0.8486 - auc: 0.8703 - loss: 0.3872\n",
      "Epoch 56: val_loss did not improve from 0.64265\n",
      "\u001b[1m282/282\u001b[0m \u001b[32m━━━━━━━━━━━━━━━━━━━━\u001b[0m\u001b[37m\u001b[0m \u001b[1m1s\u001b[0m 3ms/step - acc: 0.8480 - auc: 0.8696 - loss: 0.3878 - val_acc: 0.6280 - val_auc: 0.0923 - val_loss: 0.7274\n",
      "Epoch 57/100\n",
      "\u001b[1m263/282\u001b[0m \u001b[32m━━━━━━━━━━━━━━━━━━\u001b[0m\u001b[37m━━\u001b[0m \u001b[1m0s\u001b[0m 2ms/step - acc: 0.8539 - auc: 0.9041 - loss: 0.3707\n",
      "Epoch 57: val_loss did not improve from 0.64265\n",
      "\u001b[1m282/282\u001b[0m \u001b[32m━━━━━━━━━━━━━━━━━━━━\u001b[0m\u001b[37m\u001b[0m \u001b[1m1s\u001b[0m 3ms/step - acc: 0.8533 - auc: 0.9033 - loss: 0.3711 - val_acc: 0.6280 - val_auc: 0.0923 - val_loss: 0.7293\n",
      "Epoch 58/100\n",
      "\u001b[1m264/282\u001b[0m \u001b[32m━━━━━━━━━━━━━━━━━━\u001b[0m\u001b[37m━━\u001b[0m \u001b[1m0s\u001b[0m 2ms/step - acc: 0.8362 - auc: 0.8843 - loss: 0.3840\n",
      "Epoch 58: val_loss did not improve from 0.64265\n",
      "\u001b[1m282/282\u001b[0m \u001b[32m━━━━━━━━━━━━━━━━━━━━\u001b[0m\u001b[37m\u001b[0m \u001b[1m1s\u001b[0m 3ms/step - acc: 0.8366 - auc: 0.8847 - loss: 0.3836 - val_acc: 0.6280 - val_auc: 0.0923 - val_loss: 0.7321\n",
      "Epoch 59/100\n",
      "\u001b[1m263/282\u001b[0m \u001b[32m━━━━━━━━━━━━━━━━━━\u001b[0m\u001b[37m━━\u001b[0m \u001b[1m0s\u001b[0m 2ms/step - acc: 0.8433 - auc: 0.8776 - loss: 0.3766\n",
      "Epoch 59: val_loss did not improve from 0.64265\n",
      "\u001b[1m282/282\u001b[0m \u001b[32m━━━━━━━━━━━━━━━━━━━━\u001b[0m\u001b[37m\u001b[0m \u001b[1m1s\u001b[0m 3ms/step - acc: 0.8433 - auc: 0.8779 - loss: 0.3769 - val_acc: 0.6280 - val_auc: 0.0923 - val_loss: 0.7339\n",
      "Epoch 60/100\n",
      "\u001b[1m268/282\u001b[0m \u001b[32m━━━━━━━━━━━━━━━━━━━\u001b[0m\u001b[37m━\u001b[0m \u001b[1m0s\u001b[0m 2ms/step - acc: 0.8554 - auc: 0.8931 - loss: 0.3673\n",
      "Epoch 60: val_loss did not improve from 0.64265\n",
      "\u001b[1m282/282\u001b[0m \u001b[32m━━━━━━━━━━━━━━━━━━━━\u001b[0m\u001b[37m\u001b[0m \u001b[1m1s\u001b[0m 3ms/step - acc: 0.8551 - auc: 0.8927 - loss: 0.3676 - val_acc: 0.6280 - val_auc: 0.0923 - val_loss: 0.7364\n",
      "Epoch 61/100\n",
      "\u001b[1m268/282\u001b[0m \u001b[32m━━━━━━━━━━━━━━━━━━━\u001b[0m\u001b[37m━\u001b[0m \u001b[1m0s\u001b[0m 2ms/step - acc: 0.8267 - auc: 0.8891 - loss: 0.3885\n",
      "Epoch 61: val_loss did not improve from 0.64265\n",
      "\u001b[1m282/282\u001b[0m \u001b[32m━━━━━━━━━━━━━━━━━━━━\u001b[0m\u001b[37m\u001b[0m \u001b[1m1s\u001b[0m 3ms/step - acc: 0.8278 - auc: 0.8897 - loss: 0.3875 - val_acc: 0.6280 - val_auc: 0.0923 - val_loss: 0.7384\n",
      "Epoch 62/100\n",
      "\u001b[1m269/282\u001b[0m \u001b[32m━━━━━━━━━━━━━━━━━━━\u001b[0m\u001b[37m━\u001b[0m \u001b[1m0s\u001b[0m 2ms/step - acc: 0.8331 - auc: 0.8402 - loss: 0.4024\n",
      "Epoch 62: val_loss did not improve from 0.64265\n",
      "\u001b[1m282/282\u001b[0m \u001b[32m━━━━━━━━━━━━━━━━━━━━\u001b[0m\u001b[37m\u001b[0m \u001b[1m1s\u001b[0m 3ms/step - acc: 0.8335 - auc: 0.8418 - loss: 0.4013 - val_acc: 0.6280 - val_auc: 0.0923 - val_loss: 0.7402\n",
      "Epoch 63/100\n",
      "\u001b[1m267/282\u001b[0m \u001b[32m━━━━━━━━━━━━━━━━━━\u001b[0m\u001b[37m━━\u001b[0m \u001b[1m0s\u001b[0m 2ms/step - acc: 0.8460 - auc: 0.8995 - loss: 0.3636\n",
      "Epoch 63: val_loss did not improve from 0.64265\n",
      "\u001b[1m282/282\u001b[0m \u001b[32m━━━━━━━━━━━━━━━━━━━━\u001b[0m\u001b[37m\u001b[0m \u001b[1m1s\u001b[0m 3ms/step - acc: 0.8455 - auc: 0.8993 - loss: 0.3640 - val_acc: 0.6280 - val_auc: 0.0923 - val_loss: 0.7430\n",
      "Epoch 64/100\n",
      "\u001b[1m261/282\u001b[0m \u001b[32m━━━━━━━━━━━━━━━━━━\u001b[0m\u001b[37m━━\u001b[0m \u001b[1m0s\u001b[0m 2ms/step - acc: 0.8681 - auc: 0.9101 - loss: 0.3443\n",
      "Epoch 64: val_loss did not improve from 0.64265\n",
      "\u001b[1m282/282\u001b[0m \u001b[32m━━━━━━━━━━━━━━━━━━━━\u001b[0m\u001b[37m\u001b[0m \u001b[1m1s\u001b[0m 3ms/step - acc: 0.8664 - auc: 0.9094 - loss: 0.3457 - val_acc: 0.6280 - val_auc: 0.0923 - val_loss: 0.7450\n",
      "Epoch 65/100\n",
      "\u001b[1m281/282\u001b[0m \u001b[32m━━━━━━━━━━━━━━━━━━━\u001b[0m\u001b[37m━\u001b[0m \u001b[1m0s\u001b[0m 2ms/step - acc: 0.8469 - auc: 0.9112 - loss: 0.3516\n",
      "Epoch 65: val_loss did not improve from 0.64265\n",
      "\u001b[1m282/282\u001b[0m \u001b[32m━━━━━━━━━━━━━━━━━━━━\u001b[0m\u001b[37m\u001b[0m \u001b[1m1s\u001b[0m 3ms/step - acc: 0.8469 - auc: 0.9111 - loss: 0.3517 - val_acc: 0.6280 - val_auc: 0.0923 - val_loss: 0.7471\n",
      "Epoch 66/100\n",
      "\u001b[1m257/282\u001b[0m \u001b[32m━━━━━━━━━━━━━━━━━━\u001b[0m\u001b[37m━━\u001b[0m \u001b[1m0s\u001b[0m 2ms/step - acc: 0.8429 - auc: 0.8894 - loss: 0.3626\n",
      "Epoch 66: val_loss did not improve from 0.64265\n",
      "\u001b[1m282/282\u001b[0m \u001b[32m━━━━━━━━━━━━━━━━━━━━\u001b[0m\u001b[37m\u001b[0m \u001b[1m1s\u001b[0m 3ms/step - acc: 0.8426 - auc: 0.8886 - loss: 0.3636 - val_acc: 0.6280 - val_auc: 0.0923 - val_loss: 0.7489\n",
      "Epoch 67/100\n",
      "\u001b[1m272/282\u001b[0m \u001b[32m━━━━━━━━━━━━━━━━━━━\u001b[0m\u001b[37m━\u001b[0m \u001b[1m0s\u001b[0m 2ms/step - acc: 0.8432 - auc: 0.8904 - loss: 0.3578\n",
      "Epoch 67: val_loss did not improve from 0.64265\n",
      "\u001b[1m282/282\u001b[0m \u001b[32m━━━━━━━━━━━━━━━━━━━━\u001b[0m\u001b[37m\u001b[0m \u001b[1m1s\u001b[0m 3ms/step - acc: 0.8430 - auc: 0.8904 - loss: 0.3582 - val_acc: 0.6280 - val_auc: 0.0923 - val_loss: 0.7507\n",
      "Epoch 68/100\n",
      "\u001b[1m258/282\u001b[0m \u001b[32m━━━━━━━━━━━━━━━━━━\u001b[0m\u001b[37m━━\u001b[0m \u001b[1m0s\u001b[0m 2ms/step - acc: 0.8672 - auc: 0.9281 - loss: 0.3289\n",
      "Epoch 68: val_loss did not improve from 0.64265\n",
      "\u001b[1m282/282\u001b[0m \u001b[32m━━━━━━━━━━━━━━━━━━━━\u001b[0m\u001b[37m\u001b[0m \u001b[1m1s\u001b[0m 3ms/step - acc: 0.8650 - auc: 0.9265 - loss: 0.3312 - val_acc: 0.6280 - val_auc: 0.0923 - val_loss: 0.7529\n",
      "Epoch 69/100\n",
      "\u001b[1m264/282\u001b[0m \u001b[32m━━━━━━━━━━━━━━━━━━\u001b[0m\u001b[37m━━\u001b[0m \u001b[1m0s\u001b[0m 2ms/step - acc: 0.8593 - auc: 0.9028 - loss: 0.3517\n",
      "Epoch 69: val_loss did not improve from 0.64265\n",
      "\u001b[1m282/282\u001b[0m \u001b[32m━━━━━━━━━━━━━━━━━━━━\u001b[0m\u001b[37m\u001b[0m \u001b[1m1s\u001b[0m 3ms/step - acc: 0.8585 - auc: 0.9024 - loss: 0.3521 - val_acc: 0.6280 - val_auc: 0.0923 - val_loss: 0.7550\n",
      "Epoch 70/100\n",
      "\u001b[1m266/282\u001b[0m \u001b[32m━━━━━━━━━━━━━━━━━━\u001b[0m\u001b[37m━━\u001b[0m \u001b[1m0s\u001b[0m 2ms/step - acc: 0.8496 - auc: 0.8725 - loss: 0.3631\n",
      "Epoch 70: val_loss did not improve from 0.64265\n",
      "\u001b[1m282/282\u001b[0m \u001b[32m━━━━━━━━━━━━━━━━━━━━\u001b[0m\u001b[37m\u001b[0m \u001b[1m1s\u001b[0m 3ms/step - acc: 0.8493 - auc: 0.8737 - loss: 0.3631 - val_acc: 0.6280 - val_auc: 0.0923 - val_loss: 0.7569\n",
      "Epoch 71/100\n",
      "\u001b[1m266/282\u001b[0m \u001b[32m━━━━━━━━━━━━━━━━━━\u001b[0m\u001b[37m━━\u001b[0m \u001b[1m0s\u001b[0m 2ms/step - acc: 0.8154 - auc: 0.9011 - loss: 0.3683\n",
      "Epoch 71: val_loss did not improve from 0.64265\n",
      "\u001b[1m282/282\u001b[0m \u001b[32m━━━━━━━━━━━━━━━━━━━━\u001b[0m\u001b[37m\u001b[0m \u001b[1m1s\u001b[0m 3ms/step - acc: 0.8168 - auc: 0.9013 - loss: 0.3674 - val_acc: 0.6280 - val_auc: 0.0923 - val_loss: 0.7585\n",
      "Epoch 72/100\n",
      "\u001b[1m264/282\u001b[0m \u001b[32m━━━━━━━━━━━━━━━━━━\u001b[0m\u001b[37m━━\u001b[0m \u001b[1m0s\u001b[0m 2ms/step - acc: 0.8529 - auc: 0.9175 - loss: 0.3424\n",
      "Epoch 72: val_loss did not improve from 0.64265\n",
      "\u001b[1m282/282\u001b[0m \u001b[32m━━━━━━━━━━━━━━━━━━━━\u001b[0m\u001b[37m\u001b[0m \u001b[1m1s\u001b[0m 3ms/step - acc: 0.8526 - auc: 0.9166 - loss: 0.3428 - val_acc: 0.6280 - val_auc: 0.0923 - val_loss: 0.7605\n",
      "Epoch 73/100\n",
      "\u001b[1m264/282\u001b[0m \u001b[32m━━━━━━━━━━━━━━━━━━\u001b[0m\u001b[37m━━\u001b[0m \u001b[1m0s\u001b[0m 2ms/step - acc: 0.8466 - auc: 0.8903 - loss: 0.3652\n",
      "Epoch 73: val_loss did not improve from 0.64265\n",
      "\u001b[1m282/282\u001b[0m \u001b[32m━━━━━━━━━━━━━━━━━━━━\u001b[0m\u001b[37m\u001b[0m \u001b[1m1s\u001b[0m 3ms/step - acc: 0.8473 - auc: 0.8909 - loss: 0.3644 - val_acc: 0.6280 - val_auc: 0.0923 - val_loss: 0.7624\n",
      "Epoch 74/100\n",
      "\u001b[1m264/282\u001b[0m \u001b[32m━━━━━━━━━━━━━━━━━━\u001b[0m\u001b[37m━━\u001b[0m \u001b[1m0s\u001b[0m 2ms/step - acc: 0.8507 - auc: 0.8746 - loss: 0.3544\n",
      "Epoch 74: val_loss did not improve from 0.64265\n",
      "\u001b[1m282/282\u001b[0m \u001b[32m━━━━━━━━━━━━━━━━━━━━\u001b[0m\u001b[37m\u001b[0m \u001b[1m1s\u001b[0m 3ms/step - acc: 0.8505 - auc: 0.8760 - loss: 0.3544 - val_acc: 0.6280 - val_auc: 0.0923 - val_loss: 0.7651\n",
      "Epoch 75/100\n",
      "\u001b[1m265/282\u001b[0m \u001b[32m━━━━━━━━━━━━━━━━━━\u001b[0m\u001b[37m━━\u001b[0m \u001b[1m0s\u001b[0m 2ms/step - acc: 0.8439 - auc: 0.8881 - loss: 0.3615\n",
      "Epoch 75: val_loss did not improve from 0.64265\n",
      "\u001b[1m282/282\u001b[0m \u001b[32m━━━━━━━━━━━━━━━━━━━━\u001b[0m\u001b[37m\u001b[0m \u001b[1m1s\u001b[0m 3ms/step - acc: 0.8436 - auc: 0.8889 - loss: 0.3611 - val_acc: 0.6280 - val_auc: 0.0923 - val_loss: 0.7667\n",
      "Epoch 76/100\n",
      "\u001b[1m264/282\u001b[0m \u001b[32m━━━━━━━━━━━━━━━━━━\u001b[0m\u001b[37m━━\u001b[0m \u001b[1m0s\u001b[0m 2ms/step - acc: 0.8478 - auc: 0.8824 - loss: 0.3591\n",
      "Epoch 76: val_loss did not improve from 0.64265\n",
      "\u001b[1m282/282\u001b[0m \u001b[32m━━━━━━━━━━━━━━━━━━━━\u001b[0m\u001b[37m\u001b[0m \u001b[1m1s\u001b[0m 3ms/step - acc: 0.8481 - auc: 0.8835 - loss: 0.3585 - val_acc: 0.6280 - val_auc: 0.0923 - val_loss: 0.7682\n",
      "Epoch 77/100\n",
      "\u001b[1m269/282\u001b[0m \u001b[32m━━━━━━━━━━━━━━━━━━━\u001b[0m\u001b[37m━\u001b[0m \u001b[1m0s\u001b[0m 2ms/step - acc: 0.8305 - auc: 0.9044 - loss: 0.3625\n",
      "Epoch 77: val_loss did not improve from 0.64265\n",
      "\u001b[1m282/282\u001b[0m \u001b[32m━━━━━━━━━━━━━━━━━━━━\u001b[0m\u001b[37m\u001b[0m \u001b[1m1s\u001b[0m 3ms/step - acc: 0.8310 - auc: 0.9045 - loss: 0.3620 - val_acc: 0.6280 - val_auc: 0.0923 - val_loss: 0.7705\n",
      "Epoch 78/100\n",
      "\u001b[1m266/282\u001b[0m \u001b[32m━━━━━━━━━━━━━━━━━━\u001b[0m\u001b[37m━━\u001b[0m \u001b[1m0s\u001b[0m 2ms/step - acc: 0.8523 - auc: 0.9078 - loss: 0.3368\n",
      "Epoch 78: val_loss did not improve from 0.64265\n",
      "\u001b[1m282/282\u001b[0m \u001b[32m━━━━━━━━━━━━━━━━━━━━\u001b[0m\u001b[37m\u001b[0m \u001b[1m1s\u001b[0m 3ms/step - acc: 0.8513 - auc: 0.9077 - loss: 0.3375 - val_acc: 0.6280 - val_auc: 0.0923 - val_loss: 0.7726\n",
      "Epoch 79/100\n",
      "\u001b[1m262/282\u001b[0m \u001b[32m━━━━━━━━━━━━━━━━━━\u001b[0m\u001b[37m━━\u001b[0m \u001b[1m0s\u001b[0m 2ms/step - acc: 0.8553 - auc: 0.9376 - loss: 0.3175\n",
      "Epoch 79: val_loss did not improve from 0.64265\n",
      "\u001b[1m282/282\u001b[0m \u001b[32m━━━━━━━━━━━━━━━━━━━━\u001b[0m\u001b[37m\u001b[0m \u001b[1m1s\u001b[0m 3ms/step - acc: 0.8545 - auc: 0.9358 - loss: 0.3192 - val_acc: 0.6280 - val_auc: 0.0923 - val_loss: 0.7748\n",
      "Epoch 80/100\n",
      "\u001b[1m263/282\u001b[0m \u001b[32m━━━━━━━━━━━━━━━━━━\u001b[0m\u001b[37m━━\u001b[0m \u001b[1m0s\u001b[0m 2ms/step - acc: 0.8335 - auc: 0.8918 - loss: 0.3651\n",
      "Epoch 80: val_loss did not improve from 0.64265\n",
      "\u001b[1m282/282\u001b[0m \u001b[32m━━━━━━━━━━━━━━━━━━━━\u001b[0m\u001b[37m\u001b[0m \u001b[1m1s\u001b[0m 3ms/step - acc: 0.8348 - auc: 0.8922 - loss: 0.3639 - val_acc: 0.6280 - val_auc: 0.0923 - val_loss: 0.7745\n",
      "Epoch 81/100\n",
      "\u001b[1m261/282\u001b[0m \u001b[32m━━━━━━━━━━━━━━━━━━\u001b[0m\u001b[37m━━\u001b[0m \u001b[1m0s\u001b[0m 2ms/step - acc: 0.8470 - auc: 0.9137 - loss: 0.3405\n",
      "Epoch 81: val_loss did not improve from 0.64265\n",
      "\u001b[1m282/282\u001b[0m \u001b[32m━━━━━━━━━━━━━━━━━━━━\u001b[0m\u001b[37m\u001b[0m \u001b[1m1s\u001b[0m 3ms/step - acc: 0.8466 - auc: 0.9141 - loss: 0.3406 - val_acc: 0.6280 - val_auc: 0.0923 - val_loss: 0.7780\n",
      "Epoch 82/100\n",
      "\u001b[1m260/282\u001b[0m \u001b[32m━━━━━━━━━━━━━━━━━━\u001b[0m\u001b[37m━━\u001b[0m \u001b[1m0s\u001b[0m 2ms/step - acc: 0.8410 - auc: 0.9139 - loss: 0.3426\n",
      "Epoch 82: val_loss did not improve from 0.64265\n",
      "\u001b[1m282/282\u001b[0m \u001b[32m━━━━━━━━━━━━━━━━━━━━\u001b[0m\u001b[37m\u001b[0m \u001b[1m1s\u001b[0m 3ms/step - acc: 0.8409 - auc: 0.9139 - loss: 0.3426 - val_acc: 0.6280 - val_auc: 0.0923 - val_loss: 0.7801\n",
      "Epoch 83/100\n",
      "\u001b[1m278/282\u001b[0m \u001b[32m━━━━━━━━━━━━━━━━━━━\u001b[0m\u001b[37m━\u001b[0m \u001b[1m0s\u001b[0m 2ms/step - acc: 0.8392 - auc: 0.9176 - loss: 0.3380\n",
      "Epoch 83: val_loss did not improve from 0.64265\n",
      "\u001b[1m282/282\u001b[0m \u001b[32m━━━━━━━━━━━━━━━━━━━━\u001b[0m\u001b[37m\u001b[0m \u001b[1m1s\u001b[0m 3ms/step - acc: 0.8393 - auc: 0.9176 - loss: 0.3380 - val_acc: 0.6280 - val_auc: 0.0923 - val_loss: 0.7828\n",
      "Epoch 84/100\n",
      "\u001b[1m282/282\u001b[0m \u001b[32m━━━━━━━━━━━━━━━━━━━━\u001b[0m\u001b[37m\u001b[0m \u001b[1m0s\u001b[0m 2ms/step - acc: 0.8684 - auc: 0.9338 - loss: 0.3130\n",
      "Epoch 84: val_loss did not improve from 0.64265\n",
      "\u001b[1m282/282\u001b[0m \u001b[32m━━━━━━━━━━━━━━━━━━━━\u001b[0m\u001b[37m\u001b[0m \u001b[1m1s\u001b[0m 3ms/step - acc: 0.8684 - auc: 0.9337 - loss: 0.3131 - val_acc: 0.6280 - val_auc: 0.0923 - val_loss: 0.7846\n",
      "Epoch 85/100\n",
      "\u001b[1m267/282\u001b[0m \u001b[32m━━━━━━━━━━━━━━━━━━\u001b[0m\u001b[37m━━\u001b[0m \u001b[1m0s\u001b[0m 2ms/step - acc: 0.8456 - auc: 0.9049 - loss: 0.3343\n",
      "Epoch 85: val_loss did not improve from 0.64265\n",
      "\u001b[1m282/282\u001b[0m \u001b[32m━━━━━━━━━━━━━━━━━━━━\u001b[0m\u001b[37m\u001b[0m \u001b[1m1s\u001b[0m 3ms/step - acc: 0.8458 - auc: 0.9053 - loss: 0.3343 - val_acc: 0.6280 - val_auc: 0.0923 - val_loss: 0.7859\n",
      "Epoch 86/100\n",
      "\u001b[1m269/282\u001b[0m \u001b[32m━━━━━━━━━━━━━━━━━━━\u001b[0m\u001b[37m━\u001b[0m \u001b[1m0s\u001b[0m 2ms/step - acc: 0.8625 - auc: 0.9256 - loss: 0.3170\n",
      "Epoch 86: val_loss did not improve from 0.64265\n",
      "\u001b[1m282/282\u001b[0m \u001b[32m━━━━━━━━━━━━━━━━━━━━\u001b[0m\u001b[37m\u001b[0m \u001b[1m1s\u001b[0m 3ms/step - acc: 0.8615 - auc: 0.9248 - loss: 0.3182 - val_acc: 0.6280 - val_auc: 0.0923 - val_loss: 0.7875\n",
      "Epoch 87/100\n",
      "\u001b[1m267/282\u001b[0m \u001b[32m━━━━━━━━━━━━━━━━━━\u001b[0m\u001b[37m━━\u001b[0m \u001b[1m0s\u001b[0m 2ms/step - acc: 0.8555 - auc: 0.9082 - loss: 0.3277\n",
      "Epoch 87: val_loss did not improve from 0.64265\n",
      "\u001b[1m282/282\u001b[0m \u001b[32m━━━━━━━━━━━━━━━━━━━━\u001b[0m\u001b[37m\u001b[0m \u001b[1m1s\u001b[0m 3ms/step - acc: 0.8549 - auc: 0.9084 - loss: 0.3283 - val_acc: 0.6280 - val_auc: 0.0923 - val_loss: 0.7898\n",
      "Epoch 88/100\n",
      "\u001b[1m264/282\u001b[0m \u001b[32m━━━━━━━━━━━━━━━━━━\u001b[0m\u001b[37m━━\u001b[0m \u001b[1m0s\u001b[0m 2ms/step - acc: 0.8463 - auc: 0.9076 - loss: 0.3433\n",
      "Epoch 88: val_loss did not improve from 0.64265\n",
      "\u001b[1m282/282\u001b[0m \u001b[32m━━━━━━━━━━━━━━━━━━━━\u001b[0m\u001b[37m\u001b[0m \u001b[1m1s\u001b[0m 3ms/step - acc: 0.8465 - auc: 0.9083 - loss: 0.3424 - val_acc: 0.6280 - val_auc: 0.0923 - val_loss: 0.7924\n",
      "Epoch 89/100\n",
      "\u001b[1m263/282\u001b[0m \u001b[32m━━━━━━━━━━━━━━━━━━\u001b[0m\u001b[37m━━\u001b[0m \u001b[1m0s\u001b[0m 2ms/step - acc: 0.8446 - auc: 0.9227 - loss: 0.3269\n",
      "Epoch 89: val_loss did not improve from 0.64265\n",
      "\u001b[1m282/282\u001b[0m \u001b[32m━━━━━━━━━━━━━━━━━━━━\u001b[0m\u001b[37m\u001b[0m \u001b[1m1s\u001b[0m 3ms/step - acc: 0.8446 - auc: 0.9221 - loss: 0.3275 - val_acc: 0.6280 - val_auc: 0.0923 - val_loss: 0.7937\n",
      "Epoch 90/100\n",
      "\u001b[1m268/282\u001b[0m \u001b[32m━━━━━━━━━━━━━━━━━━━\u001b[0m\u001b[37m━\u001b[0m \u001b[1m0s\u001b[0m 2ms/step - acc: 0.8496 - auc: 0.9322 - loss: 0.3176\n",
      "Epoch 90: val_loss did not improve from 0.64265\n",
      "\u001b[1m282/282\u001b[0m \u001b[32m━━━━━━━━━━━━━━━━━━━━\u001b[0m\u001b[37m\u001b[0m \u001b[1m1s\u001b[0m 3ms/step - acc: 0.8495 - auc: 0.9316 - loss: 0.3183 - val_acc: 0.6280 - val_auc: 0.0923 - val_loss: 0.7964\n",
      "Epoch 91/100\n",
      "\u001b[1m265/282\u001b[0m \u001b[32m━━━━━━━━━━━━━━━━━━\u001b[0m\u001b[37m━━\u001b[0m \u001b[1m0s\u001b[0m 2ms/step - acc: 0.8387 - auc: 0.9181 - loss: 0.3365\n",
      "Epoch 91: val_loss did not improve from 0.64265\n",
      "\u001b[1m282/282\u001b[0m \u001b[32m━━━━━━━━━━━━━━━━━━━━\u001b[0m\u001b[37m\u001b[0m \u001b[1m1s\u001b[0m 3ms/step - acc: 0.8392 - auc: 0.9172 - loss: 0.3367 - val_acc: 0.6280 - val_auc: 0.0923 - val_loss: 0.7961\n",
      "Epoch 92/100\n",
      "\u001b[1m266/282\u001b[0m \u001b[32m━━━━━━━━━━━━━━━━━━\u001b[0m\u001b[37m━━\u001b[0m \u001b[1m0s\u001b[0m 2ms/step - acc: 0.8684 - auc: 0.9117 - loss: 0.3163\n",
      "Epoch 92: val_loss did not improve from 0.64265\n",
      "\u001b[1m282/282\u001b[0m \u001b[32m━━━━━━━━━━━━━━━━━━━━\u001b[0m\u001b[37m\u001b[0m \u001b[1m1s\u001b[0m 3ms/step - acc: 0.8674 - auc: 0.9115 - loss: 0.3173 - val_acc: 0.6280 - val_auc: 0.0923 - val_loss: 0.7980\n",
      "Epoch 93/100\n",
      "\u001b[1m267/282\u001b[0m \u001b[32m━━━━━━━━━━━━━━━━━━\u001b[0m\u001b[37m━━\u001b[0m \u001b[1m0s\u001b[0m 2ms/step - acc: 0.8511 - auc: 0.9235 - loss: 0.3322\n",
      "Epoch 93: val_loss did not improve from 0.64265\n",
      "\u001b[1m282/282\u001b[0m \u001b[32m━━━━━━━━━━━━━━━━━━━━\u001b[0m\u001b[37m\u001b[0m \u001b[1m1s\u001b[0m 3ms/step - acc: 0.8521 - auc: 0.9233 - loss: 0.3320 - val_acc: 0.6280 - val_auc: 0.0923 - val_loss: 0.7992\n",
      "Epoch 94/100\n",
      "\u001b[1m265/282\u001b[0m \u001b[32m━━━━━━━━━━━━━━━━━━\u001b[0m\u001b[37m━━\u001b[0m \u001b[1m0s\u001b[0m 2ms/step - acc: 0.8627 - auc: 0.9104 - loss: 0.3399\n",
      "Epoch 94: val_loss did not improve from 0.64265\n",
      "\u001b[1m282/282\u001b[0m \u001b[32m━━━━━━━━━━━━━━━━━━━━\u001b[0m\u001b[37m\u001b[0m \u001b[1m1s\u001b[0m 3ms/step - acc: 0.8632 - auc: 0.9100 - loss: 0.3397 - val_acc: 0.6280 - val_auc: 0.0923 - val_loss: 0.8012\n",
      "Epoch 95/100\n",
      "\u001b[1m266/282\u001b[0m \u001b[32m━━━━━━━━━━━━━━━━━━\u001b[0m\u001b[37m━━\u001b[0m \u001b[1m0s\u001b[0m 2ms/step - acc: 0.8714 - auc: 0.9194 - loss: 0.3245\n",
      "Epoch 95: val_loss did not improve from 0.64265\n",
      "\u001b[1m282/282\u001b[0m \u001b[32m━━━━━━━━━━━━━━━━━━━━\u001b[0m\u001b[37m\u001b[0m \u001b[1m1s\u001b[0m 3ms/step - acc: 0.8717 - auc: 0.9195 - loss: 0.3246 - val_acc: 0.6280 - val_auc: 0.0923 - val_loss: 0.8047\n",
      "Epoch 96/100\n",
      "\u001b[1m263/282\u001b[0m \u001b[32m━━━━━━━━━━━━━━━━━━\u001b[0m\u001b[37m━━\u001b[0m \u001b[1m0s\u001b[0m 2ms/step - acc: 0.8661 - auc: 0.9012 - loss: 0.3503\n",
      "Epoch 96: val_loss did not improve from 0.64265\n",
      "\u001b[1m282/282\u001b[0m \u001b[32m━━━━━━━━━━━━━━━━━━━━\u001b[0m\u001b[37m\u001b[0m \u001b[1m1s\u001b[0m 3ms/step - acc: 0.8675 - auc: 0.9021 - loss: 0.3486 - val_acc: 0.6280 - val_auc: 0.0923 - val_loss: 0.8052\n",
      "Epoch 97/100\n",
      "\u001b[1m264/282\u001b[0m \u001b[32m━━━━━━━━━━━━━━━━━━\u001b[0m\u001b[37m━━\u001b[0m \u001b[1m0s\u001b[0m 2ms/step - acc: 0.8788 - auc: 0.9129 - loss: 0.3370\n",
      "Epoch 97: val_loss did not improve from 0.64265\n",
      "\u001b[1m282/282\u001b[0m \u001b[32m━━━━━━━━━━━━━━━━━━━━\u001b[0m\u001b[37m\u001b[0m \u001b[1m1s\u001b[0m 3ms/step - acc: 0.8790 - auc: 0.9136 - loss: 0.3361 - val_acc: 0.6280 - val_auc: 0.0923 - val_loss: 0.8063\n",
      "Epoch 98/100\n",
      "\u001b[1m259/282\u001b[0m \u001b[32m━━━━━━━━━━━━━━━━━━\u001b[0m\u001b[37m━━\u001b[0m \u001b[1m0s\u001b[0m 2ms/step - acc: 0.8847 - auc: 0.9026 - loss: 0.3362\n",
      "Epoch 98: val_loss did not improve from 0.64265\n",
      "\u001b[1m282/282\u001b[0m \u001b[32m━━━━━━━━━━━━━━━━━━━━\u001b[0m\u001b[37m\u001b[0m \u001b[1m1s\u001b[0m 3ms/step - acc: 0.8850 - auc: 0.9039 - loss: 0.3356 - val_acc: 0.6280 - val_auc: 0.0923 - val_loss: 0.8086\n",
      "Epoch 99/100\n",
      "\u001b[1m280/282\u001b[0m \u001b[32m━━━━━━━━━━━━━━━━━━━\u001b[0m\u001b[37m━\u001b[0m \u001b[1m0s\u001b[0m 2ms/step - acc: 0.9027 - auc: 0.9176 - loss: 0.3038\n",
      "Epoch 99: val_loss did not improve from 0.64265\n",
      "\u001b[1m282/282\u001b[0m \u001b[32m━━━━━━━━━━━━━━━━━━━━\u001b[0m\u001b[37m\u001b[0m \u001b[1m1s\u001b[0m 3ms/step - acc: 0.9026 - auc: 0.9177 - loss: 0.3040 - val_acc: 0.6280 - val_auc: 0.0923 - val_loss: 0.8129\n",
      "Epoch 100/100\n",
      "\u001b[1m281/282\u001b[0m \u001b[32m━━━━━━━━━━━━━━━━━━━\u001b[0m\u001b[37m━\u001b[0m \u001b[1m0s\u001b[0m 2ms/step - acc: 0.8905 - auc: 0.9198 - loss: 0.3238\n",
      "Epoch 100: val_loss did not improve from 0.64265\n",
      "\u001b[1m282/282\u001b[0m \u001b[32m━━━━━━━━━━━━━━━━━━━━\u001b[0m\u001b[37m\u001b[0m \u001b[1m1s\u001b[0m 3ms/step - acc: 0.8905 - auc: 0.9198 - loss: 0.3237 - val_acc: 0.6280 - val_auc: 0.0923 - val_loss: 0.8133\n"
     ]
    },
    {
     "name": "stderr",
     "output_type": "stream",
     "text": [
      "WARNING:absl:Compiled the loaded model, but the compiled metrics have yet to be built. `model.compile_metrics` will be empty until you train or evaluate the model.\n"
     ]
    },
    {
     "name": "stdout",
     "output_type": "stream",
     "text": [
      "Fold 9 | VAL  | AUC=0.9077 | ACC=0.6280 | n=207\n",
      "Fold 9 | TEST | AUC=1.0000 | ACC=1.0000 | n=149\n",
      "\n",
      "--- Fold 10/10 ---\n",
      " train | ids:   36 | files:  874 | pos:  319 | neg:  555\n",
      "   val | ids:    4 | files:  145 | pos:   77 | neg:   68\n",
      "  test | ids:    4 | files:  181 | pos:    9 | neg:  172\n",
      "Epoch 1/100\n"
     ]
    },
    {
     "name": "stderr",
     "output_type": "stream",
     "text": [
      "/usr/local/lib/python3.12/dist-packages/keras/src/models/functional.py:241: UserWarning: The structure of `inputs` doesn't match the expected structure.\n",
      "Expected: tab_input\n",
      "Received: inputs=['Tensor(shape=(None, 4))']\n",
      "  warnings.warn(msg)\n"
     ]
    },
    {
     "name": "stdout",
     "output_type": "stream",
     "text": [
      "\u001b[1m274/292\u001b[0m \u001b[32m━━━━━━━━━━━━━━━━━━\u001b[0m\u001b[37m━━\u001b[0m \u001b[1m0s\u001b[0m 6ms/step - acc: 0.6733 - auc: 0.6013 - loss: 0.6686\n",
      "Epoch 1: val_loss improved from inf to 0.79471, saving model to best_tab_only_fold10.h5\n"
     ]
    },
    {
     "name": "stderr",
     "output_type": "stream",
     "text": [
      "WARNING:absl:You are saving your model as an HDF5 file via `model.save()` or `keras.saving.save_model(model)`. This file format is considered legacy. We recommend using instead the native Keras format, e.g. `model.save('my_model.keras')` or `keras.saving.save_model(model, 'my_model.keras')`. \n"
     ]
    },
    {
     "name": "stdout",
     "output_type": "stream",
     "text": [
      "\b\b\b\b\b\b\b\b\b\b\b\b\b\b\b\b\b\b\b\b\b\b\b\b\b\b\b\b\b\b\b\b\b\b\b\b\b\b\b\b\b\b\b\b\b\b\b\b\b\b\b\b\b\b\b\b\b\b\b\b\b\b\b\b\b\b\b\b\b\b\b\b\b\b\b\b\b\b\b\b\b\b\b\r",
      "\u001b[1m292/292\u001b[0m \u001b[32m━━━━━━━━━━━━━━━━━━━━\u001b[0m\u001b[37m\u001b[0m \u001b[1m5s\u001b[0m 11ms/step - acc: 0.6721 - auc: 0.6004 - loss: 0.6689 - val_acc: 0.2000 - val_auc: 0.2059 - val_loss: 0.7947\n",
      "Epoch 2/100\n",
      "\u001b[1m287/292\u001b[0m \u001b[32m━━━━━━━━━━━━━━━━━━━\u001b[0m\u001b[37m━\u001b[0m \u001b[1m0s\u001b[0m 2ms/step - acc: 0.6896 - auc: 0.6194 - loss: 0.6502\n",
      "Epoch 2: val_loss did not improve from 0.79471\n",
      "\u001b[1m292/292\u001b[0m \u001b[32m━━━━━━━━━━━━━━━━━━━━\u001b[0m\u001b[37m\u001b[0m \u001b[1m1s\u001b[0m 2ms/step - acc: 0.6890 - auc: 0.6192 - loss: 0.6503 - val_acc: 0.4690 - val_auc: 0.4118 - val_loss: 0.7955\n",
      "Epoch 3/100\n",
      "\u001b[1m287/292\u001b[0m \u001b[32m━━━━━━━━━━━━━━━━━━━\u001b[0m\u001b[37m━\u001b[0m \u001b[1m0s\u001b[0m 2ms/step - acc: 0.6779 - auc: 0.6606 - loss: 0.6357\n",
      "Epoch 3: val_loss did not improve from 0.79471\n",
      "\u001b[1m292/292\u001b[0m \u001b[32m━━━━━━━━━━━━━━━━━━━━\u001b[0m\u001b[37m\u001b[0m \u001b[1m1s\u001b[0m 2ms/step - acc: 0.6774 - auc: 0.6603 - loss: 0.6359 - val_acc: 0.4690 - val_auc: 0.4118 - val_loss: 0.7990\n",
      "Epoch 4/100\n",
      "\u001b[1m287/292\u001b[0m \u001b[32m━━━━━━━━━━━━━━━━━━━\u001b[0m\u001b[37m━\u001b[0m \u001b[1m0s\u001b[0m 2ms/step - acc: 0.6405 - auc: 0.5746 - loss: 0.6623\n",
      "Epoch 4: val_loss did not improve from 0.79471\n",
      "\u001b[1m292/292\u001b[0m \u001b[32m━━━━━━━━━━━━━━━━━━━━\u001b[0m\u001b[37m\u001b[0m \u001b[1m1s\u001b[0m 2ms/step - acc: 0.6408 - auc: 0.5756 - loss: 0.6620 - val_acc: 0.4690 - val_auc: 0.4118 - val_loss: 0.8004\n",
      "Epoch 5/100\n",
      "\u001b[1m282/292\u001b[0m \u001b[32m━━━━━━━━━━━━━━━━━━━\u001b[0m\u001b[37m━\u001b[0m \u001b[1m0s\u001b[0m 2ms/step - acc: 0.6442 - auc: 0.5947 - loss: 0.6537\n",
      "Epoch 5: val_loss did not improve from 0.79471\n",
      "\u001b[1m292/292\u001b[0m \u001b[32m━━━━━━━━━━━━━━━━━━━━\u001b[0m\u001b[37m\u001b[0m \u001b[1m1s\u001b[0m 2ms/step - acc: 0.6453 - auc: 0.5962 - loss: 0.6533 - val_acc: 0.4690 - val_auc: 0.4118 - val_loss: 0.8014\n",
      "Epoch 6/100\n",
      "\u001b[1m290/292\u001b[0m \u001b[32m━━━━━━━━━━━━━━━━━━━\u001b[0m\u001b[37m━\u001b[0m \u001b[1m0s\u001b[0m 2ms/step - acc: 0.6997 - auc: 0.6057 - loss: 0.6608\n",
      "Epoch 6: val_loss did not improve from 0.79471\n",
      "\u001b[1m292/292\u001b[0m \u001b[32m━━━━━━━━━━━━━━━━━━━━\u001b[0m\u001b[37m\u001b[0m \u001b[1m1s\u001b[0m 2ms/step - acc: 0.6996 - auc: 0.6059 - loss: 0.6606 - val_acc: 0.4690 - val_auc: 0.4118 - val_loss: 0.8027\n",
      "Epoch 7/100\n",
      "\u001b[1m280/292\u001b[0m \u001b[32m━━━━━━━━━━━━━━━━━━━\u001b[0m\u001b[37m━\u001b[0m \u001b[1m0s\u001b[0m 2ms/step - acc: 0.6621 - auc: 0.6716 - loss: 0.6209\n",
      "Epoch 7: val_loss did not improve from 0.79471\n",
      "\u001b[1m292/292\u001b[0m \u001b[32m━━━━━━━━━━━━━━━━━━━━\u001b[0m\u001b[37m\u001b[0m \u001b[1m1s\u001b[0m 3ms/step - acc: 0.6613 - auc: 0.6694 - loss: 0.6221 - val_acc: 0.4690 - val_auc: 0.4118 - val_loss: 0.8035\n",
      "Epoch 8/100\n",
      "\u001b[1m283/292\u001b[0m \u001b[32m━━━━━━━━━━━━━━━━━━━\u001b[0m\u001b[37m━\u001b[0m \u001b[1m0s\u001b[0m 2ms/step - acc: 0.6864 - auc: 0.6437 - loss: 0.6535\n",
      "Epoch 8: val_loss did not improve from 0.79471\n",
      "\u001b[1m292/292\u001b[0m \u001b[32m━━━━━━━━━━━━━━━━━━━━\u001b[0m\u001b[37m\u001b[0m \u001b[1m1s\u001b[0m 3ms/step - acc: 0.6862 - auc: 0.6441 - loss: 0.6530 - val_acc: 0.4690 - val_auc: 0.4118 - val_loss: 0.8054\n",
      "Epoch 9/100\n",
      "\u001b[1m271/292\u001b[0m \u001b[32m━━━━━━━━━━━━━━━━━━\u001b[0m\u001b[37m━━\u001b[0m \u001b[1m0s\u001b[0m 2ms/step - acc: 0.7079 - auc: 0.6464 - loss: 0.6241\n",
      "Epoch 9: val_loss did not improve from 0.79471\n",
      "\u001b[1m292/292\u001b[0m \u001b[32m━━━━━━━━━━━━━━━━━━━━\u001b[0m\u001b[37m\u001b[0m \u001b[1m1s\u001b[0m 2ms/step - acc: 0.7064 - auc: 0.6478 - loss: 0.6241 - val_acc: 0.4690 - val_auc: 0.4118 - val_loss: 0.8095\n",
      "Epoch 10/100\n",
      "\u001b[1m267/292\u001b[0m \u001b[32m━━━━━━━━━━━━━━━━━━\u001b[0m\u001b[37m━━\u001b[0m \u001b[1m0s\u001b[0m 2ms/step - acc: 0.6773 - auc: 0.6714 - loss: 0.6373\n",
      "Epoch 10: val_loss did not improve from 0.79471\n",
      "\u001b[1m292/292\u001b[0m \u001b[32m━━━━━━━━━━━━━━━━━━━━\u001b[0m\u001b[37m\u001b[0m \u001b[1m1s\u001b[0m 2ms/step - acc: 0.6779 - auc: 0.6710 - loss: 0.6368 - val_acc: 0.4690 - val_auc: 0.4118 - val_loss: 0.8127\n",
      "Epoch 11/100\n",
      "\u001b[1m269/292\u001b[0m \u001b[32m━━━━━━━━━━━━━━━━━━\u001b[0m\u001b[37m━━\u001b[0m \u001b[1m0s\u001b[0m 2ms/step - acc: 0.6691 - auc: 0.6375 - loss: 0.6459\n",
      "Epoch 11: val_loss did not improve from 0.79471\n",
      "\u001b[1m292/292\u001b[0m \u001b[32m━━━━━━━━━━━━━━━━━━━━\u001b[0m\u001b[37m\u001b[0m \u001b[1m1s\u001b[0m 2ms/step - acc: 0.6697 - auc: 0.6398 - loss: 0.6446 - val_acc: 0.4690 - val_auc: 0.4118 - val_loss: 0.8155\n",
      "Epoch 12/100\n",
      "\u001b[1m267/292\u001b[0m \u001b[32m━━━━━━━━━━━━━━━━━━\u001b[0m\u001b[37m━━\u001b[0m \u001b[1m0s\u001b[0m 2ms/step - acc: 0.6518 - auc: 0.6498 - loss: 0.6527\n",
      "Epoch 12: val_loss did not improve from 0.79471\n",
      "\u001b[1m292/292\u001b[0m \u001b[32m━━━━━━━━━━━━━━━━━━━━\u001b[0m\u001b[37m\u001b[0m \u001b[1m1s\u001b[0m 2ms/step - acc: 0.6541 - auc: 0.6493 - loss: 0.6517 - val_acc: 0.4690 - val_auc: 0.4118 - val_loss: 0.8178\n",
      "Epoch 13/100\n",
      "\u001b[1m265/292\u001b[0m \u001b[32m━━━━━━━━━━━━━━━━━━\u001b[0m\u001b[37m━━\u001b[0m \u001b[1m0s\u001b[0m 2ms/step - acc: 0.6785 - auc: 0.6479 - loss: 0.6339\n",
      "Epoch 13: val_loss did not improve from 0.79471\n",
      "\u001b[1m292/292\u001b[0m \u001b[32m━━━━━━━━━━━━━━━━━━━━\u001b[0m\u001b[37m\u001b[0m \u001b[1m1s\u001b[0m 2ms/step - acc: 0.6778 - auc: 0.6468 - loss: 0.6348 - val_acc: 0.4690 - val_auc: 0.4118 - val_loss: 0.8197\n",
      "Epoch 14/100\n",
      "\u001b[1m292/292\u001b[0m \u001b[32m━━━━━━━━━━━━━━━━━━━━\u001b[0m\u001b[37m\u001b[0m \u001b[1m0s\u001b[0m 2ms/step - acc: 0.6728 - auc: 0.6775 - loss: 0.6382\n",
      "Epoch 14: val_loss did not improve from 0.79471\n",
      "\u001b[1m292/292\u001b[0m \u001b[32m━━━━━━━━━━━━━━━━━━━━\u001b[0m\u001b[37m\u001b[0m \u001b[1m1s\u001b[0m 2ms/step - acc: 0.6728 - auc: 0.6774 - loss: 0.6382 - val_acc: 0.4690 - val_auc: 0.4118 - val_loss: 0.8217\n",
      "Epoch 15/100\n",
      "\u001b[1m290/292\u001b[0m \u001b[32m━━━━━━━━━━━━━━━━━━━\u001b[0m\u001b[37m━\u001b[0m \u001b[1m0s\u001b[0m 2ms/step - acc: 0.6959 - auc: 0.6723 - loss: 0.6121\n",
      "Epoch 15: val_loss did not improve from 0.79471\n",
      "\u001b[1m292/292\u001b[0m \u001b[32m━━━━━━━━━━━━━━━━━━━━\u001b[0m\u001b[37m\u001b[0m \u001b[1m1s\u001b[0m 2ms/step - acc: 0.6956 - auc: 0.6723 - loss: 0.6122 - val_acc: 0.4690 - val_auc: 0.4118 - val_loss: 0.8246\n",
      "Epoch 16/100\n",
      "\u001b[1m292/292\u001b[0m \u001b[32m━━━━━━━━━━━━━━━━━━━━\u001b[0m\u001b[37m\u001b[0m \u001b[1m0s\u001b[0m 2ms/step - acc: 0.7329 - auc: 0.6394 - loss: 0.6344\n",
      "Epoch 16: val_loss did not improve from 0.79471\n",
      "\u001b[1m292/292\u001b[0m \u001b[32m━━━━━━━━━━━━━━━━━━━━\u001b[0m\u001b[37m\u001b[0m \u001b[1m1s\u001b[0m 2ms/step - acc: 0.7328 - auc: 0.6395 - loss: 0.6344 - val_acc: 0.4690 - val_auc: 0.4118 - val_loss: 0.8242\n",
      "Epoch 17/100\n",
      "\u001b[1m290/292\u001b[0m \u001b[32m━━━━━━━━━━━━━━━━━━━\u001b[0m\u001b[37m━\u001b[0m \u001b[1m0s\u001b[0m 2ms/step - acc: 0.6782 - auc: 0.6636 - loss: 0.6354\n",
      "Epoch 17: val_loss did not improve from 0.79471\n",
      "\u001b[1m292/292\u001b[0m \u001b[32m━━━━━━━━━━━━━━━━━━━━\u001b[0m\u001b[37m\u001b[0m \u001b[1m1s\u001b[0m 2ms/step - acc: 0.6782 - auc: 0.6637 - loss: 0.6353 - val_acc: 0.4690 - val_auc: 0.4118 - val_loss: 0.8258\n",
      "Epoch 18/100\n",
      "\u001b[1m292/292\u001b[0m \u001b[32m━━━━━━━━━━━━━━━━━━━━\u001b[0m\u001b[37m\u001b[0m \u001b[1m0s\u001b[0m 2ms/step - acc: 0.6874 - auc: 0.6751 - loss: 0.6314\n",
      "Epoch 18: val_loss did not improve from 0.79471\n",
      "\u001b[1m292/292\u001b[0m \u001b[32m━━━━━━━━━━━━━━━━━━━━\u001b[0m\u001b[37m\u001b[0m \u001b[1m1s\u001b[0m 2ms/step - acc: 0.6874 - auc: 0.6751 - loss: 0.6314 - val_acc: 0.4690 - val_auc: 0.4118 - val_loss: 0.8285\n",
      "Epoch 19/100\n",
      "\u001b[1m291/292\u001b[0m \u001b[32m━━━━━━━━━━━━━━━━━━━\u001b[0m\u001b[37m━\u001b[0m \u001b[1m0s\u001b[0m 2ms/step - acc: 0.6950 - auc: 0.6750 - loss: 0.6219\n",
      "Epoch 19: val_loss did not improve from 0.79471\n",
      "\u001b[1m292/292\u001b[0m \u001b[32m━━━━━━━━━━━━━━━━━━━━\u001b[0m\u001b[37m\u001b[0m \u001b[1m1s\u001b[0m 2ms/step - acc: 0.6950 - auc: 0.6749 - loss: 0.6220 - val_acc: 0.4690 - val_auc: 0.4118 - val_loss: 0.8295\n",
      "Epoch 20/100\n",
      "\u001b[1m291/292\u001b[0m \u001b[32m━━━━━━━━━━━━━━━━━━━\u001b[0m\u001b[37m━\u001b[0m \u001b[1m0s\u001b[0m 2ms/step - acc: 0.6837 - auc: 0.6614 - loss: 0.6372\n",
      "Epoch 20: val_loss did not improve from 0.79471\n",
      "\u001b[1m292/292\u001b[0m \u001b[32m━━━━━━━━━━━━━━━━━━━━\u001b[0m\u001b[37m\u001b[0m \u001b[1m1s\u001b[0m 2ms/step - acc: 0.6838 - auc: 0.6614 - loss: 0.6372 - val_acc: 0.4690 - val_auc: 0.4118 - val_loss: 0.8314\n",
      "Epoch 21/100\n",
      "\u001b[1m292/292\u001b[0m \u001b[32m━━━━━━━━━━━━━━━━━━━━\u001b[0m\u001b[37m\u001b[0m \u001b[1m0s\u001b[0m 2ms/step - acc: 0.6986 - auc: 0.6977 - loss: 0.6225\n",
      "Epoch 21: val_loss did not improve from 0.79471\n",
      "\u001b[1m292/292\u001b[0m \u001b[32m━━━━━━━━━━━━━━━━━━━━\u001b[0m\u001b[37m\u001b[0m \u001b[1m1s\u001b[0m 2ms/step - acc: 0.6986 - auc: 0.6977 - loss: 0.6225 - val_acc: 0.4690 - val_auc: 0.4118 - val_loss: 0.8341\n",
      "Epoch 22/100\n",
      "\u001b[1m288/292\u001b[0m \u001b[32m━━━━━━━━━━━━━━━━━━━\u001b[0m\u001b[37m━\u001b[0m \u001b[1m0s\u001b[0m 2ms/step - acc: 0.6811 - auc: 0.6581 - loss: 0.6374\n",
      "Epoch 22: val_loss did not improve from 0.79471\n",
      "\u001b[1m292/292\u001b[0m \u001b[32m━━━━━━━━━━━━━━━━━━━━\u001b[0m\u001b[37m\u001b[0m \u001b[1m1s\u001b[0m 2ms/step - acc: 0.6812 - auc: 0.6582 - loss: 0.6373 - val_acc: 0.4690 - val_auc: 0.4118 - val_loss: 0.8338\n",
      "Epoch 23/100\n",
      "\u001b[1m284/292\u001b[0m \u001b[32m━━━━━━━━━━━━━━━━━━━\u001b[0m\u001b[37m━\u001b[0m \u001b[1m0s\u001b[0m 2ms/step - acc: 0.6846 - auc: 0.6501 - loss: 0.6279\n",
      "Epoch 23: val_loss did not improve from 0.79471\n",
      "\u001b[1m292/292\u001b[0m \u001b[32m━━━━━━━━━━━━━━━━━━━━\u001b[0m\u001b[37m\u001b[0m \u001b[1m1s\u001b[0m 2ms/step - acc: 0.6848 - auc: 0.6506 - loss: 0.6278 - val_acc: 0.4690 - val_auc: 0.4118 - val_loss: 0.8357\n",
      "Epoch 24/100\n",
      "\u001b[1m275/292\u001b[0m \u001b[32m━━━━━━━━━━━━━━━━━━\u001b[0m\u001b[37m━━\u001b[0m \u001b[1m0s\u001b[0m 2ms/step - acc: 0.6663 - auc: 0.6484 - loss: 0.6420\n",
      "Epoch 24: val_loss did not improve from 0.79471\n",
      "\u001b[1m292/292\u001b[0m \u001b[32m━━━━━━━━━━━━━━━━━━━━\u001b[0m\u001b[37m\u001b[0m \u001b[1m1s\u001b[0m 3ms/step - acc: 0.6671 - auc: 0.6495 - loss: 0.6410 - val_acc: 0.4690 - val_auc: 0.4118 - val_loss: 0.8369\n",
      "Epoch 25/100\n",
      "\u001b[1m292/292\u001b[0m \u001b[32m━━━━━━━━━━━━━━━━━━━━\u001b[0m\u001b[37m\u001b[0m \u001b[1m0s\u001b[0m 2ms/step - acc: 0.7193 - auc: 0.6949 - loss: 0.6184\n",
      "Epoch 25: val_loss did not improve from 0.79471\n",
      "\u001b[1m292/292\u001b[0m \u001b[32m━━━━━━━━━━━━━━━━━━━━\u001b[0m\u001b[37m\u001b[0m \u001b[1m1s\u001b[0m 2ms/step - acc: 0.7193 - auc: 0.6949 - loss: 0.6183 - val_acc: 0.4690 - val_auc: 0.4118 - val_loss: 0.8399\n",
      "Epoch 26/100\n",
      "\u001b[1m270/292\u001b[0m \u001b[32m━━━━━━━━━━━━━━━━━━\u001b[0m\u001b[37m━━\u001b[0m \u001b[1m0s\u001b[0m 2ms/step - acc: 0.7000 - auc: 0.6325 - loss: 0.6207\n",
      "Epoch 26: val_loss did not improve from 0.79471\n",
      "\u001b[1m292/292\u001b[0m \u001b[32m━━━━━━━━━━━━━━━━━━━━\u001b[0m\u001b[37m\u001b[0m \u001b[1m1s\u001b[0m 2ms/step - acc: 0.6994 - auc: 0.6362 - loss: 0.6204 - val_acc: 0.4690 - val_auc: 0.4118 - val_loss: 0.8416\n",
      "Epoch 27/100\n",
      "\u001b[1m268/292\u001b[0m \u001b[32m━━━━━━━━━━━━━━━━━━\u001b[0m\u001b[37m━━\u001b[0m \u001b[1m0s\u001b[0m 2ms/step - acc: 0.7012 - auc: 0.6524 - loss: 0.6218\n",
      "Epoch 27: val_loss did not improve from 0.79471\n",
      "\u001b[1m292/292\u001b[0m \u001b[32m━━━━━━━━━━━━━━━━━━━━\u001b[0m\u001b[37m\u001b[0m \u001b[1m1s\u001b[0m 2ms/step - acc: 0.7016 - auc: 0.6556 - loss: 0.6208 - val_acc: 0.4690 - val_auc: 0.4118 - val_loss: 0.8442\n",
      "Epoch 28/100\n",
      "\u001b[1m270/292\u001b[0m \u001b[32m━━━━━━━━━━━━━━━━━━\u001b[0m\u001b[37m━━\u001b[0m \u001b[1m0s\u001b[0m 2ms/step - acc: 0.7032 - auc: 0.6900 - loss: 0.6053\n",
      "Epoch 28: val_loss did not improve from 0.79471\n",
      "\u001b[1m292/292\u001b[0m \u001b[32m━━━━━━━━━━━━━━━━━━━━\u001b[0m\u001b[37m\u001b[0m \u001b[1m1s\u001b[0m 2ms/step - acc: 0.7026 - auc: 0.6883 - loss: 0.6066 - val_acc: 0.4690 - val_auc: 0.4118 - val_loss: 0.8462\n",
      "Epoch 29/100\n",
      "\u001b[1m266/292\u001b[0m \u001b[32m━━━━━━━━━━━━━━━━━━\u001b[0m\u001b[37m━━\u001b[0m \u001b[1m0s\u001b[0m 2ms/step - acc: 0.6623 - auc: 0.6101 - loss: 0.6422\n",
      "Epoch 29: val_loss did not improve from 0.79471\n",
      "\u001b[1m292/292\u001b[0m \u001b[32m━━━━━━━━━━━━━━━━━━━━\u001b[0m\u001b[37m\u001b[0m \u001b[1m1s\u001b[0m 2ms/step - acc: 0.6656 - auc: 0.6144 - loss: 0.6407 - val_acc: 0.4690 - val_auc: 0.2059 - val_loss: 0.8470\n",
      "Epoch 30/100\n",
      "\u001b[1m270/292\u001b[0m \u001b[32m━━━━━━━━━━━━━━━━━━\u001b[0m\u001b[37m━━\u001b[0m \u001b[1m0s\u001b[0m 2ms/step - acc: 0.6940 - auc: 0.6671 - loss: 0.6180\n",
      "Epoch 30: val_loss did not improve from 0.79471\n",
      "\u001b[1m292/292\u001b[0m \u001b[32m━━━━━━━━━━━━━━━━━━━━\u001b[0m\u001b[37m\u001b[0m \u001b[1m1s\u001b[0m 2ms/step - acc: 0.6936 - auc: 0.6663 - loss: 0.6188 - val_acc: 0.4690 - val_auc: 0.2059 - val_loss: 0.8464\n",
      "Epoch 31/100\n",
      "\u001b[1m268/292\u001b[0m \u001b[32m━━━━━━━━━━━━━━━━━━\u001b[0m\u001b[37m━━\u001b[0m \u001b[1m0s\u001b[0m 2ms/step - acc: 0.6862 - auc: 0.6786 - loss: 0.6195\n",
      "Epoch 31: val_loss did not improve from 0.79471\n",
      "\u001b[1m292/292\u001b[0m \u001b[32m━━━━━━━━━━━━━━━━━━━━\u001b[0m\u001b[37m\u001b[0m \u001b[1m1s\u001b[0m 2ms/step - acc: 0.6865 - auc: 0.6772 - loss: 0.6196 - val_acc: 0.4690 - val_auc: 0.4118 - val_loss: 0.8492\n",
      "Epoch 32/100\n",
      "\u001b[1m291/292\u001b[0m \u001b[32m━━━━━━━━━━━━━━━━━━━\u001b[0m\u001b[37m━\u001b[0m \u001b[1m0s\u001b[0m 2ms/step - acc: 0.6802 - auc: 0.6562 - loss: 0.6168\n",
      "Epoch 32: val_loss did not improve from 0.79471\n",
      "\u001b[1m292/292\u001b[0m \u001b[32m━━━━━━━━━━━━━━━━━━━━\u001b[0m\u001b[37m\u001b[0m \u001b[1m1s\u001b[0m 2ms/step - acc: 0.6802 - auc: 0.6563 - loss: 0.6168 - val_acc: 0.4690 - val_auc: 0.4118 - val_loss: 0.8488\n",
      "Epoch 33/100\n",
      "\u001b[1m267/292\u001b[0m \u001b[32m━━━━━━━━━━━━━━━━━━\u001b[0m\u001b[37m━━\u001b[0m \u001b[1m0s\u001b[0m 2ms/step - acc: 0.7028 - auc: 0.6743 - loss: 0.6127\n",
      "Epoch 33: val_loss did not improve from 0.79471\n",
      "\u001b[1m292/292\u001b[0m \u001b[32m━━━━━━━━━━━━━━━━━━━━\u001b[0m\u001b[37m\u001b[0m \u001b[1m1s\u001b[0m 2ms/step - acc: 0.7022 - auc: 0.6741 - loss: 0.6133 - val_acc: 0.4690 - val_auc: 0.4118 - val_loss: 0.8502\n",
      "Epoch 34/100\n",
      "\u001b[1m290/292\u001b[0m \u001b[32m━━━━━━━━━━━━━━━━━━━\u001b[0m\u001b[37m━\u001b[0m \u001b[1m0s\u001b[0m 2ms/step - acc: 0.6950 - auc: 0.6682 - loss: 0.6336\n",
      "Epoch 34: val_loss did not improve from 0.79471\n",
      "\u001b[1m292/292\u001b[0m \u001b[32m━━━━━━━━━━━━━━━━━━━━\u001b[0m\u001b[37m\u001b[0m \u001b[1m1s\u001b[0m 2ms/step - acc: 0.6951 - auc: 0.6682 - loss: 0.6334 - val_acc: 0.4690 - val_auc: 0.2059 - val_loss: 0.8522\n",
      "Epoch 35/100\n",
      "\u001b[1m266/292\u001b[0m \u001b[32m━━━━━━━━━━━━━━━━━━\u001b[0m\u001b[37m━━\u001b[0m \u001b[1m0s\u001b[0m 2ms/step - acc: 0.6949 - auc: 0.6864 - loss: 0.6090\n",
      "Epoch 35: val_loss did not improve from 0.79471\n",
      "\u001b[1m292/292\u001b[0m \u001b[32m━━━━━━━━━━━━━━━━━━━━\u001b[0m\u001b[37m\u001b[0m \u001b[1m1s\u001b[0m 2ms/step - acc: 0.6943 - auc: 0.6844 - loss: 0.6102 - val_acc: 0.4690 - val_auc: 0.2059 - val_loss: 0.8531\n",
      "Epoch 36/100\n",
      "\u001b[1m292/292\u001b[0m \u001b[32m━━━━━━━━━━━━━━━━━━━━\u001b[0m\u001b[37m\u001b[0m \u001b[1m0s\u001b[0m 2ms/step - acc: 0.7496 - auc: 0.7273 - loss: 0.5827\n",
      "Epoch 36: val_loss did not improve from 0.79471\n",
      "\u001b[1m292/292\u001b[0m \u001b[32m━━━━━━━━━━━━━━━━━━━━\u001b[0m\u001b[37m\u001b[0m \u001b[1m1s\u001b[0m 2ms/step - acc: 0.7495 - auc: 0.7272 - loss: 0.5828 - val_acc: 0.4690 - val_auc: 0.0000e+00 - val_loss: 0.8570\n",
      "Epoch 37/100\n",
      "\u001b[1m270/292\u001b[0m \u001b[32m━━━━━━━━━━━━━━━━━━\u001b[0m\u001b[37m━━\u001b[0m \u001b[1m0s\u001b[0m 2ms/step - acc: 0.6510 - auc: 0.6284 - loss: 0.6465\n",
      "Epoch 37: val_loss did not improve from 0.79471\n",
      "\u001b[1m292/292\u001b[0m \u001b[32m━━━━━━━━━━━━━━━━━━━━\u001b[0m\u001b[37m\u001b[0m \u001b[1m1s\u001b[0m 2ms/step - acc: 0.6525 - auc: 0.6298 - loss: 0.6453 - val_acc: 0.4690 - val_auc: 0.2059 - val_loss: 0.8543\n",
      "Epoch 38/100\n",
      "\u001b[1m287/292\u001b[0m \u001b[32m━━━━━━━━━━━━━━━━━━━\u001b[0m\u001b[37m━\u001b[0m \u001b[1m0s\u001b[0m 2ms/step - acc: 0.7235 - auc: 0.6955 - loss: 0.6086\n",
      "Epoch 38: val_loss did not improve from 0.79471\n",
      "\u001b[1m292/292\u001b[0m \u001b[32m━━━━━━━━━━━━━━━━━━━━\u001b[0m\u001b[37m\u001b[0m \u001b[1m1s\u001b[0m 2ms/step - acc: 0.7230 - auc: 0.6948 - loss: 0.6088 - val_acc: 0.4690 - val_auc: 0.0000e+00 - val_loss: 0.8581\n",
      "Epoch 39/100\n",
      "\u001b[1m275/292\u001b[0m \u001b[32m━━━━━━━━━━━━━━━━━━\u001b[0m\u001b[37m━━\u001b[0m \u001b[1m0s\u001b[0m 2ms/step - acc: 0.7070 - auc: 0.6336 - loss: 0.6139\n",
      "Epoch 39: val_loss did not improve from 0.79471\n",
      "\u001b[1m292/292\u001b[0m \u001b[32m━━━━━━━━━━━━━━━━━━━━\u001b[0m\u001b[37m\u001b[0m \u001b[1m1s\u001b[0m 3ms/step - acc: 0.7068 - auc: 0.6352 - loss: 0.6145 - val_acc: 0.4690 - val_auc: 0.0000e+00 - val_loss: 0.8599\n",
      "Epoch 40/100\n",
      "\u001b[1m282/292\u001b[0m \u001b[32m━━━━━━━━━━━━━━━━━━━\u001b[0m\u001b[37m━\u001b[0m \u001b[1m0s\u001b[0m 2ms/step - acc: 0.7003 - auc: 0.7019 - loss: 0.6081\n",
      "Epoch 40: val_loss did not improve from 0.79471\n",
      "\u001b[1m292/292\u001b[0m \u001b[32m━━━━━━━━━━━━━━━━━━━━\u001b[0m\u001b[37m\u001b[0m \u001b[1m1s\u001b[0m 2ms/step - acc: 0.7003 - auc: 0.7010 - loss: 0.6083 - val_acc: 0.4690 - val_auc: 0.0000e+00 - val_loss: 0.8611\n",
      "Epoch 41/100\n",
      "\u001b[1m279/292\u001b[0m \u001b[32m━━━━━━━━━━━━━━━━━━━\u001b[0m\u001b[37m━\u001b[0m \u001b[1m0s\u001b[0m 2ms/step - acc: 0.7119 - auc: 0.6574 - loss: 0.6190\n",
      "Epoch 41: val_loss did not improve from 0.79471\n",
      "\u001b[1m292/292\u001b[0m \u001b[32m━━━━━━━━━━━━━━━━━━━━\u001b[0m\u001b[37m\u001b[0m \u001b[1m1s\u001b[0m 2ms/step - acc: 0.7116 - auc: 0.6578 - loss: 0.6190 - val_acc: 0.4690 - val_auc: 0.0000e+00 - val_loss: 0.8643\n",
      "Epoch 42/100\n",
      "\u001b[1m289/292\u001b[0m \u001b[32m━━━━━━━━━━━━━━━━━━━\u001b[0m\u001b[37m━\u001b[0m \u001b[1m0s\u001b[0m 2ms/step - acc: 0.7010 - auc: 0.6325 - loss: 0.6307\n",
      "Epoch 42: val_loss did not improve from 0.79471\n",
      "\u001b[1m292/292\u001b[0m \u001b[32m━━━━━━━━━━━━━━━━━━━━\u001b[0m\u001b[37m\u001b[0m \u001b[1m1s\u001b[0m 2ms/step - acc: 0.7012 - auc: 0.6330 - loss: 0.6305 - val_acc: 0.4690 - val_auc: 0.0000e+00 - val_loss: 0.8659\n",
      "Epoch 43/100\n",
      "\u001b[1m290/292\u001b[0m \u001b[32m━━━━━━━━━━━━━━━━━━━\u001b[0m\u001b[37m━\u001b[0m \u001b[1m0s\u001b[0m 2ms/step - acc: 0.7204 - auc: 0.7112 - loss: 0.5874\n",
      "Epoch 43: val_loss did not improve from 0.79471\n",
      "\u001b[1m292/292\u001b[0m \u001b[32m━━━━━━━━━━━━━━━━━━━━\u001b[0m\u001b[37m\u001b[0m \u001b[1m1s\u001b[0m 2ms/step - acc: 0.7201 - auc: 0.7109 - loss: 0.5876 - val_acc: 0.4690 - val_auc: 0.0000e+00 - val_loss: 0.8671\n",
      "Epoch 44/100\n",
      "\u001b[1m267/292\u001b[0m \u001b[32m━━━━━━━━━━━━━━━━━━\u001b[0m\u001b[37m━━\u001b[0m \u001b[1m0s\u001b[0m 2ms/step - acc: 0.7276 - auc: 0.7042 - loss: 0.5987\n",
      "Epoch 44: val_loss did not improve from 0.79471\n",
      "\u001b[1m292/292\u001b[0m \u001b[32m━━━━━━━━━━━━━━━━━━━━\u001b[0m\u001b[37m\u001b[0m \u001b[1m1s\u001b[0m 2ms/step - acc: 0.7251 - auc: 0.7033 - loss: 0.5997 - val_acc: 0.4690 - val_auc: 0.0000e+00 - val_loss: 0.8701\n",
      "Epoch 45/100\n",
      "\u001b[1m267/292\u001b[0m \u001b[32m━━━━━━━━━━━━━━━━━━\u001b[0m\u001b[37m━━\u001b[0m \u001b[1m0s\u001b[0m 2ms/step - acc: 0.6905 - auc: 0.6860 - loss: 0.6287\n",
      "Epoch 45: val_loss did not improve from 0.79471\n",
      "\u001b[1m292/292\u001b[0m \u001b[32m━━━━━━━━━━━━━━━━━━━━\u001b[0m\u001b[37m\u001b[0m \u001b[1m1s\u001b[0m 2ms/step - acc: 0.6907 - auc: 0.6861 - loss: 0.6274 - val_acc: 0.4690 - val_auc: 0.0000e+00 - val_loss: 0.8716\n",
      "Epoch 46/100\n",
      "\u001b[1m267/292\u001b[0m \u001b[32m━━━━━━━━━━━━━━━━━━\u001b[0m\u001b[37m━━\u001b[0m \u001b[1m0s\u001b[0m 2ms/step - acc: 0.7261 - auc: 0.7249 - loss: 0.5799\n",
      "Epoch 46: val_loss did not improve from 0.79471\n",
      "\u001b[1m292/292\u001b[0m \u001b[32m━━━━━━━━━━━━━━━━━━━━\u001b[0m\u001b[37m\u001b[0m \u001b[1m1s\u001b[0m 2ms/step - acc: 0.7243 - auc: 0.7214 - loss: 0.5821 - val_acc: 0.4690 - val_auc: 0.0000e+00 - val_loss: 0.8767\n",
      "Epoch 47/100\n",
      "\u001b[1m289/292\u001b[0m \u001b[32m━━━━━━━━━━━━━━━━━━━\u001b[0m\u001b[37m━\u001b[0m \u001b[1m0s\u001b[0m 2ms/step - acc: 0.6998 - auc: 0.6789 - loss: 0.6211\n",
      "Epoch 47: val_loss did not improve from 0.79471\n",
      "\u001b[1m292/292\u001b[0m \u001b[32m━━━━━━━━━━━━━━━━━━━━\u001b[0m\u001b[37m\u001b[0m \u001b[1m1s\u001b[0m 2ms/step - acc: 0.6999 - auc: 0.6790 - loss: 0.6210 - val_acc: 0.4690 - val_auc: 0.0000e+00 - val_loss: 0.8763\n",
      "Epoch 48/100\n",
      "\u001b[1m284/292\u001b[0m \u001b[32m━━━━━━━━━━━━━━━━━━━\u001b[0m\u001b[37m━\u001b[0m \u001b[1m0s\u001b[0m 2ms/step - acc: 0.6807 - auc: 0.7002 - loss: 0.6053\n",
      "Epoch 48: val_loss did not improve from 0.79471\n",
      "\u001b[1m292/292\u001b[0m \u001b[32m━━━━━━━━━━━━━━━━━━━━\u001b[0m\u001b[37m\u001b[0m \u001b[1m1s\u001b[0m 2ms/step - acc: 0.6812 - auc: 0.6998 - loss: 0.6053 - val_acc: 0.4690 - val_auc: 0.0000e+00 - val_loss: 0.8799\n",
      "Epoch 49/100\n",
      "\u001b[1m290/292\u001b[0m \u001b[32m━━━━━━━━━━━━━━━━━━━\u001b[0m\u001b[37m━\u001b[0m \u001b[1m0s\u001b[0m 2ms/step - acc: 0.6859 - auc: 0.6519 - loss: 0.6253\n",
      "Epoch 49: val_loss did not improve from 0.79471\n",
      "\u001b[1m292/292\u001b[0m \u001b[32m━━━━━━━━━━━━━━━━━━━━\u001b[0m\u001b[37m\u001b[0m \u001b[1m1s\u001b[0m 2ms/step - acc: 0.6861 - auc: 0.6523 - loss: 0.6252 - val_acc: 0.4690 - val_auc: 0.0000e+00 - val_loss: 0.8819\n",
      "Epoch 50/100\n",
      "\u001b[1m288/292\u001b[0m \u001b[32m━━━━━━━━━━━━━━━━━━━\u001b[0m\u001b[37m━\u001b[0m \u001b[1m0s\u001b[0m 2ms/step - acc: 0.7004 - auc: 0.6809 - loss: 0.6123\n",
      "Epoch 50: val_loss did not improve from 0.79471\n",
      "\u001b[1m292/292\u001b[0m \u001b[32m━━━━━━━━━━━━━━━━━━━━\u001b[0m\u001b[37m\u001b[0m \u001b[1m1s\u001b[0m 2ms/step - acc: 0.7005 - auc: 0.6810 - loss: 0.6124 - val_acc: 0.4690 - val_auc: 0.0000e+00 - val_loss: 0.8830\n",
      "Epoch 51/100\n",
      "\u001b[1m289/292\u001b[0m \u001b[32m━━━━━━━━━━━━━━━━━━━\u001b[0m\u001b[37m━\u001b[0m \u001b[1m0s\u001b[0m 2ms/step - acc: 0.7007 - auc: 0.6920 - loss: 0.6138\n",
      "Epoch 51: val_loss did not improve from 0.79471\n",
      "\u001b[1m292/292\u001b[0m \u001b[32m━━━━━━━━━━━━━━━━━━━━\u001b[0m\u001b[37m\u001b[0m \u001b[1m1s\u001b[0m 2ms/step - acc: 0.7008 - auc: 0.6916 - loss: 0.6138 - val_acc: 0.4690 - val_auc: 0.0000e+00 - val_loss: 0.8854\n",
      "Epoch 52/100\n",
      "\u001b[1m290/292\u001b[0m \u001b[32m━━━━━━━━━━━━━━━━━━━\u001b[0m\u001b[37m━\u001b[0m \u001b[1m0s\u001b[0m 2ms/step - acc: 0.7140 - auc: 0.6884 - loss: 0.6001\n",
      "Epoch 52: val_loss did not improve from 0.79471\n",
      "\u001b[1m292/292\u001b[0m \u001b[32m━━━━━━━━━━━━━━━━━━━━\u001b[0m\u001b[37m\u001b[0m \u001b[1m1s\u001b[0m 2ms/step - acc: 0.7138 - auc: 0.6882 - loss: 0.6003 - val_acc: 0.4690 - val_auc: 0.0000e+00 - val_loss: 0.8861\n",
      "Epoch 53/100\n",
      "\u001b[1m283/292\u001b[0m \u001b[32m━━━━━━━━━━━━━━━━━━━\u001b[0m\u001b[37m━\u001b[0m \u001b[1m0s\u001b[0m 2ms/step - acc: 0.7151 - auc: 0.6717 - loss: 0.6166\n",
      "Epoch 53: val_loss did not improve from 0.79471\n",
      "\u001b[1m292/292\u001b[0m \u001b[32m━━━━━━━━━━━━━━━━━━━━\u001b[0m\u001b[37m\u001b[0m \u001b[1m1s\u001b[0m 2ms/step - acc: 0.7144 - auc: 0.6718 - loss: 0.6165 - val_acc: 0.4690 - val_auc: 0.0000e+00 - val_loss: 0.8898\n",
      "Epoch 54/100\n",
      "\u001b[1m290/292\u001b[0m \u001b[32m━━━━━━━━━━━━━━━━━━━\u001b[0m\u001b[37m━\u001b[0m \u001b[1m0s\u001b[0m 2ms/step - acc: 0.7372 - auc: 0.7554 - loss: 0.5740\n",
      "Epoch 54: val_loss did not improve from 0.79471\n",
      "\u001b[1m292/292\u001b[0m \u001b[32m━━━━━━━━━━━━━━━━━━━━\u001b[0m\u001b[37m\u001b[0m \u001b[1m1s\u001b[0m 2ms/step - acc: 0.7370 - auc: 0.7549 - loss: 0.5743 - val_acc: 0.4690 - val_auc: 0.0000e+00 - val_loss: 0.8941\n",
      "Epoch 55/100\n",
      "\u001b[1m277/292\u001b[0m \u001b[32m━━━━━━━━━━━━━━━━━━\u001b[0m\u001b[37m━━\u001b[0m \u001b[1m0s\u001b[0m 2ms/step - acc: 0.6862 - auc: 0.6600 - loss: 0.6361\n",
      "Epoch 55: val_loss did not improve from 0.79471\n",
      "\u001b[1m292/292\u001b[0m \u001b[32m━━━━━━━━━━━━━━━━━━━━\u001b[0m\u001b[37m\u001b[0m \u001b[1m1s\u001b[0m 3ms/step - acc: 0.6867 - auc: 0.6603 - loss: 0.6353 - val_acc: 0.4690 - val_auc: 0.0000e+00 - val_loss: 0.8920\n",
      "Epoch 56/100\n",
      "\u001b[1m280/292\u001b[0m \u001b[32m━━━━━━━━━━━━━━━━━━━\u001b[0m\u001b[37m━\u001b[0m \u001b[1m0s\u001b[0m 2ms/step - acc: 0.7588 - auc: 0.6799 - loss: 0.5921\n",
      "Epoch 56: val_loss did not improve from 0.79471\n",
      "\u001b[1m292/292\u001b[0m \u001b[32m━━━━━━━━━━━━━━━━━━━━\u001b[0m\u001b[37m\u001b[0m \u001b[1m1s\u001b[0m 2ms/step - acc: 0.7569 - auc: 0.6798 - loss: 0.5933 - val_acc: 0.4690 - val_auc: 0.0000e+00 - val_loss: 0.8956\n",
      "Epoch 57/100\n",
      "\u001b[1m276/292\u001b[0m \u001b[32m━━━━━━━━━━━━━━━━━━\u001b[0m\u001b[37m━━\u001b[0m \u001b[1m0s\u001b[0m 2ms/step - acc: 0.7380 - auc: 0.7108 - loss: 0.6023\n",
      "Epoch 57: val_loss did not improve from 0.79471\n",
      "\u001b[1m292/292\u001b[0m \u001b[32m━━━━━━━━━━━━━━━━━━━━\u001b[0m\u001b[37m\u001b[0m \u001b[1m1s\u001b[0m 3ms/step - acc: 0.7372 - auc: 0.7092 - loss: 0.6029 - val_acc: 0.4690 - val_auc: 0.0000e+00 - val_loss: 0.8953\n",
      "Epoch 58/100\n",
      "\u001b[1m267/292\u001b[0m \u001b[32m━━━━━━━━━━━━━━━━━━\u001b[0m\u001b[37m━━\u001b[0m \u001b[1m0s\u001b[0m 2ms/step - acc: 0.7381 - auc: 0.6987 - loss: 0.5703\n",
      "Epoch 58: val_loss did not improve from 0.79471\n",
      "\u001b[1m292/292\u001b[0m \u001b[32m━━━━━━━━━━━━━━━━━━━━\u001b[0m\u001b[37m\u001b[0m \u001b[1m1s\u001b[0m 2ms/step - acc: 0.7351 - auc: 0.6967 - loss: 0.5739 - val_acc: 0.4690 - val_auc: 0.0000e+00 - val_loss: 0.8981\n",
      "Epoch 59/100\n",
      "\u001b[1m287/292\u001b[0m \u001b[32m━━━━━━━━━━━━━━━━━━━\u001b[0m\u001b[37m━\u001b[0m \u001b[1m0s\u001b[0m 2ms/step - acc: 0.7545 - auc: 0.7257 - loss: 0.5819\n",
      "Epoch 59: val_loss did not improve from 0.79471\n",
      "\u001b[1m292/292\u001b[0m \u001b[32m━━━━━━━━━━━━━━━━━━━━\u001b[0m\u001b[37m\u001b[0m \u001b[1m1s\u001b[0m 2ms/step - acc: 0.7538 - auc: 0.7249 - loss: 0.5825 - val_acc: 0.4690 - val_auc: 0.0000e+00 - val_loss: 0.8994\n",
      "Epoch 60/100\n",
      "\u001b[1m291/292\u001b[0m \u001b[32m━━━━━━━━━━━━━━━━━━━\u001b[0m\u001b[37m━\u001b[0m \u001b[1m0s\u001b[0m 2ms/step - acc: 0.7113 - auc: 0.6843 - loss: 0.6081\n",
      "Epoch 60: val_loss did not improve from 0.79471\n",
      "\u001b[1m292/292\u001b[0m \u001b[32m━━━━━━━━━━━━━━━━━━━━\u001b[0m\u001b[37m\u001b[0m \u001b[1m1s\u001b[0m 2ms/step - acc: 0.7114 - auc: 0.6843 - loss: 0.6081 - val_acc: 0.4690 - val_auc: 0.0000e+00 - val_loss: 0.9036\n",
      "Epoch 61/100\n",
      "\u001b[1m292/292\u001b[0m \u001b[32m━━━━━━━━━━━━━━━━━━━━\u001b[0m\u001b[37m\u001b[0m \u001b[1m0s\u001b[0m 2ms/step - acc: 0.7235 - auc: 0.7021 - loss: 0.5994\n",
      "Epoch 61: val_loss did not improve from 0.79471\n",
      "\u001b[1m292/292\u001b[0m \u001b[32m━━━━━━━━━━━━━━━━━━━━\u001b[0m\u001b[37m\u001b[0m \u001b[1m1s\u001b[0m 2ms/step - acc: 0.7234 - auc: 0.7021 - loss: 0.5994 - val_acc: 0.4690 - val_auc: 0.0000e+00 - val_loss: 0.9071\n",
      "Epoch 62/100\n",
      "\u001b[1m292/292\u001b[0m \u001b[32m━━━━━━━━━━━━━━━━━━━━\u001b[0m\u001b[37m\u001b[0m \u001b[1m0s\u001b[0m 2ms/step - acc: 0.7159 - auc: 0.6900 - loss: 0.5925\n",
      "Epoch 62: val_loss did not improve from 0.79471\n",
      "\u001b[1m292/292\u001b[0m \u001b[32m━━━━━━━━━━━━━━━━━━━━\u001b[0m\u001b[37m\u001b[0m \u001b[1m1s\u001b[0m 2ms/step - acc: 0.7159 - auc: 0.6900 - loss: 0.5925 - val_acc: 0.4690 - val_auc: 0.0000e+00 - val_loss: 0.9090\n",
      "Epoch 63/100\n",
      "\u001b[1m267/292\u001b[0m \u001b[32m━━━━━━━━━━━━━━━━━━\u001b[0m\u001b[37m━━\u001b[0m \u001b[1m0s\u001b[0m 2ms/step - acc: 0.7020 - auc: 0.6543 - loss: 0.6086\n",
      "Epoch 63: val_loss did not improve from 0.79471\n",
      "\u001b[1m292/292\u001b[0m \u001b[32m━━━━━━━━━━━━━━━━━━━━\u001b[0m\u001b[37m\u001b[0m \u001b[1m1s\u001b[0m 2ms/step - acc: 0.7014 - auc: 0.6544 - loss: 0.6095 - val_acc: 0.4690 - val_auc: 0.0000e+00 - val_loss: 0.9107\n",
      "Epoch 64/100\n",
      "\u001b[1m266/292\u001b[0m \u001b[32m━━━━━━━━━━━━━━━━━━\u001b[0m\u001b[37m━━\u001b[0m \u001b[1m0s\u001b[0m 2ms/step - acc: 0.6905 - auc: 0.6401 - loss: 0.6206\n",
      "Epoch 64: val_loss did not improve from 0.79471\n",
      "\u001b[1m292/292\u001b[0m \u001b[32m━━━━━━━━━━━━━━━━━━━━\u001b[0m\u001b[37m\u001b[0m \u001b[1m1s\u001b[0m 2ms/step - acc: 0.6918 - auc: 0.6441 - loss: 0.6193 - val_acc: 0.4690 - val_auc: 0.0000e+00 - val_loss: 0.9119\n",
      "Epoch 65/100\n",
      "\u001b[1m268/292\u001b[0m \u001b[32m━━━━━━━━━━━━━━━━━━\u001b[0m\u001b[37m━━\u001b[0m \u001b[1m0s\u001b[0m 2ms/step - acc: 0.7028 - auc: 0.6934 - loss: 0.6063\n",
      "Epoch 65: val_loss did not improve from 0.79471\n",
      "\u001b[1m292/292\u001b[0m \u001b[32m━━━━━━━━━━━━━━━━━━━━\u001b[0m\u001b[37m\u001b[0m \u001b[1m1s\u001b[0m 2ms/step - acc: 0.7019 - auc: 0.6917 - loss: 0.6067 - val_acc: 0.4690 - val_auc: 0.0000e+00 - val_loss: 0.9127\n",
      "Epoch 66/100\n",
      "\u001b[1m288/292\u001b[0m \u001b[32m━━━━━━━━━━━━━━━━━━━\u001b[0m\u001b[37m━\u001b[0m \u001b[1m0s\u001b[0m 2ms/step - acc: 0.7163 - auc: 0.7266 - loss: 0.5922\n",
      "Epoch 66: val_loss did not improve from 0.79471\n",
      "\u001b[1m292/292\u001b[0m \u001b[32m━━━━━━━━━━━━━━━━━━━━\u001b[0m\u001b[37m\u001b[0m \u001b[1m1s\u001b[0m 2ms/step - acc: 0.7162 - auc: 0.7262 - loss: 0.5924 - val_acc: 0.4690 - val_auc: 0.0000e+00 - val_loss: 0.9153\n",
      "Epoch 67/100\n",
      "\u001b[1m291/292\u001b[0m \u001b[32m━━━━━━━━━━━━━━━━━━━\u001b[0m\u001b[37m━\u001b[0m \u001b[1m0s\u001b[0m 2ms/step - acc: 0.7607 - auc: 0.7173 - loss: 0.5823\n",
      "Epoch 67: val_loss did not improve from 0.79471\n",
      "\u001b[1m292/292\u001b[0m \u001b[32m━━━━━━━━━━━━━━━━━━━━\u001b[0m\u001b[37m\u001b[0m \u001b[1m1s\u001b[0m 2ms/step - acc: 0.7603 - auc: 0.7172 - loss: 0.5825 - val_acc: 0.4690 - val_auc: 0.0000e+00 - val_loss: 0.9180\n",
      "Epoch 68/100\n",
      "\u001b[1m267/292\u001b[0m \u001b[32m━━━━━━━━━━━━━━━━━━\u001b[0m\u001b[37m━━\u001b[0m \u001b[1m0s\u001b[0m 2ms/step - acc: 0.7179 - auc: 0.7096 - loss: 0.5930\n",
      "Epoch 68: val_loss did not improve from 0.79471\n",
      "\u001b[1m292/292\u001b[0m \u001b[32m━━━━━━━━━━━━━━━━━━━━\u001b[0m\u001b[37m\u001b[0m \u001b[1m1s\u001b[0m 2ms/step - acc: 0.7167 - auc: 0.7084 - loss: 0.5943 - val_acc: 0.4690 - val_auc: 0.0000e+00 - val_loss: 0.9196\n",
      "Epoch 69/100\n",
      "\u001b[1m268/292\u001b[0m \u001b[32m━━━━━━━━━━━━━━━━━━\u001b[0m\u001b[37m━━\u001b[0m \u001b[1m0s\u001b[0m 2ms/step - acc: 0.7068 - auc: 0.7077 - loss: 0.6097\n",
      "Epoch 69: val_loss did not improve from 0.79471\n",
      "\u001b[1m292/292\u001b[0m \u001b[32m━━━━━━━━━━━━━━━━━━━━\u001b[0m\u001b[37m\u001b[0m \u001b[1m1s\u001b[0m 2ms/step - acc: 0.7072 - auc: 0.7057 - loss: 0.6098 - val_acc: 0.4690 - val_auc: 0.0000e+00 - val_loss: 0.9217\n",
      "Epoch 70/100\n",
      "\u001b[1m292/292\u001b[0m \u001b[32m━━━━━━━━━━━━━━━━━━━━\u001b[0m\u001b[37m\u001b[0m \u001b[1m0s\u001b[0m 2ms/step - acc: 0.6894 - auc: 0.6672 - loss: 0.6243\n",
      "Epoch 70: val_loss did not improve from 0.79471\n",
      "\u001b[1m292/292\u001b[0m \u001b[32m━━━━━━━━━━━━━━━━━━━━\u001b[0m\u001b[37m\u001b[0m \u001b[1m1s\u001b[0m 2ms/step - acc: 0.6895 - auc: 0.6673 - loss: 0.6242 - val_acc: 0.4690 - val_auc: 0.0000e+00 - val_loss: 0.9248\n",
      "Epoch 71/100\n",
      "\u001b[1m288/292\u001b[0m \u001b[32m━━━━━━━━━━━━━━━━━━━\u001b[0m\u001b[37m━\u001b[0m \u001b[1m0s\u001b[0m 2ms/step - acc: 0.6954 - auc: 0.6796 - loss: 0.6111\n",
      "Epoch 71: val_loss did not improve from 0.79471\n",
      "\u001b[1m292/292\u001b[0m \u001b[32m━━━━━━━━━━━━━━━━━━━━\u001b[0m\u001b[37m\u001b[0m \u001b[1m1s\u001b[0m 2ms/step - acc: 0.6956 - auc: 0.6799 - loss: 0.6109 - val_acc: 0.4690 - val_auc: 0.0000e+00 - val_loss: 0.9260\n",
      "Epoch 72/100\n",
      "\u001b[1m283/292\u001b[0m \u001b[32m━━━━━━━━━━━━━━━━━━━\u001b[0m\u001b[37m━\u001b[0m \u001b[1m0s\u001b[0m 2ms/step - acc: 0.6972 - auc: 0.6843 - loss: 0.6072\n",
      "Epoch 72: val_loss did not improve from 0.79471\n",
      "\u001b[1m292/292\u001b[0m \u001b[32m━━━━━━━━━━━━━━━━━━━━\u001b[0m\u001b[37m\u001b[0m \u001b[1m1s\u001b[0m 2ms/step - acc: 0.6980 - auc: 0.6852 - loss: 0.6068 - val_acc: 0.4690 - val_auc: 0.0000e+00 - val_loss: 0.9306\n",
      "Epoch 73/100\n",
      "\u001b[1m288/292\u001b[0m \u001b[32m━━━━━━━━━━━━━━━━━━━\u001b[0m\u001b[37m━\u001b[0m \u001b[1m0s\u001b[0m 2ms/step - acc: 0.6948 - auc: 0.7002 - loss: 0.5970\n",
      "Epoch 73: val_loss did not improve from 0.79471\n",
      "\u001b[1m292/292\u001b[0m \u001b[32m━━━━━━━━━━━━━━━━━━━━\u001b[0m\u001b[37m\u001b[0m \u001b[1m1s\u001b[0m 2ms/step - acc: 0.6946 - auc: 0.6999 - loss: 0.5973 - val_acc: 0.4690 - val_auc: 0.0000e+00 - val_loss: 0.9321\n",
      "Epoch 74/100\n",
      "\u001b[1m283/292\u001b[0m \u001b[32m━━━━━━━━━━━━━━━━━━━\u001b[0m\u001b[37m━\u001b[0m \u001b[1m0s\u001b[0m 2ms/step - acc: 0.7066 - auc: 0.6891 - loss: 0.6037\n",
      "Epoch 74: val_loss did not improve from 0.79471\n",
      "\u001b[1m292/292\u001b[0m \u001b[32m━━━━━━━━━━━━━━━━━━━━\u001b[0m\u001b[37m\u001b[0m \u001b[1m1s\u001b[0m 2ms/step - acc: 0.7065 - auc: 0.6895 - loss: 0.6038 - val_acc: 0.4690 - val_auc: 0.0000e+00 - val_loss: 0.9344\n",
      "Epoch 75/100\n",
      "\u001b[1m289/292\u001b[0m \u001b[32m━━━━━━━━━━━━━━━━━━━\u001b[0m\u001b[37m━\u001b[0m \u001b[1m0s\u001b[0m 2ms/step - acc: 0.7159 - auc: 0.7331 - loss: 0.5937\n",
      "Epoch 75: val_loss did not improve from 0.79471\n",
      "\u001b[1m292/292\u001b[0m \u001b[32m━━━━━━━━━━━━━━━━━━━━\u001b[0m\u001b[37m\u001b[0m \u001b[1m1s\u001b[0m 2ms/step - acc: 0.7158 - auc: 0.7327 - loss: 0.5939 - val_acc: 0.4690 - val_auc: 0.0000e+00 - val_loss: 0.9351\n",
      "Epoch 76/100\n",
      "\u001b[1m268/292\u001b[0m \u001b[32m━━━━━━━━━━━━━━━━━━\u001b[0m\u001b[37m━━\u001b[0m \u001b[1m0s\u001b[0m 2ms/step - acc: 0.7225 - auc: 0.7390 - loss: 0.5856\n",
      "Epoch 76: val_loss did not improve from 0.79471\n",
      "\u001b[1m292/292\u001b[0m \u001b[32m━━━━━━━━━━━━━━━━━━━━\u001b[0m\u001b[37m\u001b[0m \u001b[1m1s\u001b[0m 2ms/step - acc: 0.7212 - auc: 0.7367 - loss: 0.5871 - val_acc: 0.4690 - val_auc: 0.0000e+00 - val_loss: 0.9370\n",
      "Epoch 77/100\n",
      "\u001b[1m268/292\u001b[0m \u001b[32m━━━━━━━━━━━━━━━━━━\u001b[0m\u001b[37m━━\u001b[0m \u001b[1m0s\u001b[0m 2ms/step - acc: 0.7023 - auc: 0.7049 - loss: 0.5861\n",
      "Epoch 77: val_loss did not improve from 0.79471\n",
      "\u001b[1m292/292\u001b[0m \u001b[32m━━━━━━━━━━━━━━━━━━━━\u001b[0m\u001b[37m\u001b[0m \u001b[1m1s\u001b[0m 2ms/step - acc: 0.7015 - auc: 0.7037 - loss: 0.5881 - val_acc: 0.4690 - val_auc: 0.0000e+00 - val_loss: 0.9382\n",
      "Epoch 78/100\n",
      "\u001b[1m290/292\u001b[0m \u001b[32m━━━━━━━━━━━━━━━━━━━\u001b[0m\u001b[37m━\u001b[0m \u001b[1m0s\u001b[0m 2ms/step - acc: 0.7077 - auc: 0.6882 - loss: 0.6070\n",
      "Epoch 78: val_loss did not improve from 0.79471\n",
      "\u001b[1m292/292\u001b[0m \u001b[32m━━━━━━━━━━━━━━━━━━━━\u001b[0m\u001b[37m\u001b[0m \u001b[1m1s\u001b[0m 2ms/step - acc: 0.7077 - auc: 0.6882 - loss: 0.6070 - val_acc: 0.4690 - val_auc: 0.0000e+00 - val_loss: 0.9388\n",
      "Epoch 79/100\n",
      "\u001b[1m285/292\u001b[0m \u001b[32m━━━━━━━━━━━━━━━━━━━\u001b[0m\u001b[37m━\u001b[0m \u001b[1m0s\u001b[0m 2ms/step - acc: 0.7037 - auc: 0.6896 - loss: 0.6100\n",
      "Epoch 79: val_loss did not improve from 0.79471\n",
      "\u001b[1m292/292\u001b[0m \u001b[32m━━━━━━━━━━━━━━━━━━━━\u001b[0m\u001b[37m\u001b[0m \u001b[1m1s\u001b[0m 2ms/step - acc: 0.7036 - auc: 0.6904 - loss: 0.6096 - val_acc: 0.4690 - val_auc: 0.0000e+00 - val_loss: 0.9418\n",
      "Epoch 80/100\n",
      "\u001b[1m288/292\u001b[0m \u001b[32m━━━━━━━━━━━━━━━━━━━\u001b[0m\u001b[37m━\u001b[0m \u001b[1m0s\u001b[0m 2ms/step - acc: 0.6993 - auc: 0.6934 - loss: 0.5926\n",
      "Epoch 80: val_loss did not improve from 0.79471\n",
      "\u001b[1m292/292\u001b[0m \u001b[32m━━━━━━━━━━━━━━━━━━━━\u001b[0m\u001b[37m\u001b[0m \u001b[1m1s\u001b[0m 2ms/step - acc: 0.6991 - auc: 0.6933 - loss: 0.5929 - val_acc: 0.4690 - val_auc: 0.0000e+00 - val_loss: 0.9431\n",
      "Epoch 81/100\n",
      "\u001b[1m281/292\u001b[0m \u001b[32m━━━━━━━━━━━━━━━━━━━\u001b[0m\u001b[37m━\u001b[0m \u001b[1m0s\u001b[0m 2ms/step - acc: 0.6997 - auc: 0.7397 - loss: 0.5886\n",
      "Epoch 81: val_loss did not improve from 0.79471\n",
      "\u001b[1m292/292\u001b[0m \u001b[32m━━━━━━━━━━━━━━━━━━━━\u001b[0m\u001b[37m\u001b[0m \u001b[1m1s\u001b[0m 3ms/step - acc: 0.6996 - auc: 0.7384 - loss: 0.5891 - val_acc: 0.4690 - val_auc: 0.0000e+00 - val_loss: 0.9462\n",
      "Epoch 82/100\n",
      "\u001b[1m287/292\u001b[0m \u001b[32m━━━━━━━━━━━━━━━━━━━\u001b[0m\u001b[37m━\u001b[0m \u001b[1m0s\u001b[0m 2ms/step - acc: 0.7055 - auc: 0.7107 - loss: 0.5936\n",
      "Epoch 82: val_loss did not improve from 0.79471\n",
      "\u001b[1m292/292\u001b[0m \u001b[32m━━━━━━━━━━━━━━━━━━━━\u001b[0m\u001b[37m\u001b[0m \u001b[1m1s\u001b[0m 2ms/step - acc: 0.7050 - auc: 0.7104 - loss: 0.5939 - val_acc: 0.4690 - val_auc: 0.0000e+00 - val_loss: 0.9452\n",
      "Epoch 83/100\n",
      "\u001b[1m285/292\u001b[0m \u001b[32m━━━━━━━━━━━━━━━━━━━\u001b[0m\u001b[37m━\u001b[0m \u001b[1m0s\u001b[0m 2ms/step - acc: 0.6757 - auc: 0.6753 - loss: 0.6314\n",
      "Epoch 83: val_loss did not improve from 0.79471\n",
      "\u001b[1m292/292\u001b[0m \u001b[32m━━━━━━━━━━━━━━━━━━━━\u001b[0m\u001b[37m\u001b[0m \u001b[1m1s\u001b[0m 2ms/step - acc: 0.6764 - auc: 0.6753 - loss: 0.6310 - val_acc: 0.4690 - val_auc: 0.0000e+00 - val_loss: 0.9445\n",
      "Epoch 84/100\n",
      "\u001b[1m289/292\u001b[0m \u001b[32m━━━━━━━━━━━━━━━━━━━\u001b[0m\u001b[37m━\u001b[0m \u001b[1m0s\u001b[0m 2ms/step - acc: 0.6921 - auc: 0.6885 - loss: 0.6065\n",
      "Epoch 84: val_loss did not improve from 0.79471\n",
      "\u001b[1m292/292\u001b[0m \u001b[32m━━━━━━━━━━━━━━━━━━━━\u001b[0m\u001b[37m\u001b[0m \u001b[1m1s\u001b[0m 2ms/step - acc: 0.6922 - auc: 0.6887 - loss: 0.6065 - val_acc: 0.4690 - val_auc: 0.0000e+00 - val_loss: 0.9468\n",
      "Epoch 85/100\n",
      "\u001b[1m291/292\u001b[0m \u001b[32m━━━━━━━━━━━━━━━━━━━\u001b[0m\u001b[37m━\u001b[0m \u001b[1m0s\u001b[0m 2ms/step - acc: 0.7036 - auc: 0.7250 - loss: 0.5882\n",
      "Epoch 85: val_loss did not improve from 0.79471\n",
      "\u001b[1m292/292\u001b[0m \u001b[32m━━━━━━━━━━━━━━━━━━━━\u001b[0m\u001b[37m\u001b[0m \u001b[1m1s\u001b[0m 2ms/step - acc: 0.7036 - auc: 0.7249 - loss: 0.5882 - val_acc: 0.4690 - val_auc: 0.0000e+00 - val_loss: 0.9505\n",
      "Epoch 86/100\n",
      "\u001b[1m289/292\u001b[0m \u001b[32m━━━━━━━━━━━━━━━━━━━\u001b[0m\u001b[37m━\u001b[0m \u001b[1m0s\u001b[0m 2ms/step - acc: 0.7013 - auc: 0.6966 - loss: 0.6012\n",
      "Epoch 86: val_loss did not improve from 0.79471\n",
      "\u001b[1m292/292\u001b[0m \u001b[32m━━━━━━━━━━━━━━━━━━━━\u001b[0m\u001b[37m\u001b[0m \u001b[1m1s\u001b[0m 2ms/step - acc: 0.7011 - auc: 0.6965 - loss: 0.6013 - val_acc: 0.4690 - val_auc: 0.0000e+00 - val_loss: 0.9486\n",
      "Epoch 87/100\n",
      "\u001b[1m288/292\u001b[0m \u001b[32m━━━━━━━━━━━━━━━━━━━\u001b[0m\u001b[37m━\u001b[0m \u001b[1m0s\u001b[0m 2ms/step - acc: 0.7158 - auc: 0.7203 - loss: 0.5928\n",
      "Epoch 87: val_loss did not improve from 0.79471\n",
      "\u001b[1m292/292\u001b[0m \u001b[32m━━━━━━━━━━━━━━━━━━━━\u001b[0m\u001b[37m\u001b[0m \u001b[1m1s\u001b[0m 2ms/step - acc: 0.7155 - auc: 0.7200 - loss: 0.5931 - val_acc: 0.4690 - val_auc: 0.0000e+00 - val_loss: 0.9477\n",
      "Epoch 88/100\n",
      "\u001b[1m277/292\u001b[0m \u001b[32m━━━━━━━━━━━━━━━━━━\u001b[0m\u001b[37m━━\u001b[0m \u001b[1m0s\u001b[0m 2ms/step - acc: 0.7039 - auc: 0.7233 - loss: 0.6029\n",
      "Epoch 88: val_loss did not improve from 0.79471\n",
      "\u001b[1m292/292\u001b[0m \u001b[32m━━━━━━━━━━━━━━━━━━━━\u001b[0m\u001b[37m\u001b[0m \u001b[1m1s\u001b[0m 3ms/step - acc: 0.7037 - auc: 0.7230 - loss: 0.6026 - val_acc: 0.4690 - val_auc: 0.0000e+00 - val_loss: 0.9488\n",
      "Epoch 89/100\n",
      "\u001b[1m282/292\u001b[0m \u001b[32m━━━━━━━━━━━━━━━━━━━\u001b[0m\u001b[37m━\u001b[0m \u001b[1m0s\u001b[0m 2ms/step - acc: 0.7025 - auc: 0.7159 - loss: 0.6003\n",
      "Epoch 89: val_loss did not improve from 0.79471\n",
      "\u001b[1m292/292\u001b[0m \u001b[32m━━━━━━━━━━━━━━━━━━━━\u001b[0m\u001b[37m\u001b[0m \u001b[1m1s\u001b[0m 2ms/step - acc: 0.7032 - auc: 0.7159 - loss: 0.6003 - val_acc: 0.4690 - val_auc: 0.0000e+00 - val_loss: 0.9540\n",
      "Epoch 90/100\n",
      "\u001b[1m272/292\u001b[0m \u001b[32m━━━━━━━━━━━━━━━━━━\u001b[0m\u001b[37m━━\u001b[0m \u001b[1m0s\u001b[0m 2ms/step - acc: 0.7050 - auc: 0.6836 - loss: 0.5966\n",
      "Epoch 90: val_loss did not improve from 0.79471\n",
      "\u001b[1m292/292\u001b[0m \u001b[32m━━━━━━━━━━━━━━━━━━━━\u001b[0m\u001b[37m\u001b[0m \u001b[1m1s\u001b[0m 3ms/step - acc: 0.7043 - auc: 0.6844 - loss: 0.5974 - val_acc: 0.4690 - val_auc: 0.0074 - val_loss: 0.9522\n",
      "Epoch 91/100\n",
      "\u001b[1m289/292\u001b[0m \u001b[32m━━━━━━━━━━━━━━━━━━━\u001b[0m\u001b[37m━\u001b[0m \u001b[1m0s\u001b[0m 2ms/step - acc: 0.7058 - auc: 0.7009 - loss: 0.5948\n",
      "Epoch 91: val_loss did not improve from 0.79471\n",
      "\u001b[1m292/292\u001b[0m \u001b[32m━━━━━━━━━━━━━━━━━━━━\u001b[0m\u001b[37m\u001b[0m \u001b[1m1s\u001b[0m 2ms/step - acc: 0.7054 - auc: 0.7008 - loss: 0.5950 - val_acc: 0.4690 - val_auc: 0.0000e+00 - val_loss: 0.9529\n",
      "Epoch 92/100\n",
      "\u001b[1m287/292\u001b[0m \u001b[32m━━━━━━━━━━━━━━━━━━━\u001b[0m\u001b[37m━\u001b[0m \u001b[1m0s\u001b[0m 2ms/step - acc: 0.7196 - auc: 0.7252 - loss: 0.5886\n",
      "Epoch 92: val_loss did not improve from 0.79471\n",
      "\u001b[1m292/292\u001b[0m \u001b[32m━━━━━━━━━━━━━━━━━━━━\u001b[0m\u001b[37m\u001b[0m \u001b[1m1s\u001b[0m 2ms/step - acc: 0.7192 - auc: 0.7244 - loss: 0.5890 - val_acc: 0.4690 - val_auc: 0.0074 - val_loss: 0.9530\n",
      "Epoch 93/100\n",
      "\u001b[1m288/292\u001b[0m \u001b[32m━━━━━━━━━━━━━━━━━━━\u001b[0m\u001b[37m━\u001b[0m \u001b[1m0s\u001b[0m 2ms/step - acc: 0.6849 - auc: 0.6827 - loss: 0.6000\n",
      "Epoch 93: val_loss did not improve from 0.79471\n",
      "\u001b[1m292/292\u001b[0m \u001b[32m━━━━━━━━━━━━━━━━━━━━\u001b[0m\u001b[37m\u001b[0m \u001b[1m1s\u001b[0m 2ms/step - acc: 0.6851 - auc: 0.6833 - loss: 0.5999 - val_acc: 0.4690 - val_auc: 0.0000e+00 - val_loss: 0.9536\n",
      "Epoch 94/100\n",
      "\u001b[1m285/292\u001b[0m \u001b[32m━━━━━━━━━━━━━━━━━━━\u001b[0m\u001b[37m━\u001b[0m \u001b[1m0s\u001b[0m 2ms/step - acc: 0.6973 - auc: 0.6618 - loss: 0.6168\n",
      "Epoch 94: val_loss did not improve from 0.79471\n",
      "\u001b[1m292/292\u001b[0m \u001b[32m━━━━━━━━━━━━━━━━━━━━\u001b[0m\u001b[37m\u001b[0m \u001b[1m1s\u001b[0m 2ms/step - acc: 0.6974 - auc: 0.6630 - loss: 0.6164 - val_acc: 0.4690 - val_auc: 0.0000e+00 - val_loss: 0.9573\n",
      "Epoch 95/100\n",
      "\u001b[1m290/292\u001b[0m \u001b[32m━━━━━━━━━━━━━━━━━━━\u001b[0m\u001b[37m━\u001b[0m \u001b[1m0s\u001b[0m 2ms/step - acc: 0.6780 - auc: 0.7162 - loss: 0.5995\n",
      "Epoch 95: val_loss did not improve from 0.79471\n",
      "\u001b[1m292/292\u001b[0m \u001b[32m━━━━━━━━━━━━━━━━━━━━\u001b[0m\u001b[37m\u001b[0m \u001b[1m1s\u001b[0m 2ms/step - acc: 0.6783 - auc: 0.7162 - loss: 0.5995 - val_acc: 0.4690 - val_auc: 0.0000e+00 - val_loss: 0.9585\n",
      "Epoch 96/100\n",
      "\u001b[1m292/292\u001b[0m \u001b[32m━━━━━━━━━━━━━━━━━━━━\u001b[0m\u001b[37m\u001b[0m \u001b[1m0s\u001b[0m 2ms/step - acc: 0.6958 - auc: 0.6925 - loss: 0.6239\n",
      "Epoch 96: val_loss did not improve from 0.79471\n",
      "\u001b[1m292/292\u001b[0m \u001b[32m━━━━━━━━━━━━━━━━━━━━\u001b[0m\u001b[37m\u001b[0m \u001b[1m1s\u001b[0m 2ms/step - acc: 0.6959 - auc: 0.6925 - loss: 0.6238 - val_acc: 0.4690 - val_auc: 0.0000e+00 - val_loss: 0.9633\n",
      "Epoch 97/100\n",
      "\u001b[1m288/292\u001b[0m \u001b[32m━━━━━━━━━━━━━━━━━━━\u001b[0m\u001b[37m━\u001b[0m \u001b[1m0s\u001b[0m 2ms/step - acc: 0.7127 - auc: 0.6934 - loss: 0.6062\n",
      "Epoch 97: val_loss did not improve from 0.79471\n",
      "\u001b[1m292/292\u001b[0m \u001b[32m━━━━━━━━━━━━━━━━━━━━\u001b[0m\u001b[37m\u001b[0m \u001b[1m1s\u001b[0m 2ms/step - acc: 0.7121 - auc: 0.6931 - loss: 0.6064 - val_acc: 0.4690 - val_auc: 0.0000e+00 - val_loss: 0.9578\n",
      "Epoch 98/100\n",
      "\u001b[1m284/292\u001b[0m \u001b[32m━━━━━━━━━━━━━━━━━━━\u001b[0m\u001b[37m━\u001b[0m \u001b[1m0s\u001b[0m 2ms/step - acc: 0.6903 - auc: 0.6615 - loss: 0.6214\n",
      "Epoch 98: val_loss did not improve from 0.79471\n",
      "\u001b[1m292/292\u001b[0m \u001b[32m━━━━━━━━━━━━━━━━━━━━\u001b[0m\u001b[37m\u001b[0m \u001b[1m1s\u001b[0m 2ms/step - acc: 0.6908 - auc: 0.6625 - loss: 0.6210 - val_acc: 0.4690 - val_auc: 0.0000e+00 - val_loss: 0.9565\n",
      "Epoch 99/100\n",
      "\u001b[1m285/292\u001b[0m \u001b[32m━━━━━━━━━━━━━━━━━━━\u001b[0m\u001b[37m━\u001b[0m \u001b[1m0s\u001b[0m 2ms/step - acc: 0.6731 - auc: 0.7030 - loss: 0.6157\n",
      "Epoch 99: val_loss did not improve from 0.79471\n",
      "\u001b[1m292/292\u001b[0m \u001b[32m━━━━━━━━━━━━━━━━━━━━\u001b[0m\u001b[37m\u001b[0m \u001b[1m1s\u001b[0m 2ms/step - acc: 0.6738 - auc: 0.7028 - loss: 0.6156 - val_acc: 0.4690 - val_auc: 0.0000e+00 - val_loss: 0.9588\n",
      "Epoch 100/100\n",
      "\u001b[1m289/292\u001b[0m \u001b[32m━━━━━━━━━━━━━━━━━━━\u001b[0m\u001b[37m━\u001b[0m \u001b[1m0s\u001b[0m 2ms/step - acc: 0.7302 - auc: 0.7299 - loss: 0.5828\n",
      "Epoch 100: val_loss did not improve from 0.79471\n",
      "\u001b[1m292/292\u001b[0m \u001b[32m━━━━━━━━━━━━━━━━━━━━\u001b[0m\u001b[37m\u001b[0m \u001b[1m1s\u001b[0m 2ms/step - acc: 0.7299 - auc: 0.7295 - loss: 0.5831 - val_acc: 0.4690 - val_auc: 0.0000e+00 - val_loss: 0.9579\n"
     ]
    },
    {
     "name": "stderr",
     "output_type": "stream",
     "text": [
      "WARNING:absl:Compiled the loaded model, but the compiled metrics have yet to be built. `model.compile_metrics` will be empty until you train or evaluate the model.\n"
     ]
    },
    {
     "name": "stdout",
     "output_type": "stream",
     "text": [
      "Fold 10 | VAL  | AUC=0.0000 | ACC=0.2000 | n=145\n",
      "Fold 10 | TEST | AUC=1.0000 | ACC=1.0000 | n=181\n",
      "\n",
      "Per-fold VAL  AUCs: [np.float64(1.0), np.float64(0.4118), np.float64(1.0), np.float64(0.0), np.float64(0.4118), np.float64(1.0), np.float64(0.049), np.float64(0.8957), np.float64(0.9077), np.float64(0.0)]\n",
      "Per-fold VAL  ACCs: [0.9762, 0.6415, 0.9811, 0.7901, 0.469, 0.6709, 0.65, 0.599, 0.628, 0.2]\n",
      "Per-fold TEST AUCs: [np.float64(0.0554), np.float64(0.91), np.float64(1.0), np.float64(1.0), np.float64(1.0), np.float64(0.6316), np.float64(0.155), np.float64(1.0), np.float64(1.0), np.float64(1.0)]\n",
      "Per-fold TEST ACCs: [0.6614, 0.5, 0.5207, 0.9804, 0.678, 0.9744, 0.2246, 1.0, 1.0, 1.0]\n",
      "\n",
      "VAL  AUC: 0.5676 ± 0.4179 | ACC: 0.6606 ± 0.2176\n",
      "TEST AUC: 0.7752 ± 0.3528 | ACC: 0.7539 ± 0.2636\n",
      "\n",
      "Saved metrics to cv_tabonly_fold_metrics.csv and ROC plots to roc_val_fold_XX.png / roc_test_fold_XX.png\n"
     ]
    }
   ],
   "source": [
    "from pathlib import Path\n",
    "import re, random, math, os\n",
    "import numpy as np\n",
    "import pandas as pd\n",
    "\n",
    "from sklearn.model_selection import StratifiedKFold, train_test_split\n",
    "from sklearn.metrics import roc_auc_score, accuracy_score, roc_curve\n",
    "\n",
    "import matplotlib.pyplot as plt\n",
    "\n",
    "import tensorflow as tf\n",
    "from tensorflow import keras\n",
    "from tensorflow.keras import layers\n",
    "\n",
    "# =========================\n",
    "# Config\n",
    "# =========================\n",
    "SPLIT_DIR = r\"/content/drive/MyDrive/CD/patient_data_clean_nozero_181920212223_1800\"\n",
    "POS_PATIENTS = {1, 2, 16, 19, 21, 22, 25, 37, 39, 43, 44, 47, 50, 56, 58, 62, 65, 66, 73, 78}\n",
    "\n",
    "BATCH_SIZE       = 3\n",
    "EPOCHS           = 100\n",
    "LR               = 1e-4\n",
    "SEED             = 1\n",
    "\n",
    "# =========================\n",
    "# Repro\n",
    "# =========================\n",
    "random.seed(SEED)\n",
    "np.random.seed(SEED)\n",
    "tf.random.set_seed(SEED)\n",
    "os.environ[\"PYTHONHASHSEED\"] = str(SEED)\n",
    "for g in tf.config.list_physical_devices('GPU'):\n",
    "    try: tf.config.experimental.set_memory_growth(g, True)\n",
    "    except Exception: pass\n",
    "\n",
    "# =========================\n",
    "# Helpers\n",
    "# =========================\n",
    "PATIENT_NUM_RX = re.compile(r'^ID(\\d+)')  # e.g., \"ID76-2_...\" -> 76\n",
    "def patient_num_from_path(pathlike):\n",
    "    stem = Path(pathlike).stem\n",
    "    m = PATIENT_NUM_RX.match(stem)\n",
    "    return int(m.group(1)) if m else None\n",
    "\n",
    "def label_for_file(p: Path) -> int:\n",
    "    pnum = patient_num_from_path(p)\n",
    "    return 1 if (pnum is not None and pnum in POS_PATIENTS) else 0\n",
    "\n",
    "# =========================\n",
    "# Load pre-existing 4-feature DataFrame: df (must be in memory)\n",
    "# Must contain column 'ID' + 4 feature columns.\n",
    "# =========================\n",
    "feats_df = df.copy()  # uses your in-memory DataFrame\n",
    "if \"ID\" not in feats_df.columns:\n",
    "    raise RuntimeError(\"Your features DataFrame must contain column 'ID'.\")\n",
    "\n",
    "FEAT_COLS = [c for c in feats_df.columns if c != \"ID\"]\n",
    "# if len(FEAT_COLS) != 4:\n",
    "#     raise RuntimeError(f\"Expected exactly 4 feature columns, found {len(FEAT_COLS)}: {FEAT_COLS}\")\n",
    "\n",
    "feats_df[\"ID\"] = pd.to_numeric(feats_df[\"ID\"], errors=\"coerce\").astype(\"Int64\")\n",
    "feats_df = feats_df.dropna(subset=[\"ID\"] + FEAT_COLS).copy()\n",
    "feats_df[\"ID\"] = feats_df[\"ID\"].astype(int)\n",
    "\n",
    "ID_TO_FEAT = {\n",
    "    int(row[\"ID\"]): row[FEAT_COLS].astype(\"float32\").to_numpy()\n",
    "    for _, row in feats_df.iterrows()\n",
    "}\n",
    "FEAT_DIM = len(FEAT_COLS)\n",
    "print('FEAT_DIM =', FEAT_DIM)\n",
    "\n",
    "# =========================\n",
    "# List EEG files ONLY to define splits by patient ID (no EEG is loaded)\n",
    "# =========================\n",
    "split_dir = Path(SPLIT_DIR)\n",
    "all_csvs = sorted(split_dir.glob(\"*.csv\"))\n",
    "if not all_csvs:\n",
    "    raise FileNotFoundError(f\"No CSV found in {SPLIT_DIR}\")\n",
    "\n",
    "id_to_files = {}\n",
    "for f in all_csvs:\n",
    "    pid = patient_num_from_path(f)\n",
    "    if pid is None:\n",
    "        continue\n",
    "    id_to_files.setdefault(pid, []).append(f)\n",
    "\n",
    "all_ids = sorted(id_to_files.keys())\n",
    "\n",
    "valid_ids = [pid for pid in all_ids if pid in ID_TO_FEAT]\n",
    "if not valid_ids:\n",
    "    raise RuntimeError(\"No overlapping patient IDs between files and the 4-feature table.\")\n",
    "if len(valid_ids) < len(all_ids):\n",
    "    print(f\"Dropping {len(all_ids)-len(valid_ids)} patient IDs without 4-feature rows.\")\n",
    "\n",
    "labels_all = np.array([1 if pid in POS_PATIENTS else 0 for pid in valid_ids], dtype=int)\n",
    "\n",
    "print(\"Total valid IDs:\", len(valid_ids),\n",
    "      \"| Pos IDs:\", labels_all.sum(),\n",
    "      \"| Neg IDs:\", (1 - labels_all).sum())\n",
    "\n",
    "# =========================\n",
    "# Data Sequence (tab-only)\n",
    "# Each file becomes one sample with that patient's features.\n",
    "# =========================\n",
    "class TabSequence(keras.utils.Sequence):\n",
    "    def __init__(self, files, batch_size=BATCH_SIZE, shuffle=True):\n",
    "        super().__init__()\n",
    "        self.files = [f for f in files if patient_num_from_path(f) in ID_TO_FEAT]\n",
    "        self.batch_size = int(batch_size)\n",
    "        self.shuffle = shuffle\n",
    "        self.on_epoch_end()\n",
    "\n",
    "    def __len__(self):\n",
    "        return math.ceil(len(self.files) / self.batch_size)\n",
    "\n",
    "    def on_epoch_end(self):\n",
    "        self.indexes = np.arange(len(self.files))\n",
    "        if self.shuffle:\n",
    "            np.random.shuffle(self.indexes)\n",
    "\n",
    "    def __getitem__(self, idx):\n",
    "        idxs = self.indexes[idx * self.batch_size : (idx + 1) * self.batch_size]\n",
    "        batch_files = [self.files[i] for i in idxs]\n",
    "        B = len(batch_files)\n",
    "\n",
    "        X_tab = np.empty((B, FEAT_DIM), dtype=np.float32)\n",
    "        y     = np.empty((B,), dtype=np.int32)\n",
    "\n",
    "        for i, f in enumerate(batch_files):\n",
    "            pid = patient_num_from_path(f)\n",
    "            X_tab[i] = ID_TO_FEAT[pid]\n",
    "            y[i] = label_for_file(f)\n",
    "\n",
    "        return {\"tab_input\": X_tab}, y\n",
    "\n",
    "# =========================\n",
    "# Tab-only Model: 4 -> 8 -> 8 -> 1\n",
    "# =========================\n",
    "def build_model(tab_dim=FEAT_DIM, lr=LR, dropout=0.2):\n",
    "    tab_in = keras.Input(shape=(tab_dim,), name=\"tab_input\")\n",
    "    t = layers.Dense(8, activation=\"relu\")(tab_in)\n",
    "    t = layers.Dense(8, activation=\"relu\")(t)\n",
    "    t = layers.Dropout(dropout)(t)\n",
    "    out = layers.Dense(1, activation=\"sigmoid\")(t)\n",
    "\n",
    "    model = keras.Model(inputs=tab_in, outputs=out)\n",
    "    model.compile(\n",
    "        optimizer=keras.optimizers.Adam(learning_rate=lr),\n",
    "        loss=\"binary_crossentropy\",\n",
    "        metrics=[keras.metrics.BinaryAccuracy(name=\"acc\"),\n",
    "                 keras.metrics.AUC(name=\"auc\")],\n",
    "    )\n",
    "    return model\n",
    "\n",
    "# =========================\n",
    "# Utilities\n",
    "# =========================\n",
    "def safe_roc_auc(y_true, probs):\n",
    "    try:\n",
    "        return roc_auc_score(y_true, probs)\n",
    "    except ValueError:\n",
    "        return float('nan')\n",
    "\n",
    "def plot_roc(y_true, probs, title, out_png):\n",
    "    try:\n",
    "        fpr, tpr, _ = roc_curve(y_true, probs)\n",
    "        plt.figure()\n",
    "        auc = safe_roc_auc(y_true, probs)\n",
    "        plt.plot(fpr, tpr, label=f\"AUC = {auc:.3f}\")\n",
    "        plt.plot([0,1],[0,1], linestyle=\"--\", linewidth=1)\n",
    "        plt.xlabel(\"False Positive Rate\")\n",
    "        plt.ylabel(\"True Positive Rate\")\n",
    "        plt.title(title)\n",
    "        plt.legend(loc=\"lower right\")\n",
    "        plt.grid(True, alpha=0.3)\n",
    "        plt.tight_layout()\n",
    "        plt.savefig(out_png, dpi=200)\n",
    "        plt.close()\n",
    "    except Exception as e:\n",
    "        print(f\"(Warning) ROC plot failed ({title}): {e}\")\n",
    "\n",
    "# =========================\n",
    "# 10-fold Cross-Validation by patient ID (stratified)\n",
    "# =========================\n",
    "skf = StratifiedKFold(n_splits=10, shuffle=True, random_state=SEED)\n",
    "\n",
    "fold_val_aucs, fold_val_accs = [], []\n",
    "fold_test_aucs, fold_test_accs = [], []\n",
    "fold_sizes = []\n",
    "\n",
    "for fold_idx, (train_index, test_index) in enumerate(skf.split(valid_ids, labels_all), start=1):\n",
    "    ids_train_full = [valid_ids[i] for i in train_index]\n",
    "    ids_test       = [valid_ids[i] for i in test_index]\n",
    "\n",
    "    # small validation split from training IDs (stratified, by ID)\n",
    "    train_labels_full = np.array([1 if pid in POS_PATIENTS else 0 for pid in ids_train_full], dtype=int)\n",
    "    ids_tr, ids_val = train_test_split(\n",
    "        ids_train_full, test_size=0.10, random_state=SEED,\n",
    "        stratify=train_labels_full\n",
    "    )\n",
    "\n",
    "    # Build file lists for this fold\n",
    "    train_files = [f for pid in ids_tr  for f in id_to_files[pid]]\n",
    "    val_files   = [f for pid in ids_val for f in id_to_files[pid]]\n",
    "    test_files  = [f for pid in ids_test for f in id_to_files[pid]]\n",
    "\n",
    "    print(f\"\\n--- Fold {fold_idx}/10 ---\")\n",
    "    def split_summary(name, ids, files):\n",
    "        ys = np.array([label_for_file(f) for f in files], dtype=int)\n",
    "        print(f\"{name:>6} | ids: {len(ids):4d} | files: {len(files):4d} | pos: {(ys==1).sum():4d} | neg: {(ys==0).sum():4d}\")\n",
    "    split_summary(\"train\", ids_tr,  train_files)\n",
    "    split_summary(\"val\",   ids_val, val_files)\n",
    "    split_summary(\"test\",  ids_test, test_files)\n",
    "\n",
    "    fold_sizes.append((len(train_files), len(val_files), len(test_files)))\n",
    "\n",
    "    # Generators\n",
    "    train_gen = TabSequence(train_files, batch_size=BATCH_SIZE, shuffle=True)\n",
    "    val_gen   = TabSequence(val_files,   batch_size=BATCH_SIZE, shuffle=False)\n",
    "\n",
    "    # Model + training\n",
    "    model = build_model()\n",
    "    best_path = f\"best_tab_only_fold{fold_idx}.h5\"\n",
    "    ckpt = keras.callbacks.ModelCheckpoint(\n",
    "        best_path, monitor=\"val_loss\", mode=\"min\", save_best_only=True, verbose=1\n",
    "    )\n",
    "\n",
    "    history = model.fit(\n",
    "        train_gen,\n",
    "        validation_data=val_gen,\n",
    "        epochs=EPOCHS,\n",
    "        callbacks=[ckpt],\n",
    "        verbose=1,\n",
    "    )\n",
    "\n",
    "    # Load best\n",
    "    best_model = keras.models.load_model(best_path)\n",
    "\n",
    "    # ====== VALIDATION METRICS (like previous script) ======\n",
    "    val_probs = best_model.predict(val_gen, verbose=0).ravel().astype(float)\n",
    "    val_ytrue = np.array([label_for_file(f) for f in val_gen.files], dtype=int)\n",
    "    val_auc = safe_roc_auc(val_ytrue, val_probs)\n",
    "    val_acc = accuracy_score(val_ytrue, (val_probs >= 0.5).astype(int))\n",
    "    fold_val_aucs.append(val_auc)\n",
    "    fold_val_accs.append(val_acc)\n",
    "    print(f\"Fold {fold_idx} | VAL  | AUC={val_auc:.4f} | ACC={val_acc:.4f} | n={len(val_ytrue)}\")\n",
    "    plot_roc(val_ytrue, val_probs,\n",
    "             title=f\"ROC — VAL Fold {fold_idx:02d} (n={len(val_ytrue)})\",\n",
    "             out_png=f\"roc_val_fold_{fold_idx:02d}.png\")\n",
    "\n",
    "    # ====== TEST METRICS (keeps your original test evaluation) ======\n",
    "    test_files2 = [f for f in test_files if patient_num_from_path(f) in ID_TO_FEAT]\n",
    "    X_tab_test = np.empty((len(test_files2), FEAT_DIM), dtype=np.float32)\n",
    "    for i, f in enumerate(test_files2):\n",
    "        X_tab_test[i] = ID_TO_FEAT[patient_num_from_path(f)]\n",
    "    y_true = np.array([label_for_file(f) for f in test_files2], dtype=int)\n",
    "\n",
    "    probs = best_model.predict({\"tab_input\": X_tab_test}, verbose=0).ravel().astype(float)\n",
    "    test_auc = safe_roc_auc(y_true, probs)\n",
    "    test_acc = accuracy_score(y_true, (probs >= 0.5).astype(int))\n",
    "    fold_test_aucs.append(test_auc)\n",
    "    fold_test_accs.append(test_acc)\n",
    "    print(f\"Fold {fold_idx} | TEST | AUC={test_auc:.4f} | ACC={test_acc:.4f} | n={len(y_true)}\")\n",
    "    plot_roc(y_true, probs,\n",
    "             title=f\"ROC — TEST Fold {fold_idx:02d} (n={len(y_true)})\",\n",
    "             out_png=f\"roc_test_fold_{fold_idx:02d}.png\")\n",
    "\n",
    "# =========================\n",
    "# Results across folds\n",
    "# =========================\n",
    "def mean_std(arr):\n",
    "    arr = np.asarray(arr, dtype=float)\n",
    "    return np.nanmean(arr), np.nanstd(arr)\n",
    "\n",
    "mAUC_val, sAUC_val = mean_std(fold_val_aucs)\n",
    "mACC_val, sACC_val = mean_std(fold_val_accs)\n",
    "mAUC_tst, sAUC_tst = mean_std(fold_test_aucs)\n",
    "mACC_tst, sACC_tst = mean_std(fold_test_accs)\n",
    "\n",
    "print(\"\\nPer-fold VAL  AUCs:\", [None if np.isnan(x) else round(x,4) for x in fold_val_aucs])\n",
    "print(\"Per-fold VAL  ACCs:\", [round(x,4) for x in fold_val_accs])\n",
    "print(\"Per-fold TEST AUCs:\", [None if np.isnan(x) else round(x,4) for x in fold_test_aucs])\n",
    "print(\"Per-fold TEST ACCs:\", [round(x,4) for x in fold_test_accs])\n",
    "\n",
    "print(f\"\\nVAL  AUC: {mAUC_val:.4f} ± {sAUC_val:.4f} | ACC: {mACC_val:.4f} ± {sACC_val:.4f}\")\n",
    "print(f\"TEST AUC: {mAUC_tst:.4f} ± {sAUC_tst:.4f} | ACC: {mACC_tst:.4f} ± {sACC_tst:.4f}\")\n",
    "\n",
    "# Save fold-wise metrics\n",
    "rows = []\n",
    "for i, (tr_n, va_n, te_n) in enumerate(fold_sizes, start=1):\n",
    "    rows.append({\n",
    "        \"fold\": i,\n",
    "        \"train_files\": tr_n,\n",
    "        \"val_files\": va_n,\n",
    "        \"test_files\": te_n,\n",
    "        \"val_auc\": fold_val_aucs[i-1],\n",
    "        \"val_acc\": fold_val_accs[i-1],\n",
    "        \"test_auc\": fold_test_aucs[i-1],\n",
    "        \"test_acc\": fold_test_accs[i-1],\n",
    "    })\n",
    "metrics_df = pd.DataFrame(rows)\n",
    "metrics_df.to_csv(\"cv_tabonly_fold_metrics.csv\", index=False)\n",
    "print(\"\\nSaved metrics to cv_tabonly_fold_metrics.csv and ROC plots to roc_val_fold_XX.png / roc_test_fold_XX.png\")\n"
   ]
  },
  {
   "cell_type": "code",
   "execution_count": 8,
   "id": "KUgcBvQhpHVE",
   "metadata": {
    "colab": {
     "base_uri": "https://localhost:8080/"
    },
    "id": "KUgcBvQhpHVE",
    "outputId": "dc753788-78ce-4d95-d3f1-e7793a35b2b6"
   },
   "outputs": [
    {
     "data": {
      "text/plain": [
       "[{'fold': 1,\n",
       "  'train_files': 904,\n",
       "  'val_files': 42,\n",
       "  'test_files': 254,\n",
       "  'val_auc': np.float64(1.0),\n",
       "  'val_acc': 0.9761904761904762,\n",
       "  'test_auc': np.float64(0.05537098560354374),\n",
       "  'test_acc': 0.6614173228346457},\n",
       " {'fold': 2,\n",
       "  'train_files': 1014,\n",
       "  'val_files': 106,\n",
       "  'test_files': 80,\n",
       "  'val_auc': np.float64(0.4117647058823529),\n",
       "  'val_acc': 0.6415094339622641,\n",
       "  'test_auc': np.float64(0.91),\n",
       "  'test_acc': 0.5},\n",
       " {'fold': 3,\n",
       "  'train_files': 978,\n",
       "  'val_files': 53,\n",
       "  'test_files': 169,\n",
       "  'val_auc': np.float64(1.0),\n",
       "  'val_acc': 0.9811320754716981,\n",
       "  'test_auc': np.float64(1.0),\n",
       "  'test_acc': 0.5207100591715976},\n",
       " {'fold': 4,\n",
       "  'train_files': 968,\n",
       "  'val_files': 181,\n",
       "  'test_files': 51,\n",
       "  'val_auc': np.float64(0.0),\n",
       "  'val_acc': 0.7900552486187845,\n",
       "  'test_auc': np.float64(1.0),\n",
       "  'test_acc': 0.9803921568627451},\n",
       " {'fold': 5,\n",
       "  'train_files': 996,\n",
       "  'val_files': 145,\n",
       "  'test_files': 59,\n",
       "  'val_auc': np.float64(0.4117647058823529),\n",
       "  'val_acc': 0.4689655172413793,\n",
       "  'test_auc': np.float64(1.0),\n",
       "  'test_acc': 0.6779661016949152},\n",
       " {'fold': 6,\n",
       "  'train_files': 927,\n",
       "  'val_files': 234,\n",
       "  'test_files': 39,\n",
       "  'val_auc': np.float64(1.0),\n",
       "  'val_acc': 0.6709401709401709,\n",
       "  'test_auc': np.float64(0.631578947368421),\n",
       "  'test_acc': 0.9743589743589743},\n",
       " {'fold': 7,\n",
       "  'train_files': 842,\n",
       "  'val_files': 220,\n",
       "  'test_files': 138,\n",
       "  'val_auc': np.float64(0.04895104895104896),\n",
       "  'val_acc': 0.65,\n",
       "  'test_auc': np.float64(0.15500000000000003),\n",
       "  'test_acc': 0.2246376811594203},\n",
       " {'fold': 8,\n",
       "  'train_files': 928,\n",
       "  'val_files': 192,\n",
       "  'test_files': 80,\n",
       "  'val_auc': np.float64(0.8956521739130434),\n",
       "  'val_acc': 0.5989583333333334,\n",
       "  'test_auc': np.float64(1.0),\n",
       "  'test_acc': 1.0},\n",
       " {'fold': 9,\n",
       "  'train_files': 844,\n",
       "  'val_files': 207,\n",
       "  'test_files': 149,\n",
       "  'val_auc': np.float64(0.9076923076923077),\n",
       "  'val_acc': 0.6280193236714976,\n",
       "  'test_auc': np.float64(1.0),\n",
       "  'test_acc': 1.0},\n",
       " {'fold': 10,\n",
       "  'train_files': 874,\n",
       "  'val_files': 145,\n",
       "  'test_files': 181,\n",
       "  'val_auc': np.float64(0.0),\n",
       "  'val_acc': 0.2,\n",
       "  'test_auc': np.float64(1.0),\n",
       "  'test_acc': 1.0}]"
      ]
     },
     "execution_count": 8,
     "metadata": {},
     "output_type": "execute_result"
    }
   ],
   "source": [
    "rows"
   ]
  },
  {
   "cell_type": "code",
   "execution_count": 10,
   "id": "sPOzCNAug4NW",
   "metadata": {
    "colab": {
     "base_uri": "https://localhost:8080/"
    },
    "id": "sPOzCNAug4NW",
    "outputId": "6977c8d4-7f03-4e7f-fad8-67af38b1eaaf"
   },
   "outputs": [
    {
     "name": "stdout",
     "output_type": "stream",
     "text": [
      "Mean TEST AUC: 0.7752\n",
      "Mean TEST ACC: 0.7539\n"
     ]
    }
   ],
   "source": [
    "\n",
    "test_auc = np.array([r[\"test_auc\"] for r in rows], dtype=float)\n",
    "test_acc = np.array([r[\"test_acc\"] for r in rows], dtype=float)\n",
    "\n",
    "print(f\"Mean TEST AUC: {np.nanmean(test_auc):.4f}\")\n",
    "print(f\"Mean TEST ACC: {np.nanmean(test_acc):.4f}\")\n"
   ]
  },
  {
   "cell_type": "code",
   "execution_count": null,
   "id": "xxOkMiS4g4SL",
   "metadata": {
    "id": "xxOkMiS4g4SL"
   },
   "outputs": [],
   "source": []
  },
  {
   "cell_type": "code",
   "execution_count": null,
   "id": "ksQMstdc-o-3",
   "metadata": {
    "id": "ksQMstdc-o-3"
   },
   "outputs": [],
   "source": []
  },
  {
   "cell_type": "code",
   "execution_count": null,
   "id": "JSdB6j-a-pDF",
   "metadata": {
    "id": "JSdB6j-a-pDF"
   },
   "outputs": [],
   "source": []
  },
  {
   "cell_type": "code",
   "execution_count": null,
   "id": "U7ouQnxD-pF_",
   "metadata": {
    "id": "U7ouQnxD-pF_"
   },
   "outputs": [],
   "source": []
  },
  {
   "cell_type": "code",
   "execution_count": null,
   "id": "WnjxgEPK-pIJ",
   "metadata": {
    "id": "WnjxgEPK-pIJ"
   },
   "outputs": [],
   "source": []
  },
  {
   "cell_type": "code",
   "execution_count": null,
   "id": "j28g8Lqp-pKy",
   "metadata": {
    "id": "j28g8Lqp-pKy"
   },
   "outputs": [],
   "source": []
  },
  {
   "cell_type": "code",
   "execution_count": null,
   "id": "DJbv-4-G-pMn",
   "metadata": {
    "id": "DJbv-4-G-pMn"
   },
   "outputs": [],
   "source": []
  },
  {
   "cell_type": "code",
   "execution_count": null,
   "id": "Cxtz-1Fo-pPP",
   "metadata": {
    "id": "Cxtz-1Fo-pPP"
   },
   "outputs": [],
   "source": []
  },
  {
   "cell_type": "code",
   "execution_count": null,
   "id": "JinSNJgh-pRf",
   "metadata": {
    "id": "JinSNJgh-pRf"
   },
   "outputs": [],
   "source": []
  },
  {
   "cell_type": "code",
   "execution_count": null,
   "id": "ywg21ljv-pcL",
   "metadata": {
    "id": "ywg21ljv-pcL"
   },
   "outputs": [],
   "source": []
  },
  {
   "cell_type": "code",
   "execution_count": null,
   "id": "Jl01Xhpa-pfL",
   "metadata": {
    "id": "Jl01Xhpa-pfL"
   },
   "outputs": [],
   "source": []
  },
  {
   "cell_type": "code",
   "execution_count": null,
   "id": "ErNrKHRm-pg_",
   "metadata": {
    "id": "ErNrKHRm-pg_"
   },
   "outputs": [],
   "source": []
  },
  {
   "cell_type": "code",
   "execution_count": null,
   "id": "IElgvqQj-pit",
   "metadata": {
    "id": "IElgvqQj-pit"
   },
   "outputs": [],
   "source": []
  },
  {
   "cell_type": "code",
   "execution_count": null,
   "id": "-TADzyG9-pnO",
   "metadata": {
    "id": "-TADzyG9-pnO"
   },
   "outputs": [],
   "source": []
  },
  {
   "cell_type": "code",
   "execution_count": null,
   "id": "miiDblbz-ppC",
   "metadata": {
    "id": "miiDblbz-ppC"
   },
   "outputs": [],
   "source": []
  },
  {
   "cell_type": "code",
   "execution_count": null,
   "id": "Bnp7fHxm-pqu",
   "metadata": {
    "id": "Bnp7fHxm-pqu"
   },
   "outputs": [],
   "source": []
  },
  {
   "cell_type": "code",
   "execution_count": null,
   "id": "UiQbsLv47Xu-",
   "metadata": {
    "id": "UiQbsLv47Xu-"
   },
   "outputs": [],
   "source": []
  },
  {
   "cell_type": "code",
   "execution_count": null,
   "id": "hhAiYZZVGIsM",
   "metadata": {
    "id": "hhAiYZZVGIsM"
   },
   "outputs": [],
   "source": []
  },
  {
   "cell_type": "code",
   "execution_count": null,
   "id": "EWQ7UG7zGIuj",
   "metadata": {
    "id": "EWQ7UG7zGIuj"
   },
   "outputs": [],
   "source": []
  },
  {
   "cell_type": "code",
   "execution_count": null,
   "id": "hUObArfBGIw5",
   "metadata": {
    "id": "hUObArfBGIw5"
   },
   "outputs": [],
   "source": []
  },
  {
   "cell_type": "code",
   "execution_count": null,
   "id": "ln5ftwRAGI0C",
   "metadata": {
    "id": "ln5ftwRAGI0C"
   },
   "outputs": [],
   "source": []
  },
  {
   "cell_type": "code",
   "execution_count": null,
   "id": "jgczkpH8GI2s",
   "metadata": {
    "id": "jgczkpH8GI2s"
   },
   "outputs": [],
   "source": []
  },
  {
   "cell_type": "code",
   "execution_count": null,
   "id": "CFxtsYm4DJxo",
   "metadata": {
    "id": "CFxtsYm4DJxo"
   },
   "outputs": [],
   "source": []
  },
  {
   "cell_type": "code",
   "execution_count": null,
   "id": "zIo_rXgnDJzw",
   "metadata": {
    "id": "zIo_rXgnDJzw"
   },
   "outputs": [],
   "source": []
  },
  {
   "cell_type": "code",
   "execution_count": null,
   "id": "N4iBf4B0DJ14",
   "metadata": {
    "id": "N4iBf4B0DJ14"
   },
   "outputs": [],
   "source": []
  },
  {
   "cell_type": "code",
   "execution_count": null,
   "id": "mGuWgjhCDJ5y",
   "metadata": {
    "id": "mGuWgjhCDJ5y"
   },
   "outputs": [],
   "source": []
  },
  {
   "cell_type": "code",
   "execution_count": null,
   "id": "mtPQw2LIDJ8A",
   "metadata": {
    "id": "mtPQw2LIDJ8A"
   },
   "outputs": [],
   "source": []
  },
  {
   "cell_type": "code",
   "execution_count": null,
   "id": "VRIqcx7HDJ9m",
   "metadata": {
    "id": "VRIqcx7HDJ9m"
   },
   "outputs": [],
   "source": []
  },
  {
   "cell_type": "code",
   "execution_count": null,
   "id": "HfhdGuLEDJ_u",
   "metadata": {
    "id": "HfhdGuLEDJ_u"
   },
   "outputs": [],
   "source": []
  }
 ],
 "metadata": {
  "accelerator": "GPU",
  "colab": {
   "gpuType": "L4",
   "machine_shape": "hm",
   "provenance": []
  },
  "kernelspec": {
   "display_name": "Python [conda env:base] *",
   "language": "python",
   "name": "conda-base-py"
  },
  "language_info": {
   "codemirror_mode": {
    "name": "ipython",
    "version": 3
   },
   "file_extension": ".py",
   "mimetype": "text/x-python",
   "name": "python",
   "nbconvert_exporter": "python",
   "pygments_lexer": "ipython3",
   "version": "3.12.3"
  }
 },
 "nbformat": 4,
 "nbformat_minor": 5
}
