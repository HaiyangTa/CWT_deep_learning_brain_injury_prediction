{
  "cells": [
    {
      "cell_type": "code",
      "execution_count": null,
      "id": "8f5a4f5b-bad9-49e3-8dd6-7304666df443",
      "metadata": {
        "id": "8f5a4f5b-bad9-49e3-8dd6-7304666df443"
      },
      "outputs": [],
      "source": [
        "import torch\n",
        "import torch.nn as nn\n",
        "import torch.optim as optim\n",
        "import torch.backends.cudnn as cudnn\n",
        "import torchvision\n",
        "import torchvision.transforms as transforms\n",
        "import os\n",
        "import argparse\n",
        "from pathlib import Path\n",
        "import re\n",
        "import random\n",
        "import math\n",
        "import numpy as np\n",
        "import pandas as pd\n",
        "from sklearn.model_selection import train_test_split\n",
        "from sklearn.metrics import accuracy_score, roc_auc_score, classification_report, confusion_matrix\n",
        "from torch.utils.data import Dataset, DataLoader\n",
        "import pandas as pd"
      ]
    },
    {
      "cell_type": "code",
      "execution_count": null,
      "id": "dr2Fm7p5mAAN",
      "metadata": {
        "colab": {
          "base_uri": "https://localhost:8080/"
        },
        "id": "dr2Fm7p5mAAN",
        "outputId": "15a5a540-2acd-4b4c-d8b8-0a6c334caba7"
      },
      "outputs": [
        {
          "output_type": "stream",
          "name": "stdout",
          "text": [
            "Mounted at /content/drive\n"
          ]
        }
      ],
      "source": [
        "from google.colab import drive\n",
        "drive.mount('/content/drive')"
      ]
    },
    {
      "cell_type": "code",
      "source": [],
      "metadata": {
        "id": "gUHWAH8qdC05"
      },
      "id": "gUHWAH8qdC05",
      "execution_count": null,
      "outputs": []
    },
    {
      "cell_type": "code",
      "source": [],
      "metadata": {
        "id": "L2wH-XagdC3h"
      },
      "id": "L2wH-XagdC3h",
      "execution_count": null,
      "outputs": []
    },
    {
      "cell_type": "markdown",
      "source": [
        "### Reading the BF data"
      ],
      "metadata": {
        "id": "51Qe0XC1X2Ju"
      },
      "id": "51Qe0XC1X2Ju"
    },
    {
      "cell_type": "code",
      "source": [
        "bf_path = '/content/drive/MyDrive/ALL_CLEAN_DEIDEN_NAME AND ECMO DATA(Sheet1) (1) (version 2).csv'\n",
        "cols = ['ID', 'age_days', 'weight', 'study_height', 'Diagnosis']\n",
        "df = pd.read_csv(bf_path, usecols=cols)\n",
        "\n",
        "for col in ['weight', 'study_height', 'age_days']:\n",
        "    s = pd.to_numeric(df[col], errors='coerce')\n",
        "    mx = s.max(skipna=True)\n",
        "    if pd.notna(mx) and mx != 0:\n",
        "        df[col] = s / mx\n",
        "    else:\n",
        "        df[col] = s\n",
        "print(df.head())"
      ],
      "metadata": {
        "colab": {
          "base_uri": "https://localhost:8080/"
        },
        "id": "eI4st7P3X51D",
        "outputId": "46d4fbda-49ea-48a5-fee3-f3d0e667e2a1"
      },
      "id": "eI4st7P3X51D",
      "execution_count": null,
      "outputs": [
        {
          "output_type": "stream",
          "name": "stdout",
          "text": [
            "   ID  age_days            Diagnosis    weight  study_height\n",
            "0   1  0.018213       Cardiac Arrest  0.042214      0.344538\n",
            "1   2  0.072852       Cardiac Arrest  0.070000      0.431373\n",
            "2   3  0.793776               Sepsis  0.403571      0.896359\n",
            "3   4  0.000287  Respiratory Failure  0.022786      0.268908\n",
            "4   5  0.000287  Respiratory Failure  0.023571      0.285714\n"
          ]
        }
      ]
    },
    {
      "cell_type": "code",
      "source": [
        "diag_clean = (\n",
        "    df['Diagnosis']\n",
        "      .astype('string')\n",
        "      .str.strip()\n",
        "      .str.replace(r'\\s+', ' ', regex=True)\n",
        "      .fillna('Unknown')\n",
        ")\n",
        "\n",
        "codes, uniques = pd.factorize(diag_clean, sort=True)\n",
        "df['Diagnosis'] = codes.astype('int64')\n",
        "diagnosis_mapping = {cat: int(i) for i, cat in enumerate(uniques)}\n",
        "print(\"Diagnosis mapping (category -> code):\", diagnosis_mapping)\n",
        "\n",
        "# Peek\n",
        "print(df.head())"
      ],
      "metadata": {
        "colab": {
          "base_uri": "https://localhost:8080/"
        },
        "id": "6KRSpwpSX53j",
        "outputId": "dc8f5a54-6f59-47d2-fd6e-1cb8e7ff5b1d"
      },
      "id": "6KRSpwpSX53j",
      "execution_count": null,
      "outputs": [
        {
          "output_type": "stream",
          "name": "stdout",
          "text": [
            "Diagnosis mapping (category -> code): {'Cardiac Arrest': 0, 'Cardiogenic Shock': 1, 'Respiratory Failure': 2, 'Respiratory Failure, Cardiac Arrest': 3, 'Sepsis': 4, 'Septic shock': 5}\n",
            "   ID  age_days  Diagnosis    weight  study_height\n",
            "0   1  0.018213          0  0.042214      0.344538\n",
            "1   2  0.072852          0  0.070000      0.431373\n",
            "2   3  0.793776          4  0.403571      0.896359\n",
            "3   4  0.000287          2  0.022786      0.268908\n",
            "4   5  0.000287          2  0.023571      0.285714\n"
          ]
        }
      ]
    },
    {
      "cell_type": "code",
      "source": [
        "df.shape"
      ],
      "metadata": {
        "colab": {
          "base_uri": "https://localhost:8080/"
        },
        "id": "Z5Jnj3X_X5_P",
        "outputId": "69fb76c9-dbe6-4c93-f4a3-c737023c3fa2"
      },
      "id": "Z5Jnj3X_X5_P",
      "execution_count": null,
      "outputs": [
        {
          "output_type": "execute_result",
          "data": {
            "text/plain": [
              "(73, 5)"
            ]
          },
          "metadata": {},
          "execution_count": 5
        }
      ]
    },
    {
      "cell_type": "code",
      "source": [],
      "metadata": {
        "id": "Z-Q3ZaH-X6EY"
      },
      "id": "Z-Q3ZaH-X6EY",
      "execution_count": null,
      "outputs": []
    },
    {
      "cell_type": "code",
      "source": [],
      "metadata": {
        "id": "REn1fKi1pHMT"
      },
      "id": "REn1fKi1pHMT",
      "execution_count": null,
      "outputs": []
    },
    {
      "cell_type": "markdown",
      "source": [
        "### No normalization!"
      ],
      "metadata": {
        "id": "vCi0eO54p2NW"
      },
      "id": "vCi0eO54p2NW"
    },
    {
      "cell_type": "code",
      "source": [
        "from pathlib import Path\n",
        "import re, random, math, os\n",
        "import numpy as np\n",
        "import pandas as pd\n",
        "\n",
        "from sklearn.metrics import roc_auc_score\n",
        "from sklearn.model_selection import StratifiedKFold\n",
        "\n",
        "import tensorflow as tf\n",
        "from tensorflow import keras\n",
        "from tensorflow.keras import layers\n",
        "\n",
        "# =========================\n",
        "# Config\n",
        "# =========================\n",
        "SPLIT_DIR = r\"/content/drive/MyDrive/CD/patient_data_clean_nozero_181920212223_1800\"\n",
        "POS_PATIENTS = {1, 2, 16, 19, 21, 22, 25, 37, 39, 43, 44, 47, 50, 56, 58, 62, 65, 66, 73, 78}\n",
        "\n",
        "BATCH_SIZE       = 3\n",
        "EPOCHS           = 100\n",
        "LR               = 1e-4\n",
        "SEED             = 110\n",
        "K_FOLDS          = 10\n",
        "\n",
        "# (kept for reference; not used to fix height)\n",
        "TARGET_H = 400\n",
        "\n",
        "# =========================\n",
        "# Noise config (train-time augmentation only, EEG input only)\n",
        "# =========================\n",
        "TRAIN_ADD_GAUSS_NOISE = True\n",
        "TRAIN_NOISE_FRAC      = 0.0\n",
        "TRAIN_NOISE_PROB      = 1.0\n",
        "EPS_STD               = 1e-8\n",
        "\n",
        "# =========================\n",
        "# Repro\n",
        "# =========================\n",
        "random.seed(SEED)\n",
        "np.random.seed(SEED)\n",
        "tf.random.set_seed(SEED)\n",
        "os.environ[\"PYTHONHASHSEED\"] = str(SEED)\n",
        "for g in tf.config.list_physical_devices('GPU'):\n",
        "    try: tf.config.experimental.set_memory_growth(g, True)\n",
        "    except Exception: pass\n",
        "\n",
        "# =========================\n",
        "# Helpers\n",
        "# =========================\n",
        "PATIENT_NUM_RX = re.compile(r'^ID(\\d+)')          # e.g., \"ID76-2_...\" -> 76\n",
        "def patient_num_from_path(pathlike):\n",
        "    stem = Path(pathlike).stem\n",
        "    m = PATIENT_NUM_RX.match(stem)\n",
        "    return int(m.group(1)) if m else None\n",
        "\n",
        "def label_for_id(pid: int) -> int:\n",
        "    return 1 if pid in POS_PATIENTS else 0\n",
        "\n",
        "def label_for_file(p: Path) -> int:\n",
        "    pid = patient_num_from_path(p)\n",
        "    return label_for_id(pid) if pid is not None else 0\n",
        "\n",
        "# =========================\n",
        "# Load your existing 3-feature DataFrame: must exist as `df`\n",
        "# Columns: 'ID' + exactly 3 feature columns\n",
        "# =========================\n",
        "feats_df = df.copy()\n",
        "if \"ID\" not in feats_df.columns:\n",
        "    raise RuntimeError(\"Your features DataFrame must contain column 'ID'.\")\n",
        "\n",
        "FEAT_COLS = [c for c in feats_df.columns if c != \"ID\"]\n",
        "#if len(FEAT_COLS) != 3:\n",
        "#    raise RuntimeError(f\"Expected exactly 3 feature columns besides 'ID', found {len(FEAT_COLS)}: {FEAT_COLS}\")\n",
        "\n",
        "# Clean and index by ID; drop rows with missing any of the 3 features\n",
        "feats_df[\"ID\"] = pd.to_numeric(feats_df[\"ID\"], errors=\"coerce\").astype(\"Int64\")\n",
        "feats_df = feats_df.dropna(subset=[\"ID\"] + FEAT_COLS).copy()\n",
        "feats_df[\"ID\"] = feats_df[\"ID\"].astype(int)\n",
        "ID_TO_FEAT = {\n",
        "    int(row[\"ID\"]): row[FEAT_COLS].astype(\"float32\").to_numpy()\n",
        "    for _, row in feats_df.iterrows()\n",
        "}\n",
        "FEAT_DIM = len(FEAT_COLS)\n",
        "print(\"FEAT_DIM =\", FEAT_DIM)\n",
        "\n",
        "# =========================\n",
        "# Enumerate EEG files and keep only IDs present in features\n",
        "# =========================\n",
        "split_dir = Path(SPLIT_DIR)\n",
        "all_csvs = sorted(split_dir.glob(\"*.csv\"))\n",
        "if not all_csvs:\n",
        "    raise FileNotFoundError(f\"No CSV found in {SPLIT_DIR}\")\n",
        "\n",
        "id_to_files = {}\n",
        "for f in all_csvs:\n",
        "    pid = patient_num_from_path(f)\n",
        "    if pid is None:\n",
        "        continue\n",
        "    if pid in ID_TO_FEAT:  # keep only IDs with features\n",
        "        id_to_files.setdefault(pid, []).append(f)\n",
        "\n",
        "valid_ids = sorted(id_to_files.keys())\n",
        "y_ids = np.array([label_for_id(pid) for pid in valid_ids], dtype=int)\n",
        "print(\"Total valid IDs:\", len(valid_ids), \"| Pos:\", y_ids.sum(), \"| Neg:\", (1-y_ids).sum())\n",
        "\n",
        "# =========================\n",
        "# Utilities for loading & shaping EEG (de-dup consecutive rows)\n",
        "# =========================\n",
        "import pandas as pd\n",
        "import numpy as np\n",
        "\n",
        "def _drop_time_cols(df: pd.DataFrame) -> pd.DataFrame:\n",
        "    time_like = [c for c in df.columns if isinstance(c, str) and c.strip().lower() == \"time\"]\n",
        "    return df.drop(columns=time_like, errors=\"ignore\")\n",
        "\n",
        "def _to_numeric_df(df: pd.DataFrame) -> pd.DataFrame:\n",
        "    df = _drop_time_cols(df)\n",
        "    return df.apply(pd.to_numeric, errors=\"coerce\").fillna(0.0)\n",
        "\n",
        "def _pad_crop_2d(x: np.ndarray, H: int, W: int) -> np.ndarray:\n",
        "    h, w = x.shape\n",
        "    if h < H:\n",
        "        pad = np.zeros((H, w), dtype=x.dtype); pad[:h, :] = x; x = pad; h = H\n",
        "    elif h > H:\n",
        "        x = x[:H, :]; h = H\n",
        "    if w < W:\n",
        "        pad = np.zeros((h, W), dtype=x.dtype); pad[:, :w] = x; x = pad\n",
        "    elif w > W:\n",
        "        x = x[:, :W]\n",
        "    return x\n",
        "\n",
        "def _dedupe_consecutive_rows(mat: np.ndarray) -> np.ndarray:\n",
        "    if mat.size == 0:\n",
        "        return mat\n",
        "    if mat.ndim == 1:\n",
        "        mat = mat[:, None]\n",
        "    if mat.shape[0] == 1:\n",
        "        return mat\n",
        "    diffs = np.any(mat[1:] != mat[:-1], axis=1)\n",
        "    keep = np.concatenate(([True], diffs))\n",
        "    return mat[keep]\n",
        "\n",
        "def _infer_target_width(example_csv: Path) -> int:\n",
        "    df = pd.read_csv(example_csv)\n",
        "    df2 = _to_numeric_df(df)\n",
        "    return df2.shape[1]\n",
        "\n",
        "# Width is fixed by columns in first sample\n",
        "TARGET_W = _infer_target_width(id_to_files[valid_ids[0]][0])\n",
        "print(f\"TARGET_W={TARGET_W} (non-Time columns)\")\n",
        "\n",
        "# Height: max de-dup length across ALL eligible files (fixed for all folds)\n",
        "def _dedup_len_from_csv(p: Path) -> int:\n",
        "    df = pd.read_csv(p)\n",
        "    mat = _to_numeric_df(df).to_numpy(dtype=np.float32)\n",
        "    mat_d = _dedupe_consecutive_rows(mat)\n",
        "    return int(mat_d.shape[0])\n",
        "\n",
        "ALL_ELIGIBLE_FILES = [f for pid in valid_ids for f in id_to_files[pid]]\n",
        "TARGET_H_DEDUP = max(_dedup_len_from_csv(f) for f in ALL_ELIGIBLE_FILES)\n",
        "if TARGET_H_DEDUP <= 0:\n",
        "    raise RuntimeError(\"After de-dup, zero-length found in data.\")\n",
        "print(f\"Fixed input height after de-dup (all IDs): H={TARGET_H_DEDUP}\")\n",
        "\n",
        "def load_csv_as_image_dedup(csv_path: Path) -> np.ndarray:\n",
        "    df  = pd.read_csv(csv_path)\n",
        "    df2 = _to_numeric_df(df)\n",
        "    mat = df2.to_numpy(dtype=np.float32)\n",
        "    if mat.ndim != 2:\n",
        "        mat = mat.reshape(mat.shape[0], -1) if mat.ndim > 2 else mat\n",
        "    mat = _dedupe_consecutive_rows(mat)\n",
        "    if mat.shape[0] == 0:\n",
        "        mat = np.zeros((1, TARGET_W), dtype=np.float32)\n",
        "    mat = _pad_crop_2d(mat, TARGET_H_DEDUP, TARGET_W)\n",
        "    img = np.expand_dims(mat, axis=-1).astype(np.float32)  # (H, W, 1)\n",
        "    if img.shape != (TARGET_H_DEDUP, TARGET_W, 1):\n",
        "        raise ValueError(f\"loader produced {img.shape}, expected {(TARGET_H_DEDUP, TARGET_W, 1)}\")\n",
        "    return img\n",
        "\n",
        "CACHE_DEDUP = {}\n",
        "def load_csv_as_image_cached(csv_path: Path) -> np.ndarray:\n",
        "    key = str(csv_path)\n",
        "    if key in CACHE_DEDUP:\n",
        "        return CACHE_DEDUP[key]\n",
        "    img = load_csv_as_image_dedup(csv_path)\n",
        "    CACHE_DEDUP[key] = img\n",
        "    return img\n",
        "\n",
        "# =========================\n",
        "# Keras Sequence — returns ({\"eeg_input\": X_img, \"tab_input\": X_tab}, y)\n",
        "# =========================\n",
        "class ImageSequence(keras.utils.Sequence):\n",
        "    def __init__(self, files, batch_size=BATCH_SIZE, shuffle=True,\n",
        "                 add_noise=False, noise_frac=TRAIN_NOISE_FRAC, noise_prob=TRAIN_NOISE_PROB):\n",
        "        super().__init__()\n",
        "        # keep only files whose patient ID has features (already ensured by id_to_files)\n",
        "        self.files = list(files)\n",
        "        self.batch_size = int(batch_size)\n",
        "        self.shuffle = shuffle\n",
        "        self.add_noise = add_noise\n",
        "        self.noise_frac = float(noise_frac)\n",
        "        self.noise_prob = float(noise_prob)\n",
        "        self.on_epoch_end()\n",
        "\n",
        "    def __len__(self):\n",
        "        return math.ceil(len(self.files) / self.batch_size)\n",
        "\n",
        "    def on_epoch_end(self):\n",
        "        self.indexes = np.arange(len(self.files))\n",
        "        if self.shuffle:\n",
        "            np.random.shuffle(self.indexes)\n",
        "\n",
        "    def __getitem__(self, idx):\n",
        "        idxs = self.indexes[idx * self.batch_size : (idx + 1) * self.batch_size]\n",
        "        batch_files = [self.files[i] for i in idxs]\n",
        "        B = len(batch_files)\n",
        "\n",
        "        X_img = np.empty((B, TARGET_H_DEDUP, TARGET_W, 1), dtype=np.float32)\n",
        "        X_tab = np.empty((B, FEAT_DIM), dtype=np.float32)\n",
        "        y     = np.empty((B,), dtype=np.int32)\n",
        "\n",
        "        for i, f in enumerate(batch_files):\n",
        "            xi = load_csv_as_image_cached(f)\n",
        "            if xi.ndim == 2:\n",
        "                xi = xi[..., None]\n",
        "            if xi.shape != (TARGET_H_DEDUP, TARGET_W, 1):\n",
        "                raise ValueError(f\"Sample shape {xi.shape} for {f}\")\n",
        "            X_img[i] = xi\n",
        "            pid = patient_num_from_path(f)\n",
        "            X_tab[i] = ID_TO_FEAT[pid]\n",
        "            y[i] = label_for_file(f)\n",
        "\n",
        "        # Gaussian noise on EEG only (train)\n",
        "        if self.add_noise and self.noise_frac > 0.0 and self.noise_prob > 0.0:\n",
        "            samp_std = X_img.reshape(B, -1).std(axis=1).astype(np.float32)\n",
        "            samp_std = np.maximum(samp_std, EPS_STD).reshape(B, 1, 1, 1)\n",
        "            noise = np.random.normal(0.0, 1.0, size=X_img.shape).astype(np.float32)\n",
        "            noise *= (self.noise_frac * samp_std)\n",
        "            if self.noise_prob < 1.0:\n",
        "                mask = (np.random.rand(B, 1, 1, 1) < self.noise_prob).astype(np.float32)\n",
        "                noise *= mask\n",
        "            X_img = X_img + noise\n",
        "\n",
        "        return {\"eeg_input\": X_img, \"tab_input\": X_tab}, y\n",
        "\n",
        "# =========================\n",
        "# Two-input Model: CNN (EEG) + MLP (3 features: 3 -> 8 -> 8)\n",
        "# =========================\n",
        "def build_model(h=TARGET_H_DEDUP, w=TARGET_W, c=1, lr=LR,\n",
        "                growth_rate=4, block_layers=(2,2,2,2),\n",
        "                compression=0.5, dropout=0.2, tab_dim=FEAT_DIM):\n",
        "\n",
        "    eeg_in = keras.Input(shape=(h, w, c), name=\"eeg_input\")\n",
        "\n",
        "    def bn_relu_conv(x, filters, ksize, stride=1):\n",
        "        x = layers.ReLU()(x)\n",
        "        x = layers.Conv2D(filters, ksize, strides=stride, padding=\"same\", use_bias=False)(x)\n",
        "        return x\n",
        "\n",
        "    def dense_layer(x):\n",
        "        y = bn_relu_conv(x, 4 * growth_rate, 1)\n",
        "        y = bn_relu_conv(y, growth_rate, 3)\n",
        "        return layers.Concatenate()([x, y])\n",
        "\n",
        "    def dense_block(x, L):\n",
        "        for _ in range(L):\n",
        "            x = dense_layer(x)\n",
        "        return x\n",
        "\n",
        "    def transition_layer(x):\n",
        "        filters = max(8, int(int(x.shape[-1]) * compression))\n",
        "        x = bn_relu_conv(x, filters, 1)\n",
        "        return layers.AveragePooling2D(pool_size=(2, 2), strides=2, padding=\"same\")(x)\n",
        "\n",
        "    x = layers.Conv2D(32, 3, padding=\"same\", use_bias=False)(eeg_in)\n",
        "    x = layers.ReLU()(x)\n",
        "    for i, L in enumerate(block_layers):\n",
        "        x = dense_block(x, L)\n",
        "        if i != len(block_layers) - 1:\n",
        "            x = transition_layer(x)\n",
        "    x = layers.GlobalAveragePooling2D()(x)  # (B, F_eeg)\n",
        "\n",
        "    tab_in = keras.Input(shape=(tab_dim,), name=\"tab_input\")\n",
        "    t = layers.Dense(8, activation=\"relu\")(tab_in)\n",
        "    t = layers.Dense(8, activation=\"relu\")(t)\n",
        "\n",
        "    z = layers.Concatenate()([x, t])\n",
        "    z = layers.Dense(128, activation=\"relu\")(z)\n",
        "    z = layers.Dropout(dropout)(z)\n",
        "    out = layers.Dense(1, activation=\"sigmoid\")(z)\n",
        "\n",
        "    model = keras.Model(inputs=[eeg_in, tab_in], outputs=out)\n",
        "    model.compile(\n",
        "        optimizer=keras.optimizers.Adam(learning_rate=lr),\n",
        "        loss=\"binary_crossentropy\",\n",
        "        metrics=[keras.metrics.BinaryAccuracy(name=\"acc\"),\n",
        "                 keras.metrics.AUC(name=\"auc\")],\n",
        "    )\n",
        "    return model\n",
        "\n",
        "# =========================\n",
        "# Build folds by ID (stratified)\n",
        "# =========================\n",
        "valid_ids_arr = np.array(valid_ids)\n",
        "labels_arr = np.array([label_for_id(pid) for pid in valid_ids_arr], dtype=int)\n",
        "\n",
        "skf = StratifiedKFold(n_splits=K_FOLDS, shuffle=True, random_state=SEED)\n",
        "fold_aucs = []\n",
        "\n",
        "print(\"\\n=== 10-Fold CV (by patient ID) ===\")\n",
        "for fold_idx, (train_idx, val_idx) in enumerate(skf.split(valid_ids_arr, labels_arr), start=1):\n",
        "    train_ids = set(valid_ids_arr[train_idx].tolist())\n",
        "    val_ids   = set(valid_ids_arr[val_idx].tolist())\n",
        "\n",
        "    # list files for this fold\n",
        "    train_files = [f for pid in train_ids for f in id_to_files[pid]]\n",
        "    val_files   = [f for pid in val_ids   for f in id_to_files[pid]]\n",
        "\n",
        "    # Generators\n",
        "    train_gen = ImageSequence(train_files, batch_size=BATCH_SIZE, shuffle=True,\n",
        "                              add_noise=TRAIN_ADD_GAUSS_NOISE)\n",
        "    val_gen   = ImageSequence(val_files,   batch_size=BATCH_SIZE, shuffle=False,\n",
        "                              add_noise=False)\n",
        "\n",
        "    # Model & training\n",
        "    model = build_model()\n",
        "    ckpt_path = f\"best_fold_{fold_idx:02d}.h5\"\n",
        "    ckpt = keras.callbacks.ModelCheckpoint(\n",
        "        ckpt_path, monitor=\"val_loss\", mode=\"min\", save_best_only=True, verbose=0\n",
        "    )\n",
        "    hist = model.fit(\n",
        "        train_gen,\n",
        "        validation_data=val_gen,\n",
        "        epochs=EPOCHS,\n",
        "        callbacks=[ckpt],\n",
        "        verbose=0,\n",
        "    )\n",
        "\n",
        "    # Load best and evaluate AUC on this fold's validation files\n",
        "    best_model = keras.models.load_model(ckpt_path)\n",
        "    # predictions\n",
        "    probs = best_model.predict(val_gen, verbose=0).ravel().astype(float)\n",
        "    # true labels align with val_gen.files order\n",
        "    y_true = np.array([label_for_file(f) for f in val_gen.files], dtype=int)\n",
        "\n",
        "    try:\n",
        "        auc = roc_auc_score(y_true, probs)\n",
        "    except ValueError:\n",
        "        auc = float('nan')\n",
        "\n",
        "    fold_aucs.append(auc)\n",
        "    print(f\"Fold {fold_idx:2d} | IDs val={len(val_ids):3d} | files val={len(val_files):4d} | AUC={auc:.4f}\")\n",
        "\n",
        "# =========================\n",
        "# Results across folds\n",
        "# =========================\n",
        "print(\"\\nPer-fold AUCs:\")\n",
        "for i, a in enumerate(fold_aucs, start=1):\n",
        "    if np.isnan(a):\n",
        "        print(f\"  Fold {i:2d}: NaN\")\n",
        "    else:\n",
        "        print(f\"  Fold {i:2d}: {a:.4f}\")\n",
        "\n",
        "valid_aucs = [a for a in fold_aucs if not np.isnan(a)]\n",
        "print(\"\\nAUCs list:\", fold_aucs)\n",
        "if valid_aucs:\n",
        "    print(f\"Mean AUC: {np.mean(valid_aucs):.4f} ± {np.std(valid_aucs):.4f}\")\n",
        "    print(f\"Min/Max AUC: {np.min(valid_aucs):.4f} / {np.max(valid_aucs):.4f}\")\n",
        "else:\n",
        "    print(\"All AUCs are NaN; cannot compute summary statistics.\")\n"
      ],
      "metadata": {
        "colab": {
          "base_uri": "https://localhost:8080/"
        },
        "id": "lD7pVdaPpHPi",
        "outputId": "f483ce7a-35fc-47aa-b3e2-ccf0f82a3ac8"
      },
      "id": "lD7pVdaPpHPi",
      "execution_count": null,
      "outputs": [
        {
          "output_type": "stream",
          "name": "stdout",
          "text": [
            "FEAT_DIM = 4\n",
            "Total valid IDs: 44 | Pos: 14 | Neg: 30\n",
            "TARGET_W=6 (non-Time columns)\n",
            "Fixed input height after de-dup (all IDs): H=360\n",
            "\n",
            "=== 10-Fold CV (by patient ID) ===\n"
          ]
        },
        {
          "output_type": "stream",
          "name": "stderr",
          "text": [
            "WARNING:absl:You are saving your model as an HDF5 file via `model.save()` or `keras.saving.save_model(model)`. This file format is considered legacy. We recommend using instead the native Keras format, e.g. `model.save('my_model.keras')` or `keras.saving.save_model(model, 'my_model.keras')`. \n",
            "WARNING:absl:Compiled the loaded model, but the compiled metrics have yet to be built. `model.compile_metrics` will be empty until you train or evaluate the model.\n"
          ]
        },
        {
          "output_type": "stream",
          "name": "stdout",
          "text": [
            "Fold  1 | IDs val=  5 | files val= 215 | AUC=0.4571\n"
          ]
        },
        {
          "output_type": "stream",
          "name": "stderr",
          "text": [
            "WARNING:absl:You are saving your model as an HDF5 file via `model.save()` or `keras.saving.save_model(model)`. This file format is considered legacy. We recommend using instead the native Keras format, e.g. `model.save('my_model.keras')` or `keras.saving.save_model(model, 'my_model.keras')`. \n",
            "WARNING:absl:You are saving your model as an HDF5 file via `model.save()` or `keras.saving.save_model(model)`. This file format is considered legacy. We recommend using instead the native Keras format, e.g. `model.save('my_model.keras')` or `keras.saving.save_model(model, 'my_model.keras')`. \n",
            "WARNING:absl:You are saving your model as an HDF5 file via `model.save()` or `keras.saving.save_model(model)`. This file format is considered legacy. We recommend using instead the native Keras format, e.g. `model.save('my_model.keras')` or `keras.saving.save_model(model, 'my_model.keras')`. \n",
            "WARNING:absl:You are saving your model as an HDF5 file via `model.save()` or `keras.saving.save_model(model)`. This file format is considered legacy. We recommend using instead the native Keras format, e.g. `model.save('my_model.keras')` or `keras.saving.save_model(model, 'my_model.keras')`. \n",
            "WARNING:absl:You are saving your model as an HDF5 file via `model.save()` or `keras.saving.save_model(model)`. This file format is considered legacy. We recommend using instead the native Keras format, e.g. `model.save('my_model.keras')` or `keras.saving.save_model(model, 'my_model.keras')`. \n",
            "WARNING:absl:You are saving your model as an HDF5 file via `model.save()` or `keras.saving.save_model(model)`. This file format is considered legacy. We recommend using instead the native Keras format, e.g. `model.save('my_model.keras')` or `keras.saving.save_model(model, 'my_model.keras')`. \n",
            "WARNING:absl:You are saving your model as an HDF5 file via `model.save()` or `keras.saving.save_model(model)`. This file format is considered legacy. We recommend using instead the native Keras format, e.g. `model.save('my_model.keras')` or `keras.saving.save_model(model, 'my_model.keras')`. \n",
            "WARNING:absl:You are saving your model as an HDF5 file via `model.save()` or `keras.saving.save_model(model)`. This file format is considered legacy. We recommend using instead the native Keras format, e.g. `model.save('my_model.keras')` or `keras.saving.save_model(model, 'my_model.keras')`. \n",
            "WARNING:absl:You are saving your model as an HDF5 file via `model.save()` or `keras.saving.save_model(model)`. This file format is considered legacy. We recommend using instead the native Keras format, e.g. `model.save('my_model.keras')` or `keras.saving.save_model(model, 'my_model.keras')`. \n",
            "WARNING:absl:You are saving your model as an HDF5 file via `model.save()` or `keras.saving.save_model(model)`. This file format is considered legacy. We recommend using instead the native Keras format, e.g. `model.save('my_model.keras')` or `keras.saving.save_model(model, 'my_model.keras')`. \n",
            "WARNING:absl:You are saving your model as an HDF5 file via `model.save()` or `keras.saving.save_model(model)`. This file format is considered legacy. We recommend using instead the native Keras format, e.g. `model.save('my_model.keras')` or `keras.saving.save_model(model, 'my_model.keras')`. \n",
            "WARNING:absl:You are saving your model as an HDF5 file via `model.save()` or `keras.saving.save_model(model)`. This file format is considered legacy. We recommend using instead the native Keras format, e.g. `model.save('my_model.keras')` or `keras.saving.save_model(model, 'my_model.keras')`. \n",
            "WARNING:absl:You are saving your model as an HDF5 file via `model.save()` or `keras.saving.save_model(model)`. This file format is considered legacy. We recommend using instead the native Keras format, e.g. `model.save('my_model.keras')` or `keras.saving.save_model(model, 'my_model.keras')`. \n",
            "WARNING:absl:You are saving your model as an HDF5 file via `model.save()` or `keras.saving.save_model(model)`. This file format is considered legacy. We recommend using instead the native Keras format, e.g. `model.save('my_model.keras')` or `keras.saving.save_model(model, 'my_model.keras')`. \n",
            "WARNING:absl:You are saving your model as an HDF5 file via `model.save()` or `keras.saving.save_model(model)`. This file format is considered legacy. We recommend using instead the native Keras format, e.g. `model.save('my_model.keras')` or `keras.saving.save_model(model, 'my_model.keras')`. \n",
            "WARNING:absl:Compiled the loaded model, but the compiled metrics have yet to be built. `model.compile_metrics` will be empty until you train or evaluate the model.\n"
          ]
        },
        {
          "output_type": "stream",
          "name": "stdout",
          "text": [
            "Fold  2 | IDs val=  5 | files val= 170 | AUC=0.9590\n"
          ]
        },
        {
          "output_type": "stream",
          "name": "stderr",
          "text": [
            "WARNING:absl:You are saving your model as an HDF5 file via `model.save()` or `keras.saving.save_model(model)`. This file format is considered legacy. We recommend using instead the native Keras format, e.g. `model.save('my_model.keras')` or `keras.saving.save_model(model, 'my_model.keras')`. \n",
            "WARNING:absl:You are saving your model as an HDF5 file via `model.save()` or `keras.saving.save_model(model)`. This file format is considered legacy. We recommend using instead the native Keras format, e.g. `model.save('my_model.keras')` or `keras.saving.save_model(model, 'my_model.keras')`. \n",
            "WARNING:absl:You are saving your model as an HDF5 file via `model.save()` or `keras.saving.save_model(model)`. This file format is considered legacy. We recommend using instead the native Keras format, e.g. `model.save('my_model.keras')` or `keras.saving.save_model(model, 'my_model.keras')`. \n",
            "WARNING:absl:You are saving your model as an HDF5 file via `model.save()` or `keras.saving.save_model(model)`. This file format is considered legacy. We recommend using instead the native Keras format, e.g. `model.save('my_model.keras')` or `keras.saving.save_model(model, 'my_model.keras')`. \n",
            "WARNING:absl:You are saving your model as an HDF5 file via `model.save()` or `keras.saving.save_model(model)`. This file format is considered legacy. We recommend using instead the native Keras format, e.g. `model.save('my_model.keras')` or `keras.saving.save_model(model, 'my_model.keras')`. \n",
            "WARNING:absl:You are saving your model as an HDF5 file via `model.save()` or `keras.saving.save_model(model)`. This file format is considered legacy. We recommend using instead the native Keras format, e.g. `model.save('my_model.keras')` or `keras.saving.save_model(model, 'my_model.keras')`. \n",
            "WARNING:absl:You are saving your model as an HDF5 file via `model.save()` or `keras.saving.save_model(model)`. This file format is considered legacy. We recommend using instead the native Keras format, e.g. `model.save('my_model.keras')` or `keras.saving.save_model(model, 'my_model.keras')`. \n",
            "WARNING:absl:You are saving your model as an HDF5 file via `model.save()` or `keras.saving.save_model(model)`. This file format is considered legacy. We recommend using instead the native Keras format, e.g. `model.save('my_model.keras')` or `keras.saving.save_model(model, 'my_model.keras')`. \n",
            "WARNING:absl:You are saving your model as an HDF5 file via `model.save()` or `keras.saving.save_model(model)`. This file format is considered legacy. We recommend using instead the native Keras format, e.g. `model.save('my_model.keras')` or `keras.saving.save_model(model, 'my_model.keras')`. \n",
            "WARNING:absl:You are saving your model as an HDF5 file via `model.save()` or `keras.saving.save_model(model)`. This file format is considered legacy. We recommend using instead the native Keras format, e.g. `model.save('my_model.keras')` or `keras.saving.save_model(model, 'my_model.keras')`. \n",
            "WARNING:absl:You are saving your model as an HDF5 file via `model.save()` or `keras.saving.save_model(model)`. This file format is considered legacy. We recommend using instead the native Keras format, e.g. `model.save('my_model.keras')` or `keras.saving.save_model(model, 'my_model.keras')`. \n",
            "WARNING:absl:You are saving your model as an HDF5 file via `model.save()` or `keras.saving.save_model(model)`. This file format is considered legacy. We recommend using instead the native Keras format, e.g. `model.save('my_model.keras')` or `keras.saving.save_model(model, 'my_model.keras')`. \n",
            "WARNING:absl:Compiled the loaded model, but the compiled metrics have yet to be built. `model.compile_metrics` will be empty until you train or evaluate the model.\n"
          ]
        },
        {
          "output_type": "stream",
          "name": "stdout",
          "text": [
            "Fold  3 | IDs val=  5 | files val=  69 | AUC=0.9821\n"
          ]
        },
        {
          "output_type": "stream",
          "name": "stderr",
          "text": [
            "WARNING:absl:You are saving your model as an HDF5 file via `model.save()` or `keras.saving.save_model(model)`. This file format is considered legacy. We recommend using instead the native Keras format, e.g. `model.save('my_model.keras')` or `keras.saving.save_model(model, 'my_model.keras')`. \n",
            "WARNING:absl:You are saving your model as an HDF5 file via `model.save()` or `keras.saving.save_model(model)`. This file format is considered legacy. We recommend using instead the native Keras format, e.g. `model.save('my_model.keras')` or `keras.saving.save_model(model, 'my_model.keras')`. \n",
            "WARNING:absl:You are saving your model as an HDF5 file via `model.save()` or `keras.saving.save_model(model)`. This file format is considered legacy. We recommend using instead the native Keras format, e.g. `model.save('my_model.keras')` or `keras.saving.save_model(model, 'my_model.keras')`. \n",
            "WARNING:absl:You are saving your model as an HDF5 file via `model.save()` or `keras.saving.save_model(model)`. This file format is considered legacy. We recommend using instead the native Keras format, e.g. `model.save('my_model.keras')` or `keras.saving.save_model(model, 'my_model.keras')`. \n",
            "WARNING:absl:You are saving your model as an HDF5 file via `model.save()` or `keras.saving.save_model(model)`. This file format is considered legacy. We recommend using instead the native Keras format, e.g. `model.save('my_model.keras')` or `keras.saving.save_model(model, 'my_model.keras')`. \n",
            "WARNING:absl:You are saving your model as an HDF5 file via `model.save()` or `keras.saving.save_model(model)`. This file format is considered legacy. We recommend using instead the native Keras format, e.g. `model.save('my_model.keras')` or `keras.saving.save_model(model, 'my_model.keras')`. \n",
            "WARNING:absl:You are saving your model as an HDF5 file via `model.save()` or `keras.saving.save_model(model)`. This file format is considered legacy. We recommend using instead the native Keras format, e.g. `model.save('my_model.keras')` or `keras.saving.save_model(model, 'my_model.keras')`. \n",
            "WARNING:absl:You are saving your model as an HDF5 file via `model.save()` or `keras.saving.save_model(model)`. This file format is considered legacy. We recommend using instead the native Keras format, e.g. `model.save('my_model.keras')` or `keras.saving.save_model(model, 'my_model.keras')`. \n",
            "WARNING:absl:You are saving your model as an HDF5 file via `model.save()` or `keras.saving.save_model(model)`. This file format is considered legacy. We recommend using instead the native Keras format, e.g. `model.save('my_model.keras')` or `keras.saving.save_model(model, 'my_model.keras')`. \n",
            "WARNING:absl:You are saving your model as an HDF5 file via `model.save()` or `keras.saving.save_model(model)`. This file format is considered legacy. We recommend using instead the native Keras format, e.g. `model.save('my_model.keras')` or `keras.saving.save_model(model, 'my_model.keras')`. \n",
            "WARNING:absl:You are saving your model as an HDF5 file via `model.save()` or `keras.saving.save_model(model)`. This file format is considered legacy. We recommend using instead the native Keras format, e.g. `model.save('my_model.keras')` or `keras.saving.save_model(model, 'my_model.keras')`. \n",
            "WARNING:absl:You are saving your model as an HDF5 file via `model.save()` or `keras.saving.save_model(model)`. This file format is considered legacy. We recommend using instead the native Keras format, e.g. `model.save('my_model.keras')` or `keras.saving.save_model(model, 'my_model.keras')`. \n",
            "WARNING:absl:You are saving your model as an HDF5 file via `model.save()` or `keras.saving.save_model(model)`. This file format is considered legacy. We recommend using instead the native Keras format, e.g. `model.save('my_model.keras')` or `keras.saving.save_model(model, 'my_model.keras')`. \n",
            "WARNING:absl:You are saving your model as an HDF5 file via `model.save()` or `keras.saving.save_model(model)`. This file format is considered legacy. We recommend using instead the native Keras format, e.g. `model.save('my_model.keras')` or `keras.saving.save_model(model, 'my_model.keras')`. \n",
            "WARNING:absl:You are saving your model as an HDF5 file via `model.save()` or `keras.saving.save_model(model)`. This file format is considered legacy. We recommend using instead the native Keras format, e.g. `model.save('my_model.keras')` or `keras.saving.save_model(model, 'my_model.keras')`. \n",
            "WARNING:absl:You are saving your model as an HDF5 file via `model.save()` or `keras.saving.save_model(model)`. This file format is considered legacy. We recommend using instead the native Keras format, e.g. `model.save('my_model.keras')` or `keras.saving.save_model(model, 'my_model.keras')`. \n",
            "WARNING:absl:You are saving your model as an HDF5 file via `model.save()` or `keras.saving.save_model(model)`. This file format is considered legacy. We recommend using instead the native Keras format, e.g. `model.save('my_model.keras')` or `keras.saving.save_model(model, 'my_model.keras')`. \n",
            "WARNING:absl:You are saving your model as an HDF5 file via `model.save()` or `keras.saving.save_model(model)`. This file format is considered legacy. We recommend using instead the native Keras format, e.g. `model.save('my_model.keras')` or `keras.saving.save_model(model, 'my_model.keras')`. \n",
            "WARNING:absl:You are saving your model as an HDF5 file via `model.save()` or `keras.saving.save_model(model)`. This file format is considered legacy. We recommend using instead the native Keras format, e.g. `model.save('my_model.keras')` or `keras.saving.save_model(model, 'my_model.keras')`. \n",
            "WARNING:absl:You are saving your model as an HDF5 file via `model.save()` or `keras.saving.save_model(model)`. This file format is considered legacy. We recommend using instead the native Keras format, e.g. `model.save('my_model.keras')` or `keras.saving.save_model(model, 'my_model.keras')`. \n",
            "WARNING:absl:You are saving your model as an HDF5 file via `model.save()` or `keras.saving.save_model(model)`. This file format is considered legacy. We recommend using instead the native Keras format, e.g. `model.save('my_model.keras')` or `keras.saving.save_model(model, 'my_model.keras')`. \n",
            "WARNING:absl:You are saving your model as an HDF5 file via `model.save()` or `keras.saving.save_model(model)`. This file format is considered legacy. We recommend using instead the native Keras format, e.g. `model.save('my_model.keras')` or `keras.saving.save_model(model, 'my_model.keras')`. \n",
            "WARNING:absl:Compiled the loaded model, but the compiled metrics have yet to be built. `model.compile_metrics` will be empty until you train or evaluate the model.\n"
          ]
        },
        {
          "output_type": "stream",
          "name": "stdout",
          "text": [
            "Fold  4 | IDs val=  5 | files val= 168 | AUC=1.0000\n"
          ]
        },
        {
          "output_type": "stream",
          "name": "stderr",
          "text": [
            "WARNING:absl:You are saving your model as an HDF5 file via `model.save()` or `keras.saving.save_model(model)`. This file format is considered legacy. We recommend using instead the native Keras format, e.g. `model.save('my_model.keras')` or `keras.saving.save_model(model, 'my_model.keras')`. \n",
            "WARNING:absl:You are saving your model as an HDF5 file via `model.save()` or `keras.saving.save_model(model)`. This file format is considered legacy. We recommend using instead the native Keras format, e.g. `model.save('my_model.keras')` or `keras.saving.save_model(model, 'my_model.keras')`. \n",
            "WARNING:absl:You are saving your model as an HDF5 file via `model.save()` or `keras.saving.save_model(model)`. This file format is considered legacy. We recommend using instead the native Keras format, e.g. `model.save('my_model.keras')` or `keras.saving.save_model(model, 'my_model.keras')`. \n",
            "WARNING:absl:You are saving your model as an HDF5 file via `model.save()` or `keras.saving.save_model(model)`. This file format is considered legacy. We recommend using instead the native Keras format, e.g. `model.save('my_model.keras')` or `keras.saving.save_model(model, 'my_model.keras')`. \n",
            "WARNING:absl:You are saving your model as an HDF5 file via `model.save()` or `keras.saving.save_model(model)`. This file format is considered legacy. We recommend using instead the native Keras format, e.g. `model.save('my_model.keras')` or `keras.saving.save_model(model, 'my_model.keras')`. \n",
            "WARNING:absl:You are saving your model as an HDF5 file via `model.save()` or `keras.saving.save_model(model)`. This file format is considered legacy. We recommend using instead the native Keras format, e.g. `model.save('my_model.keras')` or `keras.saving.save_model(model, 'my_model.keras')`. \n",
            "WARNING:absl:You are saving your model as an HDF5 file via `model.save()` or `keras.saving.save_model(model)`. This file format is considered legacy. We recommend using instead the native Keras format, e.g. `model.save('my_model.keras')` or `keras.saving.save_model(model, 'my_model.keras')`. \n",
            "WARNING:absl:You are saving your model as an HDF5 file via `model.save()` or `keras.saving.save_model(model)`. This file format is considered legacy. We recommend using instead the native Keras format, e.g. `model.save('my_model.keras')` or `keras.saving.save_model(model, 'my_model.keras')`. \n",
            "WARNING:absl:You are saving your model as an HDF5 file via `model.save()` or `keras.saving.save_model(model)`. This file format is considered legacy. We recommend using instead the native Keras format, e.g. `model.save('my_model.keras')` or `keras.saving.save_model(model, 'my_model.keras')`. \n",
            "WARNING:absl:You are saving your model as an HDF5 file via `model.save()` or `keras.saving.save_model(model)`. This file format is considered legacy. We recommend using instead the native Keras format, e.g. `model.save('my_model.keras')` or `keras.saving.save_model(model, 'my_model.keras')`. \n",
            "WARNING:absl:You are saving your model as an HDF5 file via `model.save()` or `keras.saving.save_model(model)`. This file format is considered legacy. We recommend using instead the native Keras format, e.g. `model.save('my_model.keras')` or `keras.saving.save_model(model, 'my_model.keras')`. \n",
            "WARNING:absl:You are saving your model as an HDF5 file via `model.save()` or `keras.saving.save_model(model)`. This file format is considered legacy. We recommend using instead the native Keras format, e.g. `model.save('my_model.keras')` or `keras.saving.save_model(model, 'my_model.keras')`. \n",
            "WARNING:absl:You are saving your model as an HDF5 file via `model.save()` or `keras.saving.save_model(model)`. This file format is considered legacy. We recommend using instead the native Keras format, e.g. `model.save('my_model.keras')` or `keras.saving.save_model(model, 'my_model.keras')`. \n",
            "WARNING:absl:You are saving your model as an HDF5 file via `model.save()` or `keras.saving.save_model(model)`. This file format is considered legacy. We recommend using instead the native Keras format, e.g. `model.save('my_model.keras')` or `keras.saving.save_model(model, 'my_model.keras')`. \n",
            "WARNING:absl:Compiled the loaded model, but the compiled metrics have yet to be built. `model.compile_metrics` will be empty until you train or evaluate the model.\n"
          ]
        },
        {
          "output_type": "stream",
          "name": "stdout",
          "text": [
            "Fold  5 | IDs val=  4 | files val=  84 | AUC=0.9760\n"
          ]
        },
        {
          "output_type": "stream",
          "name": "stderr",
          "text": [
            "WARNING:absl:You are saving your model as an HDF5 file via `model.save()` or `keras.saving.save_model(model)`. This file format is considered legacy. We recommend using instead the native Keras format, e.g. `model.save('my_model.keras')` or `keras.saving.save_model(model, 'my_model.keras')`. \n",
            "WARNING:absl:You are saving your model as an HDF5 file via `model.save()` or `keras.saving.save_model(model)`. This file format is considered legacy. We recommend using instead the native Keras format, e.g. `model.save('my_model.keras')` or `keras.saving.save_model(model, 'my_model.keras')`. \n",
            "WARNING:absl:You are saving your model as an HDF5 file via `model.save()` or `keras.saving.save_model(model)`. This file format is considered legacy. We recommend using instead the native Keras format, e.g. `model.save('my_model.keras')` or `keras.saving.save_model(model, 'my_model.keras')`. \n",
            "WARNING:absl:You are saving your model as an HDF5 file via `model.save()` or `keras.saving.save_model(model)`. This file format is considered legacy. We recommend using instead the native Keras format, e.g. `model.save('my_model.keras')` or `keras.saving.save_model(model, 'my_model.keras')`. \n",
            "WARNING:absl:You are saving your model as an HDF5 file via `model.save()` or `keras.saving.save_model(model)`. This file format is considered legacy. We recommend using instead the native Keras format, e.g. `model.save('my_model.keras')` or `keras.saving.save_model(model, 'my_model.keras')`. \n",
            "WARNING:absl:You are saving your model as an HDF5 file via `model.save()` or `keras.saving.save_model(model)`. This file format is considered legacy. We recommend using instead the native Keras format, e.g. `model.save('my_model.keras')` or `keras.saving.save_model(model, 'my_model.keras')`. \n",
            "WARNING:absl:You are saving your model as an HDF5 file via `model.save()` or `keras.saving.save_model(model)`. This file format is considered legacy. We recommend using instead the native Keras format, e.g. `model.save('my_model.keras')` or `keras.saving.save_model(model, 'my_model.keras')`. \n",
            "WARNING:absl:You are saving your model as an HDF5 file via `model.save()` or `keras.saving.save_model(model)`. This file format is considered legacy. We recommend using instead the native Keras format, e.g. `model.save('my_model.keras')` or `keras.saving.save_model(model, 'my_model.keras')`. \n",
            "WARNING:absl:You are saving your model as an HDF5 file via `model.save()` or `keras.saving.save_model(model)`. This file format is considered legacy. We recommend using instead the native Keras format, e.g. `model.save('my_model.keras')` or `keras.saving.save_model(model, 'my_model.keras')`. \n",
            "WARNING:absl:You are saving your model as an HDF5 file via `model.save()` or `keras.saving.save_model(model)`. This file format is considered legacy. We recommend using instead the native Keras format, e.g. `model.save('my_model.keras')` or `keras.saving.save_model(model, 'my_model.keras')`. \n",
            "WARNING:absl:You are saving your model as an HDF5 file via `model.save()` or `keras.saving.save_model(model)`. This file format is considered legacy. We recommend using instead the native Keras format, e.g. `model.save('my_model.keras')` or `keras.saving.save_model(model, 'my_model.keras')`. \n",
            "WARNING:absl:You are saving your model as an HDF5 file via `model.save()` or `keras.saving.save_model(model)`. This file format is considered legacy. We recommend using instead the native Keras format, e.g. `model.save('my_model.keras')` or `keras.saving.save_model(model, 'my_model.keras')`. \n",
            "WARNING:absl:You are saving your model as an HDF5 file via `model.save()` or `keras.saving.save_model(model)`. This file format is considered legacy. We recommend using instead the native Keras format, e.g. `model.save('my_model.keras')` or `keras.saving.save_model(model, 'my_model.keras')`. \n",
            "WARNING:absl:You are saving your model as an HDF5 file via `model.save()` or `keras.saving.save_model(model)`. This file format is considered legacy. We recommend using instead the native Keras format, e.g. `model.save('my_model.keras')` or `keras.saving.save_model(model, 'my_model.keras')`. \n",
            "WARNING:absl:You are saving your model as an HDF5 file via `model.save()` or `keras.saving.save_model(model)`. This file format is considered legacy. We recommend using instead the native Keras format, e.g. `model.save('my_model.keras')` or `keras.saving.save_model(model, 'my_model.keras')`. \n",
            "WARNING:absl:You are saving your model as an HDF5 file via `model.save()` or `keras.saving.save_model(model)`. This file format is considered legacy. We recommend using instead the native Keras format, e.g. `model.save('my_model.keras')` or `keras.saving.save_model(model, 'my_model.keras')`. \n",
            "WARNING:absl:You are saving your model as an HDF5 file via `model.save()` or `keras.saving.save_model(model)`. This file format is considered legacy. We recommend using instead the native Keras format, e.g. `model.save('my_model.keras')` or `keras.saving.save_model(model, 'my_model.keras')`. \n",
            "WARNING:absl:You are saving your model as an HDF5 file via `model.save()` or `keras.saving.save_model(model)`. This file format is considered legacy. We recommend using instead the native Keras format, e.g. `model.save('my_model.keras')` or `keras.saving.save_model(model, 'my_model.keras')`. \n",
            "WARNING:absl:Compiled the loaded model, but the compiled metrics have yet to be built. `model.compile_metrics` will be empty until you train or evaluate the model.\n"
          ]
        },
        {
          "output_type": "stream",
          "name": "stdout",
          "text": [
            "Fold  6 | IDs val=  4 | files val= 146 | AUC=1.0000\n"
          ]
        },
        {
          "output_type": "stream",
          "name": "stderr",
          "text": [
            "WARNING:absl:You are saving your model as an HDF5 file via `model.save()` or `keras.saving.save_model(model)`. This file format is considered legacy. We recommend using instead the native Keras format, e.g. `model.save('my_model.keras')` or `keras.saving.save_model(model, 'my_model.keras')`. \n",
            "WARNING:absl:You are saving your model as an HDF5 file via `model.save()` or `keras.saving.save_model(model)`. This file format is considered legacy. We recommend using instead the native Keras format, e.g. `model.save('my_model.keras')` or `keras.saving.save_model(model, 'my_model.keras')`. \n",
            "WARNING:absl:You are saving your model as an HDF5 file via `model.save()` or `keras.saving.save_model(model)`. This file format is considered legacy. We recommend using instead the native Keras format, e.g. `model.save('my_model.keras')` or `keras.saving.save_model(model, 'my_model.keras')`. \n",
            "WARNING:absl:You are saving your model as an HDF5 file via `model.save()` or `keras.saving.save_model(model)`. This file format is considered legacy. We recommend using instead the native Keras format, e.g. `model.save('my_model.keras')` or `keras.saving.save_model(model, 'my_model.keras')`. \n",
            "WARNING:absl:You are saving your model as an HDF5 file via `model.save()` or `keras.saving.save_model(model)`. This file format is considered legacy. We recommend using instead the native Keras format, e.g. `model.save('my_model.keras')` or `keras.saving.save_model(model, 'my_model.keras')`. \n",
            "WARNING:absl:You are saving your model as an HDF5 file via `model.save()` or `keras.saving.save_model(model)`. This file format is considered legacy. We recommend using instead the native Keras format, e.g. `model.save('my_model.keras')` or `keras.saving.save_model(model, 'my_model.keras')`. \n",
            "WARNING:absl:You are saving your model as an HDF5 file via `model.save()` or `keras.saving.save_model(model)`. This file format is considered legacy. We recommend using instead the native Keras format, e.g. `model.save('my_model.keras')` or `keras.saving.save_model(model, 'my_model.keras')`. \n",
            "WARNING:absl:You are saving your model as an HDF5 file via `model.save()` or `keras.saving.save_model(model)`. This file format is considered legacy. We recommend using instead the native Keras format, e.g. `model.save('my_model.keras')` or `keras.saving.save_model(model, 'my_model.keras')`. \n",
            "WARNING:absl:You are saving your model as an HDF5 file via `model.save()` or `keras.saving.save_model(model)`. This file format is considered legacy. We recommend using instead the native Keras format, e.g. `model.save('my_model.keras')` or `keras.saving.save_model(model, 'my_model.keras')`. \n",
            "WARNING:absl:You are saving your model as an HDF5 file via `model.save()` or `keras.saving.save_model(model)`. This file format is considered legacy. We recommend using instead the native Keras format, e.g. `model.save('my_model.keras')` or `keras.saving.save_model(model, 'my_model.keras')`. \n",
            "WARNING:absl:You are saving your model as an HDF5 file via `model.save()` or `keras.saving.save_model(model)`. This file format is considered legacy. We recommend using instead the native Keras format, e.g. `model.save('my_model.keras')` or `keras.saving.save_model(model, 'my_model.keras')`. \n",
            "WARNING:absl:You are saving your model as an HDF5 file via `model.save()` or `keras.saving.save_model(model)`. This file format is considered legacy. We recommend using instead the native Keras format, e.g. `model.save('my_model.keras')` or `keras.saving.save_model(model, 'my_model.keras')`. \n",
            "WARNING:absl:You are saving your model as an HDF5 file via `model.save()` or `keras.saving.save_model(model)`. This file format is considered legacy. We recommend using instead the native Keras format, e.g. `model.save('my_model.keras')` or `keras.saving.save_model(model, 'my_model.keras')`. \n",
            "WARNING:absl:You are saving your model as an HDF5 file via `model.save()` or `keras.saving.save_model(model)`. This file format is considered legacy. We recommend using instead the native Keras format, e.g. `model.save('my_model.keras')` or `keras.saving.save_model(model, 'my_model.keras')`. \n",
            "WARNING:absl:You are saving your model as an HDF5 file via `model.save()` or `keras.saving.save_model(model)`. This file format is considered legacy. We recommend using instead the native Keras format, e.g. `model.save('my_model.keras')` or `keras.saving.save_model(model, 'my_model.keras')`. \n",
            "WARNING:absl:You are saving your model as an HDF5 file via `model.save()` or `keras.saving.save_model(model)`. This file format is considered legacy. We recommend using instead the native Keras format, e.g. `model.save('my_model.keras')` or `keras.saving.save_model(model, 'my_model.keras')`. \n",
            "WARNING:absl:You are saving your model as an HDF5 file via `model.save()` or `keras.saving.save_model(model)`. This file format is considered legacy. We recommend using instead the native Keras format, e.g. `model.save('my_model.keras')` or `keras.saving.save_model(model, 'my_model.keras')`. \n",
            "WARNING:absl:You are saving your model as an HDF5 file via `model.save()` or `keras.saving.save_model(model)`. This file format is considered legacy. We recommend using instead the native Keras format, e.g. `model.save('my_model.keras')` or `keras.saving.save_model(model, 'my_model.keras')`. \n",
            "WARNING:absl:You are saving your model as an HDF5 file via `model.save()` or `keras.saving.save_model(model)`. This file format is considered legacy. We recommend using instead the native Keras format, e.g. `model.save('my_model.keras')` or `keras.saving.save_model(model, 'my_model.keras')`. \n",
            "WARNING:absl:You are saving your model as an HDF5 file via `model.save()` or `keras.saving.save_model(model)`. This file format is considered legacy. We recommend using instead the native Keras format, e.g. `model.save('my_model.keras')` or `keras.saving.save_model(model, 'my_model.keras')`. \n",
            "WARNING:absl:Compiled the loaded model, but the compiled metrics have yet to be built. `model.compile_metrics` will be empty until you train or evaluate the model.\n"
          ]
        },
        {
          "output_type": "stream",
          "name": "stdout",
          "text": [
            "Fold  7 | IDs val=  4 | files val=  50 | AUC=1.0000\n"
          ]
        },
        {
          "output_type": "stream",
          "name": "stderr",
          "text": [
            "WARNING:absl:You are saving your model as an HDF5 file via `model.save()` or `keras.saving.save_model(model)`. This file format is considered legacy. We recommend using instead the native Keras format, e.g. `model.save('my_model.keras')` or `keras.saving.save_model(model, 'my_model.keras')`. \n",
            "WARNING:absl:You are saving your model as an HDF5 file via `model.save()` or `keras.saving.save_model(model)`. This file format is considered legacy. We recommend using instead the native Keras format, e.g. `model.save('my_model.keras')` or `keras.saving.save_model(model, 'my_model.keras')`. \n",
            "WARNING:absl:You are saving your model as an HDF5 file via `model.save()` or `keras.saving.save_model(model)`. This file format is considered legacy. We recommend using instead the native Keras format, e.g. `model.save('my_model.keras')` or `keras.saving.save_model(model, 'my_model.keras')`. \n",
            "WARNING:absl:You are saving your model as an HDF5 file via `model.save()` or `keras.saving.save_model(model)`. This file format is considered legacy. We recommend using instead the native Keras format, e.g. `model.save('my_model.keras')` or `keras.saving.save_model(model, 'my_model.keras')`. \n",
            "WARNING:absl:You are saving your model as an HDF5 file via `model.save()` or `keras.saving.save_model(model)`. This file format is considered legacy. We recommend using instead the native Keras format, e.g. `model.save('my_model.keras')` or `keras.saving.save_model(model, 'my_model.keras')`. \n",
            "WARNING:absl:You are saving your model as an HDF5 file via `model.save()` or `keras.saving.save_model(model)`. This file format is considered legacy. We recommend using instead the native Keras format, e.g. `model.save('my_model.keras')` or `keras.saving.save_model(model, 'my_model.keras')`. \n",
            "WARNING:absl:You are saving your model as an HDF5 file via `model.save()` or `keras.saving.save_model(model)`. This file format is considered legacy. We recommend using instead the native Keras format, e.g. `model.save('my_model.keras')` or `keras.saving.save_model(model, 'my_model.keras')`. \n",
            "WARNING:absl:You are saving your model as an HDF5 file via `model.save()` or `keras.saving.save_model(model)`. This file format is considered legacy. We recommend using instead the native Keras format, e.g. `model.save('my_model.keras')` or `keras.saving.save_model(model, 'my_model.keras')`. \n",
            "WARNING:absl:You are saving your model as an HDF5 file via `model.save()` or `keras.saving.save_model(model)`. This file format is considered legacy. We recommend using instead the native Keras format, e.g. `model.save('my_model.keras')` or `keras.saving.save_model(model, 'my_model.keras')`. \n",
            "WARNING:absl:You are saving your model as an HDF5 file via `model.save()` or `keras.saving.save_model(model)`. This file format is considered legacy. We recommend using instead the native Keras format, e.g. `model.save('my_model.keras')` or `keras.saving.save_model(model, 'my_model.keras')`. \n",
            "WARNING:absl:You are saving your model as an HDF5 file via `model.save()` or `keras.saving.save_model(model)`. This file format is considered legacy. We recommend using instead the native Keras format, e.g. `model.save('my_model.keras')` or `keras.saving.save_model(model, 'my_model.keras')`. \n",
            "WARNING:absl:You are saving your model as an HDF5 file via `model.save()` or `keras.saving.save_model(model)`. This file format is considered legacy. We recommend using instead the native Keras format, e.g. `model.save('my_model.keras')` or `keras.saving.save_model(model, 'my_model.keras')`. \n",
            "WARNING:absl:You are saving your model as an HDF5 file via `model.save()` or `keras.saving.save_model(model)`. This file format is considered legacy. We recommend using instead the native Keras format, e.g. `model.save('my_model.keras')` or `keras.saving.save_model(model, 'my_model.keras')`. \n",
            "WARNING:absl:Compiled the loaded model, but the compiled metrics have yet to be built. `model.compile_metrics` will be empty until you train or evaluate the model.\n"
          ]
        },
        {
          "output_type": "stream",
          "name": "stdout",
          "text": [
            "Fold  8 | IDs val=  4 | files val=  37 | AUC=1.0000\n"
          ]
        },
        {
          "output_type": "stream",
          "name": "stderr",
          "text": [
            "WARNING:absl:You are saving your model as an HDF5 file via `model.save()` or `keras.saving.save_model(model)`. This file format is considered legacy. We recommend using instead the native Keras format, e.g. `model.save('my_model.keras')` or `keras.saving.save_model(model, 'my_model.keras')`. \n",
            "WARNING:absl:You are saving your model as an HDF5 file via `model.save()` or `keras.saving.save_model(model)`. This file format is considered legacy. We recommend using instead the native Keras format, e.g. `model.save('my_model.keras')` or `keras.saving.save_model(model, 'my_model.keras')`. \n",
            "WARNING:absl:You are saving your model as an HDF5 file via `model.save()` or `keras.saving.save_model(model)`. This file format is considered legacy. We recommend using instead the native Keras format, e.g. `model.save('my_model.keras')` or `keras.saving.save_model(model, 'my_model.keras')`. \n",
            "WARNING:absl:You are saving your model as an HDF5 file via `model.save()` or `keras.saving.save_model(model)`. This file format is considered legacy. We recommend using instead the native Keras format, e.g. `model.save('my_model.keras')` or `keras.saving.save_model(model, 'my_model.keras')`. \n",
            "WARNING:absl:You are saving your model as an HDF5 file via `model.save()` or `keras.saving.save_model(model)`. This file format is considered legacy. We recommend using instead the native Keras format, e.g. `model.save('my_model.keras')` or `keras.saving.save_model(model, 'my_model.keras')`. \n",
            "WARNING:absl:Compiled the loaded model, but the compiled metrics have yet to be built. `model.compile_metrics` will be empty until you train or evaluate the model.\n"
          ]
        },
        {
          "output_type": "stream",
          "name": "stdout",
          "text": [
            "Fold  9 | IDs val=  4 | files val= 239 | AUC=0.4340\n"
          ]
        },
        {
          "output_type": "stream",
          "name": "stderr",
          "text": [
            "WARNING:absl:You are saving your model as an HDF5 file via `model.save()` or `keras.saving.save_model(model)`. This file format is considered legacy. We recommend using instead the native Keras format, e.g. `model.save('my_model.keras')` or `keras.saving.save_model(model, 'my_model.keras')`. \n",
            "WARNING:absl:You are saving your model as an HDF5 file via `model.save()` or `keras.saving.save_model(model)`. This file format is considered legacy. We recommend using instead the native Keras format, e.g. `model.save('my_model.keras')` or `keras.saving.save_model(model, 'my_model.keras')`. \n",
            "WARNING:absl:You are saving your model as an HDF5 file via `model.save()` or `keras.saving.save_model(model)`. This file format is considered legacy. We recommend using instead the native Keras format, e.g. `model.save('my_model.keras')` or `keras.saving.save_model(model, 'my_model.keras')`. \n",
            "WARNING:absl:You are saving your model as an HDF5 file via `model.save()` or `keras.saving.save_model(model)`. This file format is considered legacy. We recommend using instead the native Keras format, e.g. `model.save('my_model.keras')` or `keras.saving.save_model(model, 'my_model.keras')`. \n",
            "WARNING:absl:You are saving your model as an HDF5 file via `model.save()` or `keras.saving.save_model(model)`. This file format is considered legacy. We recommend using instead the native Keras format, e.g. `model.save('my_model.keras')` or `keras.saving.save_model(model, 'my_model.keras')`. \n",
            "WARNING:absl:You are saving your model as an HDF5 file via `model.save()` or `keras.saving.save_model(model)`. This file format is considered legacy. We recommend using instead the native Keras format, e.g. `model.save('my_model.keras')` or `keras.saving.save_model(model, 'my_model.keras')`. \n",
            "WARNING:absl:You are saving your model as an HDF5 file via `model.save()` or `keras.saving.save_model(model)`. This file format is considered legacy. We recommend using instead the native Keras format, e.g. `model.save('my_model.keras')` or `keras.saving.save_model(model, 'my_model.keras')`. \n",
            "WARNING:absl:You are saving your model as an HDF5 file via `model.save()` or `keras.saving.save_model(model)`. This file format is considered legacy. We recommend using instead the native Keras format, e.g. `model.save('my_model.keras')` or `keras.saving.save_model(model, 'my_model.keras')`. \n",
            "WARNING:absl:You are saving your model as an HDF5 file via `model.save()` or `keras.saving.save_model(model)`. This file format is considered legacy. We recommend using instead the native Keras format, e.g. `model.save('my_model.keras')` or `keras.saving.save_model(model, 'my_model.keras')`. \n",
            "WARNING:absl:You are saving your model as an HDF5 file via `model.save()` or `keras.saving.save_model(model)`. This file format is considered legacy. We recommend using instead the native Keras format, e.g. `model.save('my_model.keras')` or `keras.saving.save_model(model, 'my_model.keras')`. \n",
            "WARNING:absl:You are saving your model as an HDF5 file via `model.save()` or `keras.saving.save_model(model)`. This file format is considered legacy. We recommend using instead the native Keras format, e.g. `model.save('my_model.keras')` or `keras.saving.save_model(model, 'my_model.keras')`. \n",
            "WARNING:absl:You are saving your model as an HDF5 file via `model.save()` or `keras.saving.save_model(model)`. This file format is considered legacy. We recommend using instead the native Keras format, e.g. `model.save('my_model.keras')` or `keras.saving.save_model(model, 'my_model.keras')`. \n",
            "WARNING:absl:You are saving your model as an HDF5 file via `model.save()` or `keras.saving.save_model(model)`. This file format is considered legacy. We recommend using instead the native Keras format, e.g. `model.save('my_model.keras')` or `keras.saving.save_model(model, 'my_model.keras')`. \n",
            "WARNING:absl:You are saving your model as an HDF5 file via `model.save()` or `keras.saving.save_model(model)`. This file format is considered legacy. We recommend using instead the native Keras format, e.g. `model.save('my_model.keras')` or `keras.saving.save_model(model, 'my_model.keras')`. \n",
            "WARNING:absl:Compiled the loaded model, but the compiled metrics have yet to be built. `model.compile_metrics` will be empty until you train or evaluate the model.\n"
          ]
        },
        {
          "output_type": "stream",
          "name": "stdout",
          "text": [
            "Fold 10 | IDs val=  4 | files val=  22 | AUC=0.9524\n",
            "\n",
            "Per-fold AUCs:\n",
            "  Fold  1: 0.4571\n",
            "  Fold  2: 0.9590\n",
            "  Fold  3: 0.9821\n",
            "  Fold  4: 1.0000\n",
            "  Fold  5: 0.9760\n",
            "  Fold  6: 1.0000\n",
            "  Fold  7: 1.0000\n",
            "  Fold  8: 1.0000\n",
            "  Fold  9: 0.4340\n",
            "  Fold 10: 0.9524\n",
            "\n",
            "AUCs list: [np.float64(0.45710113179992695), np.float64(0.959047619047619), np.float64(0.982051282051282), np.float64(1.0), np.float64(0.9759725400457666), np.float64(1.0), np.float64(1.0), np.float64(1.0), np.float64(0.4340425531914893), np.float64(0.9523809523809523)]\n",
            "Mean AUC: 0.8761 ± 0.2159\n",
            "Min/Max AUC: 0.4340 / 1.0000\n"
          ]
        }
      ]
    },
    {
      "cell_type": "code",
      "source": [
        "# =========================\n",
        "# Results across folds\n",
        "# =========================\n",
        "print(\"\\nPer-fold AUCs:\")\n",
        "for i, a in enumerate(fold_aucs, start=1):\n",
        "    if np.isnan(a):\n",
        "        print(f\"  Fold {i:2d}: NaN\")\n",
        "    else:\n",
        "        print(f\"  Fold {i:2d}: {a:.4f}\")\n",
        "\n",
        "print(\"\\nAUCs list:\", fold_aucs)\n",
        "\n",
        "valid_aucs = [a for a in fold_aucs if not np.isnan(a)]\n",
        "if valid_aucs:\n",
        "    print(f\"Mean AUC: {np.mean(valid_aucs):.4f} ± {np.std(valid_aucs):.4f}\")\n",
        "    print(f\"Min/Max AUC: {np.min(valid_aucs):.4f} / {np.max(valid_aucs):.4f}\")\n",
        "else:\n",
        "    print(\"All AUCs are NaN; cannot compute summary statistics.\")"
      ],
      "metadata": {
        "id": "yUSkVV9BpHSa",
        "colab": {
          "base_uri": "https://localhost:8080/"
        },
        "outputId": "7902711d-7418-4adb-aab3-24c1c6445abb"
      },
      "id": "yUSkVV9BpHSa",
      "execution_count": null,
      "outputs": [
        {
          "output_type": "stream",
          "name": "stdout",
          "text": [
            "\n",
            "Per-fold AUCs:\n",
            "  Fold  1: 0.4571\n",
            "  Fold  2: 0.9590\n",
            "  Fold  3: 0.9821\n",
            "  Fold  4: 1.0000\n",
            "  Fold  5: 0.9760\n",
            "  Fold  6: 1.0000\n",
            "  Fold  7: 1.0000\n",
            "  Fold  8: 1.0000\n",
            "  Fold  9: 0.4340\n",
            "  Fold 10: 0.9524\n",
            "\n",
            "AUCs list: [np.float64(0.45710113179992695), np.float64(0.959047619047619), np.float64(0.982051282051282), np.float64(1.0), np.float64(0.9759725400457666), np.float64(1.0), np.float64(1.0), np.float64(1.0), np.float64(0.4340425531914893), np.float64(0.9523809523809523)]\n",
            "Mean AUC: 0.8761 ± 0.2159\n",
            "Min/Max AUC: 0.4340 / 1.0000\n"
          ]
        }
      ]
    },
    {
      "cell_type": "code",
      "source": [
        "# === Plot per-fold AUCs ===\n",
        "import matplotlib.pyplot as plt\n",
        "import numpy as np\n",
        "\n",
        "fold_indices = np.arange(1, len(fold_aucs) + 1, dtype=int)\n",
        "auc_array = np.array(fold_aucs, dtype=float)\n",
        "\n",
        "plt.figure(figsize=(14, 8))\n",
        "# line+markers; NaNs will break the line, which is fine\n",
        "plt.plot(fold_indices, auc_array, marker=\"o\", linewidth=1)\n",
        "\n",
        "# annotate non-NaN points with their values\n",
        "for i, a in enumerate(auc_array, start=1):\n",
        "    if not np.isnan(a):\n",
        "        plt.text(i, a, f\"{a:.3f}\", ha=\"center\", va=\"bottom\", fontsize=8)\n",
        "\n",
        "# draw mean AUC if available\n",
        "valid_mask = ~np.isnan(auc_array)\n",
        "if valid_mask.any():\n",
        "    mean_auc = auc_array[valid_mask].mean()\n",
        "    plt.axhline(mean_auc, linestyle=\"--\", linewidth=1, label=f\"Mean AUC = {mean_auc:.3f}\")\n",
        "\n",
        "plt.title(\"Per-fold AUC\")\n",
        "plt.xlabel(\"Fold #\")\n",
        "plt.ylabel(\"AUC\")\n",
        "plt.xticks(fold_indices)\n",
        "plt.ylim(0.0, 1.0)\n",
        "plt.grid(True, linewidth=0.3)\n",
        "plt.legend(loc=\"lower right\")\n",
        "plt.tight_layout()\n",
        "plt.show()"
      ],
      "metadata": {
        "id": "KUgcBvQhpHVE",
        "colab": {
          "base_uri": "https://localhost:8080/",
          "height": 807
        },
        "outputId": "fa32c44d-fafd-449a-ae9f-ee0a8572b39a"
      },
      "id": "KUgcBvQhpHVE",
      "execution_count": null,
      "outputs": [
        {
          "output_type": "display_data",
          "data": {
            "text/plain": [
              "<Figure size 1400x800 with 1 Axes>"
            ],
            "image/png": "[encoded data removed]"
          },
          "metadata": {}
        }
      ]
    },
    {
      "cell_type": "code",
      "source": [],
      "metadata": {
        "id": "IrWZ5cUFpHXs"
      },
      "id": "IrWZ5cUFpHXs",
      "execution_count": null,
      "outputs": []
    },
    {
      "cell_type": "code",
      "source": [],
      "metadata": {
        "id": "sPOzCNAug4NW"
      },
      "id": "sPOzCNAug4NW",
      "execution_count": null,
      "outputs": []
    },
    {
      "cell_type": "code",
      "source": [],
      "metadata": {
        "id": "xxOkMiS4g4SL"
      },
      "id": "xxOkMiS4g4SL",
      "execution_count": null,
      "outputs": []
    },
    {
      "cell_type": "code",
      "execution_count": null,
      "id": "ksQMstdc-o-3",
      "metadata": {
        "id": "ksQMstdc-o-3"
      },
      "outputs": [],
      "source": []
    },
    {
      "cell_type": "code",
      "execution_count": null,
      "id": "JSdB6j-a-pDF",
      "metadata": {
        "id": "JSdB6j-a-pDF"
      },
      "outputs": [],
      "source": []
    },
    {
      "cell_type": "code",
      "execution_count": null,
      "id": "U7ouQnxD-pF_",
      "metadata": {
        "id": "U7ouQnxD-pF_"
      },
      "outputs": [],
      "source": []
    },
    {
      "cell_type": "code",
      "execution_count": null,
      "id": "WnjxgEPK-pIJ",
      "metadata": {
        "id": "WnjxgEPK-pIJ"
      },
      "outputs": [],
      "source": []
    },
    {
      "cell_type": "code",
      "execution_count": null,
      "id": "j28g8Lqp-pKy",
      "metadata": {
        "id": "j28g8Lqp-pKy"
      },
      "outputs": [],
      "source": []
    },
    {
      "cell_type": "code",
      "execution_count": null,
      "id": "DJbv-4-G-pMn",
      "metadata": {
        "id": "DJbv-4-G-pMn"
      },
      "outputs": [],
      "source": []
    },
    {
      "cell_type": "code",
      "execution_count": null,
      "id": "Cxtz-1Fo-pPP",
      "metadata": {
        "id": "Cxtz-1Fo-pPP"
      },
      "outputs": [],
      "source": []
    },
    {
      "cell_type": "code",
      "execution_count": null,
      "id": "JinSNJgh-pRf",
      "metadata": {
        "id": "JinSNJgh-pRf"
      },
      "outputs": [],
      "source": []
    },
    {
      "cell_type": "code",
      "execution_count": null,
      "id": "ywg21ljv-pcL",
      "metadata": {
        "id": "ywg21ljv-pcL"
      },
      "outputs": [],
      "source": []
    },
    {
      "cell_type": "code",
      "execution_count": null,
      "id": "Jl01Xhpa-pfL",
      "metadata": {
        "id": "Jl01Xhpa-pfL"
      },
      "outputs": [],
      "source": []
    },
    {
      "cell_type": "code",
      "execution_count": null,
      "id": "ErNrKHRm-pg_",
      "metadata": {
        "id": "ErNrKHRm-pg_"
      },
      "outputs": [],
      "source": []
    },
    {
      "cell_type": "code",
      "execution_count": null,
      "id": "IElgvqQj-pit",
      "metadata": {
        "id": "IElgvqQj-pit"
      },
      "outputs": [],
      "source": []
    },
    {
      "cell_type": "code",
      "execution_count": null,
      "id": "-TADzyG9-pnO",
      "metadata": {
        "id": "-TADzyG9-pnO"
      },
      "outputs": [],
      "source": []
    },
    {
      "cell_type": "code",
      "execution_count": null,
      "id": "miiDblbz-ppC",
      "metadata": {
        "id": "miiDblbz-ppC"
      },
      "outputs": [],
      "source": []
    },
    {
      "cell_type": "code",
      "execution_count": null,
      "id": "Bnp7fHxm-pqu",
      "metadata": {
        "id": "Bnp7fHxm-pqu"
      },
      "outputs": [],
      "source": []
    },
    {
      "cell_type": "code",
      "execution_count": null,
      "id": "UiQbsLv47Xu-",
      "metadata": {
        "id": "UiQbsLv47Xu-"
      },
      "outputs": [],
      "source": []
    },
    {
      "cell_type": "code",
      "execution_count": null,
      "id": "hhAiYZZVGIsM",
      "metadata": {
        "id": "hhAiYZZVGIsM"
      },
      "outputs": [],
      "source": []
    },
    {
      "cell_type": "code",
      "execution_count": null,
      "id": "EWQ7UG7zGIuj",
      "metadata": {
        "id": "EWQ7UG7zGIuj"
      },
      "outputs": [],
      "source": []
    },
    {
      "cell_type": "code",
      "execution_count": null,
      "id": "hUObArfBGIw5",
      "metadata": {
        "id": "hUObArfBGIw5"
      },
      "outputs": [],
      "source": []
    },
    {
      "cell_type": "code",
      "execution_count": null,
      "id": "ln5ftwRAGI0C",
      "metadata": {
        "id": "ln5ftwRAGI0C"
      },
      "outputs": [],
      "source": []
    },
    {
      "cell_type": "code",
      "execution_count": null,
      "id": "jgczkpH8GI2s",
      "metadata": {
        "id": "jgczkpH8GI2s"
      },
      "outputs": [],
      "source": []
    },
    {
      "cell_type": "code",
      "execution_count": null,
      "id": "CFxtsYm4DJxo",
      "metadata": {
        "id": "CFxtsYm4DJxo"
      },
      "outputs": [],
      "source": []
    },
    {
      "cell_type": "code",
      "execution_count": null,
      "id": "zIo_rXgnDJzw",
      "metadata": {
        "id": "zIo_rXgnDJzw"
      },
      "outputs": [],
      "source": []
    },
    {
      "cell_type": "code",
      "execution_count": null,
      "id": "N4iBf4B0DJ14",
      "metadata": {
        "id": "N4iBf4B0DJ14"
      },
      "outputs": [],
      "source": []
    },
    {
      "cell_type": "code",
      "execution_count": null,
      "id": "mGuWgjhCDJ5y",
      "metadata": {
        "id": "mGuWgjhCDJ5y"
      },
      "outputs": [],
      "source": []
    },
    {
      "cell_type": "code",
      "execution_count": null,
      "id": "mtPQw2LIDJ8A",
      "metadata": {
        "id": "mtPQw2LIDJ8A"
      },
      "outputs": [],
      "source": []
    },
    {
      "cell_type": "code",
      "execution_count": null,
      "id": "VRIqcx7HDJ9m",
      "metadata": {
        "id": "VRIqcx7HDJ9m"
      },
      "outputs": [],
      "source": []
    },
    {
      "cell_type": "code",
      "execution_count": null,
      "id": "HfhdGuLEDJ_u",
      "metadata": {
        "id": "HfhdGuLEDJ_u"
      },
      "outputs": [],
      "source": []
    }
  ],
  "metadata": {
    "accelerator": "GPU",
    "colab": {
      "gpuType": "L4",
      "provenance": [],
      "machine_shape": "hm"
    },
    "kernelspec": {
      "display_name": "virtual ENV",
      "language": "python",
      "name": "environment_instance"
    },
    "language_info": {
      "codemirror_mode": {
        "name": "ipython",
        "version": 3
      },
      "file_extension": ".py",
      "mimetype": "text/x-python",
      "name": "python",
      "nbconvert_exporter": "python",
      "pygments_lexer": "ipython3",
      "version": "3.6.9"
    }
  },
  "nbformat": 4,
  "nbformat_minor": 5
}