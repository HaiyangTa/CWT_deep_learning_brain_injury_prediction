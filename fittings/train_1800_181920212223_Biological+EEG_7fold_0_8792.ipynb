{
  "cells": [
    {
      "cell_type": "code",
      "execution_count": 26,
      "id": "8f5a4f5b-bad9-49e3-8dd6-7304666df443",
      "metadata": {
        "id": "8f5a4f5b-bad9-49e3-8dd6-7304666df443"
      },
      "outputs": [],
      "source": [
        "import torch\n",
        "import torch.nn as nn\n",
        "import torch.optim as optim\n",
        "import torch.backends.cudnn as cudnn\n",
        "import torchvision\n",
        "import torchvision.transforms as transforms\n",
        "import os\n",
        "import argparse\n",
        "from pathlib import Path\n",
        "import re\n",
        "import random\n",
        "import math\n",
        "import numpy as np\n",
        "import pandas as pd\n",
        "from sklearn.model_selection import train_test_split\n",
        "from sklearn.metrics import accuracy_score, roc_auc_score, classification_report, confusion_matrix\n",
        "from torch.utils.data import Dataset, DataLoader\n",
        "import pandas as pd"
      ]
    },
    {
      "cell_type": "code",
      "execution_count": 27,
      "id": "dr2Fm7p5mAAN",
      "metadata": {
        "colab": {
          "base_uri": "https://localhost:8080/"
        },
        "id": "dr2Fm7p5mAAN",
        "outputId": "44eb68fe-a8a9-451f-b979-c7a676d199a7"
      },
      "outputs": [
        {
          "output_type": "stream",
          "name": "stdout",
          "text": [
            "Drive already mounted at /content/drive; to attempt to forcibly remount, call drive.mount(\"/content/drive\", force_remount=True).\n"
          ]
        }
      ],
      "source": [
        "from google.colab import drive\n",
        "drive.mount('/content/drive')"
      ]
    },
    {
      "cell_type": "code",
      "source": [],
      "metadata": {
        "id": "gUHWAH8qdC05"
      },
      "id": "gUHWAH8qdC05",
      "execution_count": 27,
      "outputs": []
    },
    {
      "cell_type": "code",
      "source": [],
      "metadata": {
        "id": "L2wH-XagdC3h"
      },
      "id": "L2wH-XagdC3h",
      "execution_count": 27,
      "outputs": []
    },
    {
      "cell_type": "markdown",
      "source": [
        "### Reading the BF data"
      ],
      "metadata": {
        "id": "51Qe0XC1X2Ju"
      },
      "id": "51Qe0XC1X2Ju"
    },
    {
      "cell_type": "code",
      "source": [
        "bf_path = '/content/drive/MyDrive/ALL_CLEAN_DEIDEN_NAME AND ECMO DATA(Sheet1) (1) (version 2).csv'\n",
        "cols = ['ID', 'age_days', 'weight', 'study_height', 'Diagnosis']\n",
        "df = pd.read_csv(bf_path, usecols=cols)\n",
        "\n",
        "for col in ['weight', 'study_height', 'age_days']:\n",
        "    s = pd.to_numeric(df[col], errors='coerce')\n",
        "    mx = s.max(skipna=True)\n",
        "    if pd.notna(mx) and mx != 0:\n",
        "        df[col] = s / mx\n",
        "    else:\n",
        "        df[col] = s\n",
        "print(df.head())"
      ],
      "metadata": {
        "colab": {
          "base_uri": "https://localhost:8080/"
        },
        "id": "eI4st7P3X51D",
        "outputId": "9bc51cfb-fc40-4d06-dfdd-3c04573d6efa"
      },
      "id": "eI4st7P3X51D",
      "execution_count": 28,
      "outputs": [
        {
          "output_type": "stream",
          "name": "stdout",
          "text": [
            "   ID  age_days            Diagnosis    weight  study_height\n",
            "0   1  0.018213       Cardiac Arrest  0.042214      0.344538\n",
            "1   2  0.072852       Cardiac Arrest  0.070000      0.431373\n",
            "2   3  0.793776               Sepsis  0.403571      0.896359\n",
            "3   4  0.000287  Respiratory Failure  0.022786      0.268908\n",
            "4   5  0.000287  Respiratory Failure  0.023571      0.285714\n"
          ]
        }
      ]
    },
    {
      "cell_type": "code",
      "source": [
        "diag_clean = (\n",
        "    df['Diagnosis']\n",
        "      .astype('string')\n",
        "      .str.strip()\n",
        "      .str.replace(r'\\s+', ' ', regex=True)\n",
        "      .fillna('Unknown')\n",
        ")\n",
        "\n",
        "codes, uniques = pd.factorize(diag_clean, sort=True)\n",
        "df['Diagnosis'] = codes.astype('int64')\n",
        "diagnosis_mapping = {cat: int(i) for i, cat in enumerate(uniques)}\n",
        "print(\"Diagnosis mapping (category -> code):\", diagnosis_mapping)\n",
        "\n",
        "# Peek\n",
        "print(df.head())"
      ],
      "metadata": {
        "colab": {
          "base_uri": "https://localhost:8080/"
        },
        "id": "6KRSpwpSX53j",
        "outputId": "8ceb17f7-8251-4e30-d6af-6d4a827ce874"
      },
      "id": "6KRSpwpSX53j",
      "execution_count": 29,
      "outputs": [
        {
          "output_type": "stream",
          "name": "stdout",
          "text": [
            "Diagnosis mapping (category -> code): {'Cardiac Arrest': 0, 'Cardiogenic Shock': 1, 'Respiratory Failure': 2, 'Sepsis': 3, 'Septic shock': 4}\n",
            "   ID  age_days  Diagnosis    weight  study_height\n",
            "0   1  0.018213          0  0.042214      0.344538\n",
            "1   2  0.072852          0  0.070000      0.431373\n",
            "2   3  0.793776          3  0.403571      0.896359\n",
            "3   4  0.000287          2  0.022786      0.268908\n",
            "4   5  0.000287          2  0.023571      0.285714\n"
          ]
        }
      ]
    },
    {
      "cell_type": "code",
      "source": [
        "df.shape"
      ],
      "metadata": {
        "colab": {
          "base_uri": "https://localhost:8080/"
        },
        "id": "Z5Jnj3X_X5_P",
        "outputId": "20994988-5728-44f6-bfee-1453ec4a4786"
      },
      "id": "Z5Jnj3X_X5_P",
      "execution_count": 30,
      "outputs": [
        {
          "output_type": "execute_result",
          "data": {
            "text/plain": [
              "(72, 5)"
            ]
          },
          "metadata": {},
          "execution_count": 30
        }
      ]
    },
    {
      "cell_type": "code",
      "source": [
        "df['Diagnosis']"
      ],
      "metadata": {
        "id": "Z-Q3ZaH-X6EY",
        "colab": {
          "base_uri": "https://localhost:8080/",
          "height": 458
        },
        "outputId": "4e3bf5e7-f573-4b6a-a97f-753314be8684"
      },
      "id": "Z-Q3ZaH-X6EY",
      "execution_count": 31,
      "outputs": [
        {
          "output_type": "execute_result",
          "data": {
            "text/plain": [
              "0     0\n",
              "1     0\n",
              "2     3\n",
              "3     2\n",
              "4     2\n",
              "     ..\n",
              "67    3\n",
              "68    2\n",
              "69    2\n",
              "70    2\n",
              "71    2\n",
              "Name: Diagnosis, Length: 72, dtype: int64"
            ],
            "text/html": [
              "<div>\n",
              "<style scoped>\n",
              "    .dataframe tbody tr th:only-of-type {\n",
              "        vertical-align: middle;\n",
              "    }\n",
              "\n",
              "    .dataframe tbody tr th {\n",
              "        vertical-align: top;\n",
              "    }\n",
              "\n",
              "    .dataframe thead th {\n",
              "        text-align: right;\n",
              "    }\n",
              "</style>\n",
              "<table border=\"1\" class=\"dataframe\">\n",
              "  <thead>\n",
              "    <tr style=\"text-align: right;\">\n",
              "      <th></th>\n",
              "      <th>Diagnosis</th>\n",
              "    </tr>\n",
              "  </thead>\n",
              "  <tbody>\n",
              "    <tr>\n",
              "      <th>0</th>\n",
              "      <td>0</td>\n",
              "    </tr>\n",
              "    <tr>\n",
              "      <th>1</th>\n",
              "      <td>0</td>\n",
              "    </tr>\n",
              "    <tr>\n",
              "      <th>2</th>\n",
              "      <td>3</td>\n",
              "    </tr>\n",
              "    <tr>\n",
              "      <th>3</th>\n",
              "      <td>2</td>\n",
              "    </tr>\n",
              "    <tr>\n",
              "      <th>4</th>\n",
              "      <td>2</td>\n",
              "    </tr>\n",
              "    <tr>\n",
              "      <th>...</th>\n",
              "      <td>...</td>\n",
              "    </tr>\n",
              "    <tr>\n",
              "      <th>67</th>\n",
              "      <td>3</td>\n",
              "    </tr>\n",
              "    <tr>\n",
              "      <th>68</th>\n",
              "      <td>2</td>\n",
              "    </tr>\n",
              "    <tr>\n",
              "      <th>69</th>\n",
              "      <td>2</td>\n",
              "    </tr>\n",
              "    <tr>\n",
              "      <th>70</th>\n",
              "      <td>2</td>\n",
              "    </tr>\n",
              "    <tr>\n",
              "      <th>71</th>\n",
              "      <td>2</td>\n",
              "    </tr>\n",
              "  </tbody>\n",
              "</table>\n",
              "<p>72 rows × 1 columns</p>\n",
              "</div><br><label><b>dtype:</b> int64</label>"
            ]
          },
          "metadata": {},
          "execution_count": 31
        }
      ]
    },
    {
      "cell_type": "code",
      "source": [],
      "metadata": {
        "id": "REn1fKi1pHMT"
      },
      "id": "REn1fKi1pHMT",
      "execution_count": 31,
      "outputs": []
    },
    {
      "cell_type": "markdown",
      "source": [
        "### No normalization!"
      ],
      "metadata": {
        "id": "vCi0eO54p2NW"
      },
      "id": "vCi0eO54p2NW"
    },
    {
      "cell_type": "code",
      "source": [
        "from pathlib import Path\n",
        "import re, random, math, os\n",
        "import numpy as np\n",
        "import pandas as pd\n",
        "\n",
        "from sklearn.metrics import roc_auc_score, accuracy_score, roc_curve\n",
        "from sklearn.model_selection import StratifiedKFold, train_test_split\n",
        "\n",
        "import matplotlib.pyplot as plt\n",
        "\n",
        "import tensorflow as tf\n",
        "from tensorflow import keras\n",
        "from tensorflow.keras import layers\n",
        "\n",
        "# =========================\n",
        "# Config\n",
        "# =========================\n",
        "SPLIT_DIR = r\"/content/drive/MyDrive/CD/patient_data_clean_nozero_181920212223_1800\"\n",
        "POS_PATIENTS = {1, 2, 16, 19, 21, 22, 25, 37, 39, 43, 44, 47, 50, 56, 58, 62, 65, 66, 73, 78}\n",
        "\n",
        "BATCH_SIZE       = 3\n",
        "EPOCHS           = 100\n",
        "LR               = 1e-4\n",
        "SEED             = 1\n",
        "K_FOLDS          = 7\n",
        "\n",
        "# (kept for reference; not used to fix height)\n",
        "TARGET_H = 400\n",
        "\n",
        "# =========================\n",
        "# Noise config (train-time augmentation only, EEG input only)\n",
        "# =========================\n",
        "TRAIN_ADD_GAUSS_NOISE = True\n",
        "TRAIN_NOISE_FRAC      = 0.0   # set >0 to actually add noise\n",
        "TRAIN_NOISE_PROB      = 1.0\n",
        "EPS_STD               = 1e-8\n",
        "\n",
        "# =========================\n",
        "# Repro\n",
        "# =========================\n",
        "random.seed(SEED)\n",
        "np.random.seed(SEED)\n",
        "tf.random.set_seed(SEED)\n",
        "os.environ[\"PYTHONHASHSEED\"] = str(SEED)\n",
        "for g in tf.config.list_physical_devices('GPU'):\n",
        "    try:\n",
        "        tf.config.experimental.set_memory_growth(g, True)\n",
        "    except Exception:\n",
        "        pass\n",
        "\n",
        "# =========================\n",
        "# Helpers\n",
        "# =========================\n",
        "PATIENT_NUM_RX = re.compile(r'^ID(\\d+)')  # e.g., \"ID76-2_...\" -> 76\n",
        "\n",
        "def patient_num_from_path(pathlike):\n",
        "    stem = Path(pathlike).stem\n",
        "    m = PATIENT_NUM_RX.match(stem)\n",
        "    return int(m.group(1)) if m else None\n",
        "\n",
        "def label_for_id(pid: int) -> int:\n",
        "    return 1 if pid in POS_PATIENTS else 0\n",
        "\n",
        "def label_for_file(p: Path) -> int:\n",
        "    pid = patient_num_from_path(p)\n",
        "    return label_for_id(pid) if pid is not None else 0\n",
        "\n",
        "# =========================\n",
        "# Load your existing features DataFrame: must exist as `df`\n",
        "# Columns: 'ID' + your feature columns (3 in your current setup)\n",
        "# =========================\n",
        "feats_df = df.copy()  # <-- expects `df` already in memory\n",
        "if \"ID\" not in feats_df.columns:\n",
        "    raise RuntimeError(\"Your features DataFrame must contain column 'ID'.\")\n",
        "\n",
        "FEAT_COLS = [c for c in feats_df.columns if c != \"ID\"]\n",
        "FEAT_DIM = len(FEAT_COLS)\n",
        "print(\"FEAT_DIM =\", FEAT_DIM)\n",
        "\n",
        "# Clean and index by ID; drop rows with missing any of the features\n",
        "feats_df[\"ID\"] = pd.to_numeric(feats_df[\"ID\"], errors=\"coerce\").astype(\"Int64\")\n",
        "feats_df = feats_df.dropna(subset=[\"ID\"] + FEAT_COLS).copy()\n",
        "feats_df[\"ID\"] = feats_df[\"ID\"].astype(int)\n",
        "ID_TO_FEAT = {\n",
        "    int(row[\"ID\"]): row[FEAT_COLS].astype(\"float32\").to_numpy()\n",
        "    for _, row in feats_df.iterrows()\n",
        "}\n",
        "\n",
        "# =========================\n",
        "# Enumerate EEG files and keep only IDs present in features\n",
        "# =========================\n",
        "split_dir = Path(SPLIT_DIR)\n",
        "all_csvs = sorted(split_dir.glob(\"*.csv\"))\n",
        "if not all_csvs:\n",
        "    raise FileNotFoundError(f\"No CSV found in {SPLIT_DIR}\")\n",
        "\n",
        "id_to_files = {}\n",
        "for f in all_csvs:\n",
        "    pid = patient_num_from_path(f)\n",
        "    if pid is None:\n",
        "        continue\n",
        "    if pid in ID_TO_FEAT:  # keep only IDs with features\n",
        "        id_to_files.setdefault(pid, []).append(f)\n",
        "\n",
        "valid_ids = sorted(id_to_files.keys())\n",
        "if not valid_ids:\n",
        "    raise RuntimeError(\"No overlapping patient IDs between files and features table.\")\n",
        "y_ids = np.array([label_for_id(pid) for pid in valid_ids], dtype=int)\n",
        "print(\"Total valid IDs:\", len(valid_ids), \"| Pos IDs:\", y_ids.sum(), \"| Neg IDs:\", (1 - y_ids).sum())\n",
        "\n",
        "# =========================\n",
        "# Utilities for loading & shaping EEG (de-dup consecutive rows)\n",
        "# =========================\n",
        "def _drop_time_cols(df: pd.DataFrame) -> pd.DataFrame:\n",
        "    time_like = [c for c in df.columns if isinstance(c, str) and c.strip().lower() == \"time\"]\n",
        "    return df.drop(columns=time_like, errors=\"ignore\")\n",
        "\n",
        "def _to_numeric_df(df: pd.DataFrame) -> pd.DataFrame:\n",
        "    df = _drop_time_cols(df)\n",
        "    return df.apply(pd.to_numeric, errors=\"coerce\").fillna(0.0)\n",
        "\n",
        "def _pad_crop_2d(x: np.ndarray, H: int, W: int) -> np.ndarray:\n",
        "    h, w = x.shape\n",
        "    if h < H:\n",
        "        pad = np.zeros((H, w), dtype=x.dtype); pad[:h, :] = x; x = pad; h = H\n",
        "    elif h > H:\n",
        "        x = x[:H, :]; h = H\n",
        "    if w < W:\n",
        "        pad = np.zeros((h, W), dtype=x.dtype); pad[:, :w] = x; x = pad\n",
        "    elif w > W:\n",
        "        x = x[:, :W]\n",
        "    return x\n",
        "\n",
        "def _dedupe_consecutive_rows(mat: np.ndarray) -> np.ndarray:\n",
        "    if mat.size == 0:\n",
        "        return mat\n",
        "    if mat.ndim == 1:\n",
        "        mat = mat[:, None]\n",
        "    if mat.shape[0] == 1:\n",
        "        return mat\n",
        "    diffs = np.any(mat[1:] != mat[:-1], axis=1)\n",
        "    keep = np.concatenate(([True], diffs))\n",
        "    return mat[keep]\n",
        "\n",
        "def _infer_target_width(example_csv: Path) -> int:\n",
        "    df0 = pd.read_csv(example_csv)\n",
        "    df2 = _to_numeric_df(df0)\n",
        "    return df2.shape[1]\n",
        "\n",
        "# Width is fixed by columns in first valid sample\n",
        "TARGET_W = _infer_target_width(id_to_files[valid_ids[0]][0])\n",
        "print(f\"TARGET_W={TARGET_W} (non-Time columns)\")\n",
        "\n",
        "# Height: max de-dup length across ALL eligible files (fixed for all folds)\n",
        "def _dedup_len_from_csv(p: Path) -> int:\n",
        "    dfx = pd.read_csv(p)\n",
        "    mat = _to_numeric_df(dfx).to_numpy(dtype=np.float32)\n",
        "    mat_d = _dedupe_consecutive_rows(mat)\n",
        "    return int(mat_d.shape[0])\n",
        "\n",
        "ALL_ELIGIBLE_FILES = [f for pid in valid_ids for f in id_to_files[pid]]\n",
        "TARGET_H_DEDUP = max(_dedup_len_from_csv(f) for f in ALL_ELIGIBLE_FILES)\n",
        "if TARGET_H_DEDUP <= 0:\n",
        "    raise RuntimeError(\"After de-dup, zero-length found in data.\")\n",
        "print(f\"Fixed input height after de-dup (all IDs): H={TARGET_H_DEDUP}\")\n",
        "\n",
        "def load_csv_as_image_dedup(csv_path: Path) -> np.ndarray:\n",
        "    df0 = pd.read_csv(csv_path)\n",
        "    df2 = _to_numeric_df(df0)\n",
        "    mat = df2.to_numpy(dtype=np.float32)\n",
        "    if mat.ndim != 2:\n",
        "        mat = mat.reshape(mat.shape[0], -1) if mat.ndim > 2 else mat\n",
        "    mat = _dedupe_consecutive_rows(mat)\n",
        "    if mat.shape[0] == 0:\n",
        "        mat = np.zeros((1, TARGET_W), dtype=np.float32)\n",
        "    mat = _pad_crop_2d(mat, TARGET_H_DEDUP, TARGET_W)\n",
        "    img = np.expand_dims(mat, axis=-1).astype(np.float32)  # (H, W, 1)\n",
        "    if img.shape != (TARGET_H_DEDUP, TARGET_W, 1):\n",
        "        raise ValueError(f\"loader produced {img.shape}, expected {(TARGET_H_DEDUP, TARGET_W, 1)}\")\n",
        "    return img\n",
        "\n",
        "CACHE_DEDUP = {}\n",
        "def load_csv_as_image_cached(csv_path: Path) -> np.ndarray:\n",
        "    key = str(csv_path)\n",
        "    if key in CACHE_DEDUP:\n",
        "        return CACHE_DEDUP[key]\n",
        "    img = load_csv_as_image_dedup(csv_path)\n",
        "    CACHE_DEDUP[key] = img\n",
        "    return img\n",
        "\n",
        "# =========================\n",
        "# Keras Sequence — returns ({\"eeg_input\": X_img, \"tab_input\": X_tab}, y)\n",
        "# =========================\n",
        "class ImageSequence(keras.utils.Sequence):\n",
        "    def __init__(self, files, batch_size=BATCH_SIZE, shuffle=True,\n",
        "                 add_noise=False, noise_frac=TRAIN_NOISE_FRAC, noise_prob=TRAIN_NOISE_PROB):\n",
        "        super().__init__()\n",
        "        self.files = list(files)\n",
        "        self.batch_size = int(batch_size)\n",
        "        self.shuffle = shuffle\n",
        "        self.add_noise = add_noise\n",
        "        self.noise_frac = float(noise_frac)\n",
        "        self.noise_prob = float(noise_prob)\n",
        "        self.on_epoch_end()\n",
        "\n",
        "    def __len__(self):\n",
        "        return math.ceil(len(self.files) / self.batch_size)\n",
        "\n",
        "    def on_epoch_end(self):\n",
        "        self.indexes = np.arange(len(self.files))\n",
        "        if self.shuffle:\n",
        "            np.random.shuffle(self.indexes)\n",
        "\n",
        "    def __getitem__(self, idx):\n",
        "        idxs = self.indexes[idx * self.batch_size : (idx + 1) * self.batch_size]\n",
        "        batch_files = [self.files[i] for i in idxs]\n",
        "        B = len(batch_files)\n",
        "\n",
        "        X_img = np.empty((B, TARGET_H_DEDUP, TARGET_W, 1), dtype=np.float32)\n",
        "        X_tab = np.empty((B, FEAT_DIM), dtype=np.float32)\n",
        "        y     = np.empty((B,), dtype=np.int32)\n",
        "\n",
        "        for i, f in enumerate(batch_files):\n",
        "            xi = load_csv_as_image_cached(f)\n",
        "            if xi.ndim == 2:\n",
        "                xi = xi[..., None]\n",
        "            if xi.shape != (TARGET_H_DEDUP, TARGET_W, 1):\n",
        "                raise ValueError(f\"Sample shape {xi.shape} for {f}\")\n",
        "            X_img[i] = xi\n",
        "            pid = patient_num_from_path(f)\n",
        "            X_tab[i] = ID_TO_FEAT[pid]\n",
        "            y[i] = label_for_file(f)\n",
        "\n",
        "        # Gaussian noise on EEG only (train)\n",
        "        if self.add_noise and self.noise_frac > 0.0 and self.noise_prob > 0.0:\n",
        "            samp_std = X_img.reshape(B, -1).std(axis=1).astype(np.float32)\n",
        "            samp_std = np.maximum(samp_std, EPS_STD).reshape(B, 1, 1, 1)\n",
        "            noise = np.random.normal(0.0, 1.0, size=X_img.shape).astype(np.float32)\n",
        "            noise *= (self.noise_frac * samp_std)\n",
        "            if self.noise_prob < 1.0:\n",
        "                mask = (np.random.rand(B, 1, 1, 1) < self.noise_prob).astype(np.float32)\n",
        "                noise *= mask\n",
        "            X_img = X_img + noise\n",
        "\n",
        "        return {\"eeg_input\": X_img, \"tab_input\": X_tab}, y\n",
        "\n",
        "# =========================\n",
        "# Two-input Model: CNN (EEG) + MLP (tabular features)\n",
        "# =========================\n",
        "def build_model(h=TARGET_H_DEDUP, w=TARGET_W, c=1, lr=LR,\n",
        "                growth_rate=10, block_layers=(2,3,2,3),\n",
        "                compression=0.2, dropout=0.2, tab_dim=FEAT_DIM):\n",
        "\n",
        "    eeg_in = keras.Input(shape=(h, w, c), name=\"eeg_input\")\n",
        "\n",
        "    def bn_relu_conv(x, filters, ksize, stride=1):\n",
        "        x = layers.ReLU()(x)\n",
        "        x = layers.Conv2D(filters, ksize, strides=stride, padding=\"same\", use_bias=False)(x)\n",
        "        return x\n",
        "\n",
        "    def dense_layer(x):\n",
        "        y = bn_relu_conv(x, 4 * growth_rate, 1)\n",
        "        y = bn_relu_conv(y, growth_rate, 3)\n",
        "        return layers.Concatenate()([x, y])\n",
        "\n",
        "    def dense_block(x, L):\n",
        "        for _ in range(L):\n",
        "            x = dense_layer(x)\n",
        "        return x\n",
        "\n",
        "    def transition_layer(x):\n",
        "        filters = max(8, int(int(x.shape[-1]) * compression)) # changed to 32!\n",
        "        x = bn_relu_conv(x, filters, 1)\n",
        "        return layers.AveragePooling2D(pool_size=(2, 2), strides=2, padding=\"same\")(x)\n",
        "\n",
        "    x = layers.Conv2D(32, 3, padding=\"same\", use_bias=False)(eeg_in)\n",
        "    x = layers.ReLU()(x)\n",
        "    for i, L in enumerate(block_layers):\n",
        "        x = dense_block(x, L)\n",
        "        if i != len(block_layers) - 1:\n",
        "            x = transition_layer(x)\n",
        "    x = layers.GlobalAveragePooling2D()(x)  # (B, F_eeg)\n",
        "\n",
        "    tab_in = keras.Input(shape=(tab_dim,), name=\"tab_input\")\n",
        "    t = layers.Dense(8, activation=\"relu\")(tab_in)\n",
        "    t = layers.Dense(8, activation=\"relu\")(t)\n",
        "\n",
        "    z = layers.Concatenate()([x, t])\n",
        "    z = layers.Dropout(dropout)(z)\n",
        "    z = layers.Dense(8, activation=\"relu\")(z)\n",
        "    z = layers.Dropout(dropout)(z)\n",
        "    out = layers.Dense(1, activation=\"sigmoid\")(z)\n",
        "\n",
        "    model = keras.Model(inputs=[eeg_in, tab_in], outputs=out)\n",
        "    model.compile(\n",
        "        optimizer=keras.optimizers.Adam(learning_rate=lr),\n",
        "        loss=\"binary_crossentropy\",\n",
        "        metrics=[keras.metrics.BinaryAccuracy(name=\"acc\"),\n",
        "                 keras.metrics.AUC(name=\"auc\")],\n",
        "    )\n",
        "    return model\n",
        "\n",
        "\n",
        "# =========================\n",
        "# Helper: ROC plot for TEST set\n",
        "# =========================\n",
        "def plot_roc(y_true, probs, title, out_png):\n",
        "    try:\n",
        "        if len(np.unique(y_true)) < 2:\n",
        "            print(f\"(Warning) ROC plot skipped for {title}: only one class present.\")\n",
        "            return\n",
        "        fpr, tpr, _ = roc_curve(y_true, probs)\n",
        "        auc_val = roc_auc_score(y_true, probs)\n",
        "        plt.figure()\n",
        "        plt.plot(fpr, tpr, label=f\"AUC = {auc_val:.3f}\")\n",
        "        plt.plot([0, 1], [0, 1], linestyle=\"--\", linewidth=1)\n",
        "        plt.xlabel(\"False Positive Rate\")\n",
        "        plt.ylabel(\"True Positive Rate\")\n",
        "        plt.title(title)\n",
        "        plt.legend(loc=\"lower right\")\n",
        "        plt.grid(True, alpha=0.3)\n",
        "        plt.tight_layout()\n",
        "        plt.savefig(out_png, dpi=200)\n",
        "        plt.show()\n",
        "        plt.close()\n",
        "        print(f\"Saved ROC to {out_png}\")\n",
        "    except Exception as e:\n",
        "        print(f\"(Warning) ROC plot failed for {title}: {e}\")\n",
        "\n",
        "# =========================\n",
        "# Build folds by ID (outer = train/test; inner = val)\n",
        "# =========================\n",
        "valid_ids_arr = np.array(valid_ids)\n",
        "labels_arr    = np.array([label_for_id(pid) for pid in valid_ids_arr], dtype=int)\n",
        "\n",
        "skf = StratifiedKFold(n_splits=K_FOLDS, shuffle=True, random_state=SEED)\n",
        "\n",
        "fold_test_aucs, fold_test_accs = [], []\n",
        "\n",
        "print(\"\\n=== 10-Fold CV (by patient ID; TEST metrics saved) ===\")\n",
        "for fold_idx, (train_idx, test_idx) in enumerate(skf.split(valid_ids_arr, labels_arr), start=1):\n",
        "    # Outer split: train vs test (by ID)\n",
        "    ids_train_full = [int(valid_ids_arr[i]) for i in train_idx]\n",
        "    ids_test       = [int(valid_ids_arr[i]) for i in test_idx]\n",
        "\n",
        "    # Inner split: carve VAL from training IDs (for checkpoint selection)\n",
        "    train_labels_full = np.array([label_for_id(pid) for pid in ids_train_full], dtype=int)\n",
        "    try:\n",
        "        ids_tr, ids_val = train_test_split(\n",
        "            ids_train_full, test_size=0.10, random_state=SEED, stratify=train_labels_full\n",
        "        )\n",
        "    except ValueError:\n",
        "        ids_tr, ids_val = train_test_split(\n",
        "            ids_train_full, test_size=0.10, random_state=SEED, shuffle=True\n",
        "        )\n",
        "        print(f\"(Fold {fold_idx}) Warning: stratified VAL split failed; using unstratified split.\")\n",
        "\n",
        "    # Files for each split\n",
        "    train_files = [f for pid in ids_tr   for f in id_to_files[pid]]\n",
        "    val_files   = [f for pid in ids_val  for f in id_to_files[pid]]\n",
        "    test_files  = [f for pid in ids_test for f in id_to_files[pid]]\n",
        "\n",
        "    print(f\"\\n--- Fold {fold_idx}/{K_FOLDS} ---\")\n",
        "    print(f\" train files: {len(train_files)} | val files: {len(val_files)} | test files: {len(test_files)}\")\n",
        "\n",
        "    # Generators\n",
        "    train_gen = ImageSequence(train_files, batch_size=BATCH_SIZE, shuffle=True,\n",
        "                              add_noise=TRAIN_ADD_GAUSS_NOISE)\n",
        "    val_gen   = ImageSequence(val_files,   batch_size=BATCH_SIZE, shuffle=False,\n",
        "                              add_noise=False)\n",
        "    test_gen  = ImageSequence(test_files,  batch_size=BATCH_SIZE, shuffle=False,\n",
        "                              add_noise=False)\n",
        "\n",
        "    # Train with VAL for model selection\n",
        "    model = build_model()\n",
        "    ckpt_path = f\"best_fold_{fold_idx:02d}.h5\"\n",
        "    ckpt = keras.callbacks.ModelCheckpoint(\n",
        "        ckpt_path, monitor=\"val_loss\", mode=\"min\", save_best_only=True, verbose=0\n",
        "    )\n",
        "    _ = model.fit(train_gen, validation_data=val_gen, epochs=EPOCHS,\n",
        "                  callbacks=[ckpt], verbose=0)\n",
        "\n",
        "    # Evaluate on TEST set only (recorded)\n",
        "    best_model = keras.models.load_model(ckpt_path)\n",
        "    test_probs = best_model.predict(test_gen, verbose=0).ravel().astype(float)\n",
        "    test_y     = np.array([label_for_file(f) for f in test_gen.files], dtype=int)\n",
        "\n",
        "    try:\n",
        "        test_auc = roc_auc_score(test_y, test_probs)\n",
        "    except ValueError:\n",
        "        test_auc = float('nan')\n",
        "    test_acc = accuracy_score(test_y, (test_probs >= 0.5).astype(int))\n",
        "\n",
        "    fold_test_aucs.append(float(test_auc))\n",
        "    fold_test_accs.append(float(test_acc))\n",
        "    print(f\" Fold {fold_idx:2d} | TEST AUC={test_auc:.4f} | TEST ACC={test_acc:.4f} | n={len(test_y)}\")\n",
        "\n",
        "    # ==== NEW: plot & save TEST ROC for this fold ====\n",
        "    plot_roc(test_y, test_probs,\n",
        "             title=f\"ROC — TEST Fold {fold_idx:02d} (n={len(test_y)})\",\n",
        "             out_png=f\"roc_test_fold_{fold_idx:02d}.png\")\n",
        "\n",
        "# =========================\n",
        "# Summary & save (TEST only)\n",
        "# =========================\n",
        "valid_test_aucs = [a for a in fold_test_aucs if not np.isnan(a)]\n",
        "if valid_test_aucs:\n",
        "    print(f\"\\nMean TEST AUC: {np.mean(valid_test_aucs):.4f} ± {np.std(valid_test_aucs):.4f}\")\n",
        "else:\n",
        "    print(\"\\nMean TEST AUC: N/A (all NaN)\")\n",
        "\n",
        "print(f\"Mean TEST ACC: {np.mean(fold_test_accs):.4f} ± {np.std(fold_test_accs):.4f}\")\n",
        "\n",
        "metrics_df = pd.DataFrame({\n",
        "    \"fold\": np.arange(1, K_FOLDS+1),\n",
        "    \"test_auc\": fold_test_aucs,\n",
        "    \"test_acc\": fold_test_accs,\n",
        "})\n",
        "metrics_df.to_csv(\"cv_fold_test_metrics.csv\", index=False)\n",
        "print(\"\\nSaved TEST-only metrics to cv_fold_test_metrics.csv and ROC plots to roc_test_fold_XX.png\")\n"
      ],
      "metadata": {
        "colab": {
          "base_uri": "https://localhost:8080/",
          "height": 1000
        },
        "id": "lD7pVdaPpHPi",
        "outputId": "4c550e37-ac2c-4f85-e1eb-133b27ca9ce2"
      },
      "id": "lD7pVdaPpHPi",
      "execution_count": 32,
      "outputs": [
        {
          "output_type": "stream",
          "name": "stdout",
          "text": [
            "FEAT_DIM = 4\n",
            "Total valid IDs: 43 | Pos IDs: 14 | Neg IDs: 29\n",
            "TARGET_W=6 (non-Time columns)\n",
            "Fixed input height after de-dup (all IDs): H=360\n",
            "\n",
            "=== 10-Fold CV (by patient ID; TEST metrics saved) ===\n",
            "\n",
            "--- Fold 1/7 ---\n",
            " train files: 776 | val files: 121 | test files: 293\n"
          ]
        },
        {
          "output_type": "stream",
          "name": "stderr",
          "text": [
            "WARNING:absl:You are saving your model as an HDF5 file via `model.save()` or `keras.saving.save_model(model)`. This file format is considered legacy. We recommend using instead the native Keras format, e.g. `model.save('my_model.keras')` or `keras.saving.save_model(model, 'my_model.keras')`. \n",
            "WARNING:absl:You are saving your model as an HDF5 file via `model.save()` or `keras.saving.save_model(model)`. This file format is considered legacy. We recommend using instead the native Keras format, e.g. `model.save('my_model.keras')` or `keras.saving.save_model(model, 'my_model.keras')`. \n",
            "WARNING:absl:You are saving your model as an HDF5 file via `model.save()` or `keras.saving.save_model(model)`. This file format is considered legacy. We recommend using instead the native Keras format, e.g. `model.save('my_model.keras')` or `keras.saving.save_model(model, 'my_model.keras')`. \n",
            "WARNING:absl:You are saving your model as an HDF5 file via `model.save()` or `keras.saving.save_model(model)`. This file format is considered legacy. We recommend using instead the native Keras format, e.g. `model.save('my_model.keras')` or `keras.saving.save_model(model, 'my_model.keras')`. \n",
            "WARNING:absl:You are saving your model as an HDF5 file via `model.save()` or `keras.saving.save_model(model)`. This file format is considered legacy. We recommend using instead the native Keras format, e.g. `model.save('my_model.keras')` or `keras.saving.save_model(model, 'my_model.keras')`. \n",
            "WARNING:absl:You are saving your model as an HDF5 file via `model.save()` or `keras.saving.save_model(model)`. This file format is considered legacy. We recommend using instead the native Keras format, e.g. `model.save('my_model.keras')` or `keras.saving.save_model(model, 'my_model.keras')`. \n",
            "WARNING:absl:You are saving your model as an HDF5 file via `model.save()` or `keras.saving.save_model(model)`. This file format is considered legacy. We recommend using instead the native Keras format, e.g. `model.save('my_model.keras')` or `keras.saving.save_model(model, 'my_model.keras')`. \n",
            "WARNING:absl:You are saving your model as an HDF5 file via `model.save()` or `keras.saving.save_model(model)`. This file format is considered legacy. We recommend using instead the native Keras format, e.g. `model.save('my_model.keras')` or `keras.saving.save_model(model, 'my_model.keras')`. \n",
            "WARNING:absl:You are saving your model as an HDF5 file via `model.save()` or `keras.saving.save_model(model)`. This file format is considered legacy. We recommend using instead the native Keras format, e.g. `model.save('my_model.keras')` or `keras.saving.save_model(model, 'my_model.keras')`. \n",
            "WARNING:absl:You are saving your model as an HDF5 file via `model.save()` or `keras.saving.save_model(model)`. This file format is considered legacy. We recommend using instead the native Keras format, e.g. `model.save('my_model.keras')` or `keras.saving.save_model(model, 'my_model.keras')`. \n",
            "WARNING:absl:You are saving your model as an HDF5 file via `model.save()` or `keras.saving.save_model(model)`. This file format is considered legacy. We recommend using instead the native Keras format, e.g. `model.save('my_model.keras')` or `keras.saving.save_model(model, 'my_model.keras')`. \n",
            "WARNING:absl:You are saving your model as an HDF5 file via `model.save()` or `keras.saving.save_model(model)`. This file format is considered legacy. We recommend using instead the native Keras format, e.g. `model.save('my_model.keras')` or `keras.saving.save_model(model, 'my_model.keras')`. \n",
            "WARNING:absl:Compiled the loaded model, but the compiled metrics have yet to be built. `model.compile_metrics` will be empty until you train or evaluate the model.\n"
          ]
        },
        {
          "output_type": "stream",
          "name": "stdout",
          "text": [
            " Fold  1 | TEST AUC=0.5757 | TEST ACC=0.7065 | n=293\n"
          ]
        },
        {
          "output_type": "display_data",
          "data": {
            "text/plain": [
              "<Figure size 640x480 with 1 Axes>"
            ],
            "image/png": "[encoded data removed]"
          },
          "metadata": {}
        },
        {
          "output_type": "stream",
          "name": "stdout",
          "text": [
            "Saved ROC to roc_test_fold_01.png\n",
            "\n",
            "--- Fold 2/7 ---\n",
            " train files: 987 | val files: 79 | test files: 124\n"
          ]
        },
        {
          "output_type": "stream",
          "name": "stderr",
          "text": [
            "WARNING:absl:You are saving your model as an HDF5 file via `model.save()` or `keras.saving.save_model(model)`. This file format is considered legacy. We recommend using instead the native Keras format, e.g. `model.save('my_model.keras')` or `keras.saving.save_model(model, 'my_model.keras')`. \n",
            "WARNING:absl:You are saving your model as an HDF5 file via `model.save()` or `keras.saving.save_model(model)`. This file format is considered legacy. We recommend using instead the native Keras format, e.g. `model.save('my_model.keras')` or `keras.saving.save_model(model, 'my_model.keras')`. \n",
            "WARNING:absl:You are saving your model as an HDF5 file via `model.save()` or `keras.saving.save_model(model)`. This file format is considered legacy. We recommend using instead the native Keras format, e.g. `model.save('my_model.keras')` or `keras.saving.save_model(model, 'my_model.keras')`. \n",
            "WARNING:absl:Compiled the loaded model, but the compiled metrics have yet to be built. `model.compile_metrics` will be empty until you train or evaluate the model.\n"
          ]
        },
        {
          "output_type": "stream",
          "name": "stdout",
          "text": [
            " Fold  2 | TEST AUC=0.9452 | TEST ACC=0.9516 | n=124\n"
          ]
        },
        {
          "output_type": "display_data",
          "data": {
            "text/plain": [
              "<Figure size 640x480 with 1 Axes>"
            ],
            "image/png": "[encoded data removed]"
          },
          "metadata": {}
        },
        {
          "output_type": "stream",
          "name": "stdout",
          "text": [
            "Saved ROC to roc_test_fold_02.png\n",
            "\n",
            "--- Fold 3/7 ---\n",
            " train files: 1021 | val files: 42 | test files: 127\n"
          ]
        },
        {
          "output_type": "stream",
          "name": "stderr",
          "text": [
            "WARNING:absl:You are saving your model as an HDF5 file via `model.save()` or `keras.saving.save_model(model)`. This file format is considered legacy. We recommend using instead the native Keras format, e.g. `model.save('my_model.keras')` or `keras.saving.save_model(model, 'my_model.keras')`. \n",
            "WARNING:absl:You are saving your model as an HDF5 file via `model.save()` or `keras.saving.save_model(model)`. This file format is considered legacy. We recommend using instead the native Keras format, e.g. `model.save('my_model.keras')` or `keras.saving.save_model(model, 'my_model.keras')`. \n",
            "WARNING:absl:You are saving your model as an HDF5 file via `model.save()` or `keras.saving.save_model(model)`. This file format is considered legacy. We recommend using instead the native Keras format, e.g. `model.save('my_model.keras')` or `keras.saving.save_model(model, 'my_model.keras')`. \n",
            "WARNING:absl:You are saving your model as an HDF5 file via `model.save()` or `keras.saving.save_model(model)`. This file format is considered legacy. We recommend using instead the native Keras format, e.g. `model.save('my_model.keras')` or `keras.saving.save_model(model, 'my_model.keras')`. \n",
            "WARNING:absl:You are saving your model as an HDF5 file via `model.save()` or `keras.saving.save_model(model)`. This file format is considered legacy. We recommend using instead the native Keras format, e.g. `model.save('my_model.keras')` or `keras.saving.save_model(model, 'my_model.keras')`. \n",
            "WARNING:absl:You are saving your model as an HDF5 file via `model.save()` or `keras.saving.save_model(model)`. This file format is considered legacy. We recommend using instead the native Keras format, e.g. `model.save('my_model.keras')` or `keras.saving.save_model(model, 'my_model.keras')`. \n",
            "WARNING:absl:Compiled the loaded model, but the compiled metrics have yet to be built. `model.compile_metrics` will be empty until you train or evaluate the model.\n"
          ]
        },
        {
          "output_type": "stream",
          "name": "stdout",
          "text": [
            " Fold  3 | TEST AUC=0.8784 | TEST ACC=0.3543 | n=127\n"
          ]
        },
        {
          "output_type": "display_data",
          "data": {
            "text/plain": [
              "<Figure size 640x480 with 1 Axes>"
            ],
            "image/png": "[encoded data removed]"
          },
          "metadata": {}
        },
        {
          "output_type": "stream",
          "name": "stdout",
          "text": [
            "Saved ROC to roc_test_fold_03.png\n",
            "\n",
            "--- Fold 4/7 ---\n",
            " train files: 953 | val files: 168 | test files: 69\n"
          ]
        },
        {
          "output_type": "stream",
          "name": "stderr",
          "text": [
            "WARNING:absl:You are saving your model as an HDF5 file via `model.save()` or `keras.saving.save_model(model)`. This file format is considered legacy. We recommend using instead the native Keras format, e.g. `model.save('my_model.keras')` or `keras.saving.save_model(model, 'my_model.keras')`. \n",
            "WARNING:absl:You are saving your model as an HDF5 file via `model.save()` or `keras.saving.save_model(model)`. This file format is considered legacy. We recommend using instead the native Keras format, e.g. `model.save('my_model.keras')` or `keras.saving.save_model(model, 'my_model.keras')`. \n",
            "WARNING:absl:You are saving your model as an HDF5 file via `model.save()` or `keras.saving.save_model(model)`. This file format is considered legacy. We recommend using instead the native Keras format, e.g. `model.save('my_model.keras')` or `keras.saving.save_model(model, 'my_model.keras')`. \n",
            "WARNING:absl:You are saving your model as an HDF5 file via `model.save()` or `keras.saving.save_model(model)`. This file format is considered legacy. We recommend using instead the native Keras format, e.g. `model.save('my_model.keras')` or `keras.saving.save_model(model, 'my_model.keras')`. \n",
            "WARNING:absl:You are saving your model as an HDF5 file via `model.save()` or `keras.saving.save_model(model)`. This file format is considered legacy. We recommend using instead the native Keras format, e.g. `model.save('my_model.keras')` or `keras.saving.save_model(model, 'my_model.keras')`. \n",
            "WARNING:absl:You are saving your model as an HDF5 file via `model.save()` or `keras.saving.save_model(model)`. This file format is considered legacy. We recommend using instead the native Keras format, e.g. `model.save('my_model.keras')` or `keras.saving.save_model(model, 'my_model.keras')`. \n",
            "WARNING:absl:You are saving your model as an HDF5 file via `model.save()` or `keras.saving.save_model(model)`. This file format is considered legacy. We recommend using instead the native Keras format, e.g. `model.save('my_model.keras')` or `keras.saving.save_model(model, 'my_model.keras')`. \n",
            "WARNING:absl:You are saving your model as an HDF5 file via `model.save()` or `keras.saving.save_model(model)`. This file format is considered legacy. We recommend using instead the native Keras format, e.g. `model.save('my_model.keras')` or `keras.saving.save_model(model, 'my_model.keras')`. \n",
            "WARNING:absl:You are saving your model as an HDF5 file via `model.save()` or `keras.saving.save_model(model)`. This file format is considered legacy. We recommend using instead the native Keras format, e.g. `model.save('my_model.keras')` or `keras.saving.save_model(model, 'my_model.keras')`. \n",
            "WARNING:absl:You are saving your model as an HDF5 file via `model.save()` or `keras.saving.save_model(model)`. This file format is considered legacy. We recommend using instead the native Keras format, e.g. `model.save('my_model.keras')` or `keras.saving.save_model(model, 'my_model.keras')`. \n",
            "WARNING:absl:You are saving your model as an HDF5 file via `model.save()` or `keras.saving.save_model(model)`. This file format is considered legacy. We recommend using instead the native Keras format, e.g. `model.save('my_model.keras')` or `keras.saving.save_model(model, 'my_model.keras')`. \n",
            "WARNING:absl:You are saving your model as an HDF5 file via `model.save()` or `keras.saving.save_model(model)`. This file format is considered legacy. We recommend using instead the native Keras format, e.g. `model.save('my_model.keras')` or `keras.saving.save_model(model, 'my_model.keras')`. \n",
            "WARNING:absl:You are saving your model as an HDF5 file via `model.save()` or `keras.saving.save_model(model)`. This file format is considered legacy. We recommend using instead the native Keras format, e.g. `model.save('my_model.keras')` or `keras.saving.save_model(model, 'my_model.keras')`. \n",
            "WARNING:absl:You are saving your model as an HDF5 file via `model.save()` or `keras.saving.save_model(model)`. This file format is considered legacy. We recommend using instead the native Keras format, e.g. `model.save('my_model.keras')` or `keras.saving.save_model(model, 'my_model.keras')`. \n",
            "WARNING:absl:Compiled the loaded model, but the compiled metrics have yet to be built. `model.compile_metrics` will be empty until you train or evaluate the model.\n"
          ]
        },
        {
          "output_type": "stream",
          "name": "stdout",
          "text": [
            " Fold  4 | TEST AUC=0.9838 | TEST ACC=0.9855 | n=69\n"
          ]
        },
        {
          "output_type": "display_data",
          "data": {
            "text/plain": [
              "<Figure size 640x480 with 1 Axes>"
            ],
            "image/png": "[encoded data removed]"
          },
          "metadata": {}
        },
        {
          "output_type": "stream",
          "name": "stdout",
          "text": [
            "Saved ROC to roc_test_fold_04.png\n",
            "\n",
            "--- Fold 5/7 ---\n",
            " train files: 922 | val files: 158 | test files: 110\n"
          ]
        },
        {
          "output_type": "stream",
          "name": "stderr",
          "text": [
            "WARNING:absl:You are saving your model as an HDF5 file via `model.save()` or `keras.saving.save_model(model)`. This file format is considered legacy. We recommend using instead the native Keras format, e.g. `model.save('my_model.keras')` or `keras.saving.save_model(model, 'my_model.keras')`. \n",
            "WARNING:absl:You are saving your model as an HDF5 file via `model.save()` or `keras.saving.save_model(model)`. This file format is considered legacy. We recommend using instead the native Keras format, e.g. `model.save('my_model.keras')` or `keras.saving.save_model(model, 'my_model.keras')`. \n",
            "WARNING:absl:You are saving your model as an HDF5 file via `model.save()` or `keras.saving.save_model(model)`. This file format is considered legacy. We recommend using instead the native Keras format, e.g. `model.save('my_model.keras')` or `keras.saving.save_model(model, 'my_model.keras')`. \n",
            "WARNING:absl:You are saving your model as an HDF5 file via `model.save()` or `keras.saving.save_model(model)`. This file format is considered legacy. We recommend using instead the native Keras format, e.g. `model.save('my_model.keras')` or `keras.saving.save_model(model, 'my_model.keras')`. \n",
            "WARNING:absl:You are saving your model as an HDF5 file via `model.save()` or `keras.saving.save_model(model)`. This file format is considered legacy. We recommend using instead the native Keras format, e.g. `model.save('my_model.keras')` or `keras.saving.save_model(model, 'my_model.keras')`. \n",
            "WARNING:absl:You are saving your model as an HDF5 file via `model.save()` or `keras.saving.save_model(model)`. This file format is considered legacy. We recommend using instead the native Keras format, e.g. `model.save('my_model.keras')` or `keras.saving.save_model(model, 'my_model.keras')`. \n",
            "WARNING:absl:You are saving your model as an HDF5 file via `model.save()` or `keras.saving.save_model(model)`. This file format is considered legacy. We recommend using instead the native Keras format, e.g. `model.save('my_model.keras')` or `keras.saving.save_model(model, 'my_model.keras')`. \n",
            "WARNING:absl:You are saving your model as an HDF5 file via `model.save()` or `keras.saving.save_model(model)`. This file format is considered legacy. We recommend using instead the native Keras format, e.g. `model.save('my_model.keras')` or `keras.saving.save_model(model, 'my_model.keras')`. \n",
            "WARNING:absl:Compiled the loaded model, but the compiled metrics have yet to be built. `model.compile_metrics` will be empty until you train or evaluate the model.\n"
          ]
        },
        {
          "output_type": "stream",
          "name": "stdout",
          "text": [
            " Fold  5 | TEST AUC=0.9617 | TEST ACC=0.3636 | n=110\n"
          ]
        },
        {
          "output_type": "display_data",
          "data": {
            "text/plain": [
              "<Figure size 640x480 with 1 Axes>"
            ],
            "image/png": "[encoded data removed]"
          },
          "metadata": {}
        },
        {
          "output_type": "stream",
          "name": "stdout",
          "text": [
            "Saved ROC to roc_test_fold_05.png\n",
            "\n",
            "--- Fold 6/7 ---\n",
            " train files: 826 | val files: 121 | test files: 243\n"
          ]
        },
        {
          "output_type": "stream",
          "name": "stderr",
          "text": [
            "WARNING:absl:You are saving your model as an HDF5 file via `model.save()` or `keras.saving.save_model(model)`. This file format is considered legacy. We recommend using instead the native Keras format, e.g. `model.save('my_model.keras')` or `keras.saving.save_model(model, 'my_model.keras')`. \n",
            "WARNING:absl:You are saving your model as an HDF5 file via `model.save()` or `keras.saving.save_model(model)`. This file format is considered legacy. We recommend using instead the native Keras format, e.g. `model.save('my_model.keras')` or `keras.saving.save_model(model, 'my_model.keras')`. \n",
            "WARNING:absl:You are saving your model as an HDF5 file via `model.save()` or `keras.saving.save_model(model)`. This file format is considered legacy. We recommend using instead the native Keras format, e.g. `model.save('my_model.keras')` or `keras.saving.save_model(model, 'my_model.keras')`. \n",
            "WARNING:absl:You are saving your model as an HDF5 file via `model.save()` or `keras.saving.save_model(model)`. This file format is considered legacy. We recommend using instead the native Keras format, e.g. `model.save('my_model.keras')` or `keras.saving.save_model(model, 'my_model.keras')`. \n",
            "WARNING:absl:You are saving your model as an HDF5 file via `model.save()` or `keras.saving.save_model(model)`. This file format is considered legacy. We recommend using instead the native Keras format, e.g. `model.save('my_model.keras')` or `keras.saving.save_model(model, 'my_model.keras')`. \n",
            "WARNING:absl:You are saving your model as an HDF5 file via `model.save()` or `keras.saving.save_model(model)`. This file format is considered legacy. We recommend using instead the native Keras format, e.g. `model.save('my_model.keras')` or `keras.saving.save_model(model, 'my_model.keras')`. \n",
            "WARNING:absl:You are saving your model as an HDF5 file via `model.save()` or `keras.saving.save_model(model)`. This file format is considered legacy. We recommend using instead the native Keras format, e.g. `model.save('my_model.keras')` or `keras.saving.save_model(model, 'my_model.keras')`. \n",
            "WARNING:absl:You are saving your model as an HDF5 file via `model.save()` or `keras.saving.save_model(model)`. This file format is considered legacy. We recommend using instead the native Keras format, e.g. `model.save('my_model.keras')` or `keras.saving.save_model(model, 'my_model.keras')`. \n",
            "WARNING:absl:You are saving your model as an HDF5 file via `model.save()` or `keras.saving.save_model(model)`. This file format is considered legacy. We recommend using instead the native Keras format, e.g. `model.save('my_model.keras')` or `keras.saving.save_model(model, 'my_model.keras')`. \n",
            "WARNING:absl:You are saving your model as an HDF5 file via `model.save()` or `keras.saving.save_model(model)`. This file format is considered legacy. We recommend using instead the native Keras format, e.g. `model.save('my_model.keras')` or `keras.saving.save_model(model, 'my_model.keras')`. \n",
            "WARNING:absl:You are saving your model as an HDF5 file via `model.save()` or `keras.saving.save_model(model)`. This file format is considered legacy. We recommend using instead the native Keras format, e.g. `model.save('my_model.keras')` or `keras.saving.save_model(model, 'my_model.keras')`. \n",
            "WARNING:absl:You are saving your model as an HDF5 file via `model.save()` or `keras.saving.save_model(model)`. This file format is considered legacy. We recommend using instead the native Keras format, e.g. `model.save('my_model.keras')` or `keras.saving.save_model(model, 'my_model.keras')`. \n",
            "WARNING:absl:You are saving your model as an HDF5 file via `model.save()` or `keras.saving.save_model(model)`. This file format is considered legacy. We recommend using instead the native Keras format, e.g. `model.save('my_model.keras')` or `keras.saving.save_model(model, 'my_model.keras')`. \n",
            "WARNING:absl:You are saving your model as an HDF5 file via `model.save()` or `keras.saving.save_model(model)`. This file format is considered legacy. We recommend using instead the native Keras format, e.g. `model.save('my_model.keras')` or `keras.saving.save_model(model, 'my_model.keras')`. \n",
            "WARNING:absl:You are saving your model as an HDF5 file via `model.save()` or `keras.saving.save_model(model)`. This file format is considered legacy. We recommend using instead the native Keras format, e.g. `model.save('my_model.keras')` or `keras.saving.save_model(model, 'my_model.keras')`. \n",
            "WARNING:absl:You are saving your model as an HDF5 file via `model.save()` or `keras.saving.save_model(model)`. This file format is considered legacy. We recommend using instead the native Keras format, e.g. `model.save('my_model.keras')` or `keras.saving.save_model(model, 'my_model.keras')`. \n",
            "WARNING:absl:You are saving your model as an HDF5 file via `model.save()` or `keras.saving.save_model(model)`. This file format is considered legacy. We recommend using instead the native Keras format, e.g. `model.save('my_model.keras')` or `keras.saving.save_model(model, 'my_model.keras')`. \n",
            "WARNING:absl:You are saving your model as an HDF5 file via `model.save()` or `keras.saving.save_model(model)`. This file format is considered legacy. We recommend using instead the native Keras format, e.g. `model.save('my_model.keras')` or `keras.saving.save_model(model, 'my_model.keras')`. \n",
            "WARNING:absl:Compiled the loaded model, but the compiled metrics have yet to be built. `model.compile_metrics` will be empty until you train or evaluate the model.\n"
          ]
        },
        {
          "output_type": "stream",
          "name": "stdout",
          "text": [
            " Fold  6 | TEST AUC=0.8097 | TEST ACC=0.8066 | n=243\n"
          ]
        },
        {
          "output_type": "display_data",
          "data": {
            "text/plain": [
              "<Figure size 640x480 with 1 Axes>"
            ],
            "image/png": "[encoded data removed]"
          },
          "metadata": {}
        },
        {
          "output_type": "stream",
          "name": "stdout",
          "text": [
            "Saved ROC to roc_test_fold_06.png\n",
            "\n",
            "--- Fold 7/7 ---\n",
            " train files: 850 | val files: 116 | test files: 224\n"
          ]
        },
        {
          "output_type": "stream",
          "name": "stderr",
          "text": [
            "WARNING:absl:You are saving your model as an HDF5 file via `model.save()` or `keras.saving.save_model(model)`. This file format is considered legacy. We recommend using instead the native Keras format, e.g. `model.save('my_model.keras')` or `keras.saving.save_model(model, 'my_model.keras')`. \n",
            "WARNING:absl:You are saving your model as an HDF5 file via `model.save()` or `keras.saving.save_model(model)`. This file format is considered legacy. We recommend using instead the native Keras format, e.g. `model.save('my_model.keras')` or `keras.saving.save_model(model, 'my_model.keras')`. \n",
            "WARNING:absl:You are saving your model as an HDF5 file via `model.save()` or `keras.saving.save_model(model)`. This file format is considered legacy. We recommend using instead the native Keras format, e.g. `model.save('my_model.keras')` or `keras.saving.save_model(model, 'my_model.keras')`. \n",
            "WARNING:absl:You are saving your model as an HDF5 file via `model.save()` or `keras.saving.save_model(model)`. This file format is considered legacy. We recommend using instead the native Keras format, e.g. `model.save('my_model.keras')` or `keras.saving.save_model(model, 'my_model.keras')`. \n",
            "WARNING:absl:You are saving your model as an HDF5 file via `model.save()` or `keras.saving.save_model(model)`. This file format is considered legacy. We recommend using instead the native Keras format, e.g. `model.save('my_model.keras')` or `keras.saving.save_model(model, 'my_model.keras')`. \n",
            "WARNING:absl:You are saving your model as an HDF5 file via `model.save()` or `keras.saving.save_model(model)`. This file format is considered legacy. We recommend using instead the native Keras format, e.g. `model.save('my_model.keras')` or `keras.saving.save_model(model, 'my_model.keras')`. \n",
            "WARNING:absl:You are saving your model as an HDF5 file via `model.save()` or `keras.saving.save_model(model)`. This file format is considered legacy. We recommend using instead the native Keras format, e.g. `model.save('my_model.keras')` or `keras.saving.save_model(model, 'my_model.keras')`. \n",
            "WARNING:absl:You are saving your model as an HDF5 file via `model.save()` or `keras.saving.save_model(model)`. This file format is considered legacy. We recommend using instead the native Keras format, e.g. `model.save('my_model.keras')` or `keras.saving.save_model(model, 'my_model.keras')`. \n",
            "WARNING:absl:You are saving your model as an HDF5 file via `model.save()` or `keras.saving.save_model(model)`. This file format is considered legacy. We recommend using instead the native Keras format, e.g. `model.save('my_model.keras')` or `keras.saving.save_model(model, 'my_model.keras')`. \n",
            "WARNING:absl:You are saving your model as an HDF5 file via `model.save()` or `keras.saving.save_model(model)`. This file format is considered legacy. We recommend using instead the native Keras format, e.g. `model.save('my_model.keras')` or `keras.saving.save_model(model, 'my_model.keras')`. \n",
            "WARNING:absl:You are saving your model as an HDF5 file via `model.save()` or `keras.saving.save_model(model)`. This file format is considered legacy. We recommend using instead the native Keras format, e.g. `model.save('my_model.keras')` or `keras.saving.save_model(model, 'my_model.keras')`. \n",
            "WARNING:absl:Compiled the loaded model, but the compiled metrics have yet to be built. `model.compile_metrics` will be empty until you train or evaluate the model.\n"
          ]
        },
        {
          "output_type": "stream",
          "name": "stdout",
          "text": [
            " Fold  7 | TEST AUC=1.0000 | TEST ACC=0.8884 | n=224\n"
          ]
        },
        {
          "output_type": "display_data",
          "data": {
            "text/plain": [
              "<Figure size 640x480 with 1 Axes>"
            ],
            "image/png": "[encoded data removed]"
          },
          "metadata": {}
        },
        {
          "output_type": "stream",
          "name": "stdout",
          "text": [
            "Saved ROC to roc_test_fold_07.png\n",
            "\n",
            "Mean TEST AUC: 0.8792 ± 0.1382\n",
            "Mean TEST ACC: 0.7224 ± 0.2452\n",
            "\n",
            "Saved TEST-only metrics to cv_fold_test_metrics.csv and ROC plots to roc_test_fold_XX.png\n"
          ]
        }
      ]
    },
    {
      "cell_type": "code",
      "source": [
        "metrics_df"
      ],
      "metadata": {
        "id": "yUSkVV9BpHSa",
        "colab": {
          "base_uri": "https://localhost:8080/",
          "height": 269
        },
        "outputId": "a5d31162-62a7-47f8-97b6-ef1911f3608f"
      },
      "id": "yUSkVV9BpHSa",
      "execution_count": 33,
      "outputs": [
        {
          "output_type": "execute_result",
          "data": {
            "text/plain": [
              "   fold  test_auc  test_acc\n",
              "0     1  0.575666  0.706485\n",
              "1     2  0.945238  0.951613\n",
              "2     3  0.878422  0.354331\n",
              "3     4  0.983761  0.985507\n",
              "4     5  0.961667  0.363636\n",
              "5     6  0.809702  0.806584\n",
              "6     7  1.000000  0.888393"
            ],
            "text/html": [
              "\n",
              "  <div id=\"df-d2d760c6-7f6a-410f-91f5-564ae441c247\" class=\"colab-df-container\">\n",
              "    <div>\n",
              "<style scoped>\n",
              "    .dataframe tbody tr th:only-of-type {\n",
              "        vertical-align: middle;\n",
              "    }\n",
              "\n",
              "    .dataframe tbody tr th {\n",
              "        vertical-align: top;\n",
              "    }\n",
              "\n",
              "    .dataframe thead th {\n",
              "        text-align: right;\n",
              "    }\n",
              "</style>\n",
              "<table border=\"1\" class=\"dataframe\">\n",
              "  <thead>\n",
              "    <tr style=\"text-align: right;\">\n",
              "      <th></th>\n",
              "      <th>fold</th>\n",
              "      <th>test_auc</th>\n",
              "      <th>test_acc</th>\n",
              "    </tr>\n",
              "  </thead>\n",
              "  <tbody>\n",
              "    <tr>\n",
              "      <th>0</th>\n",
              "      <td>1</td>\n",
              "      <td>0.575666</td>\n",
              "      <td>0.706485</td>\n",
              "    </tr>\n",
              "    <tr>\n",
              "      <th>1</th>\n",
              "      <td>2</td>\n",
              "      <td>0.945238</td>\n",
              "      <td>0.951613</td>\n",
              "    </tr>\n",
              "    <tr>\n",
              "      <th>2</th>\n",
              "      <td>3</td>\n",
              "      <td>0.878422</td>\n",
              "      <td>0.354331</td>\n",
              "    </tr>\n",
              "    <tr>\n",
              "      <th>3</th>\n",
              "      <td>4</td>\n",
              "      <td>0.983761</td>\n",
              "      <td>0.985507</td>\n",
              "    </tr>\n",
              "    <tr>\n",
              "      <th>4</th>\n",
              "      <td>5</td>\n",
              "      <td>0.961667</td>\n",
              "      <td>0.363636</td>\n",
              "    </tr>\n",
              "    <tr>\n",
              "      <th>5</th>\n",
              "      <td>6</td>\n",
              "      <td>0.809702</td>\n",
              "      <td>0.806584</td>\n",
              "    </tr>\n",
              "    <tr>\n",
              "      <th>6</th>\n",
              "      <td>7</td>\n",
              "      <td>1.000000</td>\n",
              "      <td>0.888393</td>\n",
              "    </tr>\n",
              "  </tbody>\n",
              "</table>\n",
              "</div>\n",
              "    <div class=\"colab-df-buttons\">\n",
              "\n",
              "  <div class=\"colab-df-container\">\n",
              "    <button class=\"colab-df-convert\" onclick=\"convertToInteractive('df-d2d760c6-7f6a-410f-91f5-564ae441c247')\"\n",
              "            title=\"Convert this dataframe to an interactive table.\"\n",
              "            style=\"display:none;\">\n",
              "\n",
              "  <svg xmlns=\"http://www.w3.org/2000/svg\" height=\"24px\" viewBox=\"0 -960 960 960\">\n",
              "    <path d=\"M120-120v-720h720v720H120Zm60-500h600v-160H180v160Zm220 220h160v-160H400v160Zm0 220h160v-160H400v160ZM180-400h160v-160H180v160Zm440 0h160v-160H620v160ZM180-180h160v-160H180v160Zm440 0h160v-160H620v160Z\"/>\n",
              "  </svg>\n",
              "    </button>\n",
              "\n",
              "  <style>\n",
              "    .colab-df-container {\n",
              "      display:flex;\n",
              "      gap: 12px;\n",
              "    }\n",
              "\n",
              "    .colab-df-convert {\n",
              "      background-color: #E8F0FE;\n",
              "      border: none;\n",
              "      border-radius: 50%;\n",
              "      cursor: pointer;\n",
              "      display: none;\n",
              "      fill: #1967D2;\n",
              "      height: 32px;\n",
              "      padding: 0 0 0 0;\n",
              "      width: 32px;\n",
              "    }\n",
              "\n",
              "    .colab-df-convert:hover {\n",
              "      background-color: #E2EBFA;\n",
              "      box-shadow: 0px 1px 2px rgba(60, 64, 67, 0.3), 0px 1px 3px 1px rgba(60, 64, 67, 0.15);\n",
              "      fill: #174EA6;\n",
              "    }\n",
              "\n",
              "    .colab-df-buttons div {\n",
              "      margin-bottom: 4px;\n",
              "    }\n",
              "\n",
              "    [theme=dark] .colab-df-convert {\n",
              "      background-color: #3B4455;\n",
              "      fill: #D2E3FC;\n",
              "    }\n",
              "\n",
              "    [theme=dark] .colab-df-convert:hover {\n",
              "      background-color: #434B5C;\n",
              "      box-shadow: 0px 1px 3px 1px rgba(0, 0, 0, 0.15);\n",
              "      filter: drop-shadow(0px 1px 2px rgba(0, 0, 0, 0.3));\n",
              "      fill: #FFFFFF;\n",
              "    }\n",
              "  </style>\n",
              "\n",
              "    <script>\n",
              "      const buttonEl =\n",
              "        document.querySelector('#df-d2d760c6-7f6a-410f-91f5-564ae441c247 button.colab-df-convert');\n",
              "      buttonEl.style.display =\n",
              "        google.colab.kernel.accessAllowed ? 'block' : 'none';\n",
              "\n",
              "      async function convertToInteractive(key) {\n",
              "        const element = document.querySelector('#df-d2d760c6-7f6a-410f-91f5-564ae441c247');\n",
              "        const dataTable =\n",
              "          await google.colab.kernel.invokeFunction('convertToInteractive',\n",
              "                                                    [key], {});\n",
              "        if (!dataTable) return;\n",
              "\n",
              "        const docLinkHtml = 'Like what you see? Visit the ' +\n",
              "          '<a target=\"_blank\" href=https://colab.research.google.com/notebooks/data_table.ipynb>data table notebook</a>'\n",
              "          + ' to learn more about interactive tables.';\n",
              "        element.innerHTML = '';\n",
              "        dataTable['output_type'] = 'display_data';\n",
              "        await google.colab.output.renderOutput(dataTable, element);\n",
              "        const docLink = document.createElement('div');\n",
              "        docLink.innerHTML = docLinkHtml;\n",
              "        element.appendChild(docLink);\n",
              "      }\n",
              "    </script>\n",
              "  </div>\n",
              "\n",
              "\n",
              "    <div id=\"df-e44e30e8-a0c4-4cd0-aa90-491bbc124098\">\n",
              "      <button class=\"colab-df-quickchart\" onclick=\"quickchart('df-e44e30e8-a0c4-4cd0-aa90-491bbc124098')\"\n",
              "                title=\"Suggest charts\"\n",
              "                style=\"display:none;\">\n",
              "\n",
              "<svg xmlns=\"http://www.w3.org/2000/svg\" height=\"24px\"viewBox=\"0 0 24 24\"\n",
              "     width=\"24px\">\n",
              "    <g>\n",
              "        <path d=\"M19 3H5c-1.1 0-2 .9-2 2v14c0 1.1.9 2 2 2h14c1.1 0 2-.9 2-2V5c0-1.1-.9-2-2-2zM9 17H7v-7h2v7zm4 0h-2V7h2v10zm4 0h-2v-4h2v4z\"/>\n",
              "    </g>\n",
              "</svg>\n",
              "      </button>\n",
              "\n",
              "<style>\n",
              "  .colab-df-quickchart {\n",
              "      --bg-color: #E8F0FE;\n",
              "      --fill-color: #1967D2;\n",
              "      --hover-bg-color: #E2EBFA;\n",
              "      --hover-fill-color: #174EA6;\n",
              "      --disabled-fill-color: #AAA;\n",
              "      --disabled-bg-color: #DDD;\n",
              "  }\n",
              "\n",
              "  [theme=dark] .colab-df-quickchart {\n",
              "      --bg-color: #3B4455;\n",
              "      --fill-color: #D2E3FC;\n",
              "      --hover-bg-color: #434B5C;\n",
              "      --hover-fill-color: #FFFFFF;\n",
              "      --disabled-bg-color: #3B4455;\n",
              "      --disabled-fill-color: #666;\n",
              "  }\n",
              "\n",
              "  .colab-df-quickchart {\n",
              "    background-color: var(--bg-color);\n",
              "    border: none;\n",
              "    border-radius: 50%;\n",
              "    cursor: pointer;\n",
              "    display: none;\n",
              "    fill: var(--fill-color);\n",
              "    height: 32px;\n",
              "    padding: 0;\n",
              "    width: 32px;\n",
              "  }\n",
              "\n",
              "  .colab-df-quickchart:hover {\n",
              "    background-color: var(--hover-bg-color);\n",
              "    box-shadow: 0 1px 2px rgba(60, 64, 67, 0.3), 0 1px 3px 1px rgba(60, 64, 67, 0.15);\n",
              "    fill: var(--button-hover-fill-color);\n",
              "  }\n",
              "\n",
              "  .colab-df-quickchart-complete:disabled,\n",
              "  .colab-df-quickchart-complete:disabled:hover {\n",
              "    background-color: var(--disabled-bg-color);\n",
              "    fill: var(--disabled-fill-color);\n",
              "    box-shadow: none;\n",
              "  }\n",
              "\n",
              "  .colab-df-spinner {\n",
              "    border: 2px solid var(--fill-color);\n",
              "    border-color: transparent;\n",
              "    border-bottom-color: var(--fill-color);\n",
              "    animation:\n",
              "      spin 1s steps(1) infinite;\n",
              "  }\n",
              "\n",
              "  @keyframes spin {\n",
              "    0% {\n",
              "      border-color: transparent;\n",
              "      border-bottom-color: var(--fill-color);\n",
              "      border-left-color: var(--fill-color);\n",
              "    }\n",
              "    20% {\n",
              "      border-color: transparent;\n",
              "      border-left-color: var(--fill-color);\n",
              "      border-top-color: var(--fill-color);\n",
              "    }\n",
              "    30% {\n",
              "      border-color: transparent;\n",
              "      border-left-color: var(--fill-color);\n",
              "      border-top-color: var(--fill-color);\n",
              "      border-right-color: var(--fill-color);\n",
              "    }\n",
              "    40% {\n",
              "      border-color: transparent;\n",
              "      border-right-color: var(--fill-color);\n",
              "      border-top-color: var(--fill-color);\n",
              "    }\n",
              "    60% {\n",
              "      border-color: transparent;\n",
              "      border-right-color: var(--fill-color);\n",
              "    }\n",
              "    80% {\n",
              "      border-color: transparent;\n",
              "      border-right-color: var(--fill-color);\n",
              "      border-bottom-color: var(--fill-color);\n",
              "    }\n",
              "    90% {\n",
              "      border-color: transparent;\n",
              "      border-bottom-color: var(--fill-color);\n",
              "    }\n",
              "  }\n",
              "</style>\n",
              "\n",
              "      <script>\n",
              "        async function quickchart(key) {\n",
              "          const quickchartButtonEl =\n",
              "            document.querySelector('#' + key + ' button');\n",
              "          quickchartButtonEl.disabled = true;  // To prevent multiple clicks.\n",
              "          quickchartButtonEl.classList.add('colab-df-spinner');\n",
              "          try {\n",
              "            const charts = await google.colab.kernel.invokeFunction(\n",
              "                'suggestCharts', [key], {});\n",
              "          } catch (error) {\n",
              "            console.error('Error during call to suggestCharts:', error);\n",
              "          }\n",
              "          quickchartButtonEl.classList.remove('colab-df-spinner');\n",
              "          quickchartButtonEl.classList.add('colab-df-quickchart-complete');\n",
              "        }\n",
              "        (() => {\n",
              "          let quickchartButtonEl =\n",
              "            document.querySelector('#df-e44e30e8-a0c4-4cd0-aa90-491bbc124098 button');\n",
              "          quickchartButtonEl.style.display =\n",
              "            google.colab.kernel.accessAllowed ? 'block' : 'none';\n",
              "        })();\n",
              "      </script>\n",
              "    </div>\n",
              "\n",
              "  <div id=\"id_b3fdb4f4-1b20-41f1-976a-1894c98c10d5\">\n",
              "    <style>\n",
              "      .colab-df-generate {\n",
              "        background-color: #E8F0FE;\n",
              "        border: none;\n",
              "        border-radius: 50%;\n",
              "        cursor: pointer;\n",
              "        display: none;\n",
              "        fill: #1967D2;\n",
              "        height: 32px;\n",
              "        padding: 0 0 0 0;\n",
              "        width: 32px;\n",
              "      }\n",
              "\n",
              "      .colab-df-generate:hover {\n",
              "        background-color: #E2EBFA;\n",
              "        box-shadow: 0px 1px 2px rgba(60, 64, 67, 0.3), 0px 1px 3px 1px rgba(60, 64, 67, 0.15);\n",
              "        fill: #174EA6;\n",
              "      }\n",
              "\n",
              "      [theme=dark] .colab-df-generate {\n",
              "        background-color: #3B4455;\n",
              "        fill: #D2E3FC;\n",
              "      }\n",
              "\n",
              "      [theme=dark] .colab-df-generate:hover {\n",
              "        background-color: #434B5C;\n",
              "        box-shadow: 0px 1px 3px 1px rgba(0, 0, 0, 0.15);\n",
              "        filter: drop-shadow(0px 1px 2px rgba(0, 0, 0, 0.3));\n",
              "        fill: #FFFFFF;\n",
              "      }\n",
              "    </style>\n",
              "    <button class=\"colab-df-generate\" onclick=\"generateWithVariable('metrics_df')\"\n",
              "            title=\"Generate code using this dataframe.\"\n",
              "            style=\"display:none;\">\n",
              "\n",
              "  <svg xmlns=\"http://www.w3.org/2000/svg\" height=\"24px\"viewBox=\"0 0 24 24\"\n",
              "       width=\"24px\">\n",
              "    <path d=\"M7,19H8.4L18.45,9,17,7.55,7,17.6ZM5,21V16.75L18.45,3.32a2,2,0,0,1,2.83,0l1.4,1.43a1.91,1.91,0,0,1,.58,1.4,1.91,1.91,0,0,1-.58,1.4L9.25,21ZM18.45,9,17,7.55Zm-12,3A5.31,5.31,0,0,0,4.9,8.1,5.31,5.31,0,0,0,1,6.5,5.31,5.31,0,0,0,4.9,4.9,5.31,5.31,0,0,0,6.5,1,5.31,5.31,0,0,0,8.1,4.9,5.31,5.31,0,0,0,12,6.5,5.46,5.46,0,0,0,6.5,12Z\"/>\n",
              "  </svg>\n",
              "    </button>\n",
              "    <script>\n",
              "      (() => {\n",
              "      const buttonEl =\n",
              "        document.querySelector('#id_b3fdb4f4-1b20-41f1-976a-1894c98c10d5 button.colab-df-generate');\n",
              "      buttonEl.style.display =\n",
              "        google.colab.kernel.accessAllowed ? 'block' : 'none';\n",
              "\n",
              "      buttonEl.onclick = () => {\n",
              "        google.colab.notebook.generateWithVariable('metrics_df');\n",
              "      }\n",
              "      })();\n",
              "    </script>\n",
              "  </div>\n",
              "\n",
              "    </div>\n",
              "  </div>\n"
            ],
            "application/vnd.google.colaboratory.intrinsic+json": {
              "type": "dataframe",
              "variable_name": "metrics_df",
              "summary": "{\n  \"name\": \"metrics_df\",\n  \"rows\": 7,\n  \"fields\": [\n    {\n      \"column\": \"fold\",\n      \"properties\": {\n        \"dtype\": \"number\",\n        \"std\": 2,\n        \"min\": 1,\n        \"max\": 7,\n        \"num_unique_values\": 7,\n        \"samples\": [\n          1,\n          2,\n          6\n        ],\n        \"semantic_type\": \"\",\n        \"description\": \"\"\n      }\n    },\n    {\n      \"column\": \"test_auc\",\n      \"properties\": {\n        \"dtype\": \"number\",\n        \"std\": 0.14924869083091652,\n        \"min\": 0.5756656555443209,\n        \"max\": 1.0,\n        \"num_unique_values\": 7,\n        \"samples\": [\n          0.5756656555443209,\n          0.9452380952380952,\n          0.8097020194887726\n        ],\n        \"semantic_type\": \"\",\n        \"description\": \"\"\n      }\n    },\n    {\n      \"column\": \"test_acc\",\n      \"properties\": {\n        \"dtype\": \"number\",\n        \"std\": 0.264840912371141,\n        \"min\": 0.3543307086614173,\n        \"max\": 0.9855072463768116,\n        \"num_unique_values\": 7,\n        \"samples\": [\n          0.7064846416382252,\n          0.9516129032258065,\n          0.8065843621399177\n        ],\n        \"semantic_type\": \"\",\n        \"description\": \"\"\n      }\n    }\n  ]\n}"
            }
          },
          "metadata": {},
          "execution_count": 33
        }
      ]
    },
    {
      "cell_type": "code",
      "source": [
        "import numpy as np\n",
        "print(f\"Mean TEST AUC: {np.nanmean(metrics_df['test_auc'].to_numpy(dtype=float)):.4f}\")\n",
        "print(f\"Mean TEST ACC: {np.nanmean(metrics_df['test_acc'].to_numpy(dtype=float)):.4f}\")"
      ],
      "metadata": {
        "id": "NL5rVVr67v2Q",
        "colab": {
          "base_uri": "https://localhost:8080/"
        },
        "outputId": "e61c63c0-c5df-49a2-e1d0-20f0f3a44dd8"
      },
      "id": "NL5rVVr67v2Q",
      "execution_count": 34,
      "outputs": [
        {
          "output_type": "stream",
          "name": "stdout",
          "text": [
            "Mean TEST AUC: 0.8792\n",
            "Mean TEST ACC: 0.7224\n"
          ]
        }
      ]
    },
    {
      "cell_type": "code",
      "source": [],
      "metadata": {
        "id": "sPOzCNAug4NW"
      },
      "id": "sPOzCNAug4NW",
      "execution_count": 34,
      "outputs": []
    },
    {
      "cell_type": "code",
      "source": [],
      "metadata": {
        "id": "xxOkMiS4g4SL"
      },
      "id": "xxOkMiS4g4SL",
      "execution_count": 34,
      "outputs": []
    },
    {
      "cell_type": "code",
      "execution_count": 34,
      "id": "ksQMstdc-o-3",
      "metadata": {
        "id": "ksQMstdc-o-3"
      },
      "outputs": [],
      "source": []
    },
    {
      "cell_type": "code",
      "execution_count": 34,
      "id": "JSdB6j-a-pDF",
      "metadata": {
        "id": "JSdB6j-a-pDF"
      },
      "outputs": [],
      "source": []
    },
    {
      "cell_type": "code",
      "execution_count": 34,
      "id": "U7ouQnxD-pF_",
      "metadata": {
        "id": "U7ouQnxD-pF_"
      },
      "outputs": [],
      "source": []
    },
    {
      "cell_type": "code",
      "execution_count": 34,
      "id": "WnjxgEPK-pIJ",
      "metadata": {
        "id": "WnjxgEPK-pIJ"
      },
      "outputs": [],
      "source": []
    },
    {
      "cell_type": "code",
      "execution_count": 34,
      "id": "j28g8Lqp-pKy",
      "metadata": {
        "id": "j28g8Lqp-pKy"
      },
      "outputs": [],
      "source": []
    },
    {
      "cell_type": "code",
      "execution_count": 34,
      "id": "DJbv-4-G-pMn",
      "metadata": {
        "id": "DJbv-4-G-pMn"
      },
      "outputs": [],
      "source": []
    },
    {
      "cell_type": "code",
      "execution_count": 34,
      "id": "Cxtz-1Fo-pPP",
      "metadata": {
        "id": "Cxtz-1Fo-pPP"
      },
      "outputs": [],
      "source": []
    },
    {
      "cell_type": "code",
      "execution_count": 34,
      "id": "JinSNJgh-pRf",
      "metadata": {
        "id": "JinSNJgh-pRf"
      },
      "outputs": [],
      "source": []
    },
    {
      "cell_type": "code",
      "execution_count": 34,
      "id": "ywg21ljv-pcL",
      "metadata": {
        "id": "ywg21ljv-pcL"
      },
      "outputs": [],
      "source": []
    },
    {
      "cell_type": "code",
      "execution_count": 34,
      "id": "Jl01Xhpa-pfL",
      "metadata": {
        "id": "Jl01Xhpa-pfL"
      },
      "outputs": [],
      "source": []
    },
    {
      "cell_type": "code",
      "execution_count": 34,
      "id": "ErNrKHRm-pg_",
      "metadata": {
        "id": "ErNrKHRm-pg_"
      },
      "outputs": [],
      "source": []
    },
    {
      "cell_type": "code",
      "execution_count": 34,
      "id": "IElgvqQj-pit",
      "metadata": {
        "id": "IElgvqQj-pit"
      },
      "outputs": [],
      "source": []
    },
    {
      "cell_type": "code",
      "execution_count": 34,
      "id": "-TADzyG9-pnO",
      "metadata": {
        "id": "-TADzyG9-pnO"
      },
      "outputs": [],
      "source": []
    },
    {
      "cell_type": "code",
      "execution_count": 34,
      "id": "miiDblbz-ppC",
      "metadata": {
        "id": "miiDblbz-ppC"
      },
      "outputs": [],
      "source": []
    },
    {
      "cell_type": "code",
      "execution_count": 34,
      "id": "Bnp7fHxm-pqu",
      "metadata": {
        "id": "Bnp7fHxm-pqu"
      },
      "outputs": [],
      "source": []
    },
    {
      "cell_type": "code",
      "execution_count": 34,
      "id": "UiQbsLv47Xu-",
      "metadata": {
        "id": "UiQbsLv47Xu-"
      },
      "outputs": [],
      "source": []
    },
    {
      "cell_type": "code",
      "execution_count": 34,
      "id": "hhAiYZZVGIsM",
      "metadata": {
        "id": "hhAiYZZVGIsM"
      },
      "outputs": [],
      "source": []
    },
    {
      "cell_type": "code",
      "execution_count": 34,
      "id": "EWQ7UG7zGIuj",
      "metadata": {
        "id": "EWQ7UG7zGIuj"
      },
      "outputs": [],
      "source": []
    },
    {
      "cell_type": "code",
      "execution_count": 34,
      "id": "hUObArfBGIw5",
      "metadata": {
        "id": "hUObArfBGIw5"
      },
      "outputs": [],
      "source": []
    },
    {
      "cell_type": "code",
      "execution_count": 34,
      "id": "ln5ftwRAGI0C",
      "metadata": {
        "id": "ln5ftwRAGI0C"
      },
      "outputs": [],
      "source": []
    },
    {
      "cell_type": "code",
      "execution_count": 34,
      "id": "jgczkpH8GI2s",
      "metadata": {
        "id": "jgczkpH8GI2s"
      },
      "outputs": [],
      "source": []
    },
    {
      "cell_type": "code",
      "execution_count": 34,
      "id": "CFxtsYm4DJxo",
      "metadata": {
        "id": "CFxtsYm4DJxo"
      },
      "outputs": [],
      "source": []
    },
    {
      "cell_type": "code",
      "execution_count": 34,
      "id": "zIo_rXgnDJzw",
      "metadata": {
        "id": "zIo_rXgnDJzw"
      },
      "outputs": [],
      "source": []
    },
    {
      "cell_type": "code",
      "execution_count": 34,
      "id": "N4iBf4B0DJ14",
      "metadata": {
        "id": "N4iBf4B0DJ14"
      },
      "outputs": [],
      "source": []
    },
    {
      "cell_type": "code",
      "execution_count": 34,
      "id": "mGuWgjhCDJ5y",
      "metadata": {
        "id": "mGuWgjhCDJ5y"
      },
      "outputs": [],
      "source": []
    },
    {
      "cell_type": "code",
      "execution_count": 34,
      "id": "mtPQw2LIDJ8A",
      "metadata": {
        "id": "mtPQw2LIDJ8A"
      },
      "outputs": [],
      "source": []
    },
    {
      "cell_type": "code",
      "execution_count": 34,
      "id": "VRIqcx7HDJ9m",
      "metadata": {
        "id": "VRIqcx7HDJ9m"
      },
      "outputs": [],
      "source": []
    },
    {
      "cell_type": "code",
      "execution_count": 34,
      "id": "HfhdGuLEDJ_u",
      "metadata": {
        "id": "HfhdGuLEDJ_u"
      },
      "outputs": [],
      "source": []
    }
  ],
  "metadata": {
    "accelerator": "GPU",
    "colab": {
      "gpuType": "L4",
      "provenance": [],
      "machine_shape": "hm"
    },
    "kernelspec": {
      "display_name": "virtual ENV",
      "language": "python",
      "name": "environment_instance"
    },
    "language_info": {
      "codemirror_mode": {
        "name": "ipython",
        "version": 3
      },
      "file_extension": ".py",
      "mimetype": "text/x-python",
      "name": "python",
      "nbconvert_exporter": "python",
      "pygments_lexer": "ipython3",
      "version": "3.6.9"
    }
  },
  "nbformat": 4,
  "nbformat_minor": 5
}