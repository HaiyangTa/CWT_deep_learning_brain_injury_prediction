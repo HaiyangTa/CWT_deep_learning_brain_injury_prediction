{
 "cells": [
  {
   "cell_type": "code",
   "execution_count": 30,
   "id": "32aacfeb-44f3-4e91-832e-4abf1fd27dd1",
   "metadata": {},
   "outputs": [],
   "source": [
    "import numpy as np \n",
    "import pandas as pd \n",
    "from pathlib import Path \n",
    "import ast \n",
    "import pandas as pd \n",
    "import matplotlib.pyplot as plt \n",
    "import pywt"
   ]
  },
  {
   "cell_type": "code",
   "execution_count": 32,
   "id": "7440be36-b4f6-4af8-9a08-7eeade7f7328",
   "metadata": {},
   "outputs": [],
   "source": [
    "root = 'C:/Users/Haiya/Downloads/OneDrive_2025-09-19/'\n",
    "csv = 'PELICAN Sorted Patients(Sheet1).csv'\n",
    "csv_path = Path(root + csv)\n",
    "df = pd.read_csv(csv_path)"
   ]
  },
  {
   "cell_type": "code",
   "execution_count": 35,
   "id": "13d715e9-505a-4a96-9f86-8863ac00f30e",
   "metadata": {},
   "outputs": [
    {
     "data": {
      "text/html": [
       "<div>\n",
       "<style scoped>\n",
       "    .dataframe tbody tr th:only-of-type {\n",
       "        vertical-align: middle;\n",
       "    }\n",
       "\n",
       "    .dataframe tbody tr th {\n",
       "        vertical-align: top;\n",
       "    }\n",
       "\n",
       "    .dataframe thead th {\n",
       "        text-align: right;\n",
       "    }\n",
       "</style>\n",
       "<table border=\"1\" class=\"dataframe\">\n",
       "  <thead>\n",
       "    <tr style=\"text-align: right;\">\n",
       "      <th></th>\n",
       "      <th>Record ID</th>\n",
       "      <th>Focal vs Diffuse</th>\n",
       "      <th>Ischemic vs Hemorrhagic</th>\n",
       "      <th>Extraparenchymal, intraparenchynmal, Both</th>\n",
       "      <th>Additional Notes</th>\n",
       "      <th>Microhemorrhage</th>\n",
       "      <th>NIS Total</th>\n",
       "      <th>Full Imaging Impression</th>\n",
       "    </tr>\n",
       "  </thead>\n",
       "  <tbody>\n",
       "    <tr>\n",
       "      <th>0</th>\n",
       "      <td>P-001</td>\n",
       "      <td>Focal</td>\n",
       "      <td>Ischemic</td>\n",
       "      <td>Both</td>\n",
       "      <td>Right, extensive</td>\n",
       "      <td>N</td>\n",
       "      <td>20.5</td>\n",
       "      <td>1.  Extensive region of infarction suspected i...</td>\n",
       "    </tr>\n",
       "    <tr>\n",
       "      <th>1</th>\n",
       "      <td>P-002</td>\n",
       "      <td>Diffuse</td>\n",
       "      <td>Ischemic</td>\n",
       "      <td>Both</td>\n",
       "      <td>NaN</td>\n",
       "      <td>N</td>\n",
       "      <td>21.0</td>\n",
       "      <td>1.  Findings of severe diffuse hypoxic-ischemi...</td>\n",
       "    </tr>\n",
       "    <tr>\n",
       "      <th>2</th>\n",
       "      <td>P-004</td>\n",
       "      <td>Diffuse</td>\n",
       "      <td>Hemorrhagic</td>\n",
       "      <td>Both</td>\n",
       "      <td>Mild</td>\n",
       "      <td>N</td>\n",
       "      <td>4.0</td>\n",
       "      <td>1.  Small foci of subdural hemorrhage in the p...</td>\n",
       "    </tr>\n",
       "    <tr>\n",
       "      <th>3</th>\n",
       "      <td>P-011</td>\n",
       "      <td>Diffuse</td>\n",
       "      <td>Hemorrhagic</td>\n",
       "      <td>Intra</td>\n",
       "      <td>Mild</td>\n",
       "      <td>N</td>\n",
       "      <td>3.0</td>\n",
       "      <td>1.  Multiple foci of susceptibility are presen...</td>\n",
       "    </tr>\n",
       "    <tr>\n",
       "      <th>4</th>\n",
       "      <td>P-016</td>\n",
       "      <td>Diffuse</td>\n",
       "      <td>Hemorrhagic</td>\n",
       "      <td>Intra</td>\n",
       "      <td>NaN</td>\n",
       "      <td>N</td>\n",
       "      <td>8.0</td>\n",
       "      <td>Multifocal periventricular and to a lesser ext...</td>\n",
       "    </tr>\n",
       "  </tbody>\n",
       "</table>\n",
       "</div>"
      ],
      "text/plain": [
       "  Record ID Focal vs Diffuse Ischemic vs Hemorrhagic  \\\n",
       "0     P-001            Focal                Ischemic   \n",
       "1     P-002          Diffuse                Ischemic   \n",
       "2     P-004          Diffuse             Hemorrhagic   \n",
       "3     P-011          Diffuse             Hemorrhagic   \n",
       "4     P-016          Diffuse             Hemorrhagic   \n",
       "\n",
       "  Extraparenchymal, intraparenchynmal, Both  Additional Notes Microhemorrhage  \\\n",
       "0                                     Both   Right, extensive               N   \n",
       "1                                     Both                NaN               N   \n",
       "2                                     Both               Mild               N   \n",
       "3                                     Intra              Mild               N   \n",
       "4                                     Intra               NaN               N   \n",
       "\n",
       "   NIS Total                            Full Imaging Impression  \n",
       "0       20.5  1.  Extensive region of infarction suspected i...  \n",
       "1       21.0  1.  Findings of severe diffuse hypoxic-ischemi...  \n",
       "2        4.0  1.  Small foci of subdural hemorrhage in the p...  \n",
       "3        3.0  1.  Multiple foci of susceptibility are presen...  \n",
       "4        8.0  Multifocal periventricular and to a lesser ext...  "
      ]
     },
     "execution_count": 35,
     "metadata": {},
     "output_type": "execute_result"
    }
   ],
   "source": [
    "df.head()"
   ]
  },
  {
   "cell_type": "code",
   "execution_count": 37,
   "id": "d03b077c-5806-4069-921d-90dbe9d98986",
   "metadata": {},
   "outputs": [
    {
     "name": "stdout",
     "output_type": "stream",
     "text": [
      "[1, 2, 4, 11, 16, 19, 20, 21, 22, 25, 28, 32, 37, 38, 39, 42, 43, 44, 46, 49, 50, 51, 55, 56, 58, 59, 61, 62, 64, 65, 66, 67, 69, 73, 78]\n"
     ]
    }
   ],
   "source": [
    "# P-001 -> 1, P-011 -> 11, etc.\n",
    "patient_ids = (\n",
    "    pd.to_numeric(df['Record ID'].astype(str).str.extract(r'(\\d+)')[0], errors='coerce')\n",
    "      .dropna()\n",
    "      .astype(int)\n",
    "      .tolist()\n",
    ")\n",
    "\n",
    "print(patient_ids)"
   ]
  },
  {
   "cell_type": "code",
   "execution_count": 39,
   "id": "a41a1509-c166-482e-b6bc-dfdf50a255b7",
   "metadata": {},
   "outputs": [
    {
     "data": {
      "text/plain": [
       "35"
      ]
     },
     "execution_count": 39,
     "metadata": {},
     "output_type": "execute_result"
    }
   ],
   "source": [
    "len(patient_ids)"
   ]
  },
  {
   "cell_type": "code",
   "execution_count": null,
   "id": "934cfea7-caf9-4f0f-a0d9-9f709ff28b12",
   "metadata": {},
   "outputs": [],
   "source": []
  },
  {
   "cell_type": "code",
   "execution_count": null,
   "id": "13a30da5-bd68-47c2-8fea-de2571432878",
   "metadata": {},
   "outputs": [],
   "source": []
  }
 ],
 "metadata": {
  "kernelspec": {
   "display_name": "Python [conda env:base] *",
   "language": "python",
   "name": "conda-base-py"
  },
  "language_info": {
   "codemirror_mode": {
    "name": "ipython",
    "version": 3
   },
   "file_extension": ".py",
   "mimetype": "text/x-python",
   "name": "python",
   "nbconvert_exporter": "python",
   "pygments_lexer": "ipython3",
   "version": "3.12.3"
  }
 },
 "nbformat": 4,
 "nbformat_minor": 5
}
