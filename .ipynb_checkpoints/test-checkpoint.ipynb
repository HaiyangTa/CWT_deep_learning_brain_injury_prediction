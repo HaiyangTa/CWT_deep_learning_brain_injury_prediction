{
 "cells": [
  {
   "cell_type": "code",
   "execution_count": 7,
   "id": "18c238a6-412b-450f-9e18-e928dd056b97",
   "metadata": {},
   "outputs": [
    {
     "name": "stdout",
     "output_type": "stream",
     "text": [
      "Sampling rate: 256.0\n",
      "All channel names:\n",
      " ['EEG Fp1-Ref', 'EEG Fp2-Ref', 'EEG F7-Ref', 'EEG F3-Ref', 'EEG Fz-Ref', 'EEG F4-Ref', 'EEG F8-Ref', 'EEG T3-Ref', 'EEG C3-Ref', 'EEG Cz-Ref', 'EEG C4-Ref', 'EEG T4-Ref', 'EEG T5-Ref', 'EEG P3-Ref', 'EEG Pz-Ref', 'EEG P4-Ref', 'EEG T6-Ref', 'EEG O1-Ref', 'EEG O2-Ref', 'ECG EKG', 'Resp Effort']\n",
      "\n",
      "C3-like candidates: ['EEG C3-Ref']\n",
      "C4-like candidates: ['EEG C4-Ref']\n",
      "\n",
      "Chosen C3 channel: EEG C3-Ref\n",
      "Chosen C4 channel: EEG C4-Ref\n",
      "Saved: C:\\Users\\Haiya\\Downloads\\eeg\\eeg8_C3C4.csv\n"
     ]
    }
   ],
   "source": [
    "# pip install mne\n",
    "import mne, re\n",
    "import numpy as np\n",
    "import pandas as pd\n",
    "from pathlib import Path\n",
    "\n",
    "edf_path = Path(\"C:/Users/Haiya/Downloads/eeg/eeg8.edf\")  # <- change me\n",
    "raw = mne.io.read_raw_edf(edf_path, preload=True, verbose=\"ERROR\")\n",
    "\n",
    "print(\"Sampling rate:\", raw.info[\"sfreq\"])\n",
    "print(\"All channel names:\\n\", raw.ch_names)\n",
    "\n",
    "# --- helper: find candidate channels that *contain* C3/C4 in label (case-insensitive)\n",
    "def find_candidates(ch_names, token):\n",
    "    token = token.upper()\n",
    "    idxs = [i for i, name in enumerate(ch_names) if token in name.upper()]\n",
    "    return idxs, [ch_names[i] for i in idxs]\n",
    "\n",
    "c3_idx, c3_names = find_candidates(raw.ch_names, \"C3\")\n",
    "c4_idx, c4_names = find_candidates(raw.ch_names, \"C4\")\n",
    "\n",
    "print(\"\\nC3-like candidates:\", c3_names)\n",
    "print(\"C4-like candidates:\", c4_names)\n",
    "\n",
    "# If you have multiple candidates, you can prefer a montage by regex priority.\n",
    "# Example: prefer C3-M2 (or C3-A2), otherwise C3-P3, else first hit.\n",
    "def choose_preferred(ch_names, desired=\"C3\"):\n",
    "    patterns = [\n",
    "        rf\"(?i)\\b{desired}\\s*-\\s*M2\\b\", rf\"(?i)\\b{desired}\\s*A2\\b\",\n",
    "        rf\"(?i)\\b{desired}\\s*-\\s*P3\\b\", rf\"(?i)\\b{desired}\\b\"\n",
    "    ]\n",
    "    for pat in patterns:\n",
    "        for i, nm in enumerate(ch_names):\n",
    "            if re.search(pat, nm):\n",
    "                return i, nm\n",
    "    # fallback: first that contains token\n",
    "    idxs, names = find_candidates(ch_names, desired)\n",
    "    if idxs:\n",
    "        return idxs[0], names[0]\n",
    "    return None, None\n",
    "\n",
    "c3_pick_idx, c3_pick_name = choose_preferred(raw.ch_names, \"C3\")\n",
    "c4_pick_idx, c4_pick_name = choose_preferred(raw.ch_names, \"C4\")\n",
    "\n",
    "if c3_pick_idx is None or c4_pick_idx is None:\n",
    "    raise ValueError(\n",
    "        \"Could not find suitable C3/C4 channels. \"\n",
    "        \"Look at the printed channel list and adjust regex priorities.\"\n",
    "    )\n",
    "\n",
    "print(f\"\\nChosen C3 channel: {c3_pick_name}\")\n",
    "print(f\"Chosen C4 channel: {c4_pick_name}\")\n",
    "\n",
    "# Extract data (Volts -> microvolts)\n",
    "data_sel = raw.get_data(picks=[c3_pick_idx, c4_pick_idx]) * 1e6  # shape (2, n_samples)\n",
    "times = raw.times\n",
    "\n",
    "# Put into a DataFrame and save\n",
    "df_sel = pd.DataFrame({\n",
    "    \"time_sec\": times,\n",
    "    c3_pick_name: data_sel[0],\n",
    "    c4_pick_name: data_sel[1]\n",
    "})\n",
    "out_csv = edf_path.with_name(edf_path.stem + \"_C3C4.csv\")\n",
    "df_sel.to_csv(out_csv, index=False)\n",
    "print(f\"Saved: {out_csv}\")\n"
   ]
  },
  {
   "cell_type": "code",
   "execution_count": null,
   "id": "395213ca-252b-4191-a257-a92359b9999d",
   "metadata": {},
   "outputs": [],
   "source": []
  }
 ],
 "metadata": {
  "kernelspec": {
   "display_name": "Python [conda env:base] *",
   "language": "python",
   "name": "conda-base-py"
  },
  "language_info": {
   "codemirror_mode": {
    "name": "ipython",
    "version": 3
   },
   "file_extension": ".py",
   "mimetype": "text/x-python",
   "name": "python",
   "nbconvert_exporter": "python",
   "pygments_lexer": "ipython3",
   "version": "3.12.3"
  }
 },
 "nbformat": 4,
 "nbformat_minor": 5
}
