{
 "cells": [
  {
   "cell_type": "code",
   "execution_count": 1,
   "id": "32aacfeb-44f3-4e91-832e-4abf1fd27dd1",
   "metadata": {},
   "outputs": [],
   "source": [
    "import numpy as np\n",
    "import pandas as pd\n",
    "from pathlib import Path\n",
    "import ast\n",
    "import pandas as pd\n",
    "import matplotlib.pyplot as plt\n",
    "import pywt"
   ]
  },
  {
   "cell_type": "code",
   "execution_count": 55,
   "id": "7440be36-b4f6-4af8-9a08-7eeade7f7328",
   "metadata": {},
   "outputs": [],
   "source": [
    "root = 'C:/Users/Haiya/Downloads/OneDrive_2025-09-19/'\n",
    "csv = 'ALL_CLEAN_DEIDEN_NAME AND ECMO DATA(Sheet1) (1).csv'\n",
    "csv_path = Path(root + csv)\n",
    "df = pd.read_csv(csv_path)"
   ]
  },
  {
   "cell_type": "code",
   "execution_count": 57,
   "id": "13d715e9-505a-4a96-9f86-8863ac00f30e",
   "metadata": {},
   "outputs": [
    {
     "data": {
      "text/html": [
       "<div>\n",
       "<style scoped>\n",
       "    .dataframe tbody tr th:only-of-type {\n",
       "        vertical-align: middle;\n",
       "    }\n",
       "\n",
       "    .dataframe tbody tr th {\n",
       "        vertical-align: top;\n",
       "    }\n",
       "\n",
       "    .dataframe thead th {\n",
       "        text-align: right;\n",
       "    }\n",
       "</style>\n",
       "<table border=\"1\" class=\"dataframe\">\n",
       "  <thead>\n",
       "    <tr style=\"text-align: right;\">\n",
       "      <th></th>\n",
       "      <th>record_id</th>\n",
       "      <th>sex (1:M, 2:F)</th>\n",
       "      <th>DOB</th>\n",
       "      <th>age_days</th>\n",
       "      <th>age_months</th>\n",
       "      <th>age_years</th>\n",
       "      <th>Diagnosis</th>\n",
       "      <th>Diagnosis_note</th>\n",
       "      <th>weight</th>\n",
       "      <th>study_height</th>\n",
       "      <th>...</th>\n",
       "      <th>Highest INR.1</th>\n",
       "      <th>Highest PTT.1</th>\n",
       "      <th>Lowest arterial pulse pressure</th>\n",
       "      <th>Is lowest arterial pulse pressure &lt;25% of systolic blood pressure (yes/no)</th>\n",
       "      <th>Lowest cerebral NIRs value (rSO2)</th>\n",
       "      <th>Does that patient have rSO2 measurements &lt; 40%? (yes/no)</th>\n",
       "      <th>Lowest arterial pulse pressure .1</th>\n",
       "      <th>Is lowest arterial pulse pressure &lt;25% of systolic blood pressure (yes/no) .1</th>\n",
       "      <th>Lowest cerebral NIRs value (rSO2)  .1</th>\n",
       "      <th>Does that patient have rSO2 measurements &lt; 40%? (yes/no) .1</th>\n",
       "    </tr>\n",
       "  </thead>\n",
       "  <tbody>\n",
       "    <tr>\n",
       "      <th>0</th>\n",
       "      <td>P-001</td>\n",
       "      <td>1</td>\n",
       "      <td>6/5/2019</td>\n",
       "      <td>127</td>\n",
       "      <td>4.2</td>\n",
       "      <td>0.3</td>\n",
       "      <td>Cardiac Arrest</td>\n",
       "      <td>Hypertrophic CM</td>\n",
       "      <td>5.91</td>\n",
       "      <td>61.5</td>\n",
       "      <td>...</td>\n",
       "      <td>2.1</td>\n",
       "      <td>&gt;200.0</td>\n",
       "      <td>NaN</td>\n",
       "      <td>NaN</td>\n",
       "      <td>NaN</td>\n",
       "      <td>NaN</td>\n",
       "      <td>NaN</td>\n",
       "      <td>NaN</td>\n",
       "      <td>NaN</td>\n",
       "      <td>NaN</td>\n",
       "    </tr>\n",
       "    <tr>\n",
       "      <th>1</th>\n",
       "      <td>P-002</td>\n",
       "      <td>1</td>\n",
       "      <td>1/13/2019</td>\n",
       "      <td>508</td>\n",
       "      <td>16.7</td>\n",
       "      <td>1.4</td>\n",
       "      <td>Cardiac Arrest</td>\n",
       "      <td>Liver Failure, Cardiogenic Shock</td>\n",
       "      <td>9.80</td>\n",
       "      <td>77.0</td>\n",
       "      <td>...</td>\n",
       "      <td>2.9</td>\n",
       "      <td>143.1</td>\n",
       "      <td>NaN</td>\n",
       "      <td>NaN</td>\n",
       "      <td>NaN</td>\n",
       "      <td>NaN</td>\n",
       "      <td>NaN</td>\n",
       "      <td>NaN</td>\n",
       "      <td>21.0</td>\n",
       "      <td>1.0</td>\n",
       "    </tr>\n",
       "    <tr>\n",
       "      <th>2</th>\n",
       "      <td>P-003</td>\n",
       "      <td>2</td>\n",
       "      <td>7/8/2005</td>\n",
       "      <td>5535</td>\n",
       "      <td>181.8</td>\n",
       "      <td>15.2</td>\n",
       "      <td>Sepsis</td>\n",
       "      <td>Secondary LV failure and ARDS</td>\n",
       "      <td>56.50</td>\n",
       "      <td>160.0</td>\n",
       "      <td>...</td>\n",
       "      <td>1.5</td>\n",
       "      <td>&gt;200.0</td>\n",
       "      <td>NaN</td>\n",
       "      <td>NaN</td>\n",
       "      <td>46.0</td>\n",
       "      <td>0.0</td>\n",
       "      <td>NaN</td>\n",
       "      <td>NaN</td>\n",
       "      <td>49.0</td>\n",
       "      <td>0.0</td>\n",
       "    </tr>\n",
       "    <tr>\n",
       "      <th>3</th>\n",
       "      <td>P-004</td>\n",
       "      <td>1</td>\n",
       "      <td>9/29/2020</td>\n",
       "      <td>2</td>\n",
       "      <td>0.1</td>\n",
       "      <td>0.0</td>\n",
       "      <td>Respiratory Failure</td>\n",
       "      <td>CDH, pulmonary HTN</td>\n",
       "      <td>3.19</td>\n",
       "      <td>48.0</td>\n",
       "      <td>...</td>\n",
       "      <td>NaN</td>\n",
       "      <td>NaN</td>\n",
       "      <td>NaN</td>\n",
       "      <td>NaN</td>\n",
       "      <td>NaN</td>\n",
       "      <td>NaN</td>\n",
       "      <td>NaN</td>\n",
       "      <td>NaN</td>\n",
       "      <td>NaN</td>\n",
       "      <td>NaN</td>\n",
       "    </tr>\n",
       "    <tr>\n",
       "      <th>4</th>\n",
       "      <td>P-005</td>\n",
       "      <td>2</td>\n",
       "      <td>10/2/2020</td>\n",
       "      <td>2</td>\n",
       "      <td>0.1</td>\n",
       "      <td>0.0</td>\n",
       "      <td>Respiratory Failure</td>\n",
       "      <td>Meconium Aspiration, Pulmonary HTN</td>\n",
       "      <td>3.30</td>\n",
       "      <td>51.0</td>\n",
       "      <td>...</td>\n",
       "      <td>1.4</td>\n",
       "      <td>&gt;200.0</td>\n",
       "      <td>NaN</td>\n",
       "      <td>NaN</td>\n",
       "      <td>NaN</td>\n",
       "      <td>NaN</td>\n",
       "      <td>NaN</td>\n",
       "      <td>NaN</td>\n",
       "      <td>63.0</td>\n",
       "      <td>0.0</td>\n",
       "    </tr>\n",
       "  </tbody>\n",
       "</table>\n",
       "<p>5 rows × 99 columns</p>\n",
       "</div>"
      ],
      "text/plain": [
       "  record_id  sex (1:M, 2:F)        DOB  age_days  age_months  age_years  \\\n",
       "0     P-001               1   6/5/2019       127         4.2        0.3   \n",
       "1     P-002               1  1/13/2019       508        16.7        1.4   \n",
       "2     P-003               2   7/8/2005      5535       181.8       15.2   \n",
       "3     P-004               1  9/29/2020         2         0.1        0.0   \n",
       "4     P-005               2  10/2/2020         2         0.1        0.0   \n",
       "\n",
       "             Diagnosis                      Diagnosis_note  weight  \\\n",
       "0       Cardiac Arrest                     Hypertrophic CM    5.91   \n",
       "1       Cardiac Arrest    Liver Failure, Cardiogenic Shock    9.80   \n",
       "2               Sepsis       Secondary LV failure and ARDS   56.50   \n",
       "3  Respiratory Failure                  CDH, pulmonary HTN    3.19   \n",
       "4  Respiratory Failure  Meconium Aspiration, Pulmonary HTN    3.30   \n",
       "\n",
       "   study_height  ...  Highest INR.1  Highest PTT.1  \\\n",
       "0          61.5  ...            2.1         >200.0   \n",
       "1          77.0  ...            2.9          143.1   \n",
       "2         160.0  ...            1.5         >200.0   \n",
       "3          48.0  ...            NaN            NaN   \n",
       "4          51.0  ...            1.4         >200.0   \n",
       "\n",
       "   Lowest arterial pulse pressure   \\\n",
       "0                              NaN   \n",
       "1                              NaN   \n",
       "2                              NaN   \n",
       "3                              NaN   \n",
       "4                              NaN   \n",
       "\n",
       "  Is lowest arterial pulse pressure <25% of systolic blood pressure (yes/no)   \\\n",
       "0                                                NaN                            \n",
       "1                                                NaN                            \n",
       "2                                                NaN                            \n",
       "3                                                NaN                            \n",
       "4                                                NaN                            \n",
       "\n",
       "  Lowest cerebral NIRs value (rSO2)    \\\n",
       "0                                 NaN   \n",
       "1                                 NaN   \n",
       "2                                46.0   \n",
       "3                                 NaN   \n",
       "4                                 NaN   \n",
       "\n",
       "  Does that patient have rSO2 measurements < 40%? (yes/no)   \\\n",
       "0                                                NaN          \n",
       "1                                                NaN          \n",
       "2                                                0.0          \n",
       "3                                                NaN          \n",
       "4                                                NaN          \n",
       "\n",
       "  Lowest arterial pulse pressure .1  \\\n",
       "0                               NaN   \n",
       "1                               NaN   \n",
       "2                               NaN   \n",
       "3                               NaN   \n",
       "4                               NaN   \n",
       "\n",
       "  Is lowest arterial pulse pressure <25% of systolic blood pressure (yes/no) .1  \\\n",
       "0                                                NaN                              \n",
       "1                                                NaN                              \n",
       "2                                                NaN                              \n",
       "3                                                NaN                              \n",
       "4                                                NaN                              \n",
       "\n",
       "   Lowest cerebral NIRs value (rSO2)  .1  \\\n",
       "0                                    NaN   \n",
       "1                                   21.0   \n",
       "2                                   49.0   \n",
       "3                                    NaN   \n",
       "4                                   63.0   \n",
       "\n",
       "  Does that patient have rSO2 measurements < 40%? (yes/no) .1  \n",
       "0                                                NaN           \n",
       "1                                                1.0           \n",
       "2                                                0.0           \n",
       "3                                                NaN           \n",
       "4                                                0.0           \n",
       "\n",
       "[5 rows x 99 columns]"
      ]
     },
     "execution_count": 57,
     "metadata": {},
     "output_type": "execute_result"
    }
   ],
   "source": [
    "df.head()"
   ]
  },
  {
   "cell_type": "code",
   "execution_count": 59,
   "id": "a88fd2ab-1eba-456e-aed8-8707b4243a5d",
   "metadata": {},
   "outputs": [],
   "source": [
    "df_ge8 = df.loc[df['NIS Total'] >= 8]"
   ]
  },
  {
   "cell_type": "code",
   "execution_count": null,
   "id": "d57a7963-8439-4bfb-bad0-623efe3e3064",
   "metadata": {},
   "outputs": [],
   "source": []
  },
  {
   "cell_type": "code",
   "execution_count": null,
   "id": "02e9db58-4a3f-43e3-9701-8b64f24f48cc",
   "metadata": {},
   "outputs": [],
   "source": []
  },
  {
   "cell_type": "code",
   "execution_count": 71,
   "id": "d03b077c-5806-4069-921d-90dbe9d98986",
   "metadata": {},
   "outputs": [
    {
     "name": "stdout",
     "output_type": "stream",
     "text": [
      "[1, 2, 16, 19, 21, 22, 25, 37, 39, 43, 44, 47, 50, 56, 58, 62, 65, 66, 73, 78]\n"
     ]
    }
   ],
   "source": [
    "             pd.to_numeric(df_ge8['record_id'].astype(str).str.extract(r'(\\d+)')[0], errors='coerce')\n",
    "      .dropna()\n",
    "      .astype(int)\n",
    "      .tolist()\n",
    ")\n",
    "\n",
    "print(patient_ids)"
   ]
  },
  {
   "cell_type": "code",
   "execution_count": 73,
   "id": "a41a1509-c166-482e-b6bc-dfdf50a255b7",
   "metadata": {},
   "outputs": [
    {
     "data": {
      "text/plain": [
       "20"
      ]
     },
     "execution_count": 73,
     "metadata": {},
     "output_type": "execute_result"
    }
   ],
   "source": [
    "len(patient_ids)"
   ]
  },
  {
   "cell_type": "code",
   "execution_count": 75,
   "id": "934cfea7-caf9-4f0f-a0d9-9f709ff28b12",
   "metadata": {},
   "outputs": [
    {
     "data": {
      "text/plain": [
       "[1, 2, 16, 19, 21, 22, 25, 37, 39, 43, 44, 47, 50, 56, 58, 62, 65, 66, 73, 78]"
      ]
     },
     "execution_count": 75,
     "metadata": {},
     "output_type": "execute_result"
    }
   ],
   "source": [
    "[1, 2, 16, 19, 21, 22, 25, 37, 39, 43, 44, 47, 50, 56, 58, 62, 65, 66, 73, 78]"
   ]
  },
  {
   "cell_type": "code",
   "execution_count": 77,
   "id": "9979f755-e7a5-4dd2-a099-f50fbac2ed32",
   "metadata": {},
   "outputs": [
    {
     "data": {
      "text/plain": [
       "[1, 2, 16, 19, 21, 22, 25, 37, 39, 43, 44, 50, 56, 58, 62, 65, 66, 73, 78]"
      ]
     },
     "execution_count": 77,
     "metadata": {},
     "output_type": "execute_result"
    }
   ],
   "source": [
    "[1, 2, 16, 19, 21, 22, 25, 37, 39, 43, 44, 50, 56, 58, 62, 65, 66, 73, 78]"
   ]
  },
  {
   "cell_type": "code",
   "execution_count": null,
   "id": "1ab9f0cf-8467-480b-a65f-d397ef26f4b1",
   "metadata": {},
   "outputs": [],
   "source": []
  },
  {
   "cell_type": "code",
   "execution_count": null,
   "id": "13a30da5-bd68-47c2-8fea-de2571432878",
   "metadata": {},
   "outputs": [],
   "source": []
  }
 ],
 "metadata": {
  "kernelspec": {
   "display_name": "Python [conda env:base] *",
   "language": "python",
   "name": "conda-base-py"
  },
  "language_info": {
   "codemirror_mode": {
    "name": "ipython",
    "version": 3
   },
   "file_extension": ".py",
   "mimetype": "text/x-python",
   "name": "python",
   "nbconvert_exporter": "python",
   "pygments_lexer": "ipython3",
   "version": "3.12.3"
  }
 },
 "nbformat": 4,
 "nbformat_minor": 5
}
